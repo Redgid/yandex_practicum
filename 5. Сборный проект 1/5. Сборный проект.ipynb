{
 "cells": [
  {
   "cell_type": "markdown",
   "metadata": {},
   "source": [
    "# Сборный проект №1. Анализ GameDev индустрии."
   ]
  },
  {
   "cell_type": "markdown",
   "metadata": {},
   "source": [
    "**Описание проекта**"
   ]
  },
  {
   "cell_type": "markdown",
   "metadata": {},
   "source": [
    "Мы работаем в интернет-магазине «Стримчик», который продаёт по всему миру компьютерные игры. Из открытых источников доступны исторические данные о продажах игр, оценки пользователей и экспертов, жанры и платформы (например, Xbox или PlayStation). Нам нужно выявить определяющие успешность игры закономерности. Это позволит сделать ставку на потенциально популярный продукт и спланировать рекламные кампании.\n",
    "Перед нами данные до 2016 года. Представим, что сейчас декабрь 2016 г., и мы планируем кампанию на 2017-й"
   ]
  },
  {
   "cell_type": "markdown",
   "metadata": {},
   "source": [
    "## Изучение данных"
   ]
  },
  {
   "cell_type": "markdown",
   "metadata": {},
   "source": [
    "**Описание данных**"
   ]
  },
  {
   "cell_type": "markdown",
   "metadata": {},
   "source": [
    "- `Name` — название игры\n",
    "- `Platform` — платформа\n",
    "- `Year_of_Release` — год выпуска\n",
    "- `Genre` — жанр игры\n",
    "- `NA_sales` — продажи в Северной Америке (миллионы проданных копий)\n",
    "- `EU_sales` — продажи в Европе (миллионы проданных копий)\n",
    "- `JP_sales` — продажи в Японии (миллионы проданных копий)\n",
    "- `Other_sales` — продажи в других странах (миллионы проданных копий)\n",
    "- `Critic_Score` — оценка критиков (максимум 100)\n",
    "- `User_Score` — оценка пользователей (максимум 10)\n",
    "- `Rating` — рейтинг от организации ESRB (англ. Entertainment Software Rating Board). Эта ассоциация определяет рейтинг компьютерных игр и присваивает им подходящую возрастную категорию."
   ]
  },
  {
   "cell_type": "code",
   "execution_count": 1,
   "metadata": {},
   "outputs": [],
   "source": [
    "#импортируем необходимые библиотеки\n",
    "import pandas as pd\n",
    "import numpy as np\n",
    "import matplotlib.pyplot as plt\n",
    "import seaborn as sns\n",
    "\n",
    "from datetime import datetime\n",
    "from scipy import stats as st"
   ]
  },
  {
   "cell_type": "code",
   "execution_count": 2,
   "metadata": {},
   "outputs": [
    {
     "name": "stdout",
     "output_type": "stream",
     "text": [
      "<class 'pandas.core.frame.DataFrame'>\n",
      "RangeIndex: 16715 entries, 0 to 16714\n",
      "Data columns (total 11 columns):\n",
      " #   Column           Non-Null Count  Dtype  \n",
      "---  ------           --------------  -----  \n",
      " 0   Name             16713 non-null  object \n",
      " 1   Platform         16715 non-null  object \n",
      " 2   Year_of_Release  16446 non-null  float64\n",
      " 3   Genre            16713 non-null  object \n",
      " 4   NA_sales         16715 non-null  float64\n",
      " 5   EU_sales         16715 non-null  float64\n",
      " 6   JP_sales         16715 non-null  float64\n",
      " 7   Other_sales      16715 non-null  float64\n",
      " 8   Critic_Score     8137 non-null   float64\n",
      " 9   User_Score       10014 non-null  object \n",
      " 10  Rating           9949 non-null   object \n",
      "dtypes: float64(6), object(5)\n",
      "memory usage: 1.4+ MB\n"
     ]
    },
    {
     "data": {
      "text/html": [
       "<div>\n",
       "<style scoped>\n",
       "    .dataframe tbody tr th:only-of-type {\n",
       "        vertical-align: middle;\n",
       "    }\n",
       "\n",
       "    .dataframe tbody tr th {\n",
       "        vertical-align: top;\n",
       "    }\n",
       "\n",
       "    .dataframe thead th {\n",
       "        text-align: right;\n",
       "    }\n",
       "</style>\n",
       "<table border=\"1\" class=\"dataframe\">\n",
       "  <thead>\n",
       "    <tr style=\"text-align: right;\">\n",
       "      <th></th>\n",
       "      <th>Name</th>\n",
       "      <th>Platform</th>\n",
       "      <th>Year_of_Release</th>\n",
       "      <th>Genre</th>\n",
       "      <th>NA_sales</th>\n",
       "      <th>EU_sales</th>\n",
       "      <th>JP_sales</th>\n",
       "      <th>Other_sales</th>\n",
       "      <th>Critic_Score</th>\n",
       "      <th>User_Score</th>\n",
       "      <th>Rating</th>\n",
       "    </tr>\n",
       "  </thead>\n",
       "  <tbody>\n",
       "    <tr>\n",
       "      <th>0</th>\n",
       "      <td>Wii Sports</td>\n",
       "      <td>Wii</td>\n",
       "      <td>2006.0</td>\n",
       "      <td>Sports</td>\n",
       "      <td>41.36</td>\n",
       "      <td>28.96</td>\n",
       "      <td>3.77</td>\n",
       "      <td>8.45</td>\n",
       "      <td>76.0</td>\n",
       "      <td>8</td>\n",
       "      <td>E</td>\n",
       "    </tr>\n",
       "    <tr>\n",
       "      <th>1</th>\n",
       "      <td>Super Mario Bros.</td>\n",
       "      <td>NES</td>\n",
       "      <td>1985.0</td>\n",
       "      <td>Platform</td>\n",
       "      <td>29.08</td>\n",
       "      <td>3.58</td>\n",
       "      <td>6.81</td>\n",
       "      <td>0.77</td>\n",
       "      <td>NaN</td>\n",
       "      <td>NaN</td>\n",
       "      <td>NaN</td>\n",
       "    </tr>\n",
       "    <tr>\n",
       "      <th>2</th>\n",
       "      <td>Mario Kart Wii</td>\n",
       "      <td>Wii</td>\n",
       "      <td>2008.0</td>\n",
       "      <td>Racing</td>\n",
       "      <td>15.68</td>\n",
       "      <td>12.76</td>\n",
       "      <td>3.79</td>\n",
       "      <td>3.29</td>\n",
       "      <td>82.0</td>\n",
       "      <td>8.3</td>\n",
       "      <td>E</td>\n",
       "    </tr>\n",
       "    <tr>\n",
       "      <th>3</th>\n",
       "      <td>Wii Sports Resort</td>\n",
       "      <td>Wii</td>\n",
       "      <td>2009.0</td>\n",
       "      <td>Sports</td>\n",
       "      <td>15.61</td>\n",
       "      <td>10.93</td>\n",
       "      <td>3.28</td>\n",
       "      <td>2.95</td>\n",
       "      <td>80.0</td>\n",
       "      <td>8</td>\n",
       "      <td>E</td>\n",
       "    </tr>\n",
       "    <tr>\n",
       "      <th>4</th>\n",
       "      <td>Pokemon Red/Pokemon Blue</td>\n",
       "      <td>GB</td>\n",
       "      <td>1996.0</td>\n",
       "      <td>Role-Playing</td>\n",
       "      <td>11.27</td>\n",
       "      <td>8.89</td>\n",
       "      <td>10.22</td>\n",
       "      <td>1.00</td>\n",
       "      <td>NaN</td>\n",
       "      <td>NaN</td>\n",
       "      <td>NaN</td>\n",
       "    </tr>\n",
       "  </tbody>\n",
       "</table>\n",
       "</div>"
      ],
      "text/plain": [
       "                       Name Platform  Year_of_Release         Genre  NA_sales  \\\n",
       "0                Wii Sports      Wii           2006.0        Sports     41.36   \n",
       "1         Super Mario Bros.      NES           1985.0      Platform     29.08   \n",
       "2            Mario Kart Wii      Wii           2008.0        Racing     15.68   \n",
       "3         Wii Sports Resort      Wii           2009.0        Sports     15.61   \n",
       "4  Pokemon Red/Pokemon Blue       GB           1996.0  Role-Playing     11.27   \n",
       "\n",
       "   EU_sales  JP_sales  Other_sales  Critic_Score User_Score Rating  \n",
       "0     28.96      3.77         8.45          76.0          8      E  \n",
       "1      3.58      6.81         0.77           NaN        NaN    NaN  \n",
       "2     12.76      3.79         3.29          82.0        8.3      E  \n",
       "3     10.93      3.28         2.95          80.0          8      E  \n",
       "4      8.89     10.22         1.00           NaN        NaN    NaN  "
      ]
     },
     "metadata": {},
     "output_type": "display_data"
    },
    {
     "data": {
      "text/html": [
       "<div>\n",
       "<style scoped>\n",
       "    .dataframe tbody tr th:only-of-type {\n",
       "        vertical-align: middle;\n",
       "    }\n",
       "\n",
       "    .dataframe tbody tr th {\n",
       "        vertical-align: top;\n",
       "    }\n",
       "\n",
       "    .dataframe thead th {\n",
       "        text-align: right;\n",
       "    }\n",
       "</style>\n",
       "<table border=\"1\" class=\"dataframe\">\n",
       "  <thead>\n",
       "    <tr style=\"text-align: right;\">\n",
       "      <th></th>\n",
       "      <th>Name</th>\n",
       "      <th>Platform</th>\n",
       "      <th>Year_of_Release</th>\n",
       "      <th>Genre</th>\n",
       "      <th>NA_sales</th>\n",
       "      <th>EU_sales</th>\n",
       "      <th>JP_sales</th>\n",
       "      <th>Other_sales</th>\n",
       "      <th>Critic_Score</th>\n",
       "      <th>User_Score</th>\n",
       "      <th>Rating</th>\n",
       "    </tr>\n",
       "  </thead>\n",
       "  <tbody>\n",
       "    <tr>\n",
       "      <th>16710</th>\n",
       "      <td>Samurai Warriors: Sanada Maru</td>\n",
       "      <td>PS3</td>\n",
       "      <td>2016.0</td>\n",
       "      <td>Action</td>\n",
       "      <td>0.00</td>\n",
       "      <td>0.00</td>\n",
       "      <td>0.01</td>\n",
       "      <td>0.0</td>\n",
       "      <td>NaN</td>\n",
       "      <td>NaN</td>\n",
       "      <td>NaN</td>\n",
       "    </tr>\n",
       "    <tr>\n",
       "      <th>16711</th>\n",
       "      <td>LMA Manager 2007</td>\n",
       "      <td>X360</td>\n",
       "      <td>2006.0</td>\n",
       "      <td>Sports</td>\n",
       "      <td>0.00</td>\n",
       "      <td>0.01</td>\n",
       "      <td>0.00</td>\n",
       "      <td>0.0</td>\n",
       "      <td>NaN</td>\n",
       "      <td>NaN</td>\n",
       "      <td>NaN</td>\n",
       "    </tr>\n",
       "    <tr>\n",
       "      <th>16712</th>\n",
       "      <td>Haitaka no Psychedelica</td>\n",
       "      <td>PSV</td>\n",
       "      <td>2016.0</td>\n",
       "      <td>Adventure</td>\n",
       "      <td>0.00</td>\n",
       "      <td>0.00</td>\n",
       "      <td>0.01</td>\n",
       "      <td>0.0</td>\n",
       "      <td>NaN</td>\n",
       "      <td>NaN</td>\n",
       "      <td>NaN</td>\n",
       "    </tr>\n",
       "    <tr>\n",
       "      <th>16713</th>\n",
       "      <td>Spirits &amp; Spells</td>\n",
       "      <td>GBA</td>\n",
       "      <td>2003.0</td>\n",
       "      <td>Platform</td>\n",
       "      <td>0.01</td>\n",
       "      <td>0.00</td>\n",
       "      <td>0.00</td>\n",
       "      <td>0.0</td>\n",
       "      <td>NaN</td>\n",
       "      <td>NaN</td>\n",
       "      <td>NaN</td>\n",
       "    </tr>\n",
       "    <tr>\n",
       "      <th>16714</th>\n",
       "      <td>Winning Post 8 2016</td>\n",
       "      <td>PSV</td>\n",
       "      <td>2016.0</td>\n",
       "      <td>Simulation</td>\n",
       "      <td>0.00</td>\n",
       "      <td>0.00</td>\n",
       "      <td>0.01</td>\n",
       "      <td>0.0</td>\n",
       "      <td>NaN</td>\n",
       "      <td>NaN</td>\n",
       "      <td>NaN</td>\n",
       "    </tr>\n",
       "  </tbody>\n",
       "</table>\n",
       "</div>"
      ],
      "text/plain": [
       "                                Name Platform  Year_of_Release       Genre  \\\n",
       "16710  Samurai Warriors: Sanada Maru      PS3           2016.0      Action   \n",
       "16711               LMA Manager 2007     X360           2006.0      Sports   \n",
       "16712        Haitaka no Psychedelica      PSV           2016.0   Adventure   \n",
       "16713               Spirits & Spells      GBA           2003.0    Platform   \n",
       "16714            Winning Post 8 2016      PSV           2016.0  Simulation   \n",
       "\n",
       "       NA_sales  EU_sales  JP_sales  Other_sales  Critic_Score User_Score  \\\n",
       "16710      0.00      0.00      0.01          0.0           NaN        NaN   \n",
       "16711      0.00      0.01      0.00          0.0           NaN        NaN   \n",
       "16712      0.00      0.00      0.01          0.0           NaN        NaN   \n",
       "16713      0.01      0.00      0.00          0.0           NaN        NaN   \n",
       "16714      0.00      0.00      0.01          0.0           NaN        NaN   \n",
       "\n",
       "      Rating  \n",
       "16710    NaN  \n",
       "16711    NaN  \n",
       "16712    NaN  \n",
       "16713    NaN  \n",
       "16714    NaN  "
      ]
     },
     "metadata": {},
     "output_type": "display_data"
    },
    {
     "data": {
      "text/html": [
       "<div>\n",
       "<style scoped>\n",
       "    .dataframe tbody tr th:only-of-type {\n",
       "        vertical-align: middle;\n",
       "    }\n",
       "\n",
       "    .dataframe tbody tr th {\n",
       "        vertical-align: top;\n",
       "    }\n",
       "\n",
       "    .dataframe thead th {\n",
       "        text-align: right;\n",
       "    }\n",
       "</style>\n",
       "<table border=\"1\" class=\"dataframe\">\n",
       "  <thead>\n",
       "    <tr style=\"text-align: right;\">\n",
       "      <th></th>\n",
       "      <th>Name</th>\n",
       "      <th>Platform</th>\n",
       "      <th>Year_of_Release</th>\n",
       "      <th>Genre</th>\n",
       "      <th>NA_sales</th>\n",
       "      <th>EU_sales</th>\n",
       "      <th>JP_sales</th>\n",
       "      <th>Other_sales</th>\n",
       "      <th>Critic_Score</th>\n",
       "      <th>User_Score</th>\n",
       "      <th>Rating</th>\n",
       "    </tr>\n",
       "  </thead>\n",
       "  <tbody>\n",
       "    <tr>\n",
       "      <th>14518</th>\n",
       "      <td>Kokoro no Kokoron</td>\n",
       "      <td>DS</td>\n",
       "      <td>2011.0</td>\n",
       "      <td>Misc</td>\n",
       "      <td>0.00</td>\n",
       "      <td>0.00</td>\n",
       "      <td>0.03</td>\n",
       "      <td>0.00</td>\n",
       "      <td>NaN</td>\n",
       "      <td>NaN</td>\n",
       "      <td>NaN</td>\n",
       "    </tr>\n",
       "    <tr>\n",
       "      <th>11802</th>\n",
       "      <td>Legend of the Guardians: The Owls of Ga'Hoole</td>\n",
       "      <td>X360</td>\n",
       "      <td>2010.0</td>\n",
       "      <td>Action</td>\n",
       "      <td>0.06</td>\n",
       "      <td>0.01</td>\n",
       "      <td>0.00</td>\n",
       "      <td>0.01</td>\n",
       "      <td>60.0</td>\n",
       "      <td>8</td>\n",
       "      <td>E10+</td>\n",
       "    </tr>\n",
       "    <tr>\n",
       "      <th>7165</th>\n",
       "      <td>Crazy Climber</td>\n",
       "      <td>2600</td>\n",
       "      <td>1981.0</td>\n",
       "      <td>Action</td>\n",
       "      <td>0.21</td>\n",
       "      <td>0.01</td>\n",
       "      <td>0.00</td>\n",
       "      <td>0.00</td>\n",
       "      <td>NaN</td>\n",
       "      <td>NaN</td>\n",
       "      <td>NaN</td>\n",
       "    </tr>\n",
       "    <tr>\n",
       "      <th>15258</th>\n",
       "      <td>Doki Majo Plus</td>\n",
       "      <td>DS</td>\n",
       "      <td>2009.0</td>\n",
       "      <td>Adventure</td>\n",
       "      <td>0.00</td>\n",
       "      <td>0.00</td>\n",
       "      <td>0.02</td>\n",
       "      <td>0.00</td>\n",
       "      <td>NaN</td>\n",
       "      <td>NaN</td>\n",
       "      <td>NaN</td>\n",
       "    </tr>\n",
       "    <tr>\n",
       "      <th>1831</th>\n",
       "      <td>Persona 4: Golden</td>\n",
       "      <td>PSV</td>\n",
       "      <td>2012.0</td>\n",
       "      <td>Role-Playing</td>\n",
       "      <td>0.36</td>\n",
       "      <td>0.23</td>\n",
       "      <td>0.38</td>\n",
       "      <td>0.15</td>\n",
       "      <td>93.0</td>\n",
       "      <td>9.2</td>\n",
       "      <td>M</td>\n",
       "    </tr>\n",
       "  </tbody>\n",
       "</table>\n",
       "</div>"
      ],
      "text/plain": [
       "                                                Name Platform  \\\n",
       "14518                              Kokoro no Kokoron       DS   \n",
       "11802  Legend of the Guardians: The Owls of Ga'Hoole     X360   \n",
       "7165                                   Crazy Climber     2600   \n",
       "15258                                 Doki Majo Plus       DS   \n",
       "1831                               Persona 4: Golden      PSV   \n",
       "\n",
       "       Year_of_Release         Genre  NA_sales  EU_sales  JP_sales  \\\n",
       "14518           2011.0          Misc      0.00      0.00      0.03   \n",
       "11802           2010.0        Action      0.06      0.01      0.00   \n",
       "7165            1981.0        Action      0.21      0.01      0.00   \n",
       "15258           2009.0     Adventure      0.00      0.00      0.02   \n",
       "1831            2012.0  Role-Playing      0.36      0.23      0.38   \n",
       "\n",
       "       Other_sales  Critic_Score User_Score Rating  \n",
       "14518         0.00           NaN        NaN    NaN  \n",
       "11802         0.01          60.0          8   E10+  \n",
       "7165          0.00           NaN        NaN    NaN  \n",
       "15258         0.00           NaN        NaN    NaN  \n",
       "1831          0.15          93.0        9.2      M  "
      ]
     },
     "metadata": {},
     "output_type": "display_data"
    },
    {
     "data": {
      "text/html": [
       "<div>\n",
       "<style scoped>\n",
       "    .dataframe tbody tr th:only-of-type {\n",
       "        vertical-align: middle;\n",
       "    }\n",
       "\n",
       "    .dataframe tbody tr th {\n",
       "        vertical-align: top;\n",
       "    }\n",
       "\n",
       "    .dataframe thead th {\n",
       "        text-align: right;\n",
       "    }\n",
       "</style>\n",
       "<table border=\"1\" class=\"dataframe\">\n",
       "  <thead>\n",
       "    <tr style=\"text-align: right;\">\n",
       "      <th></th>\n",
       "      <th>Year_of_Release</th>\n",
       "      <th>NA_sales</th>\n",
       "      <th>EU_sales</th>\n",
       "      <th>JP_sales</th>\n",
       "      <th>Other_sales</th>\n",
       "      <th>Critic_Score</th>\n",
       "    </tr>\n",
       "  </thead>\n",
       "  <tbody>\n",
       "    <tr>\n",
       "      <th>count</th>\n",
       "      <td>16446.000000</td>\n",
       "      <td>16715.000000</td>\n",
       "      <td>16715.000000</td>\n",
       "      <td>16715.000000</td>\n",
       "      <td>16715.000000</td>\n",
       "      <td>8137.000000</td>\n",
       "    </tr>\n",
       "    <tr>\n",
       "      <th>mean</th>\n",
       "      <td>2006.484616</td>\n",
       "      <td>0.263377</td>\n",
       "      <td>0.145060</td>\n",
       "      <td>0.077617</td>\n",
       "      <td>0.047342</td>\n",
       "      <td>68.967679</td>\n",
       "    </tr>\n",
       "    <tr>\n",
       "      <th>std</th>\n",
       "      <td>5.877050</td>\n",
       "      <td>0.813604</td>\n",
       "      <td>0.503339</td>\n",
       "      <td>0.308853</td>\n",
       "      <td>0.186731</td>\n",
       "      <td>13.938165</td>\n",
       "    </tr>\n",
       "    <tr>\n",
       "      <th>min</th>\n",
       "      <td>1980.000000</td>\n",
       "      <td>0.000000</td>\n",
       "      <td>0.000000</td>\n",
       "      <td>0.000000</td>\n",
       "      <td>0.000000</td>\n",
       "      <td>13.000000</td>\n",
       "    </tr>\n",
       "    <tr>\n",
       "      <th>25%</th>\n",
       "      <td>2003.000000</td>\n",
       "      <td>0.000000</td>\n",
       "      <td>0.000000</td>\n",
       "      <td>0.000000</td>\n",
       "      <td>0.000000</td>\n",
       "      <td>60.000000</td>\n",
       "    </tr>\n",
       "    <tr>\n",
       "      <th>50%</th>\n",
       "      <td>2007.000000</td>\n",
       "      <td>0.080000</td>\n",
       "      <td>0.020000</td>\n",
       "      <td>0.000000</td>\n",
       "      <td>0.010000</td>\n",
       "      <td>71.000000</td>\n",
       "    </tr>\n",
       "    <tr>\n",
       "      <th>75%</th>\n",
       "      <td>2010.000000</td>\n",
       "      <td>0.240000</td>\n",
       "      <td>0.110000</td>\n",
       "      <td>0.040000</td>\n",
       "      <td>0.030000</td>\n",
       "      <td>79.000000</td>\n",
       "    </tr>\n",
       "    <tr>\n",
       "      <th>max</th>\n",
       "      <td>2016.000000</td>\n",
       "      <td>41.360000</td>\n",
       "      <td>28.960000</td>\n",
       "      <td>10.220000</td>\n",
       "      <td>10.570000</td>\n",
       "      <td>98.000000</td>\n",
       "    </tr>\n",
       "  </tbody>\n",
       "</table>\n",
       "</div>"
      ],
      "text/plain": [
       "       Year_of_Release      NA_sales      EU_sales      JP_sales  \\\n",
       "count     16446.000000  16715.000000  16715.000000  16715.000000   \n",
       "mean       2006.484616      0.263377      0.145060      0.077617   \n",
       "std           5.877050      0.813604      0.503339      0.308853   \n",
       "min        1980.000000      0.000000      0.000000      0.000000   \n",
       "25%        2003.000000      0.000000      0.000000      0.000000   \n",
       "50%        2007.000000      0.080000      0.020000      0.000000   \n",
       "75%        2010.000000      0.240000      0.110000      0.040000   \n",
       "max        2016.000000     41.360000     28.960000     10.220000   \n",
       "\n",
       "        Other_sales  Critic_Score  \n",
       "count  16715.000000   8137.000000  \n",
       "mean       0.047342     68.967679  \n",
       "std        0.186731     13.938165  \n",
       "min        0.000000     13.000000  \n",
       "25%        0.000000     60.000000  \n",
       "50%        0.010000     71.000000  \n",
       "75%        0.030000     79.000000  \n",
       "max       10.570000     98.000000  "
      ]
     },
     "metadata": {},
     "output_type": "display_data"
    },
    {
     "data": {
      "text/plain": [
       "None"
      ]
     },
     "metadata": {},
     "output_type": "display_data"
    }
   ],
   "source": [
    "#прочитаем файл\n",
    "df = pd.read_csv('/datasets/games.csv')\n",
    "#и посмотрим на него\n",
    "display(df.head(),df.tail(),df.sample(5),df.describe(),df.info())"
   ]
  },
  {
   "cell_type": "markdown",
   "metadata": {},
   "source": [
    "**Выводы**:\n",
    "- Некорректные название столбцов\n",
    "- Неправильные типы данных по некоторым столбцам \n",
    "- Есть пропуски. Нужно разобраться что с ними делать (заменять/удалять/не трогать)\n",
    "- Проверить на дубликаты (очевидные и неочевидные)"
   ]
  },
  {
   "cell_type": "markdown",
   "metadata": {},
   "source": [
    "Исправим все недочёты на стадии предобработки данных"
   ]
  },
  {
   "cell_type": "markdown",
   "metadata": {},
   "source": [
    "## Предобработка данных"
   ]
  },
  {
   "cell_type": "code",
   "execution_count": 3,
   "metadata": {},
   "outputs": [
    {
     "data": {
      "text/plain": [
       "Index(['Name', 'Platform', 'Year_of_Release', 'Genre', 'NA_sales', 'EU_sales',\n",
       "       'JP_sales', 'Other_sales', 'Critic_Score', 'User_Score', 'Rating'],\n",
       "      dtype='object')"
      ]
     },
     "execution_count": 3,
     "metadata": {},
     "output_type": "execute_result"
    }
   ],
   "source": [
    "#Посмотрим на названия столбцов\n",
    "df.columns"
   ]
  },
  {
   "cell_type": "markdown",
   "metadata": {},
   "source": [
    "Сами название корректны. Приведём только все к нижнему регистру"
   ]
  },
  {
   "cell_type": "code",
   "execution_count": 4,
   "metadata": {},
   "outputs": [
    {
     "data": {
      "text/plain": [
       "Index(['name', 'platform', 'year_of_release', 'genre', 'na_sales', 'eu_sales',\n",
       "       'jp_sales', 'other_sales', 'critic_score', 'user_score', 'rating'],\n",
       "      dtype='object')"
      ]
     },
     "execution_count": 4,
     "metadata": {},
     "output_type": "execute_result"
    }
   ],
   "source": [
    "df.columns = df.columns.str.lower()\n",
    "#проверим\n",
    "df.columns"
   ]
  },
  {
   "cell_type": "markdown",
   "metadata": {},
   "source": [
    "Отлично. \\\n",
    "Посмотрим на типы данных и решим, что нужно заменить"
   ]
  },
  {
   "cell_type": "code",
   "execution_count": 5,
   "metadata": {},
   "outputs": [
    {
     "name": "stdout",
     "output_type": "stream",
     "text": [
      "<class 'pandas.core.frame.DataFrame'>\n",
      "RangeIndex: 16715 entries, 0 to 16714\n",
      "Data columns (total 11 columns):\n",
      " #   Column           Non-Null Count  Dtype  \n",
      "---  ------           --------------  -----  \n",
      " 0   name             16713 non-null  object \n",
      " 1   platform         16715 non-null  object \n",
      " 2   year_of_release  16446 non-null  float64\n",
      " 3   genre            16713 non-null  object \n",
      " 4   na_sales         16715 non-null  float64\n",
      " 5   eu_sales         16715 non-null  float64\n",
      " 6   jp_sales         16715 non-null  float64\n",
      " 7   other_sales      16715 non-null  float64\n",
      " 8   critic_score     8137 non-null   float64\n",
      " 9   user_score       10014 non-null  object \n",
      " 10  rating           9949 non-null   object \n",
      "dtypes: float64(6), object(5)\n",
      "memory usage: 1.4+ MB\n"
     ]
    }
   ],
   "source": [
    "df.info()"
   ]
  },
  {
   "cell_type": "markdown",
   "metadata": {},
   "source": [
    "`year_of_release` - тип object заменим на int \\\n",
    "По остальным всё хорошо"
   ]
  },
  {
   "cell_type": "code",
   "execution_count": 6,
   "metadata": {},
   "outputs": [],
   "source": [
    "df['year_of_release'] = pd.array(df['year_of_release'], dtype = pd.Int64Dtype())"
   ]
  },
  {
   "cell_type": "markdown",
   "metadata": {},
   "source": [
    "Разберемся с пропусками "
   ]
  },
  {
   "cell_type": "code",
   "execution_count": 7,
   "metadata": {},
   "outputs": [
    {
     "data": {
      "text/plain": [
       "name                  2\n",
       "platform              0\n",
       "year_of_release     269\n",
       "genre                 2\n",
       "na_sales              0\n",
       "eu_sales              0\n",
       "jp_sales              0\n",
       "other_sales           0\n",
       "critic_score       8578\n",
       "user_score         6701\n",
       "rating             6766\n",
       "dtype: int64"
      ]
     },
     "execution_count": 7,
     "metadata": {},
     "output_type": "execute_result"
    }
   ],
   "source": [
    "df.isna().sum()"
   ]
  },
  {
   "cell_type": "markdown",
   "metadata": {},
   "source": [
    "- `name` и `genre` имеют всего по 2 пропуска. Смысла их заменять/удалять нет, оставим ,как есть\n",
    "- `year_of_release` - при предосмотре данных (методом describe) мы увидели, что год выпуска находится между 1980 и 2016. Но заменять средний или медианным значением мы не можем. Так как у нас к определенному году привяжется 269 дополнительных игр, что отразится, на дальнейшем анализе и он будет недостоверным. Оставим ,как есть.\n",
    "- `critic_score`,`user_score`  - это оценочные показатели. Здесь мы тоже не можем заменять пропуски средним или медианным значеним. Так же нельзя заменить пропуски нулями (оценка \"0\" тоже бывает). Оставим, как есть."
   ]
  },
  {
   "cell_type": "code",
   "execution_count": 8,
   "metadata": {},
   "outputs": [],
   "source": [
    "#в рейтинге заменим пропуски на \"замену-заглушку\"\n",
    "df['rating'] = df['rating'].fillna('without')"
   ]
  },
  {
   "cell_type": "markdown",
   "metadata": {},
   "source": [
    "Таким образом, никакие пропуски не будем ни удалять, ни заменять. Оставим всё, как есть"
   ]
  },
  {
   "cell_type": "markdown",
   "metadata": {},
   "source": [
    "Проверим данные на дубликаты. Сначала разберемся с неочевидными. Посмотрим на уникальные значения по возможным столбцам "
   ]
  },
  {
   "cell_type": "code",
   "execution_count": 9,
   "metadata": {
    "scrolled": true
   },
   "outputs": [
    {
     "data": {
      "text/plain": [
       "array(['Wii', 'NES', 'GB', 'DS', 'X360', 'PS3', 'PS2', 'SNES', 'GBA',\n",
       "       'PS4', '3DS', 'N64', 'PS', 'XB', 'PC', '2600', 'PSP', 'XOne',\n",
       "       'WiiU', 'GC', 'GEN', 'DC', 'PSV', 'SAT', 'SCD', 'WS', 'NG', 'TG16',\n",
       "       '3DO', 'GG', 'PCFX'], dtype=object)"
      ]
     },
     "execution_count": 9,
     "metadata": {},
     "output_type": "execute_result"
    }
   ],
   "source": [
    "df['platform'].unique()"
   ]
  },
  {
   "cell_type": "markdown",
   "metadata": {},
   "source": [
    "Ух! Платформ много! Сначала я решил, что есть дублирующие варианты. Несколько минут поискать и погружение в тему игровых платформ дали ответ, что это всё разные платформы! \\\n",
    "Да, некоторые из них (например, N64 и NG) это часть одной большой семьи Nintendo. Но всё же они разные. Оставим всё, как есть."
   ]
  },
  {
   "cell_type": "code",
   "execution_count": 10,
   "metadata": {},
   "outputs": [
    {
     "data": {
      "text/plain": [
       "array(['Sports', 'Platform', 'Racing', 'Role-Playing', 'Puzzle', 'Misc',\n",
       "       'Shooter', 'Simulation', 'Action', 'Fighting', 'Adventure',\n",
       "       'Strategy', nan], dtype=object)"
      ]
     },
     "execution_count": 10,
     "metadata": {},
     "output_type": "execute_result"
    }
   ],
   "source": [
    "df['genre'].unique()"
   ]
  },
  {
   "cell_type": "markdown",
   "metadata": {},
   "source": [
    "Здесь всё впорядке. Хочешь собирай пазлы, хочешь стреляй или дерись"
   ]
  },
  {
   "cell_type": "markdown",
   "metadata": {},
   "source": [
    "Отдельно разберемся с абревиатурой tbd в столбце user_score"
   ]
  },
  {
   "cell_type": "code",
   "execution_count": 11,
   "metadata": {},
   "outputs": [
    {
     "data": {
      "text/plain": [
       "array(['8', nan, '8.3', '8.5', '6.6', '8.4', '8.6', '7.7', '6.3', '7.4',\n",
       "       '8.2', '9', '7.9', '8.1', '8.7', '7.1', '3.4', '5.3', '4.8', '3.2',\n",
       "       '8.9', '6.4', '7.8', '7.5', '2.6', '7.2', '9.2', '7', '7.3', '4.3',\n",
       "       '7.6', '5.7', '5', '9.1', '6.5', 'tbd', '8.8', '6.9', '9.4', '6.8',\n",
       "       '6.1', '6.7', '5.4', '4', '4.9', '4.5', '9.3', '6.2', '4.2', '6',\n",
       "       '3.7', '4.1', '5.8', '5.6', '5.5', '4.4', '4.6', '5.9', '3.9',\n",
       "       '3.1', '2.9', '5.2', '3.3', '4.7', '5.1', '3.5', '2.5', '1.9', '3',\n",
       "       '2.7', '2.2', '2', '9.5', '2.1', '3.6', '2.8', '1.8', '3.8', '0',\n",
       "       '1.6', '9.6', '2.4', '1.7', '1.1', '0.3', '1.5', '0.7', '1.2',\n",
       "       '2.3', '0.5', '1.3', '0.2', '0.6', '1.4', '0.9', '1', '9.7'],\n",
       "      dtype=object)"
      ]
     },
     "execution_count": 11,
     "metadata": {},
     "output_type": "execute_result"
    }
   ],
   "source": [
    "df['user_score'].unique()"
   ]
  },
  {
   "cell_type": "markdown",
   "metadata": {},
   "source": [
    "Посмотрим на строки с этим значением "
   ]
  },
  {
   "cell_type": "code",
   "execution_count": 12,
   "metadata": {},
   "outputs": [
    {
     "data": {
      "text/html": [
       "<div>\n",
       "<style scoped>\n",
       "    .dataframe tbody tr th:only-of-type {\n",
       "        vertical-align: middle;\n",
       "    }\n",
       "\n",
       "    .dataframe tbody tr th {\n",
       "        vertical-align: top;\n",
       "    }\n",
       "\n",
       "    .dataframe thead th {\n",
       "        text-align: right;\n",
       "    }\n",
       "</style>\n",
       "<table border=\"1\" class=\"dataframe\">\n",
       "  <thead>\n",
       "    <tr style=\"text-align: right;\">\n",
       "      <th></th>\n",
       "      <th>name</th>\n",
       "      <th>platform</th>\n",
       "      <th>year_of_release</th>\n",
       "      <th>genre</th>\n",
       "      <th>na_sales</th>\n",
       "      <th>eu_sales</th>\n",
       "      <th>jp_sales</th>\n",
       "      <th>other_sales</th>\n",
       "      <th>critic_score</th>\n",
       "      <th>user_score</th>\n",
       "      <th>rating</th>\n",
       "    </tr>\n",
       "  </thead>\n",
       "  <tbody>\n",
       "    <tr>\n",
       "      <th>4210</th>\n",
       "      <td>Iridion 3D</td>\n",
       "      <td>GBA</td>\n",
       "      <td>2001</td>\n",
       "      <td>Shooter</td>\n",
       "      <td>0.33</td>\n",
       "      <td>0.12</td>\n",
       "      <td>0.0</td>\n",
       "      <td>0.01</td>\n",
       "      <td>53.0</td>\n",
       "      <td>tbd</td>\n",
       "      <td>E</td>\n",
       "    </tr>\n",
       "    <tr>\n",
       "      <th>9988</th>\n",
       "      <td>Cabela's North American Adventures</td>\n",
       "      <td>PS3</td>\n",
       "      <td>2010</td>\n",
       "      <td>Sports</td>\n",
       "      <td>0.11</td>\n",
       "      <td>0.00</td>\n",
       "      <td>0.0</td>\n",
       "      <td>0.01</td>\n",
       "      <td>NaN</td>\n",
       "      <td>tbd</td>\n",
       "      <td>T</td>\n",
       "    </tr>\n",
       "    <tr>\n",
       "      <th>9257</th>\n",
       "      <td>Pet Pals: Animal Doctor</td>\n",
       "      <td>Wii</td>\n",
       "      <td>2008</td>\n",
       "      <td>Simulation</td>\n",
       "      <td>0.13</td>\n",
       "      <td>0.00</td>\n",
       "      <td>0.0</td>\n",
       "      <td>0.01</td>\n",
       "      <td>NaN</td>\n",
       "      <td>tbd</td>\n",
       "      <td>E10+</td>\n",
       "    </tr>\n",
       "    <tr>\n",
       "      <th>12141</th>\n",
       "      <td>Jake Power: Handyman</td>\n",
       "      <td>DS</td>\n",
       "      <td>2008</td>\n",
       "      <td>Adventure</td>\n",
       "      <td>0.06</td>\n",
       "      <td>0.00</td>\n",
       "      <td>0.0</td>\n",
       "      <td>0.00</td>\n",
       "      <td>NaN</td>\n",
       "      <td>tbd</td>\n",
       "      <td>E</td>\n",
       "    </tr>\n",
       "    <tr>\n",
       "      <th>10012</th>\n",
       "      <td>SingStar Latino</td>\n",
       "      <td>PS3</td>\n",
       "      <td>2009</td>\n",
       "      <td>Misc</td>\n",
       "      <td>0.11</td>\n",
       "      <td>0.00</td>\n",
       "      <td>0.0</td>\n",
       "      <td>0.01</td>\n",
       "      <td>NaN</td>\n",
       "      <td>tbd</td>\n",
       "      <td>T</td>\n",
       "    </tr>\n",
       "    <tr>\n",
       "      <th>2460</th>\n",
       "      <td>ATV Quad Power Racing 2</td>\n",
       "      <td>PS2</td>\n",
       "      <td>2003</td>\n",
       "      <td>Racing</td>\n",
       "      <td>0.41</td>\n",
       "      <td>0.32</td>\n",
       "      <td>0.0</td>\n",
       "      <td>0.11</td>\n",
       "      <td>68.0</td>\n",
       "      <td>tbd</td>\n",
       "      <td>E</td>\n",
       "    </tr>\n",
       "    <tr>\n",
       "      <th>14682</th>\n",
       "      <td>Barbie and Her Sisters Puppy Rescue</td>\n",
       "      <td>Wii</td>\n",
       "      <td>2015</td>\n",
       "      <td>Action</td>\n",
       "      <td>0.00</td>\n",
       "      <td>0.03</td>\n",
       "      <td>0.0</td>\n",
       "      <td>0.00</td>\n",
       "      <td>NaN</td>\n",
       "      <td>tbd</td>\n",
       "      <td>E</td>\n",
       "    </tr>\n",
       "    <tr>\n",
       "      <th>6760</th>\n",
       "      <td>Classic NES Series: Excitebike</td>\n",
       "      <td>GBA</td>\n",
       "      <td>2004</td>\n",
       "      <td>Racing</td>\n",
       "      <td>0.11</td>\n",
       "      <td>0.04</td>\n",
       "      <td>0.1</td>\n",
       "      <td>0.01</td>\n",
       "      <td>66.0</td>\n",
       "      <td>tbd</td>\n",
       "      <td>E</td>\n",
       "    </tr>\n",
       "    <tr>\n",
       "      <th>2814</th>\n",
       "      <td>Beyblade VForce: Ultimate Blader Jam</td>\n",
       "      <td>GBA</td>\n",
       "      <td>2003</td>\n",
       "      <td>Action</td>\n",
       "      <td>0.52</td>\n",
       "      <td>0.19</td>\n",
       "      <td>0.0</td>\n",
       "      <td>0.01</td>\n",
       "      <td>NaN</td>\n",
       "      <td>tbd</td>\n",
       "      <td>E</td>\n",
       "    </tr>\n",
       "    <tr>\n",
       "      <th>15096</th>\n",
       "      <td>AirForce Delta Storm</td>\n",
       "      <td>GBA</td>\n",
       "      <td>2002</td>\n",
       "      <td>Shooter</td>\n",
       "      <td>0.02</td>\n",
       "      <td>0.01</td>\n",
       "      <td>0.0</td>\n",
       "      <td>0.00</td>\n",
       "      <td>71.0</td>\n",
       "      <td>tbd</td>\n",
       "      <td>E</td>\n",
       "    </tr>\n",
       "  </tbody>\n",
       "</table>\n",
       "</div>"
      ],
      "text/plain": [
       "                                       name platform  year_of_release  \\\n",
       "4210                             Iridion 3D      GBA             2001   \n",
       "9988     Cabela's North American Adventures      PS3             2010   \n",
       "9257                Pet Pals: Animal Doctor      Wii             2008   \n",
       "12141                  Jake Power: Handyman       DS             2008   \n",
       "10012                       SingStar Latino      PS3             2009   \n",
       "2460                ATV Quad Power Racing 2      PS2             2003   \n",
       "14682   Barbie and Her Sisters Puppy Rescue      Wii             2015   \n",
       "6760         Classic NES Series: Excitebike      GBA             2004   \n",
       "2814   Beyblade VForce: Ultimate Blader Jam      GBA             2003   \n",
       "15096                  AirForce Delta Storm      GBA             2002   \n",
       "\n",
       "            genre  na_sales  eu_sales  jp_sales  other_sales  critic_score  \\\n",
       "4210      Shooter      0.33      0.12       0.0         0.01          53.0   \n",
       "9988       Sports      0.11      0.00       0.0         0.01           NaN   \n",
       "9257   Simulation      0.13      0.00       0.0         0.01           NaN   \n",
       "12141   Adventure      0.06      0.00       0.0         0.00           NaN   \n",
       "10012        Misc      0.11      0.00       0.0         0.01           NaN   \n",
       "2460       Racing      0.41      0.32       0.0         0.11          68.0   \n",
       "14682      Action      0.00      0.03       0.0         0.00           NaN   \n",
       "6760       Racing      0.11      0.04       0.1         0.01          66.0   \n",
       "2814       Action      0.52      0.19       0.0         0.01           NaN   \n",
       "15096     Shooter      0.02      0.01       0.0         0.00          71.0   \n",
       "\n",
       "      user_score rating  \n",
       "4210         tbd      E  \n",
       "9988         tbd      T  \n",
       "9257         tbd   E10+  \n",
       "12141        tbd      E  \n",
       "10012        tbd      T  \n",
       "2460         tbd      E  \n",
       "14682        tbd      E  \n",
       "6760         tbd      E  \n",
       "2814         tbd      E  \n",
       "15096        tbd      E  "
      ]
     },
     "execution_count": 12,
     "metadata": {},
     "output_type": "execute_result"
    }
   ],
   "source": [
    "df.query('user_score == \"tbd\"').sample(10)"
   ]
  },
  {
   "cell_type": "markdown",
   "metadata": {},
   "source": [
    "Пока непонятно. Разные жанры, платформы, годы выпуска и рейтинги. Гугл в помощь!"
   ]
  },
  {
   "cell_type": "markdown",
   "metadata": {},
   "source": [
    "TBD - аббревиатура от английского To Be Determined (будет определено) или To Be Decided (будет решено). Используется, если какая-то информация еще не определена или решение по вопросу не принято."
   ]
  },
  {
   "cell_type": "markdown",
   "metadata": {},
   "source": [
    "Спасибо, Гугл!) Таким образом, это отсутвие оценки (или тот же пропуск). Так что заменим tbd на nan. И заменим весь тип данных столбца на float"
   ]
  },
  {
   "cell_type": "code",
   "execution_count": 13,
   "metadata": {},
   "outputs": [],
   "source": [
    "df.loc[df['user_score'] == 'tbd','user_score'] = np.nan\n",
    "df['user_score'] = df['user_score'].astype('float')"
   ]
  },
  {
   "cell_type": "markdown",
   "metadata": {},
   "source": [
    "Проверим всю таблицу на полные дубликаты"
   ]
  },
  {
   "cell_type": "code",
   "execution_count": 14,
   "metadata": {},
   "outputs": [
    {
     "data": {
      "text/plain": [
       "0"
      ]
     },
     "execution_count": 14,
     "metadata": {},
     "output_type": "execute_result"
    }
   ],
   "source": [
    "df.duplicated().sum()"
   ]
  },
  {
   "cell_type": "markdown",
   "metadata": {},
   "source": [
    "Посчитаем суммарные продажи во всех регионах и запишем их в отдельный столбец"
   ]
  },
  {
   "cell_type": "code",
   "execution_count": 15,
   "metadata": {},
   "outputs": [],
   "source": [
    "df['total_sales'] = df['na_sales'] + df['eu_sales'] + df['jp_sales'] + df['other_sales']"
   ]
  },
  {
   "cell_type": "markdown",
   "metadata": {},
   "source": [
    "Перед анализом данных ещё раз посмотрим на всю таблицу"
   ]
  },
  {
   "cell_type": "code",
   "execution_count": 16,
   "metadata": {},
   "outputs": [
    {
     "data": {
      "text/html": [
       "<div>\n",
       "<style scoped>\n",
       "    .dataframe tbody tr th:only-of-type {\n",
       "        vertical-align: middle;\n",
       "    }\n",
       "\n",
       "    .dataframe tbody tr th {\n",
       "        vertical-align: top;\n",
       "    }\n",
       "\n",
       "    .dataframe thead th {\n",
       "        text-align: right;\n",
       "    }\n",
       "</style>\n",
       "<table border=\"1\" class=\"dataframe\">\n",
       "  <thead>\n",
       "    <tr style=\"text-align: right;\">\n",
       "      <th></th>\n",
       "      <th>name</th>\n",
       "      <th>platform</th>\n",
       "      <th>year_of_release</th>\n",
       "      <th>genre</th>\n",
       "      <th>na_sales</th>\n",
       "      <th>eu_sales</th>\n",
       "      <th>jp_sales</th>\n",
       "      <th>other_sales</th>\n",
       "      <th>critic_score</th>\n",
       "      <th>user_score</th>\n",
       "      <th>rating</th>\n",
       "      <th>total_sales</th>\n",
       "    </tr>\n",
       "  </thead>\n",
       "  <tbody>\n",
       "    <tr>\n",
       "      <th>15218</th>\n",
       "      <td>Interactive Storybook DS Series 3</td>\n",
       "      <td>DS</td>\n",
       "      <td>2007</td>\n",
       "      <td>Misc</td>\n",
       "      <td>0.02</td>\n",
       "      <td>0.00</td>\n",
       "      <td>0.00</td>\n",
       "      <td>0.00</td>\n",
       "      <td>NaN</td>\n",
       "      <td>NaN</td>\n",
       "      <td>E</td>\n",
       "      <td>0.02</td>\n",
       "    </tr>\n",
       "    <tr>\n",
       "      <th>9437</th>\n",
       "      <td>Anno 1701: Dawn of Discovery</td>\n",
       "      <td>DS</td>\n",
       "      <td>2007</td>\n",
       "      <td>Simulation</td>\n",
       "      <td>0.07</td>\n",
       "      <td>0.05</td>\n",
       "      <td>0.00</td>\n",
       "      <td>0.01</td>\n",
       "      <td>78.0</td>\n",
       "      <td>7.5</td>\n",
       "      <td>E</td>\n",
       "      <td>0.13</td>\n",
       "    </tr>\n",
       "    <tr>\n",
       "      <th>1961</th>\n",
       "      <td>DiRT 3</td>\n",
       "      <td>PS3</td>\n",
       "      <td>2011</td>\n",
       "      <td>Racing</td>\n",
       "      <td>0.27</td>\n",
       "      <td>0.57</td>\n",
       "      <td>0.01</td>\n",
       "      <td>0.20</td>\n",
       "      <td>87.0</td>\n",
       "      <td>7.1</td>\n",
       "      <td>T</td>\n",
       "      <td>1.05</td>\n",
       "    </tr>\n",
       "    <tr>\n",
       "      <th>8063</th>\n",
       "      <td>The Last Airbender</td>\n",
       "      <td>DS</td>\n",
       "      <td>2010</td>\n",
       "      <td>Action</td>\n",
       "      <td>0.13</td>\n",
       "      <td>0.04</td>\n",
       "      <td>0.00</td>\n",
       "      <td>0.01</td>\n",
       "      <td>69.0</td>\n",
       "      <td>7.0</td>\n",
       "      <td>E10+</td>\n",
       "      <td>0.18</td>\n",
       "    </tr>\n",
       "    <tr>\n",
       "      <th>15363</th>\n",
       "      <td>So Blonde</td>\n",
       "      <td>PC</td>\n",
       "      <td>2008</td>\n",
       "      <td>Adventure</td>\n",
       "      <td>0.00</td>\n",
       "      <td>0.02</td>\n",
       "      <td>0.00</td>\n",
       "      <td>0.00</td>\n",
       "      <td>NaN</td>\n",
       "      <td>NaN</td>\n",
       "      <td>without</td>\n",
       "      <td>0.02</td>\n",
       "    </tr>\n",
       "    <tr>\n",
       "      <th>6294</th>\n",
       "      <td>Rocky: Legends</td>\n",
       "      <td>PS2</td>\n",
       "      <td>2004</td>\n",
       "      <td>Action</td>\n",
       "      <td>0.13</td>\n",
       "      <td>0.10</td>\n",
       "      <td>0.00</td>\n",
       "      <td>0.03</td>\n",
       "      <td>65.0</td>\n",
       "      <td>8.6</td>\n",
       "      <td>T</td>\n",
       "      <td>0.26</td>\n",
       "    </tr>\n",
       "    <tr>\n",
       "      <th>954</th>\n",
       "      <td>GoldenEye 007 (2010)</td>\n",
       "      <td>Wii</td>\n",
       "      <td>2010</td>\n",
       "      <td>Action</td>\n",
       "      <td>0.84</td>\n",
       "      <td>0.70</td>\n",
       "      <td>0.13</td>\n",
       "      <td>0.16</td>\n",
       "      <td>NaN</td>\n",
       "      <td>NaN</td>\n",
       "      <td>without</td>\n",
       "      <td>1.83</td>\n",
       "    </tr>\n",
       "    <tr>\n",
       "      <th>7838</th>\n",
       "      <td>South Park: The Stick of Truth</td>\n",
       "      <td>PC</td>\n",
       "      <td>2014</td>\n",
       "      <td>Role-Playing</td>\n",
       "      <td>0.07</td>\n",
       "      <td>0.10</td>\n",
       "      <td>0.00</td>\n",
       "      <td>0.01</td>\n",
       "      <td>85.0</td>\n",
       "      <td>8.6</td>\n",
       "      <td>M</td>\n",
       "      <td>0.18</td>\n",
       "    </tr>\n",
       "    <tr>\n",
       "      <th>10283</th>\n",
       "      <td>Vacation Sports</td>\n",
       "      <td>Wii</td>\n",
       "      <td>2009</td>\n",
       "      <td>Sports</td>\n",
       "      <td>0.09</td>\n",
       "      <td>0.01</td>\n",
       "      <td>0.00</td>\n",
       "      <td>0.01</td>\n",
       "      <td>NaN</td>\n",
       "      <td>NaN</td>\n",
       "      <td>E</td>\n",
       "      <td>0.11</td>\n",
       "    </tr>\n",
       "    <tr>\n",
       "      <th>1317</th>\n",
       "      <td>Tamagotchi</td>\n",
       "      <td>GB</td>\n",
       "      <td>1996</td>\n",
       "      <td>Simulation</td>\n",
       "      <td>0.00</td>\n",
       "      <td>0.00</td>\n",
       "      <td>1.44</td>\n",
       "      <td>0.01</td>\n",
       "      <td>NaN</td>\n",
       "      <td>NaN</td>\n",
       "      <td>without</td>\n",
       "      <td>1.45</td>\n",
       "    </tr>\n",
       "  </tbody>\n",
       "</table>\n",
       "</div>"
      ],
      "text/plain": [
       "                                    name platform  year_of_release  \\\n",
       "15218  Interactive Storybook DS Series 3       DS             2007   \n",
       "9437        Anno 1701: Dawn of Discovery       DS             2007   \n",
       "1961                              DiRT 3      PS3             2011   \n",
       "8063                  The Last Airbender       DS             2010   \n",
       "15363                          So Blonde       PC             2008   \n",
       "6294                      Rocky: Legends      PS2             2004   \n",
       "954                 GoldenEye 007 (2010)      Wii             2010   \n",
       "7838      South Park: The Stick of Truth       PC             2014   \n",
       "10283                    Vacation Sports      Wii             2009   \n",
       "1317                          Tamagotchi       GB             1996   \n",
       "\n",
       "              genre  na_sales  eu_sales  jp_sales  other_sales  critic_score  \\\n",
       "15218          Misc      0.02      0.00      0.00         0.00           NaN   \n",
       "9437     Simulation      0.07      0.05      0.00         0.01          78.0   \n",
       "1961         Racing      0.27      0.57      0.01         0.20          87.0   \n",
       "8063         Action      0.13      0.04      0.00         0.01          69.0   \n",
       "15363     Adventure      0.00      0.02      0.00         0.00           NaN   \n",
       "6294         Action      0.13      0.10      0.00         0.03          65.0   \n",
       "954          Action      0.84      0.70      0.13         0.16           NaN   \n",
       "7838   Role-Playing      0.07      0.10      0.00         0.01          85.0   \n",
       "10283        Sports      0.09      0.01      0.00         0.01           NaN   \n",
       "1317     Simulation      0.00      0.00      1.44         0.01           NaN   \n",
       "\n",
       "       user_score   rating  total_sales  \n",
       "15218         NaN        E         0.02  \n",
       "9437          7.5        E         0.13  \n",
       "1961          7.1        T         1.05  \n",
       "8063          7.0     E10+         0.18  \n",
       "15363         NaN  without         0.02  \n",
       "6294          8.6        T         0.26  \n",
       "954           NaN  without         1.83  \n",
       "7838          8.6        M         0.18  \n",
       "10283         NaN        E         0.11  \n",
       "1317          NaN  without         1.45  "
      ]
     },
     "execution_count": 16,
     "metadata": {},
     "output_type": "execute_result"
    }
   ],
   "source": [
    "df.sample(10)"
   ]
  },
  {
   "cell_type": "markdown",
   "metadata": {},
   "source": [
    "## Исследовательский анализ данных "
   ]
  },
  {
   "cell_type": "markdown",
   "metadata": {},
   "source": [
    "**Сколько игр выпускалось в разные годы? Важны ли все периоды?**"
   ]
  },
  {
   "cell_type": "code",
   "execution_count": 17,
   "metadata": {
    "scrolled": true
   },
   "outputs": [
    {
     "data": {
      "image/png": "[encoded data removed]",
      "text/plain": [
       "<Figure size 432x288 with 1 Axes>"
      ]
     },
     "metadata": {
      "needs_background": "light"
     },
     "output_type": "display_data"
    }
   ],
   "source": [
    "df['year_of_release'].plot(kind = 'hist',bins = 40)\n",
    "plt.title('Распределение по годам выпуска')\n",
    "plt.show()"
   ]
  },
  {
   "cell_type": "markdown",
   "metadata": {},
   "source": [
    "Первые игры появились ещё в 1980 году и до 1995 года особо сфера не развилась. С появлением технологий игрушки стали более красивые, интересные, качественные. Соответственно, сфера стала приносит прибыль и игр стали выпускать всё больше и больше. Нам необходимо сделать прогноз на 2017 год, а данные до 1995 года это \"прошлый век\" в прямом и переносном смысле - они не важны"
   ]
  },
  {
   "cell_type": "markdown",
   "metadata": {},
   "source": [
    "**Как менялись продажи по платформам?**"
   ]
  },
  {
   "cell_type": "markdown",
   "metadata": {},
   "source": [
    "Выберем платформы с наибольшими суммарными продажами и построим распределение по годам"
   ]
  },
  {
   "cell_type": "code",
   "execution_count": 18,
   "metadata": {},
   "outputs": [
    {
     "data": {
      "text/html": [
       "<div>\n",
       "<style scoped>\n",
       "    .dataframe tbody tr th:only-of-type {\n",
       "        vertical-align: middle;\n",
       "    }\n",
       "\n",
       "    .dataframe tbody tr th {\n",
       "        vertical-align: top;\n",
       "    }\n",
       "\n",
       "    .dataframe thead tr th {\n",
       "        text-align: left;\n",
       "    }\n",
       "\n",
       "    .dataframe thead tr:last-of-type th {\n",
       "        text-align: right;\n",
       "    }\n",
       "</style>\n",
       "<table border=\"1\" class=\"dataframe\">\n",
       "  <thead>\n",
       "    <tr>\n",
       "      <th></th>\n",
       "      <th>sum</th>\n",
       "    </tr>\n",
       "    <tr>\n",
       "      <th></th>\n",
       "      <th>total_sales</th>\n",
       "    </tr>\n",
       "    <tr>\n",
       "      <th>platform</th>\n",
       "      <th></th>\n",
       "    </tr>\n",
       "  </thead>\n",
       "  <tbody>\n",
       "    <tr>\n",
       "      <th>PS2</th>\n",
       "      <td>1255.77</td>\n",
       "    </tr>\n",
       "    <tr>\n",
       "      <th>X360</th>\n",
       "      <td>971.42</td>\n",
       "    </tr>\n",
       "    <tr>\n",
       "      <th>PS3</th>\n",
       "      <td>939.65</td>\n",
       "    </tr>\n",
       "    <tr>\n",
       "      <th>Wii</th>\n",
       "      <td>907.51</td>\n",
       "    </tr>\n",
       "    <tr>\n",
       "      <th>DS</th>\n",
       "      <td>806.12</td>\n",
       "    </tr>\n",
       "    <tr>\n",
       "      <th>PS</th>\n",
       "      <td>730.86</td>\n",
       "    </tr>\n",
       "    <tr>\n",
       "      <th>GBA</th>\n",
       "      <td>317.85</td>\n",
       "    </tr>\n",
       "    <tr>\n",
       "      <th>PS4</th>\n",
       "      <td>314.14</td>\n",
       "    </tr>\n",
       "    <tr>\n",
       "      <th>PSP</th>\n",
       "      <td>294.05</td>\n",
       "    </tr>\n",
       "    <tr>\n",
       "      <th>PC</th>\n",
       "      <td>259.52</td>\n",
       "    </tr>\n",
       "    <tr>\n",
       "      <th>3DS</th>\n",
       "      <td>259.00</td>\n",
       "    </tr>\n",
       "    <tr>\n",
       "      <th>XB</th>\n",
       "      <td>257.74</td>\n",
       "    </tr>\n",
       "    <tr>\n",
       "      <th>GB</th>\n",
       "      <td>255.46</td>\n",
       "    </tr>\n",
       "    <tr>\n",
       "      <th>NES</th>\n",
       "      <td>251.05</td>\n",
       "    </tr>\n",
       "    <tr>\n",
       "      <th>N64</th>\n",
       "      <td>218.68</td>\n",
       "    </tr>\n",
       "    <tr>\n",
       "      <th>SNES</th>\n",
       "      <td>200.04</td>\n",
       "    </tr>\n",
       "    <tr>\n",
       "      <th>GC</th>\n",
       "      <td>198.93</td>\n",
       "    </tr>\n",
       "    <tr>\n",
       "      <th>XOne</th>\n",
       "      <td>159.32</td>\n",
       "    </tr>\n",
       "    <tr>\n",
       "      <th>2600</th>\n",
       "      <td>96.98</td>\n",
       "    </tr>\n",
       "    <tr>\n",
       "      <th>WiiU</th>\n",
       "      <td>82.19</td>\n",
       "    </tr>\n",
       "    <tr>\n",
       "      <th>PSV</th>\n",
       "      <td>54.07</td>\n",
       "    </tr>\n",
       "    <tr>\n",
       "      <th>SAT</th>\n",
       "      <td>33.59</td>\n",
       "    </tr>\n",
       "    <tr>\n",
       "      <th>GEN</th>\n",
       "      <td>30.77</td>\n",
       "    </tr>\n",
       "    <tr>\n",
       "      <th>DC</th>\n",
       "      <td>15.95</td>\n",
       "    </tr>\n",
       "    <tr>\n",
       "      <th>SCD</th>\n",
       "      <td>1.86</td>\n",
       "    </tr>\n",
       "    <tr>\n",
       "      <th>NG</th>\n",
       "      <td>1.44</td>\n",
       "    </tr>\n",
       "    <tr>\n",
       "      <th>WS</th>\n",
       "      <td>1.42</td>\n",
       "    </tr>\n",
       "    <tr>\n",
       "      <th>TG16</th>\n",
       "      <td>0.16</td>\n",
       "    </tr>\n",
       "    <tr>\n",
       "      <th>3DO</th>\n",
       "      <td>0.10</td>\n",
       "    </tr>\n",
       "    <tr>\n",
       "      <th>GG</th>\n",
       "      <td>0.04</td>\n",
       "    </tr>\n",
       "    <tr>\n",
       "      <th>PCFX</th>\n",
       "      <td>0.03</td>\n",
       "    </tr>\n",
       "  </tbody>\n",
       "</table>\n",
       "</div>"
      ],
      "text/plain": [
       "                 sum\n",
       "         total_sales\n",
       "platform            \n",
       "PS2          1255.77\n",
       "X360          971.42\n",
       "PS3           939.65\n",
       "Wii           907.51\n",
       "DS            806.12\n",
       "PS            730.86\n",
       "GBA           317.85\n",
       "PS4           314.14\n",
       "PSP           294.05\n",
       "PC            259.52\n",
       "3DS           259.00\n",
       "XB            257.74\n",
       "GB            255.46\n",
       "NES           251.05\n",
       "N64           218.68\n",
       "SNES          200.04\n",
       "GC            198.93\n",
       "XOne          159.32\n",
       "2600           96.98\n",
       "WiiU           82.19\n",
       "PSV            54.07\n",
       "SAT            33.59\n",
       "GEN            30.77\n",
       "DC             15.95\n",
       "SCD             1.86\n",
       "NG              1.44\n",
       "WS              1.42\n",
       "TG16            0.16\n",
       "3DO             0.10\n",
       "GG              0.04\n",
       "PCFX            0.03"
      ]
     },
     "execution_count": 18,
     "metadata": {},
     "output_type": "execute_result"
    }
   ],
   "source": [
    "#построим сводную таблицу \n",
    "sales_by_platforms =df.pivot_table(\n",
    "                                 index = ['platform'], \n",
    "                                 values = ['total_sales'],\n",
    "                                 aggfunc =  ['sum'])\n",
    "sales_by_platforms.sort_values(('sum', 'total_sales'),ascending = False)"
   ]
  },
  {
   "cell_type": "markdown",
   "metadata": {},
   "source": [
    "Очевидно, что первые 6 платформ ( PS2, X360, PS3, Wii, DS, PS) по доходности превосходят остальные платформы в разы ( между 6 позицией PS и 7 - GBA разрыв более, чем в 2 раза). \\\n",
    "Построил распределение по годам "
   ]
  },
  {
   "cell_type": "code",
   "execution_count": 19,
   "metadata": {},
   "outputs": [],
   "source": [
    "#введём отдельную df c платформами с самой высокой доходностью\n",
    "top_platform_df = df.query('platform == [\"PS2\",\"X360\",\"PS3\",\"Wii\",\"DS\",\"PS\"]')"
   ]
  },
  {
   "cell_type": "code",
   "execution_count": 20,
   "metadata": {},
   "outputs": [
    {
     "data": {
      "image/png": "[encoded data removed]",
      "text/plain": [
       "<Figure size 1440x720 with 1 Axes>"
      ]
     },
     "metadata": {
      "needs_background": "light"
     },
     "output_type": "display_data"
    }
   ],
   "source": [
    "#построим сводную таблицу для новой df\n",
    "top_platforms_by_years =top_platform_df.pivot_table(\n",
    "                                 index = ['year_of_release'], \\\n",
    "                                 columns = ['platform'],\n",
    "                                 values = ['total_sales'],\n",
    "                                 aggfunc =  ['sum'])\n",
    "top_platforms_by_years.plot(figsize = (20,10))\n",
    "plt.show()"
   ]
  },
  {
   "cell_type": "markdown",
   "metadata": {},
   "source": [
    "**Выводы**: На графике отлично видно, как происходила сменяемость платформ для игр. Появление - подъем - пик - спад - смерть"
   ]
  },
  {
   "cell_type": "markdown",
   "metadata": {},
   "source": [
    "Введём **АКТУАЛЬНЫЙ ПЕРИОД** данных для нашего прогноза на 2017 год. На графике выше, можно определить *время жизни* платформы. Это ориентировочно **10 лет**. По графику самый доходные платформы к 2015 году идут к своему \"закату\". А нам нужны платформы, которые начинают расти, находятся на пике, либо близки к уходу, но ещё действующие. \\ \n",
    "Я считаю актуальный периодом нужно определить **8 лет**. То есть далее мы будем работать с данными за последние 8 лет (с 2008 года)"
   ]
  },
  {
   "cell_type": "code",
   "execution_count": 21,
   "metadata": {},
   "outputs": [
    {
     "data": {
      "text/html": [
       "<div>\n",
       "<style scoped>\n",
       "    .dataframe tbody tr th:only-of-type {\n",
       "        vertical-align: middle;\n",
       "    }\n",
       "\n",
       "    .dataframe tbody tr th {\n",
       "        vertical-align: top;\n",
       "    }\n",
       "\n",
       "    .dataframe thead th {\n",
       "        text-align: right;\n",
       "    }\n",
       "</style>\n",
       "<table border=\"1\" class=\"dataframe\">\n",
       "  <thead>\n",
       "    <tr style=\"text-align: right;\">\n",
       "      <th></th>\n",
       "      <th>name</th>\n",
       "      <th>platform</th>\n",
       "      <th>year_of_release</th>\n",
       "      <th>genre</th>\n",
       "      <th>na_sales</th>\n",
       "      <th>eu_sales</th>\n",
       "      <th>jp_sales</th>\n",
       "      <th>other_sales</th>\n",
       "      <th>critic_score</th>\n",
       "      <th>user_score</th>\n",
       "      <th>rating</th>\n",
       "      <th>total_sales</th>\n",
       "    </tr>\n",
       "  </thead>\n",
       "  <tbody>\n",
       "    <tr>\n",
       "      <th>16</th>\n",
       "      <td>Grand Theft Auto V</td>\n",
       "      <td>PS3</td>\n",
       "      <td>2013</td>\n",
       "      <td>Action</td>\n",
       "      <td>7.02</td>\n",
       "      <td>9.09</td>\n",
       "      <td>0.98</td>\n",
       "      <td>3.96</td>\n",
       "      <td>97.0</td>\n",
       "      <td>8.2</td>\n",
       "      <td>M</td>\n",
       "      <td>21.05</td>\n",
       "    </tr>\n",
       "    <tr>\n",
       "      <th>23</th>\n",
       "      <td>Grand Theft Auto V</td>\n",
       "      <td>X360</td>\n",
       "      <td>2013</td>\n",
       "      <td>Action</td>\n",
       "      <td>9.66</td>\n",
       "      <td>5.14</td>\n",
       "      <td>0.06</td>\n",
       "      <td>1.41</td>\n",
       "      <td>97.0</td>\n",
       "      <td>8.1</td>\n",
       "      <td>M</td>\n",
       "      <td>16.27</td>\n",
       "    </tr>\n",
       "    <tr>\n",
       "      <th>31</th>\n",
       "      <td>Call of Duty: Black Ops 3</td>\n",
       "      <td>PS4</td>\n",
       "      <td>2015</td>\n",
       "      <td>Shooter</td>\n",
       "      <td>6.03</td>\n",
       "      <td>5.86</td>\n",
       "      <td>0.36</td>\n",
       "      <td>2.38</td>\n",
       "      <td>NaN</td>\n",
       "      <td>NaN</td>\n",
       "      <td>without</td>\n",
       "      <td>14.63</td>\n",
       "    </tr>\n",
       "    <tr>\n",
       "      <th>33</th>\n",
       "      <td>Pokemon X/Pokemon Y</td>\n",
       "      <td>3DS</td>\n",
       "      <td>2013</td>\n",
       "      <td>Role-Playing</td>\n",
       "      <td>5.28</td>\n",
       "      <td>4.19</td>\n",
       "      <td>4.35</td>\n",
       "      <td>0.78</td>\n",
       "      <td>NaN</td>\n",
       "      <td>NaN</td>\n",
       "      <td>without</td>\n",
       "      <td>14.60</td>\n",
       "    </tr>\n",
       "    <tr>\n",
       "      <th>34</th>\n",
       "      <td>Call of Duty: Black Ops II</td>\n",
       "      <td>PS3</td>\n",
       "      <td>2012</td>\n",
       "      <td>Shooter</td>\n",
       "      <td>4.99</td>\n",
       "      <td>5.73</td>\n",
       "      <td>0.65</td>\n",
       "      <td>2.42</td>\n",
       "      <td>83.0</td>\n",
       "      <td>5.3</td>\n",
       "      <td>M</td>\n",
       "      <td>13.79</td>\n",
       "    </tr>\n",
       "    <tr>\n",
       "      <th>...</th>\n",
       "      <td>...</td>\n",
       "      <td>...</td>\n",
       "      <td>...</td>\n",
       "      <td>...</td>\n",
       "      <td>...</td>\n",
       "      <td>...</td>\n",
       "      <td>...</td>\n",
       "      <td>...</td>\n",
       "      <td>...</td>\n",
       "      <td>...</td>\n",
       "      <td>...</td>\n",
       "      <td>...</td>\n",
       "    </tr>\n",
       "    <tr>\n",
       "      <th>16703</th>\n",
       "      <td>Strawberry Nauts</td>\n",
       "      <td>PSV</td>\n",
       "      <td>2016</td>\n",
       "      <td>Adventure</td>\n",
       "      <td>0.00</td>\n",
       "      <td>0.00</td>\n",
       "      <td>0.01</td>\n",
       "      <td>0.00</td>\n",
       "      <td>NaN</td>\n",
       "      <td>NaN</td>\n",
       "      <td>without</td>\n",
       "      <td>0.01</td>\n",
       "    </tr>\n",
       "    <tr>\n",
       "      <th>16707</th>\n",
       "      <td>Aiyoku no Eustia</td>\n",
       "      <td>PSV</td>\n",
       "      <td>2014</td>\n",
       "      <td>Misc</td>\n",
       "      <td>0.00</td>\n",
       "      <td>0.00</td>\n",
       "      <td>0.01</td>\n",
       "      <td>0.00</td>\n",
       "      <td>NaN</td>\n",
       "      <td>NaN</td>\n",
       "      <td>without</td>\n",
       "      <td>0.01</td>\n",
       "    </tr>\n",
       "    <tr>\n",
       "      <th>16710</th>\n",
       "      <td>Samurai Warriors: Sanada Maru</td>\n",
       "      <td>PS3</td>\n",
       "      <td>2016</td>\n",
       "      <td>Action</td>\n",
       "      <td>0.00</td>\n",
       "      <td>0.00</td>\n",
       "      <td>0.01</td>\n",
       "      <td>0.00</td>\n",
       "      <td>NaN</td>\n",
       "      <td>NaN</td>\n",
       "      <td>without</td>\n",
       "      <td>0.01</td>\n",
       "    </tr>\n",
       "    <tr>\n",
       "      <th>16712</th>\n",
       "      <td>Haitaka no Psychedelica</td>\n",
       "      <td>PSV</td>\n",
       "      <td>2016</td>\n",
       "      <td>Adventure</td>\n",
       "      <td>0.00</td>\n",
       "      <td>0.00</td>\n",
       "      <td>0.01</td>\n",
       "      <td>0.00</td>\n",
       "      <td>NaN</td>\n",
       "      <td>NaN</td>\n",
       "      <td>without</td>\n",
       "      <td>0.01</td>\n",
       "    </tr>\n",
       "    <tr>\n",
       "      <th>16714</th>\n",
       "      <td>Winning Post 8 2016</td>\n",
       "      <td>PSV</td>\n",
       "      <td>2016</td>\n",
       "      <td>Simulation</td>\n",
       "      <td>0.00</td>\n",
       "      <td>0.00</td>\n",
       "      <td>0.01</td>\n",
       "      <td>0.00</td>\n",
       "      <td>NaN</td>\n",
       "      <td>NaN</td>\n",
       "      <td>without</td>\n",
       "      <td>0.01</td>\n",
       "    </tr>\n",
       "  </tbody>\n",
       "</table>\n",
       "<p>2886 rows × 12 columns</p>\n",
       "</div>"
      ],
      "text/plain": [
       "                                name platform  year_of_release         genre  \\\n",
       "16                Grand Theft Auto V      PS3             2013        Action   \n",
       "23                Grand Theft Auto V     X360             2013        Action   \n",
       "31         Call of Duty: Black Ops 3      PS4             2015       Shooter   \n",
       "33               Pokemon X/Pokemon Y      3DS             2013  Role-Playing   \n",
       "34        Call of Duty: Black Ops II      PS3             2012       Shooter   \n",
       "...                              ...      ...              ...           ...   \n",
       "16703               Strawberry Nauts      PSV             2016     Adventure   \n",
       "16707               Aiyoku no Eustia      PSV             2014          Misc   \n",
       "16710  Samurai Warriors: Sanada Maru      PS3             2016        Action   \n",
       "16712        Haitaka no Psychedelica      PSV             2016     Adventure   \n",
       "16714            Winning Post 8 2016      PSV             2016    Simulation   \n",
       "\n",
       "       na_sales  eu_sales  jp_sales  other_sales  critic_score  user_score  \\\n",
       "16         7.02      9.09      0.98         3.96          97.0         8.2   \n",
       "23         9.66      5.14      0.06         1.41          97.0         8.1   \n",
       "31         6.03      5.86      0.36         2.38           NaN         NaN   \n",
       "33         5.28      4.19      4.35         0.78           NaN         NaN   \n",
       "34         4.99      5.73      0.65         2.42          83.0         5.3   \n",
       "...         ...       ...       ...          ...           ...         ...   \n",
       "16703      0.00      0.00      0.01         0.00           NaN         NaN   \n",
       "16707      0.00      0.00      0.01         0.00           NaN         NaN   \n",
       "16710      0.00      0.00      0.01         0.00           NaN         NaN   \n",
       "16712      0.00      0.00      0.01         0.00           NaN         NaN   \n",
       "16714      0.00      0.00      0.01         0.00           NaN         NaN   \n",
       "\n",
       "        rating  total_sales  \n",
       "16           M        21.05  \n",
       "23           M        16.27  \n",
       "31     without        14.63  \n",
       "33     without        14.60  \n",
       "34           M        13.79  \n",
       "...        ...          ...  \n",
       "16703  without         0.01  \n",
       "16707  without         0.01  \n",
       "16710  without         0.01  \n",
       "16712  without         0.01  \n",
       "16714  without         0.01  \n",
       "\n",
       "[2886 rows x 12 columns]"
      ]
     },
     "execution_count": 21,
     "metadata": {},
     "output_type": "execute_result"
    }
   ],
   "source": [
    "#сохраним актуальную таблицу и далее будем работать с ней\n",
    "actual_df = df.query('year_of_release >= 2012')\n",
    "actual_df"
   ]
  },
  {
   "cell_type": "markdown",
   "metadata": {},
   "source": [
    "**Какие платформы лидируют по продажам, растут или падают? Выберем несколько потенциально прибыльных платформ**"
   ]
  },
  {
   "cell_type": "markdown",
   "metadata": {},
   "source": [
    "Для начала посмотрим на платформы, которые у нас остались в актуальной таблице"
   ]
  },
  {
   "cell_type": "code",
   "execution_count": 22,
   "metadata": {},
   "outputs": [
    {
     "data": {
      "text/plain": [
       "array(['PS3', 'X360', 'PS4', '3DS', 'DS', 'XOne', 'WiiU', 'Wii', 'PC',\n",
       "       'PSV', 'PSP'], dtype=object)"
      ]
     },
     "execution_count": 22,
     "metadata": {},
     "output_type": "execute_result"
    }
   ],
   "source": [
    "actual_df['platform'].unique()"
   ]
  },
  {
   "cell_type": "markdown",
   "metadata": {},
   "source": [
    "Количество заметно уменьшилось. Построим для них аналогичный график"
   ]
  },
  {
   "cell_type": "code",
   "execution_count": 23,
   "metadata": {},
   "outputs": [
    {
     "data": {
      "text/html": [
       "<div>\n",
       "<style scoped>\n",
       "    .dataframe tbody tr th:only-of-type {\n",
       "        vertical-align: middle;\n",
       "    }\n",
       "\n",
       "    .dataframe tbody tr th {\n",
       "        vertical-align: top;\n",
       "    }\n",
       "\n",
       "    .dataframe thead tr th {\n",
       "        text-align: left;\n",
       "    }\n",
       "\n",
       "    .dataframe thead tr:last-of-type th {\n",
       "        text-align: right;\n",
       "    }\n",
       "</style>\n",
       "<table border=\"1\" class=\"dataframe\">\n",
       "  <thead>\n",
       "    <tr>\n",
       "      <th></th>\n",
       "      <th>sum</th>\n",
       "    </tr>\n",
       "    <tr>\n",
       "      <th></th>\n",
       "      <th>total_sales</th>\n",
       "    </tr>\n",
       "    <tr>\n",
       "      <th>platform</th>\n",
       "      <th></th>\n",
       "    </tr>\n",
       "  </thead>\n",
       "  <tbody>\n",
       "    <tr>\n",
       "      <th>PS4</th>\n",
       "      <td>314.14</td>\n",
       "    </tr>\n",
       "    <tr>\n",
       "      <th>PS3</th>\n",
       "      <td>288.79</td>\n",
       "    </tr>\n",
       "    <tr>\n",
       "      <th>X360</th>\n",
       "      <td>236.54</td>\n",
       "    </tr>\n",
       "    <tr>\n",
       "      <th>3DS</th>\n",
       "      <td>194.61</td>\n",
       "    </tr>\n",
       "    <tr>\n",
       "      <th>XOne</th>\n",
       "      <td>159.32</td>\n",
       "    </tr>\n",
       "    <tr>\n",
       "      <th>WiiU</th>\n",
       "      <td>82.19</td>\n",
       "    </tr>\n",
       "    <tr>\n",
       "      <th>PC</th>\n",
       "      <td>62.65</td>\n",
       "    </tr>\n",
       "    <tr>\n",
       "      <th>PSV</th>\n",
       "      <td>49.18</td>\n",
       "    </tr>\n",
       "    <tr>\n",
       "      <th>Wii</th>\n",
       "      <td>35.37</td>\n",
       "    </tr>\n",
       "    <tr>\n",
       "      <th>DS</th>\n",
       "      <td>12.55</td>\n",
       "    </tr>\n",
       "    <tr>\n",
       "      <th>PSP</th>\n",
       "      <td>11.19</td>\n",
       "    </tr>\n",
       "  </tbody>\n",
       "</table>\n",
       "</div>"
      ],
      "text/plain": [
       "                 sum\n",
       "         total_sales\n",
       "platform            \n",
       "PS4           314.14\n",
       "PS3           288.79\n",
       "X360          236.54\n",
       "3DS           194.61\n",
       "XOne          159.32\n",
       "WiiU           82.19\n",
       "PC             62.65\n",
       "PSV            49.18\n",
       "Wii            35.37\n",
       "DS             12.55\n",
       "PSP            11.19"
      ]
     },
     "execution_count": 23,
     "metadata": {},
     "output_type": "execute_result"
    }
   ],
   "source": [
    "#посмотри на продажи по этим платформам \n",
    "sales_by_actual_platforms =actual_df.pivot_table(\n",
    "                                 index = ['platform'], \n",
    "                                 values = ['total_sales'],\n",
    "                                 aggfunc =  ['sum'])\n",
    "sales_by_actual_platforms.sort_values(('sum', 'total_sales'),ascending = False)"
   ]
  },
  {
   "cell_type": "markdown",
   "metadata": {},
   "source": [
    "По продажам лидируют PS3,X360 и Wii. Посмотрим на какой \"стадии жизни\" находятся все платформы"
   ]
  },
  {
   "cell_type": "code",
   "execution_count": 24,
   "metadata": {},
   "outputs": [
    {
     "data": {
      "image/png": "[encoded data removed]",
      "text/plain": [
       "<Figure size 1440x720 with 1 Axes>"
      ]
     },
     "metadata": {
      "needs_background": "light"
     },
     "output_type": "display_data"
    }
   ],
   "source": [
    "top_platforms_actual_df =actual_df.pivot_table(\n",
    "                                 index = ['year_of_release'], \\\n",
    "                                 columns = ['platform'],\n",
    "                                 values = ['total_sales'],\n",
    "                                 aggfunc =  ['sum'])\n",
    "top_platforms_actual_df.plot(figsize = (20,10))\n",
    "plt.show()"
   ]
  },
  {
   "cell_type": "markdown",
   "metadata": {},
   "source": [
    "Большинство платформ \"идут к закату\". Но есть 2 потенциально прибыльные платформы: **PS4** и **Xone**"
   ]
  },
  {
   "cell_type": "markdown",
   "metadata": {},
   "source": [
    "**Построим график «ящик с усами» по глобальным продажам игр в разбивке по платформам**"
   ]
  },
  {
   "cell_type": "code",
   "execution_count": 25,
   "metadata": {},
   "outputs": [
    {
     "data": {
      "image/png": "[encoded data removed]",
      "text/plain": [
       "<Figure size 1152x720 with 1 Axes>"
      ]
     },
     "metadata": {
      "needs_background": "light"
     },
     "output_type": "display_data"
    }
   ],
   "source": [
    "actual_df.boxplot(column = ['total_sales'],by = ['platform'],figsize=(16, 10))\n",
    "plt.ylim([0, 2])\n",
    "plt.show()"
   ]
  },
  {
   "cell_type": "markdown",
   "metadata": {},
   "source": [
    "По всем платформам медианы продаж находятся на одном уровне. Немного выше остались находтся 75% квартили платформ PS3, PS4, X360, XOne"
   ]
  },
  {
   "cell_type": "markdown",
   "metadata": {},
   "source": [
    "**Посмотрим, как влияют на продажи внутри одной популярной платформы отзывы пользователей и критиков. Построим диаграмму рассеяния и посчитаем корреляцию между отзывами и продажами. Сформулируем выводы**"
   ]
  },
  {
   "cell_type": "markdown",
   "metadata": {},
   "source": [
    "Возьмем платформу PS3"
   ]
  },
  {
   "cell_type": "code",
   "execution_count": 26,
   "metadata": {},
   "outputs": [],
   "source": [
    "ps3_df = actual_df.query('platform == \"PS3\"')\n",
    "ps3_df = ps3_df.sort_values('user_score',ascending = False)"
   ]
  },
  {
   "cell_type": "code",
   "execution_count": 27,
   "metadata": {
    "scrolled": false
   },
   "outputs": [
    {
     "data": {
      "image/png": "[encoded data removed]",
      "text/plain": [
       "<Figure size 720x720 with 1 Axes>"
      ]
     },
     "metadata": {
      "needs_background": "light"
     },
     "output_type": "display_data"
    }
   ],
   "source": [
    "#посмотрим диаграммы рассеяния влияния отзывов пользователей на продажи\n",
    "ps3_user_score = sns.scatterplot(data = ps3_df, x = 'user_score',y = 'total_sales')\n",
    "ps3_user_score.figure.set_figwidth(10)\n",
    "ps3_user_score.figure.set_figheight(10)"
   ]
  },
  {
   "cell_type": "code",
   "execution_count": 28,
   "metadata": {},
   "outputs": [
    {
     "data": {
      "text/plain": [
       "-0.005143522887113815"
      ]
     },
     "execution_count": 28,
     "metadata": {},
     "output_type": "execute_result"
    }
   ],
   "source": [
    "#посчитаем коэффициент корреляции \n",
    "ps3_df['user_score'].corr(ps3_df['total_sales'])"
   ]
  },
  {
   "cell_type": "markdown",
   "metadata": {},
   "source": [
    "Оценки пользователей не влияют на продажи. Коэффициент корреляции почти равен 0."
   ]
  },
  {
   "cell_type": "code",
   "execution_count": 29,
   "metadata": {},
   "outputs": [
    {
     "data": {
      "image/png": "[encoded data removed]",
      "text/plain": [
       "<Figure size 720x720 with 1 Axes>"
      ]
     },
     "metadata": {
      "needs_background": "light"
     },
     "output_type": "display_data"
    }
   ],
   "source": [
    "#посмотрим на связь оценок критиков и продажами\n",
    "ps3_critic_score = sns.scatterplot(data = ps3_df, x = 'critic_score',y = 'total_sales')\n",
    "ps3_critic_score.figure.set_figwidth(10)\n",
    "ps3_critic_score.figure.set_figheight(10)"
   ]
  },
  {
   "cell_type": "code",
   "execution_count": 30,
   "metadata": {},
   "outputs": [
    {
     "data": {
      "text/plain": [
       "0.33149725926295914"
      ]
     },
     "execution_count": 30,
     "metadata": {},
     "output_type": "execute_result"
    }
   ],
   "source": [
    "ps3_df['critic_score'].corr(ps3_df['total_sales'])"
   ]
  },
  {
   "cell_type": "markdown",
   "metadata": {},
   "source": [
    "В случае оценок критиков корреляция увеличивается ( в сравнении с оценками пользователей) , но всё равно является недостаточной, чтобы мы говорили о прямой зависимости."
   ]
  },
  {
   "cell_type": "markdown",
   "metadata": {},
   "source": [
    "Посмотрим на ситуацию на других платформах. Возьмём 2 популярные - PS4 и X360. Повторим расчеты коэффициента корреляции "
   ]
  },
  {
   "cell_type": "code",
   "execution_count": 31,
   "metadata": {},
   "outputs": [
    {
     "data": {
      "text/plain": [
       "-0.03195711020455644"
      ]
     },
     "metadata": {},
     "output_type": "display_data"
    },
    {
     "data": {
      "text/plain": [
       "0.4065679020617815"
      ]
     },
     "metadata": {},
     "output_type": "display_data"
    }
   ],
   "source": [
    "ps4_df = actual_df.query('platform == \"PS4\"')\n",
    "ps4_df = ps4_df.sort_values('user_score',ascending = False)\n",
    "display(ps4_df['user_score'].corr(ps4_df['total_sales']))\n",
    "display(ps4_df['critic_score'].corr(ps4_df['total_sales']))"
   ]
  },
  {
   "cell_type": "code",
   "execution_count": 32,
   "metadata": {},
   "outputs": [
    {
     "data": {
      "text/plain": [
       "0.006163978646213364"
      ]
     },
     "metadata": {},
     "output_type": "display_data"
    },
    {
     "data": {
      "text/plain": [
       "0.3605734888507337"
      ]
     },
     "metadata": {},
     "output_type": "display_data"
    }
   ],
   "source": [
    "x360_df = actual_df.query('platform == \"X360\"')\n",
    "x360_df = x360_df.sort_values('user_score',ascending = False)\n",
    "display(x360_df['user_score'].corr(x360_df['total_sales']))\n",
    "display(x360_df['critic_score'].corr(x360_df['total_sales']))"
   ]
  },
  {
   "cell_type": "markdown",
   "metadata": {},
   "source": [
    "Ситуация схожая. Оценки пользователей вообще не влияют на продажи. Критики своими хорошими отзывами немного повышают продажи, но говорить о прямой зависимости нельзя"
   ]
  },
  {
   "cell_type": "markdown",
   "metadata": {},
   "source": [
    "**Посмотрим на общее распределение игр по жанрам. Что можно сказать о самых прибыльных жанрах? Выделяются ли жанры с высокими и низкими продажами?**"
   ]
  },
  {
   "cell_type": "code",
   "execution_count": 33,
   "metadata": {},
   "outputs": [
    {
     "data": {
      "text/html": [
       "<div>\n",
       "<style scoped>\n",
       "    .dataframe tbody tr th:only-of-type {\n",
       "        vertical-align: middle;\n",
       "    }\n",
       "\n",
       "    .dataframe tbody tr th {\n",
       "        vertical-align: top;\n",
       "    }\n",
       "\n",
       "    .dataframe thead th {\n",
       "        text-align: right;\n",
       "    }\n",
       "</style>\n",
       "<table border=\"1\" class=\"dataframe\">\n",
       "  <thead>\n",
       "    <tr style=\"text-align: right;\">\n",
       "      <th></th>\n",
       "      <th>genre</th>\n",
       "      <th>name</th>\n",
       "    </tr>\n",
       "  </thead>\n",
       "  <tbody>\n",
       "    <tr>\n",
       "      <th>0</th>\n",
       "      <td>Action</td>\n",
       "      <td>1031</td>\n",
       "    </tr>\n",
       "    <tr>\n",
       "      <th>7</th>\n",
       "      <td>Role-Playing</td>\n",
       "      <td>370</td>\n",
       "    </tr>\n",
       "    <tr>\n",
       "      <th>1</th>\n",
       "      <td>Adventure</td>\n",
       "      <td>302</td>\n",
       "    </tr>\n",
       "    <tr>\n",
       "      <th>10</th>\n",
       "      <td>Sports</td>\n",
       "      <td>268</td>\n",
       "    </tr>\n",
       "    <tr>\n",
       "      <th>8</th>\n",
       "      <td>Shooter</td>\n",
       "      <td>235</td>\n",
       "    </tr>\n",
       "    <tr>\n",
       "      <th>3</th>\n",
       "      <td>Misc</td>\n",
       "      <td>192</td>\n",
       "    </tr>\n",
       "    <tr>\n",
       "      <th>6</th>\n",
       "      <td>Racing</td>\n",
       "      <td>115</td>\n",
       "    </tr>\n",
       "    <tr>\n",
       "      <th>2</th>\n",
       "      <td>Fighting</td>\n",
       "      <td>109</td>\n",
       "    </tr>\n",
       "    <tr>\n",
       "      <th>4</th>\n",
       "      <td>Platform</td>\n",
       "      <td>85</td>\n",
       "    </tr>\n",
       "    <tr>\n",
       "      <th>9</th>\n",
       "      <td>Simulation</td>\n",
       "      <td>80</td>\n",
       "    </tr>\n",
       "    <tr>\n",
       "      <th>11</th>\n",
       "      <td>Strategy</td>\n",
       "      <td>71</td>\n",
       "    </tr>\n",
       "    <tr>\n",
       "      <th>5</th>\n",
       "      <td>Puzzle</td>\n",
       "      <td>28</td>\n",
       "    </tr>\n",
       "  </tbody>\n",
       "</table>\n",
       "</div>"
      ],
      "text/plain": [
       "           genre  name\n",
       "0         Action  1031\n",
       "7   Role-Playing   370\n",
       "1      Adventure   302\n",
       "10        Sports   268\n",
       "8        Shooter   235\n",
       "3           Misc   192\n",
       "6         Racing   115\n",
       "2       Fighting   109\n",
       "4       Platform    85\n",
       "9     Simulation    80\n",
       "11      Strategy    71\n",
       "5         Puzzle    28"
      ]
     },
     "execution_count": 33,
     "metadata": {},
     "output_type": "execute_result"
    }
   ],
   "source": [
    "popular_genre = actual_df.groupby('genre').agg({'name':'count'}).reset_index()\n",
    "popular_genre.sort_values(by='name', ascending=False)"
   ]
  },
  {
   "cell_type": "markdown",
   "metadata": {},
   "source": [
    "С явным отрывом лидируют игры в жанре Action."
   ]
  },
  {
   "cell_type": "code",
   "execution_count": 34,
   "metadata": {
    "scrolled": true
   },
   "outputs": [
    {
     "data": {
      "image/png": "[encoded data removed]",
      "text/plain": [
       "<Figure size 1152x720 with 1 Axes>"
      ]
     },
     "metadata": {
      "needs_background": "light"
     },
     "output_type": "display_data"
    }
   ],
   "source": [
    "actual_df.boxplot(column = ['total_sales'],by = ['genre'],figsize=(16, 10))\n",
    "plt.ylim([0, 2])\n",
    "plt.show()"
   ]
  },
  {
   "cell_type": "markdown",
   "metadata": {},
   "source": [
    "В жанре Action много выбросов (очень прибыльных игр). Из-за этого общая прибыль по жанру Action выше остальных. Но медианное значение продаж выше в жанре Shooter. Второе место по медианным продажам делят Platform и Sports"
   ]
  },
  {
   "cell_type": "markdown",
   "metadata": {},
   "source": [
    "## Портрет пользователя для каждого региона "
   ]
  },
  {
   "cell_type": "markdown",
   "metadata": {},
   "source": [
    "Определим для пользователя каждого региона (NA, EU, JP):\n",
    "- Самые популярные платформы (топ-5). Опишите различия в долях продаж.\n",
    "- Самые популярные жанры (топ-5). Поясните разницу.\n",
    "- Влияет ли рейтинг ESRB на продажи в отдельном регионе?"
   ]
  },
  {
   "cell_type": "markdown",
   "metadata": {},
   "source": [
    "### Cамые популярные платформы (топ-5)"
   ]
  },
  {
   "cell_type": "markdown",
   "metadata": {},
   "source": [
    "Сгруппируем платформы по регионам пользования и выведем топ-5 самых популярных"
   ]
  },
  {
   "cell_type": "code",
   "execution_count": 35,
   "metadata": {},
   "outputs": [
    {
     "data": {
      "image/png": "[encoded data removed]",
      "text/plain": [
       "<Figure size 432x288 with 1 Axes>"
      ]
     },
     "metadata": {
      "needs_background": "light"
     },
     "output_type": "display_data"
    },
    {
     "data": {
      "image/png": "[encoded data removed]",
      "text/plain": [
       "<Figure size 432x288 with 1 Axes>"
      ]
     },
     "metadata": {
      "needs_background": "light"
     },
     "output_type": "display_data"
    },
    {
     "data": {
      "image/png": "[encoded data removed]",
      "text/plain": [
       "<Figure size 432x288 with 1 Axes>"
      ]
     },
     "metadata": {
      "needs_background": "light"
     },
     "output_type": "display_data"
    }
   ],
   "source": [
    "actual_df.groupby(by='platform').agg({'jp_sales':'sum'}).sort_values(by='jp_sales', ascending=False).head(5).plot(kind='bar')\n",
    "actual_df.groupby(by='platform').agg({'eu_sales':'sum'}).sort_values(by='eu_sales', ascending=False).head(5).plot(kind='bar')\n",
    "actual_df.groupby(by='platform').agg({'na_sales':'sum'}).sort_values(by='na_sales', ascending=False).head(5).plot(kind='bar')\n",
    "plt.show()"
   ]
  },
  {
   "cell_type": "markdown",
   "metadata": {},
   "source": [
    "У пользователей Северной Америки и Европы предпочтение схожие - в топ-5 платформ попали X360, PS3, Wii,PS4. В Японии самыми популярными оказались платформы Nintendo ( 3DS и DS)"
   ]
  },
  {
   "cell_type": "markdown",
   "metadata": {},
   "source": [
    "### Самые популярные жанры (топ-5)"
   ]
  },
  {
   "cell_type": "markdown",
   "metadata": {},
   "source": [
    "Повторим предыдущее действие для жанров"
   ]
  },
  {
   "cell_type": "code",
   "execution_count": 36,
   "metadata": {
    "scrolled": true
   },
   "outputs": [
    {
     "data": {
      "image/png": "[encoded data removed]",
      "text/plain": [
       "<Figure size 432x288 with 1 Axes>"
      ]
     },
     "metadata": {
      "needs_background": "light"
     },
     "output_type": "display_data"
    },
    {
     "data": {
      "image/png": "[encoded data removed]",
      "text/plain": [
       "<Figure size 432x288 with 1 Axes>"
      ]
     },
     "metadata": {
      "needs_background": "light"
     },
     "output_type": "display_data"
    },
    {
     "data": {
      "image/png": "[encoded data removed]",
      "text/plain": [
       "<Figure size 432x288 with 1 Axes>"
      ]
     },
     "metadata": {
      "needs_background": "light"
     },
     "output_type": "display_data"
    }
   ],
   "source": [
    "actual_df.groupby(by='genre').agg({'jp_sales':'sum'}).sort_values(by='jp_sales', ascending=False).head(5).plot(kind='bar')\n",
    "actual_df.groupby(by='genre').agg({'eu_sales':'sum'}).sort_values(by='eu_sales', ascending=False).head(5).plot(kind='bar')\n",
    "actual_df.groupby(by='genre').agg({'na_sales':'sum'}).sort_values(by='na_sales', ascending=False).head(5).plot(kind='bar')\n",
    "plt.show()"
   ]
  },
  {
   "cell_type": "markdown",
   "metadata": {},
   "source": [
    "Предпочтение пользователей Северной Америки и Европы полностью совпадают (топ-5). В Японии так же любят Action, Music, Sports, но самым популяорным жанром здесь стал Role-Playing"
   ]
  },
  {
   "cell_type": "markdown",
   "metadata": {},
   "source": [
    "### Влияет ли рейтинг ESRB на продажи в отдельном регионе?"
   ]
  },
  {
   "cell_type": "markdown",
   "metadata": {},
   "source": [
    "Так же определим топ-5 "
   ]
  },
  {
   "cell_type": "code",
   "execution_count": 37,
   "metadata": {},
   "outputs": [
    {
     "data": {
      "image/png": "[encoded data removed]",
      "text/plain": [
       "<Figure size 432x288 with 1 Axes>"
      ]
     },
     "metadata": {
      "needs_background": "light"
     },
     "output_type": "display_data"
    },
    {
     "data": {
      "image/png": "[encoded data removed]",
      "text/plain": [
       "<Figure size 432x288 with 1 Axes>"
      ]
     },
     "metadata": {
      "needs_background": "light"
     },
     "output_type": "display_data"
    },
    {
     "data": {
      "image/png": "[encoded data removed]",
      "text/plain": [
       "<Figure size 432x288 with 1 Axes>"
      ]
     },
     "metadata": {
      "needs_background": "light"
     },
     "output_type": "display_data"
    }
   ],
   "source": [
    "actual_df.groupby(by='rating').agg({'jp_sales':'sum'}).sort_values(by='jp_sales', ascending=False).head(5).plot(kind='bar')\n",
    "actual_df.groupby(by='rating').agg({'eu_sales':'sum'}).sort_values(by='eu_sales', ascending=False).head(5).plot(kind='bar')\n",
    "actual_df.groupby(by='rating').agg({'na_sales':'sum'}).sort_values(by='na_sales', ascending=False).head(5).plot(kind='bar')\n",
    "plt.show()"
   ]
  },
  {
   "cell_type": "markdown",
   "metadata": {},
   "source": [
    "**Вывод**: Северной Америке и Европе ситуация одинакова. Первую пятерку составляют игры рейтинга М(\"Для взрослых\"), E(\"Для всех\"), игры без рейтинга, E10+(\"Для всех от 10 лет и старше\"),T(\"Подросткам\"). В Японии же с огромным преимуществом дидируют игры без рейтинга...С чем же это связано... \\\n",
    "Возможно, причина в том , что организация Entertainment Software Rating Board (ESRB) — негосударственная организация, основное направление деятельности — принятие и определение рейтингов для компьютерных видеоигр и другого развлекательного программного обеспечения в США и Канаде.\n",
    "США и Канада. Скорее всего в Японии свой рынок игр и они просто не оцениваются данной организацией."
   ]
  },
  {
   "cell_type": "markdown",
   "metadata": {},
   "source": [
    "## Проверка гипотез"
   ]
  },
  {
   "cell_type": "markdown",
   "metadata": {},
   "source": [
    "### Гипотеза №1"
   ]
  },
  {
   "cell_type": "markdown",
   "metadata": {},
   "source": [
    "**Средние пользовательские рейтинги платформ Xbox One и PC одинаковые**"
   ]
  },
  {
   "cell_type": "markdown",
   "metadata": {},
   "source": [
    "Сформулируем нулевую и анльтернативную гипотезы:\n",
    "- Н0: Средний пользовательский рейтинг платформ Xbox One и PC одинаковый\n",
    "- H1: Средний пользовательский рейтинг платформ Xbox One и PC различается"
   ]
  },
  {
   "cell_type": "markdown",
   "metadata": {},
   "source": [
    "Так как наши выборки независимы между собой будем использовать t-критерий Стьюдента"
   ]
  },
  {
   "cell_type": "code",
   "execution_count": 38,
   "metadata": {},
   "outputs": [],
   "source": [
    "#зададим alpha\n",
    "alpha = .05"
   ]
  },
  {
   "cell_type": "code",
   "execution_count": 39,
   "metadata": {},
   "outputs": [],
   "source": [
    "#введём 2 переменных с данными оценок по Xbox One и PC\n",
    "xbox_one = actual_df[(actual_df['platform'] == 'XOne') & (actual_df['user_score'] > 0)]['user_score']\n",
    "pc = actual_df[(actual_df['platform'] == 'PC') & (actual_df['user_score'] > 0)]['user_score']"
   ]
  },
  {
   "cell_type": "code",
   "execution_count": 40,
   "metadata": {},
   "outputs": [],
   "source": [
    "#проведём тест\n",
    "results = st.ttest_ind(xbox_one, pc)"
   ]
  },
  {
   "cell_type": "code",
   "execution_count": 41,
   "metadata": {},
   "outputs": [
    {
     "name": "stdout",
     "output_type": "stream",
     "text": [
      "p-значение: 0.5535080500643661\n",
      "Не получилось отвергнуть нулевую гипотезу\n"
     ]
    }
   ],
   "source": [
    "#выведем результат\n",
    "print('p-значение:', results.pvalue)\n",
    "\n",
    "if (results.pvalue < alpha):\n",
    "    print(\"Отвергаем нулевую гипотезу\")\n",
    "else:\n",
    "    print(\"Не получилось отвергнуть нулевую гипотезу\")"
   ]
  },
  {
   "cell_type": "markdown",
   "metadata": {},
   "source": [
    "**Вывод**: Статистическо значимой разницы между средним пользователемским рейтингом Xbox One и PC нет"
   ]
  },
  {
   "cell_type": "markdown",
   "metadata": {},
   "source": [
    "### Гипотеза №2"
   ]
  },
  {
   "cell_type": "markdown",
   "metadata": {},
   "source": [
    "**Средние пользовательские рейтинги жанров Action (англ. «действие», экшен-игры) и Sports (англ. «спортивные соревнования») разные**"
   ]
  },
  {
   "cell_type": "markdown",
   "metadata": {},
   "source": [
    "Сформулируем нулевую и альтернативную гипотезы:\n",
    "- H0: Средние пользовательские рейтинги жанров Action и Sports равны\n",
    "- H1: Средние пользовательские рейтинги жанров Action и Sports различаются "
   ]
  },
  {
   "cell_type": "markdown",
   "metadata": {},
   "source": [
    "Здесь так же будем использовать t-критерий Стьюдента"
   ]
  },
  {
   "cell_type": "code",
   "execution_count": 42,
   "metadata": {},
   "outputs": [],
   "source": [
    "action = actual_df[(actual_df['genre'] == 'Action') & (actual_df['user_score'] > 0)]['user_score']\n",
    "sport = actual_df[(actual_df['genre'] == 'Sports') & (actual_df['user_score'] > 0)]['user_score']"
   ]
  },
  {
   "cell_type": "code",
   "execution_count": 43,
   "metadata": {},
   "outputs": [],
   "source": [
    "results = st.ttest_ind(action, sport)"
   ]
  },
  {
   "cell_type": "code",
   "execution_count": 44,
   "metadata": {},
   "outputs": [
    {
     "name": "stdout",
     "output_type": "stream",
     "text": [
      "p-значение: 3.7163089460934874e-26\n",
      "Отвергаем нулевую гипотезу\n"
     ]
    }
   ],
   "source": [
    "#выведем результат\n",
    "print('p-значение:', results.pvalue)\n",
    "\n",
    "if (results.pvalue < alpha):\n",
    "    print(\"Отвергаем нулевую гипотезу\")\n",
    "else:\n",
    "    print(\"Не получилось отвергнуть нулевую гипотезу\")"
   ]
  },
  {
   "cell_type": "markdown",
   "metadata": {},
   "source": [
    "**Вывод**: Средние пользовательские рейтинги жанров Action и Sports различаются"
   ]
  },
  {
   "cell_type": "markdown",
   "metadata": {},
   "source": [
    "## Общий вывод"
   ]
  },
  {
   "cell_type": "markdown",
   "metadata": {},
   "source": [
    "- Первые игры появились ещё в 1980 году и до 1995 года особо сфера не развилась. С появлением технологий игрушки стали более красивые, интересные, качественные. Соответственно, сфера стала приносит прибыль и игр стали выпускать всё больше и больше.\n",
    "- Перспективные платформы: PS4 и Xone\n",
    "- У пользователей из Европы и Северной Америки похожие предпочтения, в Японии больше любят Role-Playing игры и Nintendo\n",
    "- Статистическо значимой разницы между средним пользователемским рейтингом Xbox One и PC нет\n",
    "- Средние пользовательские рейтинги жанров Action и Sports различаются"
   ]
  },
  {
   "cell_type": "markdown",
   "metadata": {},
   "source": [
    "Потенциальная успешность игры в первую очереди зависит от региона и пользователей , которые будут в неё играть. Например, в Японии и Европе различаются предпочтения пользователей и чтобы спланировать рекламные кампании нужно акцентировать внимание на жанрах игры, интересных в каждом регионе. \\\n",
    "То же касается платформ для игр - Мы должны выпускать игры для новых, перспективных платформ, так как цикл жизни одной платформы очень короткий\n",
    "Таким образом, закономерности, определяющие успешность игры:\n",
    "- Акцентируем внимание на рынке пользования игры. Если хотим успешных продаж в Европе и Америке - выбираем игры в жанре Action, Shooter, Sports\n",
    "- Выбираем перспективныe платформы (PS4, XOne)"
   ]
  }
 ],
 "metadata": {
  "ExecuteTimeLog": [
   {
    "duration": 1341,
    "start_time": "2022-05-18T16:27:20.049Z"
   },
   {
    "duration": 156,
    "start_time": "2022-05-18T16:27:21.392Z"
   },
   {
    "duration": 3,
    "start_time": "2022-05-18T16:27:21.550Z"
   },
   {
    "duration": 37,
    "start_time": "2022-05-18T16:27:21.558Z"
   },
   {
    "duration": 28,
    "start_time": "2022-05-18T16:27:21.597Z"
   },
   {
    "duration": 14,
    "start_time": "2022-05-18T16:27:21.626Z"
   },
   {
    "duration": 43,
    "start_time": "2022-05-18T16:27:21.642Z"
   },
   {
    "duration": 12,
    "start_time": "2022-05-18T16:27:21.686Z"
   },
   {
    "duration": 19,
    "start_time": "2022-05-18T16:27:21.700Z"
   },
   {
    "duration": 11,
    "start_time": "2022-05-18T16:27:21.721Z"
   },
   {
    "duration": 48,
    "start_time": "2022-05-18T16:27:21.733Z"
   },
   {
    "duration": 9,
    "start_time": "2022-05-18T16:27:21.784Z"
   },
   {
    "duration": 39,
    "start_time": "2022-05-18T16:27:21.794Z"
   },
   {
    "duration": 7,
    "start_time": "2022-05-18T16:27:21.835Z"
   },
   {
    "duration": 36,
    "start_time": "2022-05-18T16:27:21.844Z"
   },
   {
    "duration": 223,
    "start_time": "2022-05-18T16:27:21.883Z"
   },
   {
    "duration": 17,
    "start_time": "2022-05-18T16:27:22.107Z"
   },
   {
    "duration": 15,
    "start_time": "2022-05-18T16:27:22.125Z"
   },
   {
    "duration": 351,
    "start_time": "2022-05-18T16:27:22.141Z"
   },
   {
    "duration": 23,
    "start_time": "2022-05-18T16:27:22.494Z"
   },
   {
    "duration": 12,
    "start_time": "2022-05-18T16:27:22.519Z"
   },
   {
    "duration": 42,
    "start_time": "2022-05-18T16:27:22.533Z"
   },
   {
    "duration": 493,
    "start_time": "2022-05-18T16:27:22.577Z"
   },
   {
    "duration": 332,
    "start_time": "2022-05-18T16:27:28.305Z"
   },
   {
    "duration": 9,
    "start_time": "2022-05-18T16:34:43.788Z"
   },
   {
    "duration": 21,
    "start_time": "2022-05-18T16:34:49.909Z"
   },
   {
    "duration": 120,
    "start_time": "2022-05-18T16:38:29.677Z"
   },
   {
    "duration": 17,
    "start_time": "2022-05-18T16:38:34.587Z"
   },
   {
    "duration": 156,
    "start_time": "2022-05-18T16:39:04.744Z"
   },
   {
    "duration": 34,
    "start_time": "2022-05-18T16:40:37.348Z"
   },
   {
    "duration": 143,
    "start_time": "2022-05-18T16:41:06.475Z"
   },
   {
    "duration": 145,
    "start_time": "2022-05-18T16:41:31.735Z"
   },
   {
    "duration": 311,
    "start_time": "2022-05-18T16:42:53.675Z"
   },
   {
    "duration": 957,
    "start_time": "2022-05-18T16:44:15.359Z"
   },
   {
    "duration": 202,
    "start_time": "2022-05-18T16:44:45.540Z"
   },
   {
    "duration": 1232,
    "start_time": "2022-05-18T16:45:33.755Z"
   },
   {
    "duration": 1089,
    "start_time": "2022-05-18T16:47:47.456Z"
   },
   {
    "duration": 1174,
    "start_time": "2022-05-18T16:48:02.189Z"
   },
   {
    "duration": 26,
    "start_time": "2022-05-18T16:48:41.501Z"
   },
   {
    "duration": 7,
    "start_time": "2022-05-18T16:48:52.693Z"
   },
   {
    "duration": 1339,
    "start_time": "2022-05-18T16:48:56.785Z"
   },
   {
    "duration": 7,
    "start_time": "2022-05-18T16:49:16.742Z"
   },
   {
    "duration": 1193,
    "start_time": "2022-05-18T16:49:18.344Z"
   },
   {
    "duration": 1170,
    "start_time": "2022-05-18T16:49:30.774Z"
   },
   {
    "duration": 1163,
    "start_time": "2022-05-18T16:51:00.894Z"
   },
   {
    "duration": 1252,
    "start_time": "2022-05-18T16:51:08.601Z"
   },
   {
    "duration": 3,
    "start_time": "2022-05-18T16:51:18.195Z"
   },
   {
    "duration": 126,
    "start_time": "2022-05-18T16:51:18.200Z"
   },
   {
    "duration": 4,
    "start_time": "2022-05-18T16:51:18.328Z"
   },
   {
    "duration": 30,
    "start_time": "2022-05-18T16:51:18.334Z"
   },
   {
    "duration": 21,
    "start_time": "2022-05-18T16:51:18.366Z"
   },
   {
    "duration": 12,
    "start_time": "2022-05-18T16:51:18.389Z"
   },
   {
    "duration": 13,
    "start_time": "2022-05-18T16:51:18.403Z"
   },
   {
    "duration": 6,
    "start_time": "2022-05-18T16:51:18.417Z"
   },
   {
    "duration": 8,
    "start_time": "2022-05-18T16:51:18.425Z"
   },
   {
    "duration": 11,
    "start_time": "2022-05-18T16:51:18.435Z"
   },
   {
    "duration": 54,
    "start_time": "2022-05-18T16:51:18.448Z"
   },
   {
    "duration": 6,
    "start_time": "2022-05-18T16:51:18.504Z"
   },
   {
    "duration": 21,
    "start_time": "2022-05-18T16:51:18.511Z"
   },
   {
    "duration": 4,
    "start_time": "2022-05-18T16:51:18.534Z"
   },
   {
    "duration": 24,
    "start_time": "2022-05-18T16:51:18.539Z"
   },
   {
    "duration": 263,
    "start_time": "2022-05-18T16:51:18.566Z"
   },
   {
    "duration": 16,
    "start_time": "2022-05-18T16:51:18.831Z"
   },
   {
    "duration": 9,
    "start_time": "2022-05-18T16:51:18.859Z"
   },
   {
    "duration": 363,
    "start_time": "2022-05-18T16:51:18.870Z"
   },
   {
    "duration": 26,
    "start_time": "2022-05-18T16:51:19.235Z"
   },
   {
    "duration": 7,
    "start_time": "2022-05-18T16:51:19.263Z"
   },
   {
    "duration": 34,
    "start_time": "2022-05-18T16:51:19.272Z"
   },
   {
    "duration": 446,
    "start_time": "2022-05-18T16:51:19.308Z"
   },
   {
    "duration": 394,
    "start_time": "2022-05-18T16:51:19.759Z"
   },
   {
    "duration": 7,
    "start_time": "2022-05-18T16:51:25.388Z"
   },
   {
    "duration": 1064,
    "start_time": "2022-05-18T16:51:25.977Z"
   },
   {
    "duration": 1223,
    "start_time": "2022-05-18T16:51:46.483Z"
   },
   {
    "duration": 122,
    "start_time": "2022-05-18T16:51:47.707Z"
   },
   {
    "duration": 4,
    "start_time": "2022-05-18T16:51:47.830Z"
   },
   {
    "duration": 50,
    "start_time": "2022-05-18T16:51:47.836Z"
   },
   {
    "duration": 56,
    "start_time": "2022-05-18T16:51:47.888Z"
   },
   {
    "duration": 65,
    "start_time": "2022-05-18T16:51:47.946Z"
   },
   {
    "duration": 79,
    "start_time": "2022-05-18T16:51:48.013Z"
   },
   {
    "duration": 32,
    "start_time": "2022-05-18T16:51:48.094Z"
   },
   {
    "duration": 62,
    "start_time": "2022-05-18T16:51:48.128Z"
   },
   {
    "duration": 40,
    "start_time": "2022-05-18T16:51:48.193Z"
   },
   {
    "duration": 68,
    "start_time": "2022-05-18T16:51:48.234Z"
   },
   {
    "duration": 30,
    "start_time": "2022-05-18T16:51:48.303Z"
   },
   {
    "duration": 73,
    "start_time": "2022-05-18T16:51:48.335Z"
   },
   {
    "duration": 22,
    "start_time": "2022-05-18T16:51:48.410Z"
   },
   {
    "duration": 87,
    "start_time": "2022-05-18T16:51:48.434Z"
   },
   {
    "duration": 377,
    "start_time": "2022-05-18T16:51:48.522Z"
   },
   {
    "duration": 18,
    "start_time": "2022-05-18T16:51:48.901Z"
   },
   {
    "duration": 22,
    "start_time": "2022-05-18T16:51:48.920Z"
   },
   {
    "duration": 413,
    "start_time": "2022-05-18T16:51:48.943Z"
   },
   {
    "duration": 35,
    "start_time": "2022-05-18T16:51:49.359Z"
   },
   {
    "duration": 16,
    "start_time": "2022-05-18T16:51:49.396Z"
   },
   {
    "duration": 35,
    "start_time": "2022-05-18T16:51:49.414Z"
   },
   {
    "duration": 437,
    "start_time": "2022-05-18T16:51:49.450Z"
   },
   {
    "duration": 350,
    "start_time": "2022-05-18T16:51:49.888Z"
   },
   {
    "duration": 7,
    "start_time": "2022-05-18T16:51:50.240Z"
   },
   {
    "duration": 1076,
    "start_time": "2022-05-18T16:51:50.262Z"
   },
   {
    "duration": 1385,
    "start_time": "2022-05-18T18:25:42.836Z"
   },
   {
    "duration": 518,
    "start_time": "2022-05-18T18:25:44.223Z"
   },
   {
    "duration": 5,
    "start_time": "2022-05-18T18:25:44.743Z"
   },
   {
    "duration": 12,
    "start_time": "2022-05-18T18:25:44.750Z"
   },
   {
    "duration": 50,
    "start_time": "2022-05-18T18:25:44.764Z"
   },
   {
    "duration": 9,
    "start_time": "2022-05-18T18:25:44.816Z"
   },
   {
    "duration": 15,
    "start_time": "2022-05-18T18:25:44.827Z"
   },
   {
    "duration": 5,
    "start_time": "2022-05-18T18:25:44.844Z"
   },
   {
    "duration": 7,
    "start_time": "2022-05-18T18:25:44.851Z"
   },
   {
    "duration": 8,
    "start_time": "2022-05-18T18:25:44.860Z"
   },
   {
    "duration": 44,
    "start_time": "2022-05-18T18:25:44.870Z"
   },
   {
    "duration": 6,
    "start_time": "2022-05-18T18:25:44.915Z"
   },
   {
    "duration": 22,
    "start_time": "2022-05-18T18:25:44.923Z"
   },
   {
    "duration": 8,
    "start_time": "2022-05-18T18:25:44.949Z"
   },
   {
    "duration": 29,
    "start_time": "2022-05-18T18:25:44.959Z"
   },
   {
    "duration": 334,
    "start_time": "2022-05-18T18:25:44.990Z"
   },
   {
    "duration": 23,
    "start_time": "2022-05-18T18:25:45.326Z"
   },
   {
    "duration": 10,
    "start_time": "2022-05-18T18:25:45.351Z"
   },
   {
    "duration": 351,
    "start_time": "2022-05-18T18:25:45.363Z"
   },
   {
    "duration": 26,
    "start_time": "2022-05-18T18:25:45.715Z"
   },
   {
    "duration": 4,
    "start_time": "2022-05-18T18:25:45.743Z"
   },
   {
    "duration": 36,
    "start_time": "2022-05-18T18:25:45.749Z"
   },
   {
    "duration": 406,
    "start_time": "2022-05-18T18:25:45.787Z"
   },
   {
    "duration": 354,
    "start_time": "2022-05-18T18:25:46.195Z"
   },
   {
    "duration": 12,
    "start_time": "2022-05-18T18:25:46.551Z"
   },
   {
    "duration": 1085,
    "start_time": "2022-05-18T18:25:46.565Z"
   },
   {
    "duration": 14,
    "start_time": "2022-05-18T18:26:10.944Z"
   },
   {
    "duration": 224,
    "start_time": "2022-05-18T18:32:12.467Z"
   },
   {
    "duration": 12,
    "start_time": "2022-05-18T18:33:08.059Z"
   },
   {
    "duration": 18,
    "start_time": "2022-05-18T18:36:46.826Z"
   },
   {
    "duration": 4,
    "start_time": "2022-05-18T18:37:17.906Z"
   },
   {
    "duration": 200,
    "start_time": "2022-05-18T18:37:17.913Z"
   },
   {
    "duration": 9,
    "start_time": "2022-05-18T18:37:18.120Z"
   },
   {
    "duration": 24,
    "start_time": "2022-05-18T18:37:18.130Z"
   },
   {
    "duration": 28,
    "start_time": "2022-05-18T18:37:18.157Z"
   },
   {
    "duration": 6,
    "start_time": "2022-05-18T18:37:18.187Z"
   },
   {
    "duration": 16,
    "start_time": "2022-05-18T18:37:18.195Z"
   },
   {
    "duration": 26,
    "start_time": "2022-05-18T18:37:18.213Z"
   },
   {
    "duration": 11,
    "start_time": "2022-05-18T18:37:18.242Z"
   },
   {
    "duration": 10,
    "start_time": "2022-05-18T18:37:18.254Z"
   },
   {
    "duration": 45,
    "start_time": "2022-05-18T18:37:18.269Z"
   },
   {
    "duration": 37,
    "start_time": "2022-05-18T18:37:18.316Z"
   },
   {
    "duration": 49,
    "start_time": "2022-05-18T18:37:18.356Z"
   },
   {
    "duration": 54,
    "start_time": "2022-05-18T18:37:18.408Z"
   },
   {
    "duration": 65,
    "start_time": "2022-05-18T18:37:18.465Z"
   },
   {
    "duration": 241,
    "start_time": "2022-05-18T18:37:18.532Z"
   },
   {
    "duration": 38,
    "start_time": "2022-05-18T18:37:18.775Z"
   },
   {
    "duration": 15,
    "start_time": "2022-05-18T18:37:18.820Z"
   },
   {
    "duration": 298,
    "start_time": "2022-05-18T18:37:18.837Z"
   },
   {
    "duration": 38,
    "start_time": "2022-05-18T18:37:19.138Z"
   },
   {
    "duration": 5,
    "start_time": "2022-05-18T18:37:19.178Z"
   },
   {
    "duration": 51,
    "start_time": "2022-05-18T18:37:19.185Z"
   },
   {
    "duration": 447,
    "start_time": "2022-05-18T18:37:19.238Z"
   },
   {
    "duration": 480,
    "start_time": "2022-05-18T18:37:19.687Z"
   },
   {
    "duration": 17,
    "start_time": "2022-05-18T18:37:20.169Z"
   },
   {
    "duration": 991,
    "start_time": "2022-05-18T18:37:20.189Z"
   },
   {
    "duration": 15,
    "start_time": "2022-05-18T18:37:21.182Z"
   },
   {
    "duration": 12,
    "start_time": "2022-05-18T18:37:23.695Z"
   },
   {
    "duration": 159,
    "start_time": "2022-05-18T18:37:27.340Z"
   },
   {
    "duration": 17,
    "start_time": "2022-05-18T18:37:47.478Z"
   },
   {
    "duration": 13,
    "start_time": "2022-05-18T18:38:01.789Z"
   },
   {
    "duration": 19,
    "start_time": "2022-05-18T18:38:03.558Z"
   },
   {
    "duration": 6,
    "start_time": "2022-05-18T18:38:05.700Z"
   },
   {
    "duration": 23,
    "start_time": "2022-05-18T18:38:07.980Z"
   },
   {
    "duration": 273,
    "start_time": "2022-05-18T18:38:11.523Z"
   },
   {
    "duration": 22,
    "start_time": "2022-05-18T18:38:14.106Z"
   },
   {
    "duration": 6,
    "start_time": "2022-05-18T18:38:15.677Z"
   },
   {
    "duration": 324,
    "start_time": "2022-05-18T18:38:16.300Z"
   },
   {
    "duration": 29,
    "start_time": "2022-05-18T18:38:18.106Z"
   },
   {
    "duration": 6,
    "start_time": "2022-05-18T18:38:19.961Z"
   },
   {
    "duration": 18,
    "start_time": "2022-05-18T18:38:21.237Z"
   },
   {
    "duration": 411,
    "start_time": "2022-05-18T18:38:22.520Z"
   },
   {
    "duration": 409,
    "start_time": "2022-05-18T18:38:24.280Z"
   },
   {
    "duration": 11,
    "start_time": "2022-05-18T18:38:26.772Z"
   },
   {
    "duration": 1260,
    "start_time": "2022-05-18T18:38:27.325Z"
   },
   {
    "duration": 26,
    "start_time": "2022-05-18T18:38:28.587Z"
   },
   {
    "duration": 135,
    "start_time": "2022-05-18T18:38:28.933Z"
   },
   {
    "duration": 7,
    "start_time": "2022-05-18T18:39:06.848Z"
   },
   {
    "duration": 3,
    "start_time": "2022-05-18T18:39:15.544Z"
   },
   {
    "duration": 125,
    "start_time": "2022-05-18T18:39:15.550Z"
   },
   {
    "duration": 5,
    "start_time": "2022-05-18T18:39:15.677Z"
   },
   {
    "duration": 29,
    "start_time": "2022-05-18T18:39:15.684Z"
   },
   {
    "duration": 28,
    "start_time": "2022-05-18T18:39:15.716Z"
   },
   {
    "duration": 109,
    "start_time": "2022-05-18T18:39:15.745Z"
   },
   {
    "duration": 13,
    "start_time": "2022-05-18T18:39:15.855Z"
   },
   {
    "duration": 7,
    "start_time": "2022-05-18T18:39:15.870Z"
   },
   {
    "duration": 7,
    "start_time": "2022-05-18T18:39:15.878Z"
   },
   {
    "duration": 46,
    "start_time": "2022-05-18T18:39:15.887Z"
   },
   {
    "duration": 24,
    "start_time": "2022-05-18T18:39:15.935Z"
   },
   {
    "duration": 7,
    "start_time": "2022-05-18T18:39:15.961Z"
   },
   {
    "duration": 19,
    "start_time": "2022-05-18T18:39:15.969Z"
   },
   {
    "duration": 4,
    "start_time": "2022-05-18T18:39:15.991Z"
   },
   {
    "duration": 20,
    "start_time": "2022-05-18T18:39:16.024Z"
   },
   {
    "duration": 196,
    "start_time": "2022-05-18T18:39:16.045Z"
   },
   {
    "duration": 18,
    "start_time": "2022-05-18T18:39:16.243Z"
   },
   {
    "duration": 7,
    "start_time": "2022-05-18T18:39:16.263Z"
   },
   {
    "duration": 297,
    "start_time": "2022-05-18T18:39:16.272Z"
   },
   {
    "duration": 24,
    "start_time": "2022-05-18T18:39:16.571Z"
   },
   {
    "duration": 32,
    "start_time": "2022-05-18T18:39:16.597Z"
   },
   {
    "duration": 24,
    "start_time": "2022-05-18T18:39:16.632Z"
   },
   {
    "duration": 394,
    "start_time": "2022-05-18T18:39:16.658Z"
   },
   {
    "duration": 396,
    "start_time": "2022-05-18T18:39:17.054Z"
   },
   {
    "duration": 8,
    "start_time": "2022-05-18T18:39:17.453Z"
   },
   {
    "duration": 297,
    "start_time": "2022-05-18T18:39:17.463Z"
   },
   {
    "duration": 11,
    "start_time": "2022-05-18T18:39:17.762Z"
   },
   {
    "duration": 18,
    "start_time": "2022-05-18T18:39:20.425Z"
   },
   {
    "duration": 7,
    "start_time": "2022-05-18T18:39:23.999Z"
   },
   {
    "duration": 18,
    "start_time": "2022-05-18T18:45:15.191Z"
   },
   {
    "duration": 12,
    "start_time": "2022-05-18T18:45:42.041Z"
   },
   {
    "duration": 12,
    "start_time": "2022-05-18T18:46:09.150Z"
   },
   {
    "duration": 173,
    "start_time": "2022-05-18T18:46:44.556Z"
   },
   {
    "duration": 16,
    "start_time": "2022-05-18T18:46:54.660Z"
   },
   {
    "duration": 306,
    "start_time": "2022-05-18T18:47:01.238Z"
   },
   {
    "duration": 10,
    "start_time": "2022-05-18T18:47:59.274Z"
   },
   {
    "duration": 363,
    "start_time": "2022-05-18T18:53:16.776Z"
   },
   {
    "duration": 483,
    "start_time": "2022-05-18T18:53:25.496Z"
   },
   {
    "duration": 1316,
    "start_time": "2022-05-19T17:33:17.445Z"
   },
   {
    "duration": 291,
    "start_time": "2022-05-19T17:33:18.763Z"
   },
   {
    "duration": 5,
    "start_time": "2022-05-19T17:33:19.055Z"
   },
   {
    "duration": 4,
    "start_time": "2022-05-19T17:33:19.075Z"
   },
   {
    "duration": 19,
    "start_time": "2022-05-19T17:33:19.081Z"
   },
   {
    "duration": 5,
    "start_time": "2022-05-19T17:33:19.102Z"
   },
   {
    "duration": 11,
    "start_time": "2022-05-19T17:33:19.109Z"
   },
   {
    "duration": 7,
    "start_time": "2022-05-19T17:33:19.122Z"
   },
   {
    "duration": 6,
    "start_time": "2022-05-19T17:33:19.131Z"
   },
   {
    "duration": 6,
    "start_time": "2022-05-19T17:33:19.139Z"
   },
   {
    "duration": 20,
    "start_time": "2022-05-19T17:33:19.175Z"
   },
   {
    "duration": 6,
    "start_time": "2022-05-19T17:33:19.196Z"
   },
   {
    "duration": 16,
    "start_time": "2022-05-19T17:33:19.203Z"
   },
   {
    "duration": 4,
    "start_time": "2022-05-19T17:33:19.221Z"
   },
   {
    "duration": 16,
    "start_time": "2022-05-19T17:33:19.227Z"
   },
   {
    "duration": 263,
    "start_time": "2022-05-19T17:33:19.275Z"
   },
   {
    "duration": 18,
    "start_time": "2022-05-19T17:33:19.540Z"
   },
   {
    "duration": 19,
    "start_time": "2022-05-19T17:33:19.560Z"
   },
   {
    "duration": 304,
    "start_time": "2022-05-19T17:33:19.581Z"
   },
   {
    "duration": 27,
    "start_time": "2022-05-19T17:33:19.887Z"
   },
   {
    "duration": 6,
    "start_time": "2022-05-19T17:33:19.915Z"
   },
   {
    "duration": 18,
    "start_time": "2022-05-19T17:33:19.922Z"
   },
   {
    "duration": 379,
    "start_time": "2022-05-19T17:33:19.942Z"
   },
   {
    "duration": 316,
    "start_time": "2022-05-19T17:33:20.323Z"
   },
   {
    "duration": 7,
    "start_time": "2022-05-19T17:33:20.641Z"
   },
   {
    "duration": 227,
    "start_time": "2022-05-19T17:33:20.649Z"
   },
   {
    "duration": 11,
    "start_time": "2022-05-19T17:33:20.878Z"
   },
   {
    "duration": 10,
    "start_time": "2022-05-19T17:33:20.891Z"
   },
   {
    "duration": 181,
    "start_time": "2022-05-19T17:33:20.903Z"
   },
   {
    "duration": 0,
    "start_time": "2022-05-19T17:33:21.086Z"
   },
   {
    "duration": 374,
    "start_time": "2022-05-19T17:41:35.116Z"
   },
   {
    "duration": 433,
    "start_time": "2022-05-19T17:41:46.674Z"
   },
   {
    "duration": 22,
    "start_time": "2022-05-19T17:48:56.545Z"
   },
   {
    "duration": 24,
    "start_time": "2022-05-19T17:49:48.402Z"
   },
   {
    "duration": 506,
    "start_time": "2022-05-19T17:50:11.612Z"
   },
   {
    "duration": 421,
    "start_time": "2022-05-19T17:50:21.987Z"
   },
   {
    "duration": 2,
    "start_time": "2022-05-19T18:11:36.551Z"
   },
   {
    "duration": 8,
    "start_time": "2022-05-19T18:21:31.014Z"
   },
   {
    "duration": 11,
    "start_time": "2022-05-19T18:22:33.294Z"
   },
   {
    "duration": 10,
    "start_time": "2022-05-19T18:22:40.918Z"
   },
   {
    "duration": 3,
    "start_time": "2022-05-19T18:22:41.500Z"
   },
   {
    "duration": 4,
    "start_time": "2022-05-19T18:23:16.775Z"
   },
   {
    "duration": 7,
    "start_time": "2022-05-19T18:33:06.461Z"
   },
   {
    "duration": 3,
    "start_time": "2022-05-19T18:33:41.070Z"
   },
   {
    "duration": 3,
    "start_time": "2022-05-19T18:33:49.791Z"
   },
   {
    "duration": 4,
    "start_time": "2022-05-19T18:39:42.908Z"
   },
   {
    "duration": 1118,
    "start_time": "2022-05-19T18:40:25.055Z"
   },
   {
    "duration": 123,
    "start_time": "2022-05-19T18:40:26.174Z"
   },
   {
    "duration": 3,
    "start_time": "2022-05-19T18:40:26.299Z"
   },
   {
    "duration": 8,
    "start_time": "2022-05-19T18:40:26.303Z"
   },
   {
    "duration": 18,
    "start_time": "2022-05-19T18:40:26.313Z"
   },
   {
    "duration": 4,
    "start_time": "2022-05-19T18:40:26.333Z"
   },
   {
    "duration": 10,
    "start_time": "2022-05-19T18:40:26.338Z"
   },
   {
    "duration": 25,
    "start_time": "2022-05-19T18:40:26.350Z"
   },
   {
    "duration": 4,
    "start_time": "2022-05-19T18:40:26.377Z"
   },
   {
    "duration": 8,
    "start_time": "2022-05-19T18:40:26.383Z"
   },
   {
    "duration": 21,
    "start_time": "2022-05-19T18:40:26.392Z"
   },
   {
    "duration": 7,
    "start_time": "2022-05-19T18:40:26.414Z"
   },
   {
    "duration": 19,
    "start_time": "2022-05-19T18:40:26.422Z"
   },
   {
    "duration": 31,
    "start_time": "2022-05-19T18:40:26.444Z"
   },
   {
    "duration": 16,
    "start_time": "2022-05-19T18:40:26.477Z"
   },
   {
    "duration": 269,
    "start_time": "2022-05-19T18:40:26.494Z"
   },
   {
    "duration": 20,
    "start_time": "2022-05-19T18:40:26.764Z"
   },
   {
    "duration": 15,
    "start_time": "2022-05-19T18:40:26.785Z"
   },
   {
    "duration": 271,
    "start_time": "2022-05-19T18:40:26.802Z"
   },
   {
    "duration": 25,
    "start_time": "2022-05-19T18:40:27.074Z"
   },
   {
    "duration": 4,
    "start_time": "2022-05-19T18:40:27.100Z"
   },
   {
    "duration": 15,
    "start_time": "2022-05-19T18:40:27.105Z"
   },
   {
    "duration": 359,
    "start_time": "2022-05-19T18:40:27.122Z"
   },
   {
    "duration": 303,
    "start_time": "2022-05-19T18:40:27.483Z"
   },
   {
    "duration": 8,
    "start_time": "2022-05-19T18:40:27.788Z"
   },
   {
    "duration": 214,
    "start_time": "2022-05-19T18:40:27.797Z"
   },
   {
    "duration": 10,
    "start_time": "2022-05-19T18:40:28.013Z"
   },
   {
    "duration": 6,
    "start_time": "2022-05-19T18:40:28.025Z"
   },
   {
    "duration": 113,
    "start_time": "2022-05-19T18:40:28.032Z"
   },
   {
    "duration": 0,
    "start_time": "2022-05-19T18:40:28.146Z"
   },
   {
    "duration": 0,
    "start_time": "2022-05-19T18:40:28.147Z"
   },
   {
    "duration": 0,
    "start_time": "2022-05-19T18:40:28.148Z"
   },
   {
    "duration": 0,
    "start_time": "2022-05-19T18:40:28.149Z"
   },
   {
    "duration": 0,
    "start_time": "2022-05-19T18:40:28.150Z"
   },
   {
    "duration": 0,
    "start_time": "2022-05-19T18:40:28.151Z"
   },
   {
    "duration": 0,
    "start_time": "2022-05-19T18:40:28.153Z"
   },
   {
    "duration": 0,
    "start_time": "2022-05-19T18:40:28.154Z"
   },
   {
    "duration": 0,
    "start_time": "2022-05-19T18:40:28.155Z"
   },
   {
    "duration": 0,
    "start_time": "2022-05-19T18:40:28.174Z"
   },
   {
    "duration": 0,
    "start_time": "2022-05-19T18:40:28.176Z"
   },
   {
    "duration": 7,
    "start_time": "2022-05-19T18:40:48.644Z"
   },
   {
    "duration": 3,
    "start_time": "2022-05-19T18:40:49.187Z"
   },
   {
    "duration": 10,
    "start_time": "2022-05-19T18:40:49.773Z"
   },
   {
    "duration": 2,
    "start_time": "2022-05-19T18:40:57.399Z"
   },
   {
    "duration": 6,
    "start_time": "2022-05-19T18:41:01.758Z"
   },
   {
    "duration": 4,
    "start_time": "2022-05-19T18:42:02.592Z"
   },
   {
    "duration": 23,
    "start_time": "2022-05-19T18:43:10.990Z"
   },
   {
    "duration": 7,
    "start_time": "2022-05-19T18:43:31.508Z"
   },
   {
    "duration": 3,
    "start_time": "2022-05-19T18:43:32.549Z"
   },
   {
    "duration": 4,
    "start_time": "2022-05-19T18:43:33.396Z"
   },
   {
    "duration": 4,
    "start_time": "2022-05-19T19:03:46.872Z"
   },
   {
    "duration": 152,
    "start_time": "2022-05-19T19:03:46.893Z"
   },
   {
    "duration": 5,
    "start_time": "2022-05-19T19:03:47.047Z"
   },
   {
    "duration": 6,
    "start_time": "2022-05-19T19:03:47.075Z"
   },
   {
    "duration": 26,
    "start_time": "2022-05-19T19:03:47.084Z"
   },
   {
    "duration": 9,
    "start_time": "2022-05-19T19:03:47.112Z"
   },
   {
    "duration": 23,
    "start_time": "2022-05-19T19:03:47.123Z"
   },
   {
    "duration": 12,
    "start_time": "2022-05-19T19:03:47.149Z"
   },
   {
    "duration": 19,
    "start_time": "2022-05-19T19:03:47.163Z"
   },
   {
    "duration": 9,
    "start_time": "2022-05-19T19:03:47.184Z"
   },
   {
    "duration": 24,
    "start_time": "2022-05-19T19:03:47.196Z"
   },
   {
    "duration": 8,
    "start_time": "2022-05-19T19:03:47.222Z"
   },
   {
    "duration": 25,
    "start_time": "2022-05-19T19:03:47.232Z"
   },
   {
    "duration": 19,
    "start_time": "2022-05-19T19:03:47.258Z"
   },
   {
    "duration": 30,
    "start_time": "2022-05-19T19:03:47.280Z"
   },
   {
    "duration": 199,
    "start_time": "2022-05-19T19:03:47.311Z"
   },
   {
    "duration": 24,
    "start_time": "2022-05-19T19:03:47.512Z"
   },
   {
    "duration": 10,
    "start_time": "2022-05-19T19:03:47.538Z"
   },
   {
    "duration": 299,
    "start_time": "2022-05-19T19:03:47.550Z"
   },
   {
    "duration": 40,
    "start_time": "2022-05-19T19:03:47.851Z"
   },
   {
    "duration": 5,
    "start_time": "2022-05-19T19:03:47.893Z"
   },
   {
    "duration": 18,
    "start_time": "2022-05-19T19:03:47.899Z"
   },
   {
    "duration": 380,
    "start_time": "2022-05-19T19:03:47.919Z"
   },
   {
    "duration": 301,
    "start_time": "2022-05-19T19:03:48.301Z"
   },
   {
    "duration": 7,
    "start_time": "2022-05-19T19:03:48.604Z"
   },
   {
    "duration": 312,
    "start_time": "2022-05-19T19:03:48.612Z"
   },
   {
    "duration": 12,
    "start_time": "2022-05-19T19:03:48.925Z"
   },
   {
    "duration": 11,
    "start_time": "2022-05-19T19:03:48.938Z"
   },
   {
    "duration": 25,
    "start_time": "2022-05-19T19:03:48.950Z"
   },
   {
    "duration": 364,
    "start_time": "2022-05-19T19:03:48.976Z"
   },
   {
    "duration": 357,
    "start_time": "2022-05-19T19:03:49.343Z"
   },
   {
    "duration": 381,
    "start_time": "2022-05-19T19:03:49.702Z"
   },
   {
    "duration": 3,
    "start_time": "2022-05-19T19:03:50.085Z"
   },
   {
    "duration": 10,
    "start_time": "2022-05-19T19:03:50.090Z"
   },
   {
    "duration": 6,
    "start_time": "2022-05-19T19:03:50.101Z"
   },
   {
    "duration": 5,
    "start_time": "2022-05-19T19:03:50.109Z"
   },
   {
    "duration": 10,
    "start_time": "2022-05-19T19:03:50.115Z"
   },
   {
    "duration": 4,
    "start_time": "2022-05-19T19:03:50.126Z"
   },
   {
    "duration": 7,
    "start_time": "2022-05-19T19:03:50.131Z"
   },
   {
    "duration": 57,
    "start_time": "2022-05-20T17:21:55.968Z"
   },
   {
    "duration": 1590,
    "start_time": "2022-05-20T17:22:01.778Z"
   },
   {
    "duration": 256,
    "start_time": "2022-05-20T17:22:03.370Z"
   },
   {
    "duration": 3,
    "start_time": "2022-05-20T17:22:03.628Z"
   },
   {
    "duration": 7,
    "start_time": "2022-05-20T17:22:03.633Z"
   },
   {
    "duration": 17,
    "start_time": "2022-05-20T17:22:03.641Z"
   },
   {
    "duration": 4,
    "start_time": "2022-05-20T17:22:03.660Z"
   },
   {
    "duration": 10,
    "start_time": "2022-05-20T17:22:03.666Z"
   },
   {
    "duration": 26,
    "start_time": "2022-05-20T17:22:03.677Z"
   },
   {
    "duration": 6,
    "start_time": "2022-05-20T17:22:03.705Z"
   },
   {
    "duration": 10,
    "start_time": "2022-05-20T17:22:03.713Z"
   },
   {
    "duration": 23,
    "start_time": "2022-05-20T17:22:03.725Z"
   },
   {
    "duration": 6,
    "start_time": "2022-05-20T17:22:03.750Z"
   },
   {
    "duration": 20,
    "start_time": "2022-05-20T17:22:03.757Z"
   },
   {
    "duration": 25,
    "start_time": "2022-05-20T17:22:03.779Z"
   },
   {
    "duration": 24,
    "start_time": "2022-05-20T17:22:03.806Z"
   },
   {
    "duration": 224,
    "start_time": "2022-05-20T17:22:03.832Z"
   },
   {
    "duration": 18,
    "start_time": "2022-05-20T17:22:04.058Z"
   },
   {
    "duration": 6,
    "start_time": "2022-05-20T17:22:04.078Z"
   },
   {
    "duration": 370,
    "start_time": "2022-05-20T17:22:04.103Z"
   },
   {
    "duration": 25,
    "start_time": "2022-05-20T17:22:04.475Z"
   },
   {
    "duration": 312,
    "start_time": "2022-05-20T17:23:45.202Z"
   },
   {
    "duration": 3,
    "start_time": "2022-05-20T17:23:48.739Z"
   },
   {
    "duration": 176,
    "start_time": "2022-05-20T17:23:48.745Z"
   },
   {
    "duration": 5,
    "start_time": "2022-05-20T17:23:48.923Z"
   },
   {
    "duration": 16,
    "start_time": "2022-05-20T17:23:48.929Z"
   },
   {
    "duration": 29,
    "start_time": "2022-05-20T17:23:48.948Z"
   },
   {
    "duration": 23,
    "start_time": "2022-05-20T17:23:48.979Z"
   },
   {
    "duration": 11,
    "start_time": "2022-05-20T17:23:49.004Z"
   },
   {
    "duration": 5,
    "start_time": "2022-05-20T17:23:49.017Z"
   },
   {
    "duration": 6,
    "start_time": "2022-05-20T17:23:49.024Z"
   },
   {
    "duration": 8,
    "start_time": "2022-05-20T17:23:49.031Z"
   },
   {
    "duration": 20,
    "start_time": "2022-05-20T17:23:49.042Z"
   },
   {
    "duration": 40,
    "start_time": "2022-05-20T17:23:49.068Z"
   },
   {
    "duration": 22,
    "start_time": "2022-05-20T17:23:49.110Z"
   },
   {
    "duration": 4,
    "start_time": "2022-05-20T17:23:49.134Z"
   },
   {
    "duration": 23,
    "start_time": "2022-05-20T17:23:49.141Z"
   },
   {
    "duration": 229,
    "start_time": "2022-05-20T17:23:49.166Z"
   },
   {
    "duration": 23,
    "start_time": "2022-05-20T17:23:49.396Z"
   },
   {
    "duration": 7,
    "start_time": "2022-05-20T17:23:49.421Z"
   },
   {
    "duration": 316,
    "start_time": "2022-05-20T17:23:49.430Z"
   },
   {
    "duration": 27,
    "start_time": "2022-05-20T17:23:49.748Z"
   },
   {
    "duration": 25,
    "start_time": "2022-05-20T17:23:49.777Z"
   },
   {
    "duration": 19,
    "start_time": "2022-05-20T17:23:49.804Z"
   },
   {
    "duration": 406,
    "start_time": "2022-05-20T17:23:49.825Z"
   },
   {
    "duration": 350,
    "start_time": "2022-05-20T17:23:50.233Z"
   },
   {
    "duration": 304,
    "start_time": "2022-05-20T17:23:59.982Z"
   },
   {
    "duration": 381,
    "start_time": "2022-05-20T17:24:22.354Z"
   },
   {
    "duration": 322,
    "start_time": "2022-05-20T17:24:28.250Z"
   },
   {
    "duration": 3,
    "start_time": "2022-05-20T17:32:08.966Z"
   },
   {
    "duration": 131,
    "start_time": "2022-05-20T17:32:08.973Z"
   },
   {
    "duration": 4,
    "start_time": "2022-05-20T17:32:09.106Z"
   },
   {
    "duration": 11,
    "start_time": "2022-05-20T17:32:09.112Z"
   },
   {
    "duration": 17,
    "start_time": "2022-05-20T17:32:09.125Z"
   },
   {
    "duration": 4,
    "start_time": "2022-05-20T17:32:09.144Z"
   },
   {
    "duration": 11,
    "start_time": "2022-05-20T17:32:09.150Z"
   },
   {
    "duration": 5,
    "start_time": "2022-05-20T17:32:09.163Z"
   },
   {
    "duration": 36,
    "start_time": "2022-05-20T17:32:09.169Z"
   },
   {
    "duration": 6,
    "start_time": "2022-05-20T17:32:09.207Z"
   },
   {
    "duration": 22,
    "start_time": "2022-05-20T17:32:09.215Z"
   },
   {
    "duration": 7,
    "start_time": "2022-05-20T17:32:09.238Z"
   },
   {
    "duration": 16,
    "start_time": "2022-05-20T17:32:09.246Z"
   },
   {
    "duration": 4,
    "start_time": "2022-05-20T17:32:09.263Z"
   },
   {
    "duration": 47,
    "start_time": "2022-05-20T17:32:09.269Z"
   },
   {
    "duration": 196,
    "start_time": "2022-05-20T17:32:09.317Z"
   },
   {
    "duration": 17,
    "start_time": "2022-05-20T17:32:09.515Z"
   },
   {
    "duration": 7,
    "start_time": "2022-05-20T17:32:09.534Z"
   },
   {
    "duration": 292,
    "start_time": "2022-05-20T17:32:09.542Z"
   },
   {
    "duration": 24,
    "start_time": "2022-05-20T17:32:09.836Z"
   },
   {
    "duration": 5,
    "start_time": "2022-05-20T17:32:09.862Z"
   },
   {
    "duration": 39,
    "start_time": "2022-05-20T17:32:09.869Z"
   },
   {
    "duration": 364,
    "start_time": "2022-05-20T17:32:09.910Z"
   },
   {
    "duration": 302,
    "start_time": "2022-05-20T17:32:10.276Z"
   },
   {
    "duration": 7,
    "start_time": "2022-05-20T17:32:10.580Z"
   },
   {
    "duration": 6,
    "start_time": "2022-05-20T17:32:15.239Z"
   },
   {
    "duration": 173,
    "start_time": "2022-05-20T17:32:16.303Z"
   },
   {
    "duration": 173,
    "start_time": "2022-05-20T17:32:41.593Z"
   },
   {
    "duration": 144,
    "start_time": "2022-05-20T17:32:57.451Z"
   },
   {
    "duration": 226,
    "start_time": "2022-05-20T17:33:32.322Z"
   },
   {
    "duration": 160,
    "start_time": "2022-05-20T17:33:47.586Z"
   },
   {
    "duration": 7,
    "start_time": "2022-05-20T17:35:52.003Z"
   },
   {
    "duration": 4,
    "start_time": "2022-05-20T17:36:33.376Z"
   },
   {
    "duration": 5,
    "start_time": "2022-05-20T17:36:43.911Z"
   },
   {
    "duration": 5,
    "start_time": "2022-05-20T17:37:22.958Z"
   },
   {
    "duration": 183,
    "start_time": "2022-05-20T17:39:01.058Z"
   },
   {
    "duration": 5,
    "start_time": "2022-05-20T17:39:07.965Z"
   },
   {
    "duration": 12,
    "start_time": "2022-05-20T17:43:40.146Z"
   },
   {
    "duration": 15,
    "start_time": "2022-05-20T17:44:17.313Z"
   },
   {
    "duration": 351,
    "start_time": "2022-05-20T17:47:56.979Z"
   },
   {
    "duration": 9,
    "start_time": "2022-05-20T17:59:31.555Z"
   },
   {
    "duration": 6,
    "start_time": "2022-05-20T18:00:02.404Z"
   },
   {
    "duration": 351,
    "start_time": "2022-05-20T18:00:12.964Z"
   },
   {
    "duration": 26,
    "start_time": "2022-05-20T18:00:40.984Z"
   },
   {
    "duration": 3,
    "start_time": "2022-05-20T18:00:48.353Z"
   },
   {
    "duration": 154,
    "start_time": "2022-05-20T18:00:48.359Z"
   },
   {
    "duration": 4,
    "start_time": "2022-05-20T18:00:48.516Z"
   },
   {
    "duration": 16,
    "start_time": "2022-05-20T18:00:48.523Z"
   },
   {
    "duration": 23,
    "start_time": "2022-05-20T18:00:48.542Z"
   },
   {
    "duration": 3,
    "start_time": "2022-05-20T18:00:48.567Z"
   },
   {
    "duration": 33,
    "start_time": "2022-05-20T18:00:48.572Z"
   },
   {
    "duration": 10,
    "start_time": "2022-05-20T18:00:48.607Z"
   },
   {
    "duration": 7,
    "start_time": "2022-05-20T18:00:48.619Z"
   },
   {
    "duration": 5,
    "start_time": "2022-05-20T18:00:48.628Z"
   },
   {
    "duration": 6,
    "start_time": "2022-05-20T18:00:48.637Z"
   },
   {
    "duration": 21,
    "start_time": "2022-05-20T18:00:48.644Z"
   },
   {
    "duration": 36,
    "start_time": "2022-05-20T18:00:48.668Z"
   },
   {
    "duration": 23,
    "start_time": "2022-05-20T18:00:48.706Z"
   },
   {
    "duration": 5,
    "start_time": "2022-05-20T18:00:48.731Z"
   },
   {
    "duration": 25,
    "start_time": "2022-05-20T18:00:48.737Z"
   },
   {
    "duration": 218,
    "start_time": "2022-05-20T18:00:48.764Z"
   },
   {
    "duration": 26,
    "start_time": "2022-05-20T18:00:48.984Z"
   },
   {
    "duration": 8,
    "start_time": "2022-05-20T18:00:49.012Z"
   },
   {
    "duration": 327,
    "start_time": "2022-05-20T18:00:49.022Z"
   },
   {
    "duration": 28,
    "start_time": "2022-05-20T18:00:49.351Z"
   },
   {
    "duration": 4,
    "start_time": "2022-05-20T18:00:49.381Z"
   },
   {
    "duration": 19,
    "start_time": "2022-05-20T18:00:49.402Z"
   },
   {
    "duration": 396,
    "start_time": "2022-05-20T18:00:49.422Z"
   },
   {
    "duration": 430,
    "start_time": "2022-05-20T18:00:49.820Z"
   },
   {
    "duration": 8,
    "start_time": "2022-05-20T18:00:50.252Z"
   },
   {
    "duration": 165,
    "start_time": "2022-05-20T18:00:50.261Z"
   },
   {
    "duration": 4,
    "start_time": "2022-05-20T18:00:50.428Z"
   },
   {
    "duration": 171,
    "start_time": "2022-05-20T18:00:50.435Z"
   },
   {
    "duration": 4,
    "start_time": "2022-05-20T18:00:50.608Z"
   },
   {
    "duration": 14,
    "start_time": "2022-05-20T18:00:50.614Z"
   },
   {
    "duration": 11,
    "start_time": "2022-05-20T18:00:50.629Z"
   },
   {
    "duration": 19,
    "start_time": "2022-05-20T18:00:50.642Z"
   },
   {
    "duration": 350,
    "start_time": "2022-05-20T18:00:50.663Z"
   },
   {
    "duration": 482,
    "start_time": "2022-05-20T18:00:51.014Z"
   },
   {
    "duration": 437,
    "start_time": "2022-05-20T18:00:51.502Z"
   },
   {
    "duration": 426,
    "start_time": "2022-05-20T18:00:51.942Z"
   },
   {
    "duration": 1177,
    "start_time": "2022-05-20T18:22:02.820Z"
   },
   {
    "duration": 127,
    "start_time": "2022-05-20T18:22:03.999Z"
   },
   {
    "duration": 3,
    "start_time": "2022-05-20T18:22:04.128Z"
   },
   {
    "duration": 8,
    "start_time": "2022-05-20T18:22:04.133Z"
   },
   {
    "duration": 16,
    "start_time": "2022-05-20T18:22:04.143Z"
   },
   {
    "duration": 4,
    "start_time": "2022-05-20T18:22:04.161Z"
   },
   {
    "duration": 37,
    "start_time": "2022-05-20T18:22:04.166Z"
   },
   {
    "duration": 4,
    "start_time": "2022-05-20T18:22:04.205Z"
   },
   {
    "duration": 7,
    "start_time": "2022-05-20T18:22:04.210Z"
   },
   {
    "duration": 4,
    "start_time": "2022-05-20T18:22:04.219Z"
   },
   {
    "duration": 7,
    "start_time": "2022-05-20T18:22:04.225Z"
   },
   {
    "duration": 20,
    "start_time": "2022-05-20T18:22:04.234Z"
   },
   {
    "duration": 6,
    "start_time": "2022-05-20T18:22:04.256Z"
   },
   {
    "duration": 54,
    "start_time": "2022-05-20T18:22:04.263Z"
   },
   {
    "duration": 7,
    "start_time": "2022-05-20T18:22:04.319Z"
   },
   {
    "duration": 26,
    "start_time": "2022-05-20T18:22:04.329Z"
   },
   {
    "duration": 291,
    "start_time": "2022-05-20T18:22:04.357Z"
   },
   {
    "duration": 17,
    "start_time": "2022-05-20T18:22:04.650Z"
   },
   {
    "duration": 7,
    "start_time": "2022-05-20T18:22:04.668Z"
   },
   {
    "duration": 345,
    "start_time": "2022-05-20T18:22:04.676Z"
   },
   {
    "duration": 26,
    "start_time": "2022-05-20T18:22:05.023Z"
   },
   {
    "duration": 4,
    "start_time": "2022-05-20T18:22:05.051Z"
   },
   {
    "duration": 19,
    "start_time": "2022-05-20T18:22:05.056Z"
   },
   {
    "duration": 392,
    "start_time": "2022-05-20T18:22:05.077Z"
   },
   {
    "duration": 318,
    "start_time": "2022-05-20T18:22:05.471Z"
   },
   {
    "duration": 14,
    "start_time": "2022-05-20T18:22:05.792Z"
   },
   {
    "duration": 152,
    "start_time": "2022-05-20T18:22:05.808Z"
   },
   {
    "duration": 5,
    "start_time": "2022-05-20T18:22:05.963Z"
   },
   {
    "duration": 170,
    "start_time": "2022-05-20T18:22:05.969Z"
   },
   {
    "duration": 5,
    "start_time": "2022-05-20T18:22:06.140Z"
   },
   {
    "duration": 13,
    "start_time": "2022-05-20T18:22:06.147Z"
   },
   {
    "duration": 12,
    "start_time": "2022-05-20T18:22:06.161Z"
   },
   {
    "duration": 38,
    "start_time": "2022-05-20T18:22:06.175Z"
   },
   {
    "duration": 347,
    "start_time": "2022-05-20T18:22:06.215Z"
   },
   {
    "duration": 401,
    "start_time": "2022-05-20T18:22:06.564Z"
   },
   {
    "duration": 520,
    "start_time": "2022-05-20T18:22:06.967Z"
   },
   {
    "duration": 379,
    "start_time": "2022-05-20T18:22:07.489Z"
   },
   {
    "duration": 2,
    "start_time": "2022-05-20T18:22:07.870Z"
   },
   {
    "duration": 9,
    "start_time": "2022-05-20T18:22:07.873Z"
   },
   {
    "duration": 5,
    "start_time": "2022-05-20T18:22:07.883Z"
   },
   {
    "duration": 17,
    "start_time": "2022-05-20T18:22:07.889Z"
   },
   {
    "duration": 7,
    "start_time": "2022-05-20T18:22:07.908Z"
   },
   {
    "duration": 5,
    "start_time": "2022-05-20T18:22:07.917Z"
   },
   {
    "duration": 6,
    "start_time": "2022-05-20T18:22:07.923Z"
   }
  ],
  "kernelspec": {
   "display_name": "Python 3",
   "language": "python",
   "name": "python3"
  },
  "language_info": {
   "codemirror_mode": {
    "name": "ipython",
    "version": 3
   },
   "file_extension": ".py",
   "mimetype": "text/x-python",
   "name": "python",
   "nbconvert_exporter": "python",
   "pygments_lexer": "ipython3",
   "version": "3.8.5"
  },
  "toc": {
   "base_numbering": 1,
   "nav_menu": {
    "height": "247px",
    "width": "244px"
   },
   "number_sections": true,
   "sideBar": true,
   "skip_h1_title": true,
   "title_cell": "Table of Contents",
   "title_sidebar": "Contents",
   "toc_cell": false,
   "toc_position": {},
   "toc_section_display": true,
   "toc_window_display": false
  }
 },
 "nbformat": 4,
 "nbformat_minor": 2
}
