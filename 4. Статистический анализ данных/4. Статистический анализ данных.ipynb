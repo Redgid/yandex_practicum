{
 "cells": [
  {
   "cell_type": "markdown",
   "metadata": {},
   "source": [
    "<div class=\"alert alert-success\">\n",
    "<font size=\"5\", color= \"seagreen\"><b>✔️ Комментарий ревьюера в2</b></font>\n",
    "    <br /> \n",
    "    <font size=\"3\", color = \"black\">\n",
    "<br /> Привет, Илья :) Спасибо за все исправления и комментарии\n",
    "        \n",
    "На проекте почти порядок (алгоритм функции) :) подведем итоги\n",
    "        \n",
    "Основные навыки, отрабатываемые на проекте: \n",
    "        \n",
    " + внимательное чтение технического задания проекта :)\n",
    " + умение определять типы гистограмм, необходимые для оценки дискретных и непрерывных величин,\n",
    " + объединение разных таблиц в единый датасет, — особое внимание на способы объединения (left или inner, можно кого-нить забыть, значение параметра how по умолчанию) и на пропуски\n",
    " + формирование, чтение и сравнение показателей на графике двух выборок, \n",
    " + формирование выводов о данных по статистическим показателям,\n",
    " + формулирование и проверка двухсторонних гипотез, <b>интерпретация значения p-value - требует повторения недели через две </b>(для профилактики :) )\n",
    " + формирование рекомендаций для бизнеса \n",
    "        \n",
    "Навыки отработаны замечательно, проект принят\n",
    "        \n",
    "<b>Поздравляю с успешно сданным четвертым проектом на факультете дата-аналитики Я.Практикум</b>\n",
    "\n",
    "<div class=\"alert alert-success\">\n",
    "    <font size=\"5\", color= \"seagreen\"><b>Успехов в дальнейшей учебе 🤝</b></font><br />\n",
    "    \n",
    "p.s. в конце проекта бонус\n"
   ]
  },
  {
   "cell_type": "markdown",
   "metadata": {},
   "source": [
    "<div class=\"alert alert-success\">\n",
    "<font size=\"4\"><b>Комментарий ревьюера</b></font>\n",
    "    <br /> \n",
    "    <font size=\"3\", color = \"black\">\n",
    "<br />\n",
    "    Привет, Илья :) Спасибо, что прислал задание :) Меня зовут Ринат Хисамов и я буду проверять твой проект. Предлагаю обращаться друг к другу на ты. Так нам будет гораздо проще и удобней общаться).\n",
    "\n",
    "Мои комментарии обозначены пометкой <b>Комментарий ревьюера</b>. Далее в файле сможешь найти их в похожих ячейках (если фон комментария зелёный — всё сделано правильно (✔️), рекомендации таким же цветом. Отдельным цветом — блок ссылок (примеры ниже, 🍕). Оранжевым или светло желтым рекомендации, которые, хоть и не обязательны, но точно сделают ревью лучше. (⚠️); <u> красный комментарий</u>: код, график или вывод стоит переделать (❌)). \n",
    "\n",
    "Не удаляй все эти комментарии и постарайся учесть их в ходе выполнения данного проекта. \n",
    "Будет замечательно, если добавишь свои комментарии и пояснения✍\n",
    "        \n",
    "Поехали 🚀\n",
    "    <br />\n",
    "    </font>\n",
    "\n",
    "</div>"
   ]
  },
  {
   "cell_type": "markdown",
   "metadata": {},
   "source": [
    "<div style=\"border:solid steelblue 1px; padding: 20px\">\n",
    "    \n",
    "<font size=\"4\"><p style=\"text-align:center\"><b>Примеры комментариев </b></p></font>\n",
    "    \n",
    "<div style=\"border:solid steelblue 3px; padding: 20px\">\n",
    "<font size=\"4\"><b>🍕 Пример комментария - совета, здесь м.б. просто ссылка</b></font>\n",
    "    <br /> \n",
    "        <font size=\"3\", color = \"black\">\n",
    "<br />\n",
    "    Тут всего такого разного и вкусного :), есть способы прокачать проект визуализациями (ценит большинство \"боссов\")  <br /><br />\n",
    "        <a href=\"https://pyprog.pro/mpl/mpl_short_guide.html\">Краткое руководство по Matplotlib</a>\n",
    "        На сайте много полезных материалов, мне самому очень помогло в свое время, до сих пор подсматриваю :)\n",
    "\n",
    "\n",
    "</div>\n",
    "    \n",
    "<div class=\"alert alert-warning\", style=\"border:solid coral 3px; padding: 20px\">\n",
    "    <font size=\"3\"><b>⚠️ Пример оформления некритичного комментария</b>\n",
    "    <br /> \n",
    "    <font size=\"2\", color = \"black\">\n",
    "<br />\n",
    "    Рекомендации, которые, хоть и не обязательны, но точно сделают ревью лучше\n",
    "    <br />\n",
    "    </font>\n",
    "\n",
    "</div>\n",
    "    \n",
    "<div class=\"alert alert-danger\">\n",
    "<font size=\"3\"><b>❌ Пример оформления комментария к блоку(строке) программного кода (или выводу), который стоит переделать</b></font>\n",
    "    <br /> \n",
    "    <font size=\"2\", color = \"black\">\n",
    "<br />\n",
    "    Отправлен не тот проект, напиши в своих комментариях, что случилось? жду — <b>это пример</b>\n",
    "    <br />\n",
    "    </font>\n",
    "\n",
    "</div>\n",
    "    \n",
    "<div class=\"alert alert-success\">\n",
    "<font size=\"4\"><b>✔️ Пример оформления комментария, который нравится большинству студентов</b></font>\n",
    "    <br /> \n",
    "    <font size=\"3\", color = \"black\">\n",
    "<br />\n",
    "    Круто, молодец, отлично, логично, или — 👌, 👍, или — выводы отвечают на все вопросы к данным и проекту\n",
    "    <br />\n",
    "    </font>\n",
    "\n",
    "</div>"
   ]
  },
  {
   "cell_type": "markdown",
   "metadata": {},
   "source": [
    "# Определение перспективного тарифа для телеком-компании"
   ]
  },
  {
   "cell_type": "markdown",
   "metadata": {},
   "source": [
    "**Описание проекта**: \\\n",
    "Мы - аналитики компании «Мегалайн» — федерального оператора сотовой связи. Клиентам предлагают два тарифных плана: «Смарт» и «Ультра». Чтобы скорректировать рекламный бюджет, коммерческий департамент хочет понять, какой тариф приносит больше денег.\n",
    "Нам предстоит сделать предварительный анализ тарифов на небольшой выборке клиентов. В нашем распоряжении данные 500 пользователей «Мегалайна»: кто они, откуда, каким тарифом пользуются, сколько звонков и сообщений каждый отправил за 2018 год. Нужно проанализировать поведение клиентов и сделать вывод — какой тариф лучше."
   ]
  },
  {
   "cell_type": "markdown",
   "metadata": {},
   "source": [
    "**Описание тарифов** : "
   ]
  },
  {
   "cell_type": "markdown",
   "metadata": {},
   "source": [
    "*Тариф \"Смарт\"*:\n",
    "- Ежемесячная плата: 550 рублей\n",
    "- Включено 500 минут разговора, 50 сообщений и 15 Гб интернет-трафика\n",
    "- Стоимость услуг сверх тарифного пакета:\n",
    "  - Минута разговора: 3 рубля\n",
    "  - Сообщение: 3 рубля\n",
    "  - 1 Гб интернет-трафика: 200 рублей"
   ]
  },
  {
   "cell_type": "markdown",
   "metadata": {},
   "source": [
    "*Тариф \"Ультра\"*:\n",
    "- Ежемесячная плата: 1950 рублей\n",
    "- Включено 3000 минут разговора, 1000 сообщений и 30 Гб интернет-трафика\n",
    "- Стоимость услуг сверх тарифного пакета:\n",
    "  - Минута разговора: 1 рубль\n",
    "  - Сообщение: 1 рубль\n",
    "  - 1 Гб интернет-трафика: 150 рублей"
   ]
  },
  {
   "cell_type": "markdown",
   "metadata": {},
   "source": [
    "## Изучение данных"
   ]
  },
  {
   "cell_type": "markdown",
   "metadata": {},
   "source": [
    "**Описание данных**:"
   ]
  },
  {
   "cell_type": "markdown",
   "metadata": {},
   "source": [
    "Таблица **users** (информация о пользователях): \\\n",
    "`user_id` — уникальный идентификатор пользователя \\\n",
    "`first_name` — имя пользователя \\\n",
    "`last_name` — фамилия пользователя \\\n",
    "`age` — возраст пользователя (годы) \\\n",
    "`reg_date` — дата подключения тарифа (день, месяц, год) \\\n",
    "`churn_date` — дата прекращения пользования тарифом (если значение пропущено, то тариф ещё действовал на момент выгрузки данных) \\\n",
    "`city` — город проживания пользователя \\\n",
    "`tariff` — название тарифного плана"
   ]
  },
  {
   "cell_type": "markdown",
   "metadata": {},
   "source": [
    "Таблица **calls** (информация о звонках): \\\n",
    "`id` — уникальный номер звонка \\\n",
    "`call_date` — дата звонка \\\n",
    "`duration` — длительность звонка в минутах \\\n",
    "`user_id` — идентификатор пользователя, сделавшего звонок"
   ]
  },
  {
   "cell_type": "markdown",
   "metadata": {},
   "source": [
    "Таблица **messages** (информация о сообщениях): \\\n",
    "`id` — уникальный номер сообщения \\\n",
    "`message_date` — дата сообщения \\\n",
    "`user_id` — идентификатор пользователя, отправившего сообщение"
   ]
  },
  {
   "cell_type": "markdown",
   "metadata": {},
   "source": [
    "Таблица **internet** (информация об интернет-сессиях): \\\n",
    "`id` — уникальный номер сессии \\\n",
    "`mb_used` — объём потраченного за сессию интернет-трафика (в мегабайтах) \\\n",
    "`session_date` — дата интернет-сессии \\\n",
    "`user_id` — идентификатор пользователя"
   ]
  },
  {
   "cell_type": "markdown",
   "metadata": {},
   "source": [
    "Таблица **tariffs** (информация о тарифах): \\\n",
    "`tariff_name` — название тарифа \\\n",
    "`rub_monthly_fee` — ежемесячная абонентская плата в рублях \\\n",
    "`minutes_included` — количество минут разговора в месяц, включённых в абонентскую плату \\\n",
    "`messages_included` — количество сообщений в месяц, включённых в абонентскую плату \\\n",
    "`mb_per_month_included` — объём интернет-трафика, включённого в абонентскую плату (в мегабайтах) \\\n",
    "`rub_per_minute` — стоимость минуты разговора сверх тарифного пакета (например, если в тарифе 100 минут разговора в месяц, то со 101 минуты будет взиматься плата) \\\n",
    "`rub_per_message` — стоимость отправки сообщения сверх тарифного пакета \\\n",
    "`rub_per_gb` — стоимость дополнительного гигабайта интернет-трафика сверх тарифного пакета (1 гигабайт = 1024 мегабайта)"
   ]
  },
  {
   "cell_type": "markdown",
   "metadata": {},
   "source": [
    "<div class=\"alert alert-success\">\n",
    "<font size=\"4\", color= \"seagreen\"><b>✔️ Комментарий ревьюера</b></font>\n",
    "    <br /> \n",
    "    <font size=\"3\", color = \"black\">\n",
    "<br /> Ясная и четкая вступительная часть проекта"
   ]
  },
  {
   "cell_type": "code",
   "execution_count": 1,
   "metadata": {},
   "outputs": [],
   "source": [
    "#импортируем необходимые библиотеки\n",
    "import pandas as pd\n",
    "import numpy as np\n",
    "import matplotlib.pyplot as plt\n",
    "from datetime import datetime\n",
    "from scipy import stats as st"
   ]
  },
  {
   "cell_type": "code",
   "execution_count": 2,
   "metadata": {},
   "outputs": [],
   "source": [
    "#прочитаем все таблицы и сохраним их в отдельные переменные\n",
    "users = pd.read_csv('/datasets/users.csv')\n",
    "calls = pd.read_csv('/datasets/calls.csv')\n",
    "messages = pd.read_csv('/datasets/messages.csv')\n",
    "internet = pd.read_csv('/datasets/internet.csv')\n",
    "tariffs = pd.read_csv('/datasets/tariffs.csv')"
   ]
  },
  {
   "cell_type": "markdown",
   "metadata": {},
   "source": [
    "Посмотрим на каждую из таблиц по-очереди. Методами head, tail, sample, info и describe проведем первичный анализ данных."
   ]
  },
  {
   "cell_type": "markdown",
   "metadata": {},
   "source": [
    "Таблица **users**"
   ]
  },
  {
   "cell_type": "code",
   "execution_count": 3,
   "metadata": {},
   "outputs": [
    {
     "name": "stdout",
     "output_type": "stream",
     "text": [
      "<class 'pandas.core.frame.DataFrame'>\n",
      "RangeIndex: 500 entries, 0 to 499\n",
      "Data columns (total 8 columns):\n",
      " #   Column      Non-Null Count  Dtype \n",
      "---  ------      --------------  ----- \n",
      " 0   user_id     500 non-null    int64 \n",
      " 1   age         500 non-null    int64 \n",
      " 2   churn_date  38 non-null     object\n",
      " 3   city        500 non-null    object\n",
      " 4   first_name  500 non-null    object\n",
      " 5   last_name   500 non-null    object\n",
      " 6   reg_date    500 non-null    object\n",
      " 7   tariff      500 non-null    object\n",
      "dtypes: int64(2), object(6)\n",
      "memory usage: 31.4+ KB\n"
     ]
    },
    {
     "data": {
      "text/html": [
       "<div>\n",
       "<style scoped>\n",
       "    .dataframe tbody tr th:only-of-type {\n",
       "        vertical-align: middle;\n",
       "    }\n",
       "\n",
       "    .dataframe tbody tr th {\n",
       "        vertical-align: top;\n",
       "    }\n",
       "\n",
       "    .dataframe thead th {\n",
       "        text-align: right;\n",
       "    }\n",
       "</style>\n",
       "<table border=\"1\" class=\"dataframe\">\n",
       "  <thead>\n",
       "    <tr style=\"text-align: right;\">\n",
       "      <th></th>\n",
       "      <th>user_id</th>\n",
       "      <th>age</th>\n",
       "      <th>churn_date</th>\n",
       "      <th>city</th>\n",
       "      <th>first_name</th>\n",
       "      <th>last_name</th>\n",
       "      <th>reg_date</th>\n",
       "      <th>tariff</th>\n",
       "    </tr>\n",
       "  </thead>\n",
       "  <tbody>\n",
       "    <tr>\n",
       "      <th>0</th>\n",
       "      <td>1000</td>\n",
       "      <td>52</td>\n",
       "      <td>NaN</td>\n",
       "      <td>Краснодар</td>\n",
       "      <td>Рафаил</td>\n",
       "      <td>Верещагин</td>\n",
       "      <td>2018-05-25</td>\n",
       "      <td>ultra</td>\n",
       "    </tr>\n",
       "    <tr>\n",
       "      <th>1</th>\n",
       "      <td>1001</td>\n",
       "      <td>41</td>\n",
       "      <td>NaN</td>\n",
       "      <td>Москва</td>\n",
       "      <td>Иван</td>\n",
       "      <td>Ежов</td>\n",
       "      <td>2018-11-01</td>\n",
       "      <td>smart</td>\n",
       "    </tr>\n",
       "    <tr>\n",
       "      <th>2</th>\n",
       "      <td>1002</td>\n",
       "      <td>59</td>\n",
       "      <td>NaN</td>\n",
       "      <td>Стерлитамак</td>\n",
       "      <td>Евгений</td>\n",
       "      <td>Абрамович</td>\n",
       "      <td>2018-06-17</td>\n",
       "      <td>smart</td>\n",
       "    </tr>\n",
       "    <tr>\n",
       "      <th>3</th>\n",
       "      <td>1003</td>\n",
       "      <td>23</td>\n",
       "      <td>NaN</td>\n",
       "      <td>Москва</td>\n",
       "      <td>Белла</td>\n",
       "      <td>Белякова</td>\n",
       "      <td>2018-08-17</td>\n",
       "      <td>ultra</td>\n",
       "    </tr>\n",
       "    <tr>\n",
       "      <th>4</th>\n",
       "      <td>1004</td>\n",
       "      <td>68</td>\n",
       "      <td>NaN</td>\n",
       "      <td>Новокузнецк</td>\n",
       "      <td>Татьяна</td>\n",
       "      <td>Авдеенко</td>\n",
       "      <td>2018-05-14</td>\n",
       "      <td>ultra</td>\n",
       "    </tr>\n",
       "  </tbody>\n",
       "</table>\n",
       "</div>"
      ],
      "text/plain": [
       "   user_id  age churn_date         city first_name  last_name    reg_date  \\\n",
       "0     1000   52        NaN    Краснодар     Рафаил  Верещагин  2018-05-25   \n",
       "1     1001   41        NaN       Москва       Иван       Ежов  2018-11-01   \n",
       "2     1002   59        NaN  Стерлитамак    Евгений  Абрамович  2018-06-17   \n",
       "3     1003   23        NaN       Москва      Белла   Белякова  2018-08-17   \n",
       "4     1004   68        NaN  Новокузнецк    Татьяна   Авдеенко  2018-05-14   \n",
       "\n",
       "  tariff  \n",
       "0  ultra  \n",
       "1  smart  \n",
       "2  smart  \n",
       "3  ultra  \n",
       "4  ultra  "
      ]
     },
     "metadata": {},
     "output_type": "display_data"
    },
    {
     "data": {
      "text/html": [
       "<div>\n",
       "<style scoped>\n",
       "    .dataframe tbody tr th:only-of-type {\n",
       "        vertical-align: middle;\n",
       "    }\n",
       "\n",
       "    .dataframe tbody tr th {\n",
       "        vertical-align: top;\n",
       "    }\n",
       "\n",
       "    .dataframe thead th {\n",
       "        text-align: right;\n",
       "    }\n",
       "</style>\n",
       "<table border=\"1\" class=\"dataframe\">\n",
       "  <thead>\n",
       "    <tr style=\"text-align: right;\">\n",
       "      <th></th>\n",
       "      <th>user_id</th>\n",
       "      <th>age</th>\n",
       "      <th>churn_date</th>\n",
       "      <th>city</th>\n",
       "      <th>first_name</th>\n",
       "      <th>last_name</th>\n",
       "      <th>reg_date</th>\n",
       "      <th>tariff</th>\n",
       "    </tr>\n",
       "  </thead>\n",
       "  <tbody>\n",
       "    <tr>\n",
       "      <th>495</th>\n",
       "      <td>1495</td>\n",
       "      <td>65</td>\n",
       "      <td>NaN</td>\n",
       "      <td>Иркутск</td>\n",
       "      <td>Авксентий</td>\n",
       "      <td>Фокин</td>\n",
       "      <td>2018-08-28</td>\n",
       "      <td>ultra</td>\n",
       "    </tr>\n",
       "    <tr>\n",
       "      <th>496</th>\n",
       "      <td>1496</td>\n",
       "      <td>36</td>\n",
       "      <td>NaN</td>\n",
       "      <td>Вологда</td>\n",
       "      <td>Трифон</td>\n",
       "      <td>Блохин</td>\n",
       "      <td>2018-01-27</td>\n",
       "      <td>smart</td>\n",
       "    </tr>\n",
       "    <tr>\n",
       "      <th>497</th>\n",
       "      <td>1497</td>\n",
       "      <td>32</td>\n",
       "      <td>NaN</td>\n",
       "      <td>Челябинск</td>\n",
       "      <td>Каролина</td>\n",
       "      <td>Агеева</td>\n",
       "      <td>2018-10-09</td>\n",
       "      <td>smart</td>\n",
       "    </tr>\n",
       "    <tr>\n",
       "      <th>498</th>\n",
       "      <td>1498</td>\n",
       "      <td>68</td>\n",
       "      <td>2018-10-25</td>\n",
       "      <td>Владикавказ</td>\n",
       "      <td>Всеволод</td>\n",
       "      <td>Акимчин</td>\n",
       "      <td>2018-07-19</td>\n",
       "      <td>smart</td>\n",
       "    </tr>\n",
       "    <tr>\n",
       "      <th>499</th>\n",
       "      <td>1499</td>\n",
       "      <td>35</td>\n",
       "      <td>NaN</td>\n",
       "      <td>Пермь</td>\n",
       "      <td>Гектор</td>\n",
       "      <td>Корнилов</td>\n",
       "      <td>2018-09-27</td>\n",
       "      <td>smart</td>\n",
       "    </tr>\n",
       "  </tbody>\n",
       "</table>\n",
       "</div>"
      ],
      "text/plain": [
       "     user_id  age  churn_date         city first_name last_name    reg_date  \\\n",
       "495     1495   65         NaN      Иркутск  Авксентий     Фокин  2018-08-28   \n",
       "496     1496   36         NaN      Вологда     Трифон    Блохин  2018-01-27   \n",
       "497     1497   32         NaN    Челябинск   Каролина    Агеева  2018-10-09   \n",
       "498     1498   68  2018-10-25  Владикавказ   Всеволод   Акимчин  2018-07-19   \n",
       "499     1499   35         NaN        Пермь     Гектор  Корнилов  2018-09-27   \n",
       "\n",
       "    tariff  \n",
       "495  ultra  \n",
       "496  smart  \n",
       "497  smart  \n",
       "498  smart  \n",
       "499  smart  "
      ]
     },
     "metadata": {},
     "output_type": "display_data"
    },
    {
     "data": {
      "text/html": [
       "<div>\n",
       "<style scoped>\n",
       "    .dataframe tbody tr th:only-of-type {\n",
       "        vertical-align: middle;\n",
       "    }\n",
       "\n",
       "    .dataframe tbody tr th {\n",
       "        vertical-align: top;\n",
       "    }\n",
       "\n",
       "    .dataframe thead th {\n",
       "        text-align: right;\n",
       "    }\n",
       "</style>\n",
       "<table border=\"1\" class=\"dataframe\">\n",
       "  <thead>\n",
       "    <tr style=\"text-align: right;\">\n",
       "      <th></th>\n",
       "      <th>user_id</th>\n",
       "      <th>age</th>\n",
       "      <th>churn_date</th>\n",
       "      <th>city</th>\n",
       "      <th>first_name</th>\n",
       "      <th>last_name</th>\n",
       "      <th>reg_date</th>\n",
       "      <th>tariff</th>\n",
       "    </tr>\n",
       "  </thead>\n",
       "  <tbody>\n",
       "    <tr>\n",
       "      <th>42</th>\n",
       "      <td>1042</td>\n",
       "      <td>42</td>\n",
       "      <td>NaN</td>\n",
       "      <td>Хабаровск</td>\n",
       "      <td>Константин</td>\n",
       "      <td>Добрынин</td>\n",
       "      <td>2018-11-25</td>\n",
       "      <td>smart</td>\n",
       "    </tr>\n",
       "    <tr>\n",
       "      <th>296</th>\n",
       "      <td>1296</td>\n",
       "      <td>60</td>\n",
       "      <td>NaN</td>\n",
       "      <td>Москва</td>\n",
       "      <td>Альфред</td>\n",
       "      <td>Черный</td>\n",
       "      <td>2018-06-05</td>\n",
       "      <td>smart</td>\n",
       "    </tr>\n",
       "    <tr>\n",
       "      <th>56</th>\n",
       "      <td>1056</td>\n",
       "      <td>73</td>\n",
       "      <td>2018-10-14</td>\n",
       "      <td>Иркутск</td>\n",
       "      <td>Радислав</td>\n",
       "      <td>Артемьев</td>\n",
       "      <td>2018-04-13</td>\n",
       "      <td>smart</td>\n",
       "    </tr>\n",
       "    <tr>\n",
       "      <th>201</th>\n",
       "      <td>1201</td>\n",
       "      <td>32</td>\n",
       "      <td>2018-12-03</td>\n",
       "      <td>Москва</td>\n",
       "      <td>Геннадий</td>\n",
       "      <td>Веселов</td>\n",
       "      <td>2018-08-06</td>\n",
       "      <td>ultra</td>\n",
       "    </tr>\n",
       "    <tr>\n",
       "      <th>307</th>\n",
       "      <td>1307</td>\n",
       "      <td>53</td>\n",
       "      <td>NaN</td>\n",
       "      <td>Самара</td>\n",
       "      <td>Симона</td>\n",
       "      <td>Авсейкина</td>\n",
       "      <td>2018-05-04</td>\n",
       "      <td>smart</td>\n",
       "    </tr>\n",
       "  </tbody>\n",
       "</table>\n",
       "</div>"
      ],
      "text/plain": [
       "     user_id  age  churn_date       city  first_name  last_name    reg_date  \\\n",
       "42      1042   42         NaN  Хабаровск  Константин   Добрынин  2018-11-25   \n",
       "296     1296   60         NaN     Москва     Альфред     Черный  2018-06-05   \n",
       "56      1056   73  2018-10-14    Иркутск    Радислав   Артемьев  2018-04-13   \n",
       "201     1201   32  2018-12-03     Москва    Геннадий    Веселов  2018-08-06   \n",
       "307     1307   53         NaN     Самара      Симона  Авсейкина  2018-05-04   \n",
       "\n",
       "    tariff  \n",
       "42   smart  \n",
       "296  smart  \n",
       "56   smart  \n",
       "201  ultra  \n",
       "307  smart  "
      ]
     },
     "metadata": {},
     "output_type": "display_data"
    },
    {
     "data": {
      "text/html": [
       "<div>\n",
       "<style scoped>\n",
       "    .dataframe tbody tr th:only-of-type {\n",
       "        vertical-align: middle;\n",
       "    }\n",
       "\n",
       "    .dataframe tbody tr th {\n",
       "        vertical-align: top;\n",
       "    }\n",
       "\n",
       "    .dataframe thead th {\n",
       "        text-align: right;\n",
       "    }\n",
       "</style>\n",
       "<table border=\"1\" class=\"dataframe\">\n",
       "  <thead>\n",
       "    <tr style=\"text-align: right;\">\n",
       "      <th></th>\n",
       "      <th>user_id</th>\n",
       "      <th>age</th>\n",
       "    </tr>\n",
       "  </thead>\n",
       "  <tbody>\n",
       "    <tr>\n",
       "      <th>count</th>\n",
       "      <td>500.000000</td>\n",
       "      <td>500.00000</td>\n",
       "    </tr>\n",
       "    <tr>\n",
       "      <th>mean</th>\n",
       "      <td>1249.500000</td>\n",
       "      <td>46.58800</td>\n",
       "    </tr>\n",
       "    <tr>\n",
       "      <th>std</th>\n",
       "      <td>144.481833</td>\n",
       "      <td>16.66763</td>\n",
       "    </tr>\n",
       "    <tr>\n",
       "      <th>min</th>\n",
       "      <td>1000.000000</td>\n",
       "      <td>18.00000</td>\n",
       "    </tr>\n",
       "    <tr>\n",
       "      <th>25%</th>\n",
       "      <td>1124.750000</td>\n",
       "      <td>32.00000</td>\n",
       "    </tr>\n",
       "    <tr>\n",
       "      <th>50%</th>\n",
       "      <td>1249.500000</td>\n",
       "      <td>46.00000</td>\n",
       "    </tr>\n",
       "    <tr>\n",
       "      <th>75%</th>\n",
       "      <td>1374.250000</td>\n",
       "      <td>62.00000</td>\n",
       "    </tr>\n",
       "    <tr>\n",
       "      <th>max</th>\n",
       "      <td>1499.000000</td>\n",
       "      <td>75.00000</td>\n",
       "    </tr>\n",
       "  </tbody>\n",
       "</table>\n",
       "</div>"
      ],
      "text/plain": [
       "           user_id        age\n",
       "count   500.000000  500.00000\n",
       "mean   1249.500000   46.58800\n",
       "std     144.481833   16.66763\n",
       "min    1000.000000   18.00000\n",
       "25%    1124.750000   32.00000\n",
       "50%    1249.500000   46.00000\n",
       "75%    1374.250000   62.00000\n",
       "max    1499.000000   75.00000"
      ]
     },
     "metadata": {},
     "output_type": "display_data"
    },
    {
     "data": {
      "text/plain": [
       "None"
      ]
     },
     "metadata": {},
     "output_type": "display_data"
    }
   ],
   "source": [
    "display(users.head(),users.tail(),users.sample(5),users.describe(),users.info())"
   ]
  },
  {
   "cell_type": "code",
   "execution_count": 4,
   "metadata": {},
   "outputs": [
    {
     "data": {
      "text/plain": [
       "500"
      ]
     },
     "execution_count": 4,
     "metadata": {},
     "output_type": "execute_result"
    }
   ],
   "source": [
    "len(list(users['user_id'].unique()))"
   ]
  },
  {
   "cell_type": "markdown",
   "metadata": {},
   "source": [
    "У нас 500 уникальных пользователей"
   ]
  },
  {
   "cell_type": "markdown",
   "metadata": {},
   "source": [
    "Вывода после предварительного осмотра: \n",
    "- столбцы `churn_date` и `reg_date` имеют неправильный тип данных (object)\n",
    "- пропуски только в столбце `churn_date`, но они имеют обоснованность (если значение пропущено, то тариф ещё действовал на момент выгрузки данных)"
   ]
  },
  {
   "cell_type": "markdown",
   "metadata": {},
   "source": [
    "Таблица **calls**"
   ]
  },
  {
   "cell_type": "code",
   "execution_count": 5,
   "metadata": {},
   "outputs": [
    {
     "name": "stdout",
     "output_type": "stream",
     "text": [
      "<class 'pandas.core.frame.DataFrame'>\n",
      "RangeIndex: 202607 entries, 0 to 202606\n",
      "Data columns (total 4 columns):\n",
      " #   Column     Non-Null Count   Dtype  \n",
      "---  ------     --------------   -----  \n",
      " 0   id         202607 non-null  object \n",
      " 1   call_date  202607 non-null  object \n",
      " 2   duration   202607 non-null  float64\n",
      " 3   user_id    202607 non-null  int64  \n",
      "dtypes: float64(1), int64(1), object(2)\n",
      "memory usage: 6.2+ MB\n"
     ]
    },
    {
     "data": {
      "text/html": [
       "<div>\n",
       "<style scoped>\n",
       "    .dataframe tbody tr th:only-of-type {\n",
       "        vertical-align: middle;\n",
       "    }\n",
       "\n",
       "    .dataframe tbody tr th {\n",
       "        vertical-align: top;\n",
       "    }\n",
       "\n",
       "    .dataframe thead th {\n",
       "        text-align: right;\n",
       "    }\n",
       "</style>\n",
       "<table border=\"1\" class=\"dataframe\">\n",
       "  <thead>\n",
       "    <tr style=\"text-align: right;\">\n",
       "      <th></th>\n",
       "      <th>id</th>\n",
       "      <th>call_date</th>\n",
       "      <th>duration</th>\n",
       "      <th>user_id</th>\n",
       "    </tr>\n",
       "  </thead>\n",
       "  <tbody>\n",
       "    <tr>\n",
       "      <th>0</th>\n",
       "      <td>1000_0</td>\n",
       "      <td>2018-07-25</td>\n",
       "      <td>0.00</td>\n",
       "      <td>1000</td>\n",
       "    </tr>\n",
       "    <tr>\n",
       "      <th>1</th>\n",
       "      <td>1000_1</td>\n",
       "      <td>2018-08-17</td>\n",
       "      <td>0.00</td>\n",
       "      <td>1000</td>\n",
       "    </tr>\n",
       "    <tr>\n",
       "      <th>2</th>\n",
       "      <td>1000_2</td>\n",
       "      <td>2018-06-11</td>\n",
       "      <td>2.85</td>\n",
       "      <td>1000</td>\n",
       "    </tr>\n",
       "    <tr>\n",
       "      <th>3</th>\n",
       "      <td>1000_3</td>\n",
       "      <td>2018-09-21</td>\n",
       "      <td>13.80</td>\n",
       "      <td>1000</td>\n",
       "    </tr>\n",
       "    <tr>\n",
       "      <th>4</th>\n",
       "      <td>1000_4</td>\n",
       "      <td>2018-12-15</td>\n",
       "      <td>5.18</td>\n",
       "      <td>1000</td>\n",
       "    </tr>\n",
       "  </tbody>\n",
       "</table>\n",
       "</div>"
      ],
      "text/plain": [
       "       id   call_date  duration  user_id\n",
       "0  1000_0  2018-07-25      0.00     1000\n",
       "1  1000_1  2018-08-17      0.00     1000\n",
       "2  1000_2  2018-06-11      2.85     1000\n",
       "3  1000_3  2018-09-21     13.80     1000\n",
       "4  1000_4  2018-12-15      5.18     1000"
      ]
     },
     "metadata": {},
     "output_type": "display_data"
    },
    {
     "data": {
      "text/html": [
       "<div>\n",
       "<style scoped>\n",
       "    .dataframe tbody tr th:only-of-type {\n",
       "        vertical-align: middle;\n",
       "    }\n",
       "\n",
       "    .dataframe tbody tr th {\n",
       "        vertical-align: top;\n",
       "    }\n",
       "\n",
       "    .dataframe thead th {\n",
       "        text-align: right;\n",
       "    }\n",
       "</style>\n",
       "<table border=\"1\" class=\"dataframe\">\n",
       "  <thead>\n",
       "    <tr style=\"text-align: right;\">\n",
       "      <th></th>\n",
       "      <th>id</th>\n",
       "      <th>call_date</th>\n",
       "      <th>duration</th>\n",
       "      <th>user_id</th>\n",
       "    </tr>\n",
       "  </thead>\n",
       "  <tbody>\n",
       "    <tr>\n",
       "      <th>202602</th>\n",
       "      <td>1499_215</td>\n",
       "      <td>2018-12-26</td>\n",
       "      <td>0.76</td>\n",
       "      <td>1499</td>\n",
       "    </tr>\n",
       "    <tr>\n",
       "      <th>202603</th>\n",
       "      <td>1499_216</td>\n",
       "      <td>2018-10-18</td>\n",
       "      <td>18.83</td>\n",
       "      <td>1499</td>\n",
       "    </tr>\n",
       "    <tr>\n",
       "      <th>202604</th>\n",
       "      <td>1499_217</td>\n",
       "      <td>2018-11-10</td>\n",
       "      <td>10.81</td>\n",
       "      <td>1499</td>\n",
       "    </tr>\n",
       "    <tr>\n",
       "      <th>202605</th>\n",
       "      <td>1499_218</td>\n",
       "      <td>2018-10-06</td>\n",
       "      <td>4.27</td>\n",
       "      <td>1499</td>\n",
       "    </tr>\n",
       "    <tr>\n",
       "      <th>202606</th>\n",
       "      <td>1499_219</td>\n",
       "      <td>2018-12-14</td>\n",
       "      <td>19.62</td>\n",
       "      <td>1499</td>\n",
       "    </tr>\n",
       "  </tbody>\n",
       "</table>\n",
       "</div>"
      ],
      "text/plain": [
       "              id   call_date  duration  user_id\n",
       "202602  1499_215  2018-12-26      0.76     1499\n",
       "202603  1499_216  2018-10-18     18.83     1499\n",
       "202604  1499_217  2018-11-10     10.81     1499\n",
       "202605  1499_218  2018-10-06      4.27     1499\n",
       "202606  1499_219  2018-12-14     19.62     1499"
      ]
     },
     "metadata": {},
     "output_type": "display_data"
    },
    {
     "data": {
      "text/html": [
       "<div>\n",
       "<style scoped>\n",
       "    .dataframe tbody tr th:only-of-type {\n",
       "        vertical-align: middle;\n",
       "    }\n",
       "\n",
       "    .dataframe tbody tr th {\n",
       "        vertical-align: top;\n",
       "    }\n",
       "\n",
       "    .dataframe thead th {\n",
       "        text-align: right;\n",
       "    }\n",
       "</style>\n",
       "<table border=\"1\" class=\"dataframe\">\n",
       "  <thead>\n",
       "    <tr style=\"text-align: right;\">\n",
       "      <th></th>\n",
       "      <th>id</th>\n",
       "      <th>call_date</th>\n",
       "      <th>duration</th>\n",
       "      <th>user_id</th>\n",
       "    </tr>\n",
       "  </thead>\n",
       "  <tbody>\n",
       "    <tr>\n",
       "      <th>41966</th>\n",
       "      <td>1102_393</td>\n",
       "      <td>2018-12-01</td>\n",
       "      <td>4.05</td>\n",
       "      <td>1102</td>\n",
       "    </tr>\n",
       "    <tr>\n",
       "      <th>124626</th>\n",
       "      <td>1321_76</td>\n",
       "      <td>2018-11-16</td>\n",
       "      <td>13.89</td>\n",
       "      <td>1321</td>\n",
       "    </tr>\n",
       "    <tr>\n",
       "      <th>19253</th>\n",
       "      <td>1052_402</td>\n",
       "      <td>2018-10-13</td>\n",
       "      <td>8.99</td>\n",
       "      <td>1052</td>\n",
       "    </tr>\n",
       "    <tr>\n",
       "      <th>81665</th>\n",
       "      <td>1203_238</td>\n",
       "      <td>2018-10-23</td>\n",
       "      <td>0.00</td>\n",
       "      <td>1203</td>\n",
       "    </tr>\n",
       "    <tr>\n",
       "      <th>50226</th>\n",
       "      <td>1124_445</td>\n",
       "      <td>2018-10-04</td>\n",
       "      <td>5.18</td>\n",
       "      <td>1124</td>\n",
       "    </tr>\n",
       "  </tbody>\n",
       "</table>\n",
       "</div>"
      ],
      "text/plain": [
       "              id   call_date  duration  user_id\n",
       "41966   1102_393  2018-12-01      4.05     1102\n",
       "124626   1321_76  2018-11-16     13.89     1321\n",
       "19253   1052_402  2018-10-13      8.99     1052\n",
       "81665   1203_238  2018-10-23      0.00     1203\n",
       "50226   1124_445  2018-10-04      5.18     1124"
      ]
     },
     "metadata": {},
     "output_type": "display_data"
    },
    {
     "data": {
      "text/html": [
       "<div>\n",
       "<style scoped>\n",
       "    .dataframe tbody tr th:only-of-type {\n",
       "        vertical-align: middle;\n",
       "    }\n",
       "\n",
       "    .dataframe tbody tr th {\n",
       "        vertical-align: top;\n",
       "    }\n",
       "\n",
       "    .dataframe thead th {\n",
       "        text-align: right;\n",
       "    }\n",
       "</style>\n",
       "<table border=\"1\" class=\"dataframe\">\n",
       "  <thead>\n",
       "    <tr style=\"text-align: right;\">\n",
       "      <th></th>\n",
       "      <th>duration</th>\n",
       "      <th>user_id</th>\n",
       "    </tr>\n",
       "  </thead>\n",
       "  <tbody>\n",
       "    <tr>\n",
       "      <th>count</th>\n",
       "      <td>202607.000000</td>\n",
       "      <td>202607.000000</td>\n",
       "    </tr>\n",
       "    <tr>\n",
       "      <th>mean</th>\n",
       "      <td>6.755887</td>\n",
       "      <td>1253.940619</td>\n",
       "    </tr>\n",
       "    <tr>\n",
       "      <th>std</th>\n",
       "      <td>5.843365</td>\n",
       "      <td>144.722751</td>\n",
       "    </tr>\n",
       "    <tr>\n",
       "      <th>min</th>\n",
       "      <td>0.000000</td>\n",
       "      <td>1000.000000</td>\n",
       "    </tr>\n",
       "    <tr>\n",
       "      <th>25%</th>\n",
       "      <td>1.300000</td>\n",
       "      <td>1126.000000</td>\n",
       "    </tr>\n",
       "    <tr>\n",
       "      <th>50%</th>\n",
       "      <td>6.000000</td>\n",
       "      <td>1260.000000</td>\n",
       "    </tr>\n",
       "    <tr>\n",
       "      <th>75%</th>\n",
       "      <td>10.700000</td>\n",
       "      <td>1379.000000</td>\n",
       "    </tr>\n",
       "    <tr>\n",
       "      <th>max</th>\n",
       "      <td>38.000000</td>\n",
       "      <td>1499.000000</td>\n",
       "    </tr>\n",
       "  </tbody>\n",
       "</table>\n",
       "</div>"
      ],
      "text/plain": [
       "            duration        user_id\n",
       "count  202607.000000  202607.000000\n",
       "mean        6.755887    1253.940619\n",
       "std         5.843365     144.722751\n",
       "min         0.000000    1000.000000\n",
       "25%         1.300000    1126.000000\n",
       "50%         6.000000    1260.000000\n",
       "75%        10.700000    1379.000000\n",
       "max        38.000000    1499.000000"
      ]
     },
     "metadata": {},
     "output_type": "display_data"
    },
    {
     "data": {
      "text/plain": [
       "None"
      ]
     },
     "metadata": {},
     "output_type": "display_data"
    }
   ],
   "source": [
    "display(calls.head(),calls.tail(),calls.sample(5),calls.describe(),calls.info())"
   ]
  },
  {
   "cell_type": "markdown",
   "metadata": {},
   "source": [
    "Выводы после предварительного осмотра: \n",
    "- столбец `call_date`имеют неправильный тип данных (object)\n",
    "- пропусков в данных нет"
   ]
  },
  {
   "cell_type": "markdown",
   "metadata": {},
   "source": [
    "Таблица **messages**"
   ]
  },
  {
   "cell_type": "code",
   "execution_count": 6,
   "metadata": {},
   "outputs": [
    {
     "name": "stdout",
     "output_type": "stream",
     "text": [
      "<class 'pandas.core.frame.DataFrame'>\n",
      "RangeIndex: 123036 entries, 0 to 123035\n",
      "Data columns (total 3 columns):\n",
      " #   Column        Non-Null Count   Dtype \n",
      "---  ------        --------------   ----- \n",
      " 0   id            123036 non-null  object\n",
      " 1   message_date  123036 non-null  object\n",
      " 2   user_id       123036 non-null  int64 \n",
      "dtypes: int64(1), object(2)\n",
      "memory usage: 2.8+ MB\n"
     ]
    },
    {
     "data": {
      "text/html": [
       "<div>\n",
       "<style scoped>\n",
       "    .dataframe tbody tr th:only-of-type {\n",
       "        vertical-align: middle;\n",
       "    }\n",
       "\n",
       "    .dataframe tbody tr th {\n",
       "        vertical-align: top;\n",
       "    }\n",
       "\n",
       "    .dataframe thead th {\n",
       "        text-align: right;\n",
       "    }\n",
       "</style>\n",
       "<table border=\"1\" class=\"dataframe\">\n",
       "  <thead>\n",
       "    <tr style=\"text-align: right;\">\n",
       "      <th></th>\n",
       "      <th>id</th>\n",
       "      <th>message_date</th>\n",
       "      <th>user_id</th>\n",
       "    </tr>\n",
       "  </thead>\n",
       "  <tbody>\n",
       "    <tr>\n",
       "      <th>0</th>\n",
       "      <td>1000_0</td>\n",
       "      <td>2018-06-27</td>\n",
       "      <td>1000</td>\n",
       "    </tr>\n",
       "    <tr>\n",
       "      <th>1</th>\n",
       "      <td>1000_1</td>\n",
       "      <td>2018-10-08</td>\n",
       "      <td>1000</td>\n",
       "    </tr>\n",
       "    <tr>\n",
       "      <th>2</th>\n",
       "      <td>1000_2</td>\n",
       "      <td>2018-08-04</td>\n",
       "      <td>1000</td>\n",
       "    </tr>\n",
       "    <tr>\n",
       "      <th>3</th>\n",
       "      <td>1000_3</td>\n",
       "      <td>2018-06-16</td>\n",
       "      <td>1000</td>\n",
       "    </tr>\n",
       "    <tr>\n",
       "      <th>4</th>\n",
       "      <td>1000_4</td>\n",
       "      <td>2018-12-05</td>\n",
       "      <td>1000</td>\n",
       "    </tr>\n",
       "  </tbody>\n",
       "</table>\n",
       "</div>"
      ],
      "text/plain": [
       "       id message_date  user_id\n",
       "0  1000_0   2018-06-27     1000\n",
       "1  1000_1   2018-10-08     1000\n",
       "2  1000_2   2018-08-04     1000\n",
       "3  1000_3   2018-06-16     1000\n",
       "4  1000_4   2018-12-05     1000"
      ]
     },
     "metadata": {},
     "output_type": "display_data"
    },
    {
     "data": {
      "text/html": [
       "<div>\n",
       "<style scoped>\n",
       "    .dataframe tbody tr th:only-of-type {\n",
       "        vertical-align: middle;\n",
       "    }\n",
       "\n",
       "    .dataframe tbody tr th {\n",
       "        vertical-align: top;\n",
       "    }\n",
       "\n",
       "    .dataframe thead th {\n",
       "        text-align: right;\n",
       "    }\n",
       "</style>\n",
       "<table border=\"1\" class=\"dataframe\">\n",
       "  <thead>\n",
       "    <tr style=\"text-align: right;\">\n",
       "      <th></th>\n",
       "      <th>id</th>\n",
       "      <th>message_date</th>\n",
       "      <th>user_id</th>\n",
       "    </tr>\n",
       "  </thead>\n",
       "  <tbody>\n",
       "    <tr>\n",
       "      <th>123031</th>\n",
       "      <td>1499_179</td>\n",
       "      <td>2018-12-12</td>\n",
       "      <td>1499</td>\n",
       "    </tr>\n",
       "    <tr>\n",
       "      <th>123032</th>\n",
       "      <td>1499_180</td>\n",
       "      <td>2018-09-28</td>\n",
       "      <td>1499</td>\n",
       "    </tr>\n",
       "    <tr>\n",
       "      <th>123033</th>\n",
       "      <td>1499_181</td>\n",
       "      <td>2018-09-27</td>\n",
       "      <td>1499</td>\n",
       "    </tr>\n",
       "    <tr>\n",
       "      <th>123034</th>\n",
       "      <td>1499_182</td>\n",
       "      <td>2018-11-15</td>\n",
       "      <td>1499</td>\n",
       "    </tr>\n",
       "    <tr>\n",
       "      <th>123035</th>\n",
       "      <td>1499_183</td>\n",
       "      <td>2018-11-16</td>\n",
       "      <td>1499</td>\n",
       "    </tr>\n",
       "  </tbody>\n",
       "</table>\n",
       "</div>"
      ],
      "text/plain": [
       "              id message_date  user_id\n",
       "123031  1499_179   2018-12-12     1499\n",
       "123032  1499_180   2018-09-28     1499\n",
       "123033  1499_181   2018-09-27     1499\n",
       "123034  1499_182   2018-11-15     1499\n",
       "123035  1499_183   2018-11-16     1499"
      ]
     },
     "metadata": {},
     "output_type": "display_data"
    },
    {
     "data": {
      "text/html": [
       "<div>\n",
       "<style scoped>\n",
       "    .dataframe tbody tr th:only-of-type {\n",
       "        vertical-align: middle;\n",
       "    }\n",
       "\n",
       "    .dataframe tbody tr th {\n",
       "        vertical-align: top;\n",
       "    }\n",
       "\n",
       "    .dataframe thead th {\n",
       "        text-align: right;\n",
       "    }\n",
       "</style>\n",
       "<table border=\"1\" class=\"dataframe\">\n",
       "  <thead>\n",
       "    <tr style=\"text-align: right;\">\n",
       "      <th></th>\n",
       "      <th>id</th>\n",
       "      <th>message_date</th>\n",
       "      <th>user_id</th>\n",
       "    </tr>\n",
       "  </thead>\n",
       "  <tbody>\n",
       "    <tr>\n",
       "      <th>22247</th>\n",
       "      <td>1093_129</td>\n",
       "      <td>2018-06-30</td>\n",
       "      <td>1093</td>\n",
       "    </tr>\n",
       "    <tr>\n",
       "      <th>90910</th>\n",
       "      <td>1375_710</td>\n",
       "      <td>2018-04-20</td>\n",
       "      <td>1375</td>\n",
       "    </tr>\n",
       "    <tr>\n",
       "      <th>118437</th>\n",
       "      <td>1481_208</td>\n",
       "      <td>2018-12-30</td>\n",
       "      <td>1481</td>\n",
       "    </tr>\n",
       "    <tr>\n",
       "      <th>78538</th>\n",
       "      <td>1330_564</td>\n",
       "      <td>2018-02-10</td>\n",
       "      <td>1330</td>\n",
       "    </tr>\n",
       "    <tr>\n",
       "      <th>86107</th>\n",
       "      <td>1356_1124</td>\n",
       "      <td>2018-09-27</td>\n",
       "      <td>1356</td>\n",
       "    </tr>\n",
       "  </tbody>\n",
       "</table>\n",
       "</div>"
      ],
      "text/plain": [
       "               id message_date  user_id\n",
       "22247    1093_129   2018-06-30     1093\n",
       "90910    1375_710   2018-04-20     1375\n",
       "118437   1481_208   2018-12-30     1481\n",
       "78538    1330_564   2018-02-10     1330\n",
       "86107   1356_1124   2018-09-27     1356"
      ]
     },
     "metadata": {},
     "output_type": "display_data"
    },
    {
     "data": {
      "text/html": [
       "<div>\n",
       "<style scoped>\n",
       "    .dataframe tbody tr th:only-of-type {\n",
       "        vertical-align: middle;\n",
       "    }\n",
       "\n",
       "    .dataframe tbody tr th {\n",
       "        vertical-align: top;\n",
       "    }\n",
       "\n",
       "    .dataframe thead th {\n",
       "        text-align: right;\n",
       "    }\n",
       "</style>\n",
       "<table border=\"1\" class=\"dataframe\">\n",
       "  <thead>\n",
       "    <tr style=\"text-align: right;\">\n",
       "      <th></th>\n",
       "      <th>user_id</th>\n",
       "    </tr>\n",
       "  </thead>\n",
       "  <tbody>\n",
       "    <tr>\n",
       "      <th>count</th>\n",
       "      <td>123036.000000</td>\n",
       "    </tr>\n",
       "    <tr>\n",
       "      <th>mean</th>\n",
       "      <td>1256.989410</td>\n",
       "    </tr>\n",
       "    <tr>\n",
       "      <th>std</th>\n",
       "      <td>143.523967</td>\n",
       "    </tr>\n",
       "    <tr>\n",
       "      <th>min</th>\n",
       "      <td>1000.000000</td>\n",
       "    </tr>\n",
       "    <tr>\n",
       "      <th>25%</th>\n",
       "      <td>1134.000000</td>\n",
       "    </tr>\n",
       "    <tr>\n",
       "      <th>50%</th>\n",
       "      <td>1271.000000</td>\n",
       "    </tr>\n",
       "    <tr>\n",
       "      <th>75%</th>\n",
       "      <td>1381.000000</td>\n",
       "    </tr>\n",
       "    <tr>\n",
       "      <th>max</th>\n",
       "      <td>1499.000000</td>\n",
       "    </tr>\n",
       "  </tbody>\n",
       "</table>\n",
       "</div>"
      ],
      "text/plain": [
       "             user_id\n",
       "count  123036.000000\n",
       "mean     1256.989410\n",
       "std       143.523967\n",
       "min      1000.000000\n",
       "25%      1134.000000\n",
       "50%      1271.000000\n",
       "75%      1381.000000\n",
       "max      1499.000000"
      ]
     },
     "metadata": {},
     "output_type": "display_data"
    },
    {
     "data": {
      "text/plain": [
       "None"
      ]
     },
     "metadata": {},
     "output_type": "display_data"
    }
   ],
   "source": [
    "display(messages.head(),messages.tail(),messages.sample(5),messages.describe(),messages.info())"
   ]
  },
  {
   "cell_type": "markdown",
   "metadata": {},
   "source": [
    "Выводы после предварительного осмотра: \n",
    "- столбец `message_date`имеет неправильный тип данных (object)\n",
    "- пропусков в данных нет"
   ]
  },
  {
   "cell_type": "markdown",
   "metadata": {},
   "source": [
    "Таблица  **internet**"
   ]
  },
  {
   "cell_type": "code",
   "execution_count": 7,
   "metadata": {},
   "outputs": [
    {
     "name": "stdout",
     "output_type": "stream",
     "text": [
      "<class 'pandas.core.frame.DataFrame'>\n",
      "RangeIndex: 149396 entries, 0 to 149395\n",
      "Data columns (total 5 columns):\n",
      " #   Column        Non-Null Count   Dtype  \n",
      "---  ------        --------------   -----  \n",
      " 0   Unnamed: 0    149396 non-null  int64  \n",
      " 1   id            149396 non-null  object \n",
      " 2   mb_used       149396 non-null  float64\n",
      " 3   session_date  149396 non-null  object \n",
      " 4   user_id       149396 non-null  int64  \n",
      "dtypes: float64(1), int64(2), object(2)\n",
      "memory usage: 5.7+ MB\n"
     ]
    },
    {
     "data": {
      "text/html": [
       "<div>\n",
       "<style scoped>\n",
       "    .dataframe tbody tr th:only-of-type {\n",
       "        vertical-align: middle;\n",
       "    }\n",
       "\n",
       "    .dataframe tbody tr th {\n",
       "        vertical-align: top;\n",
       "    }\n",
       "\n",
       "    .dataframe thead th {\n",
       "        text-align: right;\n",
       "    }\n",
       "</style>\n",
       "<table border=\"1\" class=\"dataframe\">\n",
       "  <thead>\n",
       "    <tr style=\"text-align: right;\">\n",
       "      <th></th>\n",
       "      <th>Unnamed: 0</th>\n",
       "      <th>id</th>\n",
       "      <th>mb_used</th>\n",
       "      <th>session_date</th>\n",
       "      <th>user_id</th>\n",
       "    </tr>\n",
       "  </thead>\n",
       "  <tbody>\n",
       "    <tr>\n",
       "      <th>0</th>\n",
       "      <td>0</td>\n",
       "      <td>1000_0</td>\n",
       "      <td>112.95</td>\n",
       "      <td>2018-11-25</td>\n",
       "      <td>1000</td>\n",
       "    </tr>\n",
       "    <tr>\n",
       "      <th>1</th>\n",
       "      <td>1</td>\n",
       "      <td>1000_1</td>\n",
       "      <td>1052.81</td>\n",
       "      <td>2018-09-07</td>\n",
       "      <td>1000</td>\n",
       "    </tr>\n",
       "    <tr>\n",
       "      <th>2</th>\n",
       "      <td>2</td>\n",
       "      <td>1000_2</td>\n",
       "      <td>1197.26</td>\n",
       "      <td>2018-06-25</td>\n",
       "      <td>1000</td>\n",
       "    </tr>\n",
       "    <tr>\n",
       "      <th>3</th>\n",
       "      <td>3</td>\n",
       "      <td>1000_3</td>\n",
       "      <td>550.27</td>\n",
       "      <td>2018-08-22</td>\n",
       "      <td>1000</td>\n",
       "    </tr>\n",
       "    <tr>\n",
       "      <th>4</th>\n",
       "      <td>4</td>\n",
       "      <td>1000_4</td>\n",
       "      <td>302.56</td>\n",
       "      <td>2018-09-24</td>\n",
       "      <td>1000</td>\n",
       "    </tr>\n",
       "  </tbody>\n",
       "</table>\n",
       "</div>"
      ],
      "text/plain": [
       "   Unnamed: 0      id  mb_used session_date  user_id\n",
       "0           0  1000_0   112.95   2018-11-25     1000\n",
       "1           1  1000_1  1052.81   2018-09-07     1000\n",
       "2           2  1000_2  1197.26   2018-06-25     1000\n",
       "3           3  1000_3   550.27   2018-08-22     1000\n",
       "4           4  1000_4   302.56   2018-09-24     1000"
      ]
     },
     "metadata": {},
     "output_type": "display_data"
    },
    {
     "data": {
      "text/html": [
       "<div>\n",
       "<style scoped>\n",
       "    .dataframe tbody tr th:only-of-type {\n",
       "        vertical-align: middle;\n",
       "    }\n",
       "\n",
       "    .dataframe tbody tr th {\n",
       "        vertical-align: top;\n",
       "    }\n",
       "\n",
       "    .dataframe thead th {\n",
       "        text-align: right;\n",
       "    }\n",
       "</style>\n",
       "<table border=\"1\" class=\"dataframe\">\n",
       "  <thead>\n",
       "    <tr style=\"text-align: right;\">\n",
       "      <th></th>\n",
       "      <th>Unnamed: 0</th>\n",
       "      <th>id</th>\n",
       "      <th>mb_used</th>\n",
       "      <th>session_date</th>\n",
       "      <th>user_id</th>\n",
       "    </tr>\n",
       "  </thead>\n",
       "  <tbody>\n",
       "    <tr>\n",
       "      <th>149391</th>\n",
       "      <td>149391</td>\n",
       "      <td>1499_152</td>\n",
       "      <td>318.90</td>\n",
       "      <td>2018-10-03</td>\n",
       "      <td>1499</td>\n",
       "    </tr>\n",
       "    <tr>\n",
       "      <th>149392</th>\n",
       "      <td>149392</td>\n",
       "      <td>1499_153</td>\n",
       "      <td>490.13</td>\n",
       "      <td>2018-12-14</td>\n",
       "      <td>1499</td>\n",
       "    </tr>\n",
       "    <tr>\n",
       "      <th>149393</th>\n",
       "      <td>149393</td>\n",
       "      <td>1499_154</td>\n",
       "      <td>0.00</td>\n",
       "      <td>2018-10-27</td>\n",
       "      <td>1499</td>\n",
       "    </tr>\n",
       "    <tr>\n",
       "      <th>149394</th>\n",
       "      <td>149394</td>\n",
       "      <td>1499_155</td>\n",
       "      <td>1246.32</td>\n",
       "      <td>2018-11-26</td>\n",
       "      <td>1499</td>\n",
       "    </tr>\n",
       "    <tr>\n",
       "      <th>149395</th>\n",
       "      <td>149395</td>\n",
       "      <td>1499_156</td>\n",
       "      <td>544.37</td>\n",
       "      <td>2018-10-26</td>\n",
       "      <td>1499</td>\n",
       "    </tr>\n",
       "  </tbody>\n",
       "</table>\n",
       "</div>"
      ],
      "text/plain": [
       "        Unnamed: 0        id  mb_used session_date  user_id\n",
       "149391      149391  1499_152   318.90   2018-10-03     1499\n",
       "149392      149392  1499_153   490.13   2018-12-14     1499\n",
       "149393      149393  1499_154     0.00   2018-10-27     1499\n",
       "149394      149394  1499_155  1246.32   2018-11-26     1499\n",
       "149395      149395  1499_156   544.37   2018-10-26     1499"
      ]
     },
     "metadata": {},
     "output_type": "display_data"
    },
    {
     "data": {
      "text/html": [
       "<div>\n",
       "<style scoped>\n",
       "    .dataframe tbody tr th:only-of-type {\n",
       "        vertical-align: middle;\n",
       "    }\n",
       "\n",
       "    .dataframe tbody tr th {\n",
       "        vertical-align: top;\n",
       "    }\n",
       "\n",
       "    .dataframe thead th {\n",
       "        text-align: right;\n",
       "    }\n",
       "</style>\n",
       "<table border=\"1\" class=\"dataframe\">\n",
       "  <thead>\n",
       "    <tr style=\"text-align: right;\">\n",
       "      <th></th>\n",
       "      <th>Unnamed: 0</th>\n",
       "      <th>id</th>\n",
       "      <th>mb_used</th>\n",
       "      <th>session_date</th>\n",
       "      <th>user_id</th>\n",
       "    </tr>\n",
       "  </thead>\n",
       "  <tbody>\n",
       "    <tr>\n",
       "      <th>130594</th>\n",
       "      <td>130594</td>\n",
       "      <td>1435_202</td>\n",
       "      <td>113.20</td>\n",
       "      <td>2018-03-02</td>\n",
       "      <td>1435</td>\n",
       "    </tr>\n",
       "    <tr>\n",
       "      <th>128162</th>\n",
       "      <td>128162</td>\n",
       "      <td>1429_320</td>\n",
       "      <td>351.63</td>\n",
       "      <td>2018-05-17</td>\n",
       "      <td>1429</td>\n",
       "    </tr>\n",
       "    <tr>\n",
       "      <th>62344</th>\n",
       "      <td>62344</td>\n",
       "      <td>1211_177</td>\n",
       "      <td>896.02</td>\n",
       "      <td>2018-09-23</td>\n",
       "      <td>1211</td>\n",
       "    </tr>\n",
       "    <tr>\n",
       "      <th>140590</th>\n",
       "      <td>140590</td>\n",
       "      <td>1472_264</td>\n",
       "      <td>578.99</td>\n",
       "      <td>2018-03-23</td>\n",
       "      <td>1472</td>\n",
       "    </tr>\n",
       "    <tr>\n",
       "      <th>44545</th>\n",
       "      <td>44545</td>\n",
       "      <td>1154_103</td>\n",
       "      <td>483.37</td>\n",
       "      <td>2018-12-27</td>\n",
       "      <td>1154</td>\n",
       "    </tr>\n",
       "  </tbody>\n",
       "</table>\n",
       "</div>"
      ],
      "text/plain": [
       "        Unnamed: 0        id  mb_used session_date  user_id\n",
       "130594      130594  1435_202   113.20   2018-03-02     1435\n",
       "128162      128162  1429_320   351.63   2018-05-17     1429\n",
       "62344        62344  1211_177   896.02   2018-09-23     1211\n",
       "140590      140590  1472_264   578.99   2018-03-23     1472\n",
       "44545        44545  1154_103   483.37   2018-12-27     1154"
      ]
     },
     "metadata": {},
     "output_type": "display_data"
    },
    {
     "data": {
      "text/html": [
       "<div>\n",
       "<style scoped>\n",
       "    .dataframe tbody tr th:only-of-type {\n",
       "        vertical-align: middle;\n",
       "    }\n",
       "\n",
       "    .dataframe tbody tr th {\n",
       "        vertical-align: top;\n",
       "    }\n",
       "\n",
       "    .dataframe thead th {\n",
       "        text-align: right;\n",
       "    }\n",
       "</style>\n",
       "<table border=\"1\" class=\"dataframe\">\n",
       "  <thead>\n",
       "    <tr style=\"text-align: right;\">\n",
       "      <th></th>\n",
       "      <th>Unnamed: 0</th>\n",
       "      <th>mb_used</th>\n",
       "      <th>user_id</th>\n",
       "    </tr>\n",
       "  </thead>\n",
       "  <tbody>\n",
       "    <tr>\n",
       "      <th>count</th>\n",
       "      <td>149396.000000</td>\n",
       "      <td>149396.000000</td>\n",
       "      <td>149396.000000</td>\n",
       "    </tr>\n",
       "    <tr>\n",
       "      <th>mean</th>\n",
       "      <td>74697.500000</td>\n",
       "      <td>370.192426</td>\n",
       "      <td>1252.099842</td>\n",
       "    </tr>\n",
       "    <tr>\n",
       "      <th>std</th>\n",
       "      <td>43127.054745</td>\n",
       "      <td>278.300951</td>\n",
       "      <td>144.050823</td>\n",
       "    </tr>\n",
       "    <tr>\n",
       "      <th>min</th>\n",
       "      <td>0.000000</td>\n",
       "      <td>0.000000</td>\n",
       "      <td>1000.000000</td>\n",
       "    </tr>\n",
       "    <tr>\n",
       "      <th>25%</th>\n",
       "      <td>37348.750000</td>\n",
       "      <td>138.187500</td>\n",
       "      <td>1130.000000</td>\n",
       "    </tr>\n",
       "    <tr>\n",
       "      <th>50%</th>\n",
       "      <td>74697.500000</td>\n",
       "      <td>348.015000</td>\n",
       "      <td>1251.000000</td>\n",
       "    </tr>\n",
       "    <tr>\n",
       "      <th>75%</th>\n",
       "      <td>112046.250000</td>\n",
       "      <td>559.552500</td>\n",
       "      <td>1380.000000</td>\n",
       "    </tr>\n",
       "    <tr>\n",
       "      <th>max</th>\n",
       "      <td>149395.000000</td>\n",
       "      <td>1724.830000</td>\n",
       "      <td>1499.000000</td>\n",
       "    </tr>\n",
       "  </tbody>\n",
       "</table>\n",
       "</div>"
      ],
      "text/plain": [
       "          Unnamed: 0        mb_used        user_id\n",
       "count  149396.000000  149396.000000  149396.000000\n",
       "mean    74697.500000     370.192426    1252.099842\n",
       "std     43127.054745     278.300951     144.050823\n",
       "min         0.000000       0.000000    1000.000000\n",
       "25%     37348.750000     138.187500    1130.000000\n",
       "50%     74697.500000     348.015000    1251.000000\n",
       "75%    112046.250000     559.552500    1380.000000\n",
       "max    149395.000000    1724.830000    1499.000000"
      ]
     },
     "metadata": {},
     "output_type": "display_data"
    },
    {
     "data": {
      "text/plain": [
       "None"
      ]
     },
     "metadata": {},
     "output_type": "display_data"
    }
   ],
   "source": [
    "display(internet.head(),internet.tail(),internet.sample(5),internet.describe(),internet.info())"
   ]
  },
  {
   "cell_type": "markdown",
   "metadata": {},
   "source": [
    "Выводы после предварительного осмотра: \n",
    "- столбец `session_date`имеет неправильный тип данных (object)\n",
    "- пропусков в данных нет\n",
    "- появился столбец `Unnamed: 0`, который просто дублирует индексы. Удалим его сразу"
   ]
  },
  {
   "cell_type": "markdown",
   "metadata": {},
   "source": [
    "<div style=\"border:solid steelblue 3px; padding: 20px\">\n",
    "<font size=\"4\">🍕<b> Комментарий ревьюера</b></font>\n",
    "<br /> \n",
    "<font size=\"3\", color = \"black\">\n",
    "<br />\n",
    "Unnamed: 0 возникает, когда данные сохраняют с указанием индекса pd.DataFrame().to_csv(..., index=column). Если при чтении указать этот столбец pd.read_csv(..., index_col=0) - данные сразу прочитаются корректно."
   ]
  },
  {
   "cell_type": "markdown",
   "metadata": {},
   "source": [
    "<div style=\"border:solid steelblue 3px; padding: 20px\">\n",
    "<font size=\"3\">🍕<b> Комментарий студента</b></font>\n",
    "<br /> \n",
    "<font size=\"2\", color = \"black\">\n",
    "<br />\n",
    "Cпасибо, понял)"
   ]
  },
  {
   "cell_type": "code",
   "execution_count": 8,
   "metadata": {},
   "outputs": [],
   "source": [
    "del internet['Unnamed: 0']"
   ]
  },
  {
   "cell_type": "code",
   "execution_count": 9,
   "metadata": {},
   "outputs": [
    {
     "data": {
      "text/html": [
       "<div>\n",
       "<style scoped>\n",
       "    .dataframe tbody tr th:only-of-type {\n",
       "        vertical-align: middle;\n",
       "    }\n",
       "\n",
       "    .dataframe tbody tr th {\n",
       "        vertical-align: top;\n",
       "    }\n",
       "\n",
       "    .dataframe thead th {\n",
       "        text-align: right;\n",
       "    }\n",
       "</style>\n",
       "<table border=\"1\" class=\"dataframe\">\n",
       "  <thead>\n",
       "    <tr style=\"text-align: right;\">\n",
       "      <th></th>\n",
       "      <th>id</th>\n",
       "      <th>mb_used</th>\n",
       "      <th>session_date</th>\n",
       "      <th>user_id</th>\n",
       "    </tr>\n",
       "  </thead>\n",
       "  <tbody>\n",
       "    <tr>\n",
       "      <th>0</th>\n",
       "      <td>1000_0</td>\n",
       "      <td>112.95</td>\n",
       "      <td>2018-11-25</td>\n",
       "      <td>1000</td>\n",
       "    </tr>\n",
       "    <tr>\n",
       "      <th>1</th>\n",
       "      <td>1000_1</td>\n",
       "      <td>1052.81</td>\n",
       "      <td>2018-09-07</td>\n",
       "      <td>1000</td>\n",
       "    </tr>\n",
       "    <tr>\n",
       "      <th>2</th>\n",
       "      <td>1000_2</td>\n",
       "      <td>1197.26</td>\n",
       "      <td>2018-06-25</td>\n",
       "      <td>1000</td>\n",
       "    </tr>\n",
       "    <tr>\n",
       "      <th>3</th>\n",
       "      <td>1000_3</td>\n",
       "      <td>550.27</td>\n",
       "      <td>2018-08-22</td>\n",
       "      <td>1000</td>\n",
       "    </tr>\n",
       "    <tr>\n",
       "      <th>4</th>\n",
       "      <td>1000_4</td>\n",
       "      <td>302.56</td>\n",
       "      <td>2018-09-24</td>\n",
       "      <td>1000</td>\n",
       "    </tr>\n",
       "  </tbody>\n",
       "</table>\n",
       "</div>"
      ],
      "text/plain": [
       "       id  mb_used session_date  user_id\n",
       "0  1000_0   112.95   2018-11-25     1000\n",
       "1  1000_1  1052.81   2018-09-07     1000\n",
       "2  1000_2  1197.26   2018-06-25     1000\n",
       "3  1000_3   550.27   2018-08-22     1000\n",
       "4  1000_4   302.56   2018-09-24     1000"
      ]
     },
     "execution_count": 9,
     "metadata": {},
     "output_type": "execute_result"
    }
   ],
   "source": [
    "#проверим удаление \n",
    "internet.head()"
   ]
  },
  {
   "cell_type": "markdown",
   "metadata": {},
   "source": [
    "Посмотрим на гистограмму распределения объема интернет сессий"
   ]
  },
  {
   "cell_type": "code",
   "execution_count": 10,
   "metadata": {
    "scrolled": true
   },
   "outputs": [
    {
     "data": {
      "text/plain": [
       "<AxesSubplot:>"
      ]
     },
     "execution_count": 10,
     "metadata": {},
     "output_type": "execute_result"
    },
    {
     "data": {
      "image/png": "[encoded data removed]",
      "text/plain": [
       "<Figure size 432x288 with 1 Axes>"
      ]
     },
     "metadata": {
      "needs_background": "light"
     },
     "output_type": "display_data"
    }
   ],
   "source": [
    "internet['mb_used'].hist(bins=50)"
   ]
  },
  {
   "cell_type": "markdown",
   "metadata": {},
   "source": [
    "Аномалий не вижу. Большинство интернет сессий - короткие. Пользователи могли зайти посмотреть погоду/отправить сообщение в мессенджере. Далее распределение имеет форму нормального"
   ]
  },
  {
   "cell_type": "markdown",
   "metadata": {},
   "source": [
    "<div class=\"alert alert-success\">\n",
    "<font size=\"4\", color= \"seagreen\"><b>✔️ Комментарий ревьюера в2</b></font>\n",
    "    <br /> \n",
    "    <font size=\"3\", color = \"black\">\n",
    "<br />\n",
    "Клиенты пытались зайти в интернет, но не смогли, происходит обрыв сессий и звонков, возможно надо бить тревогу и бежать к технарям, после детального и глубокого анализа: город, время, клиент у кого произошел обрыв ...\n",
    "        \n",
    "Это на твое усмотрение — как вариант для анализа"
   ]
  },
  {
   "cell_type": "markdown",
   "metadata": {},
   "source": [
    "Таблица **tariffs**"
   ]
  },
  {
   "cell_type": "code",
   "execution_count": 11,
   "metadata": {},
   "outputs": [
    {
     "name": "stdout",
     "output_type": "stream",
     "text": [
      "<class 'pandas.core.frame.DataFrame'>\n",
      "RangeIndex: 2 entries, 0 to 1\n",
      "Data columns (total 8 columns):\n",
      " #   Column                 Non-Null Count  Dtype \n",
      "---  ------                 --------------  ----- \n",
      " 0   messages_included      2 non-null      int64 \n",
      " 1   mb_per_month_included  2 non-null      int64 \n",
      " 2   minutes_included       2 non-null      int64 \n",
      " 3   rub_monthly_fee        2 non-null      int64 \n",
      " 4   rub_per_gb             2 non-null      int64 \n",
      " 5   rub_per_message        2 non-null      int64 \n",
      " 6   rub_per_minute         2 non-null      int64 \n",
      " 7   tariff_name            2 non-null      object\n",
      "dtypes: int64(7), object(1)\n",
      "memory usage: 256.0+ bytes\n"
     ]
    },
    {
     "data": {
      "text/html": [
       "<div>\n",
       "<style scoped>\n",
       "    .dataframe tbody tr th:only-of-type {\n",
       "        vertical-align: middle;\n",
       "    }\n",
       "\n",
       "    .dataframe tbody tr th {\n",
       "        vertical-align: top;\n",
       "    }\n",
       "\n",
       "    .dataframe thead th {\n",
       "        text-align: right;\n",
       "    }\n",
       "</style>\n",
       "<table border=\"1\" class=\"dataframe\">\n",
       "  <thead>\n",
       "    <tr style=\"text-align: right;\">\n",
       "      <th></th>\n",
       "      <th>messages_included</th>\n",
       "      <th>mb_per_month_included</th>\n",
       "      <th>minutes_included</th>\n",
       "      <th>rub_monthly_fee</th>\n",
       "      <th>rub_per_gb</th>\n",
       "      <th>rub_per_message</th>\n",
       "      <th>rub_per_minute</th>\n",
       "      <th>tariff_name</th>\n",
       "    </tr>\n",
       "  </thead>\n",
       "  <tbody>\n",
       "    <tr>\n",
       "      <th>0</th>\n",
       "      <td>50</td>\n",
       "      <td>15360</td>\n",
       "      <td>500</td>\n",
       "      <td>550</td>\n",
       "      <td>200</td>\n",
       "      <td>3</td>\n",
       "      <td>3</td>\n",
       "      <td>smart</td>\n",
       "    </tr>\n",
       "    <tr>\n",
       "      <th>1</th>\n",
       "      <td>1000</td>\n",
       "      <td>30720</td>\n",
       "      <td>3000</td>\n",
       "      <td>1950</td>\n",
       "      <td>150</td>\n",
       "      <td>1</td>\n",
       "      <td>1</td>\n",
       "      <td>ultra</td>\n",
       "    </tr>\n",
       "  </tbody>\n",
       "</table>\n",
       "</div>"
      ],
      "text/plain": [
       "   messages_included  mb_per_month_included  minutes_included  \\\n",
       "0                 50                  15360               500   \n",
       "1               1000                  30720              3000   \n",
       "\n",
       "   rub_monthly_fee  rub_per_gb  rub_per_message  rub_per_minute tariff_name  \n",
       "0              550         200                3               3       smart  \n",
       "1             1950         150                1               1       ultra  "
      ]
     },
     "metadata": {},
     "output_type": "display_data"
    },
    {
     "data": {
      "text/html": [
       "<div>\n",
       "<style scoped>\n",
       "    .dataframe tbody tr th:only-of-type {\n",
       "        vertical-align: middle;\n",
       "    }\n",
       "\n",
       "    .dataframe tbody tr th {\n",
       "        vertical-align: top;\n",
       "    }\n",
       "\n",
       "    .dataframe thead th {\n",
       "        text-align: right;\n",
       "    }\n",
       "</style>\n",
       "<table border=\"1\" class=\"dataframe\">\n",
       "  <thead>\n",
       "    <tr style=\"text-align: right;\">\n",
       "      <th></th>\n",
       "      <th>messages_included</th>\n",
       "      <th>mb_per_month_included</th>\n",
       "      <th>minutes_included</th>\n",
       "      <th>rub_monthly_fee</th>\n",
       "      <th>rub_per_gb</th>\n",
       "      <th>rub_per_message</th>\n",
       "      <th>rub_per_minute</th>\n",
       "      <th>tariff_name</th>\n",
       "    </tr>\n",
       "  </thead>\n",
       "  <tbody>\n",
       "    <tr>\n",
       "      <th>0</th>\n",
       "      <td>50</td>\n",
       "      <td>15360</td>\n",
       "      <td>500</td>\n",
       "      <td>550</td>\n",
       "      <td>200</td>\n",
       "      <td>3</td>\n",
       "      <td>3</td>\n",
       "      <td>smart</td>\n",
       "    </tr>\n",
       "    <tr>\n",
       "      <th>1</th>\n",
       "      <td>1000</td>\n",
       "      <td>30720</td>\n",
       "      <td>3000</td>\n",
       "      <td>1950</td>\n",
       "      <td>150</td>\n",
       "      <td>1</td>\n",
       "      <td>1</td>\n",
       "      <td>ultra</td>\n",
       "    </tr>\n",
       "  </tbody>\n",
       "</table>\n",
       "</div>"
      ],
      "text/plain": [
       "   messages_included  mb_per_month_included  minutes_included  \\\n",
       "0                 50                  15360               500   \n",
       "1               1000                  30720              3000   \n",
       "\n",
       "   rub_monthly_fee  rub_per_gb  rub_per_message  rub_per_minute tariff_name  \n",
       "0              550         200                3               3       smart  \n",
       "1             1950         150                1               1       ultra  "
      ]
     },
     "metadata": {},
     "output_type": "display_data"
    },
    {
     "data": {
      "text/html": [
       "<div>\n",
       "<style scoped>\n",
       "    .dataframe tbody tr th:only-of-type {\n",
       "        vertical-align: middle;\n",
       "    }\n",
       "\n",
       "    .dataframe tbody tr th {\n",
       "        vertical-align: top;\n",
       "    }\n",
       "\n",
       "    .dataframe thead th {\n",
       "        text-align: right;\n",
       "    }\n",
       "</style>\n",
       "<table border=\"1\" class=\"dataframe\">\n",
       "  <thead>\n",
       "    <tr style=\"text-align: right;\">\n",
       "      <th></th>\n",
       "      <th>messages_included</th>\n",
       "      <th>mb_per_month_included</th>\n",
       "      <th>minutes_included</th>\n",
       "      <th>rub_monthly_fee</th>\n",
       "      <th>rub_per_gb</th>\n",
       "      <th>rub_per_message</th>\n",
       "      <th>rub_per_minute</th>\n",
       "    </tr>\n",
       "  </thead>\n",
       "  <tbody>\n",
       "    <tr>\n",
       "      <th>count</th>\n",
       "      <td>2.000000</td>\n",
       "      <td>2.000000</td>\n",
       "      <td>2.000000</td>\n",
       "      <td>2.000000</td>\n",
       "      <td>2.000000</td>\n",
       "      <td>2.000000</td>\n",
       "      <td>2.000000</td>\n",
       "    </tr>\n",
       "    <tr>\n",
       "      <th>mean</th>\n",
       "      <td>525.000000</td>\n",
       "      <td>23040.000000</td>\n",
       "      <td>1750.000000</td>\n",
       "      <td>1250.000000</td>\n",
       "      <td>175.000000</td>\n",
       "      <td>2.000000</td>\n",
       "      <td>2.000000</td>\n",
       "    </tr>\n",
       "    <tr>\n",
       "      <th>std</th>\n",
       "      <td>671.751442</td>\n",
       "      <td>10861.160159</td>\n",
       "      <td>1767.766953</td>\n",
       "      <td>989.949494</td>\n",
       "      <td>35.355339</td>\n",
       "      <td>1.414214</td>\n",
       "      <td>1.414214</td>\n",
       "    </tr>\n",
       "    <tr>\n",
       "      <th>min</th>\n",
       "      <td>50.000000</td>\n",
       "      <td>15360.000000</td>\n",
       "      <td>500.000000</td>\n",
       "      <td>550.000000</td>\n",
       "      <td>150.000000</td>\n",
       "      <td>1.000000</td>\n",
       "      <td>1.000000</td>\n",
       "    </tr>\n",
       "    <tr>\n",
       "      <th>25%</th>\n",
       "      <td>287.500000</td>\n",
       "      <td>19200.000000</td>\n",
       "      <td>1125.000000</td>\n",
       "      <td>900.000000</td>\n",
       "      <td>162.500000</td>\n",
       "      <td>1.500000</td>\n",
       "      <td>1.500000</td>\n",
       "    </tr>\n",
       "    <tr>\n",
       "      <th>50%</th>\n",
       "      <td>525.000000</td>\n",
       "      <td>23040.000000</td>\n",
       "      <td>1750.000000</td>\n",
       "      <td>1250.000000</td>\n",
       "      <td>175.000000</td>\n",
       "      <td>2.000000</td>\n",
       "      <td>2.000000</td>\n",
       "    </tr>\n",
       "    <tr>\n",
       "      <th>75%</th>\n",
       "      <td>762.500000</td>\n",
       "      <td>26880.000000</td>\n",
       "      <td>2375.000000</td>\n",
       "      <td>1600.000000</td>\n",
       "      <td>187.500000</td>\n",
       "      <td>2.500000</td>\n",
       "      <td>2.500000</td>\n",
       "    </tr>\n",
       "    <tr>\n",
       "      <th>max</th>\n",
       "      <td>1000.000000</td>\n",
       "      <td>30720.000000</td>\n",
       "      <td>3000.000000</td>\n",
       "      <td>1950.000000</td>\n",
       "      <td>200.000000</td>\n",
       "      <td>3.000000</td>\n",
       "      <td>3.000000</td>\n",
       "    </tr>\n",
       "  </tbody>\n",
       "</table>\n",
       "</div>"
      ],
      "text/plain": [
       "       messages_included  mb_per_month_included  minutes_included  \\\n",
       "count           2.000000               2.000000          2.000000   \n",
       "mean          525.000000           23040.000000       1750.000000   \n",
       "std           671.751442           10861.160159       1767.766953   \n",
       "min            50.000000           15360.000000        500.000000   \n",
       "25%           287.500000           19200.000000       1125.000000   \n",
       "50%           525.000000           23040.000000       1750.000000   \n",
       "75%           762.500000           26880.000000       2375.000000   \n",
       "max          1000.000000           30720.000000       3000.000000   \n",
       "\n",
       "       rub_monthly_fee  rub_per_gb  rub_per_message  rub_per_minute  \n",
       "count         2.000000    2.000000         2.000000        2.000000  \n",
       "mean       1250.000000  175.000000         2.000000        2.000000  \n",
       "std         989.949494   35.355339         1.414214        1.414214  \n",
       "min         550.000000  150.000000         1.000000        1.000000  \n",
       "25%         900.000000  162.500000         1.500000        1.500000  \n",
       "50%        1250.000000  175.000000         2.000000        2.000000  \n",
       "75%        1600.000000  187.500000         2.500000        2.500000  \n",
       "max        1950.000000  200.000000         3.000000        3.000000  "
      ]
     },
     "metadata": {},
     "output_type": "display_data"
    },
    {
     "data": {
      "text/plain": [
       "None"
      ]
     },
     "metadata": {},
     "output_type": "display_data"
    }
   ],
   "source": [
    "display(tariffs.head(),tariffs.tail(),tariffs.describe(),tariffs.info())"
   ]
  },
  {
   "cell_type": "markdown",
   "metadata": {},
   "source": [
    "Выводы после предварительного осмотра: \n",
    "- на первый взгляд ,кажется, что всё хорошо"
   ]
  },
  {
   "cell_type": "markdown",
   "metadata": {},
   "source": [
    "**Вывод**: Мы предварительно осмотрели данные, определили некоторые проблемы. Сейчас данные нужно предобработатать. Дополнительно с выявленными проблемами проверим данные на дубликаты, аномалии."
   ]
  },
  {
   "cell_type": "markdown",
   "metadata": {},
   "source": [
    "<div class=\"alert alert-warning\", style=\"border:solid coral 3px; padding: 20px\">\n",
    "<font size=\"4\", color = \"DimGrey\"><b>⚠️ Комментарий ревьюера</b></font>\n",
    "    <br /> \n",
    "    <font size=\"3\", color = \"black\">\n",
    "<br />  Данные изучены, что можно добавить:     \n",
    "\n",
    "+ посмотреть на гистограмму распределения объема интернет-сессий, нет ли здесь аномалий\n",
    "+ рекомендуется проверять уникальность первичных ключей в таблицах (user_id) и пересечение их значений между объединяемыми таблицами\n",
    "        "
   ]
  },
  {
   "cell_type": "markdown",
   "metadata": {},
   "source": [
    "<div style=\"border:solid steelblue 3px; padding: 20px\">\n",
    "<font size=\"3\">🍕<b> Комментарий студента</b></font>\n",
    "<br /> \n",
    "<font size=\"2\", color = \"black\">\n",
    "<br />\n",
    "Хорошо. Добавил гистограмму объема интернет-сессий в часть, где рассматриваем таблицу internet и проверка на уникальность пользователей в часть, где рассматриваем таблицу users"
   ]
  },
  {
   "cell_type": "markdown",
   "metadata": {},
   "source": [
    "<div class=\"alert alert-success\">\n",
    "<font size=\"4\", color= \"seagreen\"><b>✔️ Комментарий ревьюера в2</b></font>\n",
    "    <br /> \n",
    "    <font size=\"3\", color = \"black\">\n",
    "<br />да но в других трех таблицах уникальных пользователей уже меньше 500-та"
   ]
  },
  {
   "cell_type": "markdown",
   "metadata": {},
   "source": [
    "## Предобработка данных"
   ]
  },
  {
   "cell_type": "markdown",
   "metadata": {},
   "source": [
    "Таблица **users**"
   ]
  },
  {
   "cell_type": "code",
   "execution_count": 12,
   "metadata": {},
   "outputs": [],
   "source": [
    "#изменим тип данных\n",
    "users['churn_date'] = pd.to_datetime(users['churn_date'], format=\"%Y-%m-%d\")\n",
    "users['reg_date'] = pd.to_datetime(users['reg_date'], format=\"%Y-%m-%d\")"
   ]
  },
  {
   "cell_type": "markdown",
   "metadata": {},
   "source": [
    "Проверим стона столбец `city`, где могут быть неявные дубликаты. Cоздадим отдельный список городов, отсортируем по названию и посмотрим на него"
   ]
  },
  {
   "cell_type": "code",
   "execution_count": 13,
   "metadata": {},
   "outputs": [
    {
     "data": {
      "text/plain": [
       "['Архангельск',\n",
       " 'Астрахань',\n",
       " 'Балашиха',\n",
       " 'Барнаул',\n",
       " 'Белгород',\n",
       " 'Брянск',\n",
       " 'Владивосток',\n",
       " 'Владикавказ',\n",
       " 'Владимир',\n",
       " 'Волгоград',\n",
       " 'Волжский',\n",
       " 'Вологда',\n",
       " 'Воронеж',\n",
       " 'Грозный',\n",
       " 'Екатеринбург',\n",
       " 'Иваново',\n",
       " 'Ижевск',\n",
       " 'Иркутск',\n",
       " 'Казань',\n",
       " 'Калининград',\n",
       " 'Калуга',\n",
       " 'Кемерово',\n",
       " 'Киров',\n",
       " 'Кострома',\n",
       " 'Краснодар',\n",
       " 'Красноярск',\n",
       " 'Курган',\n",
       " 'Курск',\n",
       " 'Липецк',\n",
       " 'Магнитогорск',\n",
       " 'Махачкала',\n",
       " 'Москва',\n",
       " 'Мурманск',\n",
       " 'Набережные Челны',\n",
       " 'Нижневартовск',\n",
       " 'Нижний Новгород',\n",
       " 'Нижний Тагил',\n",
       " 'Новокузнецк',\n",
       " 'Новороссийск',\n",
       " 'Новосибирск',\n",
       " 'Омск',\n",
       " 'Оренбург',\n",
       " 'Орёл',\n",
       " 'Пенза',\n",
       " 'Пермь',\n",
       " 'Петрозаводск',\n",
       " 'Подольск',\n",
       " 'Ростов-на-Дону',\n",
       " 'Рязань',\n",
       " 'Самара',\n",
       " 'Санкт-Петербург',\n",
       " 'Саранск',\n",
       " 'Саратов',\n",
       " 'Севастополь',\n",
       " 'Смоленск',\n",
       " 'Сочи',\n",
       " 'Ставрополь',\n",
       " 'Стерлитамак',\n",
       " 'Сургут',\n",
       " 'Тамбов',\n",
       " 'Тверь',\n",
       " 'Тольятти',\n",
       " 'Томск',\n",
       " 'Тула',\n",
       " 'Тюмень',\n",
       " 'Улан-Удэ',\n",
       " 'Ульяновск',\n",
       " 'Уфа',\n",
       " 'Хабаровск',\n",
       " 'Химки',\n",
       " 'Чебоксары',\n",
       " 'Челябинск',\n",
       " 'Череповец',\n",
       " 'Чита',\n",
       " 'Якутск',\n",
       " 'Ярославль']"
      ]
     },
     "execution_count": 13,
     "metadata": {},
     "output_type": "execute_result"
    }
   ],
   "source": [
    "unique_city = list(users['city'].unique())\n",
    "unique_city.sort()\n",
    "unique_city"
   ]
  },
  {
   "cell_type": "markdown",
   "metadata": {},
   "source": [
    "Кажется, всё хорошо. Тогда просто проверим всю таблицу на дубликаты"
   ]
  },
  {
   "cell_type": "code",
   "execution_count": 14,
   "metadata": {},
   "outputs": [
    {
     "data": {
      "text/plain": [
       "0"
      ]
     },
     "execution_count": 14,
     "metadata": {},
     "output_type": "execute_result"
    }
   ],
   "source": [
    "users.duplicated().sum()"
   ]
  },
  {
   "cell_type": "markdown",
   "metadata": {},
   "source": [
    "Идем дальше \\\n",
    "Таблица **calls** \\\n",
    "Поменяем неправильный тип данных и проверим таблицу на дубликаты. Так же округлим значение до минут (в верхнюю сторону). Так как Мегалайн округляет секунды до минут "
   ]
  },
  {
   "cell_type": "code",
   "execution_count": 15,
   "metadata": {},
   "outputs": [],
   "source": [
    "calls['call_date'] = pd.to_datetime(calls['call_date'], format=\"%Y-%m-%d\")"
   ]
  },
  {
   "cell_type": "code",
   "execution_count": 16,
   "metadata": {},
   "outputs": [],
   "source": [
    "calls['duration'] = calls['duration'].apply(np.ceil).astype('int')"
   ]
  },
  {
   "cell_type": "markdown",
   "metadata": {},
   "source": [
    "<div class=\"alert alert-danger\">\n",
    "<font size=\"4\"><b>❌ Комментарий ревьюера в2</b></font>\n",
    "    <br /> \n",
    "    <font size=\"3\", color = \"black\">\n",
    "<br />\n",
    "Округление с помощью apply - не оптимальный способ, \n",
    "        \n",
    "np.ceil() может работать сразу со всем столбцом, самое главное намного быстрее, на больших данных актуально (сравнение apply и функций библиотеки numpy)\n",
    "        \n",
    "https://ggbaker.ca/732/content/pandas-speed.html"
   ]
  },
  {
   "cell_type": "code",
   "execution_count": 17,
   "metadata": {},
   "outputs": [
    {
     "data": {
      "text/plain": [
       "0"
      ]
     },
     "execution_count": 17,
     "metadata": {},
     "output_type": "execute_result"
    }
   ],
   "source": [
    "calls.duplicated().sum()"
   ]
  },
  {
   "cell_type": "code",
   "execution_count": 18,
   "metadata": {},
   "outputs": [],
   "source": [
    "# df"
   ]
  },
  {
   "cell_type": "code",
   "execution_count": null,
   "metadata": {},
   "outputs": [],
   "source": []
  },
  {
   "cell_type": "markdown",
   "metadata": {},
   "source": [
    "Идем дальше \\\n",
    "Таблица **messages** \\\n",
    "Поменяем неправильный тип данных и проверим таблицу на дубликаты"
   ]
  },
  {
   "cell_type": "code",
   "execution_count": 19,
   "metadata": {},
   "outputs": [],
   "source": [
    "messages['message_date'] = pd.to_datetime(messages['message_date'], format=\"%Y-%m-%d\")"
   ]
  },
  {
   "cell_type": "code",
   "execution_count": 20,
   "metadata": {},
   "outputs": [
    {
     "data": {
      "text/plain": [
       "0"
      ]
     },
     "execution_count": 20,
     "metadata": {},
     "output_type": "execute_result"
    }
   ],
   "source": [
    "messages.duplicated().sum()"
   ]
  },
  {
   "cell_type": "markdown",
   "metadata": {},
   "source": [
    "Далее таблица **internet** \\\n",
    "Аналогично - меняет тип данных и проверяем на дубликаты "
   ]
  },
  {
   "cell_type": "code",
   "execution_count": 21,
   "metadata": {},
   "outputs": [],
   "source": [
    "internet['session_date'] = pd.to_datetime(internet['session_date'], format=\"%Y-%m-%d\")"
   ]
  },
  {
   "cell_type": "code",
   "execution_count": 22,
   "metadata": {},
   "outputs": [
    {
     "data": {
      "text/plain": [
       "0"
      ]
     },
     "execution_count": 22,
     "metadata": {},
     "output_type": "execute_result"
    }
   ],
   "source": [
    "internet.duplicated().sum()"
   ]
  },
  {
   "cell_type": "markdown",
   "metadata": {},
   "source": [
    "Последняя таблица - **tariffs** \\\n",
    "При предварительном осмотре мы не нашли нареканий. \\\n",
    "Но есть столбец `tariff_name`, где возможно появление неочевидных дубликатов"
   ]
  },
  {
   "cell_type": "code",
   "execution_count": 23,
   "metadata": {},
   "outputs": [
    {
     "data": {
      "text/plain": [
       "array(['smart', 'ultra'], dtype=object)"
      ]
     },
     "execution_count": 23,
     "metadata": {},
     "output_type": "execute_result"
    }
   ],
   "source": [
    "tariffs['tariff_name'].unique()"
   ]
  },
  {
   "cell_type": "markdown",
   "metadata": {},
   "source": [
    "Всё хорошо. Проверим на дубликаты"
   ]
  },
  {
   "cell_type": "code",
   "execution_count": 24,
   "metadata": {},
   "outputs": [
    {
     "data": {
      "text/plain": [
       "0"
      ]
     },
     "execution_count": 24,
     "metadata": {},
     "output_type": "execute_result"
    }
   ],
   "source": [
    "tariffs.duplicated().sum()"
   ]
  },
  {
   "cell_type": "markdown",
   "metadata": {},
   "source": [
    "**Вывод**: Исправили недочеты ,выявленные на предварительном осмотре данных ,проверили на дубликаты. Теперь можно произвести необходимые расчеты"
   ]
  },
  {
   "cell_type": "markdown",
   "metadata": {},
   "source": [
    "## Расчеты и добавление результатов в таблицу "
   ]
  },
  {
   "cell_type": "markdown",
   "metadata": {},
   "source": [
    "Для каждого пользователя проведём следующие расчеты: \n",
    "\n",
    "- количество сделанных звонков и израсходованных минут разговора по месяцам;\n",
    "- количество отправленных сообщений по месяцам;\n",
    "- объем израсходованного интернет-трафика по месяцам;\n",
    "- помесячную выручку с каждого пользователя (вычтем бесплатный лимит из суммарного количества звонков, сообщений и интернет-трафика; остаток умножим на значение из тарифного плана; прибавим абонентскую плату, соответствующую тарифному плану)."
   ]
  },
  {
   "cell_type": "markdown",
   "metadata": {},
   "source": [
    "### Количество сделанных звонков и израсходованных минут разговора по месяцам"
   ]
  },
  {
   "cell_type": "code",
   "execution_count": 25,
   "metadata": {},
   "outputs": [
    {
     "data": {
      "text/html": [
       "<div>\n",
       "<style scoped>\n",
       "    .dataframe tbody tr th:only-of-type {\n",
       "        vertical-align: middle;\n",
       "    }\n",
       "\n",
       "    .dataframe tbody tr th {\n",
       "        vertical-align: top;\n",
       "    }\n",
       "\n",
       "    .dataframe thead th {\n",
       "        text-align: right;\n",
       "    }\n",
       "</style>\n",
       "<table border=\"1\" class=\"dataframe\">\n",
       "  <thead>\n",
       "    <tr style=\"text-align: right;\">\n",
       "      <th></th>\n",
       "      <th>id</th>\n",
       "      <th>call_date</th>\n",
       "      <th>duration</th>\n",
       "      <th>user_id</th>\n",
       "      <th>month</th>\n",
       "    </tr>\n",
       "  </thead>\n",
       "  <tbody>\n",
       "    <tr>\n",
       "      <th>0</th>\n",
       "      <td>1000_0</td>\n",
       "      <td>2018-07-25</td>\n",
       "      <td>0</td>\n",
       "      <td>1000</td>\n",
       "      <td>7</td>\n",
       "    </tr>\n",
       "    <tr>\n",
       "      <th>1</th>\n",
       "      <td>1000_1</td>\n",
       "      <td>2018-08-17</td>\n",
       "      <td>0</td>\n",
       "      <td>1000</td>\n",
       "      <td>8</td>\n",
       "    </tr>\n",
       "    <tr>\n",
       "      <th>2</th>\n",
       "      <td>1000_2</td>\n",
       "      <td>2018-06-11</td>\n",
       "      <td>3</td>\n",
       "      <td>1000</td>\n",
       "      <td>6</td>\n",
       "    </tr>\n",
       "    <tr>\n",
       "      <th>3</th>\n",
       "      <td>1000_3</td>\n",
       "      <td>2018-09-21</td>\n",
       "      <td>14</td>\n",
       "      <td>1000</td>\n",
       "      <td>9</td>\n",
       "    </tr>\n",
       "    <tr>\n",
       "      <th>4</th>\n",
       "      <td>1000_4</td>\n",
       "      <td>2018-12-15</td>\n",
       "      <td>6</td>\n",
       "      <td>1000</td>\n",
       "      <td>12</td>\n",
       "    </tr>\n",
       "    <tr>\n",
       "      <th>...</th>\n",
       "      <td>...</td>\n",
       "      <td>...</td>\n",
       "      <td>...</td>\n",
       "      <td>...</td>\n",
       "      <td>...</td>\n",
       "    </tr>\n",
       "    <tr>\n",
       "      <th>202602</th>\n",
       "      <td>1499_215</td>\n",
       "      <td>2018-12-26</td>\n",
       "      <td>1</td>\n",
       "      <td>1499</td>\n",
       "      <td>12</td>\n",
       "    </tr>\n",
       "    <tr>\n",
       "      <th>202603</th>\n",
       "      <td>1499_216</td>\n",
       "      <td>2018-10-18</td>\n",
       "      <td>19</td>\n",
       "      <td>1499</td>\n",
       "      <td>10</td>\n",
       "    </tr>\n",
       "    <tr>\n",
       "      <th>202604</th>\n",
       "      <td>1499_217</td>\n",
       "      <td>2018-11-10</td>\n",
       "      <td>11</td>\n",
       "      <td>1499</td>\n",
       "      <td>11</td>\n",
       "    </tr>\n",
       "    <tr>\n",
       "      <th>202605</th>\n",
       "      <td>1499_218</td>\n",
       "      <td>2018-10-06</td>\n",
       "      <td>5</td>\n",
       "      <td>1499</td>\n",
       "      <td>10</td>\n",
       "    </tr>\n",
       "    <tr>\n",
       "      <th>202606</th>\n",
       "      <td>1499_219</td>\n",
       "      <td>2018-12-14</td>\n",
       "      <td>20</td>\n",
       "      <td>1499</td>\n",
       "      <td>12</td>\n",
       "    </tr>\n",
       "  </tbody>\n",
       "</table>\n",
       "<p>202607 rows × 5 columns</p>\n",
       "</div>"
      ],
      "text/plain": [
       "              id  call_date  duration  user_id  month\n",
       "0         1000_0 2018-07-25         0     1000      7\n",
       "1         1000_1 2018-08-17         0     1000      8\n",
       "2         1000_2 2018-06-11         3     1000      6\n",
       "3         1000_3 2018-09-21        14     1000      9\n",
       "4         1000_4 2018-12-15         6     1000     12\n",
       "...          ...        ...       ...      ...    ...\n",
       "202602  1499_215 2018-12-26         1     1499     12\n",
       "202603  1499_216 2018-10-18        19     1499     10\n",
       "202604  1499_217 2018-11-10        11     1499     11\n",
       "202605  1499_218 2018-10-06         5     1499     10\n",
       "202606  1499_219 2018-12-14        20     1499     12\n",
       "\n",
       "[202607 rows x 5 columns]"
      ]
     },
     "execution_count": 25,
     "metadata": {},
     "output_type": "execute_result"
    }
   ],
   "source": [
    "#добавим столбец с названиями месяцев в таблицу calls\n",
    "calls['month'] = calls['call_date'].dt.month\n",
    "calls"
   ]
  },
  {
   "cell_type": "markdown",
   "metadata": {},
   "source": [
    "<div class=\"alert alert-warning\", style=\"border:solid coral 3px; padding: 20px\">\n",
    "<font size=\"4\", color = \"DimGrey\"><b>⚠️ Комментарий ревьюера</b></font>\n",
    "    <br /> \n",
    "    <font size=\"3\", color = \"black\">\n",
    "<br />Каким образом мы создавали бы столбец месяц на периоде данных за два года 2018 по 2019 гг.?"
   ]
  },
  {
   "cell_type": "markdown",
   "metadata": {},
   "source": [
    "<div style=\"border:solid steelblue 3px; padding: 20px\">\n",
    "<font size=\"3\">🍕<b> Комментарий студента</b></font>\n",
    "<br /> \n",
    "<font size=\"2\", color = \"black\">\n",
    "<br />\n",
    "Достал бы из даты год методом dt.year и прилепил к номеру месяца"
   ]
  },
  {
   "cell_type": "markdown",
   "metadata": {},
   "source": [
    "<div class=\"alert alert-success\">\n",
    "<font size=\"4\", color= \"seagreen\"><b>✔️ Комментарий ревьюера в2</b></font>\n",
    "    <br /> \n",
    "    <font size=\"3\", color = \"black\">\n",
    "<br />Использование .astype('datetime64[M]') помогает работать с датасетами в которых собраны данные за несколько лет"
   ]
  },
  {
   "cell_type": "markdown",
   "metadata": {},
   "source": [
    "Далее создадим отдельную таблицу **user_call**, в которой:\n",
    "- сгруппируем данные по каждому пользователю (`user_id`) и месяцам (`user_id`)\n",
    "- посчитаем количество сделанных звонков (применим `count` к `id`)\n",
    "- посчитаем израсходованные минуты по месяцам (применим sum к `duraction`)\n",
    "- переименуем столбцы"
   ]
  },
  {
   "cell_type": "code",
   "execution_count": 26,
   "metadata": {},
   "outputs": [
    {
     "data": {
      "text/html": [
       "<div>\n",
       "<style scoped>\n",
       "    .dataframe tbody tr th:only-of-type {\n",
       "        vertical-align: middle;\n",
       "    }\n",
       "\n",
       "    .dataframe tbody tr th {\n",
       "        vertical-align: top;\n",
       "    }\n",
       "\n",
       "    .dataframe thead th {\n",
       "        text-align: right;\n",
       "    }\n",
       "</style>\n",
       "<table border=\"1\" class=\"dataframe\">\n",
       "  <thead>\n",
       "    <tr style=\"text-align: right;\">\n",
       "      <th></th>\n",
       "      <th>user_id</th>\n",
       "      <th>month</th>\n",
       "      <th>total_calls_by_month</th>\n",
       "      <th>duraction_by_month</th>\n",
       "    </tr>\n",
       "  </thead>\n",
       "  <tbody>\n",
       "    <tr>\n",
       "      <th>0</th>\n",
       "      <td>1000</td>\n",
       "      <td>5</td>\n",
       "      <td>22</td>\n",
       "      <td>159</td>\n",
       "    </tr>\n",
       "    <tr>\n",
       "      <th>1</th>\n",
       "      <td>1000</td>\n",
       "      <td>6</td>\n",
       "      <td>43</td>\n",
       "      <td>172</td>\n",
       "    </tr>\n",
       "    <tr>\n",
       "      <th>2</th>\n",
       "      <td>1000</td>\n",
       "      <td>7</td>\n",
       "      <td>47</td>\n",
       "      <td>340</td>\n",
       "    </tr>\n",
       "    <tr>\n",
       "      <th>3</th>\n",
       "      <td>1000</td>\n",
       "      <td>8</td>\n",
       "      <td>52</td>\n",
       "      <td>408</td>\n",
       "    </tr>\n",
       "    <tr>\n",
       "      <th>4</th>\n",
       "      <td>1000</td>\n",
       "      <td>9</td>\n",
       "      <td>58</td>\n",
       "      <td>466</td>\n",
       "    </tr>\n",
       "  </tbody>\n",
       "</table>\n",
       "</div>"
      ],
      "text/plain": [
       "   user_id  month  total_calls_by_month  duraction_by_month\n",
       "0     1000      5                    22                 159\n",
       "1     1000      6                    43                 172\n",
       "2     1000      7                    47                 340\n",
       "3     1000      8                    52                 408\n",
       "4     1000      9                    58                 466"
      ]
     },
     "execution_count": 26,
     "metadata": {},
     "output_type": "execute_result"
    }
   ],
   "source": [
    "user_calls = calls.groupby(['user_id', 'month'])\\\n",
    "                  .agg({'id':'count','duration':'sum'})\\\n",
    "                  .reset_index()\\\n",
    "                  .rename(columns={'id':'total_calls_by_month','duration':'duraction_by_month'})\n",
    "user_calls.head()"
   ]
  },
  {
   "cell_type": "markdown",
   "metadata": {},
   "source": [
    "<div class=\"alert alert-anger\">\n",
    "<font size=\"4\"><b>❌ Комментарий ревьюера</b></font>\n",
    "    <br /> \n",
    "    <font size=\"3\", color = \"black\">\n",
    "<br />Округление мин. НЕ прошло по плану проекта\n",
    "\n",
    "Округление происходит до группировки данных\n",
    "        \n",
    "    Примечание:\n",
    "    «Мегалайн» всегда округляет секунды до минут, а мегабайты — до гигабайт. Каждый звонок округляется отдельно: даже если он длился всего 1 секунду, будет засчитан как 1 минута.\n",
    "    "
   ]
  },
  {
   "cell_type": "markdown",
   "metadata": {},
   "source": [
    "<div style=\"border:solid steelblue 3px; padding: 20px\">\n",
    "<font size=\"3\">🍕<b> Комментарий студента</b></font>\n",
    "<br /> \n",
    "<font size=\"2\", color = \"black\">\n",
    "<br />\n",
    "Согласен. В предобработке данных в таблице calls округлил звонки до минут"
   ]
  },
  {
   "cell_type": "markdown",
   "metadata": {},
   "source": [
    "### Количество отправленных сообщений по месяцам"
   ]
  },
  {
   "cell_type": "code",
   "execution_count": 27,
   "metadata": {},
   "outputs": [
    {
     "data": {
      "text/html": [
       "<div>\n",
       "<style scoped>\n",
       "    .dataframe tbody tr th:only-of-type {\n",
       "        vertical-align: middle;\n",
       "    }\n",
       "\n",
       "    .dataframe tbody tr th {\n",
       "        vertical-align: top;\n",
       "    }\n",
       "\n",
       "    .dataframe thead th {\n",
       "        text-align: right;\n",
       "    }\n",
       "</style>\n",
       "<table border=\"1\" class=\"dataframe\">\n",
       "  <thead>\n",
       "    <tr style=\"text-align: right;\">\n",
       "      <th></th>\n",
       "      <th>id</th>\n",
       "      <th>message_date</th>\n",
       "      <th>user_id</th>\n",
       "      <th>month</th>\n",
       "    </tr>\n",
       "  </thead>\n",
       "  <tbody>\n",
       "    <tr>\n",
       "      <th>0</th>\n",
       "      <td>1000_0</td>\n",
       "      <td>2018-06-27</td>\n",
       "      <td>1000</td>\n",
       "      <td>6</td>\n",
       "    </tr>\n",
       "    <tr>\n",
       "      <th>1</th>\n",
       "      <td>1000_1</td>\n",
       "      <td>2018-10-08</td>\n",
       "      <td>1000</td>\n",
       "      <td>10</td>\n",
       "    </tr>\n",
       "    <tr>\n",
       "      <th>2</th>\n",
       "      <td>1000_2</td>\n",
       "      <td>2018-08-04</td>\n",
       "      <td>1000</td>\n",
       "      <td>8</td>\n",
       "    </tr>\n",
       "    <tr>\n",
       "      <th>3</th>\n",
       "      <td>1000_3</td>\n",
       "      <td>2018-06-16</td>\n",
       "      <td>1000</td>\n",
       "      <td>6</td>\n",
       "    </tr>\n",
       "    <tr>\n",
       "      <th>4</th>\n",
       "      <td>1000_4</td>\n",
       "      <td>2018-12-05</td>\n",
       "      <td>1000</td>\n",
       "      <td>12</td>\n",
       "    </tr>\n",
       "  </tbody>\n",
       "</table>\n",
       "</div>"
      ],
      "text/plain": [
       "       id message_date  user_id  month\n",
       "0  1000_0   2018-06-27     1000      6\n",
       "1  1000_1   2018-10-08     1000     10\n",
       "2  1000_2   2018-08-04     1000      8\n",
       "3  1000_3   2018-06-16     1000      6\n",
       "4  1000_4   2018-12-05     1000     12"
      ]
     },
     "execution_count": 27,
     "metadata": {},
     "output_type": "execute_result"
    }
   ],
   "source": [
    "#добавим столбец с названиями месяцев в таблицу messages\n",
    "messages['month'] = messages['message_date'].dt.month\n",
    "messages.head()"
   ]
  },
  {
   "cell_type": "markdown",
   "metadata": {},
   "source": [
    "Повторим действия, как в предыдущем шаге"
   ]
  },
  {
   "cell_type": "code",
   "execution_count": 28,
   "metadata": {},
   "outputs": [
    {
     "data": {
      "text/html": [
       "<div>\n",
       "<style scoped>\n",
       "    .dataframe tbody tr th:only-of-type {\n",
       "        vertical-align: middle;\n",
       "    }\n",
       "\n",
       "    .dataframe tbody tr th {\n",
       "        vertical-align: top;\n",
       "    }\n",
       "\n",
       "    .dataframe thead th {\n",
       "        text-align: right;\n",
       "    }\n",
       "</style>\n",
       "<table border=\"1\" class=\"dataframe\">\n",
       "  <thead>\n",
       "    <tr style=\"text-align: right;\">\n",
       "      <th></th>\n",
       "      <th>user_id</th>\n",
       "      <th>month</th>\n",
       "      <th>total_messages_by_month</th>\n",
       "    </tr>\n",
       "  </thead>\n",
       "  <tbody>\n",
       "    <tr>\n",
       "      <th>0</th>\n",
       "      <td>1000</td>\n",
       "      <td>5</td>\n",
       "      <td>22</td>\n",
       "    </tr>\n",
       "    <tr>\n",
       "      <th>1</th>\n",
       "      <td>1000</td>\n",
       "      <td>6</td>\n",
       "      <td>60</td>\n",
       "    </tr>\n",
       "    <tr>\n",
       "      <th>2</th>\n",
       "      <td>1000</td>\n",
       "      <td>7</td>\n",
       "      <td>75</td>\n",
       "    </tr>\n",
       "    <tr>\n",
       "      <th>3</th>\n",
       "      <td>1000</td>\n",
       "      <td>8</td>\n",
       "      <td>81</td>\n",
       "    </tr>\n",
       "    <tr>\n",
       "      <th>4</th>\n",
       "      <td>1000</td>\n",
       "      <td>9</td>\n",
       "      <td>57</td>\n",
       "    </tr>\n",
       "  </tbody>\n",
       "</table>\n",
       "</div>"
      ],
      "text/plain": [
       "   user_id  month  total_messages_by_month\n",
       "0     1000      5                       22\n",
       "1     1000      6                       60\n",
       "2     1000      7                       75\n",
       "3     1000      8                       81\n",
       "4     1000      9                       57"
      ]
     },
     "execution_count": 28,
     "metadata": {},
     "output_type": "execute_result"
    }
   ],
   "source": [
    "user_messages = messages.groupby(['user_id', 'month'])\\\n",
    "                        .agg({'id':'count'})\\\n",
    "                        .reset_index()\\\n",
    "                        .rename(columns={'id':'total_messages_by_month'})\n",
    "user_messages.head()"
   ]
  },
  {
   "cell_type": "markdown",
   "metadata": {},
   "source": [
    "### Объем израсходованного интернет-трафика по месяцам"
   ]
  },
  {
   "cell_type": "code",
   "execution_count": 29,
   "metadata": {},
   "outputs": [
    {
     "data": {
      "text/html": [
       "<div>\n",
       "<style scoped>\n",
       "    .dataframe tbody tr th:only-of-type {\n",
       "        vertical-align: middle;\n",
       "    }\n",
       "\n",
       "    .dataframe tbody tr th {\n",
       "        vertical-align: top;\n",
       "    }\n",
       "\n",
       "    .dataframe thead th {\n",
       "        text-align: right;\n",
       "    }\n",
       "</style>\n",
       "<table border=\"1\" class=\"dataframe\">\n",
       "  <thead>\n",
       "    <tr style=\"text-align: right;\">\n",
       "      <th></th>\n",
       "      <th>id</th>\n",
       "      <th>mb_used</th>\n",
       "      <th>session_date</th>\n",
       "      <th>user_id</th>\n",
       "      <th>month</th>\n",
       "    </tr>\n",
       "  </thead>\n",
       "  <tbody>\n",
       "    <tr>\n",
       "      <th>0</th>\n",
       "      <td>1000_0</td>\n",
       "      <td>112.95</td>\n",
       "      <td>2018-11-25</td>\n",
       "      <td>1000</td>\n",
       "      <td>11</td>\n",
       "    </tr>\n",
       "    <tr>\n",
       "      <th>1</th>\n",
       "      <td>1000_1</td>\n",
       "      <td>1052.81</td>\n",
       "      <td>2018-09-07</td>\n",
       "      <td>1000</td>\n",
       "      <td>9</td>\n",
       "    </tr>\n",
       "    <tr>\n",
       "      <th>2</th>\n",
       "      <td>1000_2</td>\n",
       "      <td>1197.26</td>\n",
       "      <td>2018-06-25</td>\n",
       "      <td>1000</td>\n",
       "      <td>6</td>\n",
       "    </tr>\n",
       "    <tr>\n",
       "      <th>3</th>\n",
       "      <td>1000_3</td>\n",
       "      <td>550.27</td>\n",
       "      <td>2018-08-22</td>\n",
       "      <td>1000</td>\n",
       "      <td>8</td>\n",
       "    </tr>\n",
       "    <tr>\n",
       "      <th>4</th>\n",
       "      <td>1000_4</td>\n",
       "      <td>302.56</td>\n",
       "      <td>2018-09-24</td>\n",
       "      <td>1000</td>\n",
       "      <td>9</td>\n",
       "    </tr>\n",
       "  </tbody>\n",
       "</table>\n",
       "</div>"
      ],
      "text/plain": [
       "       id  mb_used session_date  user_id  month\n",
       "0  1000_0   112.95   2018-11-25     1000     11\n",
       "1  1000_1  1052.81   2018-09-07     1000      9\n",
       "2  1000_2  1197.26   2018-06-25     1000      6\n",
       "3  1000_3   550.27   2018-08-22     1000      8\n",
       "4  1000_4   302.56   2018-09-24     1000      9"
      ]
     },
     "execution_count": 29,
     "metadata": {},
     "output_type": "execute_result"
    }
   ],
   "source": [
    "#добавим столбец с названиями месяцев в таблицу internet\n",
    "internet['month'] = internet['session_date'].dt.month\n",
    "internet.head()"
   ]
  },
  {
   "cell_type": "markdown",
   "metadata": {},
   "source": [
    "Повторим действия , как в предыдущем шаге"
   ]
  },
  {
   "cell_type": "code",
   "execution_count": 30,
   "metadata": {
    "scrolled": true
   },
   "outputs": [
    {
     "data": {
      "text/html": [
       "<div>\n",
       "<style scoped>\n",
       "    .dataframe tbody tr th:only-of-type {\n",
       "        vertical-align: middle;\n",
       "    }\n",
       "\n",
       "    .dataframe tbody tr th {\n",
       "        vertical-align: top;\n",
       "    }\n",
       "\n",
       "    .dataframe thead th {\n",
       "        text-align: right;\n",
       "    }\n",
       "</style>\n",
       "<table border=\"1\" class=\"dataframe\">\n",
       "  <thead>\n",
       "    <tr style=\"text-align: right;\">\n",
       "      <th></th>\n",
       "      <th>user_id</th>\n",
       "      <th>month</th>\n",
       "      <th>total_mb_by_month</th>\n",
       "    </tr>\n",
       "  </thead>\n",
       "  <tbody>\n",
       "    <tr>\n",
       "      <th>0</th>\n",
       "      <td>1000</td>\n",
       "      <td>5</td>\n",
       "      <td>2253.49</td>\n",
       "    </tr>\n",
       "    <tr>\n",
       "      <th>1</th>\n",
       "      <td>1000</td>\n",
       "      <td>6</td>\n",
       "      <td>23233.77</td>\n",
       "    </tr>\n",
       "    <tr>\n",
       "      <th>2</th>\n",
       "      <td>1000</td>\n",
       "      <td>7</td>\n",
       "      <td>14003.64</td>\n",
       "    </tr>\n",
       "    <tr>\n",
       "      <th>3</th>\n",
       "      <td>1000</td>\n",
       "      <td>8</td>\n",
       "      <td>14055.93</td>\n",
       "    </tr>\n",
       "    <tr>\n",
       "      <th>4</th>\n",
       "      <td>1000</td>\n",
       "      <td>9</td>\n",
       "      <td>14568.91</td>\n",
       "    </tr>\n",
       "  </tbody>\n",
       "</table>\n",
       "</div>"
      ],
      "text/plain": [
       "   user_id  month  total_mb_by_month\n",
       "0     1000      5            2253.49\n",
       "1     1000      6           23233.77\n",
       "2     1000      7           14003.64\n",
       "3     1000      8           14055.93\n",
       "4     1000      9           14568.91"
      ]
     },
     "execution_count": 30,
     "metadata": {},
     "output_type": "execute_result"
    }
   ],
   "source": [
    "user_internet = internet.groupby(['user_id', 'month'])\\\n",
    "                        .agg({'mb_used':'sum'})\\\n",
    "                        .reset_index()\\\n",
    "                        .rename(columns={'mb_used':'total_mb_by_month'})\n",
    "user_internet.head()"
   ]
  },
  {
   "cell_type": "markdown",
   "metadata": {},
   "source": [
    "### Помесячная выручка с каждого пользователя"
   ]
  },
  {
   "cell_type": "markdown",
   "metadata": {},
   "source": [
    "Соединим 3 новых таблицы расчитанные выше"
   ]
  },
  {
   "cell_type": "code",
   "execution_count": 31,
   "metadata": {},
   "outputs": [
    {
     "data": {
      "text/html": [
       "<div>\n",
       "<style scoped>\n",
       "    .dataframe tbody tr th:only-of-type {\n",
       "        vertical-align: middle;\n",
       "    }\n",
       "\n",
       "    .dataframe tbody tr th {\n",
       "        vertical-align: top;\n",
       "    }\n",
       "\n",
       "    .dataframe thead th {\n",
       "        text-align: right;\n",
       "    }\n",
       "</style>\n",
       "<table border=\"1\" class=\"dataframe\">\n",
       "  <thead>\n",
       "    <tr style=\"text-align: right;\">\n",
       "      <th></th>\n",
       "      <th>user_id</th>\n",
       "      <th>month</th>\n",
       "      <th>total_calls_by_month</th>\n",
       "      <th>duraction_by_month</th>\n",
       "      <th>total_messages_by_month</th>\n",
       "      <th>total_mb_by_month</th>\n",
       "    </tr>\n",
       "  </thead>\n",
       "  <tbody>\n",
       "    <tr>\n",
       "      <th>0</th>\n",
       "      <td>1000</td>\n",
       "      <td>5</td>\n",
       "      <td>22.0</td>\n",
       "      <td>159.0</td>\n",
       "      <td>22.0</td>\n",
       "      <td>2253.49</td>\n",
       "    </tr>\n",
       "    <tr>\n",
       "      <th>1</th>\n",
       "      <td>1000</td>\n",
       "      <td>6</td>\n",
       "      <td>43.0</td>\n",
       "      <td>172.0</td>\n",
       "      <td>60.0</td>\n",
       "      <td>23233.77</td>\n",
       "    </tr>\n",
       "    <tr>\n",
       "      <th>2</th>\n",
       "      <td>1000</td>\n",
       "      <td>7</td>\n",
       "      <td>47.0</td>\n",
       "      <td>340.0</td>\n",
       "      <td>75.0</td>\n",
       "      <td>14003.64</td>\n",
       "    </tr>\n",
       "    <tr>\n",
       "      <th>3</th>\n",
       "      <td>1000</td>\n",
       "      <td>8</td>\n",
       "      <td>52.0</td>\n",
       "      <td>408.0</td>\n",
       "      <td>81.0</td>\n",
       "      <td>14055.93</td>\n",
       "    </tr>\n",
       "    <tr>\n",
       "      <th>4</th>\n",
       "      <td>1000</td>\n",
       "      <td>9</td>\n",
       "      <td>58.0</td>\n",
       "      <td>466.0</td>\n",
       "      <td>57.0</td>\n",
       "      <td>14568.91</td>\n",
       "    </tr>\n",
       "    <tr>\n",
       "      <th>...</th>\n",
       "      <td>...</td>\n",
       "      <td>...</td>\n",
       "      <td>...</td>\n",
       "      <td>...</td>\n",
       "      <td>...</td>\n",
       "      <td>...</td>\n",
       "    </tr>\n",
       "    <tr>\n",
       "      <th>3209</th>\n",
       "      <td>1489</td>\n",
       "      <td>9</td>\n",
       "      <td>NaN</td>\n",
       "      <td>NaN</td>\n",
       "      <td>32.0</td>\n",
       "      <td>17206.30</td>\n",
       "    </tr>\n",
       "    <tr>\n",
       "      <th>3210</th>\n",
       "      <td>1489</td>\n",
       "      <td>10</td>\n",
       "      <td>NaN</td>\n",
       "      <td>NaN</td>\n",
       "      <td>21.0</td>\n",
       "      <td>19559.44</td>\n",
       "    </tr>\n",
       "    <tr>\n",
       "      <th>3211</th>\n",
       "      <td>1489</td>\n",
       "      <td>11</td>\n",
       "      <td>NaN</td>\n",
       "      <td>NaN</td>\n",
       "      <td>20.0</td>\n",
       "      <td>17491.56</td>\n",
       "    </tr>\n",
       "    <tr>\n",
       "      <th>3212</th>\n",
       "      <td>1489</td>\n",
       "      <td>12</td>\n",
       "      <td>NaN</td>\n",
       "      <td>NaN</td>\n",
       "      <td>35.0</td>\n",
       "      <td>17322.51</td>\n",
       "    </tr>\n",
       "    <tr>\n",
       "      <th>3213</th>\n",
       "      <td>1476</td>\n",
       "      <td>4</td>\n",
       "      <td>NaN</td>\n",
       "      <td>NaN</td>\n",
       "      <td>NaN</td>\n",
       "      <td>530.78</td>\n",
       "    </tr>\n",
       "  </tbody>\n",
       "</table>\n",
       "<p>3214 rows × 6 columns</p>\n",
       "</div>"
      ],
      "text/plain": [
       "      user_id  month  total_calls_by_month  duraction_by_month  \\\n",
       "0        1000      5                  22.0               159.0   \n",
       "1        1000      6                  43.0               172.0   \n",
       "2        1000      7                  47.0               340.0   \n",
       "3        1000      8                  52.0               408.0   \n",
       "4        1000      9                  58.0               466.0   \n",
       "...       ...    ...                   ...                 ...   \n",
       "3209     1489      9                   NaN                 NaN   \n",
       "3210     1489     10                   NaN                 NaN   \n",
       "3211     1489     11                   NaN                 NaN   \n",
       "3212     1489     12                   NaN                 NaN   \n",
       "3213     1476      4                   NaN                 NaN   \n",
       "\n",
       "      total_messages_by_month  total_mb_by_month  \n",
       "0                        22.0            2253.49  \n",
       "1                        60.0           23233.77  \n",
       "2                        75.0           14003.64  \n",
       "3                        81.0           14055.93  \n",
       "4                        57.0           14568.91  \n",
       "...                       ...                ...  \n",
       "3209                     32.0           17206.30  \n",
       "3210                     21.0           19559.44  \n",
       "3211                     20.0           17491.56  \n",
       "3212                     35.0           17322.51  \n",
       "3213                      NaN             530.78  \n",
       "\n",
       "[3214 rows x 6 columns]"
      ]
     },
     "execution_count": 31,
     "metadata": {},
     "output_type": "execute_result"
    }
   ],
   "source": [
    "df = user_calls.merge(user_messages, on=['user_id','month'], how='outer')\n",
    "df = df.merge(user_internet, on=['user_id','month'], how='outer')\n",
    "df"
   ]
  },
  {
   "cell_type": "markdown",
   "metadata": {},
   "source": [
    "Таким образом, мы получили данные по расходам на звонки, смс и интернет по каждому пользователю по месяцам. Теперь добавим так же остальную информацию по пользователям и информацию по тарифам в общую таблицу df"
   ]
  },
  {
   "cell_type": "code",
   "execution_count": 32,
   "metadata": {},
   "outputs": [],
   "source": [
    "#добавим таблицу users\n",
    "df = df.merge(users, on='user_id', how='outer')"
   ]
  },
  {
   "cell_type": "markdown",
   "metadata": {},
   "source": [
    "<div class=\"alert alert-anger\">\n",
    "<font size=\"4\"><b>❌ Комментарий ревьюера</b></font>\n",
    "    <br /> \n",
    "    <font size=\"3\", color = \"black\">\n",
    "<br /> у нас две потеряшки :) — потеряли двух клиентов, найти и привести обратно :)"
   ]
  },
  {
   "cell_type": "markdown",
   "metadata": {},
   "source": [
    "<div style=\"border:solid steelblue 3px; padding: 20px\">\n",
    "<font size=\"3\">🍕<b> Комментарий студента</b></font>\n",
    "<br /> \n",
    "<font size=\"2\", color = \"black\">\n",
    "<br />\n",
    "Исправил. Таблицу users приmergeил через outer (а не left). Потеряшки нашлись) "
   ]
  },
  {
   "cell_type": "code",
   "execution_count": 33,
   "metadata": {
    "scrolled": false
   },
   "outputs": [
    {
     "data": {
      "text/html": [
       "<div>\n",
       "<style scoped>\n",
       "    .dataframe tbody tr th:only-of-type {\n",
       "        vertical-align: middle;\n",
       "    }\n",
       "\n",
       "    .dataframe tbody tr th {\n",
       "        vertical-align: top;\n",
       "    }\n",
       "\n",
       "    .dataframe thead th {\n",
       "        text-align: right;\n",
       "    }\n",
       "</style>\n",
       "<table border=\"1\" class=\"dataframe\">\n",
       "  <thead>\n",
       "    <tr style=\"text-align: right;\">\n",
       "      <th></th>\n",
       "      <th>user_id</th>\n",
       "      <th>month</th>\n",
       "      <th>total_calls_by_month</th>\n",
       "      <th>duraction_by_month</th>\n",
       "      <th>total_messages_by_month</th>\n",
       "      <th>total_mb_by_month</th>\n",
       "      <th>age</th>\n",
       "      <th>churn_date</th>\n",
       "      <th>city</th>\n",
       "      <th>first_name</th>\n",
       "      <th>last_name</th>\n",
       "      <th>reg_date</th>\n",
       "      <th>tariff</th>\n",
       "      <th>messages_included</th>\n",
       "      <th>mb_per_month_included</th>\n",
       "      <th>minutes_included</th>\n",
       "      <th>rub_monthly_fee</th>\n",
       "      <th>rub_per_gb</th>\n",
       "      <th>rub_per_message</th>\n",
       "      <th>rub_per_minute</th>\n",
       "    </tr>\n",
       "  </thead>\n",
       "  <tbody>\n",
       "    <tr>\n",
       "      <th>0</th>\n",
       "      <td>1000</td>\n",
       "      <td>5.0</td>\n",
       "      <td>22.0</td>\n",
       "      <td>159.0</td>\n",
       "      <td>22.0</td>\n",
       "      <td>2253.49</td>\n",
       "      <td>52</td>\n",
       "      <td>NaT</td>\n",
       "      <td>Краснодар</td>\n",
       "      <td>Рафаил</td>\n",
       "      <td>Верещагин</td>\n",
       "      <td>2018-05-25</td>\n",
       "      <td>ultra</td>\n",
       "      <td>1000</td>\n",
       "      <td>30720</td>\n",
       "      <td>3000</td>\n",
       "      <td>1950</td>\n",
       "      <td>150</td>\n",
       "      <td>1</td>\n",
       "      <td>1</td>\n",
       "    </tr>\n",
       "    <tr>\n",
       "      <th>1</th>\n",
       "      <td>1000</td>\n",
       "      <td>6.0</td>\n",
       "      <td>43.0</td>\n",
       "      <td>172.0</td>\n",
       "      <td>60.0</td>\n",
       "      <td>23233.77</td>\n",
       "      <td>52</td>\n",
       "      <td>NaT</td>\n",
       "      <td>Краснодар</td>\n",
       "      <td>Рафаил</td>\n",
       "      <td>Верещагин</td>\n",
       "      <td>2018-05-25</td>\n",
       "      <td>ultra</td>\n",
       "      <td>1000</td>\n",
       "      <td>30720</td>\n",
       "      <td>3000</td>\n",
       "      <td>1950</td>\n",
       "      <td>150</td>\n",
       "      <td>1</td>\n",
       "      <td>1</td>\n",
       "    </tr>\n",
       "    <tr>\n",
       "      <th>2</th>\n",
       "      <td>1000</td>\n",
       "      <td>7.0</td>\n",
       "      <td>47.0</td>\n",
       "      <td>340.0</td>\n",
       "      <td>75.0</td>\n",
       "      <td>14003.64</td>\n",
       "      <td>52</td>\n",
       "      <td>NaT</td>\n",
       "      <td>Краснодар</td>\n",
       "      <td>Рафаил</td>\n",
       "      <td>Верещагин</td>\n",
       "      <td>2018-05-25</td>\n",
       "      <td>ultra</td>\n",
       "      <td>1000</td>\n",
       "      <td>30720</td>\n",
       "      <td>3000</td>\n",
       "      <td>1950</td>\n",
       "      <td>150</td>\n",
       "      <td>1</td>\n",
       "      <td>1</td>\n",
       "    </tr>\n",
       "    <tr>\n",
       "      <th>3</th>\n",
       "      <td>1000</td>\n",
       "      <td>8.0</td>\n",
       "      <td>52.0</td>\n",
       "      <td>408.0</td>\n",
       "      <td>81.0</td>\n",
       "      <td>14055.93</td>\n",
       "      <td>52</td>\n",
       "      <td>NaT</td>\n",
       "      <td>Краснодар</td>\n",
       "      <td>Рафаил</td>\n",
       "      <td>Верещагин</td>\n",
       "      <td>2018-05-25</td>\n",
       "      <td>ultra</td>\n",
       "      <td>1000</td>\n",
       "      <td>30720</td>\n",
       "      <td>3000</td>\n",
       "      <td>1950</td>\n",
       "      <td>150</td>\n",
       "      <td>1</td>\n",
       "      <td>1</td>\n",
       "    </tr>\n",
       "    <tr>\n",
       "      <th>4</th>\n",
       "      <td>1000</td>\n",
       "      <td>9.0</td>\n",
       "      <td>58.0</td>\n",
       "      <td>466.0</td>\n",
       "      <td>57.0</td>\n",
       "      <td>14568.91</td>\n",
       "      <td>52</td>\n",
       "      <td>NaT</td>\n",
       "      <td>Краснодар</td>\n",
       "      <td>Рафаил</td>\n",
       "      <td>Верещагин</td>\n",
       "      <td>2018-05-25</td>\n",
       "      <td>ultra</td>\n",
       "      <td>1000</td>\n",
       "      <td>30720</td>\n",
       "      <td>3000</td>\n",
       "      <td>1950</td>\n",
       "      <td>150</td>\n",
       "      <td>1</td>\n",
       "      <td>1</td>\n",
       "    </tr>\n",
       "    <tr>\n",
       "      <th>...</th>\n",
       "      <td>...</td>\n",
       "      <td>...</td>\n",
       "      <td>...</td>\n",
       "      <td>...</td>\n",
       "      <td>...</td>\n",
       "      <td>...</td>\n",
       "      <td>...</td>\n",
       "      <td>...</td>\n",
       "      <td>...</td>\n",
       "      <td>...</td>\n",
       "      <td>...</td>\n",
       "      <td>...</td>\n",
       "      <td>...</td>\n",
       "      <td>...</td>\n",
       "      <td>...</td>\n",
       "      <td>...</td>\n",
       "      <td>...</td>\n",
       "      <td>...</td>\n",
       "      <td>...</td>\n",
       "      <td>...</td>\n",
       "    </tr>\n",
       "    <tr>\n",
       "      <th>3211</th>\n",
       "      <td>1489</td>\n",
       "      <td>10.0</td>\n",
       "      <td>NaN</td>\n",
       "      <td>NaN</td>\n",
       "      <td>21.0</td>\n",
       "      <td>19559.44</td>\n",
       "      <td>35</td>\n",
       "      <td>NaT</td>\n",
       "      <td>Санкт-Петербург</td>\n",
       "      <td>Павел</td>\n",
       "      <td>Гончаров</td>\n",
       "      <td>2018-08-15</td>\n",
       "      <td>smart</td>\n",
       "      <td>50</td>\n",
       "      <td>15360</td>\n",
       "      <td>500</td>\n",
       "      <td>550</td>\n",
       "      <td>200</td>\n",
       "      <td>3</td>\n",
       "      <td>3</td>\n",
       "    </tr>\n",
       "    <tr>\n",
       "      <th>3212</th>\n",
       "      <td>1489</td>\n",
       "      <td>11.0</td>\n",
       "      <td>NaN</td>\n",
       "      <td>NaN</td>\n",
       "      <td>20.0</td>\n",
       "      <td>17491.56</td>\n",
       "      <td>35</td>\n",
       "      <td>NaT</td>\n",
       "      <td>Санкт-Петербург</td>\n",
       "      <td>Павел</td>\n",
       "      <td>Гончаров</td>\n",
       "      <td>2018-08-15</td>\n",
       "      <td>smart</td>\n",
       "      <td>50</td>\n",
       "      <td>15360</td>\n",
       "      <td>500</td>\n",
       "      <td>550</td>\n",
       "      <td>200</td>\n",
       "      <td>3</td>\n",
       "      <td>3</td>\n",
       "    </tr>\n",
       "    <tr>\n",
       "      <th>3213</th>\n",
       "      <td>1489</td>\n",
       "      <td>12.0</td>\n",
       "      <td>NaN</td>\n",
       "      <td>NaN</td>\n",
       "      <td>35.0</td>\n",
       "      <td>17322.51</td>\n",
       "      <td>35</td>\n",
       "      <td>NaT</td>\n",
       "      <td>Санкт-Петербург</td>\n",
       "      <td>Павел</td>\n",
       "      <td>Гончаров</td>\n",
       "      <td>2018-08-15</td>\n",
       "      <td>smart</td>\n",
       "      <td>50</td>\n",
       "      <td>15360</td>\n",
       "      <td>500</td>\n",
       "      <td>550</td>\n",
       "      <td>200</td>\n",
       "      <td>3</td>\n",
       "      <td>3</td>\n",
       "    </tr>\n",
       "    <tr>\n",
       "      <th>3214</th>\n",
       "      <td>1128</td>\n",
       "      <td>NaN</td>\n",
       "      <td>NaN</td>\n",
       "      <td>NaN</td>\n",
       "      <td>NaN</td>\n",
       "      <td>NaN</td>\n",
       "      <td>51</td>\n",
       "      <td>2018-12-23</td>\n",
       "      <td>Волжский</td>\n",
       "      <td>Ксения</td>\n",
       "      <td>Агаева</td>\n",
       "      <td>2018-12-15</td>\n",
       "      <td>ultra</td>\n",
       "      <td>1000</td>\n",
       "      <td>30720</td>\n",
       "      <td>3000</td>\n",
       "      <td>1950</td>\n",
       "      <td>150</td>\n",
       "      <td>1</td>\n",
       "      <td>1</td>\n",
       "    </tr>\n",
       "    <tr>\n",
       "      <th>3215</th>\n",
       "      <td>1371</td>\n",
       "      <td>NaN</td>\n",
       "      <td>NaN</td>\n",
       "      <td>NaN</td>\n",
       "      <td>NaN</td>\n",
       "      <td>NaN</td>\n",
       "      <td>50</td>\n",
       "      <td>2018-12-30</td>\n",
       "      <td>Омск</td>\n",
       "      <td>Ириней</td>\n",
       "      <td>Трофимов</td>\n",
       "      <td>2018-12-25</td>\n",
       "      <td>smart</td>\n",
       "      <td>50</td>\n",
       "      <td>15360</td>\n",
       "      <td>500</td>\n",
       "      <td>550</td>\n",
       "      <td>200</td>\n",
       "      <td>3</td>\n",
       "      <td>3</td>\n",
       "    </tr>\n",
       "  </tbody>\n",
       "</table>\n",
       "<p>3216 rows × 20 columns</p>\n",
       "</div>"
      ],
      "text/plain": [
       "      user_id  month  total_calls_by_month  duraction_by_month  \\\n",
       "0        1000    5.0                  22.0               159.0   \n",
       "1        1000    6.0                  43.0               172.0   \n",
       "2        1000    7.0                  47.0               340.0   \n",
       "3        1000    8.0                  52.0               408.0   \n",
       "4        1000    9.0                  58.0               466.0   \n",
       "...       ...    ...                   ...                 ...   \n",
       "3211     1489   10.0                   NaN                 NaN   \n",
       "3212     1489   11.0                   NaN                 NaN   \n",
       "3213     1489   12.0                   NaN                 NaN   \n",
       "3214     1128    NaN                   NaN                 NaN   \n",
       "3215     1371    NaN                   NaN                 NaN   \n",
       "\n",
       "      total_messages_by_month  total_mb_by_month  age churn_date  \\\n",
       "0                        22.0            2253.49   52        NaT   \n",
       "1                        60.0           23233.77   52        NaT   \n",
       "2                        75.0           14003.64   52        NaT   \n",
       "3                        81.0           14055.93   52        NaT   \n",
       "4                        57.0           14568.91   52        NaT   \n",
       "...                       ...                ...  ...        ...   \n",
       "3211                     21.0           19559.44   35        NaT   \n",
       "3212                     20.0           17491.56   35        NaT   \n",
       "3213                     35.0           17322.51   35        NaT   \n",
       "3214                      NaN                NaN   51 2018-12-23   \n",
       "3215                      NaN                NaN   50 2018-12-30   \n",
       "\n",
       "                 city first_name  last_name   reg_date tariff  \\\n",
       "0           Краснодар     Рафаил  Верещагин 2018-05-25  ultra   \n",
       "1           Краснодар     Рафаил  Верещагин 2018-05-25  ultra   \n",
       "2           Краснодар     Рафаил  Верещагин 2018-05-25  ultra   \n",
       "3           Краснодар     Рафаил  Верещагин 2018-05-25  ultra   \n",
       "4           Краснодар     Рафаил  Верещагин 2018-05-25  ultra   \n",
       "...               ...        ...        ...        ...    ...   \n",
       "3211  Санкт-Петербург      Павел   Гончаров 2018-08-15  smart   \n",
       "3212  Санкт-Петербург      Павел   Гончаров 2018-08-15  smart   \n",
       "3213  Санкт-Петербург      Павел   Гончаров 2018-08-15  smart   \n",
       "3214         Волжский     Ксения     Агаева 2018-12-15  ultra   \n",
       "3215             Омск     Ириней   Трофимов 2018-12-25  smart   \n",
       "\n",
       "      messages_included  mb_per_month_included  minutes_included  \\\n",
       "0                  1000                  30720              3000   \n",
       "1                  1000                  30720              3000   \n",
       "2                  1000                  30720              3000   \n",
       "3                  1000                  30720              3000   \n",
       "4                  1000                  30720              3000   \n",
       "...                 ...                    ...               ...   \n",
       "3211                 50                  15360               500   \n",
       "3212                 50                  15360               500   \n",
       "3213                 50                  15360               500   \n",
       "3214               1000                  30720              3000   \n",
       "3215                 50                  15360               500   \n",
       "\n",
       "      rub_monthly_fee  rub_per_gb  rub_per_message  rub_per_minute  \n",
       "0                1950         150                1               1  \n",
       "1                1950         150                1               1  \n",
       "2                1950         150                1               1  \n",
       "3                1950         150                1               1  \n",
       "4                1950         150                1               1  \n",
       "...               ...         ...              ...             ...  \n",
       "3211              550         200                3               3  \n",
       "3212              550         200                3               3  \n",
       "3213              550         200                3               3  \n",
       "3214             1950         150                1               1  \n",
       "3215              550         200                3               3  \n",
       "\n",
       "[3216 rows x 20 columns]"
      ]
     },
     "execution_count": 33,
     "metadata": {},
     "output_type": "execute_result"
    }
   ],
   "source": [
    "#переименуем столбец tariff_name в таблице tariffs и добавим таблицу tariffs\n",
    "tariffs = tariffs.rename(columns = {'tariff_name' : 'tariff'})\n",
    "df = df.merge(tariffs, on='tariff', how='left')\n",
    "df"
   ]
  },
  {
   "cell_type": "code",
   "execution_count": 34,
   "metadata": {},
   "outputs": [],
   "source": [
    "#исправим тип данных после слияния таблиц \n",
    "df['month'] = pd.array(df['month'], dtype = pd.Int64Dtype())"
   ]
  },
  {
   "cell_type": "markdown",
   "metadata": {},
   "source": [
    "Мы создали общую таблицу по всем пользователям со всеми имеющимися данными. Проверим её на пропуски и дубликаты"
   ]
  },
  {
   "cell_type": "code",
   "execution_count": 35,
   "metadata": {},
   "outputs": [
    {
     "data": {
      "text/plain": [
       "user_id                       0\n",
       "month                         2\n",
       "total_calls_by_month         42\n",
       "duraction_by_month           42\n",
       "total_messages_by_month     499\n",
       "total_mb_by_month            13\n",
       "age                           0\n",
       "churn_date                 3027\n",
       "city                          0\n",
       "first_name                    0\n",
       "last_name                     0\n",
       "reg_date                      0\n",
       "tariff                        0\n",
       "messages_included             0\n",
       "mb_per_month_included         0\n",
       "minutes_included              0\n",
       "rub_monthly_fee               0\n",
       "rub_per_gb                    0\n",
       "rub_per_message               0\n",
       "rub_per_minute                0\n",
       "dtype: int64"
      ]
     },
     "execution_count": 35,
     "metadata": {},
     "output_type": "execute_result"
    }
   ],
   "source": [
    "df.isna().sum()"
   ]
  },
  {
   "cell_type": "markdown",
   "metadata": {},
   "source": [
    "Здесь Nan (кроме churn_date) - отсутствие звонков, смс или интернет трафика. Заменим пропуски в этих столбцах нулями."
   ]
  },
  {
   "cell_type": "markdown",
   "metadata": {},
   "source": [
    "<div class=\"alert alert-warning\", style=\"border:solid coral 3px; padding: 20px\">\n",
    "<font size=\"4\"><b>⚠️ Комментарий ревьюера</b></font>\n",
    "    <br /> \n",
    "    <font size=\"3\", color = \"black\">\n",
    "<br />Для бизнеса важно понимать кол-во клиентов, которые не пользуются определенными видами услуг — это ценная информация, которую стоит включить в итоговый вывод\n",
    "\n",
    "Об этом говорят пропуски"
   ]
  },
  {
   "cell_type": "markdown",
   "metadata": {},
   "source": [
    "<div style=\"border:solid steelblue 3px; padding: 20px\">\n",
    "<font size=\"3\">🍕<b> Комментарий студента</b></font>\n",
    "<br /> \n",
    "<font size=\"2\", color = \"black\">\n",
    "<br />\n",
    "Да, действительно, как раз большое количество пропусков в total_messages_by_month и говорит,что много пользователей не писали смс вообще. В вывод включил"
   ]
  },
  {
   "cell_type": "code",
   "execution_count": 36,
   "metadata": {},
   "outputs": [],
   "source": [
    "df['total_calls_by_month'] = df['total_calls_by_month'].fillna(0)\n",
    "df['duraction_by_month'] = df['duraction_by_month'].fillna(0)\n",
    "df['total_messages_by_month'] = df['total_messages_by_month'].fillna(0)\n",
    "df['total_mb_by_month'] = df['total_mb_by_month'].fillna(0)"
   ]
  },
  {
   "cell_type": "code",
   "execution_count": 37,
   "metadata": {},
   "outputs": [
    {
     "data": {
      "text/plain": [
       "0"
      ]
     },
     "execution_count": 37,
     "metadata": {},
     "output_type": "execute_result"
    }
   ],
   "source": [
    "df.duplicated().sum()"
   ]
  },
  {
   "cell_type": "markdown",
   "metadata": {},
   "source": [
    "Теперь мы можем расчитать помесячную выручку с каждого пользователя"
   ]
  },
  {
   "cell_type": "markdown",
   "metadata": {},
   "source": [
    "Вычтем бесплатный лимит из суммарного количества звонков, сообщений и интернет-трафика; остаток умножим на значение из тарифного плана; прибавим абонентскую плату, соответствующую тарифному плану"
   ]
  },
  {
   "cell_type": "markdown",
   "metadata": {},
   "source": [
    "Объявим функцию, которая будет брать данные из строки и возвращать сумму сверхлимитных трат пользователя"
   ]
  },
  {
   "cell_type": "code",
   "execution_count": 38,
   "metadata": {},
   "outputs": [],
   "source": [
    "def above_the_limit_tariff(row):\n",
    "    sms = (row['total_messages_by_month'] - row['messages_included']) * row['rub_per_message']\n",
    "    mins = (row['duraction_by_month'] - row['minutes_included']) * row['rub_per_minute']\n",
    "    mbs = (np.ceil(row['total_mb_by_month'] - row['mb_per_month_included'])/1024) * row['rub_per_gb']\n",
    "    total = 0\n",
    "    for i in [sms, mins, mbs]:\n",
    "        if i > 0:\n",
    "            total += i\n",
    "    return total"
   ]
  },
  {
   "cell_type": "markdown",
   "metadata": {},
   "source": [
    "<div class=\"alert alert-anger\">\n",
    "<font size=\"4\"><b>❌ Комментарий ревьюера</b></font>\n",
    "    <br /> \n",
    "    <font size=\"3\", color = \"black\">\n",
    "<br /> Основной комментарий к функции расчета - неверный алгоритм округления сверхлимитного интернета: сначала вычитаем объем лимита, затем остаток делим на 1024, затем его округляем в большую сторону, а затем умножаем на стоимость сверхлимитного интернета\n",
    "        \n",
    "      Примечание:\n",
    "    «Мегалайн» всегда округляет секунды до минут, а мегабайты — до гигабайт. \n",
    "    Для веб-трафика отдельные сессии не считаются. Вместо этого общая сумма за месяц округляется в бо́льшую сторону. Если абонент использует 1025 мегабайт в этом месяце, с него возьмут плату за 2 гигабайта.  "
   ]
  },
  {
   "cell_type": "markdown",
   "metadata": {},
   "source": [
    "<div style=\"border:solid steelblue 3px; padding: 20px\">\n",
    "<font size=\"3\">🍕<b> Комментарий студента</b></font>\n",
    "<br /> \n",
    "<font size=\"2\", color = \"black\">\n",
    "<br />\n",
    "Исправил: вычитаем - делим - округляем - умножаем "
   ]
  },
  {
   "cell_type": "markdown",
   "metadata": {},
   "source": [
    "<div class=\"alert alert-danger\">\n",
    "<font size=\"4\"><b>❌ Комментарий ревьюера в2</b></font>\n",
    "    <br /> \n",
    "    <font size=\"3\", color = \"black\">\n",
    "<br />Получилось\n",
    "\n",
    "    mbs = (np.ceil(row['total_mb_by_month'] - row['mb_per_month_included'])/1024) * row['rub_per_gb']\n",
    "        \n",
    "вычитаем - округляем - делим - умножаем\n",
    "        \n",
    "стоит подправить"
   ]
  },
  {
   "cell_type": "markdown",
   "metadata": {},
   "source": [
    "Добавим новый столбец в df, в котором будут содержаться значения функции above_the_limit_tariff"
   ]
  },
  {
   "cell_type": "code",
   "execution_count": 39,
   "metadata": {},
   "outputs": [],
   "source": [
    "df['above_the_limit_tariff'] = df.apply(lambda x: above_the_limit_tariff(x), axis=1)"
   ]
  },
  {
   "cell_type": "code",
   "execution_count": 40,
   "metadata": {},
   "outputs": [
    {
     "data": {
      "text/html": [
       "<div>\n",
       "<style scoped>\n",
       "    .dataframe tbody tr th:only-of-type {\n",
       "        vertical-align: middle;\n",
       "    }\n",
       "\n",
       "    .dataframe tbody tr th {\n",
       "        vertical-align: top;\n",
       "    }\n",
       "\n",
       "    .dataframe thead th {\n",
       "        text-align: right;\n",
       "    }\n",
       "</style>\n",
       "<table border=\"1\" class=\"dataframe\">\n",
       "  <thead>\n",
       "    <tr style=\"text-align: right;\">\n",
       "      <th></th>\n",
       "      <th>user_id</th>\n",
       "      <th>month</th>\n",
       "      <th>total_calls_by_month</th>\n",
       "      <th>duraction_by_month</th>\n",
       "      <th>total_messages_by_month</th>\n",
       "      <th>total_mb_by_month</th>\n",
       "      <th>age</th>\n",
       "      <th>churn_date</th>\n",
       "      <th>city</th>\n",
       "      <th>first_name</th>\n",
       "      <th>...</th>\n",
       "      <th>reg_date</th>\n",
       "      <th>tariff</th>\n",
       "      <th>messages_included</th>\n",
       "      <th>mb_per_month_included</th>\n",
       "      <th>minutes_included</th>\n",
       "      <th>rub_monthly_fee</th>\n",
       "      <th>rub_per_gb</th>\n",
       "      <th>rub_per_message</th>\n",
       "      <th>rub_per_minute</th>\n",
       "      <th>above_the_limit_tariff</th>\n",
       "    </tr>\n",
       "  </thead>\n",
       "  <tbody>\n",
       "    <tr>\n",
       "      <th>0</th>\n",
       "      <td>1000</td>\n",
       "      <td>5</td>\n",
       "      <td>22.0</td>\n",
       "      <td>159.0</td>\n",
       "      <td>22.0</td>\n",
       "      <td>2253.49</td>\n",
       "      <td>52</td>\n",
       "      <td>NaT</td>\n",
       "      <td>Краснодар</td>\n",
       "      <td>Рафаил</td>\n",
       "      <td>...</td>\n",
       "      <td>2018-05-25</td>\n",
       "      <td>ultra</td>\n",
       "      <td>1000</td>\n",
       "      <td>30720</td>\n",
       "      <td>3000</td>\n",
       "      <td>1950</td>\n",
       "      <td>150</td>\n",
       "      <td>1</td>\n",
       "      <td>1</td>\n",
       "      <td>0.000000</td>\n",
       "    </tr>\n",
       "    <tr>\n",
       "      <th>1</th>\n",
       "      <td>1000</td>\n",
       "      <td>6</td>\n",
       "      <td>43.0</td>\n",
       "      <td>172.0</td>\n",
       "      <td>60.0</td>\n",
       "      <td>23233.77</td>\n",
       "      <td>52</td>\n",
       "      <td>NaT</td>\n",
       "      <td>Краснодар</td>\n",
       "      <td>Рафаил</td>\n",
       "      <td>...</td>\n",
       "      <td>2018-05-25</td>\n",
       "      <td>ultra</td>\n",
       "      <td>1000</td>\n",
       "      <td>30720</td>\n",
       "      <td>3000</td>\n",
       "      <td>1950</td>\n",
       "      <td>150</td>\n",
       "      <td>1</td>\n",
       "      <td>1</td>\n",
       "      <td>0.000000</td>\n",
       "    </tr>\n",
       "    <tr>\n",
       "      <th>2</th>\n",
       "      <td>1000</td>\n",
       "      <td>7</td>\n",
       "      <td>47.0</td>\n",
       "      <td>340.0</td>\n",
       "      <td>75.0</td>\n",
       "      <td>14003.64</td>\n",
       "      <td>52</td>\n",
       "      <td>NaT</td>\n",
       "      <td>Краснодар</td>\n",
       "      <td>Рафаил</td>\n",
       "      <td>...</td>\n",
       "      <td>2018-05-25</td>\n",
       "      <td>ultra</td>\n",
       "      <td>1000</td>\n",
       "      <td>30720</td>\n",
       "      <td>3000</td>\n",
       "      <td>1950</td>\n",
       "      <td>150</td>\n",
       "      <td>1</td>\n",
       "      <td>1</td>\n",
       "      <td>0.000000</td>\n",
       "    </tr>\n",
       "    <tr>\n",
       "      <th>3</th>\n",
       "      <td>1000</td>\n",
       "      <td>8</td>\n",
       "      <td>52.0</td>\n",
       "      <td>408.0</td>\n",
       "      <td>81.0</td>\n",
       "      <td>14055.93</td>\n",
       "      <td>52</td>\n",
       "      <td>NaT</td>\n",
       "      <td>Краснодар</td>\n",
       "      <td>Рафаил</td>\n",
       "      <td>...</td>\n",
       "      <td>2018-05-25</td>\n",
       "      <td>ultra</td>\n",
       "      <td>1000</td>\n",
       "      <td>30720</td>\n",
       "      <td>3000</td>\n",
       "      <td>1950</td>\n",
       "      <td>150</td>\n",
       "      <td>1</td>\n",
       "      <td>1</td>\n",
       "      <td>0.000000</td>\n",
       "    </tr>\n",
       "    <tr>\n",
       "      <th>4</th>\n",
       "      <td>1000</td>\n",
       "      <td>9</td>\n",
       "      <td>58.0</td>\n",
       "      <td>466.0</td>\n",
       "      <td>57.0</td>\n",
       "      <td>14568.91</td>\n",
       "      <td>52</td>\n",
       "      <td>NaT</td>\n",
       "      <td>Краснодар</td>\n",
       "      <td>Рафаил</td>\n",
       "      <td>...</td>\n",
       "      <td>2018-05-25</td>\n",
       "      <td>ultra</td>\n",
       "      <td>1000</td>\n",
       "      <td>30720</td>\n",
       "      <td>3000</td>\n",
       "      <td>1950</td>\n",
       "      <td>150</td>\n",
       "      <td>1</td>\n",
       "      <td>1</td>\n",
       "      <td>0.000000</td>\n",
       "    </tr>\n",
       "    <tr>\n",
       "      <th>...</th>\n",
       "      <td>...</td>\n",
       "      <td>...</td>\n",
       "      <td>...</td>\n",
       "      <td>...</td>\n",
       "      <td>...</td>\n",
       "      <td>...</td>\n",
       "      <td>...</td>\n",
       "      <td>...</td>\n",
       "      <td>...</td>\n",
       "      <td>...</td>\n",
       "      <td>...</td>\n",
       "      <td>...</td>\n",
       "      <td>...</td>\n",
       "      <td>...</td>\n",
       "      <td>...</td>\n",
       "      <td>...</td>\n",
       "      <td>...</td>\n",
       "      <td>...</td>\n",
       "      <td>...</td>\n",
       "      <td>...</td>\n",
       "      <td>...</td>\n",
       "    </tr>\n",
       "    <tr>\n",
       "      <th>3211</th>\n",
       "      <td>1489</td>\n",
       "      <td>10</td>\n",
       "      <td>0.0</td>\n",
       "      <td>0.0</td>\n",
       "      <td>21.0</td>\n",
       "      <td>19559.44</td>\n",
       "      <td>35</td>\n",
       "      <td>NaT</td>\n",
       "      <td>Санкт-Петербург</td>\n",
       "      <td>Павел</td>\n",
       "      <td>...</td>\n",
       "      <td>2018-08-15</td>\n",
       "      <td>smart</td>\n",
       "      <td>50</td>\n",
       "      <td>15360</td>\n",
       "      <td>500</td>\n",
       "      <td>550</td>\n",
       "      <td>200</td>\n",
       "      <td>3</td>\n",
       "      <td>3</td>\n",
       "      <td>820.312500</td>\n",
       "    </tr>\n",
       "    <tr>\n",
       "      <th>3212</th>\n",
       "      <td>1489</td>\n",
       "      <td>11</td>\n",
       "      <td>0.0</td>\n",
       "      <td>0.0</td>\n",
       "      <td>20.0</td>\n",
       "      <td>17491.56</td>\n",
       "      <td>35</td>\n",
       "      <td>NaT</td>\n",
       "      <td>Санкт-Петербург</td>\n",
       "      <td>Павел</td>\n",
       "      <td>...</td>\n",
       "      <td>2018-08-15</td>\n",
       "      <td>smart</td>\n",
       "      <td>50</td>\n",
       "      <td>15360</td>\n",
       "      <td>500</td>\n",
       "      <td>550</td>\n",
       "      <td>200</td>\n",
       "      <td>3</td>\n",
       "      <td>3</td>\n",
       "      <td>416.406250</td>\n",
       "    </tr>\n",
       "    <tr>\n",
       "      <th>3213</th>\n",
       "      <td>1489</td>\n",
       "      <td>12</td>\n",
       "      <td>0.0</td>\n",
       "      <td>0.0</td>\n",
       "      <td>35.0</td>\n",
       "      <td>17322.51</td>\n",
       "      <td>35</td>\n",
       "      <td>NaT</td>\n",
       "      <td>Санкт-Петербург</td>\n",
       "      <td>Павел</td>\n",
       "      <td>...</td>\n",
       "      <td>2018-08-15</td>\n",
       "      <td>smart</td>\n",
       "      <td>50</td>\n",
       "      <td>15360</td>\n",
       "      <td>500</td>\n",
       "      <td>550</td>\n",
       "      <td>200</td>\n",
       "      <td>3</td>\n",
       "      <td>3</td>\n",
       "      <td>383.398438</td>\n",
       "    </tr>\n",
       "    <tr>\n",
       "      <th>3214</th>\n",
       "      <td>1128</td>\n",
       "      <td>&lt;NA&gt;</td>\n",
       "      <td>0.0</td>\n",
       "      <td>0.0</td>\n",
       "      <td>0.0</td>\n",
       "      <td>0.00</td>\n",
       "      <td>51</td>\n",
       "      <td>2018-12-23</td>\n",
       "      <td>Волжский</td>\n",
       "      <td>Ксения</td>\n",
       "      <td>...</td>\n",
       "      <td>2018-12-15</td>\n",
       "      <td>ultra</td>\n",
       "      <td>1000</td>\n",
       "      <td>30720</td>\n",
       "      <td>3000</td>\n",
       "      <td>1950</td>\n",
       "      <td>150</td>\n",
       "      <td>1</td>\n",
       "      <td>1</td>\n",
       "      <td>0.000000</td>\n",
       "    </tr>\n",
       "    <tr>\n",
       "      <th>3215</th>\n",
       "      <td>1371</td>\n",
       "      <td>&lt;NA&gt;</td>\n",
       "      <td>0.0</td>\n",
       "      <td>0.0</td>\n",
       "      <td>0.0</td>\n",
       "      <td>0.00</td>\n",
       "      <td>50</td>\n",
       "      <td>2018-12-30</td>\n",
       "      <td>Омск</td>\n",
       "      <td>Ириней</td>\n",
       "      <td>...</td>\n",
       "      <td>2018-12-25</td>\n",
       "      <td>smart</td>\n",
       "      <td>50</td>\n",
       "      <td>15360</td>\n",
       "      <td>500</td>\n",
       "      <td>550</td>\n",
       "      <td>200</td>\n",
       "      <td>3</td>\n",
       "      <td>3</td>\n",
       "      <td>0.000000</td>\n",
       "    </tr>\n",
       "  </tbody>\n",
       "</table>\n",
       "<p>3216 rows × 21 columns</p>\n",
       "</div>"
      ],
      "text/plain": [
       "      user_id  month  total_calls_by_month  duraction_by_month  \\\n",
       "0        1000      5                  22.0               159.0   \n",
       "1        1000      6                  43.0               172.0   \n",
       "2        1000      7                  47.0               340.0   \n",
       "3        1000      8                  52.0               408.0   \n",
       "4        1000      9                  58.0               466.0   \n",
       "...       ...    ...                   ...                 ...   \n",
       "3211     1489     10                   0.0                 0.0   \n",
       "3212     1489     11                   0.0                 0.0   \n",
       "3213     1489     12                   0.0                 0.0   \n",
       "3214     1128   <NA>                   0.0                 0.0   \n",
       "3215     1371   <NA>                   0.0                 0.0   \n",
       "\n",
       "      total_messages_by_month  total_mb_by_month  age churn_date  \\\n",
       "0                        22.0            2253.49   52        NaT   \n",
       "1                        60.0           23233.77   52        NaT   \n",
       "2                        75.0           14003.64   52        NaT   \n",
       "3                        81.0           14055.93   52        NaT   \n",
       "4                        57.0           14568.91   52        NaT   \n",
       "...                       ...                ...  ...        ...   \n",
       "3211                     21.0           19559.44   35        NaT   \n",
       "3212                     20.0           17491.56   35        NaT   \n",
       "3213                     35.0           17322.51   35        NaT   \n",
       "3214                      0.0               0.00   51 2018-12-23   \n",
       "3215                      0.0               0.00   50 2018-12-30   \n",
       "\n",
       "                 city first_name  ...   reg_date tariff messages_included  \\\n",
       "0           Краснодар     Рафаил  ... 2018-05-25  ultra              1000   \n",
       "1           Краснодар     Рафаил  ... 2018-05-25  ultra              1000   \n",
       "2           Краснодар     Рафаил  ... 2018-05-25  ultra              1000   \n",
       "3           Краснодар     Рафаил  ... 2018-05-25  ultra              1000   \n",
       "4           Краснодар     Рафаил  ... 2018-05-25  ultra              1000   \n",
       "...               ...        ...  ...        ...    ...               ...   \n",
       "3211  Санкт-Петербург      Павел  ... 2018-08-15  smart                50   \n",
       "3212  Санкт-Петербург      Павел  ... 2018-08-15  smart                50   \n",
       "3213  Санкт-Петербург      Павел  ... 2018-08-15  smart                50   \n",
       "3214         Волжский     Ксения  ... 2018-12-15  ultra              1000   \n",
       "3215             Омск     Ириней  ... 2018-12-25  smart                50   \n",
       "\n",
       "      mb_per_month_included  minutes_included  rub_monthly_fee  rub_per_gb  \\\n",
       "0                     30720              3000             1950         150   \n",
       "1                     30720              3000             1950         150   \n",
       "2                     30720              3000             1950         150   \n",
       "3                     30720              3000             1950         150   \n",
       "4                     30720              3000             1950         150   \n",
       "...                     ...               ...              ...         ...   \n",
       "3211                  15360               500              550         200   \n",
       "3212                  15360               500              550         200   \n",
       "3213                  15360               500              550         200   \n",
       "3214                  30720              3000             1950         150   \n",
       "3215                  15360               500              550         200   \n",
       "\n",
       "      rub_per_message  rub_per_minute  above_the_limit_tariff  \n",
       "0                   1               1                0.000000  \n",
       "1                   1               1                0.000000  \n",
       "2                   1               1                0.000000  \n",
       "3                   1               1                0.000000  \n",
       "4                   1               1                0.000000  \n",
       "...               ...             ...                     ...  \n",
       "3211                3               3              820.312500  \n",
       "3212                3               3              416.406250  \n",
       "3213                3               3              383.398438  \n",
       "3214                1               1                0.000000  \n",
       "3215                3               3                0.000000  \n",
       "\n",
       "[3216 rows x 21 columns]"
      ]
     },
     "execution_count": 40,
     "metadata": {},
     "output_type": "execute_result"
    }
   ],
   "source": [
    "df"
   ]
  },
  {
   "cell_type": "code",
   "execution_count": 41,
   "metadata": {},
   "outputs": [],
   "source": [
    "df['total_revenue'] = df['rub_monthly_fee'] + df['above_the_limit_tariff']"
   ]
  },
  {
   "cell_type": "code",
   "execution_count": 42,
   "metadata": {},
   "outputs": [
    {
     "data": {
      "text/html": [
       "<div>\n",
       "<style scoped>\n",
       "    .dataframe tbody tr th:only-of-type {\n",
       "        vertical-align: middle;\n",
       "    }\n",
       "\n",
       "    .dataframe tbody tr th {\n",
       "        vertical-align: top;\n",
       "    }\n",
       "\n",
       "    .dataframe thead th {\n",
       "        text-align: right;\n",
       "    }\n",
       "</style>\n",
       "<table border=\"1\" class=\"dataframe\">\n",
       "  <thead>\n",
       "    <tr style=\"text-align: right;\">\n",
       "      <th></th>\n",
       "      <th>user_id</th>\n",
       "      <th>month</th>\n",
       "      <th>total_calls_by_month</th>\n",
       "      <th>duraction_by_month</th>\n",
       "      <th>total_messages_by_month</th>\n",
       "      <th>total_mb_by_month</th>\n",
       "      <th>age</th>\n",
       "      <th>churn_date</th>\n",
       "      <th>city</th>\n",
       "      <th>first_name</th>\n",
       "      <th>...</th>\n",
       "      <th>tariff</th>\n",
       "      <th>messages_included</th>\n",
       "      <th>mb_per_month_included</th>\n",
       "      <th>minutes_included</th>\n",
       "      <th>rub_monthly_fee</th>\n",
       "      <th>rub_per_gb</th>\n",
       "      <th>rub_per_message</th>\n",
       "      <th>rub_per_minute</th>\n",
       "      <th>above_the_limit_tariff</th>\n",
       "      <th>total_revenue</th>\n",
       "    </tr>\n",
       "  </thead>\n",
       "  <tbody>\n",
       "    <tr>\n",
       "      <th>0</th>\n",
       "      <td>1000</td>\n",
       "      <td>5</td>\n",
       "      <td>22.0</td>\n",
       "      <td>159.0</td>\n",
       "      <td>22.0</td>\n",
       "      <td>2253.49</td>\n",
       "      <td>52</td>\n",
       "      <td>NaT</td>\n",
       "      <td>Краснодар</td>\n",
       "      <td>Рафаил</td>\n",
       "      <td>...</td>\n",
       "      <td>ultra</td>\n",
       "      <td>1000</td>\n",
       "      <td>30720</td>\n",
       "      <td>3000</td>\n",
       "      <td>1950</td>\n",
       "      <td>150</td>\n",
       "      <td>1</td>\n",
       "      <td>1</td>\n",
       "      <td>0.0</td>\n",
       "      <td>1950.0</td>\n",
       "    </tr>\n",
       "    <tr>\n",
       "      <th>1</th>\n",
       "      <td>1000</td>\n",
       "      <td>6</td>\n",
       "      <td>43.0</td>\n",
       "      <td>172.0</td>\n",
       "      <td>60.0</td>\n",
       "      <td>23233.77</td>\n",
       "      <td>52</td>\n",
       "      <td>NaT</td>\n",
       "      <td>Краснодар</td>\n",
       "      <td>Рафаил</td>\n",
       "      <td>...</td>\n",
       "      <td>ultra</td>\n",
       "      <td>1000</td>\n",
       "      <td>30720</td>\n",
       "      <td>3000</td>\n",
       "      <td>1950</td>\n",
       "      <td>150</td>\n",
       "      <td>1</td>\n",
       "      <td>1</td>\n",
       "      <td>0.0</td>\n",
       "      <td>1950.0</td>\n",
       "    </tr>\n",
       "    <tr>\n",
       "      <th>2</th>\n",
       "      <td>1000</td>\n",
       "      <td>7</td>\n",
       "      <td>47.0</td>\n",
       "      <td>340.0</td>\n",
       "      <td>75.0</td>\n",
       "      <td>14003.64</td>\n",
       "      <td>52</td>\n",
       "      <td>NaT</td>\n",
       "      <td>Краснодар</td>\n",
       "      <td>Рафаил</td>\n",
       "      <td>...</td>\n",
       "      <td>ultra</td>\n",
       "      <td>1000</td>\n",
       "      <td>30720</td>\n",
       "      <td>3000</td>\n",
       "      <td>1950</td>\n",
       "      <td>150</td>\n",
       "      <td>1</td>\n",
       "      <td>1</td>\n",
       "      <td>0.0</td>\n",
       "      <td>1950.0</td>\n",
       "    </tr>\n",
       "    <tr>\n",
       "      <th>3</th>\n",
       "      <td>1000</td>\n",
       "      <td>8</td>\n",
       "      <td>52.0</td>\n",
       "      <td>408.0</td>\n",
       "      <td>81.0</td>\n",
       "      <td>14055.93</td>\n",
       "      <td>52</td>\n",
       "      <td>NaT</td>\n",
       "      <td>Краснодар</td>\n",
       "      <td>Рафаил</td>\n",
       "      <td>...</td>\n",
       "      <td>ultra</td>\n",
       "      <td>1000</td>\n",
       "      <td>30720</td>\n",
       "      <td>3000</td>\n",
       "      <td>1950</td>\n",
       "      <td>150</td>\n",
       "      <td>1</td>\n",
       "      <td>1</td>\n",
       "      <td>0.0</td>\n",
       "      <td>1950.0</td>\n",
       "    </tr>\n",
       "    <tr>\n",
       "      <th>4</th>\n",
       "      <td>1000</td>\n",
       "      <td>9</td>\n",
       "      <td>58.0</td>\n",
       "      <td>466.0</td>\n",
       "      <td>57.0</td>\n",
       "      <td>14568.91</td>\n",
       "      <td>52</td>\n",
       "      <td>NaT</td>\n",
       "      <td>Краснодар</td>\n",
       "      <td>Рафаил</td>\n",
       "      <td>...</td>\n",
       "      <td>ultra</td>\n",
       "      <td>1000</td>\n",
       "      <td>30720</td>\n",
       "      <td>3000</td>\n",
       "      <td>1950</td>\n",
       "      <td>150</td>\n",
       "      <td>1</td>\n",
       "      <td>1</td>\n",
       "      <td>0.0</td>\n",
       "      <td>1950.0</td>\n",
       "    </tr>\n",
       "  </tbody>\n",
       "</table>\n",
       "<p>5 rows × 22 columns</p>\n",
       "</div>"
      ],
      "text/plain": [
       "   user_id  month  total_calls_by_month  duraction_by_month  \\\n",
       "0     1000      5                  22.0               159.0   \n",
       "1     1000      6                  43.0               172.0   \n",
       "2     1000      7                  47.0               340.0   \n",
       "3     1000      8                  52.0               408.0   \n",
       "4     1000      9                  58.0               466.0   \n",
       "\n",
       "   total_messages_by_month  total_mb_by_month  age churn_date       city  \\\n",
       "0                     22.0            2253.49   52        NaT  Краснодар   \n",
       "1                     60.0           23233.77   52        NaT  Краснодар   \n",
       "2                     75.0           14003.64   52        NaT  Краснодар   \n",
       "3                     81.0           14055.93   52        NaT  Краснодар   \n",
       "4                     57.0           14568.91   52        NaT  Краснодар   \n",
       "\n",
       "  first_name  ... tariff messages_included mb_per_month_included  \\\n",
       "0     Рафаил  ...  ultra              1000                 30720   \n",
       "1     Рафаил  ...  ultra              1000                 30720   \n",
       "2     Рафаил  ...  ultra              1000                 30720   \n",
       "3     Рафаил  ...  ultra              1000                 30720   \n",
       "4     Рафаил  ...  ultra              1000                 30720   \n",
       "\n",
       "   minutes_included  rub_monthly_fee  rub_per_gb  rub_per_message  \\\n",
       "0              3000             1950         150                1   \n",
       "1              3000             1950         150                1   \n",
       "2              3000             1950         150                1   \n",
       "3              3000             1950         150                1   \n",
       "4              3000             1950         150                1   \n",
       "\n",
       "   rub_per_minute  above_the_limit_tariff  total_revenue  \n",
       "0               1                     0.0         1950.0  \n",
       "1               1                     0.0         1950.0  \n",
       "2               1                     0.0         1950.0  \n",
       "3               1                     0.0         1950.0  \n",
       "4               1                     0.0         1950.0  \n",
       "\n",
       "[5 rows x 22 columns]"
      ]
     },
     "execution_count": 42,
     "metadata": {},
     "output_type": "execute_result"
    }
   ],
   "source": [
    "df.head()"
   ]
  },
  {
   "cell_type": "markdown",
   "metadata": {},
   "source": [
    "**Вывод** : Отлично! Мы сделали расчеты, соединили все имеющиеся таблицы в одну общую и теперь может переходить к анализу данных"
   ]
  },
  {
   "cell_type": "code",
   "execution_count": 43,
   "metadata": {},
   "outputs": [
    {
     "data": {
      "text/plain": [
       "4774262.1328125"
      ]
     },
     "execution_count": 43,
     "metadata": {},
     "output_type": "execute_result"
    }
   ],
   "source": [
    "# check\n",
    "df['total_revenue'].sum()"
   ]
  },
  {
   "cell_type": "code",
   "execution_count": 44,
   "metadata": {},
   "outputs": [
    {
     "data": {
      "text/html": [
       "<div>\n",
       "<style scoped>\n",
       "    .dataframe tbody tr th:only-of-type {\n",
       "        vertical-align: middle;\n",
       "    }\n",
       "\n",
       "    .dataframe tbody tr th {\n",
       "        vertical-align: top;\n",
       "    }\n",
       "\n",
       "    .dataframe thead th {\n",
       "        text-align: right;\n",
       "    }\n",
       "</style>\n",
       "<table border=\"1\" class=\"dataframe\">\n",
       "  <thead>\n",
       "    <tr style=\"text-align: right;\">\n",
       "      <th></th>\n",
       "      <th>user_id</th>\n",
       "      <th>month</th>\n",
       "      <th>duraction_by_month</th>\n",
       "      <th>total_messages_by_month</th>\n",
       "      <th>total_mb_by_month</th>\n",
       "      <th>city</th>\n",
       "      <th>reg_date</th>\n",
       "      <th>tariff</th>\n",
       "      <th>total_revenue</th>\n",
       "    </tr>\n",
       "  </thead>\n",
       "  <tbody>\n",
       "    <tr>\n",
       "      <th>3163</th>\n",
       "      <td>1496</td>\n",
       "      <td>11</td>\n",
       "      <td>662.0</td>\n",
       "      <td>46.0</td>\n",
       "      <td>25063.40</td>\n",
       "      <td>Вологда</td>\n",
       "      <td>2018-01-27</td>\n",
       "      <td>smart</td>\n",
       "      <td>2931.312500</td>\n",
       "    </tr>\n",
       "    <tr>\n",
       "      <th>3164</th>\n",
       "      <td>1496</td>\n",
       "      <td>12</td>\n",
       "      <td>518.0</td>\n",
       "      <td>51.0</td>\n",
       "      <td>20736.15</td>\n",
       "      <td>Вологда</td>\n",
       "      <td>2018-01-27</td>\n",
       "      <td>smart</td>\n",
       "      <td>1657.195312</td>\n",
       "    </tr>\n",
       "    <tr>\n",
       "      <th>3167</th>\n",
       "      <td>1497</td>\n",
       "      <td>12</td>\n",
       "      <td>545.0</td>\n",
       "      <td>17.0</td>\n",
       "      <td>19918.60</td>\n",
       "      <td>Челябинск</td>\n",
       "      <td>2018-10-09</td>\n",
       "      <td>smart</td>\n",
       "      <td>1575.429688</td>\n",
       "    </tr>\n",
       "    <tr>\n",
       "      <th>3174</th>\n",
       "      <td>1499</td>\n",
       "      <td>11</td>\n",
       "      <td>612.0</td>\n",
       "      <td>59.0</td>\n",
       "      <td>17963.31</td>\n",
       "      <td>Пермь</td>\n",
       "      <td>2018-09-27</td>\n",
       "      <td>smart</td>\n",
       "      <td>1421.593750</td>\n",
       "    </tr>\n",
       "  </tbody>\n",
       "</table>\n",
       "</div>"
      ],
      "text/plain": [
       "      user_id  month  duraction_by_month  total_messages_by_month  \\\n",
       "3163     1496     11               662.0                     46.0   \n",
       "3164     1496     12               518.0                     51.0   \n",
       "3167     1497     12               545.0                     17.0   \n",
       "3174     1499     11               612.0                     59.0   \n",
       "\n",
       "      total_mb_by_month       city   reg_date tariff  total_revenue  \n",
       "3163           25063.40    Вологда 2018-01-27  smart    2931.312500  \n",
       "3164           20736.15    Вологда 2018-01-27  smart    1657.195312  \n",
       "3167           19918.60  Челябинск 2018-10-09  smart    1575.429688  \n",
       "3174           17963.31      Пермь 2018-09-27  smart    1421.593750  "
      ]
     },
     "execution_count": 44,
     "metadata": {},
     "output_type": "execute_result"
    }
   ],
   "source": [
    "# check\n",
    "df[df['duraction_by_month'] > 500 ][['user_id', 'month', 'duraction_by_month',\n",
    "       'total_messages_by_month', 'total_mb_by_month', \n",
    "       'city', 'reg_date', 'tariff', 'total_revenue']].tail(4)"
   ]
  },
  {
   "cell_type": "markdown",
   "metadata": {},
   "source": [
    "<div class=\"alert alert-success\">\n",
    "<font size=\"4\", color= \"seagreen\"><b>✔️ Комментарий ревьюера</b></font>\n",
    "    <br /> \n",
    "    <font size=\"3\", color = \"black\">\n",
    "<br />Отлично мы обработали данные, сгруппировали, объединили, заполнили пропуски и запрограммировали алгоритм расчета выручки, можно приступать к стат. анализу после ❌ исправления алгоритмов округления объемов услуг (мин. и гб.)"
   ]
  },
  {
   "cell_type": "markdown",
   "metadata": {},
   "source": [
    "## Анализ данных"
   ]
  },
  {
   "cell_type": "markdown",
   "metadata": {},
   "source": [
    "Проанализируем поведение клиентов оператора, исходя из выборки. Сколько минут разговора, сколько сообщений и какой объём интернет-трафика требуется пользователям каждого тарифа в месяц?\n",
    "- Посчитаем среднее количество, дисперсию и стандартное отклонение\n",
    "- Построим гистограммы\n",
    "- Опишем распределения"
   ]
  },
  {
   "cell_type": "markdown",
   "metadata": {},
   "source": [
    "Посмотрим на **минуты разговора**. Создадим сводную таблицу"
   ]
  },
  {
   "cell_type": "code",
   "execution_count": 45,
   "metadata": {},
   "outputs": [
    {
     "data": {
      "text/html": [
       "<div>\n",
       "<style scoped>\n",
       "    .dataframe tbody tr th:only-of-type {\n",
       "        vertical-align: middle;\n",
       "    }\n",
       "\n",
       "    .dataframe tbody tr th {\n",
       "        vertical-align: top;\n",
       "    }\n",
       "\n",
       "    .dataframe thead tr th {\n",
       "        text-align: left;\n",
       "    }\n",
       "\n",
       "    .dataframe thead tr:last-of-type th {\n",
       "        text-align: right;\n",
       "    }\n",
       "</style>\n",
       "<table border=\"1\" class=\"dataframe\">\n",
       "  <thead>\n",
       "    <tr>\n",
       "      <th></th>\n",
       "      <th>mean</th>\n",
       "      <th>var</th>\n",
       "      <th>std</th>\n",
       "    </tr>\n",
       "    <tr>\n",
       "      <th></th>\n",
       "      <th>duraction_by_month</th>\n",
       "      <th>duraction_by_month</th>\n",
       "      <th>duraction_by_month</th>\n",
       "    </tr>\n",
       "    <tr>\n",
       "      <th>tariff</th>\n",
       "      <th></th>\n",
       "      <th></th>\n",
       "      <th></th>\n",
       "    </tr>\n",
       "  </thead>\n",
       "  <tbody>\n",
       "    <tr>\n",
       "      <th>smart</th>\n",
       "      <td>417.747534</td>\n",
       "      <td>36281.393836</td>\n",
       "      <td>190.476754</td>\n",
       "    </tr>\n",
       "    <tr>\n",
       "      <th>ultra</th>\n",
       "      <td>526.089249</td>\n",
       "      <td>101052.493549</td>\n",
       "      <td>317.887549</td>\n",
       "    </tr>\n",
       "  </tbody>\n",
       "</table>\n",
       "</div>"
      ],
      "text/plain": [
       "                     mean                var                std\n",
       "       duraction_by_month duraction_by_month duraction_by_month\n",
       "tariff                                                         \n",
       "smart          417.747534       36281.393836         190.476754\n",
       "ultra          526.089249      101052.493549         317.887549"
      ]
     },
     "execution_count": 45,
     "metadata": {},
     "output_type": "execute_result"
    }
   ],
   "source": [
    "calls_by_tariffs =df.pivot_table( \\\n",
    "                                 index = ['tariff'], \\\n",
    "                                 values = ['duraction_by_month'], \\\n",
    "                                 aggfunc =  ['mean','var','std'])\n",
    "calls_by_tariffs"
   ]
  },
  {
   "cell_type": "markdown",
   "metadata": {},
   "source": [
    "Посмотрим на гистограмму распределения времени звонков  для тарифа смарт"
   ]
  },
  {
   "cell_type": "code",
   "execution_count": 46,
   "metadata": {
    "scrolled": true
   },
   "outputs": [
    {
     "data": {
      "image/png": "[encoded data removed]",
      "text/plain": [
       "<Figure size 432x288 with 1 Axes>"
      ]
     },
     "metadata": {
      "needs_background": "light"
     },
     "output_type": "display_data"
    }
   ],
   "source": [
    "df[df['tariff'] == 'smart']['duraction_by_month'].plot(kind='hist', bins=10)\n",
    "plt.show()"
   ]
  },
  {
   "cell_type": "markdown",
   "metadata": {},
   "source": [
    "Распределение имеет форму нормального "
   ]
  },
  {
   "cell_type": "code",
   "execution_count": 47,
   "metadata": {},
   "outputs": [
    {
     "data": {
      "image/png": "[encoded data removed]",
      "text/plain": [
       "<Figure size 432x288 with 1 Axes>"
      ]
     },
     "metadata": {
      "needs_background": "light"
     },
     "output_type": "display_data"
    }
   ],
   "source": [
    "df[df['tariff'] == 'ultra']['duraction_by_month'].plot(kind='hist', bins=10)\n",
    "plt.show()"
   ]
  },
  {
   "cell_type": "markdown",
   "metadata": {},
   "source": [
    "На ultra пользлователи тратят в среднем около 536 минут, на smart - 417. Но дисперсия ( и соответственно среднее отклонение) на ultra выше"
   ]
  },
  {
   "cell_type": "markdown",
   "metadata": {},
   "source": [
    "<div class=\"alert alert-anger\">\n",
    "<font size=\"4\"><b>❌ Комментарий ревьюера</b></font>\n",
    "    <br /> \n",
    "    <font size=\"3\", color = \"black\">\n",
    "<br /> назначение категорий месяцев влечет за собой хронологический сдвиг в алфавитном порядке ..."
   ]
  },
  {
   "cell_type": "markdown",
   "metadata": {},
   "source": [
    "Разница ощутима. в 1.5-2 раза стандартное отклонение на тарифе ultra выше"
   ]
  },
  {
   "cell_type": "markdown",
   "metadata": {},
   "source": [
    "Дисперсия так же будет многобольше на тарифе ultra,nак как это просто std^2"
   ]
  },
  {
   "cell_type": "markdown",
   "metadata": {},
   "source": [
    "Посмотрим на **сообщения**. Повторим действия, которые мы делали для звонков"
   ]
  },
  {
   "cell_type": "code",
   "execution_count": 48,
   "metadata": {},
   "outputs": [
    {
     "data": {
      "text/html": [
       "<div>\n",
       "<style scoped>\n",
       "    .dataframe tbody tr th:only-of-type {\n",
       "        vertical-align: middle;\n",
       "    }\n",
       "\n",
       "    .dataframe tbody tr th {\n",
       "        vertical-align: top;\n",
       "    }\n",
       "\n",
       "    .dataframe thead tr th {\n",
       "        text-align: left;\n",
       "    }\n",
       "\n",
       "    .dataframe thead tr:last-of-type th {\n",
       "        text-align: right;\n",
       "    }\n",
       "</style>\n",
       "<table border=\"1\" class=\"dataframe\">\n",
       "  <thead>\n",
       "    <tr>\n",
       "      <th></th>\n",
       "      <th>mean</th>\n",
       "      <th>var</th>\n",
       "      <th>std</th>\n",
       "    </tr>\n",
       "    <tr>\n",
       "      <th></th>\n",
       "      <th>total_messages_by_month</th>\n",
       "      <th>total_messages_by_month</th>\n",
       "      <th>total_messages_by_month</th>\n",
       "    </tr>\n",
       "    <tr>\n",
       "      <th>tariff</th>\n",
       "      <th></th>\n",
       "      <th></th>\n",
       "      <th></th>\n",
       "    </tr>\n",
       "  </thead>\n",
       "  <tbody>\n",
       "    <tr>\n",
       "      <th>smart</th>\n",
       "      <td>33.369058</td>\n",
       "      <td>796.955256</td>\n",
       "      <td>28.230396</td>\n",
       "    </tr>\n",
       "    <tr>\n",
       "      <th>ultra</th>\n",
       "      <td>49.313387</td>\n",
       "      <td>2285.417425</td>\n",
       "      <td>47.806040</td>\n",
       "    </tr>\n",
       "  </tbody>\n",
       "</table>\n",
       "</div>"
      ],
      "text/plain": [
       "                          mean                     var                     std\n",
       "       total_messages_by_month total_messages_by_month total_messages_by_month\n",
       "tariff                                                                        \n",
       "smart                33.369058              796.955256               28.230396\n",
       "ultra                49.313387             2285.417425               47.806040"
      ]
     },
     "execution_count": 48,
     "metadata": {},
     "output_type": "execute_result"
    }
   ],
   "source": [
    "messages_by_tariffs =df.pivot_table( \\\n",
    "                                 index = ['tariff'], \\\n",
    "                                 values = ['total_messages_by_month'], \\\n",
    "                                 aggfunc =  ['mean','var','std'])\n",
    "messages_by_tariffs"
   ]
  },
  {
   "cell_type": "code",
   "execution_count": 49,
   "metadata": {},
   "outputs": [
    {
     "data": {
      "image/png": "[encoded data removed]",
      "text/plain": [
       "<Figure size 432x288 with 1 Axes>"
      ]
     },
     "metadata": {
      "needs_background": "light"
     },
     "output_type": "display_data"
    }
   ],
   "source": [
    "df[df['tariff'] == 'smart']['total_messages_by_month'].plot(kind='hist', bins=10)\n",
    "plt.show()"
   ]
  },
  {
   "cell_type": "code",
   "execution_count": 50,
   "metadata": {},
   "outputs": [
    {
     "data": {
      "image/png": "[encoded data removed]",
      "text/plain": [
       "<Figure size 432x288 with 1 Axes>"
      ]
     },
     "metadata": {
      "needs_background": "light"
     },
     "output_type": "display_data"
    }
   ],
   "source": [
    "df[df['tariff'] == 'ultra']['total_messages_by_month'].plot(kind='hist', bins=10)\n",
    "plt.show()"
   ]
  },
  {
   "cell_type": "markdown",
   "metadata": {},
   "source": [
    "- Распределения данных - правосторонние\n",
    "- В среднем сообщения на ultra отравляют больше\n",
    "- Отметим, что смс не очень востребованы на обоих тарифах. Если пользователи smart тратят около половины, включенных в тариф смс, то на ultra из 1000 включенных, даже 100 не отправляют"
   ]
  },
  {
   "cell_type": "markdown",
   "metadata": {},
   "source": [
    "Посмотрим на **интернет**"
   ]
  },
  {
   "cell_type": "code",
   "execution_count": 51,
   "metadata": {},
   "outputs": [
    {
     "data": {
      "text/html": [
       "<div>\n",
       "<style scoped>\n",
       "    .dataframe tbody tr th:only-of-type {\n",
       "        vertical-align: middle;\n",
       "    }\n",
       "\n",
       "    .dataframe tbody tr th {\n",
       "        vertical-align: top;\n",
       "    }\n",
       "\n",
       "    .dataframe thead tr th {\n",
       "        text-align: left;\n",
       "    }\n",
       "\n",
       "    .dataframe thead tr:last-of-type th {\n",
       "        text-align: right;\n",
       "    }\n",
       "</style>\n",
       "<table border=\"1\" class=\"dataframe\">\n",
       "  <thead>\n",
       "    <tr>\n",
       "      <th></th>\n",
       "      <th>mean</th>\n",
       "      <th>var</th>\n",
       "      <th>std</th>\n",
       "    </tr>\n",
       "    <tr>\n",
       "      <th></th>\n",
       "      <th>total_mb_by_month</th>\n",
       "      <th>total_mb_by_month</th>\n",
       "      <th>total_mb_by_month</th>\n",
       "    </tr>\n",
       "    <tr>\n",
       "      <th>tariff</th>\n",
       "      <th></th>\n",
       "      <th></th>\n",
       "      <th></th>\n",
       "    </tr>\n",
       "  </thead>\n",
       "  <tbody>\n",
       "    <tr>\n",
       "      <th>smart</th>\n",
       "      <td>16201.118655</td>\n",
       "      <td>3.456484e+07</td>\n",
       "      <td>5879.187315</td>\n",
       "    </tr>\n",
       "    <tr>\n",
       "      <th>ultra</th>\n",
       "      <td>19449.059970</td>\n",
       "      <td>1.020321e+08</td>\n",
       "      <td>10101.095459</td>\n",
       "    </tr>\n",
       "  </tbody>\n",
       "</table>\n",
       "</div>"
      ],
      "text/plain": [
       "                    mean               var               std\n",
       "       total_mb_by_month total_mb_by_month total_mb_by_month\n",
       "tariff                                                      \n",
       "smart       16201.118655      3.456484e+07       5879.187315\n",
       "ultra       19449.059970      1.020321e+08      10101.095459"
      ]
     },
     "execution_count": 51,
     "metadata": {},
     "output_type": "execute_result"
    }
   ],
   "source": [
    "internet_by_tariffs =df.pivot_table( \\\n",
    "                                 index = ['tariff'], \\\n",
    "                                 values = ['total_mb_by_month'], \\\n",
    "                                 aggfunc =  ['mean','var','std'])\n",
    "internet_by_tariffs"
   ]
  },
  {
   "cell_type": "code",
   "execution_count": 52,
   "metadata": {
    "scrolled": true
   },
   "outputs": [
    {
     "data": {
      "image/png": "[encoded data removed]",
      "text/plain": [
       "<Figure size 432x288 with 1 Axes>"
      ]
     },
     "metadata": {
      "needs_background": "light"
     },
     "output_type": "display_data"
    }
   ],
   "source": [
    "df[df['tariff'] == 'smart']['total_mb_by_month'].plot(kind='hist', bins=10)\n",
    "plt.show()"
   ]
  },
  {
   "cell_type": "code",
   "execution_count": 53,
   "metadata": {},
   "outputs": [
    {
     "data": {
      "image/png": "[encoded data removed]",
      "text/plain": [
       "<Figure size 432x288 with 1 Axes>"
      ]
     },
     "metadata": {
      "needs_background": "light"
     },
     "output_type": "display_data"
    }
   ],
   "source": [
    "df[df['tariff'] == 'ultra']['total_mb_by_month'].plot(kind='hist', bins=10)\n",
    "plt.show()"
   ]
  },
  {
   "cell_type": "markdown",
   "metadata": {},
   "source": [
    "- Распредедение на smart - нормальное, ultra - близкое к нормальному с левосторонним уклоном \n",
    "- Интернетом на ultra пользуются так же больше, чем на smart\n",
    "- Относительно включенного в тариф объма: на ultra пользователи укладываются в рамки, а вот на smart в среднем по месяцам значение превышает включенные 15Гб интернета"
   ]
  },
  {
   "cell_type": "markdown",
   "metadata": {},
   "source": [
    "Так же std на ultra выше, чем на smart"
   ]
  },
  {
   "cell_type": "markdown",
   "metadata": {},
   "source": [
    "**Выводы**: \n",
    "- Пользователи тарифа ultra чаще звонят, пишут смс и расходуют больше mb интернета, чем пользователи smart. \n",
    "- Относительно включенного объема услуг:\n",
    "  - Звонки на smart расходуются рационально. На ultra же у пользователей остаётся большой остаток на конец месяца\n",
    "  - СМС не очень нужны. На обоих тарифах остаётся остаток на конец месяца( на ultra - очень большой)\n",
    "  - Интернет нужнее СМС. На ultra интернет расходуют рационально. На smart 15Гб - маловато для современных пользователей"
   ]
  },
  {
   "cell_type": "markdown",
   "metadata": {},
   "source": [
    "<div class=\"alert alert-anger\">\n",
    "<font size=\"4\"><b>❌ Комментарий ревьюера</b></font>\n",
    "    <br /> \n",
    "    <font size=\"3\", color = \"black\">\n",
    "<br /> Классный дополнительный анализ выполнен\n",
    "        \n",
    "Раздел полностью переделать — использовать выборку для постройки гистограмм df, и не усреднять значения перед этим, не забываем описать тип распределения\n",
    "\n",
    "        \n",
    "    Шаг 3. Проанализируйте данные\n",
    "    Опишите поведение клиентов оператора, исходя из выборки. Сколько минут разговора, сколько сообщений и какой объём интернет-трафика требуется пользователям каждого тарифа в месяц? Посчитайте среднее количество, дисперсию и стандартное отклонение. Постройте гистограммы. Опишите распределения.\n",
    "\n",
    "        \n",
    "для подтверждения инсайта нам не хватает в анализе второго года ...\n",
    "             \n",
    "    но факт проседании цифр по 2ум месяцам - есть\n",
    "        \n"
   ]
  },
  {
   "cell_type": "markdown",
   "metadata": {},
   "source": [
    "<div style=\"border:solid steelblue 3px; padding: 20px\">\n",
    "<font size=\"3\">🍕<b> Комментарий студента</b></font>\n",
    "<br /> \n",
    "<font size=\"2\", color = \"black\">\n",
    "<br />\n",
    "Исправил: Сделал сводные таблицы с расчетами и нарисовал гистограммы "
   ]
  },
  {
   "cell_type": "markdown",
   "metadata": {},
   "source": [
    "## Проверка гипотез"
   ]
  },
  {
   "cell_type": "markdown",
   "metadata": {},
   "source": [
    "Рассмотрим 2 гипотезы: \n",
    "- средняя выручка пользователей тарифов «Ультра» и «Смарт» различаются\n",
    "- средняя выручка пользователей из Москвы отличается от выручки пользователей из других регионов"
   ]
  },
  {
   "cell_type": "markdown",
   "metadata": {},
   "source": [
    "### Гипотеза №1"
   ]
  },
  {
   "cell_type": "markdown",
   "metadata": {},
   "source": [
    "Сформулируем 2 гипотезы (нулевую и альтернативную):\n",
    "- H0 : Средние значения выручки пользователей тарифов \"Ультра\" и \"Смарт\" равны (не разлчаются)\n",
    "- Н1 : Средние значения выручки пользователей тарифов \"Ультра\" и \"Смарт различаются"
   ]
  },
  {
   "cell_type": "markdown",
   "metadata": {},
   "source": [
    "<div class=\"alert alert-success\">\n",
    "<font size=\"4\", color= \"seagreen\"><b>✔️ Комментарий ревьюера</b></font>\n",
    "    <br /> \n",
    "    <font size=\"3\", color = \"black\">\n",
    "<br /> гипотезы сформулированы верно, для акцентирования можно использовать в нулевой гипотезе слово равны"
   ]
  },
  {
   "cell_type": "markdown",
   "metadata": {},
   "source": [
    "У нас имеются **2 независимые** выборки. Будем использовать тест по t-критерию Стьюдента "
   ]
  },
  {
   "cell_type": "code",
   "execution_count": 54,
   "metadata": {},
   "outputs": [],
   "source": [
    "#введем 2 новых df по разным тарифам\n",
    "ultra = df[df['tariff'] == 'ultra']\n",
    "smart = df[df['tariff'] == 'smart']"
   ]
  },
  {
   "cell_type": "code",
   "execution_count": 55,
   "metadata": {},
   "outputs": [],
   "source": [
    "#создадим 2 переменные по выручкам по каждом тарифу\n",
    "ultra_total_revenue = ultra['total_revenue']\n",
    "smart_total_revenue = smart['total_revenue']"
   ]
  },
  {
   "cell_type": "code",
   "execution_count": 56,
   "metadata": {},
   "outputs": [],
   "source": [
    "#установим значем alpha = 5%\n",
    "alpha = .05"
   ]
  },
  {
   "cell_type": "code",
   "execution_count": 57,
   "metadata": {},
   "outputs": [],
   "source": [
    "#и проведём стат.тест\n",
    "results_1 = st.ttest_ind(ultra_total_revenue, smart_total_revenue ,equal_var = False)"
   ]
  },
  {
   "cell_type": "markdown",
   "metadata": {},
   "source": [
    "Значение equal_var = False мы указали, так как в предыдущих шагах выяснили, что дисперсии наших выборок не равны между собой"
   ]
  },
  {
   "cell_type": "markdown",
   "metadata": {},
   "source": [
    "Теперь сравним результаты теста с указанным нами alpha и сделаем выводы"
   ]
  },
  {
   "cell_type": "code",
   "execution_count": 58,
   "metadata": {},
   "outputs": [
    {
     "data": {
      "text/plain": [
       "'p-значение:'"
      ]
     },
     "metadata": {},
     "output_type": "display_data"
    },
    {
     "data": {
      "text/plain": [
       "7.412520935402694e-299"
      ]
     },
     "metadata": {},
     "output_type": "display_data"
    },
    {
     "name": "stdout",
     "output_type": "stream",
     "text": [
      "Отвергаем нулевую гипотезу\n"
     ]
    }
   ],
   "source": [
    "display('p-значение:',results_1.pvalue)\n",
    "\n",
    "if (results_1.pvalue < alpha):\n",
    "    print(\"Отвергаем нулевую гипотезу\")\n",
    "else:\n",
    "    print(\"Не получилось отвергнуть нулевую гипотезу\")"
   ]
  },
  {
   "cell_type": "markdown",
   "metadata": {},
   "source": [
    "**Вывод**: p-значение страмиться к 0. Если бы в тесте, мы указали значение *equal_var = True*, то получили бы значение *2.089871859317439e-213*. А при *equal_var = False*, pvalue близко к 0. Мы можем смело отвергнуть нулевую гипотезу и сделать вывод:**Средние значения выручки пользователей тарифов \"Ультра\" и \"Смарт различаются**"
   ]
  },
  {
   "cell_type": "markdown",
   "metadata": {},
   "source": [
    "### Гипотеза №2"
   ]
  },
  {
   "cell_type": "markdown",
   "metadata": {},
   "source": [
    "Сформулируем 2 гипотезы (нулевую и альтернативную):\n",
    "\n",
    "- H0: средняя выручка пользователей из Москвы не отличается от выручки пользователей из других регионов\n",
    "- H1: средняя выручка пользователей из Москвы отличается от выручки пользователей из других регионов"
   ]
  },
  {
   "cell_type": "markdown",
   "metadata": {},
   "source": [
    "Здесь так же имеются **2 независимые** выборки. Будем использовать тест по t-критерию Стьюдента "
   ]
  },
  {
   "cell_type": "markdown",
   "metadata": {},
   "source": [
    "Для начала посмотрим на города, представленные в нашей таблице "
   ]
  },
  {
   "cell_type": "code",
   "execution_count": 59,
   "metadata": {},
   "outputs": [
    {
     "data": {
      "text/plain": [
       "array(['Краснодар', 'Москва', 'Стерлитамак', 'Новокузнецк',\n",
       "       'Набережные Челны', 'Ульяновск', 'Челябинск', 'Пермь', 'Тюмень',\n",
       "       'Самара', 'Санкт-Петербург', 'Иваново', 'Чебоксары', 'Омск', 'Уфа',\n",
       "       'Томск', 'Чита', 'Мурманск', 'Петрозаводск', 'Тверь',\n",
       "       'Екатеринбург', 'Махачкала', 'Вологда', 'Череповец', 'Ярославль',\n",
       "       'Сочи', 'Хабаровск', 'Ставрополь', 'Рязань', 'Улан-Удэ', 'Тула',\n",
       "       'Саратов', 'Ростов-на-Дону', 'Казань', 'Иркутск', 'Курск',\n",
       "       'Калуга', 'Якутск', 'Астрахань', 'Химки', 'Владикавказ',\n",
       "       'Волгоград', 'Саранск', 'Ижевск', 'Новосибирск', 'Брянск',\n",
       "       'Тольятти', 'Нижний Тагил', 'Орёл', 'Белгород', 'Воронеж',\n",
       "       'Курган', 'Барнаул', 'Красноярск', 'Архангельск', 'Липецк',\n",
       "       'Кемерово', 'Киров', 'Сургут', 'Пенза', 'Волжский', 'Магнитогорск',\n",
       "       'Нижний Новгород', 'Кострома', 'Владивосток', 'Тамбов', 'Балашиха',\n",
       "       'Севастополь', 'Калининград', 'Оренбург', 'Смоленск',\n",
       "       'Нижневартовск', 'Владимир', 'Новороссийск', 'Грозный', 'Подольск'],\n",
       "      dtype=object)"
      ]
     },
     "execution_count": 59,
     "metadata": {},
     "output_type": "execute_result"
    }
   ],
   "source": [
    "df['city'].unique()"
   ]
  },
  {
   "cell_type": "markdown",
   "metadata": {},
   "source": [
    "Раделим нашу общую df на 2 отдельные таблицы( пользователи из Москвы и остальные пользователи)"
   ]
  },
  {
   "cell_type": "code",
   "execution_count": 60,
   "metadata": {},
   "outputs": [],
   "source": [
    "moscow_clients = df.query('city == \"Москва\"')\n",
    "other_cities_clients = df.query(('city != \"Москва\"'))"
   ]
  },
  {
   "cell_type": "markdown",
   "metadata": {},
   "source": [
    "Введем 2 переменные по выручкам этих пользователем "
   ]
  },
  {
   "cell_type": "code",
   "execution_count": 61,
   "metadata": {},
   "outputs": [],
   "source": [
    "moscow_clients_total_revenue = moscow_clients['total_revenue']\n",
    "other_cities_clients_total_revenue = other_cities_clients['total_revenue']"
   ]
  },
  {
   "cell_type": "markdown",
   "metadata": {},
   "source": [
    "Значениe aplha оставим тем же и проведём тест"
   ]
  },
  {
   "cell_type": "code",
   "execution_count": 62,
   "metadata": {},
   "outputs": [],
   "source": [
    "results_2 = st.ttest_ind(moscow_clients_total_revenue, other_cities_clients_total_revenue)"
   ]
  },
  {
   "cell_type": "markdown",
   "metadata": {},
   "source": [
    "Здесь значение equal_var оставим по умолчанию True. Так как дисперсию этих выборок мы не сравнивали, но есть основания полагать что здесь уже пользователи с тарифами smart и ultra смешались между собой"
   ]
  },
  {
   "cell_type": "code",
   "execution_count": 63,
   "metadata": {
    "scrolled": true
   },
   "outputs": [
    {
     "data": {
      "text/plain": [
       "'p-значение:'"
      ]
     },
     "metadata": {},
     "output_type": "display_data"
    },
    {
     "data": {
      "text/plain": [
       "0.4668031150367593"
      ]
     },
     "metadata": {},
     "output_type": "display_data"
    },
    {
     "name": "stdout",
     "output_type": "stream",
     "text": [
      "Не получилось отвергнуть нулевую гипотезу\n"
     ]
    }
   ],
   "source": [
    "display('p-значение:',results_2.pvalue)\n",
    "\n",
    "if (results_2.pvalue < alpha):\n",
    "    print(\"Отвергаем нулевую гипотезу\")\n",
    "else:\n",
    "    print(\"Не получилось отвергнуть нулевую гипотезу\")"
   ]
  },
  {
   "cell_type": "markdown",
   "metadata": {},
   "source": [
    "<div class=\"alert alert-anger\">\n",
    "<font size=\"4\"><b>❌ Комментарий ревьюера</b></font>\n",
    "    <br /> \n",
    "    <font size=\"3\", color = \"black\">\n",
    "<br /> Что означает на языке статистики p-значение: 0.4119498315527389"
   ]
  },
  {
   "cell_type": "markdown",
   "metadata": {},
   "source": [
    "<div style=\"border:solid steelblue 3px; padding: 20px\">\n",
    "<font size=\"3\">🍕<b> Комментарий студента</b></font>\n",
    "<br /> \n",
    "<font size=\"2\", color = \"black\">\n",
    "<br />\n",
    "С вероятностью в 41% такой результат может быть получен случайно. Значимых различий нет."
   ]
  },
  {
   "cell_type": "markdown",
   "metadata": {},
   "source": [
    "**Вывод**: Значимых различий нет "
   ]
  },
  {
   "cell_type": "markdown",
   "metadata": {},
   "source": [
    "## Общий вывод"
   ]
  },
  {
   "cell_type": "markdown",
   "metadata": {},
   "source": [
    "**Выводы**:\n",
    "- Пользователи на ultra и smart по-разному тратят ресурсы тарифа. Это логично, у всех разные запросы на звонки, смс и интернет. В этом и суть разных тарифов\n",
    "- Звонки нужны. Но количество минут стоит, включенных в ultra, стоит пересмотреть\n",
    "- СМС не нужны. Пользователи на smart тратят в среднем около половины своих смс. На ultra снова остаётся очень большой запас. Некоторые пользователи вообще не пишут смс( не пользуются данным видом услуг)\n",
    "- Интернет нужнее всего. На ultra интернет тратится рационально, на smart же пользователи постоянно заходят в доп.оплату\n",
    "- Статистической разницы между выручками по пользователям из Москвы и остальных городов нет\n"
   ]
  },
  {
   "cell_type": "markdown",
   "metadata": {},
   "source": [
    "**Рекомендаци**:\n",
    "- Самое очевидное: необходимо рассмотреть введение нового тарифа ( или даже нескольких) с пакетами звонков, смс и интернета между тарифами smart и ultra. Не хватает промежуточных значений между 500 и 3000 минут, 50 и 1000 смс, 15ГБ и 30 ГБ интернета\n",
    "- Или провести ребалансировку ultra по звонкам и смс, а smart по интернету \n",
    "- Или дать возможность пользователям конвертировать по собственному желанию( например, ненужные смс в нужный интернет) "
   ]
  },
  {
   "cell_type": "markdown",
   "metadata": {},
   "source": [
    "<div class=\"alert alert-anger\">\n",
    "<font size=\"4\"><b>❌ Комментарий ревьюера</b></font>\n",
    "    <br /> \n",
    "    <font size=\"3\", color = \"black\">\n",
    "<br />Классный вывод, отвечающий почти на все вопросы проекта\n",
    "        \n",
    "осталось добавить итоговую рекомендацию, у нас два задачи\n",
    "\n",
    "        из брифа проекта\n",
    "\n",
    "Чтобы скорректировать рекламный бюджет, коммерческий департамент хочет понять, какой тариф приносит больше денег — на этот вопрос  предстоит ответить\n",
    "\n",
    "Вам предстоит сделать предварительный анализ тарифов на небольшой выборке клиентов. В вашем распоряжении данные 500 пользователей «Мегалайна»: кто они, откуда, каким тарифом пользуются, сколько звонков и сообщений каждый отправил за 2018 год. Нужно проанализировать поведение клиентов и сделать вывод — какой тариф лучше. — частично мы ответили\n",
    "        \n",
    "Плюс \n",
    "        \n",
    "Большинство руководителей, экономя свое время, начинают читать отчет аналитика с итогового вывода, и только найдя в нем интересную информацию могут проглядеть весь остальной отчет, но большая часть внимания будет сосредоточена на итоговых выводах.\n",
    "\n",
    "Стоит добавить 4-7 пар чисел (раскрывающие поведение клиента) + сравнение показателей годовой выручки по двум тарифам за 2018 год"
   ]
  },
  {
   "cell_type": "markdown",
   "metadata": {},
   "source": [
    "<div style=\"border:solid steelblue 3px; padding: 20px\">\n",
    "<font size=\"3\">🍕<b> Комментарий студента</b></font>\n",
    "<br /> \n",
    "<font size=\"2\", color = \"black\">\n",
    "<br />\n",
    "Добавил ниже"
   ]
  },
  {
   "cell_type": "markdown",
   "metadata": {},
   "source": [
    "Посмотрим на значение выручки по двум тарифам за 2018 год"
   ]
  },
  {
   "cell_type": "markdown",
   "metadata": {},
   "source": [
    "<div class=\"alert alert-success\">\n",
    "<font size=\"5\", color= \"seagreen\"><b>✔️ Комментарий ревьюера</b></font>\n",
    "    <br /> \n",
    "    <font size=\"3\", color = \"black\">\n",
    "<br />   \n",
    "Ты выполнил практически все пункты проекта, молодец! Проведен значительный объем исследования деятельности компании\n",
    "        \n",
    "Критические ❌ комментарии связаны с неточностями: \n",
    "        \n",
    " + при округлении,  \n",
    " + при объединении таблиц, \n",
    " + в разделе расчета средних, std, var поменять выборки для гистограмм\n",
    " + в разделе проверки гипотез можно более подробно расшифровать значение p_value\n",
    " + перепроверить все числа итогового вывода после исправления неточностей\n",
    " + дополнить итоговый вывод        \n",
    "\n",
    "Если будут вопросы про мои комментарии - задавай, если какой-то формат взаимодействия не устраивает или есть какие-то другие пожелания - пиши :)\n",
    "\n",
    "<div class=\"alert alert-success\">\n",
    "    <font size=\"5\", color= \"seagreen\"><b>Жду твой проект и твои комментарии 🤝</b></font><br />"
   ]
  },
  {
   "cell_type": "markdown",
   "metadata": {},
   "source": [
    "<div style=\"border:solid steelblue 3px; padding: 20px\">\n",
    "<font size=\"4\">🍕<b> Комментарий ревьюера</b></font>\n",
    "<br /> \n",
    "<font size=\"3\", color = \"black\">\n",
    "<br />\n",
    "<b>Для размышлений</b>\n",
    "    \n",
    "Общие рекомендации для формирования целей бизнес-исследований и выводов, для бизнеса м.б. полезна подобная информация:\n",
    "\n",
    "+ Расчет ср. длительности пользования тарифом, ultra vs smart по различным группам (объединение по месяцу, городу ...)\n",
    "\n",
    "+ Скорость оттока пользователей и связана она с тарифом\n",
    "\n",
    "+ <b>Ускоряется ли отток клиентов</b>\n",
    "            \n",
    "+ Скорость подключения клиентов по городам (в каких городах быстрее)\n",
    "\n",
    "+ Кто чем больше пользуется — распределение по возрастным группам (молодежь интернетом, более старшее поколение - звонками)\n",
    "            \n",
    "Окончательный вывод может стать диаметрально противоположным, если мы проведем пару-тройку дополнительных исследований, т.к. в их результатах могут быть скрыты те самые инсайты, за которые бизнес платит деньги аналитикам 😉 (необязательно)\n",
    "\n",
    "И это не весь перечень возможных бизнес задач. В середине второго модуля нас ждет 📖 курс «Анализ бизнес-показателей», на котором мы научимся решать подобные и чуть более сложные, но интересные задачи. Умение и навыки решения которых востребованы на рынке труда 💰\n",
    "\n",
    "\n",
    "Интересные методы группировки и расчета суммы, средних и т.д.\n",
    "        \n",
    "[Подробное руководство по группировке и агрегированию с помощью pandas](https://dfedorov.spb.ru/pandas/%D0%9F%D0%BE%D0%B4%D1%80%D0%BE%D0%B1%D0%BD%D0%BE%D0%B5%20%D1%80%D1%83%D0%BA%D0%BE%D0%B2%D0%BE%D0%B4%D1%81%D1%82%D0%B2%D0%BE%20%D0%BF%D0%BE%20%D0%B3%D1%80%D1%83%D0%BF%D0%BF%D0%B8%D1%80%D0%BE%D0%B2%D0%BA%D0%B5%20%D0%B8%20%D0%B0%D0%B3%D1%80%D0%B5%D0%B3%D0%B8%D1%80%D0%BE%D0%B2%D0%B0%D0%BD%D0%B8%D1%8E%20%D1%81%20%D0%BF%D0%BE%D0%BC%D0%BE%D1%89%D1%8C%D1%8E%20pandas.html)\n",
    "\n",
    "<a href=\"https://mipt-stats.gitlab.io/courses/python/09_seaborn.html\">Библиотека Seaborn (источник Физтех)</a>\n",
    "    \n",
    "В помощь — как реализовать интерактивный план проекта вручную, смотри по <a href=\"https://stackoverflow.com/questions/49535664/how-to-hyperlink-in-a-jupyter-notebook/49717704\">ссылке</a>\n",
    "    \n",
    "пара ссылок и по разделам проекта можно будет переходить без пролистывания всего кода, особенно актуально на проектах длина которых >  10 страниц (и там где не установлен плагин TOC)\n",
    "\n",
    "[Примеры объединения таблиц](https://pandas-docs.github.io/pandas-docs-travis/user_guide/merging.html)\n",
    "    \n",
    "    \n",
    "[Искусство статистики](https://www.mann-ivanov-ferber.ru/books/iskusstvo-statistiki/)\n",
    "    \n",
    "    \n",
    "</div>"
   ]
  },
  {
   "cell_type": "markdown",
   "metadata": {},
   "source": [
    "<div style=\"border:solid steelblue 3px; padding: 20px\">\n",
    "<font size=\"4\">🍕<b> Комментарий ревьюера в2</b></font>\n",
    "<br /> \n",
    "<font size=\"3\", color = \"black\">\n",
    "<br />\n",
    "вариант для сравнения тарифов, диаграмма размаха основной тип графика для сравнения показателей описательной статистики"
   ]
  },
  {
   "cell_type": "code",
   "execution_count": 64,
   "metadata": {},
   "outputs": [
    {
     "data": {
      "text/plain": [
       "Index(['user_id', 'month', 'total_calls_by_month', 'duraction_by_month',\n",
       "       'total_messages_by_month', 'total_mb_by_month', 'age', 'churn_date',\n",
       "       'city', 'first_name', 'last_name', 'reg_date', 'tariff',\n",
       "       'messages_included', 'mb_per_month_included', 'minutes_included',\n",
       "       'rub_monthly_fee', 'rub_per_gb', 'rub_per_message', 'rub_per_minute',\n",
       "       'above_the_limit_tariff', 'total_revenue'],\n",
       "      dtype='object')"
      ]
     },
     "execution_count": 64,
     "metadata": {},
     "output_type": "execute_result"
    }
   ],
   "source": [
    "df.columns"
   ]
  },
  {
   "cell_type": "code",
   "execution_count": 65,
   "metadata": {},
   "outputs": [],
   "source": [
    "import seaborn as sns\n",
    "import matplotlib.pyplot as plt"
   ]
  },
  {
   "cell_type": "code",
   "execution_count": 66,
   "metadata": {},
   "outputs": [
    {
     "data": {
      "image/png": "[encoded data removed]",
      "text/plain": [
       "<Figure size 864x144 with 1 Axes>"
      ]
     },
     "metadata": {
      "needs_background": "light"
     },
     "output_type": "display_data"
    },
    {
     "data": {
      "image/png": "[encoded data removed]",
      "text/plain": [
       "<Figure size 864x144 with 1 Axes>"
      ]
     },
     "metadata": {
      "needs_background": "light"
     },
     "output_type": "display_data"
    },
    {
     "data": {
      "image/png": "[encoded data removed]",
      "text/plain": [
       "<Figure size 864x144 with 1 Axes>"
      ]
     },
     "metadata": {
      "needs_background": "light"
     },
     "output_type": "display_data"
    },
    {
     "data": {
      "image/png": "[encoded data removed]",
      "text/plain": [
       "<Figure size 864x144 with 1 Axes>"
      ]
     },
     "metadata": {
      "needs_background": "light"
     },
     "output_type": "display_data"
    },
    {
     "data": {
      "image/png": "[encoded data removed]",
      "text/plain": [
       "<Figure size 864x144 with 1 Axes>"
      ]
     },
     "metadata": {
      "needs_background": "light"
     },
     "output_type": "display_data"
    }
   ],
   "source": [
    "\n",
    "for column in ['total_calls_by_month', 'duraction_by_month',\n",
    "       'total_messages_by_month', 'total_mb_by_month', 'total_revenue']:    \n",
    "    g = sns.catplot(y='tariff', x=column, kind=\"box\", data=df, orient='h', palette = 'pastel')\n",
    "    g.fig.set_figwidth(12)\n",
    "    g.fig.set_figheight(2)"
   ]
  },
  {
   "cell_type": "code",
   "execution_count": 67,
   "metadata": {},
   "outputs": [
    {
     "data": {
      "image/png": "[encoded data removed]",
      "text/plain": [
       "<Figure size 720x288 with 1 Axes>"
      ]
     },
     "metadata": {
      "needs_background": "light"
     },
     "output_type": "display_data"
    }
   ],
   "source": [
    "(df\n",
    " .pivot_table(index='tariff', columns='month', values='user_id', aggfunc='count')\n",
    " .T\n",
    " .plot(kind='line', figsize=(10,4),  style = 'o-')\n",
    ")\n",
    "plt.title('Рост кол-ва клиентов по 2-м тарифам за год'+ \"\\n\")\n",
    "plt.xlabel('Месяц')\n",
    "plt.ylabel('кол-во');"
   ]
  },
  {
   "cell_type": "code",
   "execution_count": 68,
   "metadata": {},
   "outputs": [
    {
     "data": {
      "image/png": "[encoded data removed]",
      "text/plain": [
       "<Figure size 720x288 with 1 Axes>"
      ]
     },
     "metadata": {
      "needs_background": "light"
     },
     "output_type": "display_data"
    }
   ],
   "source": [
    "(df\n",
    " .pivot_table(index='tariff', columns='month', values='total_revenue', aggfunc='mean')\n",
    " .T\n",
    " .plot(kind='line', figsize=(10,4),  style = 'o-')\n",
    ")\n",
    "plt.title('Средняя ежемесячная выручка от одного абонента'+ \"\\n\")\n",
    "plt.xlabel('Месяц')\n",
    "plt.ylabel('Рубли');"
   ]
  },
  {
   "cell_type": "code",
   "execution_count": 69,
   "metadata": {},
   "outputs": [
    {
     "data": {
      "image/png": "[encoded data removed]",
      "text/plain": [
       "<Figure size 720x288 with 1 Axes>"
      ]
     },
     "metadata": {
      "needs_background": "light"
     },
     "output_type": "display_data"
    }
   ],
   "source": [
    "(df\n",
    " .pivot_table(index='tariff', columns='month', values='total_revenue', aggfunc='sum')\n",
    " .T\n",
    " .plot(kind='line', figsize=(10,4),  style = 'o-')\n",
    ")\n",
    "plt.title('Суммарная ежемесячная выручка по 2-м тарифам'+ \"\\n\")\n",
    "plt.xlabel('Месяц')\n",
    "plt.ylabel('Рубли');"
   ]
  },
  {
   "cell_type": "markdown",
   "metadata": {},
   "source": [
    "# выручка от смартов уже в два раза выше выручки от ультры, но есть опасность - убегут клиенты смарт от такой счастливой жизни к конкурентам :)"
   ]
  },
  {
   "cell_type": "code",
   "execution_count": 70,
   "metadata": {},
   "outputs": [
    {
     "name": "stdout",
     "output_type": "stream",
     "text": [
      "Кол-во клентов покинувших компанию за год 38\n",
      "Кол-во клентов покинувших компанию за посл. 4 мес. 2018 г. на двух тарифах 35\n",
      "%  от общего кол-ва всех клиентов, покинувших компанию за посл. 4 мес. 2018 г. на двух тарифах 92.1\n",
      "Распределение оттока клиентов на тарифах за посл. 4 мес. 2018 г.\n"
     ]
    },
    {
     "data": {
      "text/html": [
       "<div>\n",
       "<style scoped>\n",
       "    .dataframe tbody tr th:only-of-type {\n",
       "        vertical-align: middle;\n",
       "    }\n",
       "\n",
       "    .dataframe tbody tr th {\n",
       "        vertical-align: top;\n",
       "    }\n",
       "\n",
       "    .dataframe thead th {\n",
       "        text-align: right;\n",
       "    }\n",
       "</style>\n",
       "<table border=\"1\" class=\"dataframe\">\n",
       "  <thead>\n",
       "    <tr style=\"text-align: right;\">\n",
       "      <th></th>\n",
       "      <th>churn_date</th>\n",
       "    </tr>\n",
       "    <tr>\n",
       "      <th>tariff</th>\n",
       "      <th></th>\n",
       "    </tr>\n",
       "  </thead>\n",
       "  <tbody>\n",
       "    <tr>\n",
       "      <th>smart</th>\n",
       "      <td>22</td>\n",
       "    </tr>\n",
       "    <tr>\n",
       "      <th>ultra</th>\n",
       "      <td>13</td>\n",
       "    </tr>\n",
       "  </tbody>\n",
       "</table>\n",
       "</div>"
      ],
      "text/plain": [
       "        churn_date\n",
       "tariff            \n",
       "smart           22\n",
       "ultra           13"
      ]
     },
     "execution_count": 70,
     "metadata": {},
     "output_type": "execute_result"
    }
   ],
   "source": [
    "# на скорую руку\n",
    "df_users = pd.read_csv('/datasets/users.csv')\n",
    "\n",
    "print ('Кол-во клентов покинувших компанию за год', df_users.churn_date.notna().sum())\n",
    "\n",
    "print ('Кол-во клентов покинувших компанию за посл. 4 мес. 2018 г. на двух тарифах',\n",
    "       df_users.query('churn_date > \"2018-09-25\"').churn_date.notna().sum()\n",
    "      )\n",
    "print ('%  от общего кол-ва всех клиентов, покинувших компанию за посл. 4 мес. 2018 г. на двух тарифах',\n",
    "    (df_users.query('churn_date > \"2018-09-25\"').churn_date.notna().sum()/df_users.churn_date.notna().sum()*100).round(1)\n",
    ")\n",
    "\n",
    "print ('Распределение оттока клиентов на тарифах за посл. 4 мес. 2018 г.')\n",
    "df_users.query('churn_date > \"2018-09-25\"').groupby('tariff')['churn_date'].count().to_frame()"
   ]
  },
  {
   "cell_type": "markdown",
   "metadata": {},
   "source": [
    "# отток усиливается?\n",
    "\n",
    "# мы не ограничены в рекомендациях бизнесу только двумя тарифами, если мы видим риски для бизнеса мы можем предложить и третий и четвертый вариант развития тарифной политики"
   ]
  },
  {
   "cell_type": "code",
   "execution_count": null,
   "metadata": {},
   "outputs": [],
   "source": []
  }
 ],
 "metadata": {
  "ExecuteTimeLog": [
   {
    "duration": 1524,
    "start_time": "2022-05-05T17:38:24.756Z"
   },
   {
    "duration": 4,
    "start_time": "2022-05-05T17:39:11.852Z"
   },
   {
    "duration": 595,
    "start_time": "2022-05-05T17:39:46.146Z"
   },
   {
    "duration": 18,
    "start_time": "2022-05-05T17:44:39.957Z"
   },
   {
    "duration": 12,
    "start_time": "2022-05-05T17:45:05.318Z"
   },
   {
    "duration": 24,
    "start_time": "2022-05-05T17:45:23.135Z"
   },
   {
    "duration": 41,
    "start_time": "2022-05-05T17:45:51.782Z"
   },
   {
    "duration": 59,
    "start_time": "2022-05-05T17:46:17.930Z"
   },
   {
    "duration": 76,
    "start_time": "2022-05-05T17:54:59.426Z"
   },
   {
    "duration": 97,
    "start_time": "2022-05-05T18:03:00.261Z"
   },
   {
    "duration": 157,
    "start_time": "2022-05-05T18:06:48.921Z"
   },
   {
    "duration": 105,
    "start_time": "2022-05-05T18:11:29.078Z"
   },
   {
    "duration": 13,
    "start_time": "2022-05-05T18:18:46.189Z"
   },
   {
    "duration": 11,
    "start_time": "2022-05-05T18:19:20.356Z"
   },
   {
    "duration": 12,
    "start_time": "2022-05-05T18:19:27.279Z"
   },
   {
    "duration": 818,
    "start_time": "2022-05-05T18:22:23.943Z"
   },
   {
    "duration": 53,
    "start_time": "2022-05-05T18:23:47.898Z"
   },
   {
    "duration": 8,
    "start_time": "2022-05-05T18:32:52.636Z"
   },
   {
    "duration": 13,
    "start_time": "2022-05-05T18:36:05.319Z"
   },
   {
    "duration": 9,
    "start_time": "2022-05-05T18:36:32.679Z"
   },
   {
    "duration": 5,
    "start_time": "2022-05-05T18:36:46.993Z"
   },
   {
    "duration": 11,
    "start_time": "2022-05-05T18:38:38.166Z"
   },
   {
    "duration": 24,
    "start_time": "2022-05-05T18:38:43.309Z"
   },
   {
    "duration": 8,
    "start_time": "2022-05-05T18:38:47.239Z"
   },
   {
    "duration": 187,
    "start_time": "2022-05-05T18:41:35.322Z"
   },
   {
    "duration": 4,
    "start_time": "2022-05-05T18:41:45.966Z"
   },
   {
    "duration": 5,
    "start_time": "2022-05-05T18:42:38.860Z"
   },
   {
    "duration": 11,
    "start_time": "2022-05-05T18:42:49.789Z"
   },
   {
    "duration": 6,
    "start_time": "2022-05-05T18:43:04.104Z"
   },
   {
    "duration": 3,
    "start_time": "2022-05-05T18:43:11.434Z"
   },
   {
    "duration": 5,
    "start_time": "2022-05-05T18:43:23.909Z"
   },
   {
    "duration": 12,
    "start_time": "2022-05-05T18:44:02.988Z"
   },
   {
    "duration": 11,
    "start_time": "2022-05-05T18:44:22.761Z"
   },
   {
    "duration": 7,
    "start_time": "2022-05-05T18:44:46.246Z"
   },
   {
    "duration": 3,
    "start_time": "2022-05-05T18:44:58.745Z"
   },
   {
    "duration": 21,
    "start_time": "2022-05-05T18:45:02.717Z"
   },
   {
    "duration": 10,
    "start_time": "2022-05-05T18:45:18.094Z"
   },
   {
    "duration": 4,
    "start_time": "2022-05-05T18:46:19.383Z"
   },
   {
    "duration": 9,
    "start_time": "2022-05-05T18:46:31.297Z"
   },
   {
    "duration": 3,
    "start_time": "2022-05-05T18:47:45.944Z"
   },
   {
    "duration": 4,
    "start_time": "2022-05-05T18:47:58.238Z"
   },
   {
    "duration": 7,
    "start_time": "2022-05-05T18:48:09.218Z"
   },
   {
    "duration": 9,
    "start_time": "2022-05-05T18:48:59.965Z"
   },
   {
    "duration": 12,
    "start_time": "2022-05-05T18:49:10.595Z"
   },
   {
    "duration": 7,
    "start_time": "2022-05-05T18:50:04.227Z"
   },
   {
    "duration": 3,
    "start_time": "2022-05-05T18:50:10.127Z"
   },
   {
    "duration": 6,
    "start_time": "2022-05-05T18:50:16.727Z"
   },
   {
    "duration": 8,
    "start_time": "2022-05-05T18:50:43.797Z"
   },
   {
    "duration": 9,
    "start_time": "2022-05-05T18:54:13.412Z"
   },
   {
    "duration": 12,
    "start_time": "2022-05-05T18:54:18.791Z"
   },
   {
    "duration": 49,
    "start_time": "2022-05-05T18:57:33.181Z"
   },
   {
    "duration": 121,
    "start_time": "2022-05-05T18:57:47.311Z"
   },
   {
    "duration": 138,
    "start_time": "2022-05-05T18:58:50.426Z"
   },
   {
    "duration": 32,
    "start_time": "2022-05-05T18:58:55.386Z"
   },
   {
    "duration": 55,
    "start_time": "2022-05-05T18:59:06.792Z"
   },
   {
    "duration": 2366,
    "start_time": "2022-05-06T15:38:54.939Z"
   },
   {
    "duration": 613,
    "start_time": "2022-05-06T15:38:57.309Z"
   },
   {
    "duration": 118,
    "start_time": "2022-05-06T15:38:57.925Z"
   },
   {
    "duration": 123,
    "start_time": "2022-05-06T15:38:58.046Z"
   },
   {
    "duration": 86,
    "start_time": "2022-05-06T15:38:58.171Z"
   },
   {
    "duration": 122,
    "start_time": "2022-05-06T15:38:58.259Z"
   },
   {
    "duration": 5,
    "start_time": "2022-05-06T15:38:58.383Z"
   },
   {
    "duration": 51,
    "start_time": "2022-05-06T15:38:58.390Z"
   },
   {
    "duration": 79,
    "start_time": "2022-05-06T15:38:58.444Z"
   },
   {
    "duration": 11,
    "start_time": "2022-05-06T15:38:58.531Z"
   },
   {
    "duration": 11,
    "start_time": "2022-05-06T15:38:58.544Z"
   },
   {
    "duration": 11,
    "start_time": "2022-05-06T15:38:58.557Z"
   },
   {
    "duration": 98,
    "start_time": "2022-05-06T15:38:58.570Z"
   },
   {
    "duration": 143,
    "start_time": "2022-05-06T15:38:58.671Z"
   },
   {
    "duration": 41,
    "start_time": "2022-05-06T15:38:58.816Z"
   },
   {
    "duration": 87,
    "start_time": "2022-05-06T15:38:58.859Z"
   },
   {
    "duration": 58,
    "start_time": "2022-05-06T15:42:03.785Z"
   },
   {
    "duration": 103,
    "start_time": "2022-05-06T15:42:28.985Z"
   },
   {
    "duration": 6,
    "start_time": "2022-05-06T15:46:27.575Z"
   },
   {
    "duration": 8,
    "start_time": "2022-05-06T15:47:16.900Z"
   },
   {
    "duration": 99,
    "start_time": "2022-05-06T16:00:01.772Z"
   },
   {
    "duration": 114,
    "start_time": "2022-05-06T16:00:58.566Z"
   },
   {
    "duration": 138,
    "start_time": "2022-05-06T16:09:00.899Z"
   },
   {
    "duration": 64,
    "start_time": "2022-05-06T16:09:21.600Z"
   },
   {
    "duration": 127,
    "start_time": "2022-05-06T16:21:29.448Z"
   },
   {
    "duration": 63,
    "start_time": "2022-05-06T16:21:38.777Z"
   },
   {
    "duration": 77,
    "start_time": "2022-05-06T16:21:49.659Z"
   },
   {
    "duration": 62,
    "start_time": "2022-05-06T16:25:20.472Z"
   },
   {
    "duration": 73,
    "start_time": "2022-05-06T16:25:29.846Z"
   },
   {
    "duration": 67,
    "start_time": "2022-05-06T16:27:10.810Z"
   },
   {
    "duration": 43,
    "start_time": "2022-05-06T16:27:17.090Z"
   },
   {
    "duration": 69,
    "start_time": "2022-05-06T16:28:40.477Z"
   },
   {
    "duration": 81,
    "start_time": "2022-05-06T16:29:34.696Z"
   },
   {
    "duration": 49,
    "start_time": "2022-05-06T16:31:08.723Z"
   },
   {
    "duration": 28,
    "start_time": "2022-05-06T17:23:34.084Z"
   },
   {
    "duration": 39,
    "start_time": "2022-05-06T17:25:07.642Z"
   },
   {
    "duration": 163,
    "start_time": "2022-05-06T17:29:27.731Z"
   },
   {
    "duration": 30,
    "start_time": "2022-05-06T17:29:38.060Z"
   },
   {
    "duration": 12,
    "start_time": "2022-05-06T17:30:05.449Z"
   },
   {
    "duration": 46,
    "start_time": "2022-05-06T17:30:24.751Z"
   },
   {
    "duration": 51,
    "start_time": "2022-05-06T17:34:50.237Z"
   },
   {
    "duration": 4,
    "start_time": "2022-05-06T17:35:09.136Z"
   },
   {
    "duration": 551,
    "start_time": "2022-05-06T17:35:09.143Z"
   },
   {
    "duration": 68,
    "start_time": "2022-05-06T17:35:09.697Z"
   },
   {
    "duration": 125,
    "start_time": "2022-05-06T17:35:09.767Z"
   },
   {
    "duration": 84,
    "start_time": "2022-05-06T17:35:09.895Z"
   },
   {
    "duration": 120,
    "start_time": "2022-05-06T17:35:09.981Z"
   },
   {
    "duration": 6,
    "start_time": "2022-05-06T17:35:10.124Z"
   },
   {
    "duration": 17,
    "start_time": "2022-05-06T17:35:10.132Z"
   },
   {
    "duration": 94,
    "start_time": "2022-05-06T17:35:10.151Z"
   },
   {
    "duration": 9,
    "start_time": "2022-05-06T17:35:10.248Z"
   },
   {
    "duration": 16,
    "start_time": "2022-05-06T17:35:10.260Z"
   },
   {
    "duration": 12,
    "start_time": "2022-05-06T17:35:10.279Z"
   },
   {
    "duration": 50,
    "start_time": "2022-05-06T17:35:10.329Z"
   },
   {
    "duration": 176,
    "start_time": "2022-05-06T17:35:10.381Z"
   },
   {
    "duration": 33,
    "start_time": "2022-05-06T17:35:10.560Z"
   },
   {
    "duration": 85,
    "start_time": "2022-05-06T17:35:10.595Z"
   },
   {
    "duration": 51,
    "start_time": "2022-05-06T17:35:10.683Z"
   },
   {
    "duration": 66,
    "start_time": "2022-05-06T17:35:10.736Z"
   },
   {
    "duration": 7,
    "start_time": "2022-05-06T17:35:10.825Z"
   },
   {
    "duration": 13,
    "start_time": "2022-05-06T17:35:10.834Z"
   },
   {
    "duration": 130,
    "start_time": "2022-05-06T17:35:10.849Z"
   },
   {
    "duration": 81,
    "start_time": "2022-05-06T17:35:10.981Z"
   },
   {
    "duration": 74,
    "start_time": "2022-05-06T17:35:11.064Z"
   },
   {
    "duration": 41,
    "start_time": "2022-05-06T17:35:11.140Z"
   },
   {
    "duration": 98,
    "start_time": "2022-05-06T17:35:11.183Z"
   },
   {
    "duration": 63,
    "start_time": "2022-05-06T17:35:11.283Z"
   },
   {
    "duration": 37,
    "start_time": "2022-05-06T17:35:11.349Z"
   },
   {
    "duration": 30,
    "start_time": "2022-05-06T17:35:22.028Z"
   },
   {
    "duration": 12,
    "start_time": "2022-05-06T17:36:57.041Z"
   },
   {
    "duration": 228,
    "start_time": "2022-05-06T17:39:06.796Z"
   },
   {
    "duration": 30,
    "start_time": "2022-05-06T17:41:27.900Z"
   },
   {
    "duration": 27,
    "start_time": "2022-05-06T17:41:41.068Z"
   },
   {
    "duration": 33,
    "start_time": "2022-05-06T17:41:46.018Z"
   },
   {
    "duration": 57,
    "start_time": "2022-05-06T17:41:59.157Z"
   },
   {
    "duration": 50,
    "start_time": "2022-05-06T17:42:04.305Z"
   },
   {
    "duration": 4,
    "start_time": "2022-05-06T17:44:08.733Z"
   },
   {
    "duration": 545,
    "start_time": "2022-05-06T17:44:08.740Z"
   },
   {
    "duration": 81,
    "start_time": "2022-05-06T17:44:09.287Z"
   },
   {
    "duration": 131,
    "start_time": "2022-05-06T17:44:09.372Z"
   },
   {
    "duration": 80,
    "start_time": "2022-05-06T17:44:09.505Z"
   },
   {
    "duration": 145,
    "start_time": "2022-05-06T17:44:09.587Z"
   },
   {
    "duration": 5,
    "start_time": "2022-05-06T17:44:09.734Z"
   },
   {
    "duration": 19,
    "start_time": "2022-05-06T17:44:09.741Z"
   },
   {
    "duration": 98,
    "start_time": "2022-05-06T17:44:09.763Z"
   },
   {
    "duration": 8,
    "start_time": "2022-05-06T17:44:09.864Z"
   },
   {
    "duration": 12,
    "start_time": "2022-05-06T17:44:09.875Z"
   },
   {
    "duration": 42,
    "start_time": "2022-05-06T17:44:09.890Z"
   },
   {
    "duration": 51,
    "start_time": "2022-05-06T17:44:09.935Z"
   },
   {
    "duration": 176,
    "start_time": "2022-05-06T17:44:09.988Z"
   },
   {
    "duration": 31,
    "start_time": "2022-05-06T17:44:10.167Z"
   },
   {
    "duration": 83,
    "start_time": "2022-05-06T17:44:10.201Z"
   },
   {
    "duration": 51,
    "start_time": "2022-05-06T17:44:10.286Z"
   },
   {
    "duration": 70,
    "start_time": "2022-05-06T17:44:10.339Z"
   },
   {
    "duration": 6,
    "start_time": "2022-05-06T17:44:10.424Z"
   },
   {
    "duration": 12,
    "start_time": "2022-05-06T17:44:10.432Z"
   },
   {
    "duration": 124,
    "start_time": "2022-05-06T17:44:10.446Z"
   },
   {
    "duration": 82,
    "start_time": "2022-05-06T17:44:10.572Z"
   },
   {
    "duration": 76,
    "start_time": "2022-05-06T17:44:10.657Z"
   },
   {
    "duration": 46,
    "start_time": "2022-05-06T17:44:10.737Z"
   },
   {
    "duration": 112,
    "start_time": "2022-05-06T17:44:10.786Z"
   },
   {
    "duration": 64,
    "start_time": "2022-05-06T17:44:10.900Z"
   },
   {
    "duration": 60,
    "start_time": "2022-05-06T17:44:10.966Z"
   },
   {
    "duration": 14,
    "start_time": "2022-05-06T17:44:45.758Z"
   },
   {
    "duration": 14,
    "start_time": "2022-05-06T17:44:47.892Z"
   },
   {
    "duration": 44,
    "start_time": "2022-05-06T17:44:50.765Z"
   },
   {
    "duration": 25,
    "start_time": "2022-05-06T17:44:55.944Z"
   },
   {
    "duration": 12,
    "start_time": "2022-05-06T17:48:25.152Z"
   },
   {
    "duration": 10,
    "start_time": "2022-05-06T17:51:43.639Z"
   },
   {
    "duration": 19,
    "start_time": "2022-05-06T17:51:49.550Z"
   },
   {
    "duration": 15,
    "start_time": "2022-05-06T17:52:11.114Z"
   },
   {
    "duration": 26,
    "start_time": "2022-05-06T18:00:20.662Z"
   },
   {
    "duration": 5,
    "start_time": "2022-05-06T18:08:07.421Z"
   },
   {
    "duration": 51,
    "start_time": "2022-05-06T18:16:01.705Z"
   },
   {
    "duration": 7,
    "start_time": "2022-05-06T18:16:12.793Z"
   },
   {
    "duration": 2024,
    "start_time": "2022-05-06T18:16:17.000Z"
   },
   {
    "duration": 8,
    "start_time": "2022-05-06T18:17:42.087Z"
   },
   {
    "duration": 175,
    "start_time": "2022-05-06T18:17:45.202Z"
   },
   {
    "duration": 71,
    "start_time": "2022-05-06T18:18:23.703Z"
   },
   {
    "duration": 2066,
    "start_time": "2022-05-06T18:22:37.716Z"
   },
   {
    "duration": 12,
    "start_time": "2022-05-06T18:22:52.642Z"
   },
   {
    "duration": 36,
    "start_time": "2022-05-06T18:23:02.291Z"
   },
   {
    "duration": 2237,
    "start_time": "2022-05-07T13:25:39.585Z"
   },
   {
    "duration": 1073,
    "start_time": "2022-05-07T13:25:41.825Z"
   },
   {
    "duration": 110,
    "start_time": "2022-05-07T13:25:42.901Z"
   },
   {
    "duration": 115,
    "start_time": "2022-05-07T13:25:43.013Z"
   },
   {
    "duration": 99,
    "start_time": "2022-05-07T13:25:43.133Z"
   },
   {
    "duration": 148,
    "start_time": "2022-05-07T13:25:43.234Z"
   },
   {
    "duration": 5,
    "start_time": "2022-05-07T13:25:43.384Z"
   },
   {
    "duration": 15,
    "start_time": "2022-05-07T13:25:43.392Z"
   },
   {
    "duration": 100,
    "start_time": "2022-05-07T13:25:43.409Z"
   },
   {
    "duration": 12,
    "start_time": "2022-05-07T13:25:43.512Z"
   },
   {
    "duration": 16,
    "start_time": "2022-05-07T13:25:43.527Z"
   },
   {
    "duration": 42,
    "start_time": "2022-05-07T13:25:43.545Z"
   },
   {
    "duration": 79,
    "start_time": "2022-05-07T13:25:43.589Z"
   },
   {
    "duration": 147,
    "start_time": "2022-05-07T13:25:43.673Z"
   },
   {
    "duration": 31,
    "start_time": "2022-05-07T13:25:43.823Z"
   },
   {
    "duration": 89,
    "start_time": "2022-05-07T13:25:43.857Z"
   },
   {
    "duration": 55,
    "start_time": "2022-05-07T13:25:43.949Z"
   },
   {
    "duration": 77,
    "start_time": "2022-05-07T13:25:44.007Z"
   },
   {
    "duration": 5,
    "start_time": "2022-05-07T13:25:44.086Z"
   },
   {
    "duration": 11,
    "start_time": "2022-05-07T13:25:44.093Z"
   },
   {
    "duration": 133,
    "start_time": "2022-05-07T13:25:44.106Z"
   },
   {
    "duration": 78,
    "start_time": "2022-05-07T13:25:44.241Z"
   },
   {
    "duration": 78,
    "start_time": "2022-05-07T13:25:44.321Z"
   },
   {
    "duration": 46,
    "start_time": "2022-05-07T13:25:44.402Z"
   },
   {
    "duration": 104,
    "start_time": "2022-05-07T13:25:44.450Z"
   },
   {
    "duration": 59,
    "start_time": "2022-05-07T13:25:44.556Z"
   },
   {
    "duration": 38,
    "start_time": "2022-05-07T13:25:44.618Z"
   },
   {
    "duration": 32,
    "start_time": "2022-05-07T13:25:44.658Z"
   },
   {
    "duration": 12,
    "start_time": "2022-05-07T13:25:44.693Z"
   },
   {
    "duration": 27,
    "start_time": "2022-05-07T13:25:44.707Z"
   },
   {
    "duration": 49,
    "start_time": "2022-05-07T13:25:44.736Z"
   },
   {
    "duration": 9,
    "start_time": "2022-05-07T13:25:44.787Z"
   },
   {
    "duration": 18,
    "start_time": "2022-05-07T13:25:44.798Z"
   },
   {
    "duration": 6,
    "start_time": "2022-05-07T13:25:44.818Z"
   },
   {
    "duration": 217,
    "start_time": "2022-05-07T13:25:44.826Z"
   },
   {
    "duration": 61,
    "start_time": "2022-05-07T13:25:45.045Z"
   },
   {
    "duration": 9,
    "start_time": "2022-05-07T13:25:45.108Z"
   },
   {
    "duration": 31,
    "start_time": "2022-05-07T13:25:45.119Z"
   },
   {
    "duration": 71,
    "start_time": "2022-05-07T13:25:52.534Z"
   },
   {
    "duration": 147,
    "start_time": "2022-05-07T13:32:44.316Z"
   },
   {
    "duration": 84,
    "start_time": "2022-05-07T13:33:14.272Z"
   },
   {
    "duration": 13,
    "start_time": "2022-05-07T13:34:01.023Z"
   },
   {
    "duration": 29,
    "start_time": "2022-05-07T13:34:06.444Z"
   },
   {
    "duration": 295,
    "start_time": "2022-05-07T13:34:39.221Z"
   },
   {
    "duration": 31,
    "start_time": "2022-05-07T13:35:51.813Z"
   },
   {
    "duration": 25,
    "start_time": "2022-05-07T13:36:27.733Z"
   },
   {
    "duration": 1913,
    "start_time": "2022-05-07T13:38:45.943Z"
   },
   {
    "duration": 118,
    "start_time": "2022-05-07T13:38:59.235Z"
   },
   {
    "duration": 25,
    "start_time": "2022-05-07T13:39:13.923Z"
   },
   {
    "duration": 128,
    "start_time": "2022-05-07T13:39:22.263Z"
   },
   {
    "duration": 1902,
    "start_time": "2022-05-07T13:39:40.273Z"
   },
   {
    "duration": 29,
    "start_time": "2022-05-07T13:39:57.774Z"
   },
   {
    "duration": 37,
    "start_time": "2022-05-07T13:41:12.074Z"
   },
   {
    "duration": 4,
    "start_time": "2022-05-07T13:43:16.834Z"
   },
   {
    "duration": 7,
    "start_time": "2022-05-07T13:43:20.563Z"
   },
   {
    "duration": 74,
    "start_time": "2022-05-07T13:43:29.002Z"
   },
   {
    "duration": 8,
    "start_time": "2022-05-07T13:44:05.686Z"
   },
   {
    "duration": 122,
    "start_time": "2022-05-07T13:44:18.373Z"
   },
   {
    "duration": 9,
    "start_time": "2022-05-07T13:44:23.361Z"
   },
   {
    "duration": 52,
    "start_time": "2022-05-07T13:44:32.104Z"
   },
   {
    "duration": 11,
    "start_time": "2022-05-07T13:45:44.466Z"
   },
   {
    "duration": 19,
    "start_time": "2022-05-07T13:46:02.253Z"
   },
   {
    "duration": 9,
    "start_time": "2022-05-07T13:46:16.830Z"
   },
   {
    "duration": 261,
    "start_time": "2022-05-07T13:46:25.099Z"
   },
   {
    "duration": 11,
    "start_time": "2022-05-07T13:48:13.909Z"
   },
   {
    "duration": 11,
    "start_time": "2022-05-07T13:48:19.440Z"
   },
   {
    "duration": 411,
    "start_time": "2022-05-07T13:48:24.252Z"
   },
   {
    "duration": 34,
    "start_time": "2022-05-07T13:50:18.647Z"
   },
   {
    "duration": 10,
    "start_time": "2022-05-07T13:51:52.378Z"
   },
   {
    "duration": 515,
    "start_time": "2022-05-07T13:52:18.297Z"
   },
   {
    "duration": 9,
    "start_time": "2022-05-07T13:54:58.710Z"
   },
   {
    "duration": 406,
    "start_time": "2022-05-07T13:54:59.339Z"
   },
   {
    "duration": 1878,
    "start_time": "2022-05-07T13:55:16.145Z"
   },
   {
    "duration": 455,
    "start_time": "2022-05-07T13:56:28.177Z"
   },
   {
    "duration": 11,
    "start_time": "2022-05-07T14:00:29.939Z"
   },
   {
    "duration": 12,
    "start_time": "2022-05-07T14:00:38.459Z"
   },
   {
    "duration": 24,
    "start_time": "2022-05-07T14:01:08.206Z"
   },
   {
    "duration": 23,
    "start_time": "2022-05-07T14:03:11.119Z"
   },
   {
    "duration": 22,
    "start_time": "2022-05-07T14:04:17.801Z"
   },
   {
    "duration": 22,
    "start_time": "2022-05-07T14:05:05.197Z"
   },
   {
    "duration": 35,
    "start_time": "2022-05-07T14:05:56.880Z"
   },
   {
    "duration": 11,
    "start_time": "2022-05-07T14:06:28.219Z"
   },
   {
    "duration": 24,
    "start_time": "2022-05-07T14:06:31.410Z"
   },
   {
    "duration": 510,
    "start_time": "2022-05-07T14:06:33.299Z"
   },
   {
    "duration": 30,
    "start_time": "2022-05-07T14:07:13.701Z"
   },
   {
    "duration": 741,
    "start_time": "2022-05-07T14:07:15.781Z"
   },
   {
    "duration": 30,
    "start_time": "2022-05-07T14:07:23.570Z"
   },
   {
    "duration": 43,
    "start_time": "2022-05-07T14:07:27.445Z"
   },
   {
    "duration": 765,
    "start_time": "2022-05-07T14:08:18.850Z"
   },
   {
    "duration": 641,
    "start_time": "2022-05-07T14:08:28.937Z"
   },
   {
    "duration": 47,
    "start_time": "2022-05-07T14:09:28.089Z"
   },
   {
    "duration": 71,
    "start_time": "2022-05-07T14:34:02.158Z"
   },
   {
    "duration": 468,
    "start_time": "2022-05-07T14:34:33.216Z"
   },
   {
    "duration": 550,
    "start_time": "2022-05-07T14:35:19.835Z"
   },
   {
    "duration": 504,
    "start_time": "2022-05-07T14:37:50.929Z"
   },
   {
    "duration": 521,
    "start_time": "2022-05-07T14:38:21.310Z"
   },
   {
    "duration": 590,
    "start_time": "2022-05-07T14:40:49.159Z"
   },
   {
    "duration": 500,
    "start_time": "2022-05-07T14:41:32.748Z"
   },
   {
    "duration": 459,
    "start_time": "2022-05-07T14:43:02.417Z"
   },
   {
    "duration": 493,
    "start_time": "2022-05-07T14:43:10.354Z"
   },
   {
    "duration": 33,
    "start_time": "2022-05-07T14:44:58.048Z"
   },
   {
    "duration": 449,
    "start_time": "2022-05-07T14:45:01.577Z"
   },
   {
    "duration": 657,
    "start_time": "2022-05-07T14:45:36.646Z"
   },
   {
    "duration": 32,
    "start_time": "2022-05-07T14:49:01.147Z"
   },
   {
    "duration": 30,
    "start_time": "2022-05-07T14:49:13.947Z"
   },
   {
    "duration": 402,
    "start_time": "2022-05-07T14:49:40.898Z"
   },
   {
    "duration": 1263,
    "start_time": "2022-05-08T08:10:24.070Z"
   },
   {
    "duration": 363,
    "start_time": "2022-05-08T08:10:25.335Z"
   },
   {
    "duration": 48,
    "start_time": "2022-05-08T08:10:25.700Z"
   },
   {
    "duration": 88,
    "start_time": "2022-05-08T08:10:25.750Z"
   },
   {
    "duration": 62,
    "start_time": "2022-05-08T08:10:25.840Z"
   },
   {
    "duration": 88,
    "start_time": "2022-05-08T08:10:25.904Z"
   },
   {
    "duration": 3,
    "start_time": "2022-05-08T08:10:25.994Z"
   },
   {
    "duration": 10,
    "start_time": "2022-05-08T08:10:25.999Z"
   },
   {
    "duration": 40,
    "start_time": "2022-05-08T08:10:26.010Z"
   },
   {
    "duration": 5,
    "start_time": "2022-05-08T08:10:26.053Z"
   },
   {
    "duration": 34,
    "start_time": "2022-05-08T08:10:26.059Z"
   },
   {
    "duration": 8,
    "start_time": "2022-05-08T08:10:26.095Z"
   },
   {
    "duration": 42,
    "start_time": "2022-05-08T08:10:26.104Z"
   },
   {
    "duration": 110,
    "start_time": "2022-05-08T08:10:26.147Z"
   },
   {
    "duration": 20,
    "start_time": "2022-05-08T08:10:26.258Z"
   },
   {
    "duration": 48,
    "start_time": "2022-05-08T08:10:26.280Z"
   },
   {
    "duration": 23,
    "start_time": "2022-05-08T08:10:26.330Z"
   },
   {
    "duration": 57,
    "start_time": "2022-05-08T08:10:26.354Z"
   },
   {
    "duration": 4,
    "start_time": "2022-05-08T08:10:26.413Z"
   },
   {
    "duration": 13,
    "start_time": "2022-05-08T08:10:26.418Z"
   },
   {
    "duration": 83,
    "start_time": "2022-05-08T08:10:26.432Z"
   },
   {
    "duration": 46,
    "start_time": "2022-05-08T08:10:26.517Z"
   },
   {
    "duration": 57,
    "start_time": "2022-05-08T08:10:26.564Z"
   },
   {
    "duration": 32,
    "start_time": "2022-05-08T08:10:26.622Z"
   },
   {
    "duration": 68,
    "start_time": "2022-05-08T08:10:26.655Z"
   },
   {
    "duration": 28,
    "start_time": "2022-05-08T08:10:26.724Z"
   },
   {
    "duration": 43,
    "start_time": "2022-05-08T08:10:26.754Z"
   },
   {
    "duration": 7,
    "start_time": "2022-05-08T08:10:26.801Z"
   },
   {
    "duration": 8,
    "start_time": "2022-05-08T08:10:26.810Z"
   },
   {
    "duration": 15,
    "start_time": "2022-05-08T08:10:26.819Z"
   },
   {
    "duration": 9,
    "start_time": "2022-05-08T08:10:26.836Z"
   },
   {
    "duration": 5,
    "start_time": "2022-05-08T08:10:26.846Z"
   },
   {
    "duration": 44,
    "start_time": "2022-05-08T08:10:26.853Z"
   },
   {
    "duration": 4,
    "start_time": "2022-05-08T08:10:26.898Z"
   },
   {
    "duration": 116,
    "start_time": "2022-05-08T08:10:26.904Z"
   },
   {
    "duration": 29,
    "start_time": "2022-05-08T08:10:27.022Z"
   },
   {
    "duration": 7,
    "start_time": "2022-05-08T08:10:27.053Z"
   },
   {
    "duration": 38,
    "start_time": "2022-05-08T08:10:27.062Z"
   },
   {
    "duration": 19,
    "start_time": "2022-05-08T08:10:27.101Z"
   },
   {
    "duration": 220,
    "start_time": "2022-05-08T08:10:27.122Z"
   },
   {
    "duration": 197,
    "start_time": "2022-05-08T08:10:27.343Z"
   },
   {
    "duration": 19,
    "start_time": "2022-05-08T08:10:27.541Z"
   },
   {
    "duration": 219,
    "start_time": "2022-05-08T08:10:27.562Z"
   },
   {
    "duration": 19,
    "start_time": "2022-05-08T08:10:59.822Z"
   },
   {
    "duration": 185,
    "start_time": "2022-05-08T08:11:11.285Z"
   },
   {
    "duration": 181,
    "start_time": "2022-05-08T08:11:16.277Z"
   },
   {
    "duration": 18,
    "start_time": "2022-05-08T08:11:27.880Z"
   },
   {
    "duration": 19,
    "start_time": "2022-05-08T08:12:10.041Z"
   },
   {
    "duration": 19,
    "start_time": "2022-05-08T08:12:29.233Z"
   },
   {
    "duration": 192,
    "start_time": "2022-05-08T08:23:51.503Z"
   },
   {
    "duration": 198,
    "start_time": "2022-05-08T08:24:56.186Z"
   },
   {
    "duration": 19,
    "start_time": "2022-05-08T08:27:29.711Z"
   },
   {
    "duration": 94,
    "start_time": "2022-05-08T08:27:31.270Z"
   },
   {
    "duration": 211,
    "start_time": "2022-05-08T08:27:36.504Z"
   },
   {
    "duration": 204,
    "start_time": "2022-05-08T08:29:48.012Z"
   },
   {
    "duration": 7,
    "start_time": "2022-05-08T09:20:09.415Z"
   },
   {
    "duration": 3,
    "start_time": "2022-05-08T09:23:25.560Z"
   },
   {
    "duration": 2,
    "start_time": "2022-05-08T09:24:11.203Z"
   },
   {
    "duration": 210,
    "start_time": "2022-05-08T09:24:59.002Z"
   },
   {
    "duration": 3,
    "start_time": "2022-05-08T09:25:26.554Z"
   },
   {
    "duration": 5,
    "start_time": "2022-05-08T09:27:40.271Z"
   },
   {
    "duration": 3,
    "start_time": "2022-05-08T09:28:15.912Z"
   },
   {
    "duration": 6,
    "start_time": "2022-05-08T09:28:18.337Z"
   },
   {
    "duration": 6,
    "start_time": "2022-05-08T09:30:05.173Z"
   },
   {
    "duration": 3,
    "start_time": "2022-05-08T09:30:52.892Z"
   },
   {
    "duration": 5,
    "start_time": "2022-05-08T09:30:55.559Z"
   },
   {
    "duration": 3,
    "start_time": "2022-05-08T09:33:15.486Z"
   },
   {
    "duration": 6,
    "start_time": "2022-05-08T09:33:17.365Z"
   },
   {
    "duration": 4,
    "start_time": "2022-05-08T09:36:17.000Z"
   },
   {
    "duration": 6,
    "start_time": "2022-05-08T09:36:20.349Z"
   },
   {
    "duration": 5,
    "start_time": "2022-05-08T09:39:51.914Z"
   },
   {
    "duration": 20,
    "start_time": "2022-05-08T09:42:11.598Z"
   },
   {
    "duration": 30,
    "start_time": "2022-05-08T09:42:21.703Z"
   },
   {
    "duration": 6,
    "start_time": "2022-05-08T09:42:41.509Z"
   },
   {
    "duration": 19,
    "start_time": "2022-05-08T09:42:45.362Z"
   },
   {
    "duration": 6,
    "start_time": "2022-05-08T09:42:49.573Z"
   },
   {
    "duration": 30,
    "start_time": "2022-05-08T09:42:58.388Z"
   },
   {
    "duration": 9,
    "start_time": "2022-05-08T09:44:37.611Z"
   },
   {
    "duration": 67,
    "start_time": "2022-05-08T09:44:43.165Z"
   },
   {
    "duration": 8,
    "start_time": "2022-05-08T09:44:49.608Z"
   },
   {
    "duration": 4,
    "start_time": "2022-05-08T09:45:48.669Z"
   },
   {
    "duration": 6,
    "start_time": "2022-05-08T09:45:51.119Z"
   },
   {
    "duration": 146,
    "start_time": "2022-05-08T09:46:39.633Z"
   },
   {
    "duration": 3,
    "start_time": "2022-05-08T09:48:21.755Z"
   },
   {
    "duration": 3,
    "start_time": "2022-05-08T09:48:32.495Z"
   },
   {
    "duration": 6,
    "start_time": "2022-05-08T09:58:01.774Z"
   },
   {
    "duration": 32,
    "start_time": "2022-05-08T10:04:12.139Z"
   },
   {
    "duration": 1185,
    "start_time": "2022-05-08T10:26:32.462Z"
   },
   {
    "duration": 387,
    "start_time": "2022-05-08T10:26:33.649Z"
   },
   {
    "duration": 57,
    "start_time": "2022-05-08T10:26:34.038Z"
   },
   {
    "duration": 73,
    "start_time": "2022-05-08T10:26:34.097Z"
   },
   {
    "duration": 60,
    "start_time": "2022-05-08T10:26:34.192Z"
   },
   {
    "duration": 99,
    "start_time": "2022-05-08T10:26:34.254Z"
   },
   {
    "duration": 4,
    "start_time": "2022-05-08T10:26:34.355Z"
   },
   {
    "duration": 36,
    "start_time": "2022-05-08T10:26:34.360Z"
   },
   {
    "duration": 44,
    "start_time": "2022-05-08T10:26:34.398Z"
   },
   {
    "duration": 6,
    "start_time": "2022-05-08T10:26:34.445Z"
   },
   {
    "duration": 9,
    "start_time": "2022-05-08T10:26:34.452Z"
   },
   {
    "duration": 32,
    "start_time": "2022-05-08T10:26:34.463Z"
   },
   {
    "duration": 37,
    "start_time": "2022-05-08T10:26:34.497Z"
   },
   {
    "duration": 119,
    "start_time": "2022-05-08T10:26:34.536Z"
   },
   {
    "duration": 23,
    "start_time": "2022-05-08T10:26:34.657Z"
   },
   {
    "duration": 58,
    "start_time": "2022-05-08T10:26:34.681Z"
   },
   {
    "duration": 27,
    "start_time": "2022-05-08T10:26:34.741Z"
   },
   {
    "duration": 69,
    "start_time": "2022-05-08T10:26:34.770Z"
   },
   {
    "duration": 5,
    "start_time": "2022-05-08T10:26:34.841Z"
   },
   {
    "duration": 7,
    "start_time": "2022-05-08T10:26:34.848Z"
   },
   {
    "duration": 101,
    "start_time": "2022-05-08T10:26:34.857Z"
   },
   {
    "duration": 60,
    "start_time": "2022-05-08T10:26:34.960Z"
   },
   {
    "duration": 47,
    "start_time": "2022-05-08T10:26:35.022Z"
   },
   {
    "duration": 47,
    "start_time": "2022-05-08T10:26:35.071Z"
   },
   {
    "duration": 78,
    "start_time": "2022-05-08T10:26:35.120Z"
   },
   {
    "duration": 32,
    "start_time": "2022-05-08T10:26:35.200Z"
   },
   {
    "duration": 26,
    "start_time": "2022-05-08T10:26:35.234Z"
   },
   {
    "duration": 34,
    "start_time": "2022-05-08T10:26:35.264Z"
   },
   {
    "duration": 10,
    "start_time": "2022-05-08T10:26:35.300Z"
   },
   {
    "duration": 17,
    "start_time": "2022-05-08T10:26:35.311Z"
   },
   {
    "duration": 14,
    "start_time": "2022-05-08T10:26:35.329Z"
   },
   {
    "duration": 7,
    "start_time": "2022-05-08T10:26:35.344Z"
   },
   {
    "duration": 53,
    "start_time": "2022-05-08T10:26:35.353Z"
   },
   {
    "duration": 5,
    "start_time": "2022-05-08T10:26:35.408Z"
   },
   {
    "duration": 217,
    "start_time": "2022-05-08T10:26:35.415Z"
   },
   {
    "duration": 59,
    "start_time": "2022-05-08T10:26:35.635Z"
   },
   {
    "duration": 10,
    "start_time": "2022-05-08T10:26:35.696Z"
   },
   {
    "duration": 39,
    "start_time": "2022-05-08T10:26:35.708Z"
   },
   {
    "duration": 57,
    "start_time": "2022-05-08T10:26:35.750Z"
   },
   {
    "duration": 221,
    "start_time": "2022-05-08T10:26:35.810Z"
   },
   {
    "duration": 206,
    "start_time": "2022-05-08T10:26:36.033Z"
   },
   {
    "duration": 21,
    "start_time": "2022-05-08T10:26:36.241Z"
   },
   {
    "duration": 369,
    "start_time": "2022-05-08T10:26:36.264Z"
   },
   {
    "duration": 351,
    "start_time": "2022-05-08T10:26:36.636Z"
   },
   {
    "duration": 36,
    "start_time": "2022-05-08T10:26:36.993Z"
   },
   {
    "duration": 371,
    "start_time": "2022-05-08T10:26:37.032Z"
   },
   {
    "duration": 220,
    "start_time": "2022-05-08T10:26:37.406Z"
   },
   {
    "duration": 6,
    "start_time": "2022-05-08T10:26:37.628Z"
   },
   {
    "duration": 4,
    "start_time": "2022-05-08T10:26:37.636Z"
   },
   {
    "duration": 6,
    "start_time": "2022-05-08T10:26:37.642Z"
   },
   {
    "duration": 8,
    "start_time": "2022-05-08T10:26:37.649Z"
   },
   {
    "duration": 34,
    "start_time": "2022-05-08T10:26:37.659Z"
   },
   {
    "duration": 5,
    "start_time": "2022-05-08T10:26:37.695Z"
   },
   {
    "duration": 10,
    "start_time": "2022-05-08T10:26:37.702Z"
   },
   {
    "duration": 4,
    "start_time": "2022-05-08T10:26:37.714Z"
   },
   {
    "duration": 14,
    "start_time": "2022-05-08T10:26:37.719Z"
   },
   {
    "duration": 15,
    "start_time": "2022-05-08T10:26:37.735Z"
   },
   {
    "duration": 126,
    "start_time": "2022-05-08T10:26:37.752Z"
   },
   {
    "duration": 379,
    "start_time": "2022-05-08T10:27:30.897Z"
   },
   {
    "duration": 54,
    "start_time": "2022-05-08T10:27:42.562Z"
   },
   {
    "duration": 74,
    "start_time": "2022-05-08T10:28:14.032Z"
   },
   {
    "duration": 7,
    "start_time": "2022-05-08T10:29:07.017Z"
   },
   {
    "duration": 14,
    "start_time": "2022-05-08T10:33:08.335Z"
   },
   {
    "duration": 34,
    "start_time": "2022-05-08T10:36:01.866Z"
   },
   {
    "duration": 23,
    "start_time": "2022-05-08T10:37:22.513Z"
   },
   {
    "duration": 232,
    "start_time": "2022-05-08T10:37:24.177Z"
   },
   {
    "duration": 203,
    "start_time": "2022-05-08T10:39:58.950Z"
   },
   {
    "duration": 37,
    "start_time": "2022-05-08T10:41:00.608Z"
   },
   {
    "duration": 38,
    "start_time": "2022-05-08T10:41:10.449Z"
   },
   {
    "duration": 29,
    "start_time": "2022-05-08T10:41:55.740Z"
   },
   {
    "duration": 215,
    "start_time": "2022-05-08T10:42:26.839Z"
   },
   {
    "duration": 454,
    "start_time": "2022-05-08T10:48:37.242Z"
   },
   {
    "duration": 216,
    "start_time": "2022-05-08T10:52:02.155Z"
   },
   {
    "duration": 1562,
    "start_time": "2022-05-08T11:16:00.101Z"
   },
   {
    "duration": 611,
    "start_time": "2022-05-08T11:16:01.666Z"
   },
   {
    "duration": 76,
    "start_time": "2022-05-08T11:16:02.279Z"
   },
   {
    "duration": 143,
    "start_time": "2022-05-08T11:16:02.358Z"
   },
   {
    "duration": 104,
    "start_time": "2022-05-08T11:16:02.504Z"
   },
   {
    "duration": 135,
    "start_time": "2022-05-08T11:16:02.612Z"
   },
   {
    "duration": 6,
    "start_time": "2022-05-08T11:16:02.749Z"
   },
   {
    "duration": 38,
    "start_time": "2022-05-08T11:16:02.756Z"
   },
   {
    "duration": 50,
    "start_time": "2022-05-08T11:16:02.795Z"
   },
   {
    "duration": 7,
    "start_time": "2022-05-08T11:16:02.848Z"
   },
   {
    "duration": 39,
    "start_time": "2022-05-08T11:16:02.856Z"
   },
   {
    "duration": 8,
    "start_time": "2022-05-08T11:16:02.897Z"
   },
   {
    "duration": 47,
    "start_time": "2022-05-08T11:16:02.907Z"
   },
   {
    "duration": 193,
    "start_time": "2022-05-08T11:16:02.956Z"
   },
   {
    "duration": 41,
    "start_time": "2022-05-08T11:16:03.152Z"
   },
   {
    "duration": 51,
    "start_time": "2022-05-08T11:16:03.195Z"
   },
   {
    "duration": 24,
    "start_time": "2022-05-08T11:16:03.247Z"
   },
   {
    "duration": 65,
    "start_time": "2022-05-08T11:16:03.273Z"
   },
   {
    "duration": 5,
    "start_time": "2022-05-08T11:16:03.340Z"
   },
   {
    "duration": 9,
    "start_time": "2022-05-08T11:16:03.346Z"
   },
   {
    "duration": 97,
    "start_time": "2022-05-08T11:16:03.357Z"
   },
   {
    "duration": 60,
    "start_time": "2022-05-08T11:16:03.456Z"
   },
   {
    "duration": 49,
    "start_time": "2022-05-08T11:16:03.518Z"
   },
   {
    "duration": 50,
    "start_time": "2022-05-08T11:16:03.569Z"
   },
   {
    "duration": 96,
    "start_time": "2022-05-08T11:16:03.624Z"
   },
   {
    "duration": 35,
    "start_time": "2022-05-08T11:16:03.722Z"
   },
   {
    "duration": 44,
    "start_time": "2022-05-08T11:16:03.760Z"
   },
   {
    "duration": 10,
    "start_time": "2022-05-08T11:16:03.810Z"
   },
   {
    "duration": 11,
    "start_time": "2022-05-08T11:16:03.822Z"
   },
   {
    "duration": 19,
    "start_time": "2022-05-08T11:16:03.836Z"
   },
   {
    "duration": 9,
    "start_time": "2022-05-08T11:16:03.893Z"
   },
   {
    "duration": 13,
    "start_time": "2022-05-08T11:16:03.904Z"
   },
   {
    "duration": 19,
    "start_time": "2022-05-08T11:16:03.919Z"
   },
   {
    "duration": 4,
    "start_time": "2022-05-08T11:16:03.941Z"
   },
   {
    "duration": 127,
    "start_time": "2022-05-08T11:16:03.947Z"
   },
   {
    "duration": 36,
    "start_time": "2022-05-08T11:16:04.076Z"
   },
   {
    "duration": 8,
    "start_time": "2022-05-08T11:16:04.113Z"
   },
   {
    "duration": 22,
    "start_time": "2022-05-08T11:16:04.123Z"
   },
   {
    "duration": 74,
    "start_time": "2022-05-08T11:16:04.147Z"
   },
   {
    "duration": 270,
    "start_time": "2022-05-08T11:16:04.223Z"
   },
   {
    "duration": 225,
    "start_time": "2022-05-08T11:16:04.495Z"
   },
   {
    "duration": 31,
    "start_time": "2022-05-08T11:16:04.721Z"
   },
   {
    "duration": 234,
    "start_time": "2022-05-08T11:16:04.753Z"
   },
   {
    "duration": 242,
    "start_time": "2022-05-08T11:16:04.989Z"
   },
   {
    "duration": 32,
    "start_time": "2022-05-08T11:16:05.233Z"
   },
   {
    "duration": 248,
    "start_time": "2022-05-08T11:16:05.267Z"
   },
   {
    "duration": 234,
    "start_time": "2022-05-08T11:16:05.517Z"
   },
   {
    "duration": 6,
    "start_time": "2022-05-08T11:16:05.753Z"
   },
   {
    "duration": 8,
    "start_time": "2022-05-08T11:16:05.761Z"
   },
   {
    "duration": 11,
    "start_time": "2022-05-08T11:16:05.771Z"
   },
   {
    "duration": 20,
    "start_time": "2022-05-08T11:16:05.793Z"
   },
   {
    "duration": 35,
    "start_time": "2022-05-08T11:16:05.815Z"
   },
   {
    "duration": 14,
    "start_time": "2022-05-08T11:16:05.852Z"
   },
   {
    "duration": 14,
    "start_time": "2022-05-08T11:16:05.867Z"
   },
   {
    "duration": 11,
    "start_time": "2022-05-08T11:16:05.883Z"
   },
   {
    "duration": 21,
    "start_time": "2022-05-08T11:16:05.896Z"
   },
   {
    "duration": 9,
    "start_time": "2022-05-08T11:16:05.920Z"
   },
   {
    "duration": 45,
    "start_time": "2022-05-09T23:02:09.574Z"
   },
   {
    "duration": 1079,
    "start_time": "2022-05-09T23:02:16.569Z"
   },
   {
    "duration": 364,
    "start_time": "2022-05-09T23:02:17.650Z"
   },
   {
    "duration": 48,
    "start_time": "2022-05-09T23:02:18.015Z"
   },
   {
    "duration": 82,
    "start_time": "2022-05-09T23:02:18.065Z"
   },
   {
    "duration": 41,
    "start_time": "2022-05-09T23:02:18.150Z"
   },
   {
    "duration": 79,
    "start_time": "2022-05-09T23:02:18.192Z"
   },
   {
    "duration": 2,
    "start_time": "2022-05-09T23:02:18.273Z"
   },
   {
    "duration": 10,
    "start_time": "2022-05-09T23:02:18.277Z"
   },
   {
    "duration": 64,
    "start_time": "2022-05-09T23:02:18.289Z"
   },
   {
    "duration": 5,
    "start_time": "2022-05-09T23:02:18.354Z"
   },
   {
    "duration": 7,
    "start_time": "2022-05-09T23:02:18.361Z"
   },
   {
    "duration": 7,
    "start_time": "2022-05-09T23:02:18.369Z"
   },
   {
    "duration": 34,
    "start_time": "2022-05-09T23:02:18.378Z"
   },
   {
    "duration": 132,
    "start_time": "2022-05-09T23:02:18.415Z"
   },
   {
    "duration": 21,
    "start_time": "2022-05-09T23:02:18.549Z"
   },
   {
    "duration": 42,
    "start_time": "2022-05-09T23:02:18.572Z"
   },
   {
    "duration": 43,
    "start_time": "2022-05-09T23:02:18.616Z"
   },
   {
    "duration": 42,
    "start_time": "2022-05-09T23:02:18.661Z"
   },
   {
    "duration": 4,
    "start_time": "2022-05-09T23:02:18.705Z"
   },
   {
    "duration": 5,
    "start_time": "2022-05-09T23:02:18.711Z"
   },
   {
    "duration": 93,
    "start_time": "2022-05-09T23:02:18.718Z"
   },
   {
    "duration": 56,
    "start_time": "2022-05-09T23:02:18.812Z"
   },
   {
    "duration": 44,
    "start_time": "2022-05-09T23:02:18.869Z"
   },
   {
    "duration": 48,
    "start_time": "2022-05-09T23:02:18.915Z"
   },
   {
    "duration": 55,
    "start_time": "2022-05-09T23:02:18.964Z"
   },
   {
    "duration": 49,
    "start_time": "2022-05-09T23:02:19.020Z"
   },
   {
    "duration": 25,
    "start_time": "2022-05-09T23:02:19.070Z"
   },
   {
    "duration": 8,
    "start_time": "2022-05-09T23:02:19.096Z"
   },
   {
    "duration": 8,
    "start_time": "2022-05-09T23:02:19.106Z"
   },
   {
    "duration": 42,
    "start_time": "2022-05-09T23:02:19.116Z"
   },
   {
    "duration": 9,
    "start_time": "2022-05-09T23:02:19.159Z"
   },
   {
    "duration": 5,
    "start_time": "2022-05-09T23:02:19.169Z"
   },
   {
    "duration": 12,
    "start_time": "2022-05-09T23:02:19.176Z"
   },
   {
    "duration": 3,
    "start_time": "2022-05-09T23:02:19.190Z"
   },
   {
    "duration": 131,
    "start_time": "2022-05-09T23:02:19.195Z"
   },
   {
    "duration": 36,
    "start_time": "2022-05-09T23:02:19.328Z"
   },
   {
    "duration": 4,
    "start_time": "2022-05-09T23:02:19.366Z"
   },
   {
    "duration": 19,
    "start_time": "2022-05-09T23:02:19.372Z"
   },
   {
    "duration": 33,
    "start_time": "2022-05-09T23:02:19.393Z"
   },
   {
    "duration": 241,
    "start_time": "2022-05-09T23:02:19.447Z"
   },
   {
    "duration": 187,
    "start_time": "2022-05-09T23:02:19.692Z"
   },
   {
    "duration": 26,
    "start_time": "2022-05-09T23:02:19.881Z"
   },
   {
    "duration": 214,
    "start_time": "2022-05-09T23:02:19.909Z"
   },
   {
    "duration": 214,
    "start_time": "2022-05-09T23:02:20.124Z"
   },
   {
    "duration": 33,
    "start_time": "2022-05-09T23:02:20.339Z"
   },
   {
    "duration": 215,
    "start_time": "2022-05-09T23:02:20.373Z"
   },
   {
    "duration": 202,
    "start_time": "2022-05-09T23:02:20.589Z"
   },
   {
    "duration": 6,
    "start_time": "2022-05-09T23:02:20.793Z"
   },
   {
    "duration": 4,
    "start_time": "2022-05-09T23:02:20.800Z"
   },
   {
    "duration": 4,
    "start_time": "2022-05-09T23:02:20.806Z"
   },
   {
    "duration": 6,
    "start_time": "2022-05-09T23:02:20.811Z"
   },
   {
    "duration": 7,
    "start_time": "2022-05-09T23:02:20.819Z"
   },
   {
    "duration": 5,
    "start_time": "2022-05-09T23:02:20.848Z"
   },
   {
    "duration": 10,
    "start_time": "2022-05-09T23:02:20.854Z"
   },
   {
    "duration": 3,
    "start_time": "2022-05-09T23:02:20.866Z"
   },
   {
    "duration": 7,
    "start_time": "2022-05-09T23:02:20.871Z"
   },
   {
    "duration": 8,
    "start_time": "2022-05-09T23:02:20.879Z"
   },
   {
    "duration": 5,
    "start_time": "2022-05-09T23:04:10.628Z"
   },
   {
    "duration": 4,
    "start_time": "2022-05-09T23:06:41.761Z"
   },
   {
    "duration": 4,
    "start_time": "2022-05-09T23:06:48.465Z"
   },
   {
    "duration": 4,
    "start_time": "2022-05-09T23:06:51.243Z"
   },
   {
    "duration": 19,
    "start_time": "2022-05-09T23:07:33.779Z"
   },
   {
    "duration": 20,
    "start_time": "2022-05-09T23:08:05.652Z"
   },
   {
    "duration": 15,
    "start_time": "2022-05-09T23:08:12.523Z"
   },
   {
    "duration": 14,
    "start_time": "2022-05-09T23:08:26.541Z"
   },
   {
    "duration": 3,
    "start_time": "2022-05-09T23:18:15.500Z"
   },
   {
    "duration": 5,
    "start_time": "2022-05-09T23:18:17.706Z"
   },
   {
    "duration": 5,
    "start_time": "2022-05-09T23:18:25.762Z"
   },
   {
    "duration": 4,
    "start_time": "2022-05-09T23:18:36.275Z"
   },
   {
    "duration": 1085,
    "start_time": "2022-05-09T23:53:01.892Z"
   },
   {
    "duration": 358,
    "start_time": "2022-05-09T23:53:02.979Z"
   },
   {
    "duration": 43,
    "start_time": "2022-05-09T23:53:03.339Z"
   },
   {
    "duration": 78,
    "start_time": "2022-05-09T23:53:03.384Z"
   },
   {
    "duration": 41,
    "start_time": "2022-05-09T23:53:03.464Z"
   },
   {
    "duration": 94,
    "start_time": "2022-05-09T23:53:03.507Z"
   },
   {
    "duration": 3,
    "start_time": "2022-05-09T23:53:03.602Z"
   },
   {
    "duration": 8,
    "start_time": "2022-05-09T23:53:03.607Z"
   },
   {
    "duration": 62,
    "start_time": "2022-05-09T23:53:03.617Z"
   },
   {
    "duration": 5,
    "start_time": "2022-05-09T23:53:03.681Z"
   },
   {
    "duration": 10,
    "start_time": "2022-05-09T23:53:03.688Z"
   },
   {
    "duration": 6,
    "start_time": "2022-05-09T23:53:03.700Z"
   },
   {
    "duration": 55,
    "start_time": "2022-05-09T23:53:03.708Z"
   },
   {
    "duration": 106,
    "start_time": "2022-05-09T23:53:03.766Z"
   },
   {
    "duration": 20,
    "start_time": "2022-05-09T23:53:03.874Z"
   },
   {
    "duration": 56,
    "start_time": "2022-05-09T23:53:03.895Z"
   },
   {
    "duration": 21,
    "start_time": "2022-05-09T23:53:03.953Z"
   },
   {
    "duration": 41,
    "start_time": "2022-05-09T23:53:03.975Z"
   },
   {
    "duration": 4,
    "start_time": "2022-05-09T23:53:04.017Z"
   },
   {
    "duration": 25,
    "start_time": "2022-05-09T23:53:04.023Z"
   },
   {
    "duration": 63,
    "start_time": "2022-05-09T23:53:04.050Z"
   },
   {
    "duration": 61,
    "start_time": "2022-05-09T23:53:04.115Z"
   },
   {
    "duration": 41,
    "start_time": "2022-05-09T23:53:04.177Z"
   },
   {
    "duration": 45,
    "start_time": "2022-05-09T23:53:04.220Z"
   },
   {
    "duration": 49,
    "start_time": "2022-05-09T23:53:04.267Z"
   },
   {
    "duration": 41,
    "start_time": "2022-05-09T23:53:04.317Z"
   },
   {
    "duration": 22,
    "start_time": "2022-05-09T23:53:04.359Z"
   },
   {
    "duration": 7,
    "start_time": "2022-05-09T23:53:04.382Z"
   },
   {
    "duration": 7,
    "start_time": "2022-05-09T23:53:04.390Z"
   },
   {
    "duration": 14,
    "start_time": "2022-05-09T23:53:04.399Z"
   },
   {
    "duration": 38,
    "start_time": "2022-05-09T23:53:04.414Z"
   },
   {
    "duration": 6,
    "start_time": "2022-05-09T23:53:04.454Z"
   },
   {
    "duration": 11,
    "start_time": "2022-05-09T23:53:04.462Z"
   },
   {
    "duration": 4,
    "start_time": "2022-05-09T23:53:04.474Z"
   },
   {
    "duration": 110,
    "start_time": "2022-05-09T23:53:04.479Z"
   },
   {
    "duration": 28,
    "start_time": "2022-05-09T23:53:04.592Z"
   },
   {
    "duration": 4,
    "start_time": "2022-05-09T23:53:04.622Z"
   },
   {
    "duration": 36,
    "start_time": "2022-05-09T23:53:04.628Z"
   },
   {
    "duration": 4,
    "start_time": "2022-05-09T23:53:04.666Z"
   },
   {
    "duration": 5,
    "start_time": "2022-05-09T23:53:04.671Z"
   },
   {
    "duration": 14,
    "start_time": "2022-05-09T23:53:04.680Z"
   },
   {
    "duration": 64,
    "start_time": "2022-05-09T23:53:04.696Z"
   },
   {
    "duration": 230,
    "start_time": "2022-05-09T23:53:04.762Z"
   },
   {
    "duration": 188,
    "start_time": "2022-05-09T23:53:04.993Z"
   },
   {
    "duration": 24,
    "start_time": "2022-05-09T23:53:05.183Z"
   },
   {
    "duration": 201,
    "start_time": "2022-05-09T23:53:05.209Z"
   },
   {
    "duration": 198,
    "start_time": "2022-05-09T23:53:05.412Z"
   },
   {
    "duration": 35,
    "start_time": "2022-05-09T23:53:05.612Z"
   },
   {
    "duration": 202,
    "start_time": "2022-05-09T23:53:05.649Z"
   },
   {
    "duration": 201,
    "start_time": "2022-05-09T23:53:05.852Z"
   },
   {
    "duration": 5,
    "start_time": "2022-05-09T23:53:06.055Z"
   },
   {
    "duration": 4,
    "start_time": "2022-05-09T23:53:06.062Z"
   },
   {
    "duration": 3,
    "start_time": "2022-05-09T23:53:06.068Z"
   },
   {
    "duration": 5,
    "start_time": "2022-05-09T23:53:06.073Z"
   },
   {
    "duration": 7,
    "start_time": "2022-05-09T23:53:06.080Z"
   },
   {
    "duration": 4,
    "start_time": "2022-05-09T23:53:06.089Z"
   },
   {
    "duration": 20,
    "start_time": "2022-05-09T23:53:06.094Z"
   },
   {
    "duration": 10,
    "start_time": "2022-05-09T23:53:06.115Z"
   },
   {
    "duration": 20,
    "start_time": "2022-05-09T23:53:06.127Z"
   },
   {
    "duration": 14,
    "start_time": "2022-05-09T23:53:06.149Z"
   },
   {
    "duration": 71,
    "start_time": "2022-05-10T08:01:47.153Z"
   },
   {
    "duration": 1754,
    "start_time": "2022-05-10T08:01:53.151Z"
   },
   {
    "duration": 505,
    "start_time": "2022-05-10T08:01:54.908Z"
   },
   {
    "duration": 76,
    "start_time": "2022-05-10T08:01:55.416Z"
   },
   {
    "duration": 168,
    "start_time": "2022-05-10T08:01:55.496Z"
   },
   {
    "duration": 125,
    "start_time": "2022-05-10T08:01:55.666Z"
   },
   {
    "duration": 162,
    "start_time": "2022-05-10T08:01:55.793Z"
   },
   {
    "duration": 5,
    "start_time": "2022-05-10T08:01:55.958Z"
   },
   {
    "duration": 25,
    "start_time": "2022-05-10T08:01:55.966Z"
   },
   {
    "duration": 517,
    "start_time": "2022-05-10T08:02:02.305Z"
   },
   {
    "duration": 237,
    "start_time": "2022-05-10T08:02:17.907Z"
   },
   {
    "duration": 287,
    "start_time": "2022-05-10T08:03:03.563Z"
   },
   {
    "duration": 406,
    "start_time": "2022-05-10T08:03:12.952Z"
   },
   {
    "duration": 1229,
    "start_time": "2022-05-10T08:03:18.579Z"
   },
   {
    "duration": 280,
    "start_time": "2022-05-10T08:03:24.086Z"
   },
   {
    "duration": 7,
    "start_time": "2022-05-10T08:17:42.005Z"
   },
   {
    "duration": 96,
    "start_time": "2022-05-10T08:18:00.728Z"
   },
   {
    "duration": 11,
    "start_time": "2022-05-10T08:18:36.183Z"
   },
   {
    "duration": 12,
    "start_time": "2022-05-10T08:18:46.456Z"
   },
   {
    "duration": 16,
    "start_time": "2022-05-10T08:19:07.929Z"
   },
   {
    "duration": 4,
    "start_time": "2022-05-10T08:19:27.383Z"
   },
   {
    "duration": 12,
    "start_time": "2022-05-10T08:19:50.306Z"
   },
   {
    "duration": 5,
    "start_time": "2022-05-10T08:19:54.347Z"
   },
   {
    "duration": 7,
    "start_time": "2022-05-10T08:19:58.425Z"
   },
   {
    "duration": 18,
    "start_time": "2022-05-10T08:26:37.524Z"
   },
   {
    "duration": 4,
    "start_time": "2022-05-10T08:26:49.172Z"
   },
   {
    "duration": 516,
    "start_time": "2022-05-10T08:26:49.182Z"
   },
   {
    "duration": 66,
    "start_time": "2022-05-10T08:26:49.701Z"
   },
   {
    "duration": 7,
    "start_time": "2022-05-10T08:26:49.769Z"
   },
   {
    "duration": 148,
    "start_time": "2022-05-10T08:26:49.779Z"
   },
   {
    "duration": 98,
    "start_time": "2022-05-10T08:26:49.929Z"
   },
   {
    "duration": 122,
    "start_time": "2022-05-10T08:26:50.030Z"
   },
   {
    "duration": 5,
    "start_time": "2022-05-10T08:26:50.155Z"
   },
   {
    "duration": 17,
    "start_time": "2022-05-10T08:26:50.163Z"
   },
   {
    "duration": 327,
    "start_time": "2022-05-10T08:26:50.183Z"
   },
   {
    "duration": 75,
    "start_time": "2022-05-10T08:26:50.515Z"
   },
   {
    "duration": 35,
    "start_time": "2022-05-10T08:26:50.593Z"
   },
   {
    "duration": 10,
    "start_time": "2022-05-10T08:26:50.630Z"
   },
   {
    "duration": 16,
    "start_time": "2022-05-10T08:26:50.642Z"
   },
   {
    "duration": 73,
    "start_time": "2022-05-10T08:26:50.660Z"
   },
   {
    "duration": 150,
    "start_time": "2022-05-10T08:26:50.735Z"
   },
   {
    "duration": 43,
    "start_time": "2022-05-10T08:26:50.887Z"
   },
   {
    "duration": 62,
    "start_time": "2022-05-10T08:26:50.932Z"
   },
   {
    "duration": 47,
    "start_time": "2022-05-10T08:26:50.996Z"
   },
   {
    "duration": 82,
    "start_time": "2022-05-10T08:26:51.045Z"
   },
   {
    "duration": 6,
    "start_time": "2022-05-10T08:26:51.130Z"
   },
   {
    "duration": 11,
    "start_time": "2022-05-10T08:26:51.138Z"
   },
   {
    "duration": 173,
    "start_time": "2022-05-10T08:27:42.334Z"
   },
   {
    "duration": 122,
    "start_time": "2022-05-10T08:27:50.527Z"
   },
   {
    "duration": 145,
    "start_time": "2022-05-10T08:27:58.687Z"
   },
   {
    "duration": 139,
    "start_time": "2022-05-10T08:28:03.015Z"
   },
   {
    "duration": 96,
    "start_time": "2022-05-10T08:28:12.837Z"
   },
   {
    "duration": 144,
    "start_time": "2022-05-10T08:28:23.097Z"
   },
   {
    "duration": 22,
    "start_time": "2022-05-10T08:32:50.040Z"
   },
   {
    "duration": 1259,
    "start_time": "2022-05-10T13:02:00.375Z"
   },
   {
    "duration": 373,
    "start_time": "2022-05-10T13:02:01.636Z"
   },
   {
    "duration": 45,
    "start_time": "2022-05-10T13:02:02.011Z"
   },
   {
    "duration": 4,
    "start_time": "2022-05-10T13:02:02.058Z"
   },
   {
    "duration": 69,
    "start_time": "2022-05-10T13:02:02.073Z"
   },
   {
    "duration": 69,
    "start_time": "2022-05-10T13:02:02.144Z"
   },
   {
    "duration": 85,
    "start_time": "2022-05-10T13:02:02.214Z"
   },
   {
    "duration": 4,
    "start_time": "2022-05-10T13:02:02.301Z"
   },
   {
    "duration": 16,
    "start_time": "2022-05-10T13:02:02.307Z"
   },
   {
    "duration": 214,
    "start_time": "2022-05-10T13:02:02.326Z"
   },
   {
    "duration": 62,
    "start_time": "2022-05-10T13:02:02.542Z"
   },
   {
    "duration": 7,
    "start_time": "2022-05-10T13:02:02.606Z"
   },
   {
    "duration": 24,
    "start_time": "2022-05-10T13:02:02.615Z"
   },
   {
    "duration": 14,
    "start_time": "2022-05-10T13:02:02.641Z"
   },
   {
    "duration": 51,
    "start_time": "2022-05-10T13:02:02.657Z"
   },
   {
    "duration": 109,
    "start_time": "2022-05-10T13:02:02.709Z"
   },
   {
    "duration": 22,
    "start_time": "2022-05-10T13:02:02.820Z"
   },
   {
    "duration": 64,
    "start_time": "2022-05-10T13:02:02.844Z"
   },
   {
    "duration": 24,
    "start_time": "2022-05-10T13:02:02.910Z"
   },
   {
    "duration": 64,
    "start_time": "2022-05-10T13:02:02.936Z"
   },
   {
    "duration": 5,
    "start_time": "2022-05-10T13:02:03.002Z"
   },
   {
    "duration": 21,
    "start_time": "2022-05-10T13:02:03.008Z"
   },
   {
    "duration": 37,
    "start_time": "2022-05-10T13:02:03.030Z"
   },
   {
    "duration": 107,
    "start_time": "2022-05-10T13:02:11.543Z"
   },
   {
    "duration": 60,
    "start_time": "2022-05-10T13:02:28.310Z"
   },
   {
    "duration": 74,
    "start_time": "2022-05-10T13:02:56.345Z"
   },
   {
    "duration": 87,
    "start_time": "2022-05-10T13:03:12.801Z"
   },
   {
    "duration": 26,
    "start_time": "2022-05-10T13:03:48.817Z"
   },
   {
    "duration": 25,
    "start_time": "2022-05-10T13:04:42.499Z"
   },
   {
    "duration": 21,
    "start_time": "2022-05-10T13:04:50.453Z"
   },
   {
    "duration": 60,
    "start_time": "2022-05-10T13:04:51.741Z"
   },
   {
    "duration": 73,
    "start_time": "2022-05-10T13:04:56.859Z"
   },
   {
    "duration": 73,
    "start_time": "2022-05-10T13:06:14.926Z"
   },
   {
    "duration": 79,
    "start_time": "2022-05-10T13:06:31.418Z"
   },
   {
    "duration": 84,
    "start_time": "2022-05-10T13:06:58.877Z"
   },
   {
    "duration": 106,
    "start_time": "2022-05-10T13:07:36.797Z"
   },
   {
    "duration": 88,
    "start_time": "2022-05-10T13:08:17.441Z"
   },
   {
    "duration": 84,
    "start_time": "2022-05-10T13:08:53.881Z"
   },
   {
    "duration": 142,
    "start_time": "2022-05-10T13:09:10.061Z"
   },
   {
    "duration": 156,
    "start_time": "2022-05-10T13:09:15.609Z"
   },
   {
    "duration": 151,
    "start_time": "2022-05-10T13:09:50.500Z"
   },
   {
    "duration": 171,
    "start_time": "2022-05-10T13:09:55.176Z"
   },
   {
    "duration": 86,
    "start_time": "2022-05-10T13:13:04.821Z"
   },
   {
    "duration": 106,
    "start_time": "2022-05-10T13:13:11.768Z"
   },
   {
    "duration": 112,
    "start_time": "2022-05-10T13:13:34.621Z"
   },
   {
    "duration": 259,
    "start_time": "2022-05-10T13:14:03.712Z"
   },
   {
    "duration": 246,
    "start_time": "2022-05-10T13:14:09.034Z"
   },
   {
    "duration": 232,
    "start_time": "2022-05-10T13:14:24.285Z"
   },
   {
    "duration": 246,
    "start_time": "2022-05-10T13:14:49.831Z"
   },
   {
    "duration": 243,
    "start_time": "2022-05-10T13:15:17.741Z"
   },
   {
    "duration": 175,
    "start_time": "2022-05-10T13:15:50.151Z"
   },
   {
    "duration": 191,
    "start_time": "2022-05-10T13:16:14.068Z"
   },
   {
    "duration": 102,
    "start_time": "2022-05-10T13:16:23.173Z"
   },
   {
    "duration": 120,
    "start_time": "2022-05-10T13:17:19.724Z"
   },
   {
    "duration": 128,
    "start_time": "2022-05-10T13:17:52.191Z"
   },
   {
    "duration": 73,
    "start_time": "2022-05-10T13:20:23.314Z"
   },
   {
    "duration": 231,
    "start_time": "2022-05-10T13:20:28.614Z"
   },
   {
    "duration": 227,
    "start_time": "2022-05-10T13:20:35.318Z"
   },
   {
    "duration": 225,
    "start_time": "2022-05-10T13:20:49.111Z"
   },
   {
    "duration": 291,
    "start_time": "2022-05-10T13:21:28.470Z"
   },
   {
    "duration": 398,
    "start_time": "2022-05-10T13:33:54.131Z"
   },
   {
    "duration": 221,
    "start_time": "2022-05-10T13:36:43.486Z"
   },
   {
    "duration": 3,
    "start_time": "2022-05-10T13:36:53.319Z"
   },
   {
    "duration": 360,
    "start_time": "2022-05-10T13:36:53.324Z"
   },
   {
    "duration": 42,
    "start_time": "2022-05-10T13:36:53.686Z"
   },
   {
    "duration": 4,
    "start_time": "2022-05-10T13:36:53.730Z"
   },
   {
    "duration": 89,
    "start_time": "2022-05-10T13:36:53.736Z"
   },
   {
    "duration": 58,
    "start_time": "2022-05-10T13:36:53.827Z"
   },
   {
    "duration": 61,
    "start_time": "2022-05-10T13:36:53.887Z"
   },
   {
    "duration": 26,
    "start_time": "2022-05-10T13:36:53.949Z"
   },
   {
    "duration": 11,
    "start_time": "2022-05-10T13:36:53.977Z"
   },
   {
    "duration": 191,
    "start_time": "2022-05-10T13:36:53.990Z"
   },
   {
    "duration": 43,
    "start_time": "2022-05-10T13:36:54.183Z"
   },
   {
    "duration": 6,
    "start_time": "2022-05-10T13:36:54.228Z"
   },
   {
    "duration": 11,
    "start_time": "2022-05-10T13:36:54.235Z"
   },
   {
    "duration": 31,
    "start_time": "2022-05-10T13:36:54.247Z"
   },
   {
    "duration": 35,
    "start_time": "2022-05-10T13:36:54.280Z"
   },
   {
    "duration": 109,
    "start_time": "2022-05-10T13:36:54.316Z"
   },
   {
    "duration": 19,
    "start_time": "2022-05-10T13:36:54.427Z"
   },
   {
    "duration": 54,
    "start_time": "2022-05-10T13:36:54.447Z"
   },
   {
    "duration": 23,
    "start_time": "2022-05-10T13:36:54.503Z"
   },
   {
    "duration": 57,
    "start_time": "2022-05-10T13:36:54.527Z"
   },
   {
    "duration": 4,
    "start_time": "2022-05-10T13:36:54.585Z"
   },
   {
    "duration": 9,
    "start_time": "2022-05-10T13:36:54.591Z"
   },
   {
    "duration": 211,
    "start_time": "2022-05-10T13:36:57.729Z"
   },
   {
    "duration": 218,
    "start_time": "2022-05-10T13:38:17.513Z"
   },
   {
    "duration": 3,
    "start_time": "2022-05-10T13:38:26.246Z"
   },
   {
    "duration": 374,
    "start_time": "2022-05-10T13:38:26.251Z"
   },
   {
    "duration": 46,
    "start_time": "2022-05-10T13:38:26.627Z"
   },
   {
    "duration": 4,
    "start_time": "2022-05-10T13:38:26.674Z"
   },
   {
    "duration": 94,
    "start_time": "2022-05-10T13:38:26.680Z"
   },
   {
    "duration": 48,
    "start_time": "2022-05-10T13:38:26.776Z"
   },
   {
    "duration": 94,
    "start_time": "2022-05-10T13:38:26.825Z"
   },
   {
    "duration": 3,
    "start_time": "2022-05-10T13:38:26.921Z"
   },
   {
    "duration": 16,
    "start_time": "2022-05-10T13:38:26.925Z"
   },
   {
    "duration": 197,
    "start_time": "2022-05-10T13:38:26.942Z"
   },
   {
    "duration": 51,
    "start_time": "2022-05-10T13:38:27.142Z"
   },
   {
    "duration": 6,
    "start_time": "2022-05-10T13:38:27.194Z"
   },
   {
    "duration": 12,
    "start_time": "2022-05-10T13:38:27.202Z"
   },
   {
    "duration": 9,
    "start_time": "2022-05-10T13:38:27.216Z"
   },
   {
    "duration": 51,
    "start_time": "2022-05-10T13:38:27.227Z"
   },
   {
    "duration": 103,
    "start_time": "2022-05-10T13:38:27.280Z"
   },
   {
    "duration": 19,
    "start_time": "2022-05-10T13:38:27.385Z"
   },
   {
    "duration": 42,
    "start_time": "2022-05-10T13:38:27.405Z"
   },
   {
    "duration": 43,
    "start_time": "2022-05-10T13:38:27.448Z"
   },
   {
    "duration": 41,
    "start_time": "2022-05-10T13:38:27.493Z"
   },
   {
    "duration": 4,
    "start_time": "2022-05-10T13:38:27.536Z"
   },
   {
    "duration": 8,
    "start_time": "2022-05-10T13:38:27.541Z"
   },
   {
    "duration": 252,
    "start_time": "2022-05-10T13:38:35.173Z"
   },
   {
    "duration": 5,
    "start_time": "2022-05-10T13:57:47.324Z"
   },
   {
    "duration": 42,
    "start_time": "2022-05-10T13:57:58.772Z"
   },
   {
    "duration": 21,
    "start_time": "2022-05-10T14:01:38.507Z"
   },
   {
    "duration": 27,
    "start_time": "2022-05-10T14:07:33.080Z"
   },
   {
    "duration": 218,
    "start_time": "2022-05-10T14:07:43.909Z"
   },
   {
    "duration": 156,
    "start_time": "2022-05-10T14:07:57.943Z"
   },
   {
    "duration": 4,
    "start_time": "2022-05-10T14:08:18.530Z"
   },
   {
    "duration": 302,
    "start_time": "2022-05-10T14:08:27.021Z"
   },
   {
    "duration": 304,
    "start_time": "2022-05-10T14:08:52.746Z"
   },
   {
    "duration": 31,
    "start_time": "2022-05-10T14:10:02.999Z"
   },
   {
    "duration": 181,
    "start_time": "2022-05-10T14:11:55.586Z"
   },
   {
    "duration": 226,
    "start_time": "2022-05-10T14:12:47.333Z"
   },
   {
    "duration": 27,
    "start_time": "2022-05-10T14:13:01.917Z"
   },
   {
    "duration": 3,
    "start_time": "2022-05-10T14:13:13.859Z"
   },
   {
    "duration": 530,
    "start_time": "2022-05-10T14:13:13.864Z"
   },
   {
    "duration": 42,
    "start_time": "2022-05-10T14:13:14.396Z"
   },
   {
    "duration": 4,
    "start_time": "2022-05-10T14:13:14.439Z"
   },
   {
    "duration": 91,
    "start_time": "2022-05-10T14:13:14.445Z"
   },
   {
    "duration": 58,
    "start_time": "2022-05-10T14:13:14.538Z"
   },
   {
    "duration": 85,
    "start_time": "2022-05-10T14:13:14.598Z"
   },
   {
    "duration": 3,
    "start_time": "2022-05-10T14:13:14.685Z"
   },
   {
    "duration": 14,
    "start_time": "2022-05-10T14:13:14.689Z"
   },
   {
    "duration": 187,
    "start_time": "2022-05-10T14:13:14.705Z"
   },
   {
    "duration": 41,
    "start_time": "2022-05-10T14:13:14.893Z"
   },
   {
    "duration": 5,
    "start_time": "2022-05-10T14:13:14.936Z"
   },
   {
    "duration": 33,
    "start_time": "2022-05-10T14:13:14.944Z"
   },
   {
    "duration": 10,
    "start_time": "2022-05-10T14:13:14.979Z"
   },
   {
    "duration": 53,
    "start_time": "2022-05-10T14:13:14.991Z"
   },
   {
    "duration": 34,
    "start_time": "2022-05-10T14:13:15.046Z"
   },
   {
    "duration": 119,
    "start_time": "2022-05-10T14:13:15.081Z"
   },
   {
    "duration": 21,
    "start_time": "2022-05-10T14:13:15.201Z"
   },
   {
    "duration": 53,
    "start_time": "2022-05-10T14:13:15.223Z"
   },
   {
    "duration": 23,
    "start_time": "2022-05-10T14:13:15.277Z"
   },
   {
    "duration": 42,
    "start_time": "2022-05-10T14:13:15.302Z"
   },
   {
    "duration": 4,
    "start_time": "2022-05-10T14:13:15.346Z"
   },
   {
    "duration": 7,
    "start_time": "2022-05-10T14:13:15.374Z"
   },
   {
    "duration": 316,
    "start_time": "2022-05-10T14:13:15.382Z"
   },
   {
    "duration": 41,
    "start_time": "2022-05-10T14:13:15.699Z"
   },
   {
    "duration": 199,
    "start_time": "2022-05-10T14:13:15.741Z"
   },
   {
    "duration": 37,
    "start_time": "2022-05-10T14:13:15.942Z"
   },
   {
    "duration": 233,
    "start_time": "2022-05-10T14:13:15.981Z"
   },
   {
    "duration": 30,
    "start_time": "2022-05-10T14:13:16.216Z"
   },
   {
    "duration": 26,
    "start_time": "2022-05-10T14:13:28.030Z"
   },
   {
    "duration": 20,
    "start_time": "2022-05-10T14:14:09.099Z"
   },
   {
    "duration": 3,
    "start_time": "2022-05-10T14:14:35.950Z"
   },
   {
    "duration": 363,
    "start_time": "2022-05-10T14:14:35.955Z"
   },
   {
    "duration": 42,
    "start_time": "2022-05-10T14:14:36.320Z"
   },
   {
    "duration": 5,
    "start_time": "2022-05-10T14:14:36.372Z"
   },
   {
    "duration": 73,
    "start_time": "2022-05-10T14:14:36.379Z"
   },
   {
    "duration": 44,
    "start_time": "2022-05-10T14:14:36.472Z"
   },
   {
    "duration": 86,
    "start_time": "2022-05-10T14:14:36.518Z"
   },
   {
    "duration": 3,
    "start_time": "2022-05-10T14:14:36.606Z"
   },
   {
    "duration": 10,
    "start_time": "2022-05-10T14:14:36.612Z"
   },
   {
    "duration": 201,
    "start_time": "2022-05-10T14:14:36.625Z"
   },
   {
    "duration": 59,
    "start_time": "2022-05-10T14:14:36.828Z"
   },
   {
    "duration": 6,
    "start_time": "2022-05-10T14:14:36.889Z"
   },
   {
    "duration": 7,
    "start_time": "2022-05-10T14:14:36.897Z"
   },
   {
    "duration": 10,
    "start_time": "2022-05-10T14:14:36.906Z"
   },
   {
    "duration": 61,
    "start_time": "2022-05-10T14:14:36.918Z"
   },
   {
    "duration": 6,
    "start_time": "2022-05-10T14:14:36.981Z"
   },
   {
    "duration": 112,
    "start_time": "2022-05-10T14:14:36.989Z"
   },
   {
    "duration": 21,
    "start_time": "2022-05-10T14:14:37.104Z"
   },
   {
    "duration": 58,
    "start_time": "2022-05-10T14:14:37.126Z"
   },
   {
    "duration": 22,
    "start_time": "2022-05-10T14:14:37.186Z"
   },
   {
    "duration": 38,
    "start_time": "2022-05-10T14:14:37.210Z"
   },
   {
    "duration": 4,
    "start_time": "2022-05-10T14:14:37.250Z"
   },
   {
    "duration": 6,
    "start_time": "2022-05-10T14:14:37.273Z"
   },
   {
    "duration": 315,
    "start_time": "2022-05-10T14:14:37.281Z"
   },
   {
    "duration": 40,
    "start_time": "2022-05-10T14:14:37.597Z"
   },
   {
    "duration": 193,
    "start_time": "2022-05-10T14:14:37.639Z"
   },
   {
    "duration": 28,
    "start_time": "2022-05-10T14:14:37.834Z"
   },
   {
    "duration": 228,
    "start_time": "2022-05-10T14:14:37.874Z"
   },
   {
    "duration": 28,
    "start_time": "2022-05-10T14:14:38.103Z"
   },
   {
    "duration": 23,
    "start_time": "2022-05-10T14:14:43.679Z"
   },
   {
    "duration": 22,
    "start_time": "2022-05-10T14:15:08.728Z"
   },
   {
    "duration": 3,
    "start_time": "2022-05-10T14:16:14.178Z"
   },
   {
    "duration": 608,
    "start_time": "2022-05-10T14:16:14.183Z"
   },
   {
    "duration": 40,
    "start_time": "2022-05-10T14:16:14.793Z"
   },
   {
    "duration": 4,
    "start_time": "2022-05-10T14:16:14.835Z"
   },
   {
    "duration": 79,
    "start_time": "2022-05-10T14:16:14.841Z"
   },
   {
    "duration": 61,
    "start_time": "2022-05-10T14:16:14.922Z"
   },
   {
    "duration": 96,
    "start_time": "2022-05-10T14:16:14.984Z"
   },
   {
    "duration": 3,
    "start_time": "2022-05-10T14:16:15.082Z"
   },
   {
    "duration": 16,
    "start_time": "2022-05-10T14:16:15.087Z"
   },
   {
    "duration": 180,
    "start_time": "2022-05-10T14:16:15.105Z"
   },
   {
    "duration": 138,
    "start_time": "2022-05-10T14:16:15.287Z"
   },
   {
    "duration": 5,
    "start_time": "2022-05-10T14:16:15.427Z"
   },
   {
    "duration": 10,
    "start_time": "2022-05-10T14:16:15.434Z"
   },
   {
    "duration": 29,
    "start_time": "2022-05-10T14:16:15.445Z"
   },
   {
    "duration": 33,
    "start_time": "2022-05-10T14:16:15.476Z"
   },
   {
    "duration": 6,
    "start_time": "2022-05-10T14:16:15.511Z"
   },
   {
    "duration": 127,
    "start_time": "2022-05-10T14:16:15.518Z"
   },
   {
    "duration": 30,
    "start_time": "2022-05-10T14:16:15.647Z"
   },
   {
    "duration": 42,
    "start_time": "2022-05-10T14:16:15.679Z"
   },
   {
    "duration": 23,
    "start_time": "2022-05-10T14:16:15.723Z"
   },
   {
    "duration": 64,
    "start_time": "2022-05-10T14:16:15.747Z"
   },
   {
    "duration": 4,
    "start_time": "2022-05-10T14:16:15.813Z"
   },
   {
    "duration": 7,
    "start_time": "2022-05-10T14:16:15.819Z"
   },
   {
    "duration": 327,
    "start_time": "2022-05-10T14:16:15.828Z"
   },
   {
    "duration": 52,
    "start_time": "2022-05-10T14:16:16.157Z"
   },
   {
    "duration": 192,
    "start_time": "2022-05-10T14:16:16.211Z"
   },
   {
    "duration": 27,
    "start_time": "2022-05-10T14:16:16.404Z"
   },
   {
    "duration": 232,
    "start_time": "2022-05-10T14:16:16.433Z"
   },
   {
    "duration": 32,
    "start_time": "2022-05-10T14:16:16.672Z"
   },
   {
    "duration": 30,
    "start_time": "2022-05-10T14:16:16.706Z"
   },
   {
    "duration": 50,
    "start_time": "2022-05-10T14:16:16.738Z"
   },
   {
    "duration": 10,
    "start_time": "2022-05-10T14:16:20.650Z"
   },
   {
    "duration": 37,
    "start_time": "2022-05-10T14:16:26.899Z"
   },
   {
    "duration": 4,
    "start_time": "2022-05-10T14:30:32.582Z"
   },
   {
    "duration": 3,
    "start_time": "2022-05-10T14:31:49.213Z"
   },
   {
    "duration": 337,
    "start_time": "2022-05-10T14:31:49.233Z"
   },
   {
    "duration": 37,
    "start_time": "2022-05-10T14:31:49.572Z"
   },
   {
    "duration": 4,
    "start_time": "2022-05-10T14:31:49.611Z"
   },
   {
    "duration": 85,
    "start_time": "2022-05-10T14:31:49.616Z"
   },
   {
    "duration": 43,
    "start_time": "2022-05-10T14:31:49.703Z"
   },
   {
    "duration": 63,
    "start_time": "2022-05-10T14:31:49.773Z"
   },
   {
    "duration": 3,
    "start_time": "2022-05-10T14:31:49.839Z"
   },
   {
    "duration": 35,
    "start_time": "2022-05-10T14:31:49.844Z"
   },
   {
    "duration": 184,
    "start_time": "2022-05-10T14:31:49.881Z"
   },
   {
    "duration": 44,
    "start_time": "2022-05-10T14:31:50.068Z"
   },
   {
    "duration": 6,
    "start_time": "2022-05-10T14:31:50.114Z"
   },
   {
    "duration": 9,
    "start_time": "2022-05-10T14:31:50.122Z"
   },
   {
    "duration": 10,
    "start_time": "2022-05-10T14:31:50.132Z"
   },
   {
    "duration": 57,
    "start_time": "2022-05-10T14:31:50.143Z"
   },
   {
    "duration": 4,
    "start_time": "2022-05-10T14:31:50.202Z"
   },
   {
    "duration": 108,
    "start_time": "2022-05-10T14:31:50.208Z"
   },
   {
    "duration": 20,
    "start_time": "2022-05-10T14:31:50.317Z"
   },
   {
    "duration": 51,
    "start_time": "2022-05-10T14:31:50.338Z"
   },
   {
    "duration": 22,
    "start_time": "2022-05-10T14:31:50.391Z"
   },
   {
    "duration": 57,
    "start_time": "2022-05-10T14:31:50.415Z"
   },
   {
    "duration": 4,
    "start_time": "2022-05-10T14:31:50.474Z"
   },
   {
    "duration": 8,
    "start_time": "2022-05-10T14:31:50.479Z"
   },
   {
    "duration": 310,
    "start_time": "2022-05-10T14:31:50.488Z"
   },
   {
    "duration": 41,
    "start_time": "2022-05-10T14:31:50.800Z"
   },
   {
    "duration": 196,
    "start_time": "2022-05-10T14:31:50.843Z"
   },
   {
    "duration": 43,
    "start_time": "2022-05-10T14:31:51.042Z"
   },
   {
    "duration": 231,
    "start_time": "2022-05-10T14:31:51.087Z"
   },
   {
    "duration": 31,
    "start_time": "2022-05-10T14:31:51.323Z"
   },
   {
    "duration": 38,
    "start_time": "2022-05-10T14:31:51.355Z"
   },
   {
    "duration": 24,
    "start_time": "2022-05-10T14:31:51.395Z"
   },
   {
    "duration": 10,
    "start_time": "2022-05-10T14:31:51.421Z"
   },
   {
    "duration": 41,
    "start_time": "2022-05-10T14:31:51.432Z"
   },
   {
    "duration": 17,
    "start_time": "2022-05-10T14:31:51.475Z"
   },
   {
    "duration": 9,
    "start_time": "2022-05-10T14:31:51.493Z"
   },
   {
    "duration": 4,
    "start_time": "2022-05-10T14:31:51.504Z"
   },
   {
    "duration": 13,
    "start_time": "2022-05-10T14:31:51.510Z"
   },
   {
    "duration": 3,
    "start_time": "2022-05-10T14:31:51.524Z"
   },
   {
    "duration": 152,
    "start_time": "2022-05-10T14:31:51.529Z"
   },
   {
    "duration": 30,
    "start_time": "2022-05-10T14:31:51.683Z"
   },
   {
    "duration": 4,
    "start_time": "2022-05-10T14:31:51.714Z"
   },
   {
    "duration": 24,
    "start_time": "2022-05-10T14:31:51.720Z"
   },
   {
    "duration": 28,
    "start_time": "2022-05-10T14:31:51.746Z"
   },
   {
    "duration": 26,
    "start_time": "2022-05-10T14:31:51.776Z"
   },
   {
    "duration": 38,
    "start_time": "2022-05-10T14:37:41.378Z"
   },
   {
    "duration": 244,
    "start_time": "2022-05-10T14:38:28.598Z"
   },
   {
    "duration": 4,
    "start_time": "2022-05-10T14:42:05.527Z"
   },
   {
    "duration": 449,
    "start_time": "2022-05-10T14:42:05.536Z"
   },
   {
    "duration": 41,
    "start_time": "2022-05-10T14:42:05.987Z"
   },
   {
    "duration": 5,
    "start_time": "2022-05-10T14:42:06.029Z"
   },
   {
    "duration": 78,
    "start_time": "2022-05-10T14:42:06.035Z"
   },
   {
    "duration": 64,
    "start_time": "2022-05-10T14:42:06.115Z"
   },
   {
    "duration": 63,
    "start_time": "2022-05-10T14:42:06.181Z"
   },
   {
    "duration": 3,
    "start_time": "2022-05-10T14:42:06.246Z"
   },
   {
    "duration": 9,
    "start_time": "2022-05-10T14:42:06.273Z"
   },
   {
    "duration": 189,
    "start_time": "2022-05-10T14:42:06.284Z"
   },
   {
    "duration": 68,
    "start_time": "2022-05-10T14:42:06.476Z"
   },
   {
    "duration": 15,
    "start_time": "2022-05-10T14:42:06.545Z"
   },
   {
    "duration": 35,
    "start_time": "2022-05-10T14:42:06.562Z"
   },
   {
    "duration": 15,
    "start_time": "2022-05-10T14:42:06.599Z"
   },
   {
    "duration": 37,
    "start_time": "2022-05-10T14:42:06.616Z"
   },
   {
    "duration": 6,
    "start_time": "2022-05-10T14:42:06.656Z"
   },
   {
    "duration": 112,
    "start_time": "2022-05-10T14:42:06.663Z"
   },
   {
    "duration": 22,
    "start_time": "2022-05-10T14:42:06.777Z"
   },
   {
    "duration": 45,
    "start_time": "2022-05-10T14:42:06.801Z"
   },
   {
    "duration": 45,
    "start_time": "2022-05-10T14:42:06.847Z"
   },
   {
    "duration": 41,
    "start_time": "2022-05-10T14:42:06.894Z"
   },
   {
    "duration": 4,
    "start_time": "2022-05-10T14:42:06.937Z"
   },
   {
    "duration": 32,
    "start_time": "2022-05-10T14:42:06.942Z"
   },
   {
    "duration": 30,
    "start_time": "2022-05-10T14:42:51.129Z"
   },
   {
    "duration": 19,
    "start_time": "2022-05-10T14:44:08.951Z"
   },
   {
    "duration": 23,
    "start_time": "2022-05-10T14:44:27.454Z"
   },
   {
    "duration": 29,
    "start_time": "2022-05-10T14:44:33.062Z"
   },
   {
    "duration": 20,
    "start_time": "2022-05-10T14:44:41.199Z"
   },
   {
    "duration": 29,
    "start_time": "2022-05-10T14:44:43.703Z"
   },
   {
    "duration": 3,
    "start_time": "2022-05-10T14:44:47.638Z"
   },
   {
    "duration": 374,
    "start_time": "2022-05-10T14:44:47.643Z"
   },
   {
    "duration": 40,
    "start_time": "2022-05-10T14:44:48.019Z"
   },
   {
    "duration": 5,
    "start_time": "2022-05-10T14:44:48.072Z"
   },
   {
    "duration": 76,
    "start_time": "2022-05-10T14:44:48.078Z"
   },
   {
    "duration": 46,
    "start_time": "2022-05-10T14:44:48.174Z"
   },
   {
    "duration": 89,
    "start_time": "2022-05-10T14:44:48.222Z"
   },
   {
    "duration": 3,
    "start_time": "2022-05-10T14:44:48.313Z"
   },
   {
    "duration": 12,
    "start_time": "2022-05-10T14:44:48.317Z"
   },
   {
    "duration": 188,
    "start_time": "2022-05-10T14:44:48.331Z"
   },
   {
    "duration": 59,
    "start_time": "2022-05-10T14:44:48.521Z"
   },
   {
    "duration": 5,
    "start_time": "2022-05-10T14:44:48.582Z"
   },
   {
    "duration": 9,
    "start_time": "2022-05-10T14:44:48.589Z"
   },
   {
    "duration": 7,
    "start_time": "2022-05-10T14:44:48.600Z"
   },
   {
    "duration": 30,
    "start_time": "2022-05-10T14:44:48.609Z"
   },
   {
    "duration": 4,
    "start_time": "2022-05-10T14:44:48.641Z"
   },
   {
    "duration": 128,
    "start_time": "2022-05-10T14:44:48.646Z"
   },
   {
    "duration": 20,
    "start_time": "2022-05-10T14:44:48.776Z"
   },
   {
    "duration": 43,
    "start_time": "2022-05-10T14:44:48.798Z"
   },
   {
    "duration": 42,
    "start_time": "2022-05-10T14:44:48.843Z"
   },
   {
    "duration": 40,
    "start_time": "2022-05-10T14:44:48.886Z"
   },
   {
    "duration": 4,
    "start_time": "2022-05-10T14:44:48.927Z"
   },
   {
    "duration": 10,
    "start_time": "2022-05-10T14:44:48.933Z"
   },
   {
    "duration": 54,
    "start_time": "2022-05-10T14:44:48.944Z"
   },
   {
    "duration": 30,
    "start_time": "2022-05-10T14:44:48.999Z"
   },
   {
    "duration": 19,
    "start_time": "2022-05-10T14:44:49.031Z"
   },
   {
    "duration": 41,
    "start_time": "2022-05-10T14:44:49.051Z"
   },
   {
    "duration": 21,
    "start_time": "2022-05-10T14:44:49.094Z"
   },
   {
    "duration": 21,
    "start_time": "2022-05-10T14:44:49.118Z"
   },
   {
    "duration": 29,
    "start_time": "2022-05-10T14:44:55.231Z"
   },
   {
    "duration": 29,
    "start_time": "2022-05-10T14:46:20.817Z"
   },
   {
    "duration": 28,
    "start_time": "2022-05-10T14:46:29.822Z"
   },
   {
    "duration": 23,
    "start_time": "2022-05-10T14:46:40.876Z"
   },
   {
    "duration": 15,
    "start_time": "2022-05-10T14:46:53.728Z"
   },
   {
    "duration": 4,
    "start_time": "2022-05-10T14:47:24.854Z"
   },
   {
    "duration": 598,
    "start_time": "2022-05-10T14:47:24.859Z"
   },
   {
    "duration": 61,
    "start_time": "2022-05-10T14:47:25.461Z"
   },
   {
    "duration": 4,
    "start_time": "2022-05-10T14:47:25.524Z"
   },
   {
    "duration": 88,
    "start_time": "2022-05-10T14:47:25.530Z"
   },
   {
    "duration": 64,
    "start_time": "2022-05-10T14:47:25.619Z"
   },
   {
    "duration": 63,
    "start_time": "2022-05-10T14:47:25.684Z"
   },
   {
    "duration": 4,
    "start_time": "2022-05-10T14:47:25.772Z"
   },
   {
    "duration": 17,
    "start_time": "2022-05-10T14:47:25.778Z"
   },
   {
    "duration": 177,
    "start_time": "2022-05-10T14:47:25.796Z"
   },
   {
    "duration": 43,
    "start_time": "2022-05-10T14:47:25.976Z"
   },
   {
    "duration": 10,
    "start_time": "2022-05-10T14:47:26.021Z"
   },
   {
    "duration": 11,
    "start_time": "2022-05-10T14:47:26.032Z"
   },
   {
    "duration": 29,
    "start_time": "2022-05-10T14:47:26.045Z"
   },
   {
    "duration": 34,
    "start_time": "2022-05-10T14:47:26.076Z"
   },
   {
    "duration": 5,
    "start_time": "2022-05-10T14:47:26.112Z"
   },
   {
    "duration": 123,
    "start_time": "2022-05-10T14:47:26.119Z"
   },
   {
    "duration": 29,
    "start_time": "2022-05-10T14:47:26.244Z"
   },
   {
    "duration": 44,
    "start_time": "2022-05-10T14:47:26.275Z"
   },
   {
    "duration": 22,
    "start_time": "2022-05-10T14:47:26.321Z"
   },
   {
    "duration": 61,
    "start_time": "2022-05-10T14:47:26.345Z"
   },
   {
    "duration": 4,
    "start_time": "2022-05-10T14:47:26.408Z"
   },
   {
    "duration": 8,
    "start_time": "2022-05-10T14:47:26.414Z"
   },
   {
    "duration": 51,
    "start_time": "2022-05-10T14:47:26.423Z"
   },
   {
    "duration": 32,
    "start_time": "2022-05-10T14:47:26.476Z"
   },
   {
    "duration": 21,
    "start_time": "2022-05-10T14:47:26.510Z"
   },
   {
    "duration": 44,
    "start_time": "2022-05-10T14:47:26.533Z"
   },
   {
    "duration": 23,
    "start_time": "2022-05-10T14:47:26.579Z"
   },
   {
    "duration": 21,
    "start_time": "2022-05-10T14:47:26.605Z"
   },
   {
    "duration": 50,
    "start_time": "2022-05-10T14:47:26.627Z"
   },
   {
    "duration": 10,
    "start_time": "2022-05-10T14:47:26.678Z"
   },
   {
    "duration": 9,
    "start_time": "2022-05-10T14:47:26.690Z"
   },
   {
    "duration": 29,
    "start_time": "2022-05-10T14:47:26.701Z"
   },
   {
    "duration": 11,
    "start_time": "2022-05-10T14:47:26.732Z"
   },
   {
    "duration": 30,
    "start_time": "2022-05-10T14:47:26.745Z"
   },
   {
    "duration": 12,
    "start_time": "2022-05-10T14:47:26.777Z"
   },
   {
    "duration": 5,
    "start_time": "2022-05-10T14:47:26.791Z"
   },
   {
    "duration": 144,
    "start_time": "2022-05-10T14:47:26.797Z"
   },
   {
    "duration": 35,
    "start_time": "2022-05-10T14:47:26.943Z"
   },
   {
    "duration": 4,
    "start_time": "2022-05-10T14:47:26.980Z"
   },
   {
    "duration": 24,
    "start_time": "2022-05-10T14:47:26.985Z"
   },
   {
    "duration": 4,
    "start_time": "2022-05-10T14:47:27.011Z"
   },
   {
    "duration": 15,
    "start_time": "2022-05-10T14:47:27.017Z"
   },
   {
    "duration": 41,
    "start_time": "2022-05-10T14:47:33.158Z"
   },
   {
    "duration": 10,
    "start_time": "2022-05-10T14:48:02.819Z"
   },
   {
    "duration": 29,
    "start_time": "2022-05-10T14:48:06.387Z"
   },
   {
    "duration": 3,
    "start_time": "2022-05-10T14:48:17.563Z"
   },
   {
    "duration": 372,
    "start_time": "2022-05-10T14:48:17.568Z"
   },
   {
    "duration": 48,
    "start_time": "2022-05-10T14:48:17.942Z"
   },
   {
    "duration": 5,
    "start_time": "2022-05-10T14:48:17.991Z"
   },
   {
    "duration": 88,
    "start_time": "2022-05-10T14:48:17.998Z"
   },
   {
    "duration": 43,
    "start_time": "2022-05-10T14:48:18.088Z"
   },
   {
    "duration": 98,
    "start_time": "2022-05-10T14:48:18.132Z"
   },
   {
    "duration": 4,
    "start_time": "2022-05-10T14:48:18.231Z"
   },
   {
    "duration": 25,
    "start_time": "2022-05-10T14:48:18.237Z"
   },
   {
    "duration": 180,
    "start_time": "2022-05-10T14:48:18.273Z"
   },
   {
    "duration": 47,
    "start_time": "2022-05-10T14:48:18.456Z"
   },
   {
    "duration": 5,
    "start_time": "2022-05-10T14:48:18.505Z"
   },
   {
    "duration": 9,
    "start_time": "2022-05-10T14:48:18.511Z"
   },
   {
    "duration": 8,
    "start_time": "2022-05-10T14:48:18.521Z"
   },
   {
    "duration": 56,
    "start_time": "2022-05-10T14:48:18.530Z"
   },
   {
    "duration": 5,
    "start_time": "2022-05-10T14:48:18.588Z"
   },
   {
    "duration": 110,
    "start_time": "2022-05-10T14:48:18.594Z"
   },
   {
    "duration": 145,
    "start_time": "2022-05-10T14:48:18.706Z"
   },
   {
    "duration": 46,
    "start_time": "2022-05-10T14:48:18.852Z"
   },
   {
    "duration": 22,
    "start_time": "2022-05-10T14:48:18.900Z"
   },
   {
    "duration": 59,
    "start_time": "2022-05-10T14:48:18.924Z"
   },
   {
    "duration": 5,
    "start_time": "2022-05-10T14:48:18.985Z"
   },
   {
    "duration": 9,
    "start_time": "2022-05-10T14:48:18.991Z"
   },
   {
    "duration": 34,
    "start_time": "2022-05-10T14:48:19.001Z"
   },
   {
    "duration": 44,
    "start_time": "2022-05-10T14:48:19.037Z"
   },
   {
    "duration": 19,
    "start_time": "2022-05-10T14:48:19.083Z"
   },
   {
    "duration": 19,
    "start_time": "2022-05-10T14:48:19.103Z"
   },
   {
    "duration": 23,
    "start_time": "2022-05-10T14:48:19.124Z"
   },
   {
    "duration": 19,
    "start_time": "2022-05-10T14:48:19.175Z"
   },
   {
    "duration": 21,
    "start_time": "2022-05-10T14:48:19.196Z"
   },
   {
    "duration": 9,
    "start_time": "2022-05-10T14:48:19.218Z"
   },
   {
    "duration": 9,
    "start_time": "2022-05-10T14:48:19.229Z"
   },
   {
    "duration": 17,
    "start_time": "2022-05-10T14:48:34.427Z"
   },
   {
    "duration": 14,
    "start_time": "2022-05-10T14:50:17.008Z"
   },
   {
    "duration": 17,
    "start_time": "2022-05-10T14:50:17.069Z"
   },
   {
    "duration": 31,
    "start_time": "2022-05-10T14:50:49.388Z"
   },
   {
    "duration": 6,
    "start_time": "2022-05-10T14:53:28.880Z"
   },
   {
    "duration": 4,
    "start_time": "2022-05-10T14:53:50.895Z"
   },
   {
    "duration": 3,
    "start_time": "2022-05-10T14:54:08.662Z"
   },
   {
    "duration": 374,
    "start_time": "2022-05-10T14:54:08.673Z"
   },
   {
    "duration": 46,
    "start_time": "2022-05-10T14:54:09.048Z"
   },
   {
    "duration": 3,
    "start_time": "2022-05-10T14:54:09.096Z"
   },
   {
    "duration": 83,
    "start_time": "2022-05-10T14:54:09.101Z"
   },
   {
    "duration": 41,
    "start_time": "2022-05-10T14:54:09.186Z"
   },
   {
    "duration": 94,
    "start_time": "2022-05-10T14:54:09.228Z"
   },
   {
    "duration": 5,
    "start_time": "2022-05-10T14:54:09.324Z"
   },
   {
    "duration": 10,
    "start_time": "2022-05-10T14:54:09.330Z"
   },
   {
    "duration": 237,
    "start_time": "2022-05-10T14:54:09.341Z"
   },
   {
    "duration": 42,
    "start_time": "2022-05-10T14:54:09.580Z"
   },
   {
    "duration": 9,
    "start_time": "2022-05-10T14:54:09.624Z"
   },
   {
    "duration": 8,
    "start_time": "2022-05-10T14:54:09.634Z"
   },
   {
    "duration": 32,
    "start_time": "2022-05-10T14:54:09.644Z"
   },
   {
    "duration": 32,
    "start_time": "2022-05-10T14:54:09.677Z"
   },
   {
    "duration": 5,
    "start_time": "2022-05-10T14:54:09.711Z"
   },
   {
    "duration": 108,
    "start_time": "2022-05-10T14:54:10.457Z"
   },
   {
    "duration": 19,
    "start_time": "2022-05-10T14:54:10.567Z"
   },
   {
    "duration": 41,
    "start_time": "2022-05-10T14:54:10.588Z"
   },
   {
    "duration": 47,
    "start_time": "2022-05-10T14:54:10.632Z"
   },
   {
    "duration": 41,
    "start_time": "2022-05-10T14:54:10.681Z"
   },
   {
    "duration": 6,
    "start_time": "2022-05-10T14:54:10.724Z"
   },
   {
    "duration": 8,
    "start_time": "2022-05-10T14:54:10.732Z"
   },
   {
    "duration": 54,
    "start_time": "2022-05-10T14:54:10.742Z"
   },
   {
    "duration": 34,
    "start_time": "2022-05-10T14:54:10.797Z"
   },
   {
    "duration": 18,
    "start_time": "2022-05-10T14:54:10.833Z"
   },
   {
    "duration": 21,
    "start_time": "2022-05-10T14:54:10.873Z"
   },
   {
    "duration": 22,
    "start_time": "2022-05-10T14:54:10.896Z"
   },
   {
    "duration": 19,
    "start_time": "2022-05-10T14:54:10.919Z"
   },
   {
    "duration": 47,
    "start_time": "2022-05-10T14:54:10.940Z"
   },
   {
    "duration": 8,
    "start_time": "2022-05-10T14:54:10.989Z"
   },
   {
    "duration": 31,
    "start_time": "2022-05-10T14:54:10.998Z"
   },
   {
    "duration": 4,
    "start_time": "2022-05-10T14:54:11.031Z"
   },
   {
    "duration": 40,
    "start_time": "2022-05-10T14:54:11.037Z"
   },
   {
    "duration": 6,
    "start_time": "2022-05-10T14:54:11.080Z"
   },
   {
    "duration": 10,
    "start_time": "2022-05-10T14:54:11.088Z"
   },
   {
    "duration": 3,
    "start_time": "2022-05-10T14:54:11.100Z"
   },
   {
    "duration": 138,
    "start_time": "2022-05-10T14:54:11.104Z"
   },
   {
    "duration": 38,
    "start_time": "2022-05-10T14:54:11.244Z"
   },
   {
    "duration": 4,
    "start_time": "2022-05-10T14:54:11.283Z"
   },
   {
    "duration": 21,
    "start_time": "2022-05-10T14:54:11.289Z"
   },
   {
    "duration": 5,
    "start_time": "2022-05-10T14:54:11.312Z"
   },
   {
    "duration": 21,
    "start_time": "2022-05-10T14:54:11.319Z"
   },
   {
    "duration": 37,
    "start_time": "2022-05-10T14:54:50.567Z"
   },
   {
    "duration": 210,
    "start_time": "2022-05-10T14:54:55.482Z"
   },
   {
    "duration": 199,
    "start_time": "2022-05-10T14:56:45.384Z"
   },
   {
    "duration": 27,
    "start_time": "2022-05-10T14:56:54.661Z"
   },
   {
    "duration": 199,
    "start_time": "2022-05-10T14:56:58.633Z"
   },
   {
    "duration": 207,
    "start_time": "2022-05-10T14:59:39.588Z"
   },
   {
    "duration": 27,
    "start_time": "2022-05-10T14:59:49.417Z"
   },
   {
    "duration": 223,
    "start_time": "2022-05-10T14:59:52.200Z"
   },
   {
    "duration": 201,
    "start_time": "2022-05-10T14:59:57.247Z"
   },
   {
    "duration": 214,
    "start_time": "2022-05-10T15:04:39.919Z"
   },
   {
    "duration": 330,
    "start_time": "2022-05-10T15:04:56.930Z"
   },
   {
    "duration": 647,
    "start_time": "2022-05-10T15:05:01.981Z"
   },
   {
    "duration": 137,
    "start_time": "2022-05-10T15:06:46.948Z"
   },
   {
    "duration": 134,
    "start_time": "2022-05-10T15:07:03.498Z"
   },
   {
    "duration": 14,
    "start_time": "2022-05-10T15:09:50.240Z"
   },
   {
    "duration": 28,
    "start_time": "2022-05-10T15:10:04.098Z"
   },
   {
    "duration": 124,
    "start_time": "2022-05-10T15:13:09.470Z"
   },
   {
    "duration": 125,
    "start_time": "2022-05-10T15:14:00.169Z"
   },
   {
    "duration": 30,
    "start_time": "2022-05-10T15:17:46.612Z"
   },
   {
    "duration": 18,
    "start_time": "2022-05-10T15:21:43.316Z"
   },
   {
    "duration": 123,
    "start_time": "2022-05-10T15:21:53.836Z"
   },
   {
    "duration": 24,
    "start_time": "2022-05-10T15:22:20.636Z"
   },
   {
    "duration": 120,
    "start_time": "2022-05-10T15:23:03.976Z"
   },
   {
    "duration": 118,
    "start_time": "2022-05-10T15:23:43.933Z"
   },
   {
    "duration": 26,
    "start_time": "2022-05-10T15:24:09.307Z"
   },
   {
    "duration": 191,
    "start_time": "2022-05-10T15:24:26.907Z"
   },
   {
    "duration": 125,
    "start_time": "2022-05-10T15:26:03.341Z"
   },
   {
    "duration": 1126,
    "start_time": "2022-05-11T00:01:32.213Z"
   },
   {
    "duration": 405,
    "start_time": "2022-05-11T00:01:33.341Z"
   },
   {
    "duration": 48,
    "start_time": "2022-05-11T00:01:33.747Z"
   },
   {
    "duration": 6,
    "start_time": "2022-05-11T00:01:33.797Z"
   },
   {
    "duration": 93,
    "start_time": "2022-05-11T00:01:33.806Z"
   },
   {
    "duration": 45,
    "start_time": "2022-05-11T00:01:33.902Z"
   },
   {
    "duration": 92,
    "start_time": "2022-05-11T00:01:33.949Z"
   },
   {
    "duration": 4,
    "start_time": "2022-05-11T00:01:34.042Z"
   },
   {
    "duration": 12,
    "start_time": "2022-05-11T00:01:34.047Z"
   },
   {
    "duration": 215,
    "start_time": "2022-05-11T00:01:34.062Z"
   },
   {
    "duration": 51,
    "start_time": "2022-05-11T00:01:34.278Z"
   },
   {
    "duration": 6,
    "start_time": "2022-05-11T00:01:34.330Z"
   },
   {
    "duration": 9,
    "start_time": "2022-05-11T00:01:34.337Z"
   },
   {
    "duration": 9,
    "start_time": "2022-05-11T00:01:34.347Z"
   },
   {
    "duration": 64,
    "start_time": "2022-05-11T00:01:34.358Z"
   },
   {
    "duration": 5,
    "start_time": "2022-05-11T00:01:34.424Z"
   },
   {
    "duration": 116,
    "start_time": "2022-05-11T00:01:34.431Z"
   },
   {
    "duration": 105,
    "start_time": "2022-05-11T00:01:34.549Z"
   },
   {
    "duration": 0,
    "start_time": "2022-05-11T00:01:34.657Z"
   },
   {
    "duration": 0,
    "start_time": "2022-05-11T00:01:34.658Z"
   },
   {
    "duration": 0,
    "start_time": "2022-05-11T00:01:34.659Z"
   },
   {
    "duration": 0,
    "start_time": "2022-05-11T00:01:34.660Z"
   },
   {
    "duration": 0,
    "start_time": "2022-05-11T00:01:34.662Z"
   },
   {
    "duration": 0,
    "start_time": "2022-05-11T00:01:34.663Z"
   },
   {
    "duration": 0,
    "start_time": "2022-05-11T00:01:34.664Z"
   },
   {
    "duration": 0,
    "start_time": "2022-05-11T00:01:34.665Z"
   },
   {
    "duration": 0,
    "start_time": "2022-05-11T00:01:34.666Z"
   },
   {
    "duration": 0,
    "start_time": "2022-05-11T00:01:34.667Z"
   },
   {
    "duration": 0,
    "start_time": "2022-05-11T00:01:34.668Z"
   },
   {
    "duration": 0,
    "start_time": "2022-05-11T00:01:34.669Z"
   },
   {
    "duration": 0,
    "start_time": "2022-05-11T00:01:34.697Z"
   },
   {
    "duration": 1,
    "start_time": "2022-05-11T00:01:34.699Z"
   },
   {
    "duration": 0,
    "start_time": "2022-05-11T00:01:34.701Z"
   },
   {
    "duration": 0,
    "start_time": "2022-05-11T00:01:34.702Z"
   },
   {
    "duration": 0,
    "start_time": "2022-05-11T00:01:34.704Z"
   },
   {
    "duration": 0,
    "start_time": "2022-05-11T00:01:34.705Z"
   },
   {
    "duration": 0,
    "start_time": "2022-05-11T00:01:34.707Z"
   },
   {
    "duration": 0,
    "start_time": "2022-05-11T00:01:34.708Z"
   },
   {
    "duration": 0,
    "start_time": "2022-05-11T00:01:34.709Z"
   },
   {
    "duration": 0,
    "start_time": "2022-05-11T00:01:34.710Z"
   },
   {
    "duration": 0,
    "start_time": "2022-05-11T00:01:34.710Z"
   },
   {
    "duration": 0,
    "start_time": "2022-05-11T00:01:34.711Z"
   },
   {
    "duration": 0,
    "start_time": "2022-05-11T00:01:34.712Z"
   },
   {
    "duration": 0,
    "start_time": "2022-05-11T00:01:34.714Z"
   },
   {
    "duration": 0,
    "start_time": "2022-05-11T00:01:34.714Z"
   },
   {
    "duration": 0,
    "start_time": "2022-05-11T00:01:34.716Z"
   },
   {
    "duration": 0,
    "start_time": "2022-05-11T00:01:34.717Z"
   },
   {
    "duration": 0,
    "start_time": "2022-05-11T00:01:34.718Z"
   },
   {
    "duration": 0,
    "start_time": "2022-05-11T00:01:34.718Z"
   },
   {
    "duration": 0,
    "start_time": "2022-05-11T00:01:34.719Z"
   },
   {
    "duration": 0,
    "start_time": "2022-05-11T00:01:34.720Z"
   },
   {
    "duration": 0,
    "start_time": "2022-05-11T00:01:34.721Z"
   },
   {
    "duration": 0,
    "start_time": "2022-05-11T00:01:34.722Z"
   },
   {
    "duration": 0,
    "start_time": "2022-05-11T00:01:34.724Z"
   },
   {
    "duration": 1,
    "start_time": "2022-05-11T00:01:34.724Z"
   },
   {
    "duration": 0,
    "start_time": "2022-05-11T00:01:34.725Z"
   },
   {
    "duration": 0,
    "start_time": "2022-05-11T00:01:34.726Z"
   },
   {
    "duration": 0,
    "start_time": "2022-05-11T00:01:34.727Z"
   },
   {
    "duration": 0,
    "start_time": "2022-05-11T00:01:34.728Z"
   },
   {
    "duration": 0,
    "start_time": "2022-05-11T00:01:34.729Z"
   },
   {
    "duration": 0,
    "start_time": "2022-05-11T00:01:34.730Z"
   },
   {
    "duration": 0,
    "start_time": "2022-05-11T00:01:34.731Z"
   },
   {
    "duration": 0,
    "start_time": "2022-05-11T00:01:34.732Z"
   },
   {
    "duration": 0,
    "start_time": "2022-05-11T00:01:34.733Z"
   },
   {
    "duration": 3,
    "start_time": "2022-05-11T00:02:19.614Z"
   },
   {
    "duration": 1141,
    "start_time": "2022-05-11T00:02:24.824Z"
   },
   {
    "duration": 394,
    "start_time": "2022-05-11T00:02:25.967Z"
   },
   {
    "duration": 49,
    "start_time": "2022-05-11T00:02:26.363Z"
   },
   {
    "duration": 4,
    "start_time": "2022-05-11T00:02:26.414Z"
   },
   {
    "duration": 104,
    "start_time": "2022-05-11T00:02:26.420Z"
   },
   {
    "duration": 69,
    "start_time": "2022-05-11T00:02:26.526Z"
   },
   {
    "duration": 68,
    "start_time": "2022-05-11T00:02:26.596Z"
   },
   {
    "duration": 4,
    "start_time": "2022-05-11T00:02:26.665Z"
   },
   {
    "duration": 14,
    "start_time": "2022-05-11T00:02:26.692Z"
   },
   {
    "duration": 300,
    "start_time": "2022-05-11T00:02:26.709Z"
   },
   {
    "duration": 109,
    "start_time": "2022-05-11T00:02:27.011Z"
   },
   {
    "duration": 8,
    "start_time": "2022-05-11T00:02:27.122Z"
   },
   {
    "duration": 8,
    "start_time": "2022-05-11T00:02:27.132Z"
   },
   {
    "duration": 62,
    "start_time": "2022-05-11T00:02:27.142Z"
   },
   {
    "duration": 113,
    "start_time": "2022-05-11T00:02:27.206Z"
   },
   {
    "duration": 5,
    "start_time": "2022-05-11T00:02:27.321Z"
   },
   {
    "duration": 288,
    "start_time": "2022-05-11T00:02:27.328Z"
   },
   {
    "duration": 3,
    "start_time": "2022-05-11T00:02:27.618Z"
   },
   {
    "duration": 81,
    "start_time": "2022-05-11T00:02:27.622Z"
   },
   {
    "duration": 96,
    "start_time": "2022-05-11T00:02:27.706Z"
   },
   {
    "duration": 26,
    "start_time": "2022-05-11T00:02:27.804Z"
   },
   {
    "duration": 105,
    "start_time": "2022-05-11T00:02:27.831Z"
   },
   {
    "duration": 59,
    "start_time": "2022-05-11T00:02:27.937Z"
   },
   {
    "duration": 17,
    "start_time": "2022-05-11T00:02:28.001Z"
   },
   {
    "duration": 95,
    "start_time": "2022-05-11T00:02:28.020Z"
   },
   {
    "duration": 98,
    "start_time": "2022-05-11T00:02:28.117Z"
   },
   {
    "duration": 88,
    "start_time": "2022-05-11T00:02:28.217Z"
   },
   {
    "duration": 91,
    "start_time": "2022-05-11T00:02:28.311Z"
   },
   {
    "duration": 24,
    "start_time": "2022-05-11T00:02:28.408Z"
   },
   {
    "duration": 73,
    "start_time": "2022-05-11T00:02:28.434Z"
   },
   {
    "duration": 92,
    "start_time": "2022-05-11T00:02:28.509Z"
   },
   {
    "duration": 10,
    "start_time": "2022-05-11T00:02:28.603Z"
   },
   {
    "duration": 84,
    "start_time": "2022-05-11T00:02:28.614Z"
   },
   {
    "duration": 12,
    "start_time": "2022-05-11T00:02:28.700Z"
   },
   {
    "duration": 12,
    "start_time": "2022-05-11T00:02:28.714Z"
   },
   {
    "duration": 9,
    "start_time": "2022-05-11T00:02:28.728Z"
   },
   {
    "duration": 62,
    "start_time": "2022-05-11T00:02:28.739Z"
   },
   {
    "duration": 7,
    "start_time": "2022-05-11T00:02:28.802Z"
   },
   {
    "duration": 230,
    "start_time": "2022-05-11T00:02:28.810Z"
   },
   {
    "duration": 32,
    "start_time": "2022-05-11T00:02:29.093Z"
   },
   {
    "duration": 7,
    "start_time": "2022-05-11T00:02:29.127Z"
   },
   {
    "duration": 23,
    "start_time": "2022-05-11T00:02:29.137Z"
   },
   {
    "duration": 4,
    "start_time": "2022-05-11T00:02:29.162Z"
   },
   {
    "duration": 38,
    "start_time": "2022-05-11T00:02:29.167Z"
   },
   {
    "duration": 29,
    "start_time": "2022-05-11T00:02:29.207Z"
   },
   {
    "duration": 142,
    "start_time": "2022-05-11T00:02:29.238Z"
   },
   {
    "duration": 137,
    "start_time": "2022-05-11T00:02:29.382Z"
   },
   {
    "duration": 26,
    "start_time": "2022-05-11T00:02:29.521Z"
   },
   {
    "duration": 150,
    "start_time": "2022-05-11T00:02:29.548Z"
   },
   {
    "duration": 128,
    "start_time": "2022-05-11T00:02:29.701Z"
   },
   {
    "duration": 24,
    "start_time": "2022-05-11T00:02:29.830Z"
   },
   {
    "duration": 148,
    "start_time": "2022-05-11T00:02:29.856Z"
   },
   {
    "duration": 143,
    "start_time": "2022-05-11T00:02:30.007Z"
   },
   {
    "duration": 6,
    "start_time": "2022-05-11T00:02:30.152Z"
   },
   {
    "duration": 7,
    "start_time": "2022-05-11T00:02:30.159Z"
   },
   {
    "duration": 10,
    "start_time": "2022-05-11T00:02:30.168Z"
   },
   {
    "duration": 13,
    "start_time": "2022-05-11T00:02:30.180Z"
   },
   {
    "duration": 25,
    "start_time": "2022-05-11T00:02:30.194Z"
   },
   {
    "duration": 7,
    "start_time": "2022-05-11T00:02:30.220Z"
   },
   {
    "duration": 19,
    "start_time": "2022-05-11T00:02:30.228Z"
   },
   {
    "duration": 4,
    "start_time": "2022-05-11T00:02:30.248Z"
   },
   {
    "duration": 17,
    "start_time": "2022-05-11T00:02:30.254Z"
   },
   {
    "duration": 15,
    "start_time": "2022-05-11T00:02:30.272Z"
   },
   {
    "duration": 23,
    "start_time": "2022-05-11T00:02:30.289Z"
   },
   {
    "duration": 4,
    "start_time": "2022-05-11T00:03:45.561Z"
   },
   {
    "duration": 114,
    "start_time": "2022-05-11T00:03:48.707Z"
   },
   {
    "duration": 30,
    "start_time": "2022-05-11T00:03:51.048Z"
   },
   {
    "duration": 3,
    "start_time": "2022-05-11T00:03:52.672Z"
   },
   {
    "duration": 21,
    "start_time": "2022-05-11T00:03:53.816Z"
   },
   {
    "duration": 4,
    "start_time": "2022-05-11T00:03:56.203Z"
   },
   {
    "duration": 4,
    "start_time": "2022-05-11T00:07:24.967Z"
   },
   {
    "duration": 64,
    "start_time": "2022-05-11T00:07:53.257Z"
   },
   {
    "duration": 1367,
    "start_time": "2022-05-11T00:09:09.001Z"
   },
   {
    "duration": 280,
    "start_time": "2022-05-11T00:09:25.286Z"
   },
   {
    "duration": 239,
    "start_time": "2022-05-11T00:09:45.726Z"
   },
   {
    "duration": 164,
    "start_time": "2022-05-11T00:09:54.518Z"
   },
   {
    "duration": 1148,
    "start_time": "2022-05-11T00:10:04.506Z"
   },
   {
    "duration": 398,
    "start_time": "2022-05-11T00:10:05.656Z"
   },
   {
    "duration": 60,
    "start_time": "2022-05-11T00:10:06.056Z"
   },
   {
    "duration": 5,
    "start_time": "2022-05-11T00:10:06.118Z"
   },
   {
    "duration": 96,
    "start_time": "2022-05-11T00:10:06.125Z"
   },
   {
    "duration": 43,
    "start_time": "2022-05-11T00:10:06.222Z"
   },
   {
    "duration": 71,
    "start_time": "2022-05-11T00:10:06.292Z"
   },
   {
    "duration": 3,
    "start_time": "2022-05-11T00:10:06.364Z"
   },
   {
    "duration": 34,
    "start_time": "2022-05-11T00:10:06.369Z"
   },
   {
    "duration": 200,
    "start_time": "2022-05-11T00:10:06.408Z"
   },
   {
    "duration": 42,
    "start_time": "2022-05-11T00:10:06.610Z"
   },
   {
    "duration": 6,
    "start_time": "2022-05-11T00:10:06.654Z"
   },
   {
    "duration": 32,
    "start_time": "2022-05-11T00:10:06.662Z"
   },
   {
    "duration": 12,
    "start_time": "2022-05-11T00:10:06.695Z"
   },
   {
    "duration": 37,
    "start_time": "2022-05-11T00:10:06.708Z"
   },
   {
    "duration": 6,
    "start_time": "2022-05-11T00:10:06.746Z"
   },
   {
    "duration": 127,
    "start_time": "2022-05-11T00:10:06.753Z"
   },
   {
    "duration": 2,
    "start_time": "2022-05-11T00:10:06.882Z"
   },
   {
    "duration": 28,
    "start_time": "2022-05-11T00:10:06.886Z"
   },
   {
    "duration": 46,
    "start_time": "2022-05-11T00:10:06.916Z"
   },
   {
    "duration": 44,
    "start_time": "2022-05-11T00:10:06.964Z"
   },
   {
    "duration": 46,
    "start_time": "2022-05-11T00:10:07.009Z"
   },
   {
    "duration": 5,
    "start_time": "2022-05-11T00:10:07.056Z"
   },
   {
    "duration": 31,
    "start_time": "2022-05-11T00:10:07.062Z"
   },
   {
    "duration": 31,
    "start_time": "2022-05-11T00:10:07.094Z"
   },
   {
    "duration": 35,
    "start_time": "2022-05-11T00:10:07.127Z"
   },
   {
    "duration": 42,
    "start_time": "2022-05-11T00:10:07.163Z"
   },
   {
    "duration": 25,
    "start_time": "2022-05-11T00:10:07.209Z"
   },
   {
    "duration": 26,
    "start_time": "2022-05-11T00:10:07.237Z"
   },
   {
    "duration": 50,
    "start_time": "2022-05-11T00:10:07.264Z"
   },
   {
    "duration": 31,
    "start_time": "2022-05-11T00:10:07.316Z"
   },
   {
    "duration": 8,
    "start_time": "2022-05-11T00:10:07.348Z"
   },
   {
    "duration": 50,
    "start_time": "2022-05-11T00:10:07.358Z"
   },
   {
    "duration": 4,
    "start_time": "2022-05-11T00:10:07.410Z"
   },
   {
    "duration": 30,
    "start_time": "2022-05-11T00:10:07.417Z"
   },
   {
    "duration": 13,
    "start_time": "2022-05-11T00:10:07.449Z"
   },
   {
    "duration": 17,
    "start_time": "2022-05-11T00:10:07.463Z"
   },
   {
    "duration": 7,
    "start_time": "2022-05-11T00:10:07.482Z"
   },
   {
    "duration": 143,
    "start_time": "2022-05-11T00:10:07.491Z"
   },
   {
    "duration": 31,
    "start_time": "2022-05-11T00:10:07.636Z"
   },
   {
    "duration": 7,
    "start_time": "2022-05-11T00:10:07.669Z"
   },
   {
    "duration": 31,
    "start_time": "2022-05-11T00:10:07.678Z"
   },
   {
    "duration": 7,
    "start_time": "2022-05-11T00:10:07.711Z"
   },
   {
    "duration": 21,
    "start_time": "2022-05-11T00:10:07.720Z"
   },
   {
    "duration": 24,
    "start_time": "2022-05-11T00:10:07.743Z"
   },
   {
    "duration": 158,
    "start_time": "2022-05-11T00:10:07.769Z"
   },
   {
    "duration": 143,
    "start_time": "2022-05-11T00:10:07.929Z"
   },
   {
    "duration": 45,
    "start_time": "2022-05-11T00:10:08.074Z"
   },
   {
    "duration": 145,
    "start_time": "2022-05-11T00:10:08.121Z"
   },
   {
    "duration": 131,
    "start_time": "2022-05-11T00:10:08.268Z"
   },
   {
    "duration": 25,
    "start_time": "2022-05-11T00:10:08.402Z"
   },
   {
    "duration": 140,
    "start_time": "2022-05-11T00:10:08.428Z"
   },
   {
    "duration": 139,
    "start_time": "2022-05-11T00:10:08.570Z"
   },
   {
    "duration": 6,
    "start_time": "2022-05-11T00:10:08.712Z"
   },
   {
    "duration": 5,
    "start_time": "2022-05-11T00:10:08.720Z"
   },
   {
    "duration": 9,
    "start_time": "2022-05-11T00:10:08.726Z"
   },
   {
    "duration": 7,
    "start_time": "2022-05-11T00:10:08.736Z"
   },
   {
    "duration": 9,
    "start_time": "2022-05-11T00:10:08.745Z"
   },
   {
    "duration": 5,
    "start_time": "2022-05-11T00:10:08.756Z"
   },
   {
    "duration": 41,
    "start_time": "2022-05-11T00:10:08.763Z"
   },
   {
    "duration": 4,
    "start_time": "2022-05-11T00:10:08.806Z"
   },
   {
    "duration": 8,
    "start_time": "2022-05-11T00:10:08.811Z"
   },
   {
    "duration": 10,
    "start_time": "2022-05-11T00:10:08.821Z"
   },
   {
    "duration": 8,
    "start_time": "2022-05-11T00:10:08.833Z"
   },
   {
    "duration": 138,
    "start_time": "2022-05-11T00:10:08.843Z"
   },
   {
    "duration": 1381,
    "start_time": "2022-05-11T00:10:08.983Z"
   },
   {
    "duration": 179,
    "start_time": "2022-05-11T00:10:10.366Z"
   },
   {
    "duration": 174,
    "start_time": "2022-05-11T00:10:10.547Z"
   },
   {
    "duration": 164,
    "start_time": "2022-05-11T00:10:10.723Z"
   },
   {
    "duration": 38,
    "start_time": "2022-05-11T00:10:10.893Z"
   }
  ],
  "kernelspec": {
   "display_name": "Python 3 (ipykernel)",
   "language": "python",
   "name": "python3"
  },
  "language_info": {
   "codemirror_mode": {
    "name": "ipython",
    "version": 3
   },
   "file_extension": ".py",
   "mimetype": "text/x-python",
   "name": "python",
   "nbconvert_exporter": "python",
   "pygments_lexer": "ipython3",
   "version": "3.9.5"
  },
  "toc": {
   "base_numbering": 1,
   "nav_menu": {
    "height": "164px",
    "width": "297px"
   },
   "number_sections": true,
   "sideBar": true,
   "skip_h1_title": true,
   "title_cell": "Table of Contents",
   "title_sidebar": "Contents",
   "toc_cell": false,
   "toc_position": {
    "height": "calc(100% - 180px)",
    "left": "10px",
    "top": "150px",
    "width": "165px"
   },
   "toc_section_display": true,
   "toc_window_display": true
  }
 },
 "nbformat": 4,
 "nbformat_minor": 2
}
