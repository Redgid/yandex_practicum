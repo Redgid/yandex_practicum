{
 "cells": [
  {
   "cell_type": "markdown",
   "metadata": {},
   "source": [
    "# Исследование объявлений о продаже квартир\n",
    "В нашем распоряжении данные сервиса Яндекc Недвижимость — архив объявлений о продаже квартир в Санкт-Петербурге и соседних населённых пунктах за несколько лет. Нужно научиться определять рыночную стоимость объектов недвижимости. Наша задача — установить параметры. Это позволит построить автоматизированную систему: она отследит аномалии и мошенническую деятельность. \n",
    "\n",
    "По каждой квартире на продажу доступны два вида данных. Первые вписаны пользователем, вторые получены автоматически на основе картографических данных. Например, расстояние до центра, аэропорта, ближайшего парка и водоёма. "
   ]
  },
  {
   "cell_type": "markdown",
   "metadata": {},
   "source": [
    "## Изучение данных из файла"
   ]
  },
  {
   "cell_type": "code",
   "execution_count": 1,
   "metadata": {},
   "outputs": [],
   "source": [
    "import pandas as pd\n",
    "import matplotlib.pyplot as plt"
   ]
  },
  {
   "cell_type": "code",
   "execution_count": 2,
   "metadata": {
    "scrolled": true
   },
   "outputs": [
    {
     "data": {
      "text/html": [
       "<div>\n",
       "<style scoped>\n",
       "    .dataframe tbody tr th:only-of-type {\n",
       "        vertical-align: middle;\n",
       "    }\n",
       "\n",
       "    .dataframe tbody tr th {\n",
       "        vertical-align: top;\n",
       "    }\n",
       "\n",
       "    .dataframe thead th {\n",
       "        text-align: right;\n",
       "    }\n",
       "</style>\n",
       "<table border=\"1\" class=\"dataframe\">\n",
       "  <thead>\n",
       "    <tr style=\"text-align: right;\">\n",
       "      <th></th>\n",
       "      <th>total_images</th>\n",
       "      <th>last_price</th>\n",
       "      <th>total_area</th>\n",
       "      <th>first_day_exposition</th>\n",
       "      <th>rooms</th>\n",
       "      <th>ceiling_height</th>\n",
       "      <th>floors_total</th>\n",
       "      <th>living_area</th>\n",
       "      <th>floor</th>\n",
       "      <th>is_apartment</th>\n",
       "      <th>...</th>\n",
       "      <th>kitchen_area</th>\n",
       "      <th>balcony</th>\n",
       "      <th>locality_name</th>\n",
       "      <th>airports_nearest</th>\n",
       "      <th>cityCenters_nearest</th>\n",
       "      <th>parks_around3000</th>\n",
       "      <th>parks_nearest</th>\n",
       "      <th>ponds_around3000</th>\n",
       "      <th>ponds_nearest</th>\n",
       "      <th>days_exposition</th>\n",
       "    </tr>\n",
       "  </thead>\n",
       "  <tbody>\n",
       "    <tr>\n",
       "      <th>0</th>\n",
       "      <td>20</td>\n",
       "      <td>13000000.0</td>\n",
       "      <td>108.0</td>\n",
       "      <td>2019-03-07T00:00:00</td>\n",
       "      <td>3</td>\n",
       "      <td>2.70</td>\n",
       "      <td>16.0</td>\n",
       "      <td>51.0</td>\n",
       "      <td>8</td>\n",
       "      <td>NaN</td>\n",
       "      <td>...</td>\n",
       "      <td>25.0</td>\n",
       "      <td>NaN</td>\n",
       "      <td>Санкт-Петербург</td>\n",
       "      <td>18863.0</td>\n",
       "      <td>16028.0</td>\n",
       "      <td>1.0</td>\n",
       "      <td>482.0</td>\n",
       "      <td>2.0</td>\n",
       "      <td>755.0</td>\n",
       "      <td>NaN</td>\n",
       "    </tr>\n",
       "    <tr>\n",
       "      <th>1</th>\n",
       "      <td>7</td>\n",
       "      <td>3350000.0</td>\n",
       "      <td>40.4</td>\n",
       "      <td>2018-12-04T00:00:00</td>\n",
       "      <td>1</td>\n",
       "      <td>NaN</td>\n",
       "      <td>11.0</td>\n",
       "      <td>18.6</td>\n",
       "      <td>1</td>\n",
       "      <td>NaN</td>\n",
       "      <td>...</td>\n",
       "      <td>11.0</td>\n",
       "      <td>2.0</td>\n",
       "      <td>посёлок Шушары</td>\n",
       "      <td>12817.0</td>\n",
       "      <td>18603.0</td>\n",
       "      <td>0.0</td>\n",
       "      <td>NaN</td>\n",
       "      <td>0.0</td>\n",
       "      <td>NaN</td>\n",
       "      <td>81.0</td>\n",
       "    </tr>\n",
       "    <tr>\n",
       "      <th>2</th>\n",
       "      <td>10</td>\n",
       "      <td>5196000.0</td>\n",
       "      <td>56.0</td>\n",
       "      <td>2015-08-20T00:00:00</td>\n",
       "      <td>2</td>\n",
       "      <td>NaN</td>\n",
       "      <td>5.0</td>\n",
       "      <td>34.3</td>\n",
       "      <td>4</td>\n",
       "      <td>NaN</td>\n",
       "      <td>...</td>\n",
       "      <td>8.3</td>\n",
       "      <td>0.0</td>\n",
       "      <td>Санкт-Петербург</td>\n",
       "      <td>21741.0</td>\n",
       "      <td>13933.0</td>\n",
       "      <td>1.0</td>\n",
       "      <td>90.0</td>\n",
       "      <td>2.0</td>\n",
       "      <td>574.0</td>\n",
       "      <td>558.0</td>\n",
       "    </tr>\n",
       "    <tr>\n",
       "      <th>3</th>\n",
       "      <td>0</td>\n",
       "      <td>64900000.0</td>\n",
       "      <td>159.0</td>\n",
       "      <td>2015-07-24T00:00:00</td>\n",
       "      <td>3</td>\n",
       "      <td>NaN</td>\n",
       "      <td>14.0</td>\n",
       "      <td>NaN</td>\n",
       "      <td>9</td>\n",
       "      <td>NaN</td>\n",
       "      <td>...</td>\n",
       "      <td>NaN</td>\n",
       "      <td>0.0</td>\n",
       "      <td>Санкт-Петербург</td>\n",
       "      <td>28098.0</td>\n",
       "      <td>6800.0</td>\n",
       "      <td>2.0</td>\n",
       "      <td>84.0</td>\n",
       "      <td>3.0</td>\n",
       "      <td>234.0</td>\n",
       "      <td>424.0</td>\n",
       "    </tr>\n",
       "    <tr>\n",
       "      <th>4</th>\n",
       "      <td>2</td>\n",
       "      <td>10000000.0</td>\n",
       "      <td>100.0</td>\n",
       "      <td>2018-06-19T00:00:00</td>\n",
       "      <td>2</td>\n",
       "      <td>3.03</td>\n",
       "      <td>14.0</td>\n",
       "      <td>32.0</td>\n",
       "      <td>13</td>\n",
       "      <td>NaN</td>\n",
       "      <td>...</td>\n",
       "      <td>41.0</td>\n",
       "      <td>NaN</td>\n",
       "      <td>Санкт-Петербург</td>\n",
       "      <td>31856.0</td>\n",
       "      <td>8098.0</td>\n",
       "      <td>2.0</td>\n",
       "      <td>112.0</td>\n",
       "      <td>1.0</td>\n",
       "      <td>48.0</td>\n",
       "      <td>121.0</td>\n",
       "    </tr>\n",
       "  </tbody>\n",
       "</table>\n",
       "<p>5 rows × 22 columns</p>\n",
       "</div>"
      ],
      "text/plain": [
       "   total_images  last_price  total_area first_day_exposition  rooms  \\\n",
       "0            20  13000000.0       108.0  2019-03-07T00:00:00      3   \n",
       "1             7   3350000.0        40.4  2018-12-04T00:00:00      1   \n",
       "2            10   5196000.0        56.0  2015-08-20T00:00:00      2   \n",
       "3             0  64900000.0       159.0  2015-07-24T00:00:00      3   \n",
       "4             2  10000000.0       100.0  2018-06-19T00:00:00      2   \n",
       "\n",
       "   ceiling_height  floors_total  living_area  floor is_apartment  ...  \\\n",
       "0            2.70          16.0         51.0      8          NaN  ...   \n",
       "1             NaN          11.0         18.6      1          NaN  ...   \n",
       "2             NaN           5.0         34.3      4          NaN  ...   \n",
       "3             NaN          14.0          NaN      9          NaN  ...   \n",
       "4            3.03          14.0         32.0     13          NaN  ...   \n",
       "\n",
       "   kitchen_area  balcony    locality_name  airports_nearest  \\\n",
       "0          25.0      NaN  Санкт-Петербург           18863.0   \n",
       "1          11.0      2.0   посёлок Шушары           12817.0   \n",
       "2           8.3      0.0  Санкт-Петербург           21741.0   \n",
       "3           NaN      0.0  Санкт-Петербург           28098.0   \n",
       "4          41.0      NaN  Санкт-Петербург           31856.0   \n",
       "\n",
       "  cityCenters_nearest  parks_around3000  parks_nearest  ponds_around3000  \\\n",
       "0             16028.0               1.0          482.0               2.0   \n",
       "1             18603.0               0.0            NaN               0.0   \n",
       "2             13933.0               1.0           90.0               2.0   \n",
       "3              6800.0               2.0           84.0               3.0   \n",
       "4              8098.0               2.0          112.0               1.0   \n",
       "\n",
       "   ponds_nearest  days_exposition  \n",
       "0          755.0              NaN  \n",
       "1            NaN             81.0  \n",
       "2          574.0            558.0  \n",
       "3          234.0            424.0  \n",
       "4           48.0            121.0  \n",
       "\n",
       "[5 rows x 22 columns]"
      ]
     },
     "execution_count": 2,
     "metadata": {},
     "output_type": "execute_result"
    }
   ],
   "source": [
    "#прочитаем файл с данными и сохраним всю таблицу в переменную df\n",
    "df = pd.read_csv('/datasets/real_estate_data.csv',sep= '\\t')\n",
    "#методами head,tail,simple,info и describe осмотрим данные \n",
    "df.head()"
   ]
  },
  {
   "cell_type": "code",
   "execution_count": 3,
   "metadata": {
    "scrolled": false
   },
   "outputs": [
    {
     "data": {
      "text/html": [
       "<div>\n",
       "<style scoped>\n",
       "    .dataframe tbody tr th:only-of-type {\n",
       "        vertical-align: middle;\n",
       "    }\n",
       "\n",
       "    .dataframe tbody tr th {\n",
       "        vertical-align: top;\n",
       "    }\n",
       "\n",
       "    .dataframe thead th {\n",
       "        text-align: right;\n",
       "    }\n",
       "</style>\n",
       "<table border=\"1\" class=\"dataframe\">\n",
       "  <thead>\n",
       "    <tr style=\"text-align: right;\">\n",
       "      <th></th>\n",
       "      <th>total_images</th>\n",
       "      <th>last_price</th>\n",
       "      <th>total_area</th>\n",
       "      <th>first_day_exposition</th>\n",
       "      <th>rooms</th>\n",
       "      <th>ceiling_height</th>\n",
       "      <th>floors_total</th>\n",
       "      <th>living_area</th>\n",
       "      <th>floor</th>\n",
       "      <th>is_apartment</th>\n",
       "      <th>...</th>\n",
       "      <th>kitchen_area</th>\n",
       "      <th>balcony</th>\n",
       "      <th>locality_name</th>\n",
       "      <th>airports_nearest</th>\n",
       "      <th>cityCenters_nearest</th>\n",
       "      <th>parks_around3000</th>\n",
       "      <th>parks_nearest</th>\n",
       "      <th>ponds_around3000</th>\n",
       "      <th>ponds_nearest</th>\n",
       "      <th>days_exposition</th>\n",
       "    </tr>\n",
       "  </thead>\n",
       "  <tbody>\n",
       "    <tr>\n",
       "      <th>23694</th>\n",
       "      <td>9</td>\n",
       "      <td>9700000.0</td>\n",
       "      <td>133.81</td>\n",
       "      <td>2017-03-21T00:00:00</td>\n",
       "      <td>3</td>\n",
       "      <td>3.7</td>\n",
       "      <td>5.0</td>\n",
       "      <td>73.3</td>\n",
       "      <td>3</td>\n",
       "      <td>NaN</td>\n",
       "      <td>...</td>\n",
       "      <td>13.83</td>\n",
       "      <td>NaN</td>\n",
       "      <td>Санкт-Петербург</td>\n",
       "      <td>24665.0</td>\n",
       "      <td>4232.0</td>\n",
       "      <td>1.0</td>\n",
       "      <td>796.0</td>\n",
       "      <td>3.0</td>\n",
       "      <td>381.0</td>\n",
       "      <td>NaN</td>\n",
       "    </tr>\n",
       "    <tr>\n",
       "      <th>23695</th>\n",
       "      <td>14</td>\n",
       "      <td>3100000.0</td>\n",
       "      <td>59.00</td>\n",
       "      <td>2018-01-15T00:00:00</td>\n",
       "      <td>3</td>\n",
       "      <td>NaN</td>\n",
       "      <td>5.0</td>\n",
       "      <td>38.0</td>\n",
       "      <td>4</td>\n",
       "      <td>NaN</td>\n",
       "      <td>...</td>\n",
       "      <td>8.50</td>\n",
       "      <td>NaN</td>\n",
       "      <td>Тосно</td>\n",
       "      <td>NaN</td>\n",
       "      <td>NaN</td>\n",
       "      <td>NaN</td>\n",
       "      <td>NaN</td>\n",
       "      <td>NaN</td>\n",
       "      <td>NaN</td>\n",
       "      <td>45.0</td>\n",
       "    </tr>\n",
       "    <tr>\n",
       "      <th>23696</th>\n",
       "      <td>18</td>\n",
       "      <td>2500000.0</td>\n",
       "      <td>56.70</td>\n",
       "      <td>2018-02-11T00:00:00</td>\n",
       "      <td>2</td>\n",
       "      <td>NaN</td>\n",
       "      <td>3.0</td>\n",
       "      <td>29.7</td>\n",
       "      <td>1</td>\n",
       "      <td>NaN</td>\n",
       "      <td>...</td>\n",
       "      <td>NaN</td>\n",
       "      <td>NaN</td>\n",
       "      <td>село Рождествено</td>\n",
       "      <td>NaN</td>\n",
       "      <td>NaN</td>\n",
       "      <td>NaN</td>\n",
       "      <td>NaN</td>\n",
       "      <td>NaN</td>\n",
       "      <td>NaN</td>\n",
       "      <td>NaN</td>\n",
       "    </tr>\n",
       "    <tr>\n",
       "      <th>23697</th>\n",
       "      <td>13</td>\n",
       "      <td>11475000.0</td>\n",
       "      <td>76.75</td>\n",
       "      <td>2017-03-28T00:00:00</td>\n",
       "      <td>2</td>\n",
       "      <td>3.0</td>\n",
       "      <td>17.0</td>\n",
       "      <td>NaN</td>\n",
       "      <td>12</td>\n",
       "      <td>NaN</td>\n",
       "      <td>...</td>\n",
       "      <td>23.30</td>\n",
       "      <td>2.0</td>\n",
       "      <td>Санкт-Петербург</td>\n",
       "      <td>39140.0</td>\n",
       "      <td>10364.0</td>\n",
       "      <td>2.0</td>\n",
       "      <td>173.0</td>\n",
       "      <td>3.0</td>\n",
       "      <td>196.0</td>\n",
       "      <td>602.0</td>\n",
       "    </tr>\n",
       "    <tr>\n",
       "      <th>23698</th>\n",
       "      <td>4</td>\n",
       "      <td>1350000.0</td>\n",
       "      <td>32.30</td>\n",
       "      <td>2017-07-21T00:00:00</td>\n",
       "      <td>1</td>\n",
       "      <td>2.5</td>\n",
       "      <td>5.0</td>\n",
       "      <td>12.3</td>\n",
       "      <td>1</td>\n",
       "      <td>NaN</td>\n",
       "      <td>...</td>\n",
       "      <td>9.00</td>\n",
       "      <td>NaN</td>\n",
       "      <td>поселок Новый Учхоз</td>\n",
       "      <td>NaN</td>\n",
       "      <td>NaN</td>\n",
       "      <td>NaN</td>\n",
       "      <td>NaN</td>\n",
       "      <td>NaN</td>\n",
       "      <td>NaN</td>\n",
       "      <td>NaN</td>\n",
       "    </tr>\n",
       "  </tbody>\n",
       "</table>\n",
       "<p>5 rows × 22 columns</p>\n",
       "</div>"
      ],
      "text/plain": [
       "       total_images  last_price  total_area first_day_exposition  rooms  \\\n",
       "23694             9   9700000.0      133.81  2017-03-21T00:00:00      3   \n",
       "23695            14   3100000.0       59.00  2018-01-15T00:00:00      3   \n",
       "23696            18   2500000.0       56.70  2018-02-11T00:00:00      2   \n",
       "23697            13  11475000.0       76.75  2017-03-28T00:00:00      2   \n",
       "23698             4   1350000.0       32.30  2017-07-21T00:00:00      1   \n",
       "\n",
       "       ceiling_height  floors_total  living_area  floor is_apartment  ...  \\\n",
       "23694             3.7           5.0         73.3      3          NaN  ...   \n",
       "23695             NaN           5.0         38.0      4          NaN  ...   \n",
       "23696             NaN           3.0         29.7      1          NaN  ...   \n",
       "23697             3.0          17.0          NaN     12          NaN  ...   \n",
       "23698             2.5           5.0         12.3      1          NaN  ...   \n",
       "\n",
       "       kitchen_area  balcony        locality_name  airports_nearest  \\\n",
       "23694         13.83      NaN      Санкт-Петербург           24665.0   \n",
       "23695          8.50      NaN                Тосно               NaN   \n",
       "23696           NaN      NaN     село Рождествено               NaN   \n",
       "23697         23.30      2.0      Санкт-Петербург           39140.0   \n",
       "23698          9.00      NaN  поселок Новый Учхоз               NaN   \n",
       "\n",
       "      cityCenters_nearest  parks_around3000  parks_nearest  ponds_around3000  \\\n",
       "23694              4232.0               1.0          796.0               3.0   \n",
       "23695                 NaN               NaN            NaN               NaN   \n",
       "23696                 NaN               NaN            NaN               NaN   \n",
       "23697             10364.0               2.0          173.0               3.0   \n",
       "23698                 NaN               NaN            NaN               NaN   \n",
       "\n",
       "       ponds_nearest  days_exposition  \n",
       "23694          381.0              NaN  \n",
       "23695            NaN             45.0  \n",
       "23696            NaN              NaN  \n",
       "23697          196.0            602.0  \n",
       "23698            NaN              NaN  \n",
       "\n",
       "[5 rows x 22 columns]"
      ]
     },
     "execution_count": 3,
     "metadata": {},
     "output_type": "execute_result"
    }
   ],
   "source": [
    "df.tail()"
   ]
  },
  {
   "cell_type": "code",
   "execution_count": 4,
   "metadata": {},
   "outputs": [
    {
     "data": {
      "text/html": [
       "<div>\n",
       "<style scoped>\n",
       "    .dataframe tbody tr th:only-of-type {\n",
       "        vertical-align: middle;\n",
       "    }\n",
       "\n",
       "    .dataframe tbody tr th {\n",
       "        vertical-align: top;\n",
       "    }\n",
       "\n",
       "    .dataframe thead th {\n",
       "        text-align: right;\n",
       "    }\n",
       "</style>\n",
       "<table border=\"1\" class=\"dataframe\">\n",
       "  <thead>\n",
       "    <tr style=\"text-align: right;\">\n",
       "      <th></th>\n",
       "      <th>total_images</th>\n",
       "      <th>last_price</th>\n",
       "      <th>total_area</th>\n",
       "      <th>first_day_exposition</th>\n",
       "      <th>rooms</th>\n",
       "      <th>ceiling_height</th>\n",
       "      <th>floors_total</th>\n",
       "      <th>living_area</th>\n",
       "      <th>floor</th>\n",
       "      <th>is_apartment</th>\n",
       "      <th>...</th>\n",
       "      <th>kitchen_area</th>\n",
       "      <th>balcony</th>\n",
       "      <th>locality_name</th>\n",
       "      <th>airports_nearest</th>\n",
       "      <th>cityCenters_nearest</th>\n",
       "      <th>parks_around3000</th>\n",
       "      <th>parks_nearest</th>\n",
       "      <th>ponds_around3000</th>\n",
       "      <th>ponds_nearest</th>\n",
       "      <th>days_exposition</th>\n",
       "    </tr>\n",
       "  </thead>\n",
       "  <tbody>\n",
       "    <tr>\n",
       "      <th>1392</th>\n",
       "      <td>9</td>\n",
       "      <td>8000000.0</td>\n",
       "      <td>70.0</td>\n",
       "      <td>2017-04-17T00:00:00</td>\n",
       "      <td>2</td>\n",
       "      <td>2.50</td>\n",
       "      <td>13.0</td>\n",
       "      <td>36.0</td>\n",
       "      <td>13</td>\n",
       "      <td>False</td>\n",
       "      <td>...</td>\n",
       "      <td>13.0</td>\n",
       "      <td>2.0</td>\n",
       "      <td>Санкт-Петербург</td>\n",
       "      <td>37347.0</td>\n",
       "      <td>9820.0</td>\n",
       "      <td>1.0</td>\n",
       "      <td>364.0</td>\n",
       "      <td>0.0</td>\n",
       "      <td>NaN</td>\n",
       "      <td>143.0</td>\n",
       "    </tr>\n",
       "    <tr>\n",
       "      <th>12803</th>\n",
       "      <td>5</td>\n",
       "      <td>5200000.0</td>\n",
       "      <td>68.1</td>\n",
       "      <td>2016-12-23T00:00:00</td>\n",
       "      <td>3</td>\n",
       "      <td>NaN</td>\n",
       "      <td>4.0</td>\n",
       "      <td>NaN</td>\n",
       "      <td>3</td>\n",
       "      <td>NaN</td>\n",
       "      <td>...</td>\n",
       "      <td>NaN</td>\n",
       "      <td>0.0</td>\n",
       "      <td>Санкт-Петербург</td>\n",
       "      <td>16978.0</td>\n",
       "      <td>14811.0</td>\n",
       "      <td>1.0</td>\n",
       "      <td>320.0</td>\n",
       "      <td>0.0</td>\n",
       "      <td>NaN</td>\n",
       "      <td>326.0</td>\n",
       "    </tr>\n",
       "    <tr>\n",
       "      <th>7308</th>\n",
       "      <td>18</td>\n",
       "      <td>6980000.0</td>\n",
       "      <td>73.9</td>\n",
       "      <td>2018-04-03T00:00:00</td>\n",
       "      <td>3</td>\n",
       "      <td>3.28</td>\n",
       "      <td>4.0</td>\n",
       "      <td>52.7</td>\n",
       "      <td>3</td>\n",
       "      <td>NaN</td>\n",
       "      <td>...</td>\n",
       "      <td>6.8</td>\n",
       "      <td>NaN</td>\n",
       "      <td>Санкт-Петербург</td>\n",
       "      <td>20291.0</td>\n",
       "      <td>3316.0</td>\n",
       "      <td>1.0</td>\n",
       "      <td>272.0</td>\n",
       "      <td>1.0</td>\n",
       "      <td>680.0</td>\n",
       "      <td>NaN</td>\n",
       "    </tr>\n",
       "    <tr>\n",
       "      <th>4494</th>\n",
       "      <td>5</td>\n",
       "      <td>3500000.0</td>\n",
       "      <td>40.0</td>\n",
       "      <td>2017-09-25T00:00:00</td>\n",
       "      <td>1</td>\n",
       "      <td>2.70</td>\n",
       "      <td>20.0</td>\n",
       "      <td>15.4</td>\n",
       "      <td>12</td>\n",
       "      <td>NaN</td>\n",
       "      <td>...</td>\n",
       "      <td>11.1</td>\n",
       "      <td>1.0</td>\n",
       "      <td>посёлок Мурино</td>\n",
       "      <td>NaN</td>\n",
       "      <td>NaN</td>\n",
       "      <td>NaN</td>\n",
       "      <td>NaN</td>\n",
       "      <td>NaN</td>\n",
       "      <td>NaN</td>\n",
       "      <td>72.0</td>\n",
       "    </tr>\n",
       "    <tr>\n",
       "      <th>8929</th>\n",
       "      <td>20</td>\n",
       "      <td>11500000.0</td>\n",
       "      <td>98.0</td>\n",
       "      <td>2017-10-17T00:00:00</td>\n",
       "      <td>3</td>\n",
       "      <td>NaN</td>\n",
       "      <td>9.0</td>\n",
       "      <td>61.5</td>\n",
       "      <td>3</td>\n",
       "      <td>NaN</td>\n",
       "      <td>...</td>\n",
       "      <td>12.7</td>\n",
       "      <td>5.0</td>\n",
       "      <td>Санкт-Петербург</td>\n",
       "      <td>46377.0</td>\n",
       "      <td>17523.0</td>\n",
       "      <td>1.0</td>\n",
       "      <td>302.0</td>\n",
       "      <td>0.0</td>\n",
       "      <td>NaN</td>\n",
       "      <td>90.0</td>\n",
       "    </tr>\n",
       "    <tr>\n",
       "      <th>10076</th>\n",
       "      <td>5</td>\n",
       "      <td>3200000.0</td>\n",
       "      <td>25.0</td>\n",
       "      <td>2019-04-23T00:00:00</td>\n",
       "      <td>1</td>\n",
       "      <td>3.50</td>\n",
       "      <td>6.0</td>\n",
       "      <td>NaN</td>\n",
       "      <td>4</td>\n",
       "      <td>NaN</td>\n",
       "      <td>...</td>\n",
       "      <td>NaN</td>\n",
       "      <td>NaN</td>\n",
       "      <td>Санкт-Петербург</td>\n",
       "      <td>24660.0</td>\n",
       "      <td>5228.0</td>\n",
       "      <td>1.0</td>\n",
       "      <td>540.0</td>\n",
       "      <td>0.0</td>\n",
       "      <td>NaN</td>\n",
       "      <td>NaN</td>\n",
       "    </tr>\n",
       "    <tr>\n",
       "      <th>2072</th>\n",
       "      <td>5</td>\n",
       "      <td>3550000.0</td>\n",
       "      <td>37.2</td>\n",
       "      <td>2017-12-27T00:00:00</td>\n",
       "      <td>1</td>\n",
       "      <td>2.50</td>\n",
       "      <td>9.0</td>\n",
       "      <td>NaN</td>\n",
       "      <td>4</td>\n",
       "      <td>NaN</td>\n",
       "      <td>...</td>\n",
       "      <td>NaN</td>\n",
       "      <td>NaN</td>\n",
       "      <td>Санкт-Петербург</td>\n",
       "      <td>13413.0</td>\n",
       "      <td>12209.0</td>\n",
       "      <td>0.0</td>\n",
       "      <td>NaN</td>\n",
       "      <td>1.0</td>\n",
       "      <td>1175.0</td>\n",
       "      <td>232.0</td>\n",
       "    </tr>\n",
       "    <tr>\n",
       "      <th>11944</th>\n",
       "      <td>4</td>\n",
       "      <td>5400000.0</td>\n",
       "      <td>74.0</td>\n",
       "      <td>2018-11-14T00:00:00</td>\n",
       "      <td>3</td>\n",
       "      <td>NaN</td>\n",
       "      <td>18.0</td>\n",
       "      <td>47.7</td>\n",
       "      <td>4</td>\n",
       "      <td>NaN</td>\n",
       "      <td>...</td>\n",
       "      <td>8.7</td>\n",
       "      <td>NaN</td>\n",
       "      <td>Санкт-Петербург</td>\n",
       "      <td>43157.0</td>\n",
       "      <td>22488.0</td>\n",
       "      <td>0.0</td>\n",
       "      <td>NaN</td>\n",
       "      <td>1.0</td>\n",
       "      <td>933.0</td>\n",
       "      <td>40.0</td>\n",
       "    </tr>\n",
       "    <tr>\n",
       "      <th>17274</th>\n",
       "      <td>7</td>\n",
       "      <td>4150000.0</td>\n",
       "      <td>60.3</td>\n",
       "      <td>2016-05-24T00:00:00</td>\n",
       "      <td>2</td>\n",
       "      <td>2.80</td>\n",
       "      <td>9.0</td>\n",
       "      <td>31.4</td>\n",
       "      <td>6</td>\n",
       "      <td>False</td>\n",
       "      <td>...</td>\n",
       "      <td>9.6</td>\n",
       "      <td>1.0</td>\n",
       "      <td>посёлок Металлострой</td>\n",
       "      <td>25998.0</td>\n",
       "      <td>27710.0</td>\n",
       "      <td>0.0</td>\n",
       "      <td>NaN</td>\n",
       "      <td>0.0</td>\n",
       "      <td>NaN</td>\n",
       "      <td>45.0</td>\n",
       "    </tr>\n",
       "    <tr>\n",
       "      <th>22079</th>\n",
       "      <td>10</td>\n",
       "      <td>6600000.0</td>\n",
       "      <td>55.3</td>\n",
       "      <td>2017-10-26T00:00:00</td>\n",
       "      <td>2</td>\n",
       "      <td>3.00</td>\n",
       "      <td>5.0</td>\n",
       "      <td>34.0</td>\n",
       "      <td>1</td>\n",
       "      <td>NaN</td>\n",
       "      <td>...</td>\n",
       "      <td>8.1</td>\n",
       "      <td>NaN</td>\n",
       "      <td>Санкт-Петербург</td>\n",
       "      <td>10831.0</td>\n",
       "      <td>10900.0</td>\n",
       "      <td>0.0</td>\n",
       "      <td>NaN</td>\n",
       "      <td>0.0</td>\n",
       "      <td>NaN</td>\n",
       "      <td>428.0</td>\n",
       "    </tr>\n",
       "  </tbody>\n",
       "</table>\n",
       "<p>10 rows × 22 columns</p>\n",
       "</div>"
      ],
      "text/plain": [
       "       total_images  last_price  total_area first_day_exposition  rooms  \\\n",
       "1392              9   8000000.0        70.0  2017-04-17T00:00:00      2   \n",
       "12803             5   5200000.0        68.1  2016-12-23T00:00:00      3   \n",
       "7308             18   6980000.0        73.9  2018-04-03T00:00:00      3   \n",
       "4494              5   3500000.0        40.0  2017-09-25T00:00:00      1   \n",
       "8929             20  11500000.0        98.0  2017-10-17T00:00:00      3   \n",
       "10076             5   3200000.0        25.0  2019-04-23T00:00:00      1   \n",
       "2072              5   3550000.0        37.2  2017-12-27T00:00:00      1   \n",
       "11944             4   5400000.0        74.0  2018-11-14T00:00:00      3   \n",
       "17274             7   4150000.0        60.3  2016-05-24T00:00:00      2   \n",
       "22079            10   6600000.0        55.3  2017-10-26T00:00:00      2   \n",
       "\n",
       "       ceiling_height  floors_total  living_area  floor is_apartment  ...  \\\n",
       "1392             2.50          13.0         36.0     13        False  ...   \n",
       "12803             NaN           4.0          NaN      3          NaN  ...   \n",
       "7308             3.28           4.0         52.7      3          NaN  ...   \n",
       "4494             2.70          20.0         15.4     12          NaN  ...   \n",
       "8929              NaN           9.0         61.5      3          NaN  ...   \n",
       "10076            3.50           6.0          NaN      4          NaN  ...   \n",
       "2072             2.50           9.0          NaN      4          NaN  ...   \n",
       "11944             NaN          18.0         47.7      4          NaN  ...   \n",
       "17274            2.80           9.0         31.4      6        False  ...   \n",
       "22079            3.00           5.0         34.0      1          NaN  ...   \n",
       "\n",
       "       kitchen_area  balcony         locality_name  airports_nearest  \\\n",
       "1392           13.0      2.0       Санкт-Петербург           37347.0   \n",
       "12803           NaN      0.0       Санкт-Петербург           16978.0   \n",
       "7308            6.8      NaN       Санкт-Петербург           20291.0   \n",
       "4494           11.1      1.0        посёлок Мурино               NaN   \n",
       "8929           12.7      5.0       Санкт-Петербург           46377.0   \n",
       "10076           NaN      NaN       Санкт-Петербург           24660.0   \n",
       "2072            NaN      NaN       Санкт-Петербург           13413.0   \n",
       "11944           8.7      NaN       Санкт-Петербург           43157.0   \n",
       "17274           9.6      1.0  посёлок Металлострой           25998.0   \n",
       "22079           8.1      NaN       Санкт-Петербург           10831.0   \n",
       "\n",
       "      cityCenters_nearest  parks_around3000  parks_nearest  ponds_around3000  \\\n",
       "1392               9820.0               1.0          364.0               0.0   \n",
       "12803             14811.0               1.0          320.0               0.0   \n",
       "7308               3316.0               1.0          272.0               1.0   \n",
       "4494                  NaN               NaN            NaN               NaN   \n",
       "8929              17523.0               1.0          302.0               0.0   \n",
       "10076              5228.0               1.0          540.0               0.0   \n",
       "2072              12209.0               0.0            NaN               1.0   \n",
       "11944             22488.0               0.0            NaN               1.0   \n",
       "17274             27710.0               0.0            NaN               0.0   \n",
       "22079             10900.0               0.0            NaN               0.0   \n",
       "\n",
       "       ponds_nearest  days_exposition  \n",
       "1392             NaN            143.0  \n",
       "12803            NaN            326.0  \n",
       "7308           680.0              NaN  \n",
       "4494             NaN             72.0  \n",
       "8929             NaN             90.0  \n",
       "10076            NaN              NaN  \n",
       "2072          1175.0            232.0  \n",
       "11944          933.0             40.0  \n",
       "17274            NaN             45.0  \n",
       "22079            NaN            428.0  \n",
       "\n",
       "[10 rows x 22 columns]"
      ]
     },
     "execution_count": 4,
     "metadata": {},
     "output_type": "execute_result"
    }
   ],
   "source": [
    "df.sample(10)"
   ]
  },
  {
   "cell_type": "code",
   "execution_count": 5,
   "metadata": {
    "scrolled": false
   },
   "outputs": [
    {
     "name": "stdout",
     "output_type": "stream",
     "text": [
      "<class 'pandas.core.frame.DataFrame'>\n",
      "RangeIndex: 23699 entries, 0 to 23698\n",
      "Data columns (total 22 columns):\n",
      " #   Column                Non-Null Count  Dtype  \n",
      "---  ------                --------------  -----  \n",
      " 0   total_images          23699 non-null  int64  \n",
      " 1   last_price            23699 non-null  float64\n",
      " 2   total_area            23699 non-null  float64\n",
      " 3   first_day_exposition  23699 non-null  object \n",
      " 4   rooms                 23699 non-null  int64  \n",
      " 5   ceiling_height        14504 non-null  float64\n",
      " 6   floors_total          23613 non-null  float64\n",
      " 7   living_area           21796 non-null  float64\n",
      " 8   floor                 23699 non-null  int64  \n",
      " 9   is_apartment          2775 non-null   object \n",
      " 10  studio                23699 non-null  bool   \n",
      " 11  open_plan             23699 non-null  bool   \n",
      " 12  kitchen_area          21421 non-null  float64\n",
      " 13  balcony               12180 non-null  float64\n",
      " 14  locality_name         23650 non-null  object \n",
      " 15  airports_nearest      18157 non-null  float64\n",
      " 16  cityCenters_nearest   18180 non-null  float64\n",
      " 17  parks_around3000      18181 non-null  float64\n",
      " 18  parks_nearest         8079 non-null   float64\n",
      " 19  ponds_around3000      18181 non-null  float64\n",
      " 20  ponds_nearest         9110 non-null   float64\n",
      " 21  days_exposition       20518 non-null  float64\n",
      "dtypes: bool(2), float64(14), int64(3), object(3)\n",
      "memory usage: 3.7+ MB\n"
     ]
    }
   ],
   "source": [
    "df.info()"
   ]
  },
  {
   "cell_type": "code",
   "execution_count": 6,
   "metadata": {
    "scrolled": true
   },
   "outputs": [
    {
     "data": {
      "text/html": [
       "<div>\n",
       "<style scoped>\n",
       "    .dataframe tbody tr th:only-of-type {\n",
       "        vertical-align: middle;\n",
       "    }\n",
       "\n",
       "    .dataframe tbody tr th {\n",
       "        vertical-align: top;\n",
       "    }\n",
       "\n",
       "    .dataframe thead th {\n",
       "        text-align: right;\n",
       "    }\n",
       "</style>\n",
       "<table border=\"1\" class=\"dataframe\">\n",
       "  <thead>\n",
       "    <tr style=\"text-align: right;\">\n",
       "      <th></th>\n",
       "      <th>total_images</th>\n",
       "      <th>last_price</th>\n",
       "      <th>total_area</th>\n",
       "      <th>rooms</th>\n",
       "      <th>ceiling_height</th>\n",
       "      <th>floors_total</th>\n",
       "      <th>living_area</th>\n",
       "      <th>floor</th>\n",
       "      <th>kitchen_area</th>\n",
       "      <th>balcony</th>\n",
       "      <th>airports_nearest</th>\n",
       "      <th>cityCenters_nearest</th>\n",
       "      <th>parks_around3000</th>\n",
       "      <th>parks_nearest</th>\n",
       "      <th>ponds_around3000</th>\n",
       "      <th>ponds_nearest</th>\n",
       "      <th>days_exposition</th>\n",
       "    </tr>\n",
       "  </thead>\n",
       "  <tbody>\n",
       "    <tr>\n",
       "      <th>count</th>\n",
       "      <td>23699.000000</td>\n",
       "      <td>2.369900e+04</td>\n",
       "      <td>23699.000000</td>\n",
       "      <td>23699.000000</td>\n",
       "      <td>14504.000000</td>\n",
       "      <td>23613.000000</td>\n",
       "      <td>21796.000000</td>\n",
       "      <td>23699.000000</td>\n",
       "      <td>21421.000000</td>\n",
       "      <td>12180.000000</td>\n",
       "      <td>18157.000000</td>\n",
       "      <td>18180.000000</td>\n",
       "      <td>18181.000000</td>\n",
       "      <td>8079.000000</td>\n",
       "      <td>18181.000000</td>\n",
       "      <td>9110.000000</td>\n",
       "      <td>20518.000000</td>\n",
       "    </tr>\n",
       "    <tr>\n",
       "      <th>mean</th>\n",
       "      <td>9.858475</td>\n",
       "      <td>6.541549e+06</td>\n",
       "      <td>60.348651</td>\n",
       "      <td>2.070636</td>\n",
       "      <td>2.771499</td>\n",
       "      <td>10.673824</td>\n",
       "      <td>34.457852</td>\n",
       "      <td>5.892358</td>\n",
       "      <td>10.569807</td>\n",
       "      <td>1.150082</td>\n",
       "      <td>28793.672193</td>\n",
       "      <td>14191.277833</td>\n",
       "      <td>0.611408</td>\n",
       "      <td>490.804555</td>\n",
       "      <td>0.770255</td>\n",
       "      <td>517.980900</td>\n",
       "      <td>180.888634</td>\n",
       "    </tr>\n",
       "    <tr>\n",
       "      <th>std</th>\n",
       "      <td>5.682529</td>\n",
       "      <td>1.088701e+07</td>\n",
       "      <td>35.654083</td>\n",
       "      <td>1.078405</td>\n",
       "      <td>1.261056</td>\n",
       "      <td>6.597173</td>\n",
       "      <td>22.030445</td>\n",
       "      <td>4.885249</td>\n",
       "      <td>5.905438</td>\n",
       "      <td>1.071300</td>\n",
       "      <td>12630.880622</td>\n",
       "      <td>8608.386210</td>\n",
       "      <td>0.802074</td>\n",
       "      <td>342.317995</td>\n",
       "      <td>0.938346</td>\n",
       "      <td>277.720643</td>\n",
       "      <td>219.727988</td>\n",
       "    </tr>\n",
       "    <tr>\n",
       "      <th>min</th>\n",
       "      <td>0.000000</td>\n",
       "      <td>1.219000e+04</td>\n",
       "      <td>12.000000</td>\n",
       "      <td>0.000000</td>\n",
       "      <td>1.000000</td>\n",
       "      <td>1.000000</td>\n",
       "      <td>2.000000</td>\n",
       "      <td>1.000000</td>\n",
       "      <td>1.300000</td>\n",
       "      <td>0.000000</td>\n",
       "      <td>0.000000</td>\n",
       "      <td>181.000000</td>\n",
       "      <td>0.000000</td>\n",
       "      <td>1.000000</td>\n",
       "      <td>0.000000</td>\n",
       "      <td>13.000000</td>\n",
       "      <td>1.000000</td>\n",
       "    </tr>\n",
       "    <tr>\n",
       "      <th>25%</th>\n",
       "      <td>6.000000</td>\n",
       "      <td>3.400000e+06</td>\n",
       "      <td>40.000000</td>\n",
       "      <td>1.000000</td>\n",
       "      <td>2.520000</td>\n",
       "      <td>5.000000</td>\n",
       "      <td>18.600000</td>\n",
       "      <td>2.000000</td>\n",
       "      <td>7.000000</td>\n",
       "      <td>0.000000</td>\n",
       "      <td>18585.000000</td>\n",
       "      <td>9238.000000</td>\n",
       "      <td>0.000000</td>\n",
       "      <td>288.000000</td>\n",
       "      <td>0.000000</td>\n",
       "      <td>294.000000</td>\n",
       "      <td>45.000000</td>\n",
       "    </tr>\n",
       "    <tr>\n",
       "      <th>50%</th>\n",
       "      <td>9.000000</td>\n",
       "      <td>4.650000e+06</td>\n",
       "      <td>52.000000</td>\n",
       "      <td>2.000000</td>\n",
       "      <td>2.650000</td>\n",
       "      <td>9.000000</td>\n",
       "      <td>30.000000</td>\n",
       "      <td>4.000000</td>\n",
       "      <td>9.100000</td>\n",
       "      <td>1.000000</td>\n",
       "      <td>26726.000000</td>\n",
       "      <td>13098.500000</td>\n",
       "      <td>0.000000</td>\n",
       "      <td>455.000000</td>\n",
       "      <td>1.000000</td>\n",
       "      <td>502.000000</td>\n",
       "      <td>95.000000</td>\n",
       "    </tr>\n",
       "    <tr>\n",
       "      <th>75%</th>\n",
       "      <td>14.000000</td>\n",
       "      <td>6.800000e+06</td>\n",
       "      <td>69.900000</td>\n",
       "      <td>3.000000</td>\n",
       "      <td>2.800000</td>\n",
       "      <td>16.000000</td>\n",
       "      <td>42.300000</td>\n",
       "      <td>8.000000</td>\n",
       "      <td>12.000000</td>\n",
       "      <td>2.000000</td>\n",
       "      <td>37273.000000</td>\n",
       "      <td>16293.000000</td>\n",
       "      <td>1.000000</td>\n",
       "      <td>612.000000</td>\n",
       "      <td>1.000000</td>\n",
       "      <td>729.000000</td>\n",
       "      <td>232.000000</td>\n",
       "    </tr>\n",
       "    <tr>\n",
       "      <th>max</th>\n",
       "      <td>50.000000</td>\n",
       "      <td>7.630000e+08</td>\n",
       "      <td>900.000000</td>\n",
       "      <td>19.000000</td>\n",
       "      <td>100.000000</td>\n",
       "      <td>60.000000</td>\n",
       "      <td>409.700000</td>\n",
       "      <td>33.000000</td>\n",
       "      <td>112.000000</td>\n",
       "      <td>5.000000</td>\n",
       "      <td>84869.000000</td>\n",
       "      <td>65968.000000</td>\n",
       "      <td>3.000000</td>\n",
       "      <td>3190.000000</td>\n",
       "      <td>3.000000</td>\n",
       "      <td>1344.000000</td>\n",
       "      <td>1580.000000</td>\n",
       "    </tr>\n",
       "  </tbody>\n",
       "</table>\n",
       "</div>"
      ],
      "text/plain": [
       "       total_images    last_price    total_area         rooms  ceiling_height  \\\n",
       "count  23699.000000  2.369900e+04  23699.000000  23699.000000    14504.000000   \n",
       "mean       9.858475  6.541549e+06     60.348651      2.070636        2.771499   \n",
       "std        5.682529  1.088701e+07     35.654083      1.078405        1.261056   \n",
       "min        0.000000  1.219000e+04     12.000000      0.000000        1.000000   \n",
       "25%        6.000000  3.400000e+06     40.000000      1.000000        2.520000   \n",
       "50%        9.000000  4.650000e+06     52.000000      2.000000        2.650000   \n",
       "75%       14.000000  6.800000e+06     69.900000      3.000000        2.800000   \n",
       "max       50.000000  7.630000e+08    900.000000     19.000000      100.000000   \n",
       "\n",
       "       floors_total   living_area         floor  kitchen_area       balcony  \\\n",
       "count  23613.000000  21796.000000  23699.000000  21421.000000  12180.000000   \n",
       "mean      10.673824     34.457852      5.892358     10.569807      1.150082   \n",
       "std        6.597173     22.030445      4.885249      5.905438      1.071300   \n",
       "min        1.000000      2.000000      1.000000      1.300000      0.000000   \n",
       "25%        5.000000     18.600000      2.000000      7.000000      0.000000   \n",
       "50%        9.000000     30.000000      4.000000      9.100000      1.000000   \n",
       "75%       16.000000     42.300000      8.000000     12.000000      2.000000   \n",
       "max       60.000000    409.700000     33.000000    112.000000      5.000000   \n",
       "\n",
       "       airports_nearest  cityCenters_nearest  parks_around3000  parks_nearest  \\\n",
       "count      18157.000000         18180.000000      18181.000000    8079.000000   \n",
       "mean       28793.672193         14191.277833          0.611408     490.804555   \n",
       "std        12630.880622          8608.386210          0.802074     342.317995   \n",
       "min            0.000000           181.000000          0.000000       1.000000   \n",
       "25%        18585.000000          9238.000000          0.000000     288.000000   \n",
       "50%        26726.000000         13098.500000          0.000000     455.000000   \n",
       "75%        37273.000000         16293.000000          1.000000     612.000000   \n",
       "max        84869.000000         65968.000000          3.000000    3190.000000   \n",
       "\n",
       "       ponds_around3000  ponds_nearest  days_exposition  \n",
       "count      18181.000000    9110.000000     20518.000000  \n",
       "mean           0.770255     517.980900       180.888634  \n",
       "std            0.938346     277.720643       219.727988  \n",
       "min            0.000000      13.000000         1.000000  \n",
       "25%            0.000000     294.000000        45.000000  \n",
       "50%            1.000000     502.000000        95.000000  \n",
       "75%            1.000000     729.000000       232.000000  \n",
       "max            3.000000    1344.000000      1580.000000  "
      ]
     },
     "execution_count": 6,
     "metadata": {},
     "output_type": "execute_result"
    }
   ],
   "source": [
    "df.describe()"
   ]
  },
  {
   "cell_type": "markdown",
   "metadata": {},
   "source": [
    "**Описание данных**\\\n",
    "`airports_nearest` — расстояние до ближайшего аэропорта в метрах (м) \\\n",
    "`balcony` — число балконов\\\n",
    "`ceiling_height` — высота потолков (м)\\\n",
    "`cityCenters_nearest` — расстояние до центра города (м)\\\n",
    "`days_exposition` — сколько дней было размещено объявление (от публикации до снятия)\\\n",
    "`first_day_exposition` — дата публикации\\\n",
    "`floor` — этаж\\\n",
    "`floors_total` — всего этажей в доме\\\n",
    "`is_apartment` — апартаменты (булев тип)\\\n",
    "`kitchen_area` — площадь кухни в квадратных метрах (м²)\\\n",
    "`last_price` — цена на момент снятия с публикации\\\n",
    "`living_area` — жилая площадь в квадратных метрах (м²)\\\n",
    "`locality_name` — название населённого пункта\\\n",
    "`open_plan` — свободная планировка (булев тип)\\\n",
    "`parks_around3000` — число парков в радиусе 3 км\\\n",
    "`parks_nearest` — расстояние до ближайшего парка (м)\\\n",
    "`ponds_around3000` — число водоёмов в радиусе 3 км\\\n",
    "`ponds_nearest` — расстояние до ближайшего водоёма (м)\\\n",
    "`rooms` — число комнат\\\n",
    "`studio` — квартира-студия (булев тип)\\\n",
    "`total_area` — площадь квартиры в квадратных метрах (м²)\\\n",
    "`total_images` — число фотографий квартиры в объявлении\\"
   ]
  },
  {
   "cell_type": "markdown",
   "metadata": {},
   "source": [
    "### Выводы "
   ]
  },
  {
   "cell_type": "markdown",
   "metadata": {},
   "source": [
    "- Некорректные название некоторых столбцов (например, `cityCenters_nearest`)\n",
    "- Присутствуют пропущенные значения (в некоторых столбцах очень большое количество)\n",
    "- Аномальные  или просто подозрительные значения(max(`ceiling_height`) - 100 ,`rooms` - 19)\n",
    "- Проверить данные на дубликаты\n",
    "- Неправильные типы данных для некоторых столбцов \n",
    "\n",
    "На стадии предобработки данных необходимо отработать все проблемы "
   ]
  },
  {
   "cell_type": "markdown",
   "metadata": {},
   "source": [
    "## Предобработка данных"
   ]
  },
  {
   "cell_type": "markdown",
   "metadata": {},
   "source": [
    "### Названия столбцов, пропуски"
   ]
  },
  {
   "cell_type": "markdown",
   "metadata": {},
   "source": [
    "Для начала переименуем столбцы для удобства работы с таблицей.Так же в некоторых столбцах допишем в название единицу измерения"
   ]
  },
  {
   "cell_type": "code",
   "execution_count": 7,
   "metadata": {},
   "outputs": [
    {
     "name": "stdout",
     "output_type": "stream",
     "text": [
      "<class 'pandas.core.frame.DataFrame'>\n",
      "RangeIndex: 23699 entries, 0 to 23698\n",
      "Data columns (total 22 columns):\n",
      " #   Column                     Non-Null Count  Dtype  \n",
      "---  ------                     --------------  -----  \n",
      " 0   total_images               23699 non-null  int64  \n",
      " 1   last_price                 23699 non-null  float64\n",
      " 2   total_area_m2              23699 non-null  float64\n",
      " 3   first_day_exposition       23699 non-null  object \n",
      " 4   rooms                      23699 non-null  int64  \n",
      " 5   ceiling_height_m           14504 non-null  float64\n",
      " 6   floors_total               23613 non-null  float64\n",
      " 7   living_area_m2             21796 non-null  float64\n",
      " 8   floor                      23699 non-null  int64  \n",
      " 9   is_apartment               2775 non-null   object \n",
      " 10  studio                     23699 non-null  bool   \n",
      " 11  open_plan                  23699 non-null  bool   \n",
      " 12  kitchen_area_m2            21421 non-null  float64\n",
      " 13  balcony                    12180 non-null  float64\n",
      " 14  locality_name              23650 non-null  object \n",
      " 15  distance_to_airport_m      18157 non-null  float64\n",
      " 16  distance_to_center_city_m  18180 non-null  float64\n",
      " 17  parks_around_3000          18181 non-null  float64\n",
      " 18  distance_to_parks_m        8079 non-null   float64\n",
      " 19  ponds_around_3000          18181 non-null  float64\n",
      " 20  distance_to_ponds_m        9110 non-null   float64\n",
      " 21  days_exposition            20518 non-null  float64\n",
      "dtypes: bool(2), float64(14), int64(3), object(3)\n",
      "memory usage: 3.7+ MB\n"
     ]
    }
   ],
   "source": [
    "df = df.rename(\n",
    "    columns={'airports_nearest':'distance_to_airport_m',\n",
    "             'cityCenters_nearest':'distance_to_center_city_m',\n",
    "             'parks_around3000':'parks_around_3000',\n",
    "             'parks_nearest':'distance_to_parks_m',\n",
    "             'ponds_around3000':'ponds_around_3000',\n",
    "             'ponds_nearest':'distance_to_ponds_m',\n",
    "             'ceiling_height' : 'ceiling_height_m',\n",
    "             'kitchen_area':'kitchen_area_m2',\n",
    "             'living_area':'living_area_m2',\n",
    "             'total_area':'total_area_m2'\n",
    "             })\n",
    "#проверим\n",
    "df.info()"
   ]
  },
  {
   "cell_type": "code",
   "execution_count": 8,
   "metadata": {},
   "outputs": [
    {
     "data": {
      "text/plain": [
       "total_images                     0\n",
       "open_plan                        0\n",
       "floor                            0\n",
       "rooms                            0\n",
       "studio                           0\n",
       "total_area_m2                    0\n",
       "last_price                       0\n",
       "first_day_exposition             0\n",
       "locality_name                   49\n",
       "floors_total                    86\n",
       "living_area_m2                1903\n",
       "kitchen_area_m2               2278\n",
       "days_exposition               3181\n",
       "ponds_around_3000             5518\n",
       "parks_around_3000             5518\n",
       "distance_to_center_city_m     5519\n",
       "distance_to_airport_m         5542\n",
       "ceiling_height_m              9195\n",
       "balcony                      11519\n",
       "distance_to_ponds_m          14589\n",
       "distance_to_parks_m          15620\n",
       "is_apartment                 20924\n",
       "dtype: int64"
      ]
     },
     "execution_count": 8,
     "metadata": {},
     "output_type": "execute_result"
    }
   ],
   "source": [
    "#посмотрим количество пропущенных значений по столбцам \n",
    "df.isna().sum().sort_values()"
   ]
  },
  {
   "cell_type": "markdown",
   "metadata": {},
   "source": [
    "13 столбцов имеют пропущенные значения! Нужно разобраться с каждым(удалять/не трогать/заменять на другие значения, если заменять, то на какие). Начнем от меньшего к большему. Посмотрим на эти же значения в процентах"
   ]
  },
  {
   "cell_type": "code",
   "execution_count": 9,
   "metadata": {},
   "outputs": [
    {
     "data": {
      "text/plain": [
       "total_images                  0.000000\n",
       "open_plan                     0.000000\n",
       "floor                         0.000000\n",
       "rooms                         0.000000\n",
       "studio                        0.000000\n",
       "total_area_m2                 0.000000\n",
       "last_price                    0.000000\n",
       "first_day_exposition          0.000000\n",
       "locality_name                 0.206760\n",
       "floors_total                  0.362885\n",
       "living_area_m2                8.029875\n",
       "kitchen_area_m2               9.612220\n",
       "days_exposition              13.422507\n",
       "ponds_around_3000            23.283683\n",
       "parks_around_3000            23.283683\n",
       "distance_to_center_city_m    23.287902\n",
       "distance_to_airport_m        23.384953\n",
       "ceiling_height_m             38.799105\n",
       "balcony                      48.605426\n",
       "distance_to_ponds_m          61.559559\n",
       "distance_to_parks_m          65.909954\n",
       "is_apartment                 88.290645\n",
       "dtype: float64"
      ]
     },
     "metadata": {},
     "output_type": "display_data"
    }
   ],
   "source": [
    "display((df.isna().sum().sort_values()/df.shape[0]) * 100)"
   ]
  },
  {
   "cell_type": "markdown",
   "metadata": {},
   "source": [
    "Пропуски в `locality_name` и `floors_total` трогать не будем. Пропущенных значений менее 0,5%, на результаты анализа не повлияет. Так же мы не можем адекватно заменить значения средними или медианными значениями"
   ]
  },
  {
   "cell_type": "markdown",
   "metadata": {},
   "source": [
    "Пропуски `living_area_m2` и `kitchen_area_m2` мы можем заменить значениями относительно `total_area_m2`. Мы найдем средний коэффициент отношения `total_area` к `living_area` и `kitchen_area`. И в строках с пропусками умножим соответствующую `total_area` на эти коэффициенты"
   ]
  },
  {
   "cell_type": "markdown",
   "metadata": {},
   "source": [
    "Столбцы `days_exposition`,`ponds_around_3000`,`parks_around_3000`,`distance_to_center_city`,`distance_to_airport`, \\` `ceiling_height_m`,`distance_to_ponds_m`, `distance_to_parks_m` не имеют подходящего значения на замену. Не будем делать замену ради замены. Оставим, как есть  "
   ]
  },
  {
   "cell_type": "code",
   "execution_count": 10,
   "metadata": {},
   "outputs": [
    {
     "data": {
      "text/plain": [
       "0.5647655216993234"
      ]
     },
     "metadata": {},
     "output_type": "display_data"
    }
   ],
   "source": [
    "#введем временную series - отношение living_area к total_area\n",
    "living_to_total = df['living_area_m2']/df['total_area_m2']\n",
    "#и найдём среднее значение по этому series\n",
    "ratio_living_total = living_to_total.mean()\n",
    "display(ratio_living_total)"
   ]
  },
  {
   "cell_type": "markdown",
   "metadata": {},
   "source": [
    "Таким образом, мы нашли средний коэффициент отношения жилой площади к общей площади. Или по-другому: в среднем living_area составляет 56% от total_area"
   ]
  },
  {
   "cell_type": "code",
   "execution_count": 11,
   "metadata": {},
   "outputs": [],
   "source": [
    "#заменим пропуски в living_area_m2 значениями из столбца total_area_m2 * ratio_living_total\n",
    "df['living_area_m2'] = df['living_area_m2'].fillna(df['total_area_m2']*ratio_living_total)"
   ]
  },
  {
   "cell_type": "code",
   "execution_count": 12,
   "metadata": {},
   "outputs": [],
   "source": [
    "#всё тоже самое проделаем и для kitchen_area_m2\n",
    "kitchen_to_total = df['kitchen_area_m2']/df['total_area_m2']\n",
    "ratio_kitchen_total = kitchen_to_total.mean()\n",
    "df['kitchen_area_m2'] = df['kitchen_area_m2'].fillna(df['total_area_m2']*ratio_kitchen_total)"
   ]
  },
  {
   "cell_type": "code",
   "execution_count": 13,
   "metadata": {},
   "outputs": [],
   "source": [
    "#скорее всего для столбца balcony пропуски - отсутствие балконов. заменим пропуски на 0 \n",
    "df['balcony'] = df['balcony'].fillna(0)"
   ]
  },
  {
   "cell_type": "code",
   "execution_count": 14,
   "metadata": {},
   "outputs": [
    {
     "data": {
      "text/html": [
       "<div>\n",
       "<style scoped>\n",
       "    .dataframe tbody tr th:only-of-type {\n",
       "        vertical-align: middle;\n",
       "    }\n",
       "\n",
       "    .dataframe tbody tr th {\n",
       "        vertical-align: top;\n",
       "    }\n",
       "\n",
       "    .dataframe thead th {\n",
       "        text-align: right;\n",
       "    }\n",
       "</style>\n",
       "<table border=\"1\" class=\"dataframe\">\n",
       "  <thead>\n",
       "    <tr style=\"text-align: right;\">\n",
       "      <th></th>\n",
       "      <th>total_images</th>\n",
       "      <th>last_price</th>\n",
       "      <th>total_area_m2</th>\n",
       "      <th>first_day_exposition</th>\n",
       "      <th>rooms</th>\n",
       "      <th>ceiling_height_m</th>\n",
       "      <th>floors_total</th>\n",
       "      <th>living_area_m2</th>\n",
       "      <th>floor</th>\n",
       "      <th>is_apartment</th>\n",
       "      <th>...</th>\n",
       "      <th>kitchen_area_m2</th>\n",
       "      <th>balcony</th>\n",
       "      <th>locality_name</th>\n",
       "      <th>distance_to_airport_m</th>\n",
       "      <th>distance_to_center_city_m</th>\n",
       "      <th>parks_around_3000</th>\n",
       "      <th>distance_to_parks_m</th>\n",
       "      <th>ponds_around_3000</th>\n",
       "      <th>distance_to_ponds_m</th>\n",
       "      <th>days_exposition</th>\n",
       "    </tr>\n",
       "  </thead>\n",
       "  <tbody>\n",
       "    <tr>\n",
       "      <th>0</th>\n",
       "      <td>20</td>\n",
       "      <td>13000000.0</td>\n",
       "      <td>108.0</td>\n",
       "      <td>2019-03-07T00:00:00</td>\n",
       "      <td>3</td>\n",
       "      <td>2.70</td>\n",
       "      <td>16.0</td>\n",
       "      <td>51.000000</td>\n",
       "      <td>8</td>\n",
       "      <td>NaN</td>\n",
       "      <td>...</td>\n",
       "      <td>25.000000</td>\n",
       "      <td>0.0</td>\n",
       "      <td>Санкт-Петербург</td>\n",
       "      <td>18863.0</td>\n",
       "      <td>16028.0</td>\n",
       "      <td>1.0</td>\n",
       "      <td>482.0</td>\n",
       "      <td>2.0</td>\n",
       "      <td>755.0</td>\n",
       "      <td>NaN</td>\n",
       "    </tr>\n",
       "    <tr>\n",
       "      <th>1</th>\n",
       "      <td>7</td>\n",
       "      <td>3350000.0</td>\n",
       "      <td>40.4</td>\n",
       "      <td>2018-12-04T00:00:00</td>\n",
       "      <td>1</td>\n",
       "      <td>NaN</td>\n",
       "      <td>11.0</td>\n",
       "      <td>18.600000</td>\n",
       "      <td>1</td>\n",
       "      <td>NaN</td>\n",
       "      <td>...</td>\n",
       "      <td>11.000000</td>\n",
       "      <td>2.0</td>\n",
       "      <td>посёлок Шушары</td>\n",
       "      <td>12817.0</td>\n",
       "      <td>18603.0</td>\n",
       "      <td>0.0</td>\n",
       "      <td>NaN</td>\n",
       "      <td>0.0</td>\n",
       "      <td>NaN</td>\n",
       "      <td>81.0</td>\n",
       "    </tr>\n",
       "    <tr>\n",
       "      <th>2</th>\n",
       "      <td>10</td>\n",
       "      <td>5196000.0</td>\n",
       "      <td>56.0</td>\n",
       "      <td>2015-08-20T00:00:00</td>\n",
       "      <td>2</td>\n",
       "      <td>NaN</td>\n",
       "      <td>5.0</td>\n",
       "      <td>34.300000</td>\n",
       "      <td>4</td>\n",
       "      <td>NaN</td>\n",
       "      <td>...</td>\n",
       "      <td>8.300000</td>\n",
       "      <td>0.0</td>\n",
       "      <td>Санкт-Петербург</td>\n",
       "      <td>21741.0</td>\n",
       "      <td>13933.0</td>\n",
       "      <td>1.0</td>\n",
       "      <td>90.0</td>\n",
       "      <td>2.0</td>\n",
       "      <td>574.0</td>\n",
       "      <td>558.0</td>\n",
       "    </tr>\n",
       "    <tr>\n",
       "      <th>3</th>\n",
       "      <td>0</td>\n",
       "      <td>64900000.0</td>\n",
       "      <td>159.0</td>\n",
       "      <td>2015-07-24T00:00:00</td>\n",
       "      <td>3</td>\n",
       "      <td>NaN</td>\n",
       "      <td>14.0</td>\n",
       "      <td>89.797718</td>\n",
       "      <td>9</td>\n",
       "      <td>NaN</td>\n",
       "      <td>...</td>\n",
       "      <td>29.789403</td>\n",
       "      <td>0.0</td>\n",
       "      <td>Санкт-Петербург</td>\n",
       "      <td>28098.0</td>\n",
       "      <td>6800.0</td>\n",
       "      <td>2.0</td>\n",
       "      <td>84.0</td>\n",
       "      <td>3.0</td>\n",
       "      <td>234.0</td>\n",
       "      <td>424.0</td>\n",
       "    </tr>\n",
       "    <tr>\n",
       "      <th>4</th>\n",
       "      <td>2</td>\n",
       "      <td>10000000.0</td>\n",
       "      <td>100.0</td>\n",
       "      <td>2018-06-19T00:00:00</td>\n",
       "      <td>2</td>\n",
       "      <td>3.03</td>\n",
       "      <td>14.0</td>\n",
       "      <td>32.000000</td>\n",
       "      <td>13</td>\n",
       "      <td>NaN</td>\n",
       "      <td>...</td>\n",
       "      <td>41.000000</td>\n",
       "      <td>0.0</td>\n",
       "      <td>Санкт-Петербург</td>\n",
       "      <td>31856.0</td>\n",
       "      <td>8098.0</td>\n",
       "      <td>2.0</td>\n",
       "      <td>112.0</td>\n",
       "      <td>1.0</td>\n",
       "      <td>48.0</td>\n",
       "      <td>121.0</td>\n",
       "    </tr>\n",
       "  </tbody>\n",
       "</table>\n",
       "<p>5 rows × 22 columns</p>\n",
       "</div>"
      ],
      "text/plain": [
       "   total_images  last_price  total_area_m2 first_day_exposition  rooms  \\\n",
       "0            20  13000000.0          108.0  2019-03-07T00:00:00      3   \n",
       "1             7   3350000.0           40.4  2018-12-04T00:00:00      1   \n",
       "2            10   5196000.0           56.0  2015-08-20T00:00:00      2   \n",
       "3             0  64900000.0          159.0  2015-07-24T00:00:00      3   \n",
       "4             2  10000000.0          100.0  2018-06-19T00:00:00      2   \n",
       "\n",
       "   ceiling_height_m  floors_total  living_area_m2  floor is_apartment  ...  \\\n",
       "0              2.70          16.0       51.000000      8          NaN  ...   \n",
       "1               NaN          11.0       18.600000      1          NaN  ...   \n",
       "2               NaN           5.0       34.300000      4          NaN  ...   \n",
       "3               NaN          14.0       89.797718      9          NaN  ...   \n",
       "4              3.03          14.0       32.000000     13          NaN  ...   \n",
       "\n",
       "   kitchen_area_m2  balcony    locality_name  distance_to_airport_m  \\\n",
       "0        25.000000      0.0  Санкт-Петербург                18863.0   \n",
       "1        11.000000      2.0   посёлок Шушары                12817.0   \n",
       "2         8.300000      0.0  Санкт-Петербург                21741.0   \n",
       "3        29.789403      0.0  Санкт-Петербург                28098.0   \n",
       "4        41.000000      0.0  Санкт-Петербург                31856.0   \n",
       "\n",
       "  distance_to_center_city_m  parks_around_3000  distance_to_parks_m  \\\n",
       "0                   16028.0                1.0                482.0   \n",
       "1                   18603.0                0.0                  NaN   \n",
       "2                   13933.0                1.0                 90.0   \n",
       "3                    6800.0                2.0                 84.0   \n",
       "4                    8098.0                2.0                112.0   \n",
       "\n",
       "   ponds_around_3000  distance_to_ponds_m  days_exposition  \n",
       "0                2.0                755.0              NaN  \n",
       "1                0.0                  NaN             81.0  \n",
       "2                2.0                574.0            558.0  \n",
       "3                3.0                234.0            424.0  \n",
       "4                1.0                 48.0            121.0  \n",
       "\n",
       "[5 rows x 22 columns]"
      ]
     },
     "execution_count": 14,
     "metadata": {},
     "output_type": "execute_result"
    }
   ],
   "source": [
    "df.head()"
   ]
  },
  {
   "cell_type": "code",
   "execution_count": 15,
   "metadata": {},
   "outputs": [
    {
     "data": {
      "text/plain": [
       "0"
      ]
     },
     "execution_count": 15,
     "metadata": {},
     "output_type": "execute_result"
    }
   ],
   "source": [
    "#проверим на дубликаты\n",
    "df.duplicated().sum()"
   ]
  },
  {
   "cell_type": "markdown",
   "metadata": {},
   "source": [
    "Проверим столбец `locality_name` на неявные дубликаты"
   ]
  },
  {
   "cell_type": "code",
   "execution_count": 16,
   "metadata": {},
   "outputs": [
    {
     "data": {
      "text/plain": [
       "365"
      ]
     },
     "execution_count": 16,
     "metadata": {},
     "output_type": "execute_result"
    }
   ],
   "source": [
    "len(list(df['locality_name'].unique()))"
   ]
  },
  {
   "cell_type": "markdown",
   "metadata": {},
   "source": [
    "365 уникальных названий населённых пунктов. Для начала приведём все название к нижнему регистру, возможно проблема в нём и ещё раз посчитаем количество уникальных значений "
   ]
  },
  {
   "cell_type": "code",
   "execution_count": 17,
   "metadata": {},
   "outputs": [
    {
     "data": {
      "text/plain": [
       "365"
      ]
     },
     "execution_count": 17,
     "metadata": {},
     "output_type": "execute_result"
    }
   ],
   "source": [
    "df['locality_name'] = df['locality_name'].str.lower()\n",
    "len(list(df['locality_name'].unique()))"
   ]
  },
  {
   "cell_type": "markdown",
   "metadata": {},
   "source": [
    "Не помогло. Посмотрим на названия, возможно появится идея "
   ]
  },
  {
   "cell_type": "code",
   "execution_count": 18,
   "metadata": {},
   "outputs": [
    {
     "data": {
      "text/plain": [
       "array(['санкт-петербург', 'посёлок шушары', 'городской посёлок янино-1',\n",
       "       'посёлок парголово', 'посёлок мурино', 'ломоносов', 'сертолово',\n",
       "       'петергоф', 'пушкин', 'деревня кудрово', 'коммунар', 'колпино',\n",
       "       'поселок городского типа красный бор', 'гатчина', 'поселок мурино',\n",
       "       'деревня фёдоровское', 'выборг', 'кронштадт', 'кировск',\n",
       "       'деревня новое девяткино', 'посёлок металлострой',\n",
       "       'посёлок городского типа лебяжье',\n",
       "       'посёлок городского типа сиверский', 'поселок молодцово',\n",
       "       'поселок городского типа кузьмоловский',\n",
       "       'садовое товарищество новая ропша', 'павловск',\n",
       "       'деревня пикколово', 'всеволожск', 'волхов', 'кингисепп',\n",
       "       'приозерск', 'сестрорецк', 'деревня куттузи', 'посёлок аннино',\n",
       "       'поселок городского типа ефимовский', 'посёлок плодовое',\n",
       "       'деревня заклинье', 'поселок торковичи', 'поселок первомайское',\n",
       "       'красное село', 'посёлок понтонный', 'сясьстрой', 'деревня старая',\n",
       "       'деревня лесколово', 'посёлок новый свет', 'сланцы',\n",
       "       'село путилово', 'ивангород', 'мурино', 'шлиссельбург',\n",
       "       'никольское', 'зеленогорск', 'сосновый бор', 'поселок новый свет',\n",
       "       'деревня оржицы', 'деревня кальтино', 'кудрово',\n",
       "       'поселок романовка', 'посёлок бугры', 'поселок бугры',\n",
       "       'поселок городского типа рощино', 'кириши', 'луга', 'волосово',\n",
       "       'отрадное', 'село павлово', 'поселок оредеж', 'село копорье',\n",
       "       'посёлок городского типа красный бор', 'посёлок молодёжное',\n",
       "       'тихвин', 'посёлок победа', 'деревня нурма',\n",
       "       'поселок городского типа синявино', 'тосно',\n",
       "       'посёлок городского типа кузьмоловский', 'посёлок стрельна',\n",
       "       'бокситогорск', 'посёлок александровская', 'деревня лопухинка',\n",
       "       'пикалёво', 'поселок терволово',\n",
       "       'поселок городского типа советский', 'подпорожье',\n",
       "       'посёлок петровское', 'посёлок городского типа токсово',\n",
       "       'поселок сельцо', 'посёлок городского типа вырица',\n",
       "       'деревня кипень', 'деревня келози', 'деревня вартемяги',\n",
       "       'посёлок тельмана', 'поселок севастьяново',\n",
       "       'городской поселок большая ижора', nan,\n",
       "       'городской посёлок павлово', 'деревня агалатово',\n",
       "       'посёлок новогорелово', 'городской посёлок лесогорский',\n",
       "       'деревня лаголово', 'поселок цвелодубово',\n",
       "       'поселок городского типа рахья', 'поселок городского типа вырица',\n",
       "       'деревня белогорка', 'поселок заводской',\n",
       "       'городской посёлок новоселье', 'деревня большие колпаны',\n",
       "       'деревня горбунки', 'деревня батово', 'деревня заневка',\n",
       "       'деревня иссад', 'приморск', 'городской посёлок фёдоровское',\n",
       "       'деревня мистолово', 'новая ладога', 'поселок зимитицы',\n",
       "       'поселок барышево', 'деревня разметелево',\n",
       "       'поселок городского типа имени свердлова', 'деревня пеники',\n",
       "       'поселок рябово', 'деревня пудомяги', 'поселок станции корнево',\n",
       "       'деревня низино', 'деревня бегуницы', 'посёлок поляны',\n",
       "       'городской посёлок мга', 'поселок елизаветино',\n",
       "       'посёлок городского типа кузнечное', 'деревня колтуши',\n",
       "       'поселок запорожское', 'посёлок городского типа рощино',\n",
       "       'деревня гостилицы', 'деревня малое карлино',\n",
       "       'посёлок мичуринское', 'посёлок городского типа имени морозова',\n",
       "       'посёлок песочный', 'посёлок сосново', 'деревня аро',\n",
       "       'поселок ильичёво', 'посёлок городского типа тайцы',\n",
       "       'деревня малое верево', 'деревня извара', 'поселок станции вещево',\n",
       "       'село паша', 'деревня калитино',\n",
       "       'посёлок городского типа ульяновка', 'деревня чудской бор',\n",
       "       'поселок городского типа дубровка', 'деревня мины',\n",
       "       'поселок войсковицы', 'посёлок городского типа имени свердлова',\n",
       "       'деревня коркино', 'посёлок ропша',\n",
       "       'поселок городского типа приладожский', 'посёлок щеглово',\n",
       "       'посёлок гаврилово', 'лодейное поле', 'деревня рабитицы',\n",
       "       'поселок городского типа никольский', 'деревня кузьмолово',\n",
       "       'деревня малые колпаны', 'поселок тельмана',\n",
       "       'посёлок петро-славянка', 'городской посёлок назия',\n",
       "       'посёлок репино', 'посёлок ильичёво', 'поселок углово',\n",
       "       'поселок старая малукса', 'садовое товарищество рахья',\n",
       "       'поселок аннино', 'поселок победа', 'деревня меньково',\n",
       "       'деревня старые бегуницы', 'посёлок сапёрный', 'поселок семрино',\n",
       "       'поселок гаврилово', 'поселок глажево', 'поселок кобринское',\n",
       "       'деревня гарболово', 'деревня юкки',\n",
       "       'поселок станции приветнинское', 'деревня мануйлово',\n",
       "       'деревня пчева', 'поселок поляны', 'поселок цвылёво',\n",
       "       'поселок мельниково', 'посёлок пудость', 'посёлок усть-луга',\n",
       "       'светогорск', 'любань', 'поселок селезнёво',\n",
       "       'поселок городского типа рябово', 'каменногорск', 'деревня кривко',\n",
       "       'поселок глебычево', 'деревня парицы', 'поселок жилпосёлок',\n",
       "       'посёлок городского типа мга', 'городской поселок янино-1',\n",
       "       'посёлок войскорово', 'село никольское', 'посёлок терволово',\n",
       "       'поселок стеклянный', 'посёлок городского типа важины',\n",
       "       'посёлок мыза-ивановка', 'село русско-высоцкое',\n",
       "       'поселок городского типа лебяжье',\n",
       "       'поселок городского типа форносово', 'село старая ладога',\n",
       "       'поселок житково', 'городской посёлок виллози', 'деревня лампово',\n",
       "       'деревня шпаньково', 'деревня лаврики', 'посёлок сумино',\n",
       "       'посёлок возрождение', 'деревня старосиверская',\n",
       "       'посёлок кикерино', 'поселок возрождение',\n",
       "       'деревня старое хинколово', 'посёлок пригородный',\n",
       "       'посёлок торфяное', 'городской посёлок будогощь',\n",
       "       'поселок суходолье', 'поселок красная долина', 'деревня хапо-ое',\n",
       "       'поселок городского типа дружная горка', 'поселок лисий нос',\n",
       "       'деревня яльгелево', 'посёлок стеклянный', 'село рождествено',\n",
       "       'деревня старополье', 'посёлок левашово', 'деревня сяськелево',\n",
       "       'деревня камышовка',\n",
       "       'садоводческое некоммерческое товарищество лесная поляна',\n",
       "       'деревня хязельки', 'поселок жилгородок',\n",
       "       'посёлок городского типа павлово', 'деревня ялгино',\n",
       "       'поселок новый учхоз', 'городской посёлок рощино',\n",
       "       'поселок гончарово', 'поселок почап', 'посёлок сапёрное',\n",
       "       'посёлок платформа 69-й километр', 'поселок каложицы',\n",
       "       'деревня фалилеево', 'деревня пельгора',\n",
       "       'поселок городского типа лесогорский', 'деревня торошковичи',\n",
       "       'посёлок белоостров', 'посёлок алексеевка', 'поселок серебрянский',\n",
       "       'поселок лукаши', 'поселок петровское', 'деревня щеглово',\n",
       "       'поселок мичуринское', 'деревня тарасово', 'поселок кингисеппский',\n",
       "       'посёлок при железнодорожной станции вещево', 'поселок ушаки',\n",
       "       'деревня котлы', 'деревня сижно', 'деревня торосово',\n",
       "       'посёлок форт красная горка', 'поселок городского типа токсово',\n",
       "       'деревня новолисино', 'посёлок станции громово', 'деревня глинка',\n",
       "       'посёлок мельниково', 'поселок городского типа назия',\n",
       "       'деревня старая пустошь', 'поселок коммунары', 'поселок починок',\n",
       "       'посёлок городского типа вознесенье', 'деревня разбегаево',\n",
       "       'посёлок городского типа рябово', 'поселок гладкое',\n",
       "       'посёлок при железнодорожной станции приветнинское',\n",
       "       'поселок тёсово-4', 'посёлок жилгородок', 'деревня бор',\n",
       "       'посёлок коробицыно', 'деревня большая вруда', 'деревня курковицы',\n",
       "       'посёлок лисий нос', 'городской посёлок советский',\n",
       "       'посёлок кобралово', 'деревня суоранда', 'поселок кобралово',\n",
       "       'поселок городского типа кондратьево',\n",
       "       'коттеджный поселок счастье', 'поселок любань', 'деревня реброво',\n",
       "       'деревня зимитицы', 'деревня тойворово', 'поселок семиозерье',\n",
       "       'поселок лесное', 'поселок совхозный', 'поселок усть-луга',\n",
       "       'посёлок ленинское', 'посёлок суйда',\n",
       "       'посёлок городского типа форносово', 'деревня нижние осельки',\n",
       "       'посёлок станции свирь', 'поселок перово', 'высоцк',\n",
       "       'поселок гарболово', 'село шум', 'поселок котельский',\n",
       "       'поселок станции лужайка', 'деревня большая пустомержа',\n",
       "       'поселок красносельское', 'деревня вахнова кара', 'деревня пижма',\n",
       "       'коттеджный поселок кивеннапа север', 'поселок коробицыно',\n",
       "       'поселок ромашки', 'посёлок перово', 'деревня каськово',\n",
       "       'деревня куровицы', 'посёлок плоское', 'поселок сумино',\n",
       "       'поселок городского типа большая ижора', 'поселок кирпичное',\n",
       "       'деревня ям-тесово', 'деревня раздолье', 'деревня терпилицы',\n",
       "       'посёлок шугозеро', 'деревня ваганово', 'поселок пушное',\n",
       "       'садовое товарищество садко', 'посёлок усть-ижора',\n",
       "       'деревня выскатка', 'городской посёлок свирьстрой',\n",
       "       'поселок громово', 'деревня кисельня', 'посёлок старая малукса',\n",
       "       'деревня трубников бор', 'поселок калитино',\n",
       "       'посёлок высокоключевой', 'садовое товарищество приладожский',\n",
       "       'посёлок пансионат зелёный бор', 'деревня ненимяки',\n",
       "       'поселок пансионат зелёный бор', 'деревня снегирёвка',\n",
       "       'деревня рапполово', 'деревня пустынка', 'поселок рабитицы',\n",
       "       'деревня большой сабск', 'деревня русско', 'деревня лупполово',\n",
       "       'деревня большое рейзино', 'деревня малая романовка',\n",
       "       'поселок дружноселье', 'поселок пчевжа', 'поселок володарское',\n",
       "       'деревня нижняя', 'коттеджный посёлок лесное', 'деревня тихковицы',\n",
       "       'деревня борисова грива', 'посёлок дзержинского'], dtype=object)"
      ]
     },
     "execution_count": 18,
     "metadata": {},
     "output_type": "execute_result"
    }
   ],
   "source": [
    "df['locality_name'].unique()"
   ]
  },
  {
   "cell_type": "markdown",
   "metadata": {},
   "source": [
    "Есть проблема с буквами Ё и Ё (поселок и посёлок). Заменим все буквы Ё на Е и посмотрим количесто уникальных значений."
   ]
  },
  {
   "cell_type": "code",
   "execution_count": 19,
   "metadata": {},
   "outputs": [
    {
     "data": {
      "text/plain": [
       "331"
      ]
     },
     "execution_count": 19,
     "metadata": {},
     "output_type": "execute_result"
    }
   ],
   "source": [
    "df['locality_name'] = df['locality_name'].str.replace('ё', 'е', regex=True)\n",
    "len(df['locality_name'].unique())"
   ]
  },
  {
   "cell_type": "markdown",
   "metadata": {},
   "source": [
    "Убрали 34 неявных дубликата"
   ]
  },
  {
   "cell_type": "markdown",
   "metadata": {},
   "source": [
    "### Изменение типа данных столбцов"
   ]
  },
  {
   "cell_type": "markdown",
   "metadata": {},
   "source": [
    "Заменим типы данных в некоторых столбцах:\n",
    "-  `last_price`,`balcony`,`floors_total`, `parks_around_3000`, `ponds_around_3000`,`days_exposition` - тип данных float заменим на int\n",
    "- `is_apartment` - заменим тип данных object на bool\n",
    "- `first_day_exposition` - заменим тип данных object на datetime"
   ]
  },
  {
   "cell_type": "code",
   "execution_count": 20,
   "metadata": {},
   "outputs": [],
   "source": [
    "#заменим тип данных balcony на int\n",
    "df['balcony'] = pd.array(df['balcony'], dtype = pd.Int64Dtype())\n",
    "df['parks_around_3000'] = pd.array(df['parks_around_3000'], dtype = pd.Int64Dtype())\n",
    "df['ponds_around_3000'] = pd.array(df['ponds_around_3000'], dtype = pd.Int64Dtype())\n",
    "df['last_price'] = pd.array(df['last_price'], dtype = pd.Int64Dtype())\n",
    "#чтобы заменить тип данных в столбце days_exposition сначала значения нуно округлить\n",
    "df['days_exposition'] = df['days_exposition'].round(0)\n",
    "df['days_exposition'] = pd.array(df['days_exposition'], dtype = pd.Int64Dtype())"
   ]
  },
  {
   "cell_type": "code",
   "execution_count": 21,
   "metadata": {},
   "outputs": [
    {
     "data": {
      "text/plain": [
       "array([nan, False, True], dtype=object)"
      ]
     },
     "execution_count": 21,
     "metadata": {},
     "output_type": "execute_result"
    }
   ],
   "source": [
    "#посмотрим на значения в столбце is_apartment\n",
    "df['is_apartment'].unique()"
   ]
  },
  {
   "cell_type": "code",
   "execution_count": 22,
   "metadata": {},
   "outputs": [],
   "source": [
    "#заменим тип данных на bool\n",
    "df['is_apartment'] = df['is_apartment'].astype('bool')"
   ]
  },
  {
   "cell_type": "code",
   "execution_count": 23,
   "metadata": {},
   "outputs": [],
   "source": [
    "#приведём значение столбца first_day_exposition в тип данных datetime\n",
    "df['first_day_exposition'] = pd.to_datetime(df['first_day_exposition'], format=\"%Y-%m-%dT%H:%M:%S\")"
   ]
  },
  {
   "cell_type": "code",
   "execution_count": 24,
   "metadata": {},
   "outputs": [
    {
     "name": "stdout",
     "output_type": "stream",
     "text": [
      "<class 'pandas.core.frame.DataFrame'>\n",
      "RangeIndex: 23699 entries, 0 to 23698\n",
      "Data columns (total 22 columns):\n",
      " #   Column                     Non-Null Count  Dtype         \n",
      "---  ------                     --------------  -----         \n",
      " 0   total_images               23699 non-null  int64         \n",
      " 1   last_price                 23699 non-null  Int64         \n",
      " 2   total_area_m2              23699 non-null  float64       \n",
      " 3   first_day_exposition       23699 non-null  datetime64[ns]\n",
      " 4   rooms                      23699 non-null  int64         \n",
      " 5   ceiling_height_m           14504 non-null  float64       \n",
      " 6   floors_total               23613 non-null  float64       \n",
      " 7   living_area_m2             23699 non-null  float64       \n",
      " 8   floor                      23699 non-null  int64         \n",
      " 9   is_apartment               23699 non-null  bool          \n",
      " 10  studio                     23699 non-null  bool          \n",
      " 11  open_plan                  23699 non-null  bool          \n",
      " 12  kitchen_area_m2            23699 non-null  float64       \n",
      " 13  balcony                    23699 non-null  Int64         \n",
      " 14  locality_name              23650 non-null  object        \n",
      " 15  distance_to_airport_m      18157 non-null  float64       \n",
      " 16  distance_to_center_city_m  18180 non-null  float64       \n",
      " 17  parks_around_3000          18181 non-null  Int64         \n",
      " 18  distance_to_parks_m        8079 non-null   float64       \n",
      " 19  ponds_around_3000          18181 non-null  Int64         \n",
      " 20  distance_to_ponds_m        9110 non-null   float64       \n",
      " 21  days_exposition            20518 non-null  Int64         \n",
      "dtypes: Int64(5), bool(3), datetime64[ns](1), float64(9), int64(3), object(1)\n",
      "memory usage: 3.6+ MB\n"
     ]
    }
   ],
   "source": [
    "df.info()"
   ]
  },
  {
   "cell_type": "markdown",
   "metadata": {},
   "source": [
    "**Вывод**: Данные предобработали. Можно производить расчеты"
   ]
  },
  {
   "cell_type": "markdown",
   "metadata": {},
   "source": [
    "## Расчёты и добавление результатов в таблицу"
   ]
  },
  {
   "cell_type": "markdown",
   "metadata": {},
   "source": [
    "### Цена квадратного метра"
   ]
  },
  {
   "cell_type": "code",
   "execution_count": 25,
   "metadata": {
    "scrolled": true
   },
   "outputs": [
    {
     "data": {
      "text/html": [
       "<div>\n",
       "<style scoped>\n",
       "    .dataframe tbody tr th:only-of-type {\n",
       "        vertical-align: middle;\n",
       "    }\n",
       "\n",
       "    .dataframe tbody tr th {\n",
       "        vertical-align: top;\n",
       "    }\n",
       "\n",
       "    .dataframe thead th {\n",
       "        text-align: right;\n",
       "    }\n",
       "</style>\n",
       "<table border=\"1\" class=\"dataframe\">\n",
       "  <thead>\n",
       "    <tr style=\"text-align: right;\">\n",
       "      <th></th>\n",
       "      <th>total_images</th>\n",
       "      <th>last_price</th>\n",
       "      <th>total_area_m2</th>\n",
       "      <th>first_day_exposition</th>\n",
       "      <th>rooms</th>\n",
       "      <th>ceiling_height_m</th>\n",
       "      <th>floors_total</th>\n",
       "      <th>living_area_m2</th>\n",
       "      <th>floor</th>\n",
       "      <th>is_apartment</th>\n",
       "      <th>...</th>\n",
       "      <th>balcony</th>\n",
       "      <th>locality_name</th>\n",
       "      <th>distance_to_airport_m</th>\n",
       "      <th>distance_to_center_city_m</th>\n",
       "      <th>parks_around_3000</th>\n",
       "      <th>distance_to_parks_m</th>\n",
       "      <th>ponds_around_3000</th>\n",
       "      <th>distance_to_ponds_m</th>\n",
       "      <th>days_exposition</th>\n",
       "      <th>price_per_m2</th>\n",
       "    </tr>\n",
       "  </thead>\n",
       "  <tbody>\n",
       "    <tr>\n",
       "      <th>0</th>\n",
       "      <td>20</td>\n",
       "      <td>13000000</td>\n",
       "      <td>108.0</td>\n",
       "      <td>2019-03-07</td>\n",
       "      <td>3</td>\n",
       "      <td>2.70</td>\n",
       "      <td>16.0</td>\n",
       "      <td>51.000000</td>\n",
       "      <td>8</td>\n",
       "      <td>True</td>\n",
       "      <td>...</td>\n",
       "      <td>0</td>\n",
       "      <td>санкт-петербург</td>\n",
       "      <td>18863.0</td>\n",
       "      <td>16028.0</td>\n",
       "      <td>1</td>\n",
       "      <td>482.0</td>\n",
       "      <td>2</td>\n",
       "      <td>755.0</td>\n",
       "      <td>&lt;NA&gt;</td>\n",
       "      <td>120370</td>\n",
       "    </tr>\n",
       "    <tr>\n",
       "      <th>1</th>\n",
       "      <td>7</td>\n",
       "      <td>3350000</td>\n",
       "      <td>40.4</td>\n",
       "      <td>2018-12-04</td>\n",
       "      <td>1</td>\n",
       "      <td>NaN</td>\n",
       "      <td>11.0</td>\n",
       "      <td>18.600000</td>\n",
       "      <td>1</td>\n",
       "      <td>True</td>\n",
       "      <td>...</td>\n",
       "      <td>2</td>\n",
       "      <td>поселок шушары</td>\n",
       "      <td>12817.0</td>\n",
       "      <td>18603.0</td>\n",
       "      <td>0</td>\n",
       "      <td>NaN</td>\n",
       "      <td>0</td>\n",
       "      <td>NaN</td>\n",
       "      <td>81</td>\n",
       "      <td>82920</td>\n",
       "    </tr>\n",
       "    <tr>\n",
       "      <th>2</th>\n",
       "      <td>10</td>\n",
       "      <td>5196000</td>\n",
       "      <td>56.0</td>\n",
       "      <td>2015-08-20</td>\n",
       "      <td>2</td>\n",
       "      <td>NaN</td>\n",
       "      <td>5.0</td>\n",
       "      <td>34.300000</td>\n",
       "      <td>4</td>\n",
       "      <td>True</td>\n",
       "      <td>...</td>\n",
       "      <td>0</td>\n",
       "      <td>санкт-петербург</td>\n",
       "      <td>21741.0</td>\n",
       "      <td>13933.0</td>\n",
       "      <td>1</td>\n",
       "      <td>90.0</td>\n",
       "      <td>2</td>\n",
       "      <td>574.0</td>\n",
       "      <td>558</td>\n",
       "      <td>92785</td>\n",
       "    </tr>\n",
       "    <tr>\n",
       "      <th>3</th>\n",
       "      <td>0</td>\n",
       "      <td>64900000</td>\n",
       "      <td>159.0</td>\n",
       "      <td>2015-07-24</td>\n",
       "      <td>3</td>\n",
       "      <td>NaN</td>\n",
       "      <td>14.0</td>\n",
       "      <td>89.797718</td>\n",
       "      <td>9</td>\n",
       "      <td>True</td>\n",
       "      <td>...</td>\n",
       "      <td>0</td>\n",
       "      <td>санкт-петербург</td>\n",
       "      <td>28098.0</td>\n",
       "      <td>6800.0</td>\n",
       "      <td>2</td>\n",
       "      <td>84.0</td>\n",
       "      <td>3</td>\n",
       "      <td>234.0</td>\n",
       "      <td>424</td>\n",
       "      <td>408176</td>\n",
       "    </tr>\n",
       "    <tr>\n",
       "      <th>4</th>\n",
       "      <td>2</td>\n",
       "      <td>10000000</td>\n",
       "      <td>100.0</td>\n",
       "      <td>2018-06-19</td>\n",
       "      <td>2</td>\n",
       "      <td>3.03</td>\n",
       "      <td>14.0</td>\n",
       "      <td>32.000000</td>\n",
       "      <td>13</td>\n",
       "      <td>True</td>\n",
       "      <td>...</td>\n",
       "      <td>0</td>\n",
       "      <td>санкт-петербург</td>\n",
       "      <td>31856.0</td>\n",
       "      <td>8098.0</td>\n",
       "      <td>2</td>\n",
       "      <td>112.0</td>\n",
       "      <td>1</td>\n",
       "      <td>48.0</td>\n",
       "      <td>121</td>\n",
       "      <td>100000</td>\n",
       "    </tr>\n",
       "  </tbody>\n",
       "</table>\n",
       "<p>5 rows × 23 columns</p>\n",
       "</div>"
      ],
      "text/plain": [
       "   total_images  last_price  total_area_m2 first_day_exposition  rooms  \\\n",
       "0            20    13000000          108.0           2019-03-07      3   \n",
       "1             7     3350000           40.4           2018-12-04      1   \n",
       "2            10     5196000           56.0           2015-08-20      2   \n",
       "3             0    64900000          159.0           2015-07-24      3   \n",
       "4             2    10000000          100.0           2018-06-19      2   \n",
       "\n",
       "   ceiling_height_m  floors_total  living_area_m2  floor  is_apartment  ...  \\\n",
       "0              2.70          16.0       51.000000      8          True  ...   \n",
       "1               NaN          11.0       18.600000      1          True  ...   \n",
       "2               NaN           5.0       34.300000      4          True  ...   \n",
       "3               NaN          14.0       89.797718      9          True  ...   \n",
       "4              3.03          14.0       32.000000     13          True  ...   \n",
       "\n",
       "   balcony    locality_name  distance_to_airport_m  distance_to_center_city_m  \\\n",
       "0        0  санкт-петербург                18863.0                    16028.0   \n",
       "1        2   поселок шушары                12817.0                    18603.0   \n",
       "2        0  санкт-петербург                21741.0                    13933.0   \n",
       "3        0  санкт-петербург                28098.0                     6800.0   \n",
       "4        0  санкт-петербург                31856.0                     8098.0   \n",
       "\n",
       "  parks_around_3000  distance_to_parks_m  ponds_around_3000  \\\n",
       "0                 1                482.0                  2   \n",
       "1                 0                  NaN                  0   \n",
       "2                 1                 90.0                  2   \n",
       "3                 2                 84.0                  3   \n",
       "4                 2                112.0                  1   \n",
       "\n",
       "   distance_to_ponds_m  days_exposition  price_per_m2  \n",
       "0                755.0             <NA>        120370  \n",
       "1                  NaN               81         82920  \n",
       "2                574.0              558         92785  \n",
       "3                234.0              424        408176  \n",
       "4                 48.0              121        100000  \n",
       "\n",
       "[5 rows x 23 columns]"
      ]
     },
     "execution_count": 25,
     "metadata": {},
     "output_type": "execute_result"
    }
   ],
   "source": [
    "#добавим в таблицу столбец price_per_m2 - цену квадратного метра\n",
    "#для этого разделим значение столбца total_area на значение столбца last_price\n",
    "df['price_per_m2'] = (df['last_price'] / df['total_area_m2']).astype('int')\n",
    "df.head()"
   ]
  },
  {
   "cell_type": "markdown",
   "metadata": {},
   "source": [
    "### День, месяц и год публикации объявления"
   ]
  },
  {
   "cell_type": "code",
   "execution_count": 26,
   "metadata": {
    "scrolled": true
   },
   "outputs": [
    {
     "data": {
      "text/html": [
       "<div>\n",
       "<style scoped>\n",
       "    .dataframe tbody tr th:only-of-type {\n",
       "        vertical-align: middle;\n",
       "    }\n",
       "\n",
       "    .dataframe tbody tr th {\n",
       "        vertical-align: top;\n",
       "    }\n",
       "\n",
       "    .dataframe thead th {\n",
       "        text-align: right;\n",
       "    }\n",
       "</style>\n",
       "<table border=\"1\" class=\"dataframe\">\n",
       "  <thead>\n",
       "    <tr style=\"text-align: right;\">\n",
       "      <th></th>\n",
       "      <th>total_images</th>\n",
       "      <th>last_price</th>\n",
       "      <th>total_area_m2</th>\n",
       "      <th>first_day_exposition</th>\n",
       "      <th>rooms</th>\n",
       "      <th>ceiling_height_m</th>\n",
       "      <th>floors_total</th>\n",
       "      <th>living_area_m2</th>\n",
       "      <th>floor</th>\n",
       "      <th>is_apartment</th>\n",
       "      <th>...</th>\n",
       "      <th>distance_to_center_city_m</th>\n",
       "      <th>parks_around_3000</th>\n",
       "      <th>distance_to_parks_m</th>\n",
       "      <th>ponds_around_3000</th>\n",
       "      <th>distance_to_ponds_m</th>\n",
       "      <th>days_exposition</th>\n",
       "      <th>price_per_m2</th>\n",
       "      <th>day_exposition</th>\n",
       "      <th>month_exposition</th>\n",
       "      <th>year_exposition</th>\n",
       "    </tr>\n",
       "  </thead>\n",
       "  <tbody>\n",
       "    <tr>\n",
       "      <th>0</th>\n",
       "      <td>20</td>\n",
       "      <td>13000000</td>\n",
       "      <td>108.0</td>\n",
       "      <td>2019-03-07</td>\n",
       "      <td>3</td>\n",
       "      <td>2.70</td>\n",
       "      <td>16.0</td>\n",
       "      <td>51.000000</td>\n",
       "      <td>8</td>\n",
       "      <td>True</td>\n",
       "      <td>...</td>\n",
       "      <td>16028.0</td>\n",
       "      <td>1</td>\n",
       "      <td>482.0</td>\n",
       "      <td>2</td>\n",
       "      <td>755.0</td>\n",
       "      <td>&lt;NA&gt;</td>\n",
       "      <td>120370</td>\n",
       "      <td>Thursday</td>\n",
       "      <td>March</td>\n",
       "      <td>2019</td>\n",
       "    </tr>\n",
       "    <tr>\n",
       "      <th>1</th>\n",
       "      <td>7</td>\n",
       "      <td>3350000</td>\n",
       "      <td>40.4</td>\n",
       "      <td>2018-12-04</td>\n",
       "      <td>1</td>\n",
       "      <td>NaN</td>\n",
       "      <td>11.0</td>\n",
       "      <td>18.600000</td>\n",
       "      <td>1</td>\n",
       "      <td>True</td>\n",
       "      <td>...</td>\n",
       "      <td>18603.0</td>\n",
       "      <td>0</td>\n",
       "      <td>NaN</td>\n",
       "      <td>0</td>\n",
       "      <td>NaN</td>\n",
       "      <td>81</td>\n",
       "      <td>82920</td>\n",
       "      <td>Tuesday</td>\n",
       "      <td>December</td>\n",
       "      <td>2018</td>\n",
       "    </tr>\n",
       "    <tr>\n",
       "      <th>2</th>\n",
       "      <td>10</td>\n",
       "      <td>5196000</td>\n",
       "      <td>56.0</td>\n",
       "      <td>2015-08-20</td>\n",
       "      <td>2</td>\n",
       "      <td>NaN</td>\n",
       "      <td>5.0</td>\n",
       "      <td>34.300000</td>\n",
       "      <td>4</td>\n",
       "      <td>True</td>\n",
       "      <td>...</td>\n",
       "      <td>13933.0</td>\n",
       "      <td>1</td>\n",
       "      <td>90.0</td>\n",
       "      <td>2</td>\n",
       "      <td>574.0</td>\n",
       "      <td>558</td>\n",
       "      <td>92785</td>\n",
       "      <td>Thursday</td>\n",
       "      <td>August</td>\n",
       "      <td>2015</td>\n",
       "    </tr>\n",
       "    <tr>\n",
       "      <th>3</th>\n",
       "      <td>0</td>\n",
       "      <td>64900000</td>\n",
       "      <td>159.0</td>\n",
       "      <td>2015-07-24</td>\n",
       "      <td>3</td>\n",
       "      <td>NaN</td>\n",
       "      <td>14.0</td>\n",
       "      <td>89.797718</td>\n",
       "      <td>9</td>\n",
       "      <td>True</td>\n",
       "      <td>...</td>\n",
       "      <td>6800.0</td>\n",
       "      <td>2</td>\n",
       "      <td>84.0</td>\n",
       "      <td>3</td>\n",
       "      <td>234.0</td>\n",
       "      <td>424</td>\n",
       "      <td>408176</td>\n",
       "      <td>Friday</td>\n",
       "      <td>July</td>\n",
       "      <td>2015</td>\n",
       "    </tr>\n",
       "    <tr>\n",
       "      <th>4</th>\n",
       "      <td>2</td>\n",
       "      <td>10000000</td>\n",
       "      <td>100.0</td>\n",
       "      <td>2018-06-19</td>\n",
       "      <td>2</td>\n",
       "      <td>3.03</td>\n",
       "      <td>14.0</td>\n",
       "      <td>32.000000</td>\n",
       "      <td>13</td>\n",
       "      <td>True</td>\n",
       "      <td>...</td>\n",
       "      <td>8098.0</td>\n",
       "      <td>2</td>\n",
       "      <td>112.0</td>\n",
       "      <td>1</td>\n",
       "      <td>48.0</td>\n",
       "      <td>121</td>\n",
       "      <td>100000</td>\n",
       "      <td>Tuesday</td>\n",
       "      <td>June</td>\n",
       "      <td>2018</td>\n",
       "    </tr>\n",
       "  </tbody>\n",
       "</table>\n",
       "<p>5 rows × 26 columns</p>\n",
       "</div>"
      ],
      "text/plain": [
       "   total_images  last_price  total_area_m2 first_day_exposition  rooms  \\\n",
       "0            20    13000000          108.0           2019-03-07      3   \n",
       "1             7     3350000           40.4           2018-12-04      1   \n",
       "2            10     5196000           56.0           2015-08-20      2   \n",
       "3             0    64900000          159.0           2015-07-24      3   \n",
       "4             2    10000000          100.0           2018-06-19      2   \n",
       "\n",
       "   ceiling_height_m  floors_total  living_area_m2  floor  is_apartment  ...  \\\n",
       "0              2.70          16.0       51.000000      8          True  ...   \n",
       "1               NaN          11.0       18.600000      1          True  ...   \n",
       "2               NaN           5.0       34.300000      4          True  ...   \n",
       "3               NaN          14.0       89.797718      9          True  ...   \n",
       "4              3.03          14.0       32.000000     13          True  ...   \n",
       "\n",
       "   distance_to_center_city_m  parks_around_3000  distance_to_parks_m  \\\n",
       "0                    16028.0                  1                482.0   \n",
       "1                    18603.0                  0                  NaN   \n",
       "2                    13933.0                  1                 90.0   \n",
       "3                     6800.0                  2                 84.0   \n",
       "4                     8098.0                  2                112.0   \n",
       "\n",
       "   ponds_around_3000 distance_to_ponds_m  days_exposition  price_per_m2  \\\n",
       "0                  2               755.0             <NA>        120370   \n",
       "1                  0                 NaN               81         82920   \n",
       "2                  2               574.0              558         92785   \n",
       "3                  3               234.0              424        408176   \n",
       "4                  1                48.0              121        100000   \n",
       "\n",
       "   day_exposition  month_exposition  year_exposition  \n",
       "0        Thursday             March             2019  \n",
       "1         Tuesday          December             2018  \n",
       "2        Thursday            August             2015  \n",
       "3          Friday              July             2015  \n",
       "4         Tuesday              June             2018  \n",
       "\n",
       "[5 rows x 26 columns]"
      ]
     },
     "execution_count": 26,
     "metadata": {},
     "output_type": "execute_result"
    }
   ],
   "source": [
    "#добавим 3 столбца: день, месяц и год публикации объявления \n",
    "df['day_exposition'] = df['first_day_exposition'].dt.day_name()\n",
    "df['month_exposition'] = df['first_day_exposition'].dt.month_name()\n",
    "df['year_exposition'] = df['first_day_exposition'].dt.year\n",
    "df.head()"
   ]
  },
  {
   "cell_type": "markdown",
   "metadata": {},
   "source": [
    "### Этаж квартиры"
   ]
  },
  {
   "cell_type": "code",
   "execution_count": 27,
   "metadata": {},
   "outputs": [],
   "source": [
    "#добавим столбец со статусом этажа квартиры: первый,последний, другой\n",
    "#для начала определим функцию, которая будет нам возвращать необходимые значения статуса \n",
    "def status_floor(row):\n",
    "    if row['floor'] == 1:\n",
    "        return 'первый'\n",
    "    elif row['floor'] == row['floors_total']:\n",
    "        return 'последний'\n",
    "    else:\n",
    "        return 'другой'"
   ]
  },
  {
   "cell_type": "code",
   "execution_count": 28,
   "metadata": {},
   "outputs": [
    {
     "data": {
      "text/html": [
       "<div>\n",
       "<style scoped>\n",
       "    .dataframe tbody tr th:only-of-type {\n",
       "        vertical-align: middle;\n",
       "    }\n",
       "\n",
       "    .dataframe tbody tr th {\n",
       "        vertical-align: top;\n",
       "    }\n",
       "\n",
       "    .dataframe thead th {\n",
       "        text-align: right;\n",
       "    }\n",
       "</style>\n",
       "<table border=\"1\" class=\"dataframe\">\n",
       "  <thead>\n",
       "    <tr style=\"text-align: right;\">\n",
       "      <th></th>\n",
       "      <th>total_images</th>\n",
       "      <th>last_price</th>\n",
       "      <th>total_area_m2</th>\n",
       "      <th>first_day_exposition</th>\n",
       "      <th>rooms</th>\n",
       "      <th>ceiling_height_m</th>\n",
       "      <th>floors_total</th>\n",
       "      <th>living_area_m2</th>\n",
       "      <th>floor</th>\n",
       "      <th>is_apartment</th>\n",
       "      <th>...</th>\n",
       "      <th>parks_around_3000</th>\n",
       "      <th>distance_to_parks_m</th>\n",
       "      <th>ponds_around_3000</th>\n",
       "      <th>distance_to_ponds_m</th>\n",
       "      <th>days_exposition</th>\n",
       "      <th>price_per_m2</th>\n",
       "      <th>day_exposition</th>\n",
       "      <th>month_exposition</th>\n",
       "      <th>year_exposition</th>\n",
       "      <th>status_floor</th>\n",
       "    </tr>\n",
       "  </thead>\n",
       "  <tbody>\n",
       "    <tr>\n",
       "      <th>0</th>\n",
       "      <td>20</td>\n",
       "      <td>13000000</td>\n",
       "      <td>108.0</td>\n",
       "      <td>2019-03-07</td>\n",
       "      <td>3</td>\n",
       "      <td>2.70</td>\n",
       "      <td>16.0</td>\n",
       "      <td>51.000000</td>\n",
       "      <td>8</td>\n",
       "      <td>True</td>\n",
       "      <td>...</td>\n",
       "      <td>1</td>\n",
       "      <td>482.0</td>\n",
       "      <td>2</td>\n",
       "      <td>755.0</td>\n",
       "      <td>&lt;NA&gt;</td>\n",
       "      <td>120370</td>\n",
       "      <td>Thursday</td>\n",
       "      <td>March</td>\n",
       "      <td>2019</td>\n",
       "      <td>другой</td>\n",
       "    </tr>\n",
       "    <tr>\n",
       "      <th>1</th>\n",
       "      <td>7</td>\n",
       "      <td>3350000</td>\n",
       "      <td>40.4</td>\n",
       "      <td>2018-12-04</td>\n",
       "      <td>1</td>\n",
       "      <td>NaN</td>\n",
       "      <td>11.0</td>\n",
       "      <td>18.600000</td>\n",
       "      <td>1</td>\n",
       "      <td>True</td>\n",
       "      <td>...</td>\n",
       "      <td>0</td>\n",
       "      <td>NaN</td>\n",
       "      <td>0</td>\n",
       "      <td>NaN</td>\n",
       "      <td>81</td>\n",
       "      <td>82920</td>\n",
       "      <td>Tuesday</td>\n",
       "      <td>December</td>\n",
       "      <td>2018</td>\n",
       "      <td>первый</td>\n",
       "    </tr>\n",
       "    <tr>\n",
       "      <th>2</th>\n",
       "      <td>10</td>\n",
       "      <td>5196000</td>\n",
       "      <td>56.0</td>\n",
       "      <td>2015-08-20</td>\n",
       "      <td>2</td>\n",
       "      <td>NaN</td>\n",
       "      <td>5.0</td>\n",
       "      <td>34.300000</td>\n",
       "      <td>4</td>\n",
       "      <td>True</td>\n",
       "      <td>...</td>\n",
       "      <td>1</td>\n",
       "      <td>90.0</td>\n",
       "      <td>2</td>\n",
       "      <td>574.0</td>\n",
       "      <td>558</td>\n",
       "      <td>92785</td>\n",
       "      <td>Thursday</td>\n",
       "      <td>August</td>\n",
       "      <td>2015</td>\n",
       "      <td>другой</td>\n",
       "    </tr>\n",
       "    <tr>\n",
       "      <th>3</th>\n",
       "      <td>0</td>\n",
       "      <td>64900000</td>\n",
       "      <td>159.0</td>\n",
       "      <td>2015-07-24</td>\n",
       "      <td>3</td>\n",
       "      <td>NaN</td>\n",
       "      <td>14.0</td>\n",
       "      <td>89.797718</td>\n",
       "      <td>9</td>\n",
       "      <td>True</td>\n",
       "      <td>...</td>\n",
       "      <td>2</td>\n",
       "      <td>84.0</td>\n",
       "      <td>3</td>\n",
       "      <td>234.0</td>\n",
       "      <td>424</td>\n",
       "      <td>408176</td>\n",
       "      <td>Friday</td>\n",
       "      <td>July</td>\n",
       "      <td>2015</td>\n",
       "      <td>другой</td>\n",
       "    </tr>\n",
       "    <tr>\n",
       "      <th>4</th>\n",
       "      <td>2</td>\n",
       "      <td>10000000</td>\n",
       "      <td>100.0</td>\n",
       "      <td>2018-06-19</td>\n",
       "      <td>2</td>\n",
       "      <td>3.03</td>\n",
       "      <td>14.0</td>\n",
       "      <td>32.000000</td>\n",
       "      <td>13</td>\n",
       "      <td>True</td>\n",
       "      <td>...</td>\n",
       "      <td>2</td>\n",
       "      <td>112.0</td>\n",
       "      <td>1</td>\n",
       "      <td>48.0</td>\n",
       "      <td>121</td>\n",
       "      <td>100000</td>\n",
       "      <td>Tuesday</td>\n",
       "      <td>June</td>\n",
       "      <td>2018</td>\n",
       "      <td>другой</td>\n",
       "    </tr>\n",
       "  </tbody>\n",
       "</table>\n",
       "<p>5 rows × 27 columns</p>\n",
       "</div>"
      ],
      "text/plain": [
       "   total_images  last_price  total_area_m2 first_day_exposition  rooms  \\\n",
       "0            20    13000000          108.0           2019-03-07      3   \n",
       "1             7     3350000           40.4           2018-12-04      1   \n",
       "2            10     5196000           56.0           2015-08-20      2   \n",
       "3             0    64900000          159.0           2015-07-24      3   \n",
       "4             2    10000000          100.0           2018-06-19      2   \n",
       "\n",
       "   ceiling_height_m  floors_total  living_area_m2  floor  is_apartment  ...  \\\n",
       "0              2.70          16.0       51.000000      8          True  ...   \n",
       "1               NaN          11.0       18.600000      1          True  ...   \n",
       "2               NaN           5.0       34.300000      4          True  ...   \n",
       "3               NaN          14.0       89.797718      9          True  ...   \n",
       "4              3.03          14.0       32.000000     13          True  ...   \n",
       "\n",
       "   parks_around_3000  distance_to_parks_m  ponds_around_3000  \\\n",
       "0                  1                482.0                  2   \n",
       "1                  0                  NaN                  0   \n",
       "2                  1                 90.0                  2   \n",
       "3                  2                 84.0                  3   \n",
       "4                  2                112.0                  1   \n",
       "\n",
       "   distance_to_ponds_m days_exposition  price_per_m2  day_exposition  \\\n",
       "0                755.0            <NA>        120370        Thursday   \n",
       "1                  NaN              81         82920         Tuesday   \n",
       "2                574.0             558         92785        Thursday   \n",
       "3                234.0             424        408176          Friday   \n",
       "4                 48.0             121        100000         Tuesday   \n",
       "\n",
       "   month_exposition  year_exposition  status_floor  \n",
       "0             March             2019        другой  \n",
       "1          December             2018        первый  \n",
       "2            August             2015        другой  \n",
       "3              July             2015        другой  \n",
       "4              June             2018        другой  \n",
       "\n",
       "[5 rows x 27 columns]"
      ]
     },
     "execution_count": 28,
     "metadata": {},
     "output_type": "execute_result"
    }
   ],
   "source": [
    "df['status_floor'] = df.apply(status_floor, axis = 1)\n",
    "df.head()"
   ]
  },
  {
   "cell_type": "markdown",
   "metadata": {},
   "source": [
    "### Соотношение жилой и площади кухни к общей площади"
   ]
  },
  {
   "cell_type": "code",
   "execution_count": 29,
   "metadata": {
    "scrolled": true
   },
   "outputs": [
    {
     "data": {
      "text/html": [
       "<div>\n",
       "<style scoped>\n",
       "    .dataframe tbody tr th:only-of-type {\n",
       "        vertical-align: middle;\n",
       "    }\n",
       "\n",
       "    .dataframe tbody tr th {\n",
       "        vertical-align: top;\n",
       "    }\n",
       "\n",
       "    .dataframe thead th {\n",
       "        text-align: right;\n",
       "    }\n",
       "</style>\n",
       "<table border=\"1\" class=\"dataframe\">\n",
       "  <thead>\n",
       "    <tr style=\"text-align: right;\">\n",
       "      <th></th>\n",
       "      <th>total_images</th>\n",
       "      <th>last_price</th>\n",
       "      <th>total_area_m2</th>\n",
       "      <th>first_day_exposition</th>\n",
       "      <th>rooms</th>\n",
       "      <th>ceiling_height_m</th>\n",
       "      <th>floors_total</th>\n",
       "      <th>living_area_m2</th>\n",
       "      <th>floor</th>\n",
       "      <th>is_apartment</th>\n",
       "      <th>...</th>\n",
       "      <th>ponds_around_3000</th>\n",
       "      <th>distance_to_ponds_m</th>\n",
       "      <th>days_exposition</th>\n",
       "      <th>price_per_m2</th>\n",
       "      <th>day_exposition</th>\n",
       "      <th>month_exposition</th>\n",
       "      <th>year_exposition</th>\n",
       "      <th>status_floor</th>\n",
       "      <th>ratio_living_total_area</th>\n",
       "      <th>ratio_kitchen_total_area</th>\n",
       "    </tr>\n",
       "  </thead>\n",
       "  <tbody>\n",
       "    <tr>\n",
       "      <th>0</th>\n",
       "      <td>20</td>\n",
       "      <td>13000000</td>\n",
       "      <td>108.0</td>\n",
       "      <td>2019-03-07</td>\n",
       "      <td>3</td>\n",
       "      <td>2.70</td>\n",
       "      <td>16.0</td>\n",
       "      <td>51.000000</td>\n",
       "      <td>8</td>\n",
       "      <td>True</td>\n",
       "      <td>...</td>\n",
       "      <td>2</td>\n",
       "      <td>755.0</td>\n",
       "      <td>&lt;NA&gt;</td>\n",
       "      <td>120370</td>\n",
       "      <td>Thursday</td>\n",
       "      <td>March</td>\n",
       "      <td>2019</td>\n",
       "      <td>другой</td>\n",
       "      <td>0.472222</td>\n",
       "      <td>0.231481</td>\n",
       "    </tr>\n",
       "    <tr>\n",
       "      <th>1</th>\n",
       "      <td>7</td>\n",
       "      <td>3350000</td>\n",
       "      <td>40.4</td>\n",
       "      <td>2018-12-04</td>\n",
       "      <td>1</td>\n",
       "      <td>NaN</td>\n",
       "      <td>11.0</td>\n",
       "      <td>18.600000</td>\n",
       "      <td>1</td>\n",
       "      <td>True</td>\n",
       "      <td>...</td>\n",
       "      <td>0</td>\n",
       "      <td>NaN</td>\n",
       "      <td>81</td>\n",
       "      <td>82920</td>\n",
       "      <td>Tuesday</td>\n",
       "      <td>December</td>\n",
       "      <td>2018</td>\n",
       "      <td>первый</td>\n",
       "      <td>0.460396</td>\n",
       "      <td>0.272277</td>\n",
       "    </tr>\n",
       "    <tr>\n",
       "      <th>2</th>\n",
       "      <td>10</td>\n",
       "      <td>5196000</td>\n",
       "      <td>56.0</td>\n",
       "      <td>2015-08-20</td>\n",
       "      <td>2</td>\n",
       "      <td>NaN</td>\n",
       "      <td>5.0</td>\n",
       "      <td>34.300000</td>\n",
       "      <td>4</td>\n",
       "      <td>True</td>\n",
       "      <td>...</td>\n",
       "      <td>2</td>\n",
       "      <td>574.0</td>\n",
       "      <td>558</td>\n",
       "      <td>92785</td>\n",
       "      <td>Thursday</td>\n",
       "      <td>August</td>\n",
       "      <td>2015</td>\n",
       "      <td>другой</td>\n",
       "      <td>0.612500</td>\n",
       "      <td>0.148214</td>\n",
       "    </tr>\n",
       "    <tr>\n",
       "      <th>3</th>\n",
       "      <td>0</td>\n",
       "      <td>64900000</td>\n",
       "      <td>159.0</td>\n",
       "      <td>2015-07-24</td>\n",
       "      <td>3</td>\n",
       "      <td>NaN</td>\n",
       "      <td>14.0</td>\n",
       "      <td>89.797718</td>\n",
       "      <td>9</td>\n",
       "      <td>True</td>\n",
       "      <td>...</td>\n",
       "      <td>3</td>\n",
       "      <td>234.0</td>\n",
       "      <td>424</td>\n",
       "      <td>408176</td>\n",
       "      <td>Friday</td>\n",
       "      <td>July</td>\n",
       "      <td>2015</td>\n",
       "      <td>другой</td>\n",
       "      <td>0.564766</td>\n",
       "      <td>0.187355</td>\n",
       "    </tr>\n",
       "    <tr>\n",
       "      <th>4</th>\n",
       "      <td>2</td>\n",
       "      <td>10000000</td>\n",
       "      <td>100.0</td>\n",
       "      <td>2018-06-19</td>\n",
       "      <td>2</td>\n",
       "      <td>3.03</td>\n",
       "      <td>14.0</td>\n",
       "      <td>32.000000</td>\n",
       "      <td>13</td>\n",
       "      <td>True</td>\n",
       "      <td>...</td>\n",
       "      <td>1</td>\n",
       "      <td>48.0</td>\n",
       "      <td>121</td>\n",
       "      <td>100000</td>\n",
       "      <td>Tuesday</td>\n",
       "      <td>June</td>\n",
       "      <td>2018</td>\n",
       "      <td>другой</td>\n",
       "      <td>0.320000</td>\n",
       "      <td>0.410000</td>\n",
       "    </tr>\n",
       "  </tbody>\n",
       "</table>\n",
       "<p>5 rows × 29 columns</p>\n",
       "</div>"
      ],
      "text/plain": [
       "   total_images  last_price  total_area_m2 first_day_exposition  rooms  \\\n",
       "0            20    13000000          108.0           2019-03-07      3   \n",
       "1             7     3350000           40.4           2018-12-04      1   \n",
       "2            10     5196000           56.0           2015-08-20      2   \n",
       "3             0    64900000          159.0           2015-07-24      3   \n",
       "4             2    10000000          100.0           2018-06-19      2   \n",
       "\n",
       "   ceiling_height_m  floors_total  living_area_m2  floor  is_apartment  ...  \\\n",
       "0              2.70          16.0       51.000000      8          True  ...   \n",
       "1               NaN          11.0       18.600000      1          True  ...   \n",
       "2               NaN           5.0       34.300000      4          True  ...   \n",
       "3               NaN          14.0       89.797718      9          True  ...   \n",
       "4              3.03          14.0       32.000000     13          True  ...   \n",
       "\n",
       "   ponds_around_3000  distance_to_ponds_m  days_exposition  price_per_m2  \\\n",
       "0                  2                755.0             <NA>        120370   \n",
       "1                  0                  NaN               81         82920   \n",
       "2                  2                574.0              558         92785   \n",
       "3                  3                234.0              424        408176   \n",
       "4                  1                 48.0              121        100000   \n",
       "\n",
       "  day_exposition  month_exposition  year_exposition  status_floor  \\\n",
       "0       Thursday             March             2019        другой   \n",
       "1        Tuesday          December             2018        первый   \n",
       "2       Thursday            August             2015        другой   \n",
       "3         Friday              July             2015        другой   \n",
       "4        Tuesday              June             2018        другой   \n",
       "\n",
       "   ratio_living_total_area  ratio_kitchen_total_area  \n",
       "0                 0.472222                  0.231481  \n",
       "1                 0.460396                  0.272277  \n",
       "2                 0.612500                  0.148214  \n",
       "3                 0.564766                  0.187355  \n",
       "4                 0.320000                  0.410000  \n",
       "\n",
       "[5 rows x 29 columns]"
      ]
     },
     "execution_count": 29,
     "metadata": {},
     "output_type": "execute_result"
    }
   ],
   "source": [
    "#добавим 2 новых столба: отношение жилой и общей площади, а также отношение площади кухни к общей\n",
    "df['ratio_living_total_area'] = df['living_area_m2'] / df['total_area_m2']\n",
    "df['ratio_kitchen_total_area'] = df['kitchen_area_m2'] / df['total_area_m2']\n",
    "df.head()"
   ]
  },
  {
   "cell_type": "markdown",
   "metadata": {},
   "source": [
    "**Вывод**: Добавили необходимые расчеты. Начнём исследовать данные "
   ]
  },
  {
   "cell_type": "markdown",
   "metadata": {},
   "source": [
    "## Исследовательский анализ данных"
   ]
  },
  {
   "cell_type": "markdown",
   "metadata": {},
   "source": [
    "### Изучим следующие параметры: площадь, цена, число комнат, высота потолков"
   ]
  },
  {
   "cell_type": "code",
   "execution_count": 30,
   "metadata": {},
   "outputs": [
    {
     "data": {
      "text/html": [
       "<div>\n",
       "<style scoped>\n",
       "    .dataframe tbody tr th:only-of-type {\n",
       "        vertical-align: middle;\n",
       "    }\n",
       "\n",
       "    .dataframe tbody tr th {\n",
       "        vertical-align: top;\n",
       "    }\n",
       "\n",
       "    .dataframe thead th {\n",
       "        text-align: right;\n",
       "    }\n",
       "</style>\n",
       "<table border=\"1\" class=\"dataframe\">\n",
       "  <thead>\n",
       "    <tr style=\"text-align: right;\">\n",
       "      <th></th>\n",
       "      <th>total_images</th>\n",
       "      <th>last_price</th>\n",
       "      <th>total_area_m2</th>\n",
       "      <th>rooms</th>\n",
       "      <th>ceiling_height_m</th>\n",
       "      <th>floors_total</th>\n",
       "      <th>living_area_m2</th>\n",
       "      <th>floor</th>\n",
       "      <th>kitchen_area_m2</th>\n",
       "      <th>balcony</th>\n",
       "      <th>...</th>\n",
       "      <th>distance_to_center_city_m</th>\n",
       "      <th>parks_around_3000</th>\n",
       "      <th>distance_to_parks_m</th>\n",
       "      <th>ponds_around_3000</th>\n",
       "      <th>distance_to_ponds_m</th>\n",
       "      <th>days_exposition</th>\n",
       "      <th>price_per_m2</th>\n",
       "      <th>year_exposition</th>\n",
       "      <th>ratio_living_total_area</th>\n",
       "      <th>ratio_kitchen_total_area</th>\n",
       "    </tr>\n",
       "  </thead>\n",
       "  <tbody>\n",
       "    <tr>\n",
       "      <th>count</th>\n",
       "      <td>23699.000000</td>\n",
       "      <td>2.369900e+04</td>\n",
       "      <td>23699.000000</td>\n",
       "      <td>23699.000000</td>\n",
       "      <td>14504.000000</td>\n",
       "      <td>23613.000000</td>\n",
       "      <td>23699.000000</td>\n",
       "      <td>23699.000000</td>\n",
       "      <td>23699.000000</td>\n",
       "      <td>23699.000000</td>\n",
       "      <td>...</td>\n",
       "      <td>18180.000000</td>\n",
       "      <td>18181.000000</td>\n",
       "      <td>8079.000000</td>\n",
       "      <td>18181.000000</td>\n",
       "      <td>9110.000000</td>\n",
       "      <td>20518.000000</td>\n",
       "      <td>2.369900e+04</td>\n",
       "      <td>23699.000000</td>\n",
       "      <td>23699.000000</td>\n",
       "      <td>23699.000000</td>\n",
       "    </tr>\n",
       "    <tr>\n",
       "      <th>mean</th>\n",
       "      <td>9.858475</td>\n",
       "      <td>6.541549e+06</td>\n",
       "      <td>60.348651</td>\n",
       "      <td>2.070636</td>\n",
       "      <td>2.771499</td>\n",
       "      <td>10.673824</td>\n",
       "      <td>34.562480</td>\n",
       "      <td>5.892358</td>\n",
       "      <td>10.572683</td>\n",
       "      <td>0.591080</td>\n",
       "      <td>...</td>\n",
       "      <td>14191.277833</td>\n",
       "      <td>0.611408</td>\n",
       "      <td>490.804555</td>\n",
       "      <td>0.770255</td>\n",
       "      <td>517.980900</td>\n",
       "      <td>180.888634</td>\n",
       "      <td>9.942121e+04</td>\n",
       "      <td>2017.367146</td>\n",
       "      <td>0.564766</td>\n",
       "      <td>0.187355</td>\n",
       "    </tr>\n",
       "    <tr>\n",
       "      <th>std</th>\n",
       "      <td>5.682529</td>\n",
       "      <td>1.088701e+07</td>\n",
       "      <td>35.654083</td>\n",
       "      <td>1.078405</td>\n",
       "      <td>1.261056</td>\n",
       "      <td>6.597173</td>\n",
       "      <td>22.326965</td>\n",
       "      <td>4.885249</td>\n",
       "      <td>6.095394</td>\n",
       "      <td>0.959298</td>\n",
       "      <td>...</td>\n",
       "      <td>8608.386210</td>\n",
       "      <td>0.802074</td>\n",
       "      <td>342.317995</td>\n",
       "      <td>0.938346</td>\n",
       "      <td>277.720643</td>\n",
       "      <td>219.727988</td>\n",
       "      <td>5.030681e+04</td>\n",
       "      <td>1.039771</td>\n",
       "      <td>0.101049</td>\n",
       "      <td>0.069372</td>\n",
       "    </tr>\n",
       "    <tr>\n",
       "      <th>min</th>\n",
       "      <td>0.000000</td>\n",
       "      <td>1.219000e+04</td>\n",
       "      <td>12.000000</td>\n",
       "      <td>0.000000</td>\n",
       "      <td>1.000000</td>\n",
       "      <td>1.000000</td>\n",
       "      <td>2.000000</td>\n",
       "      <td>1.000000</td>\n",
       "      <td>1.300000</td>\n",
       "      <td>0.000000</td>\n",
       "      <td>...</td>\n",
       "      <td>181.000000</td>\n",
       "      <td>0.000000</td>\n",
       "      <td>1.000000</td>\n",
       "      <td>0.000000</td>\n",
       "      <td>13.000000</td>\n",
       "      <td>1.000000</td>\n",
       "      <td>1.110000e+02</td>\n",
       "      <td>2014.000000</td>\n",
       "      <td>0.021583</td>\n",
       "      <td>0.025381</td>\n",
       "    </tr>\n",
       "    <tr>\n",
       "      <th>25%</th>\n",
       "      <td>6.000000</td>\n",
       "      <td>3.400000e+06</td>\n",
       "      <td>40.000000</td>\n",
       "      <td>1.000000</td>\n",
       "      <td>2.520000</td>\n",
       "      <td>5.000000</td>\n",
       "      <td>19.000000</td>\n",
       "      <td>2.000000</td>\n",
       "      <td>7.000000</td>\n",
       "      <td>0.000000</td>\n",
       "      <td>...</td>\n",
       "      <td>9238.000000</td>\n",
       "      <td>0.000000</td>\n",
       "      <td>288.000000</td>\n",
       "      <td>0.000000</td>\n",
       "      <td>294.000000</td>\n",
       "      <td>45.000000</td>\n",
       "      <td>7.658500e+04</td>\n",
       "      <td>2017.000000</td>\n",
       "      <td>0.500000</td>\n",
       "      <td>0.136859</td>\n",
       "    </tr>\n",
       "    <tr>\n",
       "      <th>50%</th>\n",
       "      <td>9.000000</td>\n",
       "      <td>4.650000e+06</td>\n",
       "      <td>52.000000</td>\n",
       "      <td>2.000000</td>\n",
       "      <td>2.650000</td>\n",
       "      <td>9.000000</td>\n",
       "      <td>30.000000</td>\n",
       "      <td>4.000000</td>\n",
       "      <td>9.080000</td>\n",
       "      <td>0.000000</td>\n",
       "      <td>...</td>\n",
       "      <td>13098.500000</td>\n",
       "      <td>0.000000</td>\n",
       "      <td>455.000000</td>\n",
       "      <td>1.000000</td>\n",
       "      <td>502.000000</td>\n",
       "      <td>95.000000</td>\n",
       "      <td>9.500000e+04</td>\n",
       "      <td>2017.000000</td>\n",
       "      <td>0.564766</td>\n",
       "      <td>0.182292</td>\n",
       "    </tr>\n",
       "    <tr>\n",
       "      <th>75%</th>\n",
       "      <td>14.000000</td>\n",
       "      <td>6.800000e+06</td>\n",
       "      <td>69.900000</td>\n",
       "      <td>3.000000</td>\n",
       "      <td>2.800000</td>\n",
       "      <td>16.000000</td>\n",
       "      <td>42.100000</td>\n",
       "      <td>8.000000</td>\n",
       "      <td>12.000000</td>\n",
       "      <td>1.000000</td>\n",
       "      <td>...</td>\n",
       "      <td>16293.000000</td>\n",
       "      <td>1.000000</td>\n",
       "      <td>612.000000</td>\n",
       "      <td>1.000000</td>\n",
       "      <td>729.000000</td>\n",
       "      <td>232.000000</td>\n",
       "      <td>1.142560e+05</td>\n",
       "      <td>2018.000000</td>\n",
       "      <td>0.631579</td>\n",
       "      <td>0.223717</td>\n",
       "    </tr>\n",
       "    <tr>\n",
       "      <th>max</th>\n",
       "      <td>50.000000</td>\n",
       "      <td>7.630000e+08</td>\n",
       "      <td>900.000000</td>\n",
       "      <td>19.000000</td>\n",
       "      <td>100.000000</td>\n",
       "      <td>60.000000</td>\n",
       "      <td>409.700000</td>\n",
       "      <td>33.000000</td>\n",
       "      <td>112.000000</td>\n",
       "      <td>5.000000</td>\n",
       "      <td>...</td>\n",
       "      <td>65968.000000</td>\n",
       "      <td>3.000000</td>\n",
       "      <td>3190.000000</td>\n",
       "      <td>3.000000</td>\n",
       "      <td>1344.000000</td>\n",
       "      <td>1580.000000</td>\n",
       "      <td>1.907500e+06</td>\n",
       "      <td>2019.000000</td>\n",
       "      <td>1.000000</td>\n",
       "      <td>0.787879</td>\n",
       "    </tr>\n",
       "  </tbody>\n",
       "</table>\n",
       "<p>8 rows × 21 columns</p>\n",
       "</div>"
      ],
      "text/plain": [
       "       total_images    last_price  total_area_m2         rooms  \\\n",
       "count  23699.000000  2.369900e+04   23699.000000  23699.000000   \n",
       "mean       9.858475  6.541549e+06      60.348651      2.070636   \n",
       "std        5.682529  1.088701e+07      35.654083      1.078405   \n",
       "min        0.000000  1.219000e+04      12.000000      0.000000   \n",
       "25%        6.000000  3.400000e+06      40.000000      1.000000   \n",
       "50%        9.000000  4.650000e+06      52.000000      2.000000   \n",
       "75%       14.000000  6.800000e+06      69.900000      3.000000   \n",
       "max       50.000000  7.630000e+08     900.000000     19.000000   \n",
       "\n",
       "       ceiling_height_m  floors_total  living_area_m2         floor  \\\n",
       "count      14504.000000  23613.000000    23699.000000  23699.000000   \n",
       "mean           2.771499     10.673824       34.562480      5.892358   \n",
       "std            1.261056      6.597173       22.326965      4.885249   \n",
       "min            1.000000      1.000000        2.000000      1.000000   \n",
       "25%            2.520000      5.000000       19.000000      2.000000   \n",
       "50%            2.650000      9.000000       30.000000      4.000000   \n",
       "75%            2.800000     16.000000       42.100000      8.000000   \n",
       "max          100.000000     60.000000      409.700000     33.000000   \n",
       "\n",
       "       kitchen_area_m2       balcony  ...  distance_to_center_city_m  \\\n",
       "count     23699.000000  23699.000000  ...               18180.000000   \n",
       "mean         10.572683      0.591080  ...               14191.277833   \n",
       "std           6.095394      0.959298  ...                8608.386210   \n",
       "min           1.300000      0.000000  ...                 181.000000   \n",
       "25%           7.000000      0.000000  ...                9238.000000   \n",
       "50%           9.080000      0.000000  ...               13098.500000   \n",
       "75%          12.000000      1.000000  ...               16293.000000   \n",
       "max         112.000000      5.000000  ...               65968.000000   \n",
       "\n",
       "       parks_around_3000  distance_to_parks_m  ponds_around_3000  \\\n",
       "count       18181.000000          8079.000000       18181.000000   \n",
       "mean            0.611408           490.804555           0.770255   \n",
       "std             0.802074           342.317995           0.938346   \n",
       "min             0.000000             1.000000           0.000000   \n",
       "25%             0.000000           288.000000           0.000000   \n",
       "50%             0.000000           455.000000           1.000000   \n",
       "75%             1.000000           612.000000           1.000000   \n",
       "max             3.000000          3190.000000           3.000000   \n",
       "\n",
       "       distance_to_ponds_m  days_exposition  price_per_m2  year_exposition  \\\n",
       "count          9110.000000     20518.000000  2.369900e+04     23699.000000   \n",
       "mean            517.980900       180.888634  9.942121e+04      2017.367146   \n",
       "std             277.720643       219.727988  5.030681e+04         1.039771   \n",
       "min              13.000000         1.000000  1.110000e+02      2014.000000   \n",
       "25%             294.000000        45.000000  7.658500e+04      2017.000000   \n",
       "50%             502.000000        95.000000  9.500000e+04      2017.000000   \n",
       "75%             729.000000       232.000000  1.142560e+05      2018.000000   \n",
       "max            1344.000000      1580.000000  1.907500e+06      2019.000000   \n",
       "\n",
       "       ratio_living_total_area  ratio_kitchen_total_area  \n",
       "count             23699.000000              23699.000000  \n",
       "mean                  0.564766                  0.187355  \n",
       "std                   0.101049                  0.069372  \n",
       "min                   0.021583                  0.025381  \n",
       "25%                   0.500000                  0.136859  \n",
       "50%                   0.564766                  0.182292  \n",
       "75%                   0.631579                  0.223717  \n",
       "max                   1.000000                  0.787879  \n",
       "\n",
       "[8 rows x 21 columns]"
      ]
     },
     "execution_count": 30,
     "metadata": {},
     "output_type": "execute_result"
    }
   ],
   "source": [
    "#для начала посмотри описательные статистики по интересующим нас столбцам\n",
    "df.describe()"
   ]
  },
  {
   "cell_type": "markdown",
   "metadata": {},
   "source": [
    "Предварительные выводы:\n",
    "- Подозрительно выгляит max(total_area) = 900м2 - это значения однозначно выбивается из строя\n",
    "- Так же подозрительно выглядит выбивающееся значения max(last_price) - 763 миллионов? \n",
    "- Аналогично с комнатами: 19 комнат? \n",
    "- Минимальная высота потолка 1м? ,а максимальная - 100м?"
   ]
  },
  {
   "cell_type": "code",
   "execution_count": 31,
   "metadata": {
    "scrolled": false
   },
   "outputs": [
    {
     "data": {
      "image/png": "[encoded data removed]",
      "text/plain": [
       "<Figure size 432x288 with 1 Axes>"
      ]
     },
     "metadata": {
      "needs_background": "light"
     },
     "output_type": "display_data"
    },
    {
     "data": {
      "image/png": "[encoded data removed]",
      "text/plain": [
       "<Figure size 432x288 with 1 Axes>"
      ]
     },
     "metadata": {
      "needs_background": "light"
     },
     "output_type": "display_data"
    },
    {
     "data": {
      "image/png": "[encoded data removed]",
      "text/plain": [
       "<Figure size 432x288 with 1 Axes>"
      ]
     },
     "metadata": {
      "needs_background": "light"
     },
     "output_type": "display_data"
    },
    {
     "data": {
      "image/png": "[encoded data removed]",
      "text/plain": [
       "<Figure size 432x288 with 1 Axes>"
      ]
     },
     "metadata": {
      "needs_background": "light"
     },
     "output_type": "display_data"
    }
   ],
   "source": [
    "#посмотрим на гистограммы интересующих нас данных \n",
    "df['total_area_m2'].hist(bins = 100)\n",
    "plt.show()\n",
    "df['last_price'].hist(bins = 100)\n",
    "plt.show()\n",
    "df['rooms'].hist(bins = 20)\n",
    "plt.show()\n",
    "df['ceiling_height_m'].hist(bins = 100)\n",
    "plt.show()"
   ]
  },
  {
   "cell_type": "markdown",
   "metadata": {},
   "source": [
    "На всех графиках одна и та же проблема - выбросы. \\\n",
    "Выбросами считаются значения , которые  :\n",
    "- меньше 25% квантиля на 1.5 * межквантильный размах \n",
    "- больше 75% квантиля на 1.5 * межквантильный размах"
   ]
  },
  {
   "cell_type": "markdown",
   "metadata": {},
   "source": [
    "### Изучим время продажи квартиры"
   ]
  },
  {
   "cell_type": "code",
   "execution_count": 32,
   "metadata": {
    "scrolled": true
   },
   "outputs": [
    {
     "data": {
      "image/png": "[encoded data removed]",
      "text/plain": [
       "<Figure size 432x288 with 1 Axes>"
      ]
     },
     "metadata": {
      "needs_background": "light"
     },
     "output_type": "display_data"
    },
    {
     "data": {
      "text/plain": [
       "count    20518.000000\n",
       "mean       180.888634\n",
       "std        219.727988\n",
       "min          1.000000\n",
       "25%         45.000000\n",
       "50%         95.000000\n",
       "75%        232.000000\n",
       "max       1580.000000\n",
       "Name: days_exposition, dtype: float64"
      ]
     },
     "execution_count": 32,
     "metadata": {},
     "output_type": "execute_result"
    }
   ],
   "source": [
    "#построим гистрограмму\n",
    "df['days_exposition'].hist(bins = 1000)\n",
    "plt.show()\n",
    "#посмотрим на описательные статистики( в том числе среднее и медиану)\n",
    "df['days_exposition'].describe()"
   ]
  },
  {
   "cell_type": "markdown",
   "metadata": {},
   "source": [
    "Обычно продажи квартиры занимает 95 дней (медианное значение). Как указано выше: все значение отклоняющиеся от 25% и 75% квантиля на 1.5 межквантильного размаха - выбросы"
   ]
  },
  {
   "cell_type": "code",
   "execution_count": 33,
   "metadata": {},
   "outputs": [
    {
     "data": {
      "text/plain": [
       "647.5"
      ]
     },
     "execution_count": 33,
     "metadata": {},
     "output_type": "execute_result"
    }
   ],
   "source": [
    "#посчитаем необычно долго для продажи квартиры \n",
    "(df['days_exposition'].quantile(0.75) + \n",
    "            (1.5 * (df['days_exposition'].quantile(0.25) + df['days_exposition'].quantile(0.75))))"
   ]
  },
  {
   "cell_type": "markdown",
   "metadata": {},
   "source": [
    "То есть если продажа квартиры занимала более 647.5 (почти 2 года) - это необычно долго. Похоже на правду"
   ]
  },
  {
   "cell_type": "code",
   "execution_count": 34,
   "metadata": {},
   "outputs": [
    {
     "data": {
      "text/plain": [
       "9.0"
      ]
     },
     "execution_count": 34,
     "metadata": {},
     "output_type": "execute_result"
    }
   ],
   "source": [
    "#посчитаем очень быстро для продажи квартиры \n",
    "#здесь мы не можем посмотреть отклонение выбросов меньше 25% квантиля - меньше 0 быть не может\n",
    "#примем решение - возьмём порог 5%-ого квантиля за \"очень быстро\"\n",
    "df['days_exposition'].quantile(0.05)"
   ]
  },
  {
   "cell_type": "markdown",
   "metadata": {},
   "source": [
    "И правда - продать квартиру за 9 дней это очень быстро"
   ]
  },
  {
   "cell_type": "markdown",
   "metadata": {},
   "source": [
    "### Уберем редкие и выбивающиеся значения по интересующим нас столбцам: площадь, цена, комнаты, высота потолков, время продажи"
   ]
  },
  {
   "cell_type": "code",
   "execution_count": 35,
   "metadata": {},
   "outputs": [],
   "source": [
    "#введём функцию ,которая пройдет по необходимым столбцам и уберет строки со значениями выбросами\n",
    "def outlier_value_filter(df, column):\n",
    "    q1 = df[column].quantile(0.25)                 \n",
    "    q3 = df[column].quantile(0.75)\n",
    "    iqr = q3 - q1\n",
    "    filtered_column = (df[column] >= (q1 - 1.5*iqr)) & (df[column] <= (q3 + 1.5*iqr))\n",
    "    return df.loc[filtered_column]"
   ]
  },
  {
   "cell_type": "code",
   "execution_count": 36,
   "metadata": {},
   "outputs": [
    {
     "data": {
      "text/html": [
       "<div>\n",
       "<style scoped>\n",
       "    .dataframe tbody tr th:only-of-type {\n",
       "        vertical-align: middle;\n",
       "    }\n",
       "\n",
       "    .dataframe tbody tr th {\n",
       "        vertical-align: top;\n",
       "    }\n",
       "\n",
       "    .dataframe thead th {\n",
       "        text-align: right;\n",
       "    }\n",
       "</style>\n",
       "<table border=\"1\" class=\"dataframe\">\n",
       "  <thead>\n",
       "    <tr style=\"text-align: right;\">\n",
       "      <th></th>\n",
       "      <th>total_images</th>\n",
       "      <th>last_price</th>\n",
       "      <th>total_area_m2</th>\n",
       "      <th>first_day_exposition</th>\n",
       "      <th>rooms</th>\n",
       "      <th>ceiling_height_m</th>\n",
       "      <th>floors_total</th>\n",
       "      <th>living_area_m2</th>\n",
       "      <th>floor</th>\n",
       "      <th>is_apartment</th>\n",
       "      <th>...</th>\n",
       "      <th>ponds_around_3000</th>\n",
       "      <th>distance_to_ponds_m</th>\n",
       "      <th>days_exposition</th>\n",
       "      <th>price_per_m2</th>\n",
       "      <th>day_exposition</th>\n",
       "      <th>month_exposition</th>\n",
       "      <th>year_exposition</th>\n",
       "      <th>status_floor</th>\n",
       "      <th>ratio_living_total_area</th>\n",
       "      <th>ratio_kitchen_total_area</th>\n",
       "    </tr>\n",
       "  </thead>\n",
       "  <tbody>\n",
       "    <tr>\n",
       "      <th>1</th>\n",
       "      <td>7</td>\n",
       "      <td>3350000</td>\n",
       "      <td>40.4</td>\n",
       "      <td>2018-12-04</td>\n",
       "      <td>1</td>\n",
       "      <td>NaN</td>\n",
       "      <td>11.0</td>\n",
       "      <td>18.600000</td>\n",
       "      <td>1</td>\n",
       "      <td>True</td>\n",
       "      <td>...</td>\n",
       "      <td>0</td>\n",
       "      <td>NaN</td>\n",
       "      <td>81</td>\n",
       "      <td>82920</td>\n",
       "      <td>Tuesday</td>\n",
       "      <td>December</td>\n",
       "      <td>2018</td>\n",
       "      <td>первый</td>\n",
       "      <td>0.460396</td>\n",
       "      <td>0.272277</td>\n",
       "    </tr>\n",
       "    <tr>\n",
       "      <th>3</th>\n",
       "      <td>0</td>\n",
       "      <td>64900000</td>\n",
       "      <td>159.0</td>\n",
       "      <td>2015-07-24</td>\n",
       "      <td>3</td>\n",
       "      <td>NaN</td>\n",
       "      <td>14.0</td>\n",
       "      <td>89.797718</td>\n",
       "      <td>9</td>\n",
       "      <td>True</td>\n",
       "      <td>...</td>\n",
       "      <td>3</td>\n",
       "      <td>234.0</td>\n",
       "      <td>424</td>\n",
       "      <td>408176</td>\n",
       "      <td>Friday</td>\n",
       "      <td>July</td>\n",
       "      <td>2015</td>\n",
       "      <td>другой</td>\n",
       "      <td>0.564766</td>\n",
       "      <td>0.187355</td>\n",
       "    </tr>\n",
       "    <tr>\n",
       "      <th>4</th>\n",
       "      <td>2</td>\n",
       "      <td>10000000</td>\n",
       "      <td>100.0</td>\n",
       "      <td>2018-06-19</td>\n",
       "      <td>2</td>\n",
       "      <td>3.03</td>\n",
       "      <td>14.0</td>\n",
       "      <td>32.000000</td>\n",
       "      <td>13</td>\n",
       "      <td>True</td>\n",
       "      <td>...</td>\n",
       "      <td>1</td>\n",
       "      <td>48.0</td>\n",
       "      <td>121</td>\n",
       "      <td>100000</td>\n",
       "      <td>Tuesday</td>\n",
       "      <td>June</td>\n",
       "      <td>2018</td>\n",
       "      <td>другой</td>\n",
       "      <td>0.320000</td>\n",
       "      <td>0.410000</td>\n",
       "    </tr>\n",
       "    <tr>\n",
       "      <th>5</th>\n",
       "      <td>10</td>\n",
       "      <td>2890000</td>\n",
       "      <td>30.4</td>\n",
       "      <td>2018-09-10</td>\n",
       "      <td>1</td>\n",
       "      <td>NaN</td>\n",
       "      <td>12.0</td>\n",
       "      <td>14.400000</td>\n",
       "      <td>5</td>\n",
       "      <td>True</td>\n",
       "      <td>...</td>\n",
       "      <td>&lt;NA&gt;</td>\n",
       "      <td>NaN</td>\n",
       "      <td>55</td>\n",
       "      <td>95065</td>\n",
       "      <td>Monday</td>\n",
       "      <td>September</td>\n",
       "      <td>2018</td>\n",
       "      <td>другой</td>\n",
       "      <td>0.473684</td>\n",
       "      <td>0.299342</td>\n",
       "    </tr>\n",
       "    <tr>\n",
       "      <th>6</th>\n",
       "      <td>6</td>\n",
       "      <td>3700000</td>\n",
       "      <td>37.3</td>\n",
       "      <td>2017-11-02</td>\n",
       "      <td>1</td>\n",
       "      <td>NaN</td>\n",
       "      <td>26.0</td>\n",
       "      <td>10.600000</td>\n",
       "      <td>6</td>\n",
       "      <td>True</td>\n",
       "      <td>...</td>\n",
       "      <td>0</td>\n",
       "      <td>NaN</td>\n",
       "      <td>155</td>\n",
       "      <td>99195</td>\n",
       "      <td>Thursday</td>\n",
       "      <td>November</td>\n",
       "      <td>2017</td>\n",
       "      <td>другой</td>\n",
       "      <td>0.284182</td>\n",
       "      <td>0.386059</td>\n",
       "    </tr>\n",
       "    <tr>\n",
       "      <th>...</th>\n",
       "      <td>...</td>\n",
       "      <td>...</td>\n",
       "      <td>...</td>\n",
       "      <td>...</td>\n",
       "      <td>...</td>\n",
       "      <td>...</td>\n",
       "      <td>...</td>\n",
       "      <td>...</td>\n",
       "      <td>...</td>\n",
       "      <td>...</td>\n",
       "      <td>...</td>\n",
       "      <td>...</td>\n",
       "      <td>...</td>\n",
       "      <td>...</td>\n",
       "      <td>...</td>\n",
       "      <td>...</td>\n",
       "      <td>...</td>\n",
       "      <td>...</td>\n",
       "      <td>...</td>\n",
       "      <td>...</td>\n",
       "      <td>...</td>\n",
       "    </tr>\n",
       "    <tr>\n",
       "      <th>23689</th>\n",
       "      <td>13</td>\n",
       "      <td>3550000</td>\n",
       "      <td>35.3</td>\n",
       "      <td>2018-02-28</td>\n",
       "      <td>1</td>\n",
       "      <td>2.86</td>\n",
       "      <td>15.0</td>\n",
       "      <td>16.300000</td>\n",
       "      <td>4</td>\n",
       "      <td>True</td>\n",
       "      <td>...</td>\n",
       "      <td>2</td>\n",
       "      <td>652.0</td>\n",
       "      <td>29</td>\n",
       "      <td>100566</td>\n",
       "      <td>Wednesday</td>\n",
       "      <td>February</td>\n",
       "      <td>2018</td>\n",
       "      <td>другой</td>\n",
       "      <td>0.461756</td>\n",
       "      <td>0.257790</td>\n",
       "    </tr>\n",
       "    <tr>\n",
       "      <th>23690</th>\n",
       "      <td>3</td>\n",
       "      <td>5500000</td>\n",
       "      <td>52.0</td>\n",
       "      <td>2018-07-19</td>\n",
       "      <td>2</td>\n",
       "      <td>NaN</td>\n",
       "      <td>5.0</td>\n",
       "      <td>31.000000</td>\n",
       "      <td>2</td>\n",
       "      <td>True</td>\n",
       "      <td>...</td>\n",
       "      <td>0</td>\n",
       "      <td>NaN</td>\n",
       "      <td>15</td>\n",
       "      <td>105769</td>\n",
       "      <td>Thursday</td>\n",
       "      <td>July</td>\n",
       "      <td>2018</td>\n",
       "      <td>другой</td>\n",
       "      <td>0.596154</td>\n",
       "      <td>0.115385</td>\n",
       "    </tr>\n",
       "    <tr>\n",
       "      <th>23692</th>\n",
       "      <td>2</td>\n",
       "      <td>1350000</td>\n",
       "      <td>30.0</td>\n",
       "      <td>2017-07-07</td>\n",
       "      <td>1</td>\n",
       "      <td>NaN</td>\n",
       "      <td>5.0</td>\n",
       "      <td>17.500000</td>\n",
       "      <td>4</td>\n",
       "      <td>True</td>\n",
       "      <td>...</td>\n",
       "      <td>&lt;NA&gt;</td>\n",
       "      <td>NaN</td>\n",
       "      <td>413</td>\n",
       "      <td>45000</td>\n",
       "      <td>Friday</td>\n",
       "      <td>July</td>\n",
       "      <td>2017</td>\n",
       "      <td>другой</td>\n",
       "      <td>0.583333</td>\n",
       "      <td>0.200000</td>\n",
       "    </tr>\n",
       "    <tr>\n",
       "      <th>23693</th>\n",
       "      <td>9</td>\n",
       "      <td>4600000</td>\n",
       "      <td>62.4</td>\n",
       "      <td>2016-08-05</td>\n",
       "      <td>3</td>\n",
       "      <td>2.60</td>\n",
       "      <td>9.0</td>\n",
       "      <td>40.000000</td>\n",
       "      <td>8</td>\n",
       "      <td>True</td>\n",
       "      <td>...</td>\n",
       "      <td>1</td>\n",
       "      <td>675.0</td>\n",
       "      <td>239</td>\n",
       "      <td>73717</td>\n",
       "      <td>Friday</td>\n",
       "      <td>August</td>\n",
       "      <td>2016</td>\n",
       "      <td>другой</td>\n",
       "      <td>0.641026</td>\n",
       "      <td>0.128205</td>\n",
       "    </tr>\n",
       "    <tr>\n",
       "      <th>23695</th>\n",
       "      <td>14</td>\n",
       "      <td>3100000</td>\n",
       "      <td>59.0</td>\n",
       "      <td>2018-01-15</td>\n",
       "      <td>3</td>\n",
       "      <td>NaN</td>\n",
       "      <td>5.0</td>\n",
       "      <td>38.000000</td>\n",
       "      <td>4</td>\n",
       "      <td>True</td>\n",
       "      <td>...</td>\n",
       "      <td>&lt;NA&gt;</td>\n",
       "      <td>NaN</td>\n",
       "      <td>45</td>\n",
       "      <td>52542</td>\n",
       "      <td>Monday</td>\n",
       "      <td>January</td>\n",
       "      <td>2018</td>\n",
       "      <td>другой</td>\n",
       "      <td>0.644068</td>\n",
       "      <td>0.144068</td>\n",
       "    </tr>\n",
       "  </tbody>\n",
       "</table>\n",
       "<p>18849 rows × 29 columns</p>\n",
       "</div>"
      ],
      "text/plain": [
       "       total_images  last_price  total_area_m2 first_day_exposition  rooms  \\\n",
       "1                 7     3350000           40.4           2018-12-04      1   \n",
       "3                 0    64900000          159.0           2015-07-24      3   \n",
       "4                 2    10000000          100.0           2018-06-19      2   \n",
       "5                10     2890000           30.4           2018-09-10      1   \n",
       "6                 6     3700000           37.3           2017-11-02      1   \n",
       "...             ...         ...            ...                  ...    ...   \n",
       "23689            13     3550000           35.3           2018-02-28      1   \n",
       "23690             3     5500000           52.0           2018-07-19      2   \n",
       "23692             2     1350000           30.0           2017-07-07      1   \n",
       "23693             9     4600000           62.4           2016-08-05      3   \n",
       "23695            14     3100000           59.0           2018-01-15      3   \n",
       "\n",
       "       ceiling_height_m  floors_total  living_area_m2  floor  is_apartment  \\\n",
       "1                   NaN          11.0       18.600000      1          True   \n",
       "3                   NaN          14.0       89.797718      9          True   \n",
       "4                  3.03          14.0       32.000000     13          True   \n",
       "5                   NaN          12.0       14.400000      5          True   \n",
       "6                   NaN          26.0       10.600000      6          True   \n",
       "...                 ...           ...             ...    ...           ...   \n",
       "23689              2.86          15.0       16.300000      4          True   \n",
       "23690               NaN           5.0       31.000000      2          True   \n",
       "23692               NaN           5.0       17.500000      4          True   \n",
       "23693              2.60           9.0       40.000000      8          True   \n",
       "23695               NaN           5.0       38.000000      4          True   \n",
       "\n",
       "       ...  ponds_around_3000  distance_to_ponds_m  days_exposition  \\\n",
       "1      ...                  0                  NaN               81   \n",
       "3      ...                  3                234.0              424   \n",
       "4      ...                  1                 48.0              121   \n",
       "5      ...               <NA>                  NaN               55   \n",
       "6      ...                  0                  NaN              155   \n",
       "...    ...                ...                  ...              ...   \n",
       "23689  ...                  2                652.0               29   \n",
       "23690  ...                  0                  NaN               15   \n",
       "23692  ...               <NA>                  NaN              413   \n",
       "23693  ...                  1                675.0              239   \n",
       "23695  ...               <NA>                  NaN               45   \n",
       "\n",
       "       price_per_m2 day_exposition  month_exposition  year_exposition  \\\n",
       "1             82920        Tuesday          December             2018   \n",
       "3            408176         Friday              July             2015   \n",
       "4            100000        Tuesday              June             2018   \n",
       "5             95065         Monday         September             2018   \n",
       "6             99195       Thursday          November             2017   \n",
       "...             ...            ...               ...              ...   \n",
       "23689        100566      Wednesday          February             2018   \n",
       "23690        105769       Thursday              July             2018   \n",
       "23692         45000         Friday              July             2017   \n",
       "23693         73717         Friday            August             2016   \n",
       "23695         52542         Monday           January             2018   \n",
       "\n",
       "       status_floor  ratio_living_total_area  ratio_kitchen_total_area  \n",
       "1            первый                 0.460396                  0.272277  \n",
       "3            другой                 0.564766                  0.187355  \n",
       "4            другой                 0.320000                  0.410000  \n",
       "5            другой                 0.473684                  0.299342  \n",
       "6            другой                 0.284182                  0.386059  \n",
       "...             ...                      ...                       ...  \n",
       "23689        другой                 0.461756                  0.257790  \n",
       "23690        другой                 0.596154                  0.115385  \n",
       "23692        другой                 0.583333                  0.200000  \n",
       "23693        другой                 0.641026                  0.128205  \n",
       "23695        другой                 0.644068                  0.144068  \n",
       "\n",
       "[18849 rows x 29 columns]"
      ]
     },
     "metadata": {},
     "output_type": "display_data"
    }
   ],
   "source": [
    "#отфильтруем исходное df и создадим новую таблицу с отфильтрованными данными \n",
    "filtred_df = outlier_value_filter(df,'days_exposition')\n",
    "display(filtred_df)"
   ]
  },
  {
   "cell_type": "code",
   "execution_count": 37,
   "metadata": {},
   "outputs": [],
   "source": [
    "#создадим список оставшихся столбцов, по которым мы хотим отфильтровать таблицу(убрать выбросы)\n",
    "columns_with_outliers = ['total_area_m2','last_price','rooms','ceiling_height_m']\n",
    "#циклом применим нашу функцию-фильтр по всем нужным столбцам\n",
    "for column in columns_with_outliers:\n",
    "    filtred_df = outlier_value_filter(filtred_df,column)"
   ]
  },
  {
   "cell_type": "code",
   "execution_count": 38,
   "metadata": {},
   "outputs": [
    {
     "data": {
      "text/html": [
       "<div>\n",
       "<style scoped>\n",
       "    .dataframe tbody tr th:only-of-type {\n",
       "        vertical-align: middle;\n",
       "    }\n",
       "\n",
       "    .dataframe tbody tr th {\n",
       "        vertical-align: top;\n",
       "    }\n",
       "\n",
       "    .dataframe thead th {\n",
       "        text-align: right;\n",
       "    }\n",
       "</style>\n",
       "<table border=\"1\" class=\"dataframe\">\n",
       "  <thead>\n",
       "    <tr style=\"text-align: right;\">\n",
       "      <th></th>\n",
       "      <th>total_images</th>\n",
       "      <th>last_price</th>\n",
       "      <th>total_area_m2</th>\n",
       "      <th>rooms</th>\n",
       "      <th>ceiling_height_m</th>\n",
       "      <th>floors_total</th>\n",
       "      <th>living_area_m2</th>\n",
       "      <th>floor</th>\n",
       "      <th>kitchen_area_m2</th>\n",
       "      <th>balcony</th>\n",
       "      <th>...</th>\n",
       "      <th>distance_to_center_city_m</th>\n",
       "      <th>parks_around_3000</th>\n",
       "      <th>distance_to_parks_m</th>\n",
       "      <th>ponds_around_3000</th>\n",
       "      <th>distance_to_ponds_m</th>\n",
       "      <th>days_exposition</th>\n",
       "      <th>price_per_m2</th>\n",
       "      <th>year_exposition</th>\n",
       "      <th>ratio_living_total_area</th>\n",
       "      <th>ratio_kitchen_total_area</th>\n",
       "    </tr>\n",
       "  </thead>\n",
       "  <tbody>\n",
       "    <tr>\n",
       "      <th>count</th>\n",
       "      <td>9097.000000</td>\n",
       "      <td>9.097000e+03</td>\n",
       "      <td>9097.000000</td>\n",
       "      <td>9097.000000</td>\n",
       "      <td>9097.000000</td>\n",
       "      <td>9094.000000</td>\n",
       "      <td>9097.000000</td>\n",
       "      <td>9097.000000</td>\n",
       "      <td>9097.000000</td>\n",
       "      <td>9097.000000</td>\n",
       "      <td>...</td>\n",
       "      <td>7047.000000</td>\n",
       "      <td>7047.000000</td>\n",
       "      <td>2826.000000</td>\n",
       "      <td>7047.000000</td>\n",
       "      <td>3184.000000</td>\n",
       "      <td>9097.000000</td>\n",
       "      <td>9097.000000</td>\n",
       "      <td>9097.000000</td>\n",
       "      <td>9097.000000</td>\n",
       "      <td>9097.000000</td>\n",
       "    </tr>\n",
       "    <tr>\n",
       "      <th>mean</th>\n",
       "      <td>9.941299</td>\n",
       "      <td>4.559001e+06</td>\n",
       "      <td>49.958335</td>\n",
       "      <td>1.803012</td>\n",
       "      <td>2.643201</td>\n",
       "      <td>10.709259</td>\n",
       "      <td>28.448446</td>\n",
       "      <td>5.825877</td>\n",
       "      <td>9.130412</td>\n",
       "      <td>0.710014</td>\n",
       "      <td>...</td>\n",
       "      <td>15574.518235</td>\n",
       "      <td>0.525898</td>\n",
       "      <td>473.542463</td>\n",
       "      <td>0.649780</td>\n",
       "      <td>552.208229</td>\n",
       "      <td>126.108717</td>\n",
       "      <td>92494.263054</td>\n",
       "      <td>2017.518962</td>\n",
       "      <td>0.562326</td>\n",
       "      <td>0.190789</td>\n",
       "    </tr>\n",
       "    <tr>\n",
       "      <th>std</th>\n",
       "      <td>5.444518</td>\n",
       "      <td>1.812049e+06</td>\n",
       "      <td>15.258243</td>\n",
       "      <td>0.782040</td>\n",
       "      <td>0.147859</td>\n",
       "      <td>6.271570</td>\n",
       "      <td>10.930395</td>\n",
       "      <td>4.702263</td>\n",
       "      <td>3.332228</td>\n",
       "      <td>0.969807</td>\n",
       "      <td>...</td>\n",
       "      <td>8275.839391</td>\n",
       "      <td>0.739677</td>\n",
       "      <td>290.786153</td>\n",
       "      <td>0.849242</td>\n",
       "      <td>276.858487</td>\n",
       "      <td>119.920209</td>\n",
       "      <td>27574.589152</td>\n",
       "      <td>0.810752</td>\n",
       "      <td>0.096058</td>\n",
       "      <td>0.065148</td>\n",
       "    </tr>\n",
       "    <tr>\n",
       "      <th>min</th>\n",
       "      <td>0.000000</td>\n",
       "      <td>4.500000e+05</td>\n",
       "      <td>12.000000</td>\n",
       "      <td>0.000000</td>\n",
       "      <td>2.200000</td>\n",
       "      <td>1.000000</td>\n",
       "      <td>2.000000</td>\n",
       "      <td>1.000000</td>\n",
       "      <td>2.000000</td>\n",
       "      <td>0.000000</td>\n",
       "      <td>...</td>\n",
       "      <td>329.000000</td>\n",
       "      <td>0.000000</td>\n",
       "      <td>3.000000</td>\n",
       "      <td>0.000000</td>\n",
       "      <td>16.000000</td>\n",
       "      <td>1.000000</td>\n",
       "      <td>9615.000000</td>\n",
       "      <td>2015.000000</td>\n",
       "      <td>0.038462</td>\n",
       "      <td>0.064815</td>\n",
       "    </tr>\n",
       "    <tr>\n",
       "      <th>25%</th>\n",
       "      <td>6.000000</td>\n",
       "      <td>3.328000e+06</td>\n",
       "      <td>38.000000</td>\n",
       "      <td>1.000000</td>\n",
       "      <td>2.500000</td>\n",
       "      <td>5.000000</td>\n",
       "      <td>18.000000</td>\n",
       "      <td>2.000000</td>\n",
       "      <td>6.800000</td>\n",
       "      <td>0.000000</td>\n",
       "      <td>...</td>\n",
       "      <td>11338.000000</td>\n",
       "      <td>0.000000</td>\n",
       "      <td>293.250000</td>\n",
       "      <td>0.000000</td>\n",
       "      <td>335.000000</td>\n",
       "      <td>38.000000</td>\n",
       "      <td>76470.000000</td>\n",
       "      <td>2017.000000</td>\n",
       "      <td>0.502326</td>\n",
       "      <td>0.142857</td>\n",
       "    </tr>\n",
       "    <tr>\n",
       "      <th>50%</th>\n",
       "      <td>10.000000</td>\n",
       "      <td>4.300000e+06</td>\n",
       "      <td>46.500000</td>\n",
       "      <td>2.000000</td>\n",
       "      <td>2.600000</td>\n",
       "      <td>9.000000</td>\n",
       "      <td>28.000000</td>\n",
       "      <td>4.000000</td>\n",
       "      <td>8.500000</td>\n",
       "      <td>0.000000</td>\n",
       "      <td>...</td>\n",
       "      <td>13956.000000</td>\n",
       "      <td>0.000000</td>\n",
       "      <td>458.000000</td>\n",
       "      <td>0.000000</td>\n",
       "      <td>544.500000</td>\n",
       "      <td>82.000000</td>\n",
       "      <td>93366.000000</td>\n",
       "      <td>2018.000000</td>\n",
       "      <td>0.564766</td>\n",
       "      <td>0.185369</td>\n",
       "    </tr>\n",
       "    <tr>\n",
       "      <th>75%</th>\n",
       "      <td>14.000000</td>\n",
       "      <td>5.550000e+06</td>\n",
       "      <td>60.000000</td>\n",
       "      <td>2.000000</td>\n",
       "      <td>2.720000</td>\n",
       "      <td>15.000000</td>\n",
       "      <td>35.550000</td>\n",
       "      <td>8.000000</td>\n",
       "      <td>10.700000</td>\n",
       "      <td>1.000000</td>\n",
       "      <td>...</td>\n",
       "      <td>16630.000000</td>\n",
       "      <td>1.000000</td>\n",
       "      <td>607.750000</td>\n",
       "      <td>1.000000</td>\n",
       "      <td>760.000000</td>\n",
       "      <td>180.000000</td>\n",
       "      <td>108750.000000</td>\n",
       "      <td>2018.000000</td>\n",
       "      <td>0.625724</td>\n",
       "      <td>0.228942</td>\n",
       "    </tr>\n",
       "    <tr>\n",
       "      <th>max</th>\n",
       "      <td>35.000000</td>\n",
       "      <td>1.000565e+07</td>\n",
       "      <td>107.300000</td>\n",
       "      <td>3.000000</td>\n",
       "      <td>3.120000</td>\n",
       "      <td>60.000000</td>\n",
       "      <td>72.000000</td>\n",
       "      <td>27.000000</td>\n",
       "      <td>43.200000</td>\n",
       "      <td>5.000000</td>\n",
       "      <td>...</td>\n",
       "      <td>64857.000000</td>\n",
       "      <td>3.000000</td>\n",
       "      <td>3190.000000</td>\n",
       "      <td>3.000000</td>\n",
       "      <td>1344.000000</td>\n",
       "      <td>512.000000</td>\n",
       "      <td>312240.000000</td>\n",
       "      <td>2019.000000</td>\n",
       "      <td>0.973262</td>\n",
       "      <td>0.723270</td>\n",
       "    </tr>\n",
       "  </tbody>\n",
       "</table>\n",
       "<p>8 rows × 21 columns</p>\n",
       "</div>"
      ],
      "text/plain": [
       "       total_images    last_price  total_area_m2        rooms  \\\n",
       "count   9097.000000  9.097000e+03    9097.000000  9097.000000   \n",
       "mean       9.941299  4.559001e+06      49.958335     1.803012   \n",
       "std        5.444518  1.812049e+06      15.258243     0.782040   \n",
       "min        0.000000  4.500000e+05      12.000000     0.000000   \n",
       "25%        6.000000  3.328000e+06      38.000000     1.000000   \n",
       "50%       10.000000  4.300000e+06      46.500000     2.000000   \n",
       "75%       14.000000  5.550000e+06      60.000000     2.000000   \n",
       "max       35.000000  1.000565e+07     107.300000     3.000000   \n",
       "\n",
       "       ceiling_height_m  floors_total  living_area_m2        floor  \\\n",
       "count       9097.000000   9094.000000     9097.000000  9097.000000   \n",
       "mean           2.643201     10.709259       28.448446     5.825877   \n",
       "std            0.147859      6.271570       10.930395     4.702263   \n",
       "min            2.200000      1.000000        2.000000     1.000000   \n",
       "25%            2.500000      5.000000       18.000000     2.000000   \n",
       "50%            2.600000      9.000000       28.000000     4.000000   \n",
       "75%            2.720000     15.000000       35.550000     8.000000   \n",
       "max            3.120000     60.000000       72.000000    27.000000   \n",
       "\n",
       "       kitchen_area_m2      balcony  ...  distance_to_center_city_m  \\\n",
       "count      9097.000000  9097.000000  ...                7047.000000   \n",
       "mean          9.130412     0.710014  ...               15574.518235   \n",
       "std           3.332228     0.969807  ...                8275.839391   \n",
       "min           2.000000     0.000000  ...                 329.000000   \n",
       "25%           6.800000     0.000000  ...               11338.000000   \n",
       "50%           8.500000     0.000000  ...               13956.000000   \n",
       "75%          10.700000     1.000000  ...               16630.000000   \n",
       "max          43.200000     5.000000  ...               64857.000000   \n",
       "\n",
       "       parks_around_3000  distance_to_parks_m  ponds_around_3000  \\\n",
       "count        7047.000000          2826.000000        7047.000000   \n",
       "mean            0.525898           473.542463           0.649780   \n",
       "std             0.739677           290.786153           0.849242   \n",
       "min             0.000000             3.000000           0.000000   \n",
       "25%             0.000000           293.250000           0.000000   \n",
       "50%             0.000000           458.000000           0.000000   \n",
       "75%             1.000000           607.750000           1.000000   \n",
       "max             3.000000          3190.000000           3.000000   \n",
       "\n",
       "       distance_to_ponds_m  days_exposition   price_per_m2  year_exposition  \\\n",
       "count          3184.000000      9097.000000    9097.000000      9097.000000   \n",
       "mean            552.208229       126.108717   92494.263054      2017.518962   \n",
       "std             276.858487       119.920209   27574.589152         0.810752   \n",
       "min              16.000000         1.000000    9615.000000      2015.000000   \n",
       "25%             335.000000        38.000000   76470.000000      2017.000000   \n",
       "50%             544.500000        82.000000   93366.000000      2018.000000   \n",
       "75%             760.000000       180.000000  108750.000000      2018.000000   \n",
       "max            1344.000000       512.000000  312240.000000      2019.000000   \n",
       "\n",
       "       ratio_living_total_area  ratio_kitchen_total_area  \n",
       "count              9097.000000               9097.000000  \n",
       "mean                  0.562326                  0.190789  \n",
       "std                   0.096058                  0.065148  \n",
       "min                   0.038462                  0.064815  \n",
       "25%                   0.502326                  0.142857  \n",
       "50%                   0.564766                  0.185369  \n",
       "75%                   0.625724                  0.228942  \n",
       "max                   0.973262                  0.723270  \n",
       "\n",
       "[8 rows x 21 columns]"
      ]
     },
     "execution_count": 38,
     "metadata": {},
     "output_type": "execute_result"
    }
   ],
   "source": [
    "#проверим значения\n",
    "filtred_df.describe()"
   ]
  },
  {
   "cell_type": "markdown",
   "metadata": {},
   "source": [
    "Отлично! Теперь максимальные значения выглядит более реалистичным. Далее будет работать с таблицей filtred_df"
   ]
  },
  {
   "cell_type": "markdown",
   "metadata": {},
   "source": [
    "### Какие факторы больше всего влияют на стоимость квартиры?"
   ]
  },
  {
   "cell_type": "markdown",
   "metadata": {},
   "source": [
    "Зависит ли цена за квадратный метр от площади, числа комнат, удаленности от центра?"
   ]
  },
  {
   "cell_type": "code",
   "execution_count": 39,
   "metadata": {},
   "outputs": [
    {
     "data": {
      "text/plain": [
       "-0.14709214541901447"
      ]
     },
     "execution_count": 39,
     "metadata": {},
     "output_type": "execute_result"
    }
   ],
   "source": [
    "#посчитаем значение корреляции для интересующих нас факторов\n",
    "#начнём с площади\n",
    "filtred_df['price_per_m2'].corr(filtred_df['total_area_m2'])"
   ]
  },
  {
   "cell_type": "markdown",
   "metadata": {},
   "source": [
    "Вывод : Можно говорить о зависимости ,если коэффициент корреляции достигает значение (по модулю) от 0.7 до 1. У нас \" - 0.15\". Зависимость между между площадью квартиры и стоиомстью квадратного метра - отсутствует. "
   ]
  },
  {
   "cell_type": "code",
   "execution_count": 40,
   "metadata": {},
   "outputs": [
    {
     "data": {
      "text/plain": [
       "-0.2738565931538932"
      ]
     },
     "execution_count": 40,
     "metadata": {},
     "output_type": "execute_result"
    }
   ],
   "source": [
    "#что насчёт комнат\n",
    "filtred_df['price_per_m2'].corr(filtred_df['rooms'])"
   ]
  },
  {
   "cell_type": "markdown",
   "metadata": {},
   "source": [
    "Вывод: Значение коэффициента корреляции не достигает \"значимой\" отметки. Зависимость между количеством комнат и ценой за квадратный метр - отсутствует."
   ]
  },
  {
   "cell_type": "code",
   "execution_count": 41,
   "metadata": {},
   "outputs": [
    {
     "data": {
      "text/plain": [
       "-0.3971133661077434"
      ]
     },
     "execution_count": 41,
     "metadata": {},
     "output_type": "execute_result"
    }
   ],
   "source": [
    "#а расстояние от центра?\n",
    "filtred_df['price_per_m2'].corr(filtred_df['distance_to_center_city_m'])"
   ]
  },
  {
   "cell_type": "markdown",
   "metadata": {},
   "source": [
    "**Вывод**: Логично. Чем дальше квартира от центра, тем дешевле цена за квадратный метр  "
   ]
  },
  {
   "cell_type": "markdown",
   "metadata": {},
   "source": [
    "Зависит ли цена квадратного метра от этажа (первом, последнем, другом)? "
   ]
  },
  {
   "cell_type": "code",
   "execution_count": 42,
   "metadata": {
    "scrolled": true
   },
   "outputs": [
    {
     "data": {
      "text/html": [
       "<div>\n",
       "<style scoped>\n",
       "    .dataframe tbody tr th:only-of-type {\n",
       "        vertical-align: middle;\n",
       "    }\n",
       "\n",
       "    .dataframe tbody tr th {\n",
       "        vertical-align: top;\n",
       "    }\n",
       "\n",
       "    .dataframe thead tr th {\n",
       "        text-align: left;\n",
       "    }\n",
       "\n",
       "    .dataframe thead tr:last-of-type th {\n",
       "        text-align: right;\n",
       "    }\n",
       "</style>\n",
       "<table border=\"1\" class=\"dataframe\">\n",
       "  <thead>\n",
       "    <tr>\n",
       "      <th></th>\n",
       "      <th>mean</th>\n",
       "      <th>median</th>\n",
       "      <th>max</th>\n",
       "      <th>min</th>\n",
       "    </tr>\n",
       "    <tr>\n",
       "      <th></th>\n",
       "      <th>price_per_m2</th>\n",
       "      <th>price_per_m2</th>\n",
       "      <th>price_per_m2</th>\n",
       "      <th>price_per_m2</th>\n",
       "    </tr>\n",
       "    <tr>\n",
       "      <th>status_floor</th>\n",
       "      <th></th>\n",
       "      <th></th>\n",
       "      <th></th>\n",
       "      <th></th>\n",
       "    </tr>\n",
       "  </thead>\n",
       "  <tbody>\n",
       "    <tr>\n",
       "      <th>другой</th>\n",
       "      <td>96095.980826</td>\n",
       "      <td>96433.5</td>\n",
       "      <td>248484</td>\n",
       "      <td>12686</td>\n",
       "    </tr>\n",
       "    <tr>\n",
       "      <th>первый</th>\n",
       "      <td>79178.007005</td>\n",
       "      <td>81004.0</td>\n",
       "      <td>192592</td>\n",
       "      <td>9615</td>\n",
       "    </tr>\n",
       "    <tr>\n",
       "      <th>последний</th>\n",
       "      <td>84653.852766</td>\n",
       "      <td>85897.0</td>\n",
       "      <td>312240</td>\n",
       "      <td>10769</td>\n",
       "    </tr>\n",
       "  </tbody>\n",
       "</table>\n",
       "</div>"
      ],
      "text/plain": [
       "                      mean       median          max          min\n",
       "              price_per_m2 price_per_m2 price_per_m2 price_per_m2\n",
       "status_floor                                                     \n",
       "другой        96095.980826      96433.5       248484        12686\n",
       "первый        79178.007005      81004.0       192592         9615\n",
       "последний     84653.852766      85897.0       312240        10769"
      ]
     },
     "execution_count": 42,
     "metadata": {},
     "output_type": "execute_result"
    }
   ],
   "source": [
    "#здесь удобнее сделать анализ через сводную таблицу с выводом основных функций \n",
    "pd.pivot_table(filtred_df, index = 'status_floor',values = 'price_per_m2',aggfunc = ['mean','median','max','min'])"
   ]
  },
  {
   "cell_type": "markdown",
   "metadata": {},
   "source": [
    "**Вывод**: Цена за м2 квартиры на первом этаже дешевле, чем на остальных. Средняя и медианная цена последнего этажа тоже ниже всех остальных( кроме первого). Отдельно стоит отметить max цену последнего этажа - возможно это penthouse. Цена таких верхних этажей выше среднего, чем во всем доме."
   ]
  },
  {
   "cell_type": "markdown",
   "metadata": {},
   "source": [
    "Зависит ли цена от даты размещения? Дня недели, месяца, года? "
   ]
  },
  {
   "cell_type": "code",
   "execution_count": 43,
   "metadata": {},
   "outputs": [
    {
     "data": {
      "text/html": [
       "<div>\n",
       "<style scoped>\n",
       "    .dataframe tbody tr th:only-of-type {\n",
       "        vertical-align: middle;\n",
       "    }\n",
       "\n",
       "    .dataframe tbody tr th {\n",
       "        vertical-align: top;\n",
       "    }\n",
       "\n",
       "    .dataframe thead tr th {\n",
       "        text-align: left;\n",
       "    }\n",
       "\n",
       "    .dataframe thead tr:last-of-type th {\n",
       "        text-align: right;\n",
       "    }\n",
       "</style>\n",
       "<table border=\"1\" class=\"dataframe\">\n",
       "  <thead>\n",
       "    <tr>\n",
       "      <th></th>\n",
       "      <th>mean</th>\n",
       "      <th>median</th>\n",
       "      <th>max</th>\n",
       "      <th>min</th>\n",
       "    </tr>\n",
       "    <tr>\n",
       "      <th></th>\n",
       "      <th>price_per_m2</th>\n",
       "      <th>price_per_m2</th>\n",
       "      <th>price_per_m2</th>\n",
       "      <th>price_per_m2</th>\n",
       "    </tr>\n",
       "    <tr>\n",
       "      <th>day_exposition</th>\n",
       "      <th></th>\n",
       "      <th></th>\n",
       "      <th></th>\n",
       "      <th></th>\n",
       "    </tr>\n",
       "  </thead>\n",
       "  <tbody>\n",
       "    <tr>\n",
       "      <th>Friday</th>\n",
       "      <td>92942.217565</td>\n",
       "      <td>92896.0</td>\n",
       "      <td>240000</td>\n",
       "      <td>13303</td>\n",
       "    </tr>\n",
       "    <tr>\n",
       "      <th>Monday</th>\n",
       "      <td>92318.725244</td>\n",
       "      <td>93913.5</td>\n",
       "      <td>189486</td>\n",
       "      <td>12422</td>\n",
       "    </tr>\n",
       "    <tr>\n",
       "      <th>Saturday</th>\n",
       "      <td>90726.414439</td>\n",
       "      <td>90575.5</td>\n",
       "      <td>248484</td>\n",
       "      <td>12686</td>\n",
       "    </tr>\n",
       "    <tr>\n",
       "      <th>Sunday</th>\n",
       "      <td>92140.984177</td>\n",
       "      <td>92598.5</td>\n",
       "      <td>201729</td>\n",
       "      <td>15540</td>\n",
       "    </tr>\n",
       "    <tr>\n",
       "      <th>Thursday</th>\n",
       "      <td>92936.101716</td>\n",
       "      <td>93670.5</td>\n",
       "      <td>201315</td>\n",
       "      <td>9615</td>\n",
       "    </tr>\n",
       "    <tr>\n",
       "      <th>Tuesday</th>\n",
       "      <td>93065.259010</td>\n",
       "      <td>94323.0</td>\n",
       "      <td>312240</td>\n",
       "      <td>10769</td>\n",
       "    </tr>\n",
       "    <tr>\n",
       "      <th>Wednesday</th>\n",
       "      <td>92142.355394</td>\n",
       "      <td>93314.0</td>\n",
       "      <td>234920</td>\n",
       "      <td>11688</td>\n",
       "    </tr>\n",
       "  </tbody>\n",
       "</table>\n",
       "</div>"
      ],
      "text/plain": [
       "                        mean       median          max          min\n",
       "                price_per_m2 price_per_m2 price_per_m2 price_per_m2\n",
       "day_exposition                                                     \n",
       "Friday          92942.217565      92896.0       240000        13303\n",
       "Monday          92318.725244      93913.5       189486        12422\n",
       "Saturday        90726.414439      90575.5       248484        12686\n",
       "Sunday          92140.984177      92598.5       201729        15540\n",
       "Thursday        92936.101716      93670.5       201315         9615\n",
       "Tuesday         93065.259010      94323.0       312240        10769\n",
       "Wednesday       92142.355394      93314.0       234920        11688"
      ]
     },
     "execution_count": 43,
     "metadata": {},
     "output_type": "execute_result"
    }
   ],
   "source": [
    "#так же построим сводную таблицу \n",
    "pd.pivot_table(filtred_df, index = 'day_exposition',values = 'price_per_m2',aggfunc = ['mean','median','max','min'])"
   ]
  },
  {
   "cell_type": "markdown",
   "metadata": {},
   "source": [
    "**Вывод**: Зависимости между ценой за квадратный метр и днём размещения объявления нет "
   ]
  },
  {
   "cell_type": "code",
   "execution_count": 44,
   "metadata": {},
   "outputs": [
    {
     "data": {
      "text/html": [
       "<div>\n",
       "<style scoped>\n",
       "    .dataframe tbody tr th:only-of-type {\n",
       "        vertical-align: middle;\n",
       "    }\n",
       "\n",
       "    .dataframe tbody tr th {\n",
       "        vertical-align: top;\n",
       "    }\n",
       "\n",
       "    .dataframe thead tr th {\n",
       "        text-align: left;\n",
       "    }\n",
       "\n",
       "    .dataframe thead tr:last-of-type th {\n",
       "        text-align: right;\n",
       "    }\n",
       "</style>\n",
       "<table border=\"1\" class=\"dataframe\">\n",
       "  <thead>\n",
       "    <tr>\n",
       "      <th></th>\n",
       "      <th>mean</th>\n",
       "      <th>median</th>\n",
       "      <th>max</th>\n",
       "      <th>min</th>\n",
       "    </tr>\n",
       "    <tr>\n",
       "      <th></th>\n",
       "      <th>price_per_m2</th>\n",
       "      <th>price_per_m2</th>\n",
       "      <th>price_per_m2</th>\n",
       "      <th>price_per_m2</th>\n",
       "    </tr>\n",
       "    <tr>\n",
       "      <th>month_exposition</th>\n",
       "      <th></th>\n",
       "      <th></th>\n",
       "      <th></th>\n",
       "      <th></th>\n",
       "    </tr>\n",
       "  </thead>\n",
       "  <tbody>\n",
       "    <tr>\n",
       "      <th>April</th>\n",
       "      <td>94409.170927</td>\n",
       "      <td>93630.5</td>\n",
       "      <td>312240</td>\n",
       "      <td>20466</td>\n",
       "    </tr>\n",
       "    <tr>\n",
       "      <th>August</th>\n",
       "      <td>93937.118644</td>\n",
       "      <td>94462.0</td>\n",
       "      <td>248484</td>\n",
       "      <td>9615</td>\n",
       "    </tr>\n",
       "    <tr>\n",
       "      <th>December</th>\n",
       "      <td>93010.633613</td>\n",
       "      <td>93824.0</td>\n",
       "      <td>234920</td>\n",
       "      <td>12686</td>\n",
       "    </tr>\n",
       "    <tr>\n",
       "      <th>February</th>\n",
       "      <td>92335.310440</td>\n",
       "      <td>93253.5</td>\n",
       "      <td>200119</td>\n",
       "      <td>10185</td>\n",
       "    </tr>\n",
       "    <tr>\n",
       "      <th>January</th>\n",
       "      <td>92828.224872</td>\n",
       "      <td>94430.0</td>\n",
       "      <td>219512</td>\n",
       "      <td>12422</td>\n",
       "    </tr>\n",
       "    <tr>\n",
       "      <th>July</th>\n",
       "      <td>92083.360882</td>\n",
       "      <td>93381.0</td>\n",
       "      <td>200000</td>\n",
       "      <td>11688</td>\n",
       "    </tr>\n",
       "    <tr>\n",
       "      <th>June</th>\n",
       "      <td>89484.811912</td>\n",
       "      <td>91196.0</td>\n",
       "      <td>210176</td>\n",
       "      <td>16666</td>\n",
       "    </tr>\n",
       "    <tr>\n",
       "      <th>March</th>\n",
       "      <td>91854.264293</td>\n",
       "      <td>92777.0</td>\n",
       "      <td>198950</td>\n",
       "      <td>14130</td>\n",
       "    </tr>\n",
       "    <tr>\n",
       "      <th>May</th>\n",
       "      <td>92023.446809</td>\n",
       "      <td>91578.0</td>\n",
       "      <td>214285</td>\n",
       "      <td>16666</td>\n",
       "    </tr>\n",
       "    <tr>\n",
       "      <th>November</th>\n",
       "      <td>92663.448240</td>\n",
       "      <td>94839.5</td>\n",
       "      <td>240000</td>\n",
       "      <td>10769</td>\n",
       "    </tr>\n",
       "    <tr>\n",
       "      <th>October</th>\n",
       "      <td>91987.557838</td>\n",
       "      <td>92592.0</td>\n",
       "      <td>206718</td>\n",
       "      <td>18292</td>\n",
       "    </tr>\n",
       "    <tr>\n",
       "      <th>September</th>\n",
       "      <td>93319.652121</td>\n",
       "      <td>94504.0</td>\n",
       "      <td>201729</td>\n",
       "      <td>12555</td>\n",
       "    </tr>\n",
       "  </tbody>\n",
       "</table>\n",
       "</div>"
      ],
      "text/plain": [
       "                          mean       median          max          min\n",
       "                  price_per_m2 price_per_m2 price_per_m2 price_per_m2\n",
       "month_exposition                                                     \n",
       "April             94409.170927      93630.5       312240        20466\n",
       "August            93937.118644      94462.0       248484         9615\n",
       "December          93010.633613      93824.0       234920        12686\n",
       "February          92335.310440      93253.5       200119        10185\n",
       "January           92828.224872      94430.0       219512        12422\n",
       "July              92083.360882      93381.0       200000        11688\n",
       "June              89484.811912      91196.0       210176        16666\n",
       "March             91854.264293      92777.0       198950        14130\n",
       "May               92023.446809      91578.0       214285        16666\n",
       "November          92663.448240      94839.5       240000        10769\n",
       "October           91987.557838      92592.0       206718        18292\n",
       "September         93319.652121      94504.0       201729        12555"
      ]
     },
     "execution_count": 44,
     "metadata": {},
     "output_type": "execute_result"
    }
   ],
   "source": [
    "pd.pivot_table(filtred_df, index = 'month_exposition',values = 'price_per_m2',aggfunc = ['mean','median','max','min'])"
   ]
  },
  {
   "cell_type": "markdown",
   "metadata": {},
   "source": [
    "**Вывод**: Аналогично, как и днём размещения "
   ]
  },
  {
   "cell_type": "code",
   "execution_count": 45,
   "metadata": {},
   "outputs": [
    {
     "data": {
      "text/html": [
       "<div>\n",
       "<style scoped>\n",
       "    .dataframe tbody tr th:only-of-type {\n",
       "        vertical-align: middle;\n",
       "    }\n",
       "\n",
       "    .dataframe tbody tr th {\n",
       "        vertical-align: top;\n",
       "    }\n",
       "\n",
       "    .dataframe thead tr th {\n",
       "        text-align: left;\n",
       "    }\n",
       "\n",
       "    .dataframe thead tr:last-of-type th {\n",
       "        text-align: right;\n",
       "    }\n",
       "</style>\n",
       "<table border=\"1\" class=\"dataframe\">\n",
       "  <thead>\n",
       "    <tr>\n",
       "      <th></th>\n",
       "      <th>mean</th>\n",
       "      <th>median</th>\n",
       "      <th>max</th>\n",
       "      <th>min</th>\n",
       "    </tr>\n",
       "    <tr>\n",
       "      <th></th>\n",
       "      <th>price_per_m2</th>\n",
       "      <th>price_per_m2</th>\n",
       "      <th>price_per_m2</th>\n",
       "      <th>price_per_m2</th>\n",
       "    </tr>\n",
       "    <tr>\n",
       "      <th>year_exposition</th>\n",
       "      <th></th>\n",
       "      <th></th>\n",
       "      <th></th>\n",
       "      <th></th>\n",
       "    </tr>\n",
       "  </thead>\n",
       "  <tbody>\n",
       "    <tr>\n",
       "      <th>2015</th>\n",
       "      <td>88573.174497</td>\n",
       "      <td>88936</td>\n",
       "      <td>234920</td>\n",
       "      <td>30232</td>\n",
       "    </tr>\n",
       "    <tr>\n",
       "      <th>2016</th>\n",
       "      <td>90092.677650</td>\n",
       "      <td>89842</td>\n",
       "      <td>214285</td>\n",
       "      <td>23333</td>\n",
       "    </tr>\n",
       "    <tr>\n",
       "      <th>2017</th>\n",
       "      <td>90166.301049</td>\n",
       "      <td>90702</td>\n",
       "      <td>237500</td>\n",
       "      <td>10769</td>\n",
       "    </tr>\n",
       "    <tr>\n",
       "      <th>2018</th>\n",
       "      <td>92869.534776</td>\n",
       "      <td>94545</td>\n",
       "      <td>248484</td>\n",
       "      <td>9615</td>\n",
       "    </tr>\n",
       "    <tr>\n",
       "      <th>2019</th>\n",
       "      <td>104052.102962</td>\n",
       "      <td>104260</td>\n",
       "      <td>312240</td>\n",
       "      <td>10185</td>\n",
       "    </tr>\n",
       "  </tbody>\n",
       "</table>\n",
       "</div>"
      ],
      "text/plain": [
       "                          mean       median          max          min\n",
       "                  price_per_m2 price_per_m2 price_per_m2 price_per_m2\n",
       "year_exposition                                                      \n",
       "2015              88573.174497        88936       234920        30232\n",
       "2016              90092.677650        89842       214285        23333\n",
       "2017              90166.301049        90702       237500        10769\n",
       "2018              92869.534776        94545       248484         9615\n",
       "2019             104052.102962       104260       312240        10185"
      ]
     },
     "execution_count": 45,
     "metadata": {},
     "output_type": "execute_result"
    }
   ],
   "source": [
    "pd.pivot_table(filtred_df,index = 'year_exposition', values = 'price_per_m2',aggfunc = ['mean','median','max','min'])"
   ]
  },
  {
   "cell_type": "markdown",
   "metadata": {},
   "source": [
    "**Вывод**: Здесь зависимость есть. Всё логично - с каждым годом цена растёт вслед за общей инфляцией."
   ]
  },
  {
   "cell_type": "markdown",
   "metadata": {},
   "source": [
    "### 10 населённых пунктов с наибольшим числом объявлений"
   ]
  },
  {
   "cell_type": "code",
   "execution_count": 46,
   "metadata": {},
   "outputs": [
    {
     "data": {
      "text/html": [
       "<div>\n",
       "<style scoped>\n",
       "    .dataframe tbody tr th:only-of-type {\n",
       "        vertical-align: middle;\n",
       "    }\n",
       "\n",
       "    .dataframe tbody tr th {\n",
       "        vertical-align: top;\n",
       "    }\n",
       "\n",
       "    .dataframe thead th {\n",
       "        text-align: right;\n",
       "    }\n",
       "</style>\n",
       "<table border=\"1\" class=\"dataframe\">\n",
       "  <thead>\n",
       "    <tr style=\"text-align: right;\">\n",
       "      <th></th>\n",
       "      <th>count</th>\n",
       "      <th>mean</th>\n",
       "    </tr>\n",
       "    <tr>\n",
       "      <th>locality_name</th>\n",
       "      <th></th>\n",
       "      <th></th>\n",
       "    </tr>\n",
       "  </thead>\n",
       "  <tbody>\n",
       "    <tr>\n",
       "      <th>санкт-петербург</th>\n",
       "      <td>5992.0</td>\n",
       "      <td>104493.922230</td>\n",
       "    </tr>\n",
       "    <tr>\n",
       "      <th>всеволожск</th>\n",
       "      <td>190.0</td>\n",
       "      <td>66378.694737</td>\n",
       "    </tr>\n",
       "    <tr>\n",
       "      <th>поселок мурино</th>\n",
       "      <td>189.0</td>\n",
       "      <td>87792.238095</td>\n",
       "    </tr>\n",
       "    <tr>\n",
       "      <th>поселок шушары</th>\n",
       "      <td>172.0</td>\n",
       "      <td>78920.215116</td>\n",
       "    </tr>\n",
       "    <tr>\n",
       "      <th>колпино</th>\n",
       "      <td>152.0</td>\n",
       "      <td>75555.480263</td>\n",
       "    </tr>\n",
       "    <tr>\n",
       "      <th>пушкин</th>\n",
       "      <td>150.0</td>\n",
       "      <td>98403.893333</td>\n",
       "    </tr>\n",
       "    <tr>\n",
       "      <th>поселок парголово</th>\n",
       "      <td>114.0</td>\n",
       "      <td>89782.412281</td>\n",
       "    </tr>\n",
       "    <tr>\n",
       "      <th>гатчина</th>\n",
       "      <td>110.0</td>\n",
       "      <td>70119.772727</td>\n",
       "    </tr>\n",
       "    <tr>\n",
       "      <th>деревня кудрово</th>\n",
       "      <td>106.0</td>\n",
       "      <td>91143.254717</td>\n",
       "    </tr>\n",
       "    <tr>\n",
       "      <th>петергоф</th>\n",
       "      <td>106.0</td>\n",
       "      <td>82744.075472</td>\n",
       "    </tr>\n",
       "  </tbody>\n",
       "</table>\n",
       "</div>"
      ],
      "text/plain": [
       "                    count           mean\n",
       "locality_name                           \n",
       "санкт-петербург    5992.0  104493.922230\n",
       "всеволожск          190.0   66378.694737\n",
       "поселок мурино      189.0   87792.238095\n",
       "поселок шушары      172.0   78920.215116\n",
       "колпино             152.0   75555.480263\n",
       "пушкин              150.0   98403.893333\n",
       "поселок парголово   114.0   89782.412281\n",
       "гатчина             110.0   70119.772727\n",
       "деревня кудрово     106.0   91143.254717\n",
       "петергоф            106.0   82744.075472"
      ]
     },
     "metadata": {},
     "output_type": "display_data"
    }
   ],
   "source": [
    "#найдём 10 locality_name с наибольшем числом объявлений и посчитаем среднюю стоимость квадратного метра в каждом \n",
    "top_10_locality_name = (pd.pivot_table(filtred_df,index = 'locality_name',\\\n",
    "                         values = 'price_per_m2',\\\n",
    "                         aggfunc = {'price_per_m2': ['mean', 'count']})\n",
    "          .sort_values('count',ascending = False)\n",
    "          .head(10))\n",
    "display(top_10_locality_name)"
   ]
  },
  {
   "cell_type": "markdown",
   "metadata": {},
   "source": [
    "Теперь отсортируем эту таблицу по средней стоимости за квадратный метр "
   ]
  },
  {
   "cell_type": "code",
   "execution_count": 47,
   "metadata": {},
   "outputs": [
    {
     "data": {
      "text/html": [
       "<div>\n",
       "<style scoped>\n",
       "    .dataframe tbody tr th:only-of-type {\n",
       "        vertical-align: middle;\n",
       "    }\n",
       "\n",
       "    .dataframe tbody tr th {\n",
       "        vertical-align: top;\n",
       "    }\n",
       "\n",
       "    .dataframe thead th {\n",
       "        text-align: right;\n",
       "    }\n",
       "</style>\n",
       "<table border=\"1\" class=\"dataframe\">\n",
       "  <thead>\n",
       "    <tr style=\"text-align: right;\">\n",
       "      <th></th>\n",
       "      <th>count</th>\n",
       "      <th>mean</th>\n",
       "    </tr>\n",
       "    <tr>\n",
       "      <th>locality_name</th>\n",
       "      <th></th>\n",
       "      <th></th>\n",
       "    </tr>\n",
       "  </thead>\n",
       "  <tbody>\n",
       "    <tr>\n",
       "      <th>санкт-петербург</th>\n",
       "      <td>5992.0</td>\n",
       "      <td>104493.922230</td>\n",
       "    </tr>\n",
       "    <tr>\n",
       "      <th>пушкин</th>\n",
       "      <td>150.0</td>\n",
       "      <td>98403.893333</td>\n",
       "    </tr>\n",
       "    <tr>\n",
       "      <th>деревня кудрово</th>\n",
       "      <td>106.0</td>\n",
       "      <td>91143.254717</td>\n",
       "    </tr>\n",
       "    <tr>\n",
       "      <th>поселок парголово</th>\n",
       "      <td>114.0</td>\n",
       "      <td>89782.412281</td>\n",
       "    </tr>\n",
       "    <tr>\n",
       "      <th>поселок мурино</th>\n",
       "      <td>189.0</td>\n",
       "      <td>87792.238095</td>\n",
       "    </tr>\n",
       "    <tr>\n",
       "      <th>петергоф</th>\n",
       "      <td>106.0</td>\n",
       "      <td>82744.075472</td>\n",
       "    </tr>\n",
       "    <tr>\n",
       "      <th>поселок шушары</th>\n",
       "      <td>172.0</td>\n",
       "      <td>78920.215116</td>\n",
       "    </tr>\n",
       "    <tr>\n",
       "      <th>колпино</th>\n",
       "      <td>152.0</td>\n",
       "      <td>75555.480263</td>\n",
       "    </tr>\n",
       "    <tr>\n",
       "      <th>гатчина</th>\n",
       "      <td>110.0</td>\n",
       "      <td>70119.772727</td>\n",
       "    </tr>\n",
       "    <tr>\n",
       "      <th>всеволожск</th>\n",
       "      <td>190.0</td>\n",
       "      <td>66378.694737</td>\n",
       "    </tr>\n",
       "  </tbody>\n",
       "</table>\n",
       "</div>"
      ],
      "text/plain": [
       "                    count           mean\n",
       "locality_name                           \n",
       "санкт-петербург    5992.0  104493.922230\n",
       "пушкин              150.0   98403.893333\n",
       "деревня кудрово     106.0   91143.254717\n",
       "поселок парголово   114.0   89782.412281\n",
       "поселок мурино      189.0   87792.238095\n",
       "петергоф            106.0   82744.075472\n",
       "поселок шушары      172.0   78920.215116\n",
       "колпино             152.0   75555.480263\n",
       "гатчина             110.0   70119.772727\n",
       "всеволожск          190.0   66378.694737"
      ]
     },
     "execution_count": 47,
     "metadata": {},
     "output_type": "execute_result"
    }
   ],
   "source": [
    "top_10_locality_name.sort_values('mean',ascending = False)"
   ]
  },
  {
   "cell_type": "markdown",
   "metadata": {},
   "source": [
    "Лидером по средней стоимости квадратного метра является Санкт-Петербург. На втором месте - город Пушкин.\n",
    "Замыкают эту десятку Гатчина и Всеволожск.\\\n",
    "P.S. Интересный факт: На момент выполнения этого проекта( апрель 2022 года) Кудрово и Мурино уже получили статус городов( а не деревни и посёлка соответственно)"
   ]
  },
  {
   "cell_type": "markdown",
   "metadata": {},
   "source": [
    "### Квартиры в центре Санкт-Петербурга"
   ]
  },
  {
   "cell_type": "code",
   "execution_count": 48,
   "metadata": {
    "scrolled": true
   },
   "outputs": [],
   "source": [
    "#создадим столбец с расстоянием до центра в километрах и округлим до целого значения\n",
    "filtred_df['distance_to_center_city_km'] = (filtred_df['distance_to_center_city_m'] / 1000).round(0)"
   ]
  },
  {
   "cell_type": "code",
   "execution_count": 49,
   "metadata": {
    "scrolled": true
   },
   "outputs": [
    {
     "data": {
      "text/html": [
       "<div>\n",
       "<style scoped>\n",
       "    .dataframe tbody tr th:only-of-type {\n",
       "        vertical-align: middle;\n",
       "    }\n",
       "\n",
       "    .dataframe tbody tr th {\n",
       "        vertical-align: top;\n",
       "    }\n",
       "\n",
       "    .dataframe thead th {\n",
       "        text-align: right;\n",
       "    }\n",
       "</style>\n",
       "<table border=\"1\" class=\"dataframe\">\n",
       "  <thead>\n",
       "    <tr style=\"text-align: right;\">\n",
       "      <th></th>\n",
       "      <th>total_images</th>\n",
       "      <th>last_price</th>\n",
       "      <th>total_area_m2</th>\n",
       "      <th>first_day_exposition</th>\n",
       "      <th>rooms</th>\n",
       "      <th>ceiling_height_m</th>\n",
       "      <th>floors_total</th>\n",
       "      <th>living_area_m2</th>\n",
       "      <th>floor</th>\n",
       "      <th>is_apartment</th>\n",
       "      <th>...</th>\n",
       "      <th>distance_to_ponds_m</th>\n",
       "      <th>days_exposition</th>\n",
       "      <th>price_per_m2</th>\n",
       "      <th>day_exposition</th>\n",
       "      <th>month_exposition</th>\n",
       "      <th>year_exposition</th>\n",
       "      <th>status_floor</th>\n",
       "      <th>ratio_living_total_area</th>\n",
       "      <th>ratio_kitchen_total_area</th>\n",
       "      <th>distance_to_center_city_km</th>\n",
       "    </tr>\n",
       "  </thead>\n",
       "  <tbody>\n",
       "    <tr>\n",
       "      <th>4</th>\n",
       "      <td>2</td>\n",
       "      <td>10000000</td>\n",
       "      <td>100.0</td>\n",
       "      <td>2018-06-19</td>\n",
       "      <td>2</td>\n",
       "      <td>3.03</td>\n",
       "      <td>14.0</td>\n",
       "      <td>32.0</td>\n",
       "      <td>13</td>\n",
       "      <td>True</td>\n",
       "      <td>...</td>\n",
       "      <td>48.0</td>\n",
       "      <td>121</td>\n",
       "      <td>100000</td>\n",
       "      <td>Tuesday</td>\n",
       "      <td>June</td>\n",
       "      <td>2018</td>\n",
       "      <td>другой</td>\n",
       "      <td>0.320000</td>\n",
       "      <td>0.410000</td>\n",
       "      <td>8.0</td>\n",
       "    </tr>\n",
       "    <tr>\n",
       "      <th>9</th>\n",
       "      <td>18</td>\n",
       "      <td>5400000</td>\n",
       "      <td>61.0</td>\n",
       "      <td>2017-02-26</td>\n",
       "      <td>3</td>\n",
       "      <td>2.50</td>\n",
       "      <td>9.0</td>\n",
       "      <td>43.6</td>\n",
       "      <td>7</td>\n",
       "      <td>True</td>\n",
       "      <td>...</td>\n",
       "      <td>NaN</td>\n",
       "      <td>289</td>\n",
       "      <td>88524</td>\n",
       "      <td>Sunday</td>\n",
       "      <td>February</td>\n",
       "      <td>2017</td>\n",
       "      <td>другой</td>\n",
       "      <td>0.714754</td>\n",
       "      <td>0.106557</td>\n",
       "      <td>15.0</td>\n",
       "    </tr>\n",
       "    <tr>\n",
       "      <th>10</th>\n",
       "      <td>5</td>\n",
       "      <td>5050000</td>\n",
       "      <td>39.6</td>\n",
       "      <td>2017-11-16</td>\n",
       "      <td>1</td>\n",
       "      <td>2.67</td>\n",
       "      <td>12.0</td>\n",
       "      <td>20.3</td>\n",
       "      <td>3</td>\n",
       "      <td>True</td>\n",
       "      <td>...</td>\n",
       "      <td>553.0</td>\n",
       "      <td>137</td>\n",
       "      <td>127525</td>\n",
       "      <td>Thursday</td>\n",
       "      <td>November</td>\n",
       "      <td>2017</td>\n",
       "      <td>другой</td>\n",
       "      <td>0.512626</td>\n",
       "      <td>0.214646</td>\n",
       "      <td>14.0</td>\n",
       "    </tr>\n",
       "    <tr>\n",
       "      <th>16</th>\n",
       "      <td>11</td>\n",
       "      <td>6700000</td>\n",
       "      <td>82.0</td>\n",
       "      <td>2017-11-23</td>\n",
       "      <td>3</td>\n",
       "      <td>3.05</td>\n",
       "      <td>5.0</td>\n",
       "      <td>55.6</td>\n",
       "      <td>1</td>\n",
       "      <td>True</td>\n",
       "      <td>...</td>\n",
       "      <td>NaN</td>\n",
       "      <td>397</td>\n",
       "      <td>81707</td>\n",
       "      <td>Thursday</td>\n",
       "      <td>November</td>\n",
       "      <td>2017</td>\n",
       "      <td>первый</td>\n",
       "      <td>0.678049</td>\n",
       "      <td>0.109756</td>\n",
       "      <td>11.0</td>\n",
       "    </tr>\n",
       "    <tr>\n",
       "      <th>18</th>\n",
       "      <td>8</td>\n",
       "      <td>3250000</td>\n",
       "      <td>31.0</td>\n",
       "      <td>2017-01-27</td>\n",
       "      <td>1</td>\n",
       "      <td>2.50</td>\n",
       "      <td>5.0</td>\n",
       "      <td>19.4</td>\n",
       "      <td>2</td>\n",
       "      <td>True</td>\n",
       "      <td>...</td>\n",
       "      <td>NaN</td>\n",
       "      <td>168</td>\n",
       "      <td>104838</td>\n",
       "      <td>Friday</td>\n",
       "      <td>January</td>\n",
       "      <td>2017</td>\n",
       "      <td>другой</td>\n",
       "      <td>0.625806</td>\n",
       "      <td>0.180645</td>\n",
       "      <td>11.0</td>\n",
       "    </tr>\n",
       "  </tbody>\n",
       "</table>\n",
       "<p>5 rows × 30 columns</p>\n",
       "</div>"
      ],
      "text/plain": [
       "    total_images  last_price  total_area_m2 first_day_exposition  rooms  \\\n",
       "4              2    10000000          100.0           2018-06-19      2   \n",
       "9             18     5400000           61.0           2017-02-26      3   \n",
       "10             5     5050000           39.6           2017-11-16      1   \n",
       "16            11     6700000           82.0           2017-11-23      3   \n",
       "18             8     3250000           31.0           2017-01-27      1   \n",
       "\n",
       "    ceiling_height_m  floors_total  living_area_m2  floor  is_apartment  ...  \\\n",
       "4               3.03          14.0            32.0     13          True  ...   \n",
       "9               2.50           9.0            43.6      7          True  ...   \n",
       "10              2.67          12.0            20.3      3          True  ...   \n",
       "16              3.05           5.0            55.6      1          True  ...   \n",
       "18              2.50           5.0            19.4      2          True  ...   \n",
       "\n",
       "    distance_to_ponds_m  days_exposition  price_per_m2  day_exposition  \\\n",
       "4                  48.0              121        100000         Tuesday   \n",
       "9                   NaN              289         88524          Sunday   \n",
       "10                553.0              137        127525        Thursday   \n",
       "16                  NaN              397         81707        Thursday   \n",
       "18                  NaN              168        104838          Friday   \n",
       "\n",
       "   month_exposition  year_exposition  status_floor  ratio_living_total_area  \\\n",
       "4              June             2018        другой                 0.320000   \n",
       "9          February             2017        другой                 0.714754   \n",
       "10         November             2017        другой                 0.512626   \n",
       "16         November             2017        первый                 0.678049   \n",
       "18          January             2017        другой                 0.625806   \n",
       "\n",
       "    ratio_kitchen_total_area  distance_to_center_city_km  \n",
       "4                   0.410000                         8.0  \n",
       "9                   0.106557                        15.0  \n",
       "10                  0.214646                        14.0  \n",
       "16                  0.109756                        11.0  \n",
       "18                  0.180645                        11.0  \n",
       "\n",
       "[5 rows x 30 columns]"
      ]
     },
     "execution_count": 49,
     "metadata": {},
     "output_type": "execute_result"
    }
   ],
   "source": [
    "#создадим отдельную таблицу с квартирами только в Санкт-Петербурге\n",
    "spb_df = filtred_df.query('locality_name == \"санкт-петербург\"')\n",
    "spb_df.head()"
   ]
  },
  {
   "cell_type": "code",
   "execution_count": 50,
   "metadata": {
    "scrolled": true
   },
   "outputs": [
    {
     "data": {
      "text/html": [
       "<div>\n",
       "<style scoped>\n",
       "    .dataframe tbody tr th:only-of-type {\n",
       "        vertical-align: middle;\n",
       "    }\n",
       "\n",
       "    .dataframe tbody tr th {\n",
       "        vertical-align: top;\n",
       "    }\n",
       "\n",
       "    .dataframe thead th {\n",
       "        text-align: right;\n",
       "    }\n",
       "</style>\n",
       "<table border=\"1\" class=\"dataframe\">\n",
       "  <thead>\n",
       "    <tr style=\"text-align: right;\">\n",
       "      <th></th>\n",
       "      <th>price_per_m2</th>\n",
       "    </tr>\n",
       "    <tr>\n",
       "      <th>distance_to_center_city_km</th>\n",
       "      <th></th>\n",
       "    </tr>\n",
       "  </thead>\n",
       "  <tbody>\n",
       "    <tr>\n",
       "      <th>0.0</th>\n",
       "      <td>95000.000000</td>\n",
       "    </tr>\n",
       "    <tr>\n",
       "      <th>1.0</th>\n",
       "      <td>118965.954545</td>\n",
       "    </tr>\n",
       "    <tr>\n",
       "      <th>2.0</th>\n",
       "      <td>118274.885714</td>\n",
       "    </tr>\n",
       "    <tr>\n",
       "      <th>3.0</th>\n",
       "      <td>103051.291667</td>\n",
       "    </tr>\n",
       "    <tr>\n",
       "      <th>4.0</th>\n",
       "      <td>116407.281250</td>\n",
       "    </tr>\n",
       "    <tr>\n",
       "      <th>5.0</th>\n",
       "      <td>127022.986014</td>\n",
       "    </tr>\n",
       "    <tr>\n",
       "      <th>6.0</th>\n",
       "      <td>120561.296552</td>\n",
       "    </tr>\n",
       "    <tr>\n",
       "      <th>7.0</th>\n",
       "      <td>117412.760331</td>\n",
       "    </tr>\n",
       "    <tr>\n",
       "      <th>8.0</th>\n",
       "      <td>113697.170854</td>\n",
       "    </tr>\n",
       "    <tr>\n",
       "      <th>9.0</th>\n",
       "      <td>107781.396396</td>\n",
       "    </tr>\n",
       "    <tr>\n",
       "      <th>10.0</th>\n",
       "      <td>108497.210526</td>\n",
       "    </tr>\n",
       "    <tr>\n",
       "      <th>11.0</th>\n",
       "      <td>102093.618182</td>\n",
       "    </tr>\n",
       "    <tr>\n",
       "      <th>12.0</th>\n",
       "      <td>106475.962060</td>\n",
       "    </tr>\n",
       "    <tr>\n",
       "      <th>13.0</th>\n",
       "      <td>104904.420741</td>\n",
       "    </tr>\n",
       "    <tr>\n",
       "      <th>14.0</th>\n",
       "      <td>103397.101307</td>\n",
       "    </tr>\n",
       "    <tr>\n",
       "      <th>15.0</th>\n",
       "      <td>102286.127199</td>\n",
       "    </tr>\n",
       "    <tr>\n",
       "      <th>16.0</th>\n",
       "      <td>97960.511628</td>\n",
       "    </tr>\n",
       "    <tr>\n",
       "      <th>17.0</th>\n",
       "      <td>96225.550914</td>\n",
       "    </tr>\n",
       "    <tr>\n",
       "      <th>18.0</th>\n",
       "      <td>94890.303922</td>\n",
       "    </tr>\n",
       "    <tr>\n",
       "      <th>19.0</th>\n",
       "      <td>94563.506494</td>\n",
       "    </tr>\n",
       "    <tr>\n",
       "      <th>20.0</th>\n",
       "      <td>101797.263158</td>\n",
       "    </tr>\n",
       "    <tr>\n",
       "      <th>21.0</th>\n",
       "      <td>93140.521739</td>\n",
       "    </tr>\n",
       "    <tr>\n",
       "      <th>22.0</th>\n",
       "      <td>91854.972973</td>\n",
       "    </tr>\n",
       "    <tr>\n",
       "      <th>23.0</th>\n",
       "      <td>93629.000000</td>\n",
       "    </tr>\n",
       "    <tr>\n",
       "      <th>24.0</th>\n",
       "      <td>90830.200000</td>\n",
       "    </tr>\n",
       "    <tr>\n",
       "      <th>25.0</th>\n",
       "      <td>88748.571429</td>\n",
       "    </tr>\n",
       "    <tr>\n",
       "      <th>26.0</th>\n",
       "      <td>87369.615385</td>\n",
       "    </tr>\n",
       "    <tr>\n",
       "      <th>29.0</th>\n",
       "      <td>56976.000000</td>\n",
       "    </tr>\n",
       "  </tbody>\n",
       "</table>\n",
       "</div>"
      ],
      "text/plain": [
       "                             price_per_m2\n",
       "distance_to_center_city_km               \n",
       "0.0                          95000.000000\n",
       "1.0                         118965.954545\n",
       "2.0                         118274.885714\n",
       "3.0                         103051.291667\n",
       "4.0                         116407.281250\n",
       "5.0                         127022.986014\n",
       "6.0                         120561.296552\n",
       "7.0                         117412.760331\n",
       "8.0                         113697.170854\n",
       "9.0                         107781.396396\n",
       "10.0                        108497.210526\n",
       "11.0                        102093.618182\n",
       "12.0                        106475.962060\n",
       "13.0                        104904.420741\n",
       "14.0                        103397.101307\n",
       "15.0                        102286.127199\n",
       "16.0                         97960.511628\n",
       "17.0                         96225.550914\n",
       "18.0                         94890.303922\n",
       "19.0                         94563.506494\n",
       "20.0                        101797.263158\n",
       "21.0                         93140.521739\n",
       "22.0                         91854.972973\n",
       "23.0                         93629.000000\n",
       "24.0                         90830.200000\n",
       "25.0                         88748.571429\n",
       "26.0                         87369.615385\n",
       "29.0                         56976.000000"
      ]
     },
     "metadata": {},
     "output_type": "display_data"
    }
   ],
   "source": [
    "#посчитаем среднюю цену для каждого киллометра от центра\n",
    "dependence_on_center = (pd.pivot_table(spb_df, index = 'distance_to_center_city_km',\\\n",
    "                         values = 'price_per_m2',\\\n",
    "                         aggfunc = 'mean'))\n",
    "display(dependence_on_center)"
   ]
  },
  {
   "cell_type": "code",
   "execution_count": 51,
   "metadata": {
    "scrolled": true
   },
   "outputs": [
    {
     "data": {
      "image/png": "[encoded data removed]",
      "text/plain": [
       "<Figure size 432x288 with 1 Axes>"
      ]
     },
     "metadata": {
      "needs_background": "light"
     },
     "output_type": "display_data"
    }
   ],
   "source": [
    "#построим график изменения цены за квадратный метр с увеличением расстояния от центра города\n",
    "dependence_on_center.plot()\n",
    "plt.show()"
   ]
  },
  {
   "cell_type": "markdown",
   "metadata": {},
   "source": [
    "**Вывод** Определим радиус центральной зоны - 10 км"
   ]
  },
  {
   "cell_type": "markdown",
   "metadata": {},
   "source": [
    "### Сегмент квартир в центре "
   ]
  },
  {
   "cell_type": "code",
   "execution_count": 52,
   "metadata": {},
   "outputs": [],
   "source": [
    "#выделим часть таблицы с квартирами в центре (distance_to_center_city_km <= 10)\n",
    "center_city = filtred_df.query('distance_to_center_city_km <= 10')"
   ]
  },
  {
   "cell_type": "code",
   "execution_count": 53,
   "metadata": {},
   "outputs": [
    {
     "data": {
      "text/html": [
       "<div>\n",
       "<style scoped>\n",
       "    .dataframe tbody tr th:only-of-type {\n",
       "        vertical-align: middle;\n",
       "    }\n",
       "\n",
       "    .dataframe tbody tr th {\n",
       "        vertical-align: top;\n",
       "    }\n",
       "\n",
       "    .dataframe thead th {\n",
       "        text-align: right;\n",
       "    }\n",
       "</style>\n",
       "<table border=\"1\" class=\"dataframe\">\n",
       "  <thead>\n",
       "    <tr style=\"text-align: right;\">\n",
       "      <th></th>\n",
       "      <th>total_area_m2</th>\n",
       "      <th>rooms</th>\n",
       "      <th>price_per_m2</th>\n",
       "      <th>ceiling_height_m</th>\n",
       "    </tr>\n",
       "  </thead>\n",
       "  <tbody>\n",
       "    <tr>\n",
       "      <th>count</th>\n",
       "      <td>1358.000000</td>\n",
       "      <td>1358.000000</td>\n",
       "      <td>1358.000000</td>\n",
       "      <td>1358.000000</td>\n",
       "    </tr>\n",
       "    <tr>\n",
       "      <th>mean</th>\n",
       "      <td>52.595943</td>\n",
       "      <td>1.866716</td>\n",
       "      <td>113921.579529</td>\n",
       "      <td>2.740685</td>\n",
       "    </tr>\n",
       "    <tr>\n",
       "      <th>std</th>\n",
       "      <td>16.594278</td>\n",
       "      <td>0.773014</td>\n",
       "      <td>26685.136578</td>\n",
       "      <td>0.200077</td>\n",
       "    </tr>\n",
       "    <tr>\n",
       "      <th>min</th>\n",
       "      <td>12.000000</td>\n",
       "      <td>0.000000</td>\n",
       "      <td>17391.000000</td>\n",
       "      <td>2.400000</td>\n",
       "    </tr>\n",
       "    <tr>\n",
       "      <th>25%</th>\n",
       "      <td>41.000000</td>\n",
       "      <td>1.000000</td>\n",
       "      <td>96111.000000</td>\n",
       "      <td>2.550000</td>\n",
       "    </tr>\n",
       "    <tr>\n",
       "      <th>50%</th>\n",
       "      <td>50.000000</td>\n",
       "      <td>2.000000</td>\n",
       "      <td>109561.000000</td>\n",
       "      <td>2.700000</td>\n",
       "    </tr>\n",
       "    <tr>\n",
       "      <th>75%</th>\n",
       "      <td>64.000000</td>\n",
       "      <td>2.000000</td>\n",
       "      <td>128678.750000</td>\n",
       "      <td>2.950000</td>\n",
       "    </tr>\n",
       "    <tr>\n",
       "      <th>max</th>\n",
       "      <td>107.000000</td>\n",
       "      <td>3.000000</td>\n",
       "      <td>312240.000000</td>\n",
       "      <td>3.120000</td>\n",
       "    </tr>\n",
       "  </tbody>\n",
       "</table>\n",
       "</div>"
      ],
      "text/plain": [
       "       total_area_m2        rooms   price_per_m2  ceiling_height_m\n",
       "count    1358.000000  1358.000000    1358.000000       1358.000000\n",
       "mean       52.595943     1.866716  113921.579529          2.740685\n",
       "std        16.594278     0.773014   26685.136578          0.200077\n",
       "min        12.000000     0.000000   17391.000000          2.400000\n",
       "25%        41.000000     1.000000   96111.000000          2.550000\n",
       "50%        50.000000     2.000000  109561.000000          2.700000\n",
       "75%        64.000000     2.000000  128678.750000          2.950000\n",
       "max       107.000000     3.000000  312240.000000          3.120000"
      ]
     },
     "execution_count": 53,
     "metadata": {},
     "output_type": "execute_result"
    }
   ],
   "source": [
    "#посмотрим на описательные статистики площади, цены, количества комнат, высоты потолков в центре\n",
    "center_city[['total_area_m2','rooms','price_per_m2','ceiling_height_m']].describe()"
   ]
  },
  {
   "cell_type": "code",
   "execution_count": 54,
   "metadata": {},
   "outputs": [
    {
     "data": {
      "text/html": [
       "<div>\n",
       "<style scoped>\n",
       "    .dataframe tbody tr th:only-of-type {\n",
       "        vertical-align: middle;\n",
       "    }\n",
       "\n",
       "    .dataframe tbody tr th {\n",
       "        vertical-align: top;\n",
       "    }\n",
       "\n",
       "    .dataframe thead th {\n",
       "        text-align: right;\n",
       "    }\n",
       "</style>\n",
       "<table border=\"1\" class=\"dataframe\">\n",
       "  <thead>\n",
       "    <tr style=\"text-align: right;\">\n",
       "      <th></th>\n",
       "      <th>total_area_m2</th>\n",
       "      <th>rooms</th>\n",
       "      <th>price_per_m2</th>\n",
       "      <th>ceiling_height_m</th>\n",
       "    </tr>\n",
       "  </thead>\n",
       "  <tbody>\n",
       "    <tr>\n",
       "      <th>count</th>\n",
       "      <td>9097.000000</td>\n",
       "      <td>9097.000000</td>\n",
       "      <td>9097.000000</td>\n",
       "      <td>9097.000000</td>\n",
       "    </tr>\n",
       "    <tr>\n",
       "      <th>mean</th>\n",
       "      <td>49.958335</td>\n",
       "      <td>1.803012</td>\n",
       "      <td>92494.263054</td>\n",
       "      <td>2.643201</td>\n",
       "    </tr>\n",
       "    <tr>\n",
       "      <th>std</th>\n",
       "      <td>15.258243</td>\n",
       "      <td>0.782040</td>\n",
       "      <td>27574.589152</td>\n",
       "      <td>0.147859</td>\n",
       "    </tr>\n",
       "    <tr>\n",
       "      <th>min</th>\n",
       "      <td>12.000000</td>\n",
       "      <td>0.000000</td>\n",
       "      <td>9615.000000</td>\n",
       "      <td>2.200000</td>\n",
       "    </tr>\n",
       "    <tr>\n",
       "      <th>25%</th>\n",
       "      <td>38.000000</td>\n",
       "      <td>1.000000</td>\n",
       "      <td>76470.000000</td>\n",
       "      <td>2.500000</td>\n",
       "    </tr>\n",
       "    <tr>\n",
       "      <th>50%</th>\n",
       "      <td>46.500000</td>\n",
       "      <td>2.000000</td>\n",
       "      <td>93366.000000</td>\n",
       "      <td>2.600000</td>\n",
       "    </tr>\n",
       "    <tr>\n",
       "      <th>75%</th>\n",
       "      <td>60.000000</td>\n",
       "      <td>2.000000</td>\n",
       "      <td>108750.000000</td>\n",
       "      <td>2.720000</td>\n",
       "    </tr>\n",
       "    <tr>\n",
       "      <th>max</th>\n",
       "      <td>107.300000</td>\n",
       "      <td>3.000000</td>\n",
       "      <td>312240.000000</td>\n",
       "      <td>3.120000</td>\n",
       "    </tr>\n",
       "  </tbody>\n",
       "</table>\n",
       "</div>"
      ],
      "text/plain": [
       "       total_area_m2        rooms   price_per_m2  ceiling_height_m\n",
       "count    9097.000000  9097.000000    9097.000000       9097.000000\n",
       "mean       49.958335     1.803012   92494.263054          2.643201\n",
       "std        15.258243     0.782040   27574.589152          0.147859\n",
       "min        12.000000     0.000000    9615.000000          2.200000\n",
       "25%        38.000000     1.000000   76470.000000          2.500000\n",
       "50%        46.500000     2.000000   93366.000000          2.600000\n",
       "75%        60.000000     2.000000  108750.000000          2.720000\n",
       "max       107.300000     3.000000  312240.000000          3.120000"
      ]
     },
     "execution_count": 54,
     "metadata": {},
     "output_type": "execute_result"
    }
   ],
   "source": [
    "# посмотрим те же самые статистики для всеё таблицы\n",
    "filtred_df[['total_area_m2','rooms','price_per_m2','ceiling_height_m']].describe()"
   ]
  },
  {
   "cell_type": "markdown",
   "metadata": {},
   "source": [
    "**Выводы**: Средняя общая площадь в центре больше, чем в среднем по всей выборке. Так же немного выше \"средний\" потолок. Так же цена в центре ожидаемо выше, чем по всей выборке"
   ]
  },
  {
   "cell_type": "code",
   "execution_count": 55,
   "metadata": {},
   "outputs": [
    {
     "data": {
      "text/plain": [
       "-0.4393649308093994"
      ]
     },
     "metadata": {},
     "output_type": "display_data"
    },
    {
     "data": {
      "text/plain": [
       "-0.2738565931538932"
      ]
     },
     "metadata": {},
     "output_type": "display_data"
    }
   ],
   "source": [
    "#посчитаем 2 коэффициента корреляции по интересующим нас факторам и сравним \n",
    "#начнём с комнат\n",
    "display(center_city['price_per_m2'].corr(spb_df['rooms']),\n",
    "        filtred_df['price_per_m2'].corr(filtred_df['rooms']))"
   ]
  },
  {
   "cell_type": "markdown",
   "metadata": {},
   "source": [
    "**Вывод**: Отрицательная корреляция с количеством комнат в центре выше. "
   ]
  },
  {
   "cell_type": "code",
   "execution_count": 56,
   "metadata": {},
   "outputs": [
    {
     "data": {
      "text/plain": [
       "-0.14267521558009905"
      ]
     },
     "metadata": {},
     "output_type": "display_data"
    },
    {
     "data": {
      "text/plain": [
       "-0.3974093244294583"
      ]
     },
     "metadata": {},
     "output_type": "display_data"
    }
   ],
   "source": [
    "#удаленность от центра?\n",
    "display(center_city['price_per_m2'].corr(spb_df['distance_to_center_city_km']),\n",
    "        filtred_df['price_per_m2'].corr(filtred_df['distance_to_center_city_km']))"
   ]
  },
  {
   "cell_type": "markdown",
   "metadata": {},
   "source": [
    "**Вывод**: Здесь наоборот. Удалённость от центра в центре не так сильно влияет на стоимость квартира. Ведь все наши квартиры в center_city изначально находятся в центре"
   ]
  },
  {
   "cell_type": "code",
   "execution_count": 57,
   "metadata": {},
   "outputs": [
    {
     "data": {
      "text/html": [
       "<div>\n",
       "<style scoped>\n",
       "    .dataframe tbody tr th:only-of-type {\n",
       "        vertical-align: middle;\n",
       "    }\n",
       "\n",
       "    .dataframe tbody tr th {\n",
       "        vertical-align: top;\n",
       "    }\n",
       "\n",
       "    .dataframe thead tr th {\n",
       "        text-align: left;\n",
       "    }\n",
       "\n",
       "    .dataframe thead tr:last-of-type th {\n",
       "        text-align: right;\n",
       "    }\n",
       "</style>\n",
       "<table border=\"1\" class=\"dataframe\">\n",
       "  <thead>\n",
       "    <tr>\n",
       "      <th></th>\n",
       "      <th>mean</th>\n",
       "      <th>median</th>\n",
       "      <th>max</th>\n",
       "      <th>min</th>\n",
       "    </tr>\n",
       "    <tr>\n",
       "      <th></th>\n",
       "      <th>price_per_m2</th>\n",
       "      <th>price_per_m2</th>\n",
       "      <th>price_per_m2</th>\n",
       "      <th>price_per_m2</th>\n",
       "    </tr>\n",
       "    <tr>\n",
       "      <th>status_floor</th>\n",
       "      <th></th>\n",
       "      <th></th>\n",
       "      <th></th>\n",
       "      <th></th>\n",
       "    </tr>\n",
       "  </thead>\n",
       "  <tbody>\n",
       "    <tr>\n",
       "      <th>другой</th>\n",
       "      <td>106253.819592</td>\n",
       "      <td>103192.5</td>\n",
       "      <td>248484</td>\n",
       "      <td>37234</td>\n",
       "    </tr>\n",
       "    <tr>\n",
       "      <th>первый</th>\n",
       "      <td>94098.053375</td>\n",
       "      <td>91346.0</td>\n",
       "      <td>192592</td>\n",
       "      <td>17391</td>\n",
       "    </tr>\n",
       "    <tr>\n",
       "      <th>последний</th>\n",
       "      <td>101936.281972</td>\n",
       "      <td>98253.0</td>\n",
       "      <td>312240</td>\n",
       "      <td>46341</td>\n",
       "    </tr>\n",
       "  </tbody>\n",
       "</table>\n",
       "</div>"
      ],
      "text/plain": [
       "                       mean       median          max          min\n",
       "               price_per_m2 price_per_m2 price_per_m2 price_per_m2\n",
       "status_floor                                                      \n",
       "другой        106253.819592     103192.5       248484        37234\n",
       "первый         94098.053375      91346.0       192592        17391\n",
       "последний     101936.281972      98253.0       312240        46341"
      ]
     },
     "metadata": {},
     "output_type": "display_data"
    }
   ],
   "source": [
    "#статус этажа?\n",
    "display(pd.pivot_table(spb_df, \\\n",
    "                        index = 'status_floor',\\\n",
    "                        values = 'price_per_m2',\\\n",
    "                        aggfunc = ['mean','median','max','min']))"
   ]
  },
  {
   "cell_type": "markdown",
   "metadata": {},
   "source": [
    "**Вывод**: Всё аналогично с общей таблицой. По стоимости за квадратный метр: первый этаж < последний < любой другой"
   ]
  },
  {
   "cell_type": "code",
   "execution_count": 58,
   "metadata": {},
   "outputs": [
    {
     "data": {
      "text/html": [
       "<div>\n",
       "<style scoped>\n",
       "    .dataframe tbody tr th:only-of-type {\n",
       "        vertical-align: middle;\n",
       "    }\n",
       "\n",
       "    .dataframe tbody tr th {\n",
       "        vertical-align: top;\n",
       "    }\n",
       "\n",
       "    .dataframe thead tr th {\n",
       "        text-align: left;\n",
       "    }\n",
       "\n",
       "    .dataframe thead tr:last-of-type th {\n",
       "        text-align: right;\n",
       "    }\n",
       "</style>\n",
       "<table border=\"1\" class=\"dataframe\">\n",
       "  <thead>\n",
       "    <tr>\n",
       "      <th></th>\n",
       "      <th>mean</th>\n",
       "      <th>median</th>\n",
       "      <th>max</th>\n",
       "      <th>min</th>\n",
       "    </tr>\n",
       "    <tr>\n",
       "      <th></th>\n",
       "      <th>price_per_m2</th>\n",
       "      <th>price_per_m2</th>\n",
       "      <th>price_per_m2</th>\n",
       "      <th>price_per_m2</th>\n",
       "    </tr>\n",
       "    <tr>\n",
       "      <th>day_exposition</th>\n",
       "      <th></th>\n",
       "      <th></th>\n",
       "      <th></th>\n",
       "      <th></th>\n",
       "    </tr>\n",
       "  </thead>\n",
       "  <tbody>\n",
       "    <tr>\n",
       "      <th>Friday</th>\n",
       "      <td>104688.015968</td>\n",
       "      <td>101592.0</td>\n",
       "      <td>240000</td>\n",
       "      <td>37234</td>\n",
       "    </tr>\n",
       "    <tr>\n",
       "      <th>Monday</th>\n",
       "      <td>104693.825083</td>\n",
       "      <td>101681.0</td>\n",
       "      <td>189486</td>\n",
       "      <td>37234</td>\n",
       "    </tr>\n",
       "    <tr>\n",
       "      <th>Saturday</th>\n",
       "      <td>103876.778723</td>\n",
       "      <td>100977.0</td>\n",
       "      <td>248484</td>\n",
       "      <td>60937</td>\n",
       "    </tr>\n",
       "    <tr>\n",
       "      <th>Sunday</th>\n",
       "      <td>105189.695652</td>\n",
       "      <td>101950.0</td>\n",
       "      <td>201729</td>\n",
       "      <td>41911</td>\n",
       "    </tr>\n",
       "    <tr>\n",
       "      <th>Thursday</th>\n",
       "      <td>105293.037753</td>\n",
       "      <td>102532.0</td>\n",
       "      <td>201315</td>\n",
       "      <td>41025</td>\n",
       "    </tr>\n",
       "    <tr>\n",
       "      <th>Tuesday</th>\n",
       "      <td>103508.276139</td>\n",
       "      <td>100222.0</td>\n",
       "      <td>312240</td>\n",
       "      <td>17391</td>\n",
       "    </tr>\n",
       "    <tr>\n",
       "      <th>Wednesday</th>\n",
       "      <td>104353.712702</td>\n",
       "      <td>101364.5</td>\n",
       "      <td>234920</td>\n",
       "      <td>56718</td>\n",
       "    </tr>\n",
       "  </tbody>\n",
       "</table>\n",
       "</div>"
      ],
      "text/plain": [
       "                         mean       median          max          min\n",
       "                 price_per_m2 price_per_m2 price_per_m2 price_per_m2\n",
       "day_exposition                                                      \n",
       "Friday          104688.015968     101592.0       240000        37234\n",
       "Monday          104693.825083     101681.0       189486        37234\n",
       "Saturday        103876.778723     100977.0       248484        60937\n",
       "Sunday          105189.695652     101950.0       201729        41911\n",
       "Thursday        105293.037753     102532.0       201315        41025\n",
       "Tuesday         103508.276139     100222.0       312240        17391\n",
       "Wednesday       104353.712702     101364.5       234920        56718"
      ]
     },
     "metadata": {},
     "output_type": "display_data"
    }
   ],
   "source": [
    "#день размещения объявление \n",
    "display(pd.pivot_table(spb_df, \\\n",
    "                        index = 'day_exposition',\\\n",
    "                        values = 'price_per_m2',\\\n",
    "                        aggfunc = ['mean','median','max','min']))"
   ]
  },
  {
   "cell_type": "markdown",
   "metadata": {},
   "source": [
    "**Вывод**: День недели не влияет на стоимость за квадратный метр( как и по всей таблице)"
   ]
  },
  {
   "cell_type": "code",
   "execution_count": 59,
   "metadata": {
    "scrolled": true
   },
   "outputs": [
    {
     "data": {
      "text/html": [
       "<div>\n",
       "<style scoped>\n",
       "    .dataframe tbody tr th:only-of-type {\n",
       "        vertical-align: middle;\n",
       "    }\n",
       "\n",
       "    .dataframe tbody tr th {\n",
       "        vertical-align: top;\n",
       "    }\n",
       "\n",
       "    .dataframe thead tr th {\n",
       "        text-align: left;\n",
       "    }\n",
       "\n",
       "    .dataframe thead tr:last-of-type th {\n",
       "        text-align: right;\n",
       "    }\n",
       "</style>\n",
       "<table border=\"1\" class=\"dataframe\">\n",
       "  <thead>\n",
       "    <tr>\n",
       "      <th></th>\n",
       "      <th>mean</th>\n",
       "      <th>median</th>\n",
       "      <th>max</th>\n",
       "      <th>min</th>\n",
       "    </tr>\n",
       "    <tr>\n",
       "      <th></th>\n",
       "      <th>price_per_m2</th>\n",
       "      <th>price_per_m2</th>\n",
       "      <th>price_per_m2</th>\n",
       "      <th>price_per_m2</th>\n",
       "    </tr>\n",
       "    <tr>\n",
       "      <th>month_exposition</th>\n",
       "      <th></th>\n",
       "      <th></th>\n",
       "      <th></th>\n",
       "      <th></th>\n",
       "    </tr>\n",
       "  </thead>\n",
       "  <tbody>\n",
       "    <tr>\n",
       "      <th>April</th>\n",
       "      <td>105713.887290</td>\n",
       "      <td>101063.0</td>\n",
       "      <td>312240</td>\n",
       "      <td>58916</td>\n",
       "    </tr>\n",
       "    <tr>\n",
       "      <th>August</th>\n",
       "      <td>104129.510018</td>\n",
       "      <td>101161.0</td>\n",
       "      <td>248484</td>\n",
       "      <td>56976</td>\n",
       "    </tr>\n",
       "    <tr>\n",
       "      <th>December</th>\n",
       "      <td>106286.149871</td>\n",
       "      <td>102990.0</td>\n",
       "      <td>234920</td>\n",
       "      <td>65000</td>\n",
       "    </tr>\n",
       "    <tr>\n",
       "      <th>February</th>\n",
       "      <td>104331.275720</td>\n",
       "      <td>100981.0</td>\n",
       "      <td>200119</td>\n",
       "      <td>46341</td>\n",
       "    </tr>\n",
       "    <tr>\n",
       "      <th>January</th>\n",
       "      <td>106630.237288</td>\n",
       "      <td>103283.5</td>\n",
       "      <td>219512</td>\n",
       "      <td>62106</td>\n",
       "    </tr>\n",
       "    <tr>\n",
       "      <th>July</th>\n",
       "      <td>103329.146694</td>\n",
       "      <td>100445.0</td>\n",
       "      <td>200000</td>\n",
       "      <td>17391</td>\n",
       "    </tr>\n",
       "    <tr>\n",
       "      <th>June</th>\n",
       "      <td>103080.828205</td>\n",
       "      <td>100000.0</td>\n",
       "      <td>210176</td>\n",
       "      <td>63440</td>\n",
       "    </tr>\n",
       "    <tr>\n",
       "      <th>March</th>\n",
       "      <td>105020.505068</td>\n",
       "      <td>102532.0</td>\n",
       "      <td>198950</td>\n",
       "      <td>42857</td>\n",
       "    </tr>\n",
       "    <tr>\n",
       "      <th>May</th>\n",
       "      <td>102615.724739</td>\n",
       "      <td>100000.0</td>\n",
       "      <td>214285</td>\n",
       "      <td>51337</td>\n",
       "    </tr>\n",
       "    <tr>\n",
       "      <th>November</th>\n",
       "      <td>104804.203762</td>\n",
       "      <td>101909.5</td>\n",
       "      <td>240000</td>\n",
       "      <td>63084</td>\n",
       "    </tr>\n",
       "    <tr>\n",
       "      <th>October</th>\n",
       "      <td>102961.406051</td>\n",
       "      <td>100000.0</td>\n",
       "      <td>206718</td>\n",
       "      <td>59523</td>\n",
       "    </tr>\n",
       "    <tr>\n",
       "      <th>September</th>\n",
       "      <td>105362.977654</td>\n",
       "      <td>102884.0</td>\n",
       "      <td>201729</td>\n",
       "      <td>55995</td>\n",
       "    </tr>\n",
       "  </tbody>\n",
       "</table>\n",
       "</div>"
      ],
      "text/plain": [
       "                           mean       median          max          min\n",
       "                   price_per_m2 price_per_m2 price_per_m2 price_per_m2\n",
       "month_exposition                                                      \n",
       "April             105713.887290     101063.0       312240        58916\n",
       "August            104129.510018     101161.0       248484        56976\n",
       "December          106286.149871     102990.0       234920        65000\n",
       "February          104331.275720     100981.0       200119        46341\n",
       "January           106630.237288     103283.5       219512        62106\n",
       "July              103329.146694     100445.0       200000        17391\n",
       "June              103080.828205     100000.0       210176        63440\n",
       "March             105020.505068     102532.0       198950        42857\n",
       "May               102615.724739     100000.0       214285        51337\n",
       "November          104804.203762     101909.5       240000        63084\n",
       "October           102961.406051     100000.0       206718        59523\n",
       "September         105362.977654     102884.0       201729        55995"
      ]
     },
     "metadata": {},
     "output_type": "display_data"
    }
   ],
   "source": [
    "#месяц размещения объявление \n",
    "display(pd.pivot_table(spb_df, \\\n",
    "                        index = 'month_exposition',\\\n",
    "                        values = 'price_per_m2',\\\n",
    "                        aggfunc = ['mean','median','max','min']))"
   ]
  },
  {
   "cell_type": "markdown",
   "metadata": {},
   "source": [
    "**Вывод**: Месяц  не влияет на стоимость за квадратный метр ( как и в общей таблице)"
   ]
  },
  {
   "cell_type": "code",
   "execution_count": 60,
   "metadata": {
    "scrolled": true
   },
   "outputs": [
    {
     "data": {
      "text/html": [
       "<div>\n",
       "<style scoped>\n",
       "    .dataframe tbody tr th:only-of-type {\n",
       "        vertical-align: middle;\n",
       "    }\n",
       "\n",
       "    .dataframe tbody tr th {\n",
       "        vertical-align: top;\n",
       "    }\n",
       "\n",
       "    .dataframe thead tr th {\n",
       "        text-align: left;\n",
       "    }\n",
       "\n",
       "    .dataframe thead tr:last-of-type th {\n",
       "        text-align: right;\n",
       "    }\n",
       "</style>\n",
       "<table border=\"1\" class=\"dataframe\">\n",
       "  <thead>\n",
       "    <tr>\n",
       "      <th></th>\n",
       "      <th>mean</th>\n",
       "      <th>median</th>\n",
       "      <th>max</th>\n",
       "      <th>min</th>\n",
       "    </tr>\n",
       "    <tr>\n",
       "      <th></th>\n",
       "      <th>price_per_m2</th>\n",
       "      <th>price_per_m2</th>\n",
       "      <th>price_per_m2</th>\n",
       "      <th>price_per_m2</th>\n",
       "    </tr>\n",
       "    <tr>\n",
       "      <th>year_exposition</th>\n",
       "      <th></th>\n",
       "      <th></th>\n",
       "      <th></th>\n",
       "      <th></th>\n",
       "    </tr>\n",
       "  </thead>\n",
       "  <tbody>\n",
       "    <tr>\n",
       "      <th>2015</th>\n",
       "      <td>99886.363636</td>\n",
       "      <td>96402</td>\n",
       "      <td>234920</td>\n",
       "      <td>59649</td>\n",
       "    </tr>\n",
       "    <tr>\n",
       "      <th>2016</th>\n",
       "      <td>100014.004396</td>\n",
       "      <td>96774</td>\n",
       "      <td>214285</td>\n",
       "      <td>42857</td>\n",
       "    </tr>\n",
       "    <tr>\n",
       "      <th>2017</th>\n",
       "      <td>101453.209270</td>\n",
       "      <td>98623</td>\n",
       "      <td>237500</td>\n",
       "      <td>41025</td>\n",
       "    </tr>\n",
       "    <tr>\n",
       "      <th>2018</th>\n",
       "      <td>105951.134803</td>\n",
       "      <td>102957</td>\n",
       "      <td>248484</td>\n",
       "      <td>17391</td>\n",
       "    </tr>\n",
       "    <tr>\n",
       "      <th>2019</th>\n",
       "      <td>113760.028037</td>\n",
       "      <td>111111</td>\n",
       "      <td>312240</td>\n",
       "      <td>70626</td>\n",
       "    </tr>\n",
       "  </tbody>\n",
       "</table>\n",
       "</div>"
      ],
      "text/plain": [
       "                          mean       median          max          min\n",
       "                  price_per_m2 price_per_m2 price_per_m2 price_per_m2\n",
       "year_exposition                                                      \n",
       "2015              99886.363636        96402       234920        59649\n",
       "2016             100014.004396        96774       214285        42857\n",
       "2017             101453.209270        98623       237500        41025\n",
       "2018             105951.134803       102957       248484        17391\n",
       "2019             113760.028037       111111       312240        70626"
      ]
     },
     "execution_count": 60,
     "metadata": {},
     "output_type": "execute_result"
    }
   ],
   "source": [
    "pd.pivot_table(spb_df,index = 'year_exposition',\\\n",
    "                    values = 'price_per_m2',\\\n",
    "                    aggfunc = ['mean','median','max','min'])"
   ]
  },
  {
   "cell_type": "markdown",
   "metadata": {},
   "source": [
    "**Вывод**. Аналогично со всей таблицей: С каждым годом квадратный метр дорожает и дорожает..."
   ]
  },
  {
   "cell_type": "markdown",
   "metadata": {},
   "source": [
    "## Общий вывод"
   ]
  },
  {
   "cell_type": "markdown",
   "metadata": {},
   "source": [
    "Итак, мы проанализировали параметры влияющие на стоимости квартиры в Санкт-Петербурге и его окраинах и пришли к следующим выводам:\n",
    "- С каждым годоv стоимость жилья увеличивается, вне зависимости от месторасположения\n",
    "- Квартиры на первом этаже - самые дешёвые, на последнем - выше, чем на первом , но меньше, чем на любом другом\n",
    "- Квартиры в Санкт-Петербурге дороже, чем на его окраинах или соседних locality \n",
    "- Чем ближе квартиры к центру, тем выше стоимость квадратного метра\n",
    "- Чем больше площадь квартиры, число комнат, тем стоимость выше"
   ]
  }
 ],
 "metadata": {
  "ExecuteTimeLog": [
   {
    "duration": 435,
    "start_time": "2022-04-21T17:50:39.181Z"
   },
   {
    "duration": 75,
    "start_time": "2022-04-21T17:51:29.589Z"
   },
   {
    "duration": 3,
    "start_time": "2022-04-21T17:51:45.896Z"
   },
   {
    "duration": 139,
    "start_time": "2022-04-21T18:07:53.902Z"
   },
   {
    "duration": 4,
    "start_time": "2022-04-21T18:08:05.206Z"
   },
   {
    "duration": 84,
    "start_time": "2022-04-21T18:08:08.912Z"
   },
   {
    "duration": 105,
    "start_time": "2022-04-21T18:08:29.119Z"
   },
   {
    "duration": 116,
    "start_time": "2022-04-21T18:08:51.049Z"
   },
   {
    "duration": 135,
    "start_time": "2022-04-21T18:09:13.200Z"
   },
   {
    "duration": 164,
    "start_time": "2022-04-21T18:09:52.107Z"
   },
   {
    "duration": 134,
    "start_time": "2022-04-21T18:10:09.458Z"
   },
   {
    "duration": 123,
    "start_time": "2022-04-21T18:10:23.461Z"
   },
   {
    "duration": 70,
    "start_time": "2022-04-21T18:10:34.605Z"
   },
   {
    "duration": 2296,
    "start_time": "2022-04-21T18:12:01.828Z"
   },
   {
    "duration": 119,
    "start_time": "2022-04-21T18:13:42.992Z"
   },
   {
    "duration": 151,
    "start_time": "2022-04-21T18:15:16.426Z"
   },
   {
    "duration": 153,
    "start_time": "2022-04-21T18:15:59.833Z"
   },
   {
    "duration": 44,
    "start_time": "2022-04-21T18:16:16.193Z"
   },
   {
    "duration": 14,
    "start_time": "2022-04-21T18:16:26.974Z"
   },
   {
    "duration": 107,
    "start_time": "2022-04-21T18:16:45.220Z"
   },
   {
    "duration": 22,
    "start_time": "2022-04-21T18:16:52.136Z"
   },
   {
    "duration": 9,
    "start_time": "2022-04-21T18:17:05.116Z"
   },
   {
    "duration": 22,
    "start_time": "2022-04-21T18:17:16.360Z"
   },
   {
    "duration": 23,
    "start_time": "2022-04-21T18:17:22.930Z"
   },
   {
    "duration": 31,
    "start_time": "2022-04-21T18:17:29.213Z"
   },
   {
    "duration": 15,
    "start_time": "2022-04-21T18:17:38.377Z"
   },
   {
    "duration": 15,
    "start_time": "2022-04-21T18:17:47.917Z"
   },
   {
    "duration": 69,
    "start_time": "2022-04-21T18:18:01.518Z"
   },
   {
    "duration": 32,
    "start_time": "2022-04-21T18:33:36.978Z"
   },
   {
    "duration": 27,
    "start_time": "2022-04-21T18:34:13.937Z"
   },
   {
    "duration": 4,
    "start_time": "2022-04-21T18:48:50.749Z"
   },
   {
    "duration": 4,
    "start_time": "2022-04-21T18:49:11.899Z"
   },
   {
    "duration": 18,
    "start_time": "2022-04-21T18:49:22.362Z"
   },
   {
    "duration": 2,
    "start_time": "2022-04-21T18:50:36.974Z"
   },
   {
    "duration": 10,
    "start_time": "2022-04-21T18:50:51.434Z"
   },
   {
    "duration": 114,
    "start_time": "2022-04-21T18:58:24.390Z"
   },
   {
    "duration": 17,
    "start_time": "2022-04-21T18:58:36.912Z"
   },
   {
    "duration": 9,
    "start_time": "2022-04-21T18:58:46.369Z"
   },
   {
    "duration": 10,
    "start_time": "2022-04-21T18:59:43.619Z"
   },
   {
    "duration": 18,
    "start_time": "2022-04-21T19:45:03.297Z"
   },
   {
    "duration": 12,
    "start_time": "2022-04-21T19:45:35.966Z"
   },
   {
    "duration": 4,
    "start_time": "2022-04-21T20:05:47.998Z"
   },
   {
    "duration": 3,
    "start_time": "2022-04-21T20:06:56.510Z"
   },
   {
    "duration": 7,
    "start_time": "2022-04-21T20:09:09.831Z"
   },
   {
    "duration": 9,
    "start_time": "2022-04-21T20:09:43.817Z"
   },
   {
    "duration": 471,
    "start_time": "2022-04-22T06:23:11.322Z"
   },
   {
    "duration": 140,
    "start_time": "2022-04-22T06:23:11.795Z"
   },
   {
    "duration": 46,
    "start_time": "2022-04-22T06:23:11.937Z"
   },
   {
    "duration": 44,
    "start_time": "2022-04-22T06:23:11.986Z"
   },
   {
    "duration": 50,
    "start_time": "2022-04-22T06:23:12.032Z"
   },
   {
    "duration": 115,
    "start_time": "2022-04-22T06:23:12.084Z"
   },
   {
    "duration": 23,
    "start_time": "2022-04-22T06:23:12.202Z"
   },
   {
    "duration": 12,
    "start_time": "2022-04-22T06:23:12.227Z"
   },
   {
    "duration": 43,
    "start_time": "2022-04-22T06:23:12.241Z"
   },
   {
    "duration": 4,
    "start_time": "2022-04-22T06:23:12.287Z"
   },
   {
    "duration": 6,
    "start_time": "2022-04-22T06:23:37.755Z"
   },
   {
    "duration": 112,
    "start_time": "2022-04-22T06:24:30.853Z"
   },
   {
    "duration": 739,
    "start_time": "2022-04-22T06:28:11.634Z"
   },
   {
    "duration": 7,
    "start_time": "2022-04-22T06:28:24.471Z"
   },
   {
    "duration": 15,
    "start_time": "2022-04-22T06:28:30.541Z"
   },
   {
    "duration": 15,
    "start_time": "2022-04-22T06:28:33.902Z"
   },
   {
    "duration": 28,
    "start_time": "2022-04-22T06:28:43.540Z"
   },
   {
    "duration": 20,
    "start_time": "2022-04-22T06:30:11.372Z"
   },
   {
    "duration": 25,
    "start_time": "2022-04-22T06:30:49.321Z"
   },
   {
    "duration": 30,
    "start_time": "2022-04-22T06:33:02.846Z"
   },
   {
    "duration": 30,
    "start_time": "2022-04-22T06:33:05.797Z"
   },
   {
    "duration": 8,
    "start_time": "2022-04-22T06:33:18.406Z"
   },
   {
    "duration": 13,
    "start_time": "2022-04-22T06:33:24.376Z"
   },
   {
    "duration": 12,
    "start_time": "2022-04-22T06:33:33.494Z"
   },
   {
    "duration": 6,
    "start_time": "2022-04-22T06:33:41.529Z"
   },
   {
    "duration": 10,
    "start_time": "2022-04-22T06:33:49.537Z"
   },
   {
    "duration": 4,
    "start_time": "2022-04-22T06:33:57.866Z"
   },
   {
    "duration": 141,
    "start_time": "2022-04-22T06:33:57.872Z"
   },
   {
    "duration": 37,
    "start_time": "2022-04-22T06:33:58.016Z"
   },
   {
    "duration": 63,
    "start_time": "2022-04-22T06:33:58.056Z"
   },
   {
    "duration": 19,
    "start_time": "2022-04-22T06:33:58.122Z"
   },
   {
    "duration": 118,
    "start_time": "2022-04-22T06:33:58.144Z"
   },
   {
    "duration": 31,
    "start_time": "2022-04-22T06:33:58.264Z"
   },
   {
    "duration": 12,
    "start_time": "2022-04-22T06:33:58.297Z"
   },
   {
    "duration": 23,
    "start_time": "2022-04-22T06:33:58.311Z"
   },
   {
    "duration": 4,
    "start_time": "2022-04-22T06:33:58.337Z"
   },
   {
    "duration": 7,
    "start_time": "2022-04-22T06:34:00.497Z"
   },
   {
    "duration": 4,
    "start_time": "2022-04-22T06:34:17.000Z"
   },
   {
    "duration": 8,
    "start_time": "2022-04-22T06:34:21.698Z"
   },
   {
    "duration": 10,
    "start_time": "2022-04-22T06:38:29.557Z"
   },
   {
    "duration": 10,
    "start_time": "2022-04-22T06:38:36.306Z"
   },
   {
    "duration": 38,
    "start_time": "2022-04-22T06:39:59.251Z"
   },
   {
    "duration": 7,
    "start_time": "2022-04-22T06:41:22.871Z"
   },
   {
    "duration": 6,
    "start_time": "2022-04-22T06:42:12.423Z"
   },
   {
    "duration": 7,
    "start_time": "2022-04-22T06:44:05.862Z"
   },
   {
    "duration": 7,
    "start_time": "2022-04-22T06:44:17.771Z"
   },
   {
    "duration": 7,
    "start_time": "2022-04-22T06:45:20.546Z"
   },
   {
    "duration": 7,
    "start_time": "2022-04-22T06:46:34.142Z"
   },
   {
    "duration": 6,
    "start_time": "2022-04-22T06:59:05.872Z"
   },
   {
    "duration": 13,
    "start_time": "2022-04-22T06:59:21.031Z"
   },
   {
    "duration": 4,
    "start_time": "2022-04-22T06:59:26.743Z"
   },
   {
    "duration": 20,
    "start_time": "2022-04-22T06:59:40.794Z"
   },
   {
    "duration": 6,
    "start_time": "2022-04-22T06:59:59.214Z"
   },
   {
    "duration": 4,
    "start_time": "2022-04-22T07:00:11.112Z"
   },
   {
    "duration": 190,
    "start_time": "2022-04-22T07:00:11.119Z"
   },
   {
    "duration": 49,
    "start_time": "2022-04-22T07:00:11.312Z"
   },
   {
    "duration": 63,
    "start_time": "2022-04-22T07:00:11.364Z"
   },
   {
    "duration": 19,
    "start_time": "2022-04-22T07:00:11.429Z"
   },
   {
    "duration": 119,
    "start_time": "2022-04-22T07:00:11.450Z"
   },
   {
    "duration": 32,
    "start_time": "2022-04-22T07:00:11.572Z"
   },
   {
    "duration": 12,
    "start_time": "2022-04-22T07:00:11.606Z"
   },
   {
    "duration": 14,
    "start_time": "2022-04-22T07:00:11.621Z"
   },
   {
    "duration": 4,
    "start_time": "2022-04-22T07:00:11.637Z"
   },
   {
    "duration": 14,
    "start_time": "2022-04-22T07:00:11.682Z"
   },
   {
    "duration": 18,
    "start_time": "2022-04-22T07:00:25.583Z"
   },
   {
    "duration": 11,
    "start_time": "2022-04-22T07:00:27.430Z"
   },
   {
    "duration": 632,
    "start_time": "2022-04-22T07:01:51.217Z"
   },
   {
    "duration": 6,
    "start_time": "2022-04-22T07:02:07.900Z"
   },
   {
    "duration": 8,
    "start_time": "2022-04-22T07:02:09.643Z"
   },
   {
    "duration": 10,
    "start_time": "2022-04-22T07:02:14.186Z"
   },
   {
    "duration": 8,
    "start_time": "2022-04-22T07:02:16.469Z"
   },
   {
    "duration": 560,
    "start_time": "2022-04-22T07:02:21.583Z"
   },
   {
    "duration": 4,
    "start_time": "2022-04-22T07:02:31.616Z"
   },
   {
    "duration": 180,
    "start_time": "2022-04-22T07:02:31.626Z"
   },
   {
    "duration": 36,
    "start_time": "2022-04-22T07:02:31.809Z"
   },
   {
    "duration": 65,
    "start_time": "2022-04-22T07:02:31.847Z"
   },
   {
    "duration": 20,
    "start_time": "2022-04-22T07:02:31.915Z"
   },
   {
    "duration": 125,
    "start_time": "2022-04-22T07:02:31.937Z"
   },
   {
    "duration": 35,
    "start_time": "2022-04-22T07:02:32.064Z"
   },
   {
    "duration": 13,
    "start_time": "2022-04-22T07:02:32.101Z"
   },
   {
    "duration": 13,
    "start_time": "2022-04-22T07:02:32.116Z"
   },
   {
    "duration": 4,
    "start_time": "2022-04-22T07:02:32.131Z"
   },
   {
    "duration": 7,
    "start_time": "2022-04-22T07:02:32.138Z"
   },
   {
    "duration": 8,
    "start_time": "2022-04-22T07:02:47.518Z"
   },
   {
    "duration": 9,
    "start_time": "2022-04-22T07:02:50.016Z"
   },
   {
    "duration": 51,
    "start_time": "2022-04-22T11:51:14.028Z"
   },
   {
    "duration": 371,
    "start_time": "2022-04-22T11:51:18.019Z"
   },
   {
    "duration": 118,
    "start_time": "2022-04-22T11:51:18.392Z"
   },
   {
    "duration": 27,
    "start_time": "2022-04-22T11:51:18.512Z"
   },
   {
    "duration": 49,
    "start_time": "2022-04-22T11:51:18.540Z"
   },
   {
    "duration": 26,
    "start_time": "2022-04-22T11:51:18.593Z"
   },
   {
    "duration": 92,
    "start_time": "2022-04-22T11:51:18.621Z"
   },
   {
    "duration": 16,
    "start_time": "2022-04-22T11:51:18.714Z"
   },
   {
    "duration": 11,
    "start_time": "2022-04-22T11:51:18.732Z"
   },
   {
    "duration": 33,
    "start_time": "2022-04-22T11:51:18.745Z"
   },
   {
    "duration": 3,
    "start_time": "2022-04-22T11:51:18.780Z"
   },
   {
    "duration": 9,
    "start_time": "2022-04-22T11:51:18.785Z"
   },
   {
    "duration": 13,
    "start_time": "2022-04-22T11:51:18.795Z"
   },
   {
    "duration": 9,
    "start_time": "2022-04-22T11:51:18.810Z"
   },
   {
    "duration": 388,
    "start_time": "2022-04-22T11:51:18.822Z"
   },
   {
    "duration": 8,
    "start_time": "2022-04-22T11:51:33.372Z"
   },
   {
    "duration": 13,
    "start_time": "2022-04-22T11:51:40.979Z"
   },
   {
    "duration": 5,
    "start_time": "2022-04-22T11:51:55.730Z"
   },
   {
    "duration": 3,
    "start_time": "2022-04-22T11:55:25.410Z"
   },
   {
    "duration": 8,
    "start_time": "2022-04-22T11:56:37.184Z"
   },
   {
    "duration": 8,
    "start_time": "2022-04-22T11:56:45.650Z"
   },
   {
    "duration": 5,
    "start_time": "2022-04-22T11:56:56.689Z"
   },
   {
    "duration": 7,
    "start_time": "2022-04-22T11:57:10.290Z"
   },
   {
    "duration": 2040,
    "start_time": "2022-04-22T11:57:29.970Z"
   },
   {
    "duration": 6,
    "start_time": "2022-04-22T11:59:55.651Z"
   },
   {
    "duration": 7,
    "start_time": "2022-04-22T11:59:58.552Z"
   },
   {
    "duration": 1493,
    "start_time": "2022-04-22T12:04:47.580Z"
   },
   {
    "duration": 5,
    "start_time": "2022-04-22T12:05:01.570Z"
   },
   {
    "duration": 28,
    "start_time": "2022-04-22T12:05:09.610Z"
   },
   {
    "duration": 28,
    "start_time": "2022-04-22T12:07:09.982Z"
   },
   {
    "duration": 4,
    "start_time": "2022-04-22T12:08:02.258Z"
   },
   {
    "duration": 7,
    "start_time": "2022-04-22T12:08:12.178Z"
   },
   {
    "duration": 43,
    "start_time": "2022-04-22T12:08:25.939Z"
   },
   {
    "duration": 7,
    "start_time": "2022-04-22T12:12:18.037Z"
   },
   {
    "duration": 5,
    "start_time": "2022-04-22T12:12:26.116Z"
   },
   {
    "duration": 18,
    "start_time": "2022-04-22T12:12:42.408Z"
   },
   {
    "duration": 3,
    "start_time": "2022-04-22T12:12:57.189Z"
   },
   {
    "duration": 102,
    "start_time": "2022-04-22T12:12:57.196Z"
   },
   {
    "duration": 24,
    "start_time": "2022-04-22T12:12:57.300Z"
   },
   {
    "duration": 47,
    "start_time": "2022-04-22T12:12:57.326Z"
   },
   {
    "duration": 16,
    "start_time": "2022-04-22T12:12:57.375Z"
   },
   {
    "duration": 89,
    "start_time": "2022-04-22T12:12:57.394Z"
   },
   {
    "duration": 18,
    "start_time": "2022-04-22T12:12:57.485Z"
   },
   {
    "duration": 10,
    "start_time": "2022-04-22T12:12:57.505Z"
   },
   {
    "duration": 10,
    "start_time": "2022-04-22T12:12:57.516Z"
   },
   {
    "duration": 4,
    "start_time": "2022-04-22T12:12:57.528Z"
   },
   {
    "duration": 39,
    "start_time": "2022-04-22T12:12:57.534Z"
   },
   {
    "duration": 5,
    "start_time": "2022-04-22T12:12:59.953Z"
   },
   {
    "duration": 7,
    "start_time": "2022-04-22T12:13:11.450Z"
   },
   {
    "duration": 5,
    "start_time": "2022-04-22T12:17:38.486Z"
   },
   {
    "duration": 6,
    "start_time": "2022-04-22T12:17:51.751Z"
   },
   {
    "duration": 10,
    "start_time": "2022-04-22T12:19:26.105Z"
   },
   {
    "duration": 10,
    "start_time": "2022-04-22T12:20:31.901Z"
   },
   {
    "duration": 6,
    "start_time": "2022-04-22T12:21:27.603Z"
   },
   {
    "duration": 64,
    "start_time": "2022-04-22T17:31:40.803Z"
   },
   {
    "duration": 405,
    "start_time": "2022-04-22T17:31:51.970Z"
   },
   {
    "duration": 157,
    "start_time": "2022-04-22T17:31:52.377Z"
   },
   {
    "duration": 32,
    "start_time": "2022-04-22T17:31:52.536Z"
   },
   {
    "duration": 58,
    "start_time": "2022-04-22T17:31:52.570Z"
   },
   {
    "duration": 21,
    "start_time": "2022-04-22T17:31:52.630Z"
   },
   {
    "duration": 79,
    "start_time": "2022-04-22T17:31:52.653Z"
   },
   {
    "duration": 21,
    "start_time": "2022-04-22T17:31:52.734Z"
   },
   {
    "duration": 9,
    "start_time": "2022-04-22T17:31:52.757Z"
   },
   {
    "duration": 40,
    "start_time": "2022-04-22T17:31:52.768Z"
   },
   {
    "duration": 25,
    "start_time": "2022-04-22T17:31:52.816Z"
   },
   {
    "duration": 14,
    "start_time": "2022-04-22T17:31:52.843Z"
   },
   {
    "duration": 4,
    "start_time": "2022-04-22T17:32:02.009Z"
   },
   {
    "duration": 5,
    "start_time": "2022-04-22T17:35:16.982Z"
   },
   {
    "duration": 4,
    "start_time": "2022-04-22T17:40:33.421Z"
   },
   {
    "duration": 10,
    "start_time": "2022-04-22T17:41:39.455Z"
   },
   {
    "duration": 3,
    "start_time": "2022-04-22T17:41:58.779Z"
   },
   {
    "duration": 144,
    "start_time": "2022-04-22T17:41:58.787Z"
   },
   {
    "duration": 24,
    "start_time": "2022-04-22T17:41:58.933Z"
   },
   {
    "duration": 47,
    "start_time": "2022-04-22T17:41:58.958Z"
   },
   {
    "duration": 39,
    "start_time": "2022-04-22T17:41:59.010Z"
   },
   {
    "duration": 76,
    "start_time": "2022-04-22T17:41:59.051Z"
   },
   {
    "duration": 19,
    "start_time": "2022-04-22T17:41:59.129Z"
   },
   {
    "duration": 12,
    "start_time": "2022-04-22T17:41:59.150Z"
   },
   {
    "duration": 46,
    "start_time": "2022-04-22T17:41:59.163Z"
   },
   {
    "duration": 29,
    "start_time": "2022-04-22T17:41:59.214Z"
   },
   {
    "duration": 4,
    "start_time": "2022-04-22T17:41:59.245Z"
   },
   {
    "duration": 5,
    "start_time": "2022-04-22T17:41:59.251Z"
   },
   {
    "duration": 7,
    "start_time": "2022-04-22T17:41:59.257Z"
   },
   {
    "duration": 4,
    "start_time": "2022-04-22T17:42:03.417Z"
   },
   {
    "duration": 10,
    "start_time": "2022-04-22T17:42:07.143Z"
   },
   {
    "duration": 27,
    "start_time": "2022-04-22T17:43:37.072Z"
   },
   {
    "duration": 133,
    "start_time": "2022-04-22T17:44:06.917Z"
   },
   {
    "duration": 4,
    "start_time": "2022-04-22T17:44:14.487Z"
   },
   {
    "duration": 37,
    "start_time": "2022-04-22T17:44:17.198Z"
   },
   {
    "duration": 4,
    "start_time": "2022-04-22T17:46:09.334Z"
   },
   {
    "duration": 7,
    "start_time": "2022-04-22T17:46:28.013Z"
   },
   {
    "duration": 4,
    "start_time": "2022-04-22T17:47:24.772Z"
   },
   {
    "duration": 6,
    "start_time": "2022-04-22T17:48:10.371Z"
   },
   {
    "duration": 6,
    "start_time": "2022-04-22T17:48:11.713Z"
   },
   {
    "duration": 25,
    "start_time": "2022-04-22T17:48:12.538Z"
   },
   {
    "duration": 10,
    "start_time": "2022-04-22T17:48:17.626Z"
   },
   {
    "duration": 39,
    "start_time": "2022-04-22T17:51:36.121Z"
   },
   {
    "duration": 3,
    "start_time": "2022-04-22T17:52:01.630Z"
   },
   {
    "duration": 129,
    "start_time": "2022-04-22T17:52:01.637Z"
   },
   {
    "duration": 39,
    "start_time": "2022-04-22T17:52:01.768Z"
   },
   {
    "duration": 55,
    "start_time": "2022-04-22T17:52:01.810Z"
   },
   {
    "duration": 14,
    "start_time": "2022-04-22T17:52:01.867Z"
   },
   {
    "duration": 87,
    "start_time": "2022-04-22T17:52:01.883Z"
   },
   {
    "duration": 16,
    "start_time": "2022-04-22T17:52:01.972Z"
   },
   {
    "duration": 54,
    "start_time": "2022-04-22T17:52:01.990Z"
   },
   {
    "duration": 11,
    "start_time": "2022-04-22T17:52:02.045Z"
   },
   {
    "duration": 7,
    "start_time": "2022-04-22T17:52:02.058Z"
   },
   {
    "duration": 8,
    "start_time": "2022-04-22T17:52:02.067Z"
   },
   {
    "duration": 14,
    "start_time": "2022-04-22T17:52:02.076Z"
   },
   {
    "duration": 38,
    "start_time": "2022-04-22T17:52:02.094Z"
   },
   {
    "duration": 25,
    "start_time": "2022-04-22T17:52:02.134Z"
   },
   {
    "duration": 26,
    "start_time": "2022-04-22T17:52:02.160Z"
   },
   {
    "duration": 7,
    "start_time": "2022-04-22T17:52:07.818Z"
   },
   {
    "duration": 14,
    "start_time": "2022-04-22T17:55:54.656Z"
   },
   {
    "duration": 5,
    "start_time": "2022-04-22T17:56:16.366Z"
   },
   {
    "duration": 6,
    "start_time": "2022-04-22T17:57:13.735Z"
   },
   {
    "duration": 3,
    "start_time": "2022-04-22T17:58:08.175Z"
   },
   {
    "duration": 8,
    "start_time": "2022-04-22T18:00:29.265Z"
   },
   {
    "duration": 3,
    "start_time": "2022-04-22T18:05:14.845Z"
   },
   {
    "duration": 26,
    "start_time": "2022-04-22T18:06:15.672Z"
   },
   {
    "duration": 13,
    "start_time": "2022-04-22T18:06:53.842Z"
   },
   {
    "duration": 9,
    "start_time": "2022-04-22T18:50:55.824Z"
   },
   {
    "duration": 5,
    "start_time": "2022-04-22T18:51:49.909Z"
   },
   {
    "duration": 38,
    "start_time": "2022-04-22T18:52:14.165Z"
   },
   {
    "duration": 25,
    "start_time": "2022-04-22T18:53:02.302Z"
   },
   {
    "duration": 11,
    "start_time": "2022-04-22T18:55:43.186Z"
   },
   {
    "duration": 25,
    "start_time": "2022-04-22T18:56:08.064Z"
   },
   {
    "duration": 11,
    "start_time": "2022-04-22T18:56:18.813Z"
   },
   {
    "duration": 14,
    "start_time": "2022-04-22T18:59:11.426Z"
   },
   {
    "duration": 46,
    "start_time": "2022-04-22T18:59:20.761Z"
   },
   {
    "duration": 46,
    "start_time": "2022-04-22T19:00:02.745Z"
   },
   {
    "duration": 3,
    "start_time": "2022-04-22T19:02:33.135Z"
   },
   {
    "duration": 3,
    "start_time": "2022-04-22T19:03:15.518Z"
   },
   {
    "duration": 3,
    "start_time": "2022-04-22T19:03:56.222Z"
   },
   {
    "duration": 393,
    "start_time": "2022-04-22T19:04:19.088Z"
   },
   {
    "duration": 399,
    "start_time": "2022-04-22T19:06:05.575Z"
   },
   {
    "duration": 375,
    "start_time": "2022-04-22T19:06:40.338Z"
   },
   {
    "duration": 360,
    "start_time": "2022-04-22T19:06:47.610Z"
   },
   {
    "duration": 390,
    "start_time": "2022-04-22T19:07:14.810Z"
   },
   {
    "duration": 6,
    "start_time": "2022-04-22T19:11:56.630Z"
   },
   {
    "duration": 25,
    "start_time": "2022-04-22T19:12:03.142Z"
   },
   {
    "duration": 39,
    "start_time": "2022-04-22T19:17:50.647Z"
   },
   {
    "duration": 67,
    "start_time": "2022-04-22T19:18:37.384Z"
   },
   {
    "duration": 67,
    "start_time": "2022-04-22T19:18:48.937Z"
   },
   {
    "duration": 3,
    "start_time": "2022-04-22T19:18:58.099Z"
   },
   {
    "duration": 147,
    "start_time": "2022-04-22T19:18:58.106Z"
   },
   {
    "duration": 57,
    "start_time": "2022-04-22T19:18:58.255Z"
   },
   {
    "duration": 47,
    "start_time": "2022-04-22T19:18:58.314Z"
   },
   {
    "duration": 36,
    "start_time": "2022-04-22T19:18:58.364Z"
   },
   {
    "duration": 72,
    "start_time": "2022-04-22T19:18:58.402Z"
   },
   {
    "duration": 29,
    "start_time": "2022-04-22T19:18:58.477Z"
   },
   {
    "duration": 10,
    "start_time": "2022-04-22T19:18:58.508Z"
   },
   {
    "duration": 11,
    "start_time": "2022-04-22T19:18:58.520Z"
   },
   {
    "duration": 6,
    "start_time": "2022-04-22T19:18:58.533Z"
   },
   {
    "duration": 5,
    "start_time": "2022-04-22T19:18:58.541Z"
   },
   {
    "duration": 45,
    "start_time": "2022-04-22T19:18:58.548Z"
   },
   {
    "duration": 4,
    "start_time": "2022-04-22T19:18:58.595Z"
   },
   {
    "duration": 39,
    "start_time": "2022-04-22T19:18:58.601Z"
   },
   {
    "duration": 15,
    "start_time": "2022-04-22T19:18:58.642Z"
   },
   {
    "duration": 36,
    "start_time": "2022-04-22T19:18:58.659Z"
   },
   {
    "duration": 5,
    "start_time": "2022-04-22T19:18:58.696Z"
   },
   {
    "duration": 8,
    "start_time": "2022-04-22T19:18:58.703Z"
   },
   {
    "duration": 6,
    "start_time": "2022-04-22T19:18:58.713Z"
   },
   {
    "duration": 135,
    "start_time": "2022-04-22T19:18:58.721Z"
   },
   {
    "duration": 0,
    "start_time": "2022-04-22T19:18:58.858Z"
   },
   {
    "duration": 0,
    "start_time": "2022-04-22T19:18:58.859Z"
   },
   {
    "duration": 10,
    "start_time": "2022-04-22T19:19:06.903Z"
   },
   {
    "duration": 7,
    "start_time": "2022-04-22T19:19:33.989Z"
   },
   {
    "duration": 69,
    "start_time": "2022-04-22T19:19:38.375Z"
   },
   {
    "duration": 404,
    "start_time": "2022-04-22T19:24:01.754Z"
   },
   {
    "duration": 1810,
    "start_time": "2022-04-22T19:26:25.119Z"
   },
   {
    "duration": 353,
    "start_time": "2022-04-22T19:26:36.439Z"
   },
   {
    "duration": 225,
    "start_time": "2022-04-22T19:26:44.182Z"
   },
   {
    "duration": 112,
    "start_time": "2022-04-22T19:30:22.262Z"
   },
   {
    "duration": 138,
    "start_time": "2022-04-22T19:30:35.646Z"
   },
   {
    "duration": 217,
    "start_time": "2022-04-22T19:31:27.501Z"
   },
   {
    "duration": 1307,
    "start_time": "2022-04-22T19:31:35.010Z"
   },
   {
    "duration": 215,
    "start_time": "2022-04-22T19:31:43.635Z"
   },
   {
    "duration": 214,
    "start_time": "2022-04-22T19:32:04.072Z"
   },
   {
    "duration": 326,
    "start_time": "2022-04-22T19:35:29.412Z"
   },
   {
    "duration": 124,
    "start_time": "2022-04-22T19:36:12.625Z"
   },
   {
    "duration": 133,
    "start_time": "2022-04-22T19:36:18.323Z"
   },
   {
    "duration": 4,
    "start_time": "2022-04-22T19:39:09.742Z"
   },
   {
    "duration": 19,
    "start_time": "2022-04-22T19:39:11.938Z"
   },
   {
    "duration": 2,
    "start_time": "2022-04-22T19:39:19.149Z"
   },
   {
    "duration": 113,
    "start_time": "2022-04-22T19:39:19.156Z"
   },
   {
    "duration": 37,
    "start_time": "2022-04-22T19:39:19.271Z"
   },
   {
    "duration": 43,
    "start_time": "2022-04-22T19:39:19.310Z"
   },
   {
    "duration": 50,
    "start_time": "2022-04-22T19:39:19.356Z"
   },
   {
    "duration": 101,
    "start_time": "2022-04-22T19:39:19.408Z"
   },
   {
    "duration": 24,
    "start_time": "2022-04-22T19:39:19.511Z"
   },
   {
    "duration": 14,
    "start_time": "2022-04-22T19:39:19.538Z"
   },
   {
    "duration": 40,
    "start_time": "2022-04-22T19:39:19.554Z"
   },
   {
    "duration": 6,
    "start_time": "2022-04-22T19:39:19.596Z"
   },
   {
    "duration": 5,
    "start_time": "2022-04-22T19:39:19.605Z"
   },
   {
    "duration": 6,
    "start_time": "2022-04-22T19:39:19.612Z"
   },
   {
    "duration": 4,
    "start_time": "2022-04-22T19:39:19.620Z"
   },
   {
    "duration": 35,
    "start_time": "2022-04-22T19:39:19.626Z"
   },
   {
    "duration": 11,
    "start_time": "2022-04-22T19:39:19.693Z"
   },
   {
    "duration": 4,
    "start_time": "2022-04-22T19:39:19.706Z"
   },
   {
    "duration": 17,
    "start_time": "2022-04-22T19:39:19.712Z"
   },
   {
    "duration": 5,
    "start_time": "2022-04-22T19:39:19.730Z"
   },
   {
    "duration": 12,
    "start_time": "2022-04-22T19:39:19.737Z"
   },
   {
    "duration": 42,
    "start_time": "2022-04-22T19:39:19.751Z"
   },
   {
    "duration": 12,
    "start_time": "2022-04-22T19:39:19.795Z"
   },
   {
    "duration": 39,
    "start_time": "2022-04-22T19:39:19.810Z"
   },
   {
    "duration": 54,
    "start_time": "2022-04-22T19:39:19.852Z"
   },
   {
    "duration": 67,
    "start_time": "2022-04-22T19:39:19.909Z"
   },
   {
    "duration": 4,
    "start_time": "2022-04-22T19:39:19.992Z"
   },
   {
    "duration": 619,
    "start_time": "2022-04-22T19:39:19.999Z"
   },
   {
    "duration": 40,
    "start_time": "2022-04-22T19:39:20.620Z"
   },
   {
    "duration": 386,
    "start_time": "2022-04-22T19:39:20.662Z"
   },
   {
    "duration": 41,
    "start_time": "2022-04-22T19:39:28.233Z"
   },
   {
    "duration": 5,
    "start_time": "2022-04-22T19:40:02.059Z"
   },
   {
    "duration": 25,
    "start_time": "2022-04-22T19:40:22.736Z"
   },
   {
    "duration": 6,
    "start_time": "2022-04-22T19:41:02.029Z"
   },
   {
    "duration": 28,
    "start_time": "2022-04-22T19:41:10.627Z"
   },
   {
    "duration": 26,
    "start_time": "2022-04-22T19:41:23.503Z"
   },
   {
    "duration": 41,
    "start_time": "2022-04-22T19:41:28.324Z"
   },
   {
    "duration": 24,
    "start_time": "2022-04-22T19:41:54.175Z"
   },
   {
    "duration": 2,
    "start_time": "2022-04-22T19:41:59.924Z"
   },
   {
    "duration": 151,
    "start_time": "2022-04-22T19:41:59.930Z"
   },
   {
    "duration": 42,
    "start_time": "2022-04-22T19:42:00.083Z"
   },
   {
    "duration": 47,
    "start_time": "2022-04-22T19:42:00.127Z"
   },
   {
    "duration": 35,
    "start_time": "2022-04-22T19:42:00.178Z"
   },
   {
    "duration": 123,
    "start_time": "2022-04-22T19:42:00.215Z"
   },
   {
    "duration": 26,
    "start_time": "2022-04-22T19:42:00.340Z"
   },
   {
    "duration": 35,
    "start_time": "2022-04-22T19:42:00.368Z"
   },
   {
    "duration": 16,
    "start_time": "2022-04-22T19:42:00.406Z"
   },
   {
    "duration": 6,
    "start_time": "2022-04-22T19:42:00.424Z"
   },
   {
    "duration": 12,
    "start_time": "2022-04-22T19:42:00.433Z"
   },
   {
    "duration": 8,
    "start_time": "2022-04-22T19:42:00.447Z"
   },
   {
    "duration": 15,
    "start_time": "2022-04-22T19:42:00.456Z"
   },
   {
    "duration": 29,
    "start_time": "2022-04-22T19:42:04.117Z"
   },
   {
    "duration": 27,
    "start_time": "2022-04-22T19:42:15.059Z"
   },
   {
    "duration": 27,
    "start_time": "2022-04-22T19:43:11.398Z"
   },
   {
    "duration": 26,
    "start_time": "2022-04-22T19:43:38.071Z"
   },
   {
    "duration": 4,
    "start_time": "2022-04-22T19:43:46.282Z"
   },
   {
    "duration": 106,
    "start_time": "2022-04-22T19:43:46.288Z"
   },
   {
    "duration": 23,
    "start_time": "2022-04-22T19:43:46.396Z"
   },
   {
    "duration": 30,
    "start_time": "2022-04-22T19:43:46.421Z"
   },
   {
    "duration": 14,
    "start_time": "2022-04-22T19:43:46.453Z"
   },
   {
    "duration": 89,
    "start_time": "2022-04-22T19:43:46.468Z"
   },
   {
    "duration": 16,
    "start_time": "2022-04-22T19:43:46.558Z"
   },
   {
    "duration": 24,
    "start_time": "2022-04-22T19:43:46.576Z"
   },
   {
    "duration": 13,
    "start_time": "2022-04-22T19:43:46.602Z"
   },
   {
    "duration": 5,
    "start_time": "2022-04-22T19:43:46.617Z"
   },
   {
    "duration": 5,
    "start_time": "2022-04-22T19:43:46.624Z"
   },
   {
    "duration": 6,
    "start_time": "2022-04-22T19:43:46.630Z"
   },
   {
    "duration": 4,
    "start_time": "2022-04-22T19:43:46.637Z"
   },
   {
    "duration": 57,
    "start_time": "2022-04-22T19:43:46.643Z"
   },
   {
    "duration": 13,
    "start_time": "2022-04-22T19:43:46.702Z"
   },
   {
    "duration": 25,
    "start_time": "2022-04-22T19:43:49.813Z"
   },
   {
    "duration": 137,
    "start_time": "2022-04-22T19:44:03.288Z"
   },
   {
    "duration": 110,
    "start_time": "2022-04-22T19:44:46.996Z"
   },
   {
    "duration": 151,
    "start_time": "2022-04-22T19:44:52.812Z"
   },
   {
    "duration": 3,
    "start_time": "2022-04-22T19:45:02.595Z"
   },
   {
    "duration": 104,
    "start_time": "2022-04-22T19:45:02.602Z"
   },
   {
    "duration": 24,
    "start_time": "2022-04-22T19:45:02.708Z"
   },
   {
    "duration": 31,
    "start_time": "2022-04-22T19:45:02.734Z"
   },
   {
    "duration": 158,
    "start_time": "2022-04-22T19:45:02.767Z"
   },
   {
    "duration": 77,
    "start_time": "2022-04-22T19:45:02.928Z"
   },
   {
    "duration": 24,
    "start_time": "2022-04-22T19:45:03.007Z"
   },
   {
    "duration": 14,
    "start_time": "2022-04-22T19:45:03.034Z"
   },
   {
    "duration": 41,
    "start_time": "2022-04-22T19:45:03.051Z"
   },
   {
    "duration": 8,
    "start_time": "2022-04-22T19:45:03.095Z"
   },
   {
    "duration": 4,
    "start_time": "2022-04-22T19:45:03.107Z"
   },
   {
    "duration": 10,
    "start_time": "2022-04-22T19:45:03.113Z"
   },
   {
    "duration": 7,
    "start_time": "2022-04-22T19:45:03.124Z"
   },
   {
    "duration": 31,
    "start_time": "2022-04-22T19:45:03.133Z"
   },
   {
    "duration": 15,
    "start_time": "2022-04-22T19:45:03.193Z"
   },
   {
    "duration": 37,
    "start_time": "2022-04-22T19:45:03.210Z"
   },
   {
    "duration": 44,
    "start_time": "2022-04-22T19:45:03.250Z"
   },
   {
    "duration": 5,
    "start_time": "2022-04-22T19:45:03.297Z"
   },
   {
    "duration": 7,
    "start_time": "2022-04-22T19:45:03.305Z"
   },
   {
    "duration": 8,
    "start_time": "2022-04-22T19:45:03.314Z"
   },
   {
    "duration": 13,
    "start_time": "2022-04-22T19:45:03.324Z"
   },
   {
    "duration": 66,
    "start_time": "2022-04-22T19:45:03.339Z"
   },
   {
    "duration": 40,
    "start_time": "2022-04-22T19:45:03.407Z"
   },
   {
    "duration": 63,
    "start_time": "2022-04-22T19:45:03.449Z"
   },
   {
    "duration": 5,
    "start_time": "2022-04-22T19:45:03.514Z"
   },
   {
    "duration": 403,
    "start_time": "2022-04-22T19:45:03.521Z"
   },
   {
    "duration": 40,
    "start_time": "2022-04-22T19:45:03.926Z"
   },
   {
    "duration": 390,
    "start_time": "2022-04-22T19:45:03.969Z"
   },
   {
    "duration": 237,
    "start_time": "2022-04-22T19:45:07.195Z"
   },
   {
    "duration": 242,
    "start_time": "2022-04-22T19:45:18.100Z"
   },
   {
    "duration": 473,
    "start_time": "2022-04-22T19:45:37.064Z"
   },
   {
    "duration": 363,
    "start_time": "2022-04-22T19:46:15.984Z"
   },
   {
    "duration": 265,
    "start_time": "2022-04-22T19:46:48.314Z"
   },
   {
    "duration": 207,
    "start_time": "2022-04-22T19:48:58.713Z"
   },
   {
    "duration": 340,
    "start_time": "2022-04-22T19:49:26.635Z"
   },
   {
    "duration": 158,
    "start_time": "2022-04-22T19:49:32.854Z"
   },
   {
    "duration": 219,
    "start_time": "2022-04-22T19:49:37.326Z"
   },
   {
    "duration": 245,
    "start_time": "2022-04-22T19:50:14.252Z"
   },
   {
    "duration": 118,
    "start_time": "2022-04-22T19:50:25.221Z"
   },
   {
    "duration": 220,
    "start_time": "2022-04-22T19:50:40.510Z"
   },
   {
    "duration": 78,
    "start_time": "2022-04-22T19:51:12.450Z"
   },
   {
    "duration": 3,
    "start_time": "2022-04-22T19:51:19.503Z"
   },
   {
    "duration": 109,
    "start_time": "2022-04-22T19:51:19.512Z"
   },
   {
    "duration": 25,
    "start_time": "2022-04-22T19:51:19.623Z"
   },
   {
    "duration": 59,
    "start_time": "2022-04-22T19:51:19.650Z"
   },
   {
    "duration": 15,
    "start_time": "2022-04-22T19:51:19.711Z"
   },
   {
    "duration": 94,
    "start_time": "2022-04-22T19:51:19.727Z"
   },
   {
    "duration": 17,
    "start_time": "2022-04-22T19:51:19.823Z"
   },
   {
    "duration": 10,
    "start_time": "2022-04-22T19:51:19.842Z"
   },
   {
    "duration": 11,
    "start_time": "2022-04-22T19:51:19.853Z"
   },
   {
    "duration": 6,
    "start_time": "2022-04-22T19:51:19.893Z"
   },
   {
    "duration": 5,
    "start_time": "2022-04-22T19:51:19.901Z"
   },
   {
    "duration": 19,
    "start_time": "2022-04-22T19:51:19.907Z"
   },
   {
    "duration": 4,
    "start_time": "2022-04-22T19:51:19.927Z"
   },
   {
    "duration": 29,
    "start_time": "2022-04-22T19:51:19.933Z"
   },
   {
    "duration": 35,
    "start_time": "2022-04-22T19:51:19.963Z"
   },
   {
    "duration": 27,
    "start_time": "2022-04-22T19:51:19.999Z"
   },
   {
    "duration": 16,
    "start_time": "2022-04-22T19:51:20.027Z"
   },
   {
    "duration": 4,
    "start_time": "2022-04-22T19:51:20.045Z"
   },
   {
    "duration": 9,
    "start_time": "2022-04-22T19:51:20.051Z"
   },
   {
    "duration": 36,
    "start_time": "2022-04-22T19:51:20.061Z"
   },
   {
    "duration": 9,
    "start_time": "2022-04-22T19:51:20.098Z"
   },
   {
    "duration": 27,
    "start_time": "2022-04-22T19:51:20.109Z"
   },
   {
    "duration": 24,
    "start_time": "2022-04-22T19:51:20.138Z"
   },
   {
    "duration": 67,
    "start_time": "2022-04-22T19:51:20.164Z"
   },
   {
    "duration": 4,
    "start_time": "2022-04-22T19:51:20.233Z"
   },
   {
    "duration": 407,
    "start_time": "2022-04-22T19:51:20.238Z"
   },
   {
    "duration": 28,
    "start_time": "2022-04-22T19:51:20.647Z"
   },
   {
    "duration": 83,
    "start_time": "2022-04-22T19:51:23.084Z"
   },
   {
    "duration": 34,
    "start_time": "2022-04-22T19:51:44.150Z"
   },
   {
    "duration": 25,
    "start_time": "2022-04-22T19:51:52.172Z"
   },
   {
    "duration": 2,
    "start_time": "2022-04-22T19:52:00.691Z"
   },
   {
    "duration": 118,
    "start_time": "2022-04-22T19:52:00.698Z"
   },
   {
    "duration": 24,
    "start_time": "2022-04-22T19:52:00.818Z"
   },
   {
    "duration": 34,
    "start_time": "2022-04-22T19:52:00.844Z"
   },
   {
    "duration": 28,
    "start_time": "2022-04-22T19:52:00.892Z"
   },
   {
    "duration": 82,
    "start_time": "2022-04-22T19:52:00.921Z"
   },
   {
    "duration": 17,
    "start_time": "2022-04-22T19:52:01.004Z"
   },
   {
    "duration": 16,
    "start_time": "2022-04-22T19:52:01.022Z"
   },
   {
    "duration": 23,
    "start_time": "2022-04-22T19:52:01.039Z"
   },
   {
    "duration": 6,
    "start_time": "2022-04-22T19:52:01.064Z"
   },
   {
    "duration": 22,
    "start_time": "2022-04-22T19:52:01.072Z"
   },
   {
    "duration": 6,
    "start_time": "2022-04-22T19:52:01.096Z"
   },
   {
    "duration": 12,
    "start_time": "2022-04-22T19:52:01.103Z"
   },
   {
    "duration": 36,
    "start_time": "2022-04-22T19:52:01.117Z"
   },
   {
    "duration": 49,
    "start_time": "2022-04-22T19:52:01.155Z"
   },
   {
    "duration": 25,
    "start_time": "2022-04-22T19:52:05.061Z"
   },
   {
    "duration": 5,
    "start_time": "2022-04-22T19:52:14.321Z"
   },
   {
    "duration": 5,
    "start_time": "2022-04-22T19:52:19.352Z"
   },
   {
    "duration": 8,
    "start_time": "2022-04-22T19:52:21.241Z"
   },
   {
    "duration": 27,
    "start_time": "2022-04-22T19:52:23.541Z"
   },
   {
    "duration": 25,
    "start_time": "2022-04-22T19:52:37.677Z"
   },
   {
    "duration": 3,
    "start_time": "2022-04-22T19:53:54.451Z"
   },
   {
    "duration": 106,
    "start_time": "2022-04-22T19:53:54.458Z"
   },
   {
    "duration": 40,
    "start_time": "2022-04-22T19:53:54.566Z"
   },
   {
    "duration": 30,
    "start_time": "2022-04-22T19:53:54.607Z"
   },
   {
    "duration": 14,
    "start_time": "2022-04-22T19:53:54.639Z"
   },
   {
    "duration": 94,
    "start_time": "2022-04-22T19:53:54.655Z"
   },
   {
    "duration": 16,
    "start_time": "2022-04-22T19:53:54.751Z"
   },
   {
    "duration": 28,
    "start_time": "2022-04-22T19:53:54.769Z"
   },
   {
    "duration": 9,
    "start_time": "2022-04-22T19:53:54.799Z"
   },
   {
    "duration": 5,
    "start_time": "2022-04-22T19:53:54.810Z"
   },
   {
    "duration": 4,
    "start_time": "2022-04-22T19:53:54.817Z"
   },
   {
    "duration": 6,
    "start_time": "2022-04-22T19:53:54.822Z"
   },
   {
    "duration": 5,
    "start_time": "2022-04-22T19:53:54.829Z"
   },
   {
    "duration": 67,
    "start_time": "2022-04-22T19:53:54.835Z"
   },
   {
    "duration": 10,
    "start_time": "2022-04-22T19:53:54.903Z"
   },
   {
    "duration": 14,
    "start_time": "2022-04-22T19:53:54.914Z"
   },
   {
    "duration": 5,
    "start_time": "2022-04-22T19:53:54.929Z"
   },
   {
    "duration": 15,
    "start_time": "2022-04-22T19:53:54.936Z"
   },
   {
    "duration": 11,
    "start_time": "2022-04-22T19:53:54.953Z"
   },
   {
    "duration": 31,
    "start_time": "2022-04-22T19:53:54.966Z"
   },
   {
    "duration": 26,
    "start_time": "2022-04-22T19:53:54.999Z"
   },
   {
    "duration": 26,
    "start_time": "2022-04-22T19:53:58.149Z"
   },
   {
    "duration": 219,
    "start_time": "2022-04-22T19:54:50.551Z"
   },
   {
    "duration": 1342,
    "start_time": "2022-04-22T19:54:55.994Z"
   },
   {
    "duration": 6059,
    "start_time": "2022-04-22T19:55:13.452Z"
   },
   {
    "duration": 1824,
    "start_time": "2022-04-22T19:55:28.771Z"
   },
   {
    "duration": 1537,
    "start_time": "2022-04-22T19:55:49.231Z"
   },
   {
    "duration": 13985,
    "start_time": "2022-04-22T19:56:23.376Z"
   },
   {
    "duration": 1395,
    "start_time": "2022-04-22T20:11:31.978Z"
   },
   {
    "duration": 2056,
    "start_time": "2022-04-22T20:20:12.930Z"
   },
   {
    "duration": 2549,
    "start_time": "2022-04-22T20:20:23.109Z"
   },
   {
    "duration": 2292,
    "start_time": "2022-04-22T20:21:19.486Z"
   },
   {
    "duration": 1419,
    "start_time": "2022-04-22T20:22:19.850Z"
   },
   {
    "duration": 131,
    "start_time": "2022-04-22T20:30:45.247Z"
   },
   {
    "duration": 115,
    "start_time": "2022-04-22T20:31:02.618Z"
   },
   {
    "duration": 8,
    "start_time": "2022-04-22T20:31:14.683Z"
   },
   {
    "duration": 9,
    "start_time": "2022-04-22T20:31:28.625Z"
   },
   {
    "duration": 3,
    "start_time": "2022-04-22T20:33:20.494Z"
   },
   {
    "duration": 7,
    "start_time": "2022-04-22T20:34:14.813Z"
   },
   {
    "duration": 9,
    "start_time": "2022-04-23T17:44:33.825Z"
   },
   {
    "duration": 1129,
    "start_time": "2022-04-23T17:44:39.021Z"
   },
   {
    "duration": 98,
    "start_time": "2022-04-23T17:44:40.152Z"
   },
   {
    "duration": 24,
    "start_time": "2022-04-23T17:44:40.252Z"
   },
   {
    "duration": 51,
    "start_time": "2022-04-23T17:44:40.279Z"
   },
   {
    "duration": 20,
    "start_time": "2022-04-23T17:44:40.332Z"
   },
   {
    "duration": 79,
    "start_time": "2022-04-23T17:44:40.355Z"
   },
   {
    "duration": 17,
    "start_time": "2022-04-23T17:44:40.436Z"
   },
   {
    "duration": 10,
    "start_time": "2022-04-23T17:44:40.454Z"
   },
   {
    "duration": 11,
    "start_time": "2022-04-23T17:44:40.466Z"
   },
   {
    "duration": 5,
    "start_time": "2022-04-23T17:44:40.480Z"
   },
   {
    "duration": 60,
    "start_time": "2022-04-23T17:44:40.486Z"
   },
   {
    "duration": 6,
    "start_time": "2022-04-23T17:44:40.549Z"
   },
   {
    "duration": 3,
    "start_time": "2022-04-23T17:44:40.557Z"
   },
   {
    "duration": 23,
    "start_time": "2022-04-23T17:44:40.562Z"
   },
   {
    "duration": 8,
    "start_time": "2022-04-23T17:44:40.587Z"
   },
   {
    "duration": 13,
    "start_time": "2022-04-23T17:44:40.596Z"
   },
   {
    "duration": 24,
    "start_time": "2022-04-23T17:44:40.611Z"
   },
   {
    "duration": 13,
    "start_time": "2022-04-23T17:44:40.637Z"
   },
   {
    "duration": 7,
    "start_time": "2022-04-23T17:44:40.652Z"
   },
   {
    "duration": 20,
    "start_time": "2022-04-23T17:44:40.662Z"
   },
   {
    "duration": 29,
    "start_time": "2022-04-23T17:44:40.684Z"
   },
   {
    "duration": 31,
    "start_time": "2022-04-23T17:44:40.714Z"
   },
   {
    "duration": 42,
    "start_time": "2022-04-23T17:44:40.746Z"
   },
   {
    "duration": 3,
    "start_time": "2022-04-23T17:44:40.790Z"
   },
   {
    "duration": 371,
    "start_time": "2022-04-23T17:44:40.794Z"
   },
   {
    "duration": 25,
    "start_time": "2022-04-23T17:44:41.167Z"
   },
   {
    "duration": 95,
    "start_time": "2022-04-23T17:44:41.193Z"
   },
   {
    "duration": 1351,
    "start_time": "2022-04-23T17:44:41.292Z"
   },
   {
    "duration": 2267,
    "start_time": "2022-04-23T17:44:42.646Z"
   },
   {
    "duration": 16,
    "start_time": "2022-04-23T17:44:44.915Z"
   },
   {
    "duration": 8,
    "start_time": "2022-04-23T17:44:44.935Z"
   },
   {
    "duration": 4,
    "start_time": "2022-04-23T17:44:51.034Z"
   },
   {
    "duration": 99,
    "start_time": "2022-04-23T17:45:34.959Z"
   },
   {
    "duration": 6,
    "start_time": "2022-04-23T17:46:09.798Z"
   },
   {
    "duration": 4,
    "start_time": "2022-04-23T17:46:27.701Z"
   },
   {
    "duration": 40,
    "start_time": "2022-04-23T17:46:28.622Z"
   },
   {
    "duration": 4,
    "start_time": "2022-04-23T17:47:15.354Z"
   },
   {
    "duration": 13,
    "start_time": "2022-04-23T17:47:17.969Z"
   },
   {
    "duration": 16,
    "start_time": "2022-04-23T17:47:27.839Z"
   },
   {
    "duration": 4,
    "start_time": "2022-04-23T17:48:37.340Z"
   },
   {
    "duration": 23,
    "start_time": "2022-04-23T17:48:38.777Z"
   },
   {
    "duration": 4,
    "start_time": "2022-04-23T17:49:52.242Z"
   },
   {
    "duration": 18,
    "start_time": "2022-04-23T17:49:53.774Z"
   },
   {
    "duration": 4,
    "start_time": "2022-04-23T17:50:33.015Z"
   },
   {
    "duration": 46,
    "start_time": "2022-04-23T17:50:34.339Z"
   },
   {
    "duration": 50,
    "start_time": "2022-04-23T17:51:13.910Z"
   },
   {
    "duration": 64,
    "start_time": "2022-04-23T17:51:26.834Z"
   },
   {
    "duration": 14,
    "start_time": "2022-04-23T17:52:33.418Z"
   },
   {
    "duration": 71,
    "start_time": "2022-04-23T17:52:35.891Z"
   },
   {
    "duration": 3,
    "start_time": "2022-04-23T17:54:18.504Z"
   },
   {
    "duration": 120,
    "start_time": "2022-04-23T17:54:18.511Z"
   },
   {
    "duration": 36,
    "start_time": "2022-04-23T17:54:18.634Z"
   },
   {
    "duration": 67,
    "start_time": "2022-04-23T17:54:18.672Z"
   },
   {
    "duration": 20,
    "start_time": "2022-04-23T17:54:18.742Z"
   },
   {
    "duration": 82,
    "start_time": "2022-04-23T17:54:18.764Z"
   },
   {
    "duration": 15,
    "start_time": "2022-04-23T17:54:18.848Z"
   },
   {
    "duration": 9,
    "start_time": "2022-04-23T17:54:18.864Z"
   },
   {
    "duration": 9,
    "start_time": "2022-04-23T17:54:18.875Z"
   },
   {
    "duration": 6,
    "start_time": "2022-04-23T17:54:18.886Z"
   },
   {
    "duration": 11,
    "start_time": "2022-04-23T17:54:18.925Z"
   },
   {
    "duration": 12,
    "start_time": "2022-04-23T17:54:18.938Z"
   },
   {
    "duration": 18,
    "start_time": "2022-04-23T17:54:18.951Z"
   },
   {
    "duration": 21,
    "start_time": "2022-04-23T17:54:18.971Z"
   },
   {
    "duration": 9,
    "start_time": "2022-04-23T17:54:18.994Z"
   },
   {
    "duration": 38,
    "start_time": "2022-04-23T17:54:19.004Z"
   },
   {
    "duration": 11,
    "start_time": "2022-04-23T17:54:19.043Z"
   },
   {
    "duration": 9,
    "start_time": "2022-04-23T17:54:19.055Z"
   },
   {
    "duration": 25,
    "start_time": "2022-04-23T17:54:19.065Z"
   },
   {
    "duration": 25,
    "start_time": "2022-04-23T17:54:19.091Z"
   },
   {
    "duration": 35,
    "start_time": "2022-04-23T17:54:19.118Z"
   },
   {
    "duration": 24,
    "start_time": "2022-04-23T17:54:19.155Z"
   },
   {
    "duration": 45,
    "start_time": "2022-04-23T17:54:19.181Z"
   },
   {
    "duration": 5,
    "start_time": "2022-04-23T17:54:19.227Z"
   },
   {
    "duration": 442,
    "start_time": "2022-04-23T17:54:19.235Z"
   },
   {
    "duration": 22,
    "start_time": "2022-04-23T17:54:19.679Z"
   },
   {
    "duration": 89,
    "start_time": "2022-04-23T17:54:19.703Z"
   },
   {
    "duration": 840,
    "start_time": "2022-04-23T17:54:19.793Z"
   },
   {
    "duration": 1176,
    "start_time": "2022-04-23T17:54:20.640Z"
   },
   {
    "duration": 11,
    "start_time": "2022-04-23T17:54:21.817Z"
   },
   {
    "duration": 17,
    "start_time": "2022-04-23T17:54:21.831Z"
   },
   {
    "duration": 12,
    "start_time": "2022-04-23T17:54:23.946Z"
   },
   {
    "duration": 39,
    "start_time": "2022-04-23T17:54:27.238Z"
   },
   {
    "duration": 36,
    "start_time": "2022-04-23T17:54:35.345Z"
   },
   {
    "duration": 8,
    "start_time": "2022-04-23T17:56:55.580Z"
   },
   {
    "duration": 39,
    "start_time": "2022-04-23T17:57:11.451Z"
   },
   {
    "duration": 24,
    "start_time": "2022-04-23T18:21:05.215Z"
   },
   {
    "duration": 97,
    "start_time": "2022-04-23T18:22:54.276Z"
   },
   {
    "duration": 88,
    "start_time": "2022-04-23T18:23:14.120Z"
   },
   {
    "duration": 77,
    "start_time": "2022-04-23T18:23:47.277Z"
   },
   {
    "duration": 66,
    "start_time": "2022-04-23T18:25:15.368Z"
   },
   {
    "duration": 3,
    "start_time": "2022-04-23T18:25:43.202Z"
   },
   {
    "duration": 88,
    "start_time": "2022-04-23T18:25:43.208Z"
   },
   {
    "duration": 37,
    "start_time": "2022-04-23T18:25:43.298Z"
   },
   {
    "duration": 26,
    "start_time": "2022-04-23T18:25:43.336Z"
   },
   {
    "duration": 13,
    "start_time": "2022-04-23T18:25:43.364Z"
   },
   {
    "duration": 86,
    "start_time": "2022-04-23T18:25:43.378Z"
   },
   {
    "duration": 13,
    "start_time": "2022-04-23T18:25:43.465Z"
   },
   {
    "duration": 7,
    "start_time": "2022-04-23T18:25:43.480Z"
   },
   {
    "duration": 9,
    "start_time": "2022-04-23T18:25:43.488Z"
   },
   {
    "duration": 31,
    "start_time": "2022-04-23T18:25:43.499Z"
   },
   {
    "duration": 19,
    "start_time": "2022-04-23T18:25:43.533Z"
   },
   {
    "duration": 10,
    "start_time": "2022-04-23T18:25:43.553Z"
   },
   {
    "duration": 13,
    "start_time": "2022-04-23T18:25:43.565Z"
   },
   {
    "duration": 26,
    "start_time": "2022-04-23T18:25:43.580Z"
   },
   {
    "duration": 11,
    "start_time": "2022-04-23T18:25:43.607Z"
   },
   {
    "duration": 16,
    "start_time": "2022-04-23T18:25:43.620Z"
   },
   {
    "duration": 5,
    "start_time": "2022-04-23T18:25:43.638Z"
   },
   {
    "duration": 5,
    "start_time": "2022-04-23T18:25:43.644Z"
   },
   {
    "duration": 5,
    "start_time": "2022-04-23T18:25:43.651Z"
   },
   {
    "duration": 10,
    "start_time": "2022-04-23T18:25:43.657Z"
   },
   {
    "duration": 21,
    "start_time": "2022-04-23T18:25:43.668Z"
   },
   {
    "duration": 47,
    "start_time": "2022-04-23T18:25:43.690Z"
   },
   {
    "duration": 39,
    "start_time": "2022-04-23T18:25:43.739Z"
   },
   {
    "duration": 3,
    "start_time": "2022-04-23T18:25:43.780Z"
   },
   {
    "duration": 431,
    "start_time": "2022-04-23T18:25:43.784Z"
   },
   {
    "duration": 30,
    "start_time": "2022-04-23T18:25:44.216Z"
   },
   {
    "duration": 92,
    "start_time": "2022-04-23T18:25:44.248Z"
   },
   {
    "duration": 1097,
    "start_time": "2022-04-23T18:25:44.342Z"
   },
   {
    "duration": 2072,
    "start_time": "2022-04-23T18:25:45.443Z"
   },
   {
    "duration": 11,
    "start_time": "2022-04-23T18:25:47.524Z"
   },
   {
    "duration": 18,
    "start_time": "2022-04-23T18:25:47.538Z"
   },
   {
    "duration": 4,
    "start_time": "2022-04-23T18:25:47.557Z"
   },
   {
    "duration": 42,
    "start_time": "2022-04-23T18:25:57.230Z"
   },
   {
    "duration": 221,
    "start_time": "2022-04-23T18:26:05.906Z"
   },
   {
    "duration": 4,
    "start_time": "2022-04-23T18:27:12.819Z"
   },
   {
    "duration": 13,
    "start_time": "2022-04-23T18:29:00.267Z"
   },
   {
    "duration": 22,
    "start_time": "2022-04-23T18:31:31.873Z"
   },
   {
    "duration": 9,
    "start_time": "2022-04-23T18:33:55.075Z"
   },
   {
    "duration": 4,
    "start_time": "2022-04-23T18:35:36.486Z"
   },
   {
    "duration": 13,
    "start_time": "2022-04-23T18:35:41.471Z"
   },
   {
    "duration": 133,
    "start_time": "2022-04-23T18:37:50.575Z"
   },
   {
    "duration": 8,
    "start_time": "2022-04-23T18:44:42.892Z"
   },
   {
    "duration": 16,
    "start_time": "2022-04-23T18:44:55.130Z"
   },
   {
    "duration": 17,
    "start_time": "2022-04-23T18:47:44.410Z"
   },
   {
    "duration": 14,
    "start_time": "2022-04-23T18:47:56.128Z"
   },
   {
    "duration": 1649,
    "start_time": "2022-04-23T18:53:33.605Z"
   },
   {
    "duration": 13,
    "start_time": "2022-04-23T18:55:15.611Z"
   },
   {
    "duration": 11,
    "start_time": "2022-04-23T18:55:25.361Z"
   },
   {
    "duration": 824,
    "start_time": "2022-04-23T18:56:30.701Z"
   },
   {
    "duration": 121,
    "start_time": "2022-04-23T18:59:36.399Z"
   },
   {
    "duration": 1640,
    "start_time": "2022-04-23T18:59:44.159Z"
   },
   {
    "duration": 101,
    "start_time": "2022-04-23T19:01:49.122Z"
   },
   {
    "duration": 9,
    "start_time": "2022-04-23T19:01:58.246Z"
   },
   {
    "duration": 3,
    "start_time": "2022-04-23T19:02:13.147Z"
   },
   {
    "duration": 97,
    "start_time": "2022-04-23T19:02:13.153Z"
   },
   {
    "duration": 20,
    "start_time": "2022-04-23T19:02:13.252Z"
   },
   {
    "duration": 24,
    "start_time": "2022-04-23T19:02:13.273Z"
   },
   {
    "duration": 17,
    "start_time": "2022-04-23T19:02:13.325Z"
   },
   {
    "duration": 107,
    "start_time": "2022-04-23T19:02:13.344Z"
   },
   {
    "duration": 21,
    "start_time": "2022-04-23T19:02:13.453Z"
   },
   {
    "duration": 8,
    "start_time": "2022-04-23T19:02:13.477Z"
   },
   {
    "duration": 8,
    "start_time": "2022-04-23T19:02:13.486Z"
   },
   {
    "duration": 30,
    "start_time": "2022-04-23T19:02:13.495Z"
   },
   {
    "duration": 6,
    "start_time": "2022-04-23T19:02:13.527Z"
   },
   {
    "duration": 13,
    "start_time": "2022-04-23T19:02:13.536Z"
   },
   {
    "duration": 4,
    "start_time": "2022-04-23T19:02:13.551Z"
   },
   {
    "duration": 34,
    "start_time": "2022-04-23T19:02:13.556Z"
   },
   {
    "duration": 12,
    "start_time": "2022-04-23T19:02:13.592Z"
   },
   {
    "duration": 16,
    "start_time": "2022-04-23T19:02:13.626Z"
   },
   {
    "duration": 2,
    "start_time": "2022-04-23T19:02:13.644Z"
   },
   {
    "duration": 8,
    "start_time": "2022-04-23T19:02:13.647Z"
   },
   {
    "duration": 6,
    "start_time": "2022-04-23T19:02:13.656Z"
   },
   {
    "duration": 10,
    "start_time": "2022-04-23T19:02:13.663Z"
   },
   {
    "duration": 22,
    "start_time": "2022-04-23T19:02:13.674Z"
   },
   {
    "duration": 51,
    "start_time": "2022-04-23T19:02:13.698Z"
   },
   {
    "duration": 54,
    "start_time": "2022-04-23T19:02:13.750Z"
   },
   {
    "duration": 18,
    "start_time": "2022-04-23T19:02:13.807Z"
   },
   {
    "duration": 555,
    "start_time": "2022-04-23T19:02:13.828Z"
   },
   {
    "duration": 25,
    "start_time": "2022-04-23T19:02:14.384Z"
   },
   {
    "duration": 126,
    "start_time": "2022-04-23T19:02:14.411Z"
   },
   {
    "duration": 854,
    "start_time": "2022-04-23T19:02:14.538Z"
   },
   {
    "duration": 1349,
    "start_time": "2022-04-23T19:02:15.395Z"
   },
   {
    "duration": 9,
    "start_time": "2022-04-23T19:02:16.745Z"
   },
   {
    "duration": 6,
    "start_time": "2022-04-23T19:02:16.755Z"
   },
   {
    "duration": 5,
    "start_time": "2022-04-23T19:02:16.762Z"
   },
   {
    "duration": 67,
    "start_time": "2022-04-23T19:02:16.768Z"
   },
   {
    "duration": 74,
    "start_time": "2022-04-23T19:02:16.837Z"
   },
   {
    "duration": 10,
    "start_time": "2022-04-23T19:02:20.924Z"
   },
   {
    "duration": 6,
    "start_time": "2022-04-23T19:03:21.866Z"
   },
   {
    "duration": 5,
    "start_time": "2022-04-23T19:04:57.341Z"
   },
   {
    "duration": 6,
    "start_time": "2022-04-23T19:07:44.876Z"
   },
   {
    "duration": 4,
    "start_time": "2022-04-23T19:07:55.644Z"
   },
   {
    "duration": 76,
    "start_time": "2022-04-23T19:08:02.025Z"
   },
   {
    "duration": 17,
    "start_time": "2022-04-23T19:08:24.667Z"
   },
   {
    "duration": 61,
    "start_time": "2022-04-23T19:08:39.111Z"
   },
   {
    "duration": 3,
    "start_time": "2022-04-23T19:08:43.388Z"
   },
   {
    "duration": 101,
    "start_time": "2022-04-23T19:08:43.395Z"
   },
   {
    "duration": 21,
    "start_time": "2022-04-23T19:08:43.498Z"
   },
   {
    "duration": 33,
    "start_time": "2022-04-23T19:08:43.524Z"
   },
   {
    "duration": 11,
    "start_time": "2022-04-23T19:08:43.559Z"
   },
   {
    "duration": 83,
    "start_time": "2022-04-23T19:08:43.572Z"
   },
   {
    "duration": 14,
    "start_time": "2022-04-23T19:08:43.656Z"
   },
   {
    "duration": 8,
    "start_time": "2022-04-23T19:08:43.672Z"
   },
   {
    "duration": 10,
    "start_time": "2022-04-23T19:08:43.681Z"
   },
   {
    "duration": 32,
    "start_time": "2022-04-23T19:08:43.692Z"
   },
   {
    "duration": 6,
    "start_time": "2022-04-23T19:08:43.729Z"
   },
   {
    "duration": 12,
    "start_time": "2022-04-23T19:08:43.736Z"
   },
   {
    "duration": 5,
    "start_time": "2022-04-23T19:08:43.749Z"
   },
   {
    "duration": 24,
    "start_time": "2022-04-23T19:08:43.756Z"
   },
   {
    "duration": 9,
    "start_time": "2022-04-23T19:08:43.782Z"
   },
   {
    "duration": 12,
    "start_time": "2022-04-23T19:08:43.793Z"
   },
   {
    "duration": 2,
    "start_time": "2022-04-23T19:08:43.832Z"
   },
   {
    "duration": 11,
    "start_time": "2022-04-23T19:08:43.836Z"
   },
   {
    "duration": 5,
    "start_time": "2022-04-23T19:08:43.848Z"
   },
   {
    "duration": 9,
    "start_time": "2022-04-23T19:08:43.855Z"
   },
   {
    "duration": 24,
    "start_time": "2022-04-23T19:08:43.865Z"
   },
   {
    "duration": 49,
    "start_time": "2022-04-23T19:08:43.891Z"
   },
   {
    "duration": 60,
    "start_time": "2022-04-23T19:08:43.942Z"
   },
   {
    "duration": 3,
    "start_time": "2022-04-23T19:08:44.004Z"
   },
   {
    "duration": 338,
    "start_time": "2022-04-23T19:08:44.023Z"
   },
   {
    "duration": 22,
    "start_time": "2022-04-23T19:08:44.363Z"
   },
   {
    "duration": 88,
    "start_time": "2022-04-23T19:08:44.387Z"
   },
   {
    "duration": 902,
    "start_time": "2022-04-23T19:08:44.477Z"
   },
   {
    "duration": 1158,
    "start_time": "2022-04-23T19:08:45.382Z"
   },
   {
    "duration": 8,
    "start_time": "2022-04-23T19:08:46.541Z"
   },
   {
    "duration": 5,
    "start_time": "2022-04-23T19:08:46.550Z"
   },
   {
    "duration": 6,
    "start_time": "2022-04-23T19:08:46.556Z"
   },
   {
    "duration": 40,
    "start_time": "2022-04-23T19:08:46.563Z"
   },
   {
    "duration": 72,
    "start_time": "2022-04-23T19:08:50.290Z"
   },
   {
    "duration": 21,
    "start_time": "2022-04-23T19:09:03.463Z"
   },
   {
    "duration": 64,
    "start_time": "2022-04-23T19:09:06.778Z"
   },
   {
    "duration": 17,
    "start_time": "2022-04-23T19:09:11.393Z"
   },
   {
    "duration": 63,
    "start_time": "2022-04-23T19:09:14.277Z"
   },
   {
    "duration": 7,
    "start_time": "2022-04-23T19:09:24.432Z"
   },
   {
    "duration": 147,
    "start_time": "2022-04-23T19:09:24.447Z"
   },
   {
    "duration": 54,
    "start_time": "2022-04-23T19:09:24.596Z"
   },
   {
    "duration": 46,
    "start_time": "2022-04-23T19:09:24.653Z"
   },
   {
    "duration": 43,
    "start_time": "2022-04-23T19:09:24.701Z"
   },
   {
    "duration": 66,
    "start_time": "2022-04-23T19:09:24.745Z"
   },
   {
    "duration": 26,
    "start_time": "2022-04-23T19:09:24.813Z"
   },
   {
    "duration": 11,
    "start_time": "2022-04-23T19:09:24.841Z"
   },
   {
    "duration": 13,
    "start_time": "2022-04-23T19:09:24.854Z"
   },
   {
    "duration": 6,
    "start_time": "2022-04-23T19:09:24.869Z"
   },
   {
    "duration": 28,
    "start_time": "2022-04-23T19:09:24.876Z"
   },
   {
    "duration": 22,
    "start_time": "2022-04-23T19:09:24.905Z"
   },
   {
    "duration": 21,
    "start_time": "2022-04-23T19:09:24.929Z"
   },
   {
    "duration": 52,
    "start_time": "2022-04-23T19:09:24.953Z"
   },
   {
    "duration": 13,
    "start_time": "2022-04-23T19:09:25.007Z"
   },
   {
    "duration": 38,
    "start_time": "2022-04-23T19:09:25.021Z"
   },
   {
    "duration": 3,
    "start_time": "2022-04-23T19:09:25.061Z"
   },
   {
    "duration": 24,
    "start_time": "2022-04-23T19:09:25.066Z"
   },
   {
    "duration": 17,
    "start_time": "2022-04-23T19:09:25.092Z"
   },
   {
    "duration": 32,
    "start_time": "2022-04-23T19:09:25.111Z"
   },
   {
    "duration": 23,
    "start_time": "2022-04-23T19:09:25.145Z"
   },
   {
    "duration": 24,
    "start_time": "2022-04-23T19:09:25.169Z"
   },
   {
    "duration": 41,
    "start_time": "2022-04-23T19:09:25.195Z"
   },
   {
    "duration": 4,
    "start_time": "2022-04-23T19:09:25.241Z"
   },
   {
    "duration": 429,
    "start_time": "2022-04-23T19:09:25.247Z"
   },
   {
    "duration": 22,
    "start_time": "2022-04-23T19:09:25.677Z"
   },
   {
    "duration": 89,
    "start_time": "2022-04-23T19:09:25.701Z"
   },
   {
    "duration": 812,
    "start_time": "2022-04-23T19:09:25.792Z"
   },
   {
    "duration": 1174,
    "start_time": "2022-04-23T19:09:26.606Z"
   },
   {
    "duration": 7,
    "start_time": "2022-04-23T19:09:27.781Z"
   },
   {
    "duration": 6,
    "start_time": "2022-04-23T19:09:27.790Z"
   },
   {
    "duration": 4,
    "start_time": "2022-04-23T19:09:27.798Z"
   },
   {
    "duration": 66,
    "start_time": "2022-04-23T19:09:27.804Z"
   },
   {
    "duration": 3,
    "start_time": "2022-04-23T19:09:48.855Z"
   },
   {
    "duration": 128,
    "start_time": "2022-04-23T19:09:48.861Z"
   },
   {
    "duration": 46,
    "start_time": "2022-04-23T19:09:48.992Z"
   },
   {
    "duration": 51,
    "start_time": "2022-04-23T19:09:49.040Z"
   },
   {
    "duration": 33,
    "start_time": "2022-04-23T19:09:49.094Z"
   },
   {
    "duration": 66,
    "start_time": "2022-04-23T19:09:49.129Z"
   },
   {
    "duration": 27,
    "start_time": "2022-04-23T19:09:49.196Z"
   },
   {
    "duration": 11,
    "start_time": "2022-04-23T19:09:49.225Z"
   },
   {
    "duration": 21,
    "start_time": "2022-04-23T19:09:49.237Z"
   },
   {
    "duration": 8,
    "start_time": "2022-04-23T19:09:49.259Z"
   },
   {
    "duration": 5,
    "start_time": "2022-04-23T19:09:49.270Z"
   },
   {
    "duration": 10,
    "start_time": "2022-04-23T19:09:49.276Z"
   },
   {
    "duration": 7,
    "start_time": "2022-04-23T19:09:49.288Z"
   },
   {
    "duration": 38,
    "start_time": "2022-04-23T19:09:49.297Z"
   },
   {
    "duration": 9,
    "start_time": "2022-04-23T19:09:49.343Z"
   },
   {
    "duration": 14,
    "start_time": "2022-04-23T19:09:49.353Z"
   },
   {
    "duration": 2,
    "start_time": "2022-04-23T19:09:49.369Z"
   },
   {
    "duration": 9,
    "start_time": "2022-04-23T19:09:49.372Z"
   },
   {
    "duration": 9,
    "start_time": "2022-04-23T19:09:49.382Z"
   },
   {
    "duration": 11,
    "start_time": "2022-04-23T19:09:49.392Z"
   },
   {
    "duration": 46,
    "start_time": "2022-04-23T19:09:49.404Z"
   },
   {
    "duration": 23,
    "start_time": "2022-04-23T19:09:49.451Z"
   },
   {
    "duration": 54,
    "start_time": "2022-04-23T19:09:49.476Z"
   },
   {
    "duration": 8,
    "start_time": "2022-04-23T19:09:49.531Z"
   },
   {
    "duration": 463,
    "start_time": "2022-04-23T19:09:49.541Z"
   },
   {
    "duration": 38,
    "start_time": "2022-04-23T19:09:50.006Z"
   },
   {
    "duration": 89,
    "start_time": "2022-04-23T19:09:50.046Z"
   },
   {
    "duration": 1514,
    "start_time": "2022-04-23T19:09:50.136Z"
   },
   {
    "duration": 1702,
    "start_time": "2022-04-23T19:09:51.655Z"
   },
   {
    "duration": 9,
    "start_time": "2022-04-23T19:09:53.358Z"
   },
   {
    "duration": 6,
    "start_time": "2022-04-23T19:09:53.369Z"
   },
   {
    "duration": 42,
    "start_time": "2022-04-23T19:10:12.954Z"
   },
   {
    "duration": 27,
    "start_time": "2022-04-23T19:10:23.020Z"
   },
   {
    "duration": 92,
    "start_time": "2022-04-23T19:10:26.748Z"
   },
   {
    "duration": 5,
    "start_time": "2022-04-23T19:10:34.982Z"
   },
   {
    "duration": 7,
    "start_time": "2022-04-23T19:10:38.070Z"
   },
   {
    "duration": 5,
    "start_time": "2022-04-23T19:11:07.772Z"
   },
   {
    "duration": 5,
    "start_time": "2022-04-23T19:12:04.970Z"
   },
   {
    "duration": 7,
    "start_time": "2022-04-23T19:12:08.143Z"
   },
   {
    "duration": 365,
    "start_time": "2022-04-23T19:12:58.598Z"
   },
   {
    "duration": 22,
    "start_time": "2022-04-23T19:16:50.366Z"
   },
   {
    "duration": 37,
    "start_time": "2022-04-23T19:17:35.037Z"
   },
   {
    "duration": 30,
    "start_time": "2022-04-23T19:19:00.265Z"
   },
   {
    "duration": 37,
    "start_time": "2022-04-23T19:25:50.287Z"
   },
   {
    "duration": 47,
    "start_time": "2022-04-23T19:27:15.837Z"
   },
   {
    "duration": 91,
    "start_time": "2022-04-23T19:28:58.896Z"
   },
   {
    "duration": 96,
    "start_time": "2022-04-23T19:29:12.492Z"
   },
   {
    "duration": 46,
    "start_time": "2022-04-23T19:29:30.396Z"
   },
   {
    "duration": 120,
    "start_time": "2022-04-23T19:39:44.823Z"
   },
   {
    "duration": 5,
    "start_time": "2022-04-23T19:39:52.682Z"
   },
   {
    "duration": 30,
    "start_time": "2022-04-23T19:40:05.803Z"
   },
   {
    "duration": 16,
    "start_time": "2022-04-23T19:40:25.137Z"
   },
   {
    "duration": 19,
    "start_time": "2022-04-23T19:41:57.899Z"
   },
   {
    "duration": 14,
    "start_time": "2022-04-23T19:42:20.746Z"
   },
   {
    "duration": 3,
    "start_time": "2022-04-23T19:42:26.983Z"
   },
   {
    "duration": 4,
    "start_time": "2022-04-23T19:42:36.367Z"
   },
   {
    "duration": 4,
    "start_time": "2022-04-23T19:42:41.201Z"
   },
   {
    "duration": 5,
    "start_time": "2022-04-23T19:42:47.449Z"
   },
   {
    "duration": 18,
    "start_time": "2022-04-23T19:42:54.114Z"
   },
   {
    "duration": 5,
    "start_time": "2022-04-23T19:43:42.295Z"
   },
   {
    "duration": 11,
    "start_time": "2022-04-23T19:43:53.359Z"
   },
   {
    "duration": 4,
    "start_time": "2022-04-23T19:44:06.119Z"
   },
   {
    "duration": 22,
    "start_time": "2022-04-23T19:44:24.274Z"
   },
   {
    "duration": 8,
    "start_time": "2022-04-23T19:44:53.437Z"
   },
   {
    "duration": 33,
    "start_time": "2022-04-23T19:44:55.509Z"
   },
   {
    "duration": 2,
    "start_time": "2022-04-23T19:45:58.469Z"
   },
   {
    "duration": 88,
    "start_time": "2022-04-23T19:45:58.477Z"
   },
   {
    "duration": 23,
    "start_time": "2022-04-23T19:45:58.567Z"
   },
   {
    "duration": 50,
    "start_time": "2022-04-23T19:45:58.592Z"
   },
   {
    "duration": 14,
    "start_time": "2022-04-23T19:45:58.645Z"
   },
   {
    "duration": 82,
    "start_time": "2022-04-23T19:45:58.661Z"
   },
   {
    "duration": 15,
    "start_time": "2022-04-23T19:45:58.744Z"
   },
   {
    "duration": 8,
    "start_time": "2022-04-23T19:45:58.761Z"
   },
   {
    "duration": 9,
    "start_time": "2022-04-23T19:45:58.771Z"
   },
   {
    "duration": 4,
    "start_time": "2022-04-23T19:45:58.782Z"
   },
   {
    "duration": 42,
    "start_time": "2022-04-23T19:45:58.789Z"
   },
   {
    "duration": 6,
    "start_time": "2022-04-23T19:45:58.833Z"
   },
   {
    "duration": 5,
    "start_time": "2022-04-23T19:45:58.841Z"
   },
   {
    "duration": 25,
    "start_time": "2022-04-23T19:45:58.848Z"
   },
   {
    "duration": 11,
    "start_time": "2022-04-23T19:45:58.874Z"
   },
   {
    "duration": 12,
    "start_time": "2022-04-23T19:45:58.887Z"
   },
   {
    "duration": 12,
    "start_time": "2022-04-23T19:46:02.241Z"
   },
   {
    "duration": 23,
    "start_time": "2022-04-23T19:46:07.106Z"
   },
   {
    "duration": 12,
    "start_time": "2022-04-23T19:46:33.759Z"
   },
   {
    "duration": 5,
    "start_time": "2022-04-23T19:47:09.782Z"
   },
   {
    "duration": 14,
    "start_time": "2022-04-23T19:47:30.004Z"
   },
   {
    "duration": 1599,
    "start_time": "2022-04-24T07:32:48.393Z"
   },
   {
    "duration": 206,
    "start_time": "2022-04-24T07:32:49.996Z"
   },
   {
    "duration": 57,
    "start_time": "2022-04-24T07:32:50.205Z"
   },
   {
    "duration": 79,
    "start_time": "2022-04-24T07:32:50.266Z"
   },
   {
    "duration": 29,
    "start_time": "2022-04-24T07:32:50.347Z"
   },
   {
    "duration": 154,
    "start_time": "2022-04-24T07:32:50.378Z"
   },
   {
    "duration": 24,
    "start_time": "2022-04-24T07:32:50.535Z"
   },
   {
    "duration": 13,
    "start_time": "2022-04-24T07:32:50.562Z"
   },
   {
    "duration": 53,
    "start_time": "2022-04-24T07:32:50.577Z"
   },
   {
    "duration": 7,
    "start_time": "2022-04-24T07:32:50.635Z"
   },
   {
    "duration": 7,
    "start_time": "2022-04-24T07:32:50.645Z"
   },
   {
    "duration": 16,
    "start_time": "2022-04-24T07:32:50.654Z"
   },
   {
    "duration": 13,
    "start_time": "2022-04-24T07:32:50.673Z"
   },
   {
    "duration": 79,
    "start_time": "2022-04-24T07:32:50.688Z"
   },
   {
    "duration": 18,
    "start_time": "2022-04-24T07:32:50.770Z"
   },
   {
    "duration": 44,
    "start_time": "2022-04-24T07:32:50.790Z"
   },
   {
    "duration": 21,
    "start_time": "2022-04-24T07:32:50.837Z"
   },
   {
    "duration": 8,
    "start_time": "2022-04-24T07:32:50.860Z"
   },
   {
    "duration": 58,
    "start_time": "2022-04-24T07:32:50.870Z"
   },
   {
    "duration": 8,
    "start_time": "2022-04-24T07:32:50.930Z"
   },
   {
    "duration": 8,
    "start_time": "2022-04-24T07:32:50.940Z"
   },
   {
    "duration": 15,
    "start_time": "2022-04-24T07:32:50.951Z"
   },
   {
    "duration": 74,
    "start_time": "2022-04-24T07:32:50.969Z"
   },
   {
    "duration": 42,
    "start_time": "2022-04-24T07:32:51.045Z"
   },
   {
    "duration": 89,
    "start_time": "2022-04-24T07:32:51.089Z"
   },
   {
    "duration": 5,
    "start_time": "2022-04-24T07:32:51.181Z"
   },
   {
    "duration": 973,
    "start_time": "2022-04-24T07:32:51.189Z"
   },
   {
    "duration": 0,
    "start_time": "2022-04-24T07:32:52.166Z"
   },
   {
    "duration": 0,
    "start_time": "2022-04-24T07:32:52.167Z"
   },
   {
    "duration": 0,
    "start_time": "2022-04-24T07:32:52.170Z"
   },
   {
    "duration": 0,
    "start_time": "2022-04-24T07:32:52.172Z"
   },
   {
    "duration": 0,
    "start_time": "2022-04-24T07:32:52.173Z"
   },
   {
    "duration": 0,
    "start_time": "2022-04-24T07:32:52.176Z"
   },
   {
    "duration": 0,
    "start_time": "2022-04-24T07:32:52.177Z"
   },
   {
    "duration": 0,
    "start_time": "2022-04-24T07:32:52.179Z"
   },
   {
    "duration": 0,
    "start_time": "2022-04-24T07:32:52.181Z"
   },
   {
    "duration": 0,
    "start_time": "2022-04-24T07:32:52.182Z"
   },
   {
    "duration": 0,
    "start_time": "2022-04-24T07:32:52.184Z"
   },
   {
    "duration": 0,
    "start_time": "2022-04-24T07:32:52.186Z"
   },
   {
    "duration": 0,
    "start_time": "2022-04-24T07:32:52.187Z"
   },
   {
    "duration": 0,
    "start_time": "2022-04-24T07:32:52.188Z"
   },
   {
    "duration": 0,
    "start_time": "2022-04-24T07:32:52.190Z"
   },
   {
    "duration": 0,
    "start_time": "2022-04-24T07:32:52.191Z"
   },
   {
    "duration": 0,
    "start_time": "2022-04-24T07:32:52.193Z"
   },
   {
    "duration": 800,
    "start_time": "2022-04-24T07:35:16.014Z"
   },
   {
    "duration": 6,
    "start_time": "2022-04-24T07:35:19.031Z"
   },
   {
    "duration": 670,
    "start_time": "2022-04-24T07:35:22.066Z"
   },
   {
    "duration": 23,
    "start_time": "2022-04-24T07:37:37.699Z"
   },
   {
    "duration": 4,
    "start_time": "2022-04-24T07:38:23.110Z"
   },
   {
    "duration": 133,
    "start_time": "2022-04-24T07:38:24.849Z"
   },
   {
    "duration": 38,
    "start_time": "2022-04-24T07:38:31.044Z"
   },
   {
    "duration": 54,
    "start_time": "2022-04-24T07:38:32.090Z"
   },
   {
    "duration": 28,
    "start_time": "2022-04-24T07:38:33.985Z"
   },
   {
    "duration": 132,
    "start_time": "2022-04-24T07:38:37.578Z"
   },
   {
    "duration": 25,
    "start_time": "2022-04-24T07:38:53.620Z"
   },
   {
    "duration": 18,
    "start_time": "2022-04-24T07:38:59.542Z"
   },
   {
    "duration": 22,
    "start_time": "2022-04-24T07:39:06.325Z"
   },
   {
    "duration": 9,
    "start_time": "2022-04-24T07:39:29.419Z"
   },
   {
    "duration": 7,
    "start_time": "2022-04-24T07:39:31.137Z"
   },
   {
    "duration": 9,
    "start_time": "2022-04-24T07:39:35.773Z"
   },
   {
    "duration": 5,
    "start_time": "2022-04-24T07:39:38.873Z"
   },
   {
    "duration": 42,
    "start_time": "2022-04-24T07:39:40.112Z"
   },
   {
    "duration": 19,
    "start_time": "2022-04-24T07:39:43.640Z"
   },
   {
    "duration": 23,
    "start_time": "2022-04-24T07:39:49.007Z"
   },
   {
    "duration": 18,
    "start_time": "2022-04-24T07:39:54.640Z"
   },
   {
    "duration": 8,
    "start_time": "2022-04-24T07:39:56.238Z"
   },
   {
    "duration": 25,
    "start_time": "2022-04-24T07:40:01.359Z"
   },
   {
    "duration": 8,
    "start_time": "2022-04-24T07:40:05.059Z"
   },
   {
    "duration": 6,
    "start_time": "2022-04-24T07:40:06.706Z"
   },
   {
    "duration": 11,
    "start_time": "2022-04-24T07:40:09.010Z"
   },
   {
    "duration": 40,
    "start_time": "2022-04-24T07:40:12.507Z"
   },
   {
    "duration": 55,
    "start_time": "2022-04-24T07:40:20.737Z"
   },
   {
    "duration": 97,
    "start_time": "2022-04-24T07:40:29.194Z"
   },
   {
    "duration": 6,
    "start_time": "2022-04-24T07:40:35.273Z"
   },
   {
    "duration": 739,
    "start_time": "2022-04-24T07:40:36.279Z"
   },
   {
    "duration": 24,
    "start_time": "2022-04-24T07:42:54.660Z"
   },
   {
    "duration": 720,
    "start_time": "2022-04-24T07:43:01.808Z"
   },
   {
    "duration": 728,
    "start_time": "2022-04-24T07:43:11.184Z"
   },
   {
    "duration": 29,
    "start_time": "2022-04-24T07:43:27.806Z"
   },
   {
    "duration": 35,
    "start_time": "2022-04-24T07:44:49.220Z"
   },
   {
    "duration": 8,
    "start_time": "2022-04-24T07:45:13.137Z"
   },
   {
    "duration": 3,
    "start_time": "2022-04-24T07:45:22.042Z"
   },
   {
    "duration": 138,
    "start_time": "2022-04-24T07:45:22.051Z"
   },
   {
    "duration": 63,
    "start_time": "2022-04-24T07:45:22.192Z"
   },
   {
    "duration": 73,
    "start_time": "2022-04-24T07:45:22.257Z"
   },
   {
    "duration": 21,
    "start_time": "2022-04-24T07:45:22.333Z"
   },
   {
    "duration": 125,
    "start_time": "2022-04-24T07:45:22.357Z"
   },
   {
    "duration": 24,
    "start_time": "2022-04-24T07:45:22.484Z"
   },
   {
    "duration": 28,
    "start_time": "2022-04-24T07:45:22.510Z"
   },
   {
    "duration": 16,
    "start_time": "2022-04-24T07:45:22.540Z"
   },
   {
    "duration": 7,
    "start_time": "2022-04-24T07:45:22.559Z"
   },
   {
    "duration": 6,
    "start_time": "2022-04-24T07:45:22.571Z"
   },
   {
    "duration": 8,
    "start_time": "2022-04-24T07:45:22.625Z"
   },
   {
    "duration": 8,
    "start_time": "2022-04-24T07:45:22.636Z"
   },
   {
    "duration": 43,
    "start_time": "2022-04-24T07:45:22.646Z"
   },
   {
    "duration": 42,
    "start_time": "2022-04-24T07:45:22.691Z"
   },
   {
    "duration": 28,
    "start_time": "2022-04-24T07:45:22.736Z"
   },
   {
    "duration": 13,
    "start_time": "2022-04-24T07:45:22.767Z"
   },
   {
    "duration": 45,
    "start_time": "2022-04-24T07:45:22.783Z"
   },
   {
    "duration": 22,
    "start_time": "2022-04-24T07:45:22.830Z"
   },
   {
    "duration": 8,
    "start_time": "2022-04-24T07:45:22.854Z"
   },
   {
    "duration": 9,
    "start_time": "2022-04-24T07:45:22.864Z"
   },
   {
    "duration": 57,
    "start_time": "2022-04-24T07:45:22.875Z"
   },
   {
    "duration": 54,
    "start_time": "2022-04-24T07:45:22.934Z"
   },
   {
    "duration": 78,
    "start_time": "2022-04-24T07:45:22.990Z"
   },
   {
    "duration": 86,
    "start_time": "2022-04-24T07:45:23.070Z"
   },
   {
    "duration": 8,
    "start_time": "2022-04-24T07:45:26.720Z"
   },
   {
    "duration": 21,
    "start_time": "2022-04-24T07:45:27.955Z"
   },
   {
    "duration": 538,
    "start_time": "2022-04-24T07:45:39.920Z"
   },
   {
    "duration": 561,
    "start_time": "2022-04-24T07:45:53.209Z"
   },
   {
    "duration": 164,
    "start_time": "2022-04-24T07:48:33.221Z"
   },
   {
    "duration": 136,
    "start_time": "2022-04-24T07:48:40.861Z"
   },
   {
    "duration": 12,
    "start_time": "2022-04-24T07:48:49.772Z"
   },
   {
    "duration": 4,
    "start_time": "2022-04-24T07:48:56.875Z"
   },
   {
    "duration": 218,
    "start_time": "2022-04-24T07:48:56.883Z"
   },
   {
    "duration": 59,
    "start_time": "2022-04-24T07:48:57.104Z"
   },
   {
    "duration": 91,
    "start_time": "2022-04-24T07:48:57.166Z"
   },
   {
    "duration": 28,
    "start_time": "2022-04-24T07:48:57.261Z"
   },
   {
    "duration": 135,
    "start_time": "2022-04-24T07:48:57.292Z"
   },
   {
    "duration": 33,
    "start_time": "2022-04-24T07:48:57.429Z"
   },
   {
    "duration": 18,
    "start_time": "2022-04-24T07:48:57.464Z"
   },
   {
    "duration": 56,
    "start_time": "2022-04-24T07:48:57.486Z"
   },
   {
    "duration": 8,
    "start_time": "2022-04-24T07:48:57.545Z"
   },
   {
    "duration": 11,
    "start_time": "2022-04-24T07:48:57.557Z"
   },
   {
    "duration": 14,
    "start_time": "2022-04-24T07:48:57.570Z"
   },
   {
    "duration": 11,
    "start_time": "2022-04-24T07:48:57.587Z"
   },
   {
    "duration": 74,
    "start_time": "2022-04-24T07:48:57.600Z"
   },
   {
    "duration": 18,
    "start_time": "2022-04-24T07:48:57.676Z"
   },
   {
    "duration": 48,
    "start_time": "2022-04-24T07:48:57.696Z"
   },
   {
    "duration": 14,
    "start_time": "2022-04-24T07:48:57.747Z"
   },
   {
    "duration": 18,
    "start_time": "2022-04-24T07:48:57.763Z"
   },
   {
    "duration": 54,
    "start_time": "2022-04-24T07:48:57.784Z"
   },
   {
    "duration": 9,
    "start_time": "2022-04-24T07:48:57.840Z"
   },
   {
    "duration": 13,
    "start_time": "2022-04-24T07:48:57.851Z"
   },
   {
    "duration": 17,
    "start_time": "2022-04-24T07:48:57.867Z"
   },
   {
    "duration": 66,
    "start_time": "2022-04-24T07:48:57.886Z"
   },
   {
    "duration": 54,
    "start_time": "2022-04-24T07:48:57.955Z"
   },
   {
    "duration": 66,
    "start_time": "2022-04-24T07:48:58.025Z"
   },
   {
    "duration": 5,
    "start_time": "2022-04-24T07:48:58.094Z"
   },
   {
    "duration": 883,
    "start_time": "2022-04-24T07:48:58.102Z"
   },
   {
    "duration": 54,
    "start_time": "2022-04-24T07:48:58.987Z"
   },
   {
    "duration": 258,
    "start_time": "2022-04-24T07:48:59.046Z"
   },
   {
    "duration": 1973,
    "start_time": "2022-04-24T07:48:59.307Z"
   },
   {
    "duration": 3464,
    "start_time": "2022-04-24T07:49:01.283Z"
   },
   {
    "duration": 16,
    "start_time": "2022-04-24T07:49:04.750Z"
   },
   {
    "duration": 65,
    "start_time": "2022-04-24T07:49:04.769Z"
   },
   {
    "duration": 22,
    "start_time": "2022-04-24T07:49:04.837Z"
   },
   {
    "duration": 136,
    "start_time": "2022-04-24T07:49:04.861Z"
   },
   {
    "duration": 80,
    "start_time": "2022-04-24T07:49:05.000Z"
   },
   {
    "duration": 179,
    "start_time": "2022-04-24T07:49:05.083Z"
   },
   {
    "duration": 21,
    "start_time": "2022-04-24T07:49:05.265Z"
   },
   {
    "duration": 19,
    "start_time": "2022-04-24T07:49:05.288Z"
   },
   {
    "duration": 26,
    "start_time": "2022-04-24T07:49:05.310Z"
   },
   {
    "duration": 86,
    "start_time": "2022-04-24T07:49:05.338Z"
   },
   {
    "duration": 83,
    "start_time": "2022-04-24T07:49:05.427Z"
   },
   {
    "duration": 76,
    "start_time": "2022-04-24T07:49:05.525Z"
   },
   {
    "duration": 90,
    "start_time": "2022-04-24T07:49:05.604Z"
   },
   {
    "duration": 23,
    "start_time": "2022-04-24T07:49:09.518Z"
   },
   {
    "duration": 25,
    "start_time": "2022-04-24T07:49:25.815Z"
   },
   {
    "duration": 29,
    "start_time": "2022-04-24T07:50:19.118Z"
   },
   {
    "duration": 35,
    "start_time": "2022-04-24T07:50:40.807Z"
   },
   {
    "duration": 30,
    "start_time": "2022-04-24T07:50:54.209Z"
   },
   {
    "duration": 22,
    "start_time": "2022-04-24T07:51:00.539Z"
   },
   {
    "duration": 205,
    "start_time": "2022-04-24T07:51:45.834Z"
   },
   {
    "duration": 12,
    "start_time": "2022-04-24T07:51:52.538Z"
   },
   {
    "duration": 12,
    "start_time": "2022-04-24T07:52:00.840Z"
   },
   {
    "duration": 16,
    "start_time": "2022-04-24T07:52:03.959Z"
   },
   {
    "duration": 8,
    "start_time": "2022-04-24T07:58:19.040Z"
   },
   {
    "duration": 12,
    "start_time": "2022-04-24T07:58:26.714Z"
   },
   {
    "duration": 40,
    "start_time": "2022-04-24T07:59:23.110Z"
   },
   {
    "duration": 17,
    "start_time": "2022-04-24T07:59:59.609Z"
   },
   {
    "duration": 18,
    "start_time": "2022-04-24T08:01:31.967Z"
   },
   {
    "duration": 18,
    "start_time": "2022-04-24T08:03:31.089Z"
   },
   {
    "duration": 12,
    "start_time": "2022-04-24T08:04:04.093Z"
   },
   {
    "duration": 10,
    "start_time": "2022-04-24T08:05:12.875Z"
   },
   {
    "duration": 11,
    "start_time": "2022-04-24T08:07:05.637Z"
   },
   {
    "duration": 23,
    "start_time": "2022-04-24T08:07:12.735Z"
   },
   {
    "duration": 35,
    "start_time": "2022-04-24T08:07:52.976Z"
   },
   {
    "duration": 34,
    "start_time": "2022-04-24T08:08:33.122Z"
   },
   {
    "duration": 32,
    "start_time": "2022-04-24T08:09:05.388Z"
   },
   {
    "duration": 32,
    "start_time": "2022-04-24T08:09:24.801Z"
   },
   {
    "duration": 33,
    "start_time": "2022-04-24T08:10:03.280Z"
   },
   {
    "duration": 41,
    "start_time": "2022-04-24T08:10:17.336Z"
   },
   {
    "duration": 35,
    "start_time": "2022-04-24T08:10:26.245Z"
   },
   {
    "duration": 31,
    "start_time": "2022-04-24T08:10:41.451Z"
   },
   {
    "duration": 144,
    "start_time": "2022-04-24T08:11:16.132Z"
   },
   {
    "duration": 40,
    "start_time": "2022-04-24T08:11:34.584Z"
   },
   {
    "duration": 25,
    "start_time": "2022-04-24T08:12:09.708Z"
   },
   {
    "duration": 39,
    "start_time": "2022-04-24T08:12:17.122Z"
   },
   {
    "duration": 58,
    "start_time": "2022-04-24T08:15:02.066Z"
   },
   {
    "duration": 32,
    "start_time": "2022-04-24T08:15:53.537Z"
   },
   {
    "duration": 40,
    "start_time": "2022-04-24T08:16:12.822Z"
   },
   {
    "duration": 40,
    "start_time": "2022-04-24T08:16:15.688Z"
   },
   {
    "duration": 31,
    "start_time": "2022-04-24T08:16:26.553Z"
   },
   {
    "duration": 38,
    "start_time": "2022-04-24T08:16:42.663Z"
   },
   {
    "duration": 36,
    "start_time": "2022-04-24T08:18:10.277Z"
   },
   {
    "duration": 36,
    "start_time": "2022-04-24T08:18:27.068Z"
   },
   {
    "duration": 33,
    "start_time": "2022-04-24T08:18:37.333Z"
   },
   {
    "duration": 35,
    "start_time": "2022-04-24T08:18:51.004Z"
   },
   {
    "duration": 44,
    "start_time": "2022-04-24T08:19:07.366Z"
   },
   {
    "duration": 44,
    "start_time": "2022-04-24T08:19:24.315Z"
   },
   {
    "duration": 34,
    "start_time": "2022-04-24T08:19:39.184Z"
   },
   {
    "duration": 42,
    "start_time": "2022-04-24T08:19:55.622Z"
   },
   {
    "duration": 44,
    "start_time": "2022-04-24T08:20:03.456Z"
   },
   {
    "duration": 44,
    "start_time": "2022-04-24T08:20:14.187Z"
   },
   {
    "duration": 32,
    "start_time": "2022-04-24T08:21:17.620Z"
   },
   {
    "duration": 50,
    "start_time": "2022-04-24T08:21:33.816Z"
   },
   {
    "duration": 33,
    "start_time": "2022-04-24T08:21:46.427Z"
   },
   {
    "duration": 34,
    "start_time": "2022-04-24T08:21:53.080Z"
   },
   {
    "duration": 22,
    "start_time": "2022-04-24T08:22:39.508Z"
   },
   {
    "duration": 20,
    "start_time": "2022-04-24T08:22:52.436Z"
   },
   {
    "duration": 29,
    "start_time": "2022-04-24T08:23:07.279Z"
   },
   {
    "duration": 35,
    "start_time": "2022-04-24T08:23:25.865Z"
   },
   {
    "duration": 137,
    "start_time": "2022-04-24T08:24:04.459Z"
   },
   {
    "duration": 36,
    "start_time": "2022-04-24T08:24:09.974Z"
   },
   {
    "duration": 33,
    "start_time": "2022-04-24T08:24:30.432Z"
   },
   {
    "duration": 32,
    "start_time": "2022-04-24T08:24:46.409Z"
   },
   {
    "duration": 31,
    "start_time": "2022-04-24T08:25:10.592Z"
   },
   {
    "duration": 41,
    "start_time": "2022-04-24T08:26:21.047Z"
   },
   {
    "duration": 24,
    "start_time": "2022-04-24T08:26:45.916Z"
   },
   {
    "duration": 30,
    "start_time": "2022-04-24T08:27:14.053Z"
   },
   {
    "duration": 32,
    "start_time": "2022-04-24T08:29:21.790Z"
   },
   {
    "duration": 31,
    "start_time": "2022-04-24T08:29:33.474Z"
   },
   {
    "duration": 33,
    "start_time": "2022-04-24T08:30:17.096Z"
   },
   {
    "duration": 33,
    "start_time": "2022-04-24T08:30:24.671Z"
   },
   {
    "duration": 12,
    "start_time": "2022-04-24T08:32:28.075Z"
   },
   {
    "duration": 12,
    "start_time": "2022-04-24T08:32:43.811Z"
   },
   {
    "duration": 6,
    "start_time": "2022-04-24T08:41:49.115Z"
   },
   {
    "duration": 14,
    "start_time": "2022-04-24T08:42:07.077Z"
   },
   {
    "duration": 10,
    "start_time": "2022-04-24T08:42:14.465Z"
   },
   {
    "duration": 57,
    "start_time": "2022-04-24T08:42:22.581Z"
   },
   {
    "duration": 38,
    "start_time": "2022-04-24T08:42:35.195Z"
   },
   {
    "duration": 41,
    "start_time": "2022-04-24T08:43:30.718Z"
   },
   {
    "duration": 24,
    "start_time": "2022-04-24T08:43:46.992Z"
   },
   {
    "duration": 37,
    "start_time": "2022-04-24T08:44:14.388Z"
   },
   {
    "duration": 43,
    "start_time": "2022-04-24T08:44:23.054Z"
   },
   {
    "duration": 41,
    "start_time": "2022-04-24T08:44:50.583Z"
   },
   {
    "duration": 39,
    "start_time": "2022-04-24T08:44:57.186Z"
   },
   {
    "duration": 55,
    "start_time": "2022-04-24T08:45:02.968Z"
   },
   {
    "duration": 42,
    "start_time": "2022-04-24T08:45:11.253Z"
   },
   {
    "duration": 15,
    "start_time": "2022-04-24T08:51:28.231Z"
   },
   {
    "duration": 33,
    "start_time": "2022-04-24T08:51:51.391Z"
   },
   {
    "duration": 10,
    "start_time": "2022-04-24T08:52:28.940Z"
   },
   {
    "duration": 43,
    "start_time": "2022-04-24T08:52:55.594Z"
   },
   {
    "duration": 12,
    "start_time": "2022-04-24T08:53:05.644Z"
   },
   {
    "duration": 56,
    "start_time": "2022-04-24T08:54:35.420Z"
   },
   {
    "duration": 12,
    "start_time": "2022-04-24T08:54:37.872Z"
   },
   {
    "duration": 41,
    "start_time": "2022-04-24T08:54:39.039Z"
   },
   {
    "duration": 11,
    "start_time": "2022-04-24T08:54:41.444Z"
   },
   {
    "duration": 38,
    "start_time": "2022-04-24T08:54:44.140Z"
   },
   {
    "duration": 4,
    "start_time": "2022-04-24T08:55:07.260Z"
   },
   {
    "duration": 168,
    "start_time": "2022-04-24T08:55:07.269Z"
   },
   {
    "duration": 37,
    "start_time": "2022-04-24T08:55:07.440Z"
   },
   {
    "duration": 74,
    "start_time": "2022-04-24T08:55:07.479Z"
   },
   {
    "duration": 24,
    "start_time": "2022-04-24T08:55:07.557Z"
   },
   {
    "duration": 155,
    "start_time": "2022-04-24T08:55:07.583Z"
   },
   {
    "duration": 24,
    "start_time": "2022-04-24T08:55:07.741Z"
   },
   {
    "duration": 14,
    "start_time": "2022-04-24T08:55:07.768Z"
   },
   {
    "duration": 49,
    "start_time": "2022-04-24T08:55:07.784Z"
   },
   {
    "duration": 37,
    "start_time": "2022-04-24T08:55:07.835Z"
   },
   {
    "duration": 22,
    "start_time": "2022-04-24T08:55:07.877Z"
   },
   {
    "duration": 12,
    "start_time": "2022-04-24T08:55:07.902Z"
   },
   {
    "duration": 31,
    "start_time": "2022-04-24T08:55:07.917Z"
   },
   {
    "duration": 72,
    "start_time": "2022-04-24T08:55:07.951Z"
   },
   {
    "duration": 17,
    "start_time": "2022-04-24T08:55:08.025Z"
   },
   {
    "duration": 32,
    "start_time": "2022-04-24T08:55:08.045Z"
   },
   {
    "duration": 15,
    "start_time": "2022-04-24T08:55:08.080Z"
   },
   {
    "duration": 12,
    "start_time": "2022-04-24T08:55:08.124Z"
   },
   {
    "duration": 41,
    "start_time": "2022-04-24T08:55:08.139Z"
   },
   {
    "duration": 10,
    "start_time": "2022-04-24T08:55:08.182Z"
   },
   {
    "duration": 31,
    "start_time": "2022-04-24T08:55:08.194Z"
   },
   {
    "duration": 38,
    "start_time": "2022-04-24T08:55:08.227Z"
   },
   {
    "duration": 75,
    "start_time": "2022-04-24T08:55:08.268Z"
   },
   {
    "duration": 55,
    "start_time": "2022-04-24T08:55:08.345Z"
   },
   {
    "duration": 130,
    "start_time": "2022-04-24T08:55:08.402Z"
   },
   {
    "duration": 6,
    "start_time": "2022-04-24T08:55:08.534Z"
   },
   {
    "duration": 706,
    "start_time": "2022-04-24T08:55:08.542Z"
   },
   {
    "duration": 40,
    "start_time": "2022-04-24T08:55:09.250Z"
   },
   {
    "duration": 188,
    "start_time": "2022-04-24T08:55:09.295Z"
   },
   {
    "duration": 2168,
    "start_time": "2022-04-24T08:55:09.485Z"
   },
   {
    "duration": 3250,
    "start_time": "2022-04-24T08:55:11.655Z"
   },
   {
    "duration": 26,
    "start_time": "2022-04-24T08:55:14.908Z"
   },
   {
    "duration": 9,
    "start_time": "2022-04-24T08:55:14.936Z"
   },
   {
    "duration": 11,
    "start_time": "2022-04-24T08:55:14.948Z"
   },
   {
    "duration": 123,
    "start_time": "2022-04-24T08:55:14.962Z"
   },
   {
    "duration": 93,
    "start_time": "2022-04-24T08:55:15.087Z"
   },
   {
    "duration": 309,
    "start_time": "2022-04-24T08:55:15.182Z"
   },
   {
    "duration": 8,
    "start_time": "2022-04-24T08:55:15.494Z"
   },
   {
    "duration": 26,
    "start_time": "2022-04-24T08:55:15.504Z"
   },
   {
    "duration": 8,
    "start_time": "2022-04-24T08:55:15.533Z"
   },
   {
    "duration": 84,
    "start_time": "2022-04-24T08:55:15.544Z"
   },
   {
    "duration": 52,
    "start_time": "2022-04-24T08:55:15.631Z"
   },
   {
    "duration": 77,
    "start_time": "2022-04-24T08:55:15.687Z"
   },
   {
    "duration": 60,
    "start_time": "2022-04-24T08:55:15.766Z"
   },
   {
    "duration": 31,
    "start_time": "2022-04-24T08:55:15.828Z"
   },
   {
    "duration": 13,
    "start_time": "2022-04-24T08:55:15.861Z"
   },
   {
    "duration": 12,
    "start_time": "2022-04-24T08:55:18.773Z"
   },
   {
    "duration": 40,
    "start_time": "2022-04-24T08:55:19.694Z"
   },
   {
    "duration": 5,
    "start_time": "2022-04-24T08:55:49.961Z"
   },
   {
    "duration": 10,
    "start_time": "2022-04-24T08:55:53.498Z"
   },
   {
    "duration": 7,
    "start_time": "2022-04-24T08:55:54.703Z"
   },
   {
    "duration": 3,
    "start_time": "2022-04-24T08:56:14.857Z"
   },
   {
    "duration": 133,
    "start_time": "2022-04-24T08:56:14.866Z"
   },
   {
    "duration": 56,
    "start_time": "2022-04-24T08:56:15.003Z"
   },
   {
    "duration": 75,
    "start_time": "2022-04-24T08:56:15.062Z"
   },
   {
    "duration": 21,
    "start_time": "2022-04-24T08:56:15.140Z"
   },
   {
    "duration": 137,
    "start_time": "2022-04-24T08:56:15.164Z"
   },
   {
    "duration": 42,
    "start_time": "2022-04-24T08:56:15.303Z"
   },
   {
    "duration": 13,
    "start_time": "2022-04-24T08:56:15.347Z"
   },
   {
    "duration": 15,
    "start_time": "2022-04-24T08:56:15.362Z"
   },
   {
    "duration": 50,
    "start_time": "2022-04-24T08:56:15.379Z"
   },
   {
    "duration": 6,
    "start_time": "2022-04-24T08:56:15.434Z"
   },
   {
    "duration": 7,
    "start_time": "2022-04-24T08:56:15.443Z"
   },
   {
    "duration": 13,
    "start_time": "2022-04-24T08:56:15.453Z"
   },
   {
    "duration": 62,
    "start_time": "2022-04-24T08:56:15.468Z"
   },
   {
    "duration": 15,
    "start_time": "2022-04-24T08:56:15.532Z"
   },
   {
    "duration": 20,
    "start_time": "2022-04-24T08:56:15.550Z"
   },
   {
    "duration": 14,
    "start_time": "2022-04-24T08:56:15.573Z"
   },
   {
    "duration": 7,
    "start_time": "2022-04-24T08:56:15.625Z"
   },
   {
    "duration": 22,
    "start_time": "2022-04-24T08:56:15.636Z"
   },
   {
    "duration": 9,
    "start_time": "2022-04-24T08:56:15.660Z"
   },
   {
    "duration": 7,
    "start_time": "2022-04-24T08:56:15.671Z"
   },
   {
    "duration": 47,
    "start_time": "2022-04-24T08:56:15.681Z"
   },
   {
    "duration": 40,
    "start_time": "2022-04-24T08:56:15.731Z"
   },
   {
    "duration": 70,
    "start_time": "2022-04-24T08:56:15.773Z"
   },
   {
    "duration": 89,
    "start_time": "2022-04-24T08:56:15.845Z"
   },
   {
    "duration": 4,
    "start_time": "2022-04-24T08:56:15.936Z"
   },
   {
    "duration": 572,
    "start_time": "2022-04-24T08:56:15.943Z"
   },
   {
    "duration": 41,
    "start_time": "2022-04-24T08:56:16.525Z"
   },
   {
    "duration": 259,
    "start_time": "2022-04-24T08:56:16.571Z"
   },
   {
    "duration": 2274,
    "start_time": "2022-04-24T08:56:16.833Z"
   },
   {
    "duration": 3420,
    "start_time": "2022-04-24T08:56:19.110Z"
   },
   {
    "duration": 13,
    "start_time": "2022-04-24T08:56:22.533Z"
   },
   {
    "duration": 8,
    "start_time": "2022-04-24T08:56:22.548Z"
   },
   {
    "duration": 6,
    "start_time": "2022-04-24T08:56:22.559Z"
   },
   {
    "duration": 145,
    "start_time": "2022-04-24T08:56:22.568Z"
   },
   {
    "duration": 64,
    "start_time": "2022-04-24T08:56:22.715Z"
   },
   {
    "duration": 173,
    "start_time": "2022-04-24T08:56:22.781Z"
   },
   {
    "duration": 8,
    "start_time": "2022-04-24T08:56:22.957Z"
   },
   {
    "duration": 23,
    "start_time": "2022-04-24T08:56:22.967Z"
   },
   {
    "duration": 12,
    "start_time": "2022-04-24T08:56:22.992Z"
   },
   {
    "duration": 79,
    "start_time": "2022-04-24T08:56:23.007Z"
   },
   {
    "duration": 94,
    "start_time": "2022-04-24T08:56:23.088Z"
   },
   {
    "duration": 76,
    "start_time": "2022-04-24T08:56:23.185Z"
   },
   {
    "duration": 70,
    "start_time": "2022-04-24T08:56:23.263Z"
   },
   {
    "duration": 40,
    "start_time": "2022-04-24T08:56:23.336Z"
   },
   {
    "duration": 16,
    "start_time": "2022-04-24T08:56:23.378Z"
   },
   {
    "duration": 45,
    "start_time": "2022-04-24T08:56:23.396Z"
   },
   {
    "duration": 13,
    "start_time": "2022-04-24T08:56:23.443Z"
   },
   {
    "duration": 3,
    "start_time": "2022-04-24T08:56:46.690Z"
   },
   {
    "duration": 145,
    "start_time": "2022-04-24T08:56:46.700Z"
   },
   {
    "duration": 50,
    "start_time": "2022-04-24T08:56:46.847Z"
   },
   {
    "duration": 78,
    "start_time": "2022-04-24T08:56:46.899Z"
   },
   {
    "duration": 53,
    "start_time": "2022-04-24T08:56:46.981Z"
   },
   {
    "duration": 156,
    "start_time": "2022-04-24T08:56:47.036Z"
   },
   {
    "duration": 46,
    "start_time": "2022-04-24T08:56:47.195Z"
   },
   {
    "duration": 19,
    "start_time": "2022-04-24T08:56:47.243Z"
   },
   {
    "duration": 27,
    "start_time": "2022-04-24T08:56:47.265Z"
   },
   {
    "duration": 31,
    "start_time": "2022-04-24T08:56:47.294Z"
   },
   {
    "duration": 7,
    "start_time": "2022-04-24T08:56:47.330Z"
   },
   {
    "duration": 20,
    "start_time": "2022-04-24T08:56:47.340Z"
   },
   {
    "duration": 18,
    "start_time": "2022-04-24T08:56:47.362Z"
   },
   {
    "duration": 64,
    "start_time": "2022-04-24T08:56:47.382Z"
   },
   {
    "duration": 13,
    "start_time": "2022-04-24T08:56:47.449Z"
   },
   {
    "duration": 23,
    "start_time": "2022-04-24T08:56:47.464Z"
   },
   {
    "duration": 43,
    "start_time": "2022-04-24T08:56:47.489Z"
   },
   {
    "duration": 18,
    "start_time": "2022-04-24T08:56:47.535Z"
   },
   {
    "duration": 33,
    "start_time": "2022-04-24T08:56:47.556Z"
   },
   {
    "duration": 16,
    "start_time": "2022-04-24T08:56:47.591Z"
   },
   {
    "duration": 31,
    "start_time": "2022-04-24T08:56:47.609Z"
   },
   {
    "duration": 26,
    "start_time": "2022-04-24T08:56:47.642Z"
   },
   {
    "duration": 43,
    "start_time": "2022-04-24T08:56:47.670Z"
   },
   {
    "duration": 56,
    "start_time": "2022-04-24T08:56:47.715Z"
   },
   {
    "duration": 115,
    "start_time": "2022-04-24T08:56:47.774Z"
   },
   {
    "duration": 6,
    "start_time": "2022-04-24T08:56:47.891Z"
   },
   {
    "duration": 885,
    "start_time": "2022-04-24T08:56:47.899Z"
   },
   {
    "duration": 58,
    "start_time": "2022-04-24T08:56:48.787Z"
   },
   {
    "duration": 176,
    "start_time": "2022-04-24T08:56:48.850Z"
   },
   {
    "duration": 1708,
    "start_time": "2022-04-24T08:56:49.029Z"
   },
   {
    "duration": 2228,
    "start_time": "2022-04-24T08:56:50.739Z"
   },
   {
    "duration": 13,
    "start_time": "2022-04-24T08:56:52.970Z"
   },
   {
    "duration": 9,
    "start_time": "2022-04-24T08:56:52.985Z"
   },
   {
    "duration": 6,
    "start_time": "2022-04-24T08:56:53.025Z"
   },
   {
    "duration": 93,
    "start_time": "2022-04-24T08:56:53.033Z"
   },
   {
    "duration": 95,
    "start_time": "2022-04-24T08:56:53.129Z"
   },
   {
    "duration": 123,
    "start_time": "2022-04-24T08:56:53.227Z"
   },
   {
    "duration": 7,
    "start_time": "2022-04-24T08:56:53.353Z"
   },
   {
    "duration": 13,
    "start_time": "2022-04-24T08:56:53.362Z"
   },
   {
    "duration": 10,
    "start_time": "2022-04-24T08:56:53.378Z"
   },
   {
    "duration": 83,
    "start_time": "2022-04-24T08:56:53.390Z"
   },
   {
    "duration": 75,
    "start_time": "2022-04-24T08:56:53.475Z"
   },
   {
    "duration": 52,
    "start_time": "2022-04-24T08:56:53.553Z"
   },
   {
    "duration": 58,
    "start_time": "2022-04-24T08:56:53.607Z"
   },
   {
    "duration": 58,
    "start_time": "2022-04-24T08:56:53.667Z"
   },
   {
    "duration": 13,
    "start_time": "2022-04-24T08:56:53.727Z"
   },
   {
    "duration": 6,
    "start_time": "2022-04-24T08:57:00.791Z"
   },
   {
    "duration": 13,
    "start_time": "2022-04-24T08:57:02.597Z"
   },
   {
    "duration": 56,
    "start_time": "2022-04-24T08:57:16.087Z"
   },
   {
    "duration": 5,
    "start_time": "2022-04-24T08:59:56.310Z"
   },
   {
    "duration": 45,
    "start_time": "2022-04-24T08:59:58.820Z"
   },
   {
    "duration": 150,
    "start_time": "2022-04-24T09:00:54.013Z"
   },
   {
    "duration": 11,
    "start_time": "2022-04-24T09:01:00.447Z"
   },
   {
    "duration": 10,
    "start_time": "2022-04-24T09:01:12.444Z"
   },
   {
    "duration": 15,
    "start_time": "2022-04-24T09:01:30.508Z"
   },
   {
    "duration": 25,
    "start_time": "2022-04-24T09:01:43.122Z"
   },
   {
    "duration": 926,
    "start_time": "2022-04-24T10:56:25.612Z"
   },
   {
    "duration": 121,
    "start_time": "2022-04-24T10:56:26.540Z"
   },
   {
    "duration": 29,
    "start_time": "2022-04-24T10:56:26.663Z"
   },
   {
    "duration": 51,
    "start_time": "2022-04-24T10:56:26.694Z"
   },
   {
    "duration": 17,
    "start_time": "2022-04-24T10:56:26.747Z"
   },
   {
    "duration": 98,
    "start_time": "2022-04-24T10:56:26.766Z"
   },
   {
    "duration": 19,
    "start_time": "2022-04-24T10:56:26.865Z"
   },
   {
    "duration": 9,
    "start_time": "2022-04-24T10:56:26.886Z"
   },
   {
    "duration": 41,
    "start_time": "2022-04-24T10:56:26.897Z"
   },
   {
    "duration": 6,
    "start_time": "2022-04-24T10:56:26.940Z"
   },
   {
    "duration": 7,
    "start_time": "2022-04-24T10:56:26.947Z"
   },
   {
    "duration": 8,
    "start_time": "2022-04-24T10:56:26.956Z"
   },
   {
    "duration": 8,
    "start_time": "2022-04-24T10:56:26.965Z"
   },
   {
    "duration": 29,
    "start_time": "2022-04-24T10:56:26.975Z"
   },
   {
    "duration": 33,
    "start_time": "2022-04-24T10:56:27.006Z"
   },
   {
    "duration": 17,
    "start_time": "2022-04-24T10:56:27.041Z"
   },
   {
    "duration": 15,
    "start_time": "2022-04-24T10:56:27.060Z"
   },
   {
    "duration": 6,
    "start_time": "2022-04-24T10:56:27.076Z"
   },
   {
    "duration": 52,
    "start_time": "2022-04-24T10:56:27.083Z"
   },
   {
    "duration": 5,
    "start_time": "2022-04-24T10:56:27.137Z"
   },
   {
    "duration": 7,
    "start_time": "2022-04-24T10:56:27.144Z"
   },
   {
    "duration": 11,
    "start_time": "2022-04-24T10:56:27.153Z"
   },
   {
    "duration": 31,
    "start_time": "2022-04-24T10:56:27.166Z"
   },
   {
    "duration": 50,
    "start_time": "2022-04-24T10:56:27.199Z"
   },
   {
    "duration": 47,
    "start_time": "2022-04-24T10:56:27.251Z"
   },
   {
    "duration": 3,
    "start_time": "2022-04-24T10:56:27.300Z"
   },
   {
    "duration": 396,
    "start_time": "2022-04-24T10:56:27.305Z"
   },
   {
    "duration": 36,
    "start_time": "2022-04-24T10:56:27.705Z"
   },
   {
    "duration": 152,
    "start_time": "2022-04-24T10:56:27.743Z"
   },
   {
    "duration": 1112,
    "start_time": "2022-04-24T10:56:27.897Z"
   },
   {
    "duration": 1473,
    "start_time": "2022-04-24T10:56:29.011Z"
   },
   {
    "duration": 11,
    "start_time": "2022-04-24T10:56:30.487Z"
   },
   {
    "duration": 20,
    "start_time": "2022-04-24T10:56:30.500Z"
   },
   {
    "duration": 17,
    "start_time": "2022-04-24T10:56:30.533Z"
   },
   {
    "duration": 70,
    "start_time": "2022-04-24T10:56:30.552Z"
   },
   {
    "duration": 46,
    "start_time": "2022-04-24T10:56:30.623Z"
   },
   {
    "duration": 93,
    "start_time": "2022-04-24T10:56:30.671Z"
   },
   {
    "duration": 6,
    "start_time": "2022-04-24T10:56:30.767Z"
   },
   {
    "duration": 12,
    "start_time": "2022-04-24T10:56:30.775Z"
   },
   {
    "duration": 7,
    "start_time": "2022-04-24T10:56:30.789Z"
   },
   {
    "duration": 62,
    "start_time": "2022-04-24T10:56:30.798Z"
   },
   {
    "duration": 39,
    "start_time": "2022-04-24T10:56:30.862Z"
   },
   {
    "duration": 61,
    "start_time": "2022-04-24T10:56:30.902Z"
   },
   {
    "duration": 34,
    "start_time": "2022-04-24T10:56:30.964Z"
   },
   {
    "duration": 42,
    "start_time": "2022-04-24T10:56:31.000Z"
   },
   {
    "duration": 10,
    "start_time": "2022-04-24T10:56:31.044Z"
   },
   {
    "duration": 10,
    "start_time": "2022-04-24T10:56:31.056Z"
   },
   {
    "duration": 41,
    "start_time": "2022-04-24T10:56:31.068Z"
   },
   {
    "duration": 18,
    "start_time": "2022-04-24T10:56:36.447Z"
   },
   {
    "duration": 199,
    "start_time": "2022-04-24T10:57:01.519Z"
   },
   {
    "duration": 199,
    "start_time": "2022-04-24T10:57:59.759Z"
   },
   {
    "duration": 163,
    "start_time": "2022-04-24T10:59:40.924Z"
   },
   {
    "duration": 267,
    "start_time": "2022-04-24T11:00:21.048Z"
   },
   {
    "duration": 195,
    "start_time": "2022-04-24T11:00:32.025Z"
   },
   {
    "duration": 149,
    "start_time": "2022-04-24T11:01:02.433Z"
   },
   {
    "duration": 163,
    "start_time": "2022-04-24T11:01:20.244Z"
   },
   {
    "duration": 144,
    "start_time": "2022-04-24T11:04:08.471Z"
   },
   {
    "duration": 7,
    "start_time": "2022-04-24T11:15:17.590Z"
   },
   {
    "duration": 17,
    "start_time": "2022-04-24T11:15:32.409Z"
   },
   {
    "duration": 16,
    "start_time": "2022-04-24T11:15:49.848Z"
   },
   {
    "duration": 6,
    "start_time": "2022-04-24T11:17:36.324Z"
   },
   {
    "duration": 8,
    "start_time": "2022-04-24T11:19:09.550Z"
   },
   {
    "duration": 14,
    "start_time": "2022-04-24T11:19:27.470Z"
   },
   {
    "duration": 13,
    "start_time": "2022-04-24T11:23:27.454Z"
   },
   {
    "duration": 83,
    "start_time": "2022-04-24T11:24:00.251Z"
   },
   {
    "duration": 8,
    "start_time": "2022-04-24T11:24:34.066Z"
   },
   {
    "duration": 2215,
    "start_time": "2022-04-24T11:24:46.781Z"
   },
   {
    "duration": 17,
    "start_time": "2022-04-24T11:25:07.299Z"
   },
   {
    "duration": 21,
    "start_time": "2022-04-24T11:26:43.375Z"
   },
   {
    "duration": 23,
    "start_time": "2022-04-24T11:27:54.550Z"
   },
   {
    "duration": 16,
    "start_time": "2022-04-24T11:29:03.049Z"
   },
   {
    "duration": 18,
    "start_time": "2022-04-24T11:29:05.898Z"
   },
   {
    "duration": 10,
    "start_time": "2022-04-24T11:29:36.844Z"
   },
   {
    "duration": 13,
    "start_time": "2022-04-24T11:29:56.284Z"
   },
   {
    "duration": 19,
    "start_time": "2022-04-24T11:30:19.332Z"
   },
   {
    "duration": 21,
    "start_time": "2022-04-24T11:30:28.597Z"
   },
   {
    "duration": 22,
    "start_time": "2022-04-24T11:30:29.962Z"
   },
   {
    "duration": 24,
    "start_time": "2022-04-24T12:19:36.762Z"
   },
   {
    "duration": 24,
    "start_time": "2022-04-24T12:20:08.650Z"
   },
   {
    "duration": 136,
    "start_time": "2022-04-24T12:29:15.344Z"
   },
   {
    "duration": 8,
    "start_time": "2022-04-24T12:29:21.237Z"
   },
   {
    "duration": 8,
    "start_time": "2022-04-24T12:32:17.697Z"
   },
   {
    "duration": 4,
    "start_time": "2022-04-24T12:35:48.318Z"
   },
   {
    "duration": 67,
    "start_time": "2022-04-24T12:35:51.684Z"
   },
   {
    "duration": 66,
    "start_time": "2022-04-24T12:38:24.960Z"
   },
   {
    "duration": 61,
    "start_time": "2022-04-24T12:38:52.168Z"
   },
   {
    "duration": 63,
    "start_time": "2022-04-24T12:39:03.862Z"
   },
   {
    "duration": 62,
    "start_time": "2022-04-24T12:39:20.458Z"
   },
   {
    "duration": 541,
    "start_time": "2022-04-24T12:40:02.444Z"
   },
   {
    "duration": 65,
    "start_time": "2022-04-24T12:40:53.162Z"
   },
   {
    "duration": 140,
    "start_time": "2022-04-24T12:41:33.763Z"
   },
   {
    "duration": 33,
    "start_time": "2022-04-24T12:41:37.749Z"
   },
   {
    "duration": 42,
    "start_time": "2022-04-24T12:41:44.819Z"
   },
   {
    "duration": 134,
    "start_time": "2022-04-24T12:42:00.314Z"
   },
   {
    "duration": 36,
    "start_time": "2022-04-24T12:42:05.188Z"
   },
   {
    "duration": 134,
    "start_time": "2022-04-24T12:42:14.575Z"
   },
   {
    "duration": 36,
    "start_time": "2022-04-24T12:42:19.584Z"
   },
   {
    "duration": 36,
    "start_time": "2022-04-24T12:43:45.387Z"
   },
   {
    "duration": 37,
    "start_time": "2022-04-24T12:43:52.744Z"
   },
   {
    "duration": 38,
    "start_time": "2022-04-24T12:44:03.918Z"
   },
   {
    "duration": 39,
    "start_time": "2022-04-24T12:44:14.027Z"
   },
   {
    "duration": 2,
    "start_time": "2022-04-24T12:55:00.599Z"
   },
   {
    "duration": 114,
    "start_time": "2022-04-24T12:55:11.831Z"
   },
   {
    "duration": 27,
    "start_time": "2022-04-24T12:55:19.297Z"
   },
   {
    "duration": 34,
    "start_time": "2022-04-24T12:55:21.781Z"
   },
   {
    "duration": 16,
    "start_time": "2022-04-24T12:55:29.362Z"
   },
   {
    "duration": 78,
    "start_time": "2022-04-24T12:55:37.819Z"
   },
   {
    "duration": 17,
    "start_time": "2022-04-24T12:58:28.591Z"
   },
   {
    "duration": 18,
    "start_time": "2022-04-24T12:59:06.912Z"
   },
   {
    "duration": 10,
    "start_time": "2022-04-24T12:59:21.223Z"
   },
   {
    "duration": 11,
    "start_time": "2022-04-24T12:59:38.346Z"
   },
   {
    "duration": 6,
    "start_time": "2022-04-24T13:00:39.010Z"
   },
   {
    "duration": 4,
    "start_time": "2022-04-24T13:00:52.814Z"
   },
   {
    "duration": 6,
    "start_time": "2022-04-24T13:00:57.188Z"
   },
   {
    "duration": 3,
    "start_time": "2022-04-24T13:01:00.377Z"
   },
   {
    "duration": 11,
    "start_time": "2022-04-24T13:01:04.321Z"
   },
   {
    "duration": 24,
    "start_time": "2022-04-24T13:01:42.108Z"
   },
   {
    "duration": 23,
    "start_time": "2022-04-24T13:01:54.870Z"
   },
   {
    "duration": 22,
    "start_time": "2022-04-24T13:02:09.887Z"
   },
   {
    "duration": 10,
    "start_time": "2022-04-24T13:02:24.548Z"
   },
   {
    "duration": 17,
    "start_time": "2022-04-24T13:02:45.356Z"
   },
   {
    "duration": 7,
    "start_time": "2022-04-24T13:03:52.263Z"
   },
   {
    "duration": 15,
    "start_time": "2022-04-24T13:04:27.157Z"
   },
   {
    "duration": 8,
    "start_time": "2022-04-24T13:04:34.159Z"
   },
   {
    "duration": 15,
    "start_time": "2022-04-24T13:04:36.706Z"
   },
   {
    "duration": 12,
    "start_time": "2022-04-24T13:04:47.496Z"
   },
   {
    "duration": 6,
    "start_time": "2022-04-24T13:04:56.216Z"
   },
   {
    "duration": 14,
    "start_time": "2022-04-24T13:05:00.826Z"
   },
   {
    "duration": 27,
    "start_time": "2022-04-24T13:06:11.399Z"
   },
   {
    "duration": 16,
    "start_time": "2022-04-24T13:07:02.622Z"
   },
   {
    "duration": 13,
    "start_time": "2022-04-24T13:07:42.513Z"
   },
   {
    "duration": 13,
    "start_time": "2022-04-24T13:08:22.593Z"
   },
   {
    "duration": 3,
    "start_time": "2022-04-24T13:08:28.233Z"
   },
   {
    "duration": 2016,
    "start_time": "2022-04-24T13:08:28.243Z"
   },
   {
    "duration": 28,
    "start_time": "2022-04-24T13:08:30.261Z"
   },
   {
    "duration": 44,
    "start_time": "2022-04-24T13:08:30.291Z"
   },
   {
    "duration": 15,
    "start_time": "2022-04-24T13:08:30.337Z"
   },
   {
    "duration": 94,
    "start_time": "2022-04-24T13:08:30.354Z"
   },
   {
    "duration": 18,
    "start_time": "2022-04-24T13:08:30.449Z"
   },
   {
    "duration": 22,
    "start_time": "2022-04-24T13:08:30.469Z"
   },
   {
    "duration": 11,
    "start_time": "2022-04-24T13:08:30.493Z"
   },
   {
    "duration": 28,
    "start_time": "2022-04-24T13:08:30.506Z"
   },
   {
    "duration": 4,
    "start_time": "2022-04-24T13:08:30.537Z"
   },
   {
    "duration": 13,
    "start_time": "2022-04-24T13:08:30.543Z"
   },
   {
    "duration": 10,
    "start_time": "2022-04-24T13:08:30.558Z"
   },
   {
    "duration": 33,
    "start_time": "2022-04-24T13:08:30.570Z"
   },
   {
    "duration": 35,
    "start_time": "2022-04-24T13:08:30.605Z"
   },
   {
    "duration": 11,
    "start_time": "2022-04-24T13:08:33.998Z"
   },
   {
    "duration": 2,
    "start_time": "2022-04-24T13:09:20.871Z"
   },
   {
    "duration": 109,
    "start_time": "2022-04-24T13:09:20.882Z"
   },
   {
    "duration": 41,
    "start_time": "2022-04-24T13:09:20.993Z"
   },
   {
    "duration": 35,
    "start_time": "2022-04-24T13:09:21.035Z"
   },
   {
    "duration": 16,
    "start_time": "2022-04-24T13:09:21.072Z"
   },
   {
    "duration": 105,
    "start_time": "2022-04-24T13:09:21.090Z"
   },
   {
    "duration": 18,
    "start_time": "2022-04-24T13:09:21.197Z"
   },
   {
    "duration": 25,
    "start_time": "2022-04-24T13:09:21.217Z"
   },
   {
    "duration": 14,
    "start_time": "2022-04-24T13:09:21.244Z"
   },
   {
    "duration": 5,
    "start_time": "2022-04-24T13:09:21.259Z"
   },
   {
    "duration": 4,
    "start_time": "2022-04-24T13:09:21.267Z"
   },
   {
    "duration": 7,
    "start_time": "2022-04-24T13:09:21.272Z"
   },
   {
    "duration": 8,
    "start_time": "2022-04-24T13:09:21.280Z"
   },
   {
    "duration": 60,
    "start_time": "2022-04-24T13:09:21.290Z"
   },
   {
    "duration": 25,
    "start_time": "2022-04-24T13:09:21.352Z"
   },
   {
    "duration": 12,
    "start_time": "2022-04-24T13:09:27.036Z"
   },
   {
    "duration": 6,
    "start_time": "2022-04-24T13:09:31.502Z"
   },
   {
    "duration": 4,
    "start_time": "2022-04-24T13:09:32.150Z"
   },
   {
    "duration": 9,
    "start_time": "2022-04-24T13:09:32.821Z"
   },
   {
    "duration": 15,
    "start_time": "2022-04-24T13:09:33.611Z"
   },
   {
    "duration": 30,
    "start_time": "2022-04-24T13:09:37.902Z"
   },
   {
    "duration": 28,
    "start_time": "2022-04-24T13:10:03.846Z"
   },
   {
    "duration": 3,
    "start_time": "2022-04-24T13:10:23.089Z"
   },
   {
    "duration": 106,
    "start_time": "2022-04-24T13:10:23.102Z"
   },
   {
    "duration": 34,
    "start_time": "2022-04-24T13:10:23.210Z"
   },
   {
    "duration": 32,
    "start_time": "2022-04-24T13:10:23.246Z"
   },
   {
    "duration": 15,
    "start_time": "2022-04-24T13:10:23.280Z"
   },
   {
    "duration": 106,
    "start_time": "2022-04-24T13:10:23.297Z"
   },
   {
    "duration": 31,
    "start_time": "2022-04-24T13:10:23.405Z"
   },
   {
    "duration": 9,
    "start_time": "2022-04-24T13:10:23.438Z"
   },
   {
    "duration": 11,
    "start_time": "2022-04-24T13:10:23.449Z"
   },
   {
    "duration": 6,
    "start_time": "2022-04-24T13:10:23.461Z"
   },
   {
    "duration": 7,
    "start_time": "2022-04-24T13:10:23.470Z"
   },
   {
    "duration": 11,
    "start_time": "2022-04-24T13:10:23.478Z"
   },
   {
    "duration": 10,
    "start_time": "2022-04-24T13:10:23.491Z"
   },
   {
    "duration": 52,
    "start_time": "2022-04-24T13:10:23.503Z"
   },
   {
    "duration": 25,
    "start_time": "2022-04-24T13:10:23.556Z"
   },
   {
    "duration": 13,
    "start_time": "2022-04-24T13:10:23.582Z"
   },
   {
    "duration": 5,
    "start_time": "2022-04-24T13:10:23.597Z"
   },
   {
    "duration": 32,
    "start_time": "2022-04-24T13:10:23.604Z"
   },
   {
    "duration": 11,
    "start_time": "2022-04-24T13:10:23.638Z"
   },
   {
    "duration": 14,
    "start_time": "2022-04-24T13:10:23.651Z"
   },
   {
    "duration": 27,
    "start_time": "2022-04-24T13:10:23.667Z"
   },
   {
    "duration": 27,
    "start_time": "2022-04-24T13:10:29.246Z"
   },
   {
    "duration": 26,
    "start_time": "2022-04-24T13:10:46.341Z"
   },
   {
    "duration": 3,
    "start_time": "2022-04-24T13:11:11.068Z"
   },
   {
    "duration": 106,
    "start_time": "2022-04-24T13:11:11.078Z"
   },
   {
    "duration": 26,
    "start_time": "2022-04-24T13:11:11.186Z"
   },
   {
    "duration": 48,
    "start_time": "2022-04-24T13:11:11.214Z"
   },
   {
    "duration": 15,
    "start_time": "2022-04-24T13:11:11.264Z"
   },
   {
    "duration": 101,
    "start_time": "2022-04-24T13:11:11.281Z"
   },
   {
    "duration": 17,
    "start_time": "2022-04-24T13:11:11.383Z"
   },
   {
    "duration": 10,
    "start_time": "2022-04-24T13:11:11.402Z"
   },
   {
    "duration": 32,
    "start_time": "2022-04-24T13:11:11.414Z"
   },
   {
    "duration": 5,
    "start_time": "2022-04-24T13:11:11.448Z"
   },
   {
    "duration": 7,
    "start_time": "2022-04-24T13:11:11.456Z"
   },
   {
    "duration": 8,
    "start_time": "2022-04-24T13:11:11.465Z"
   },
   {
    "duration": 6,
    "start_time": "2022-04-24T13:11:11.475Z"
   },
   {
    "duration": 27,
    "start_time": "2022-04-24T13:11:11.483Z"
   },
   {
    "duration": 25,
    "start_time": "2022-04-24T13:11:11.533Z"
   },
   {
    "duration": 13,
    "start_time": "2022-04-24T13:11:11.560Z"
   },
   {
    "duration": 6,
    "start_time": "2022-04-24T13:11:11.575Z"
   },
   {
    "duration": 8,
    "start_time": "2022-04-24T13:11:11.582Z"
   },
   {
    "duration": 11,
    "start_time": "2022-04-24T13:11:11.592Z"
   },
   {
    "duration": 14,
    "start_time": "2022-04-24T13:11:11.633Z"
   },
   {
    "duration": 47,
    "start_time": "2022-04-24T13:11:43.846Z"
   },
   {
    "duration": 3,
    "start_time": "2022-04-24T13:13:28.712Z"
   },
   {
    "duration": 651,
    "start_time": "2022-04-24T13:13:29.754Z"
   },
   {
    "duration": 3,
    "start_time": "2022-04-24T13:13:51.716Z"
   },
   {
    "duration": 116,
    "start_time": "2022-04-24T13:13:51.725Z"
   },
   {
    "duration": 32,
    "start_time": "2022-04-24T13:13:51.844Z"
   },
   {
    "duration": 57,
    "start_time": "2022-04-24T13:13:51.878Z"
   },
   {
    "duration": 19,
    "start_time": "2022-04-24T13:13:51.937Z"
   },
   {
    "duration": 102,
    "start_time": "2022-04-24T13:13:51.958Z"
   },
   {
    "duration": 16,
    "start_time": "2022-04-24T13:13:52.062Z"
   },
   {
    "duration": 9,
    "start_time": "2022-04-24T13:13:52.080Z"
   },
   {
    "duration": 10,
    "start_time": "2022-04-24T13:13:52.091Z"
   },
   {
    "duration": 35,
    "start_time": "2022-04-24T13:13:52.103Z"
   },
   {
    "duration": 15,
    "start_time": "2022-04-24T13:13:52.141Z"
   },
   {
    "duration": 7,
    "start_time": "2022-04-24T13:13:52.158Z"
   },
   {
    "duration": 6,
    "start_time": "2022-04-24T13:13:52.166Z"
   },
   {
    "duration": 28,
    "start_time": "2022-04-24T13:13:52.173Z"
   },
   {
    "duration": 50,
    "start_time": "2022-04-24T13:13:52.202Z"
   },
   {
    "duration": 12,
    "start_time": "2022-04-24T13:13:52.254Z"
   },
   {
    "duration": 5,
    "start_time": "2022-04-24T13:13:52.267Z"
   },
   {
    "duration": 6,
    "start_time": "2022-04-24T13:13:52.274Z"
   },
   {
    "duration": 13,
    "start_time": "2022-04-24T13:13:52.282Z"
   },
   {
    "duration": 16,
    "start_time": "2022-04-24T13:13:52.296Z"
   },
   {
    "duration": 33,
    "start_time": "2022-04-24T13:13:52.335Z"
   },
   {
    "duration": 44,
    "start_time": "2022-04-24T13:13:59.947Z"
   },
   {
    "duration": 3,
    "start_time": "2022-04-24T13:14:02.692Z"
   },
   {
    "duration": 722,
    "start_time": "2022-04-24T13:14:04.448Z"
   },
   {
    "duration": 16,
    "start_time": "2022-04-24T13:14:15.650Z"
   },
   {
    "duration": 710,
    "start_time": "2022-04-24T13:14:18.693Z"
   },
   {
    "duration": 671,
    "start_time": "2022-04-24T13:14:42.889Z"
   },
   {
    "duration": 17,
    "start_time": "2022-04-24T13:15:17.506Z"
   },
   {
    "duration": 16,
    "start_time": "2022-04-24T13:15:58.611Z"
   },
   {
    "duration": 635,
    "start_time": "2022-04-24T13:16:28.012Z"
   },
   {
    "duration": 4,
    "start_time": "2022-04-24T13:17:47.612Z"
   },
   {
    "duration": 705,
    "start_time": "2022-04-24T13:17:50.017Z"
   },
   {
    "duration": 2,
    "start_time": "2022-04-24T13:18:25.227Z"
   },
   {
    "duration": 100,
    "start_time": "2022-04-24T13:18:25.241Z"
   },
   {
    "duration": 25,
    "start_time": "2022-04-24T13:18:25.343Z"
   },
   {
    "duration": 35,
    "start_time": "2022-04-24T13:18:25.370Z"
   },
   {
    "duration": 38,
    "start_time": "2022-04-24T13:18:25.407Z"
   },
   {
    "duration": 91,
    "start_time": "2022-04-24T13:18:25.447Z"
   },
   {
    "duration": 17,
    "start_time": "2022-04-24T13:18:25.540Z"
   },
   {
    "duration": 10,
    "start_time": "2022-04-24T13:18:25.559Z"
   },
   {
    "duration": 11,
    "start_time": "2022-04-24T13:18:25.570Z"
   },
   {
    "duration": 6,
    "start_time": "2022-04-24T13:18:25.582Z"
   },
   {
    "duration": 45,
    "start_time": "2022-04-24T13:18:25.590Z"
   },
   {
    "duration": 5,
    "start_time": "2022-04-24T13:18:25.637Z"
   },
   {
    "duration": 4,
    "start_time": "2022-04-24T13:18:25.644Z"
   },
   {
    "duration": 26,
    "start_time": "2022-04-24T13:18:25.649Z"
   },
   {
    "duration": 24,
    "start_time": "2022-04-24T13:18:25.676Z"
   },
   {
    "duration": 42,
    "start_time": "2022-04-24T13:18:25.702Z"
   },
   {
    "duration": 5,
    "start_time": "2022-04-24T13:18:25.746Z"
   },
   {
    "duration": 7,
    "start_time": "2022-04-24T13:18:25.752Z"
   },
   {
    "duration": 12,
    "start_time": "2022-04-24T13:18:25.760Z"
   },
   {
    "duration": 16,
    "start_time": "2022-04-24T13:18:25.773Z"
   },
   {
    "duration": 58,
    "start_time": "2022-04-24T13:18:25.790Z"
   },
   {
    "duration": 47,
    "start_time": "2022-04-24T13:18:25.850Z"
   },
   {
    "duration": 3,
    "start_time": "2022-04-24T13:18:25.899Z"
   },
   {
    "duration": 666,
    "start_time": "2022-04-24T13:18:25.904Z"
   },
   {
    "duration": 0,
    "start_time": "2022-04-24T13:18:26.572Z"
   },
   {
    "duration": 0,
    "start_time": "2022-04-24T13:18:26.574Z"
   },
   {
    "duration": 0,
    "start_time": "2022-04-24T13:18:26.575Z"
   },
   {
    "duration": 0,
    "start_time": "2022-04-24T13:18:26.576Z"
   },
   {
    "duration": 0,
    "start_time": "2022-04-24T13:18:26.577Z"
   },
   {
    "duration": 0,
    "start_time": "2022-04-24T13:18:26.578Z"
   },
   {
    "duration": 0,
    "start_time": "2022-04-24T13:18:26.579Z"
   },
   {
    "duration": 0,
    "start_time": "2022-04-24T13:18:26.580Z"
   },
   {
    "duration": 0,
    "start_time": "2022-04-24T13:18:26.581Z"
   },
   {
    "duration": 0,
    "start_time": "2022-04-24T13:18:26.582Z"
   },
   {
    "duration": 0,
    "start_time": "2022-04-24T13:18:26.583Z"
   },
   {
    "duration": 0,
    "start_time": "2022-04-24T13:18:26.584Z"
   },
   {
    "duration": 0,
    "start_time": "2022-04-24T13:18:26.585Z"
   },
   {
    "duration": 0,
    "start_time": "2022-04-24T13:18:26.586Z"
   },
   {
    "duration": 0,
    "start_time": "2022-04-24T13:18:26.587Z"
   },
   {
    "duration": 0,
    "start_time": "2022-04-24T13:18:26.588Z"
   },
   {
    "duration": 0,
    "start_time": "2022-04-24T13:18:26.589Z"
   },
   {
    "duration": 0,
    "start_time": "2022-04-24T13:18:26.590Z"
   },
   {
    "duration": 0,
    "start_time": "2022-04-24T13:18:26.591Z"
   },
   {
    "duration": 0,
    "start_time": "2022-04-24T13:18:26.592Z"
   },
   {
    "duration": 0,
    "start_time": "2022-04-24T13:18:26.593Z"
   },
   {
    "duration": 0,
    "start_time": "2022-04-24T13:18:26.594Z"
   },
   {
    "duration": 0,
    "start_time": "2022-04-24T13:18:26.595Z"
   },
   {
    "duration": 0,
    "start_time": "2022-04-24T13:18:26.596Z"
   },
   {
    "duration": 0,
    "start_time": "2022-04-24T13:18:26.597Z"
   },
   {
    "duration": 0,
    "start_time": "2022-04-24T13:18:26.598Z"
   },
   {
    "duration": 0,
    "start_time": "2022-04-24T13:18:26.599Z"
   },
   {
    "duration": 0,
    "start_time": "2022-04-24T13:18:26.601Z"
   },
   {
    "duration": 0,
    "start_time": "2022-04-24T13:18:26.602Z"
   },
   {
    "duration": 0,
    "start_time": "2022-04-24T13:18:26.603Z"
   },
   {
    "duration": 32,
    "start_time": "2022-04-24T13:18:27.145Z"
   },
   {
    "duration": 30,
    "start_time": "2022-04-24T13:18:27.179Z"
   },
   {
    "duration": 2,
    "start_time": "2022-04-24T13:19:35.720Z"
   },
   {
    "duration": 115,
    "start_time": "2022-04-24T13:19:35.731Z"
   },
   {
    "duration": 29,
    "start_time": "2022-04-24T13:19:35.848Z"
   },
   {
    "duration": 54,
    "start_time": "2022-04-24T13:19:35.880Z"
   },
   {
    "duration": 16,
    "start_time": "2022-04-24T13:19:35.936Z"
   },
   {
    "duration": 89,
    "start_time": "2022-04-24T13:19:35.953Z"
   },
   {
    "duration": 17,
    "start_time": "2022-04-24T13:19:36.043Z"
   },
   {
    "duration": 10,
    "start_time": "2022-04-24T13:19:36.063Z"
   },
   {
    "duration": 14,
    "start_time": "2022-04-24T13:19:36.074Z"
   },
   {
    "duration": 14,
    "start_time": "2022-04-24T13:19:36.090Z"
   },
   {
    "duration": 32,
    "start_time": "2022-04-24T13:19:36.107Z"
   },
   {
    "duration": 6,
    "start_time": "2022-04-24T13:19:36.141Z"
   },
   {
    "duration": 7,
    "start_time": "2022-04-24T13:19:36.149Z"
   },
   {
    "duration": 27,
    "start_time": "2022-04-24T13:19:36.157Z"
   },
   {
    "duration": 48,
    "start_time": "2022-04-24T13:19:36.186Z"
   },
   {
    "duration": 11,
    "start_time": "2022-04-24T13:19:36.236Z"
   },
   {
    "duration": 5,
    "start_time": "2022-04-24T13:19:36.249Z"
   },
   {
    "duration": 6,
    "start_time": "2022-04-24T13:19:36.256Z"
   },
   {
    "duration": 11,
    "start_time": "2022-04-24T13:19:36.263Z"
   },
   {
    "duration": 16,
    "start_time": "2022-04-24T13:19:36.276Z"
   },
   {
    "duration": 58,
    "start_time": "2022-04-24T13:19:36.294Z"
   },
   {
    "duration": 45,
    "start_time": "2022-04-24T13:19:36.353Z"
   },
   {
    "duration": 3,
    "start_time": "2022-04-24T13:19:40.370Z"
   },
   {
    "duration": 329,
    "start_time": "2022-04-24T13:19:41.989Z"
   },
   {
    "duration": 429,
    "start_time": "2022-04-24T13:19:50.293Z"
   },
   {
    "duration": 28,
    "start_time": "2022-04-24T13:20:08.416Z"
   },
   {
    "duration": 142,
    "start_time": "2022-04-24T13:21:02.590Z"
   },
   {
    "duration": 1096,
    "start_time": "2022-04-24T13:21:56.342Z"
   },
   {
    "duration": 44,
    "start_time": "2022-04-24T13:22:33.728Z"
   },
   {
    "duration": 39,
    "start_time": "2022-04-24T13:22:52.371Z"
   },
   {
    "duration": 16,
    "start_time": "2022-04-24T13:23:37.106Z"
   },
   {
    "duration": 4,
    "start_time": "2022-04-24T13:24:02.297Z"
   },
   {
    "duration": 68,
    "start_time": "2022-04-24T13:24:03.927Z"
   },
   {
    "duration": 50,
    "start_time": "2022-04-24T13:24:17.233Z"
   },
   {
    "duration": 102,
    "start_time": "2022-04-24T13:24:18.099Z"
   },
   {
    "duration": 5,
    "start_time": "2022-04-24T13:24:50.378Z"
   },
   {
    "duration": 5,
    "start_time": "2022-04-24T13:25:11.856Z"
   },
   {
    "duration": 6,
    "start_time": "2022-04-24T13:25:56.762Z"
   },
   {
    "duration": 33,
    "start_time": "2022-04-24T13:26:06.881Z"
   },
   {
    "duration": 36,
    "start_time": "2022-04-24T13:27:47.366Z"
   },
   {
    "duration": 37,
    "start_time": "2022-04-24T13:27:54.537Z"
   },
   {
    "duration": 32,
    "start_time": "2022-04-24T13:28:01.329Z"
   },
   {
    "duration": 22,
    "start_time": "2022-04-24T13:28:07.515Z"
   },
   {
    "duration": 9,
    "start_time": "2022-04-24T13:28:30.112Z"
   },
   {
    "duration": 4,
    "start_time": "2022-04-24T13:28:50.270Z"
   },
   {
    "duration": 32,
    "start_time": "2022-04-24T13:29:00.390Z"
   },
   {
    "duration": 17,
    "start_time": "2022-04-24T13:29:10.087Z"
   },
   {
    "duration": 155,
    "start_time": "2022-04-24T13:29:25.110Z"
   },
   {
    "duration": 11,
    "start_time": "2022-04-24T13:29:43.102Z"
   },
   {
    "duration": 23,
    "start_time": "2022-04-24T13:29:47.470Z"
   },
   {
    "duration": 21,
    "start_time": "2022-04-24T13:29:55.832Z"
   },
   {
    "duration": 24,
    "start_time": "2022-04-24T13:30:01.891Z"
   },
   {
    "duration": 8,
    "start_time": "2022-04-24T13:30:39.618Z"
   },
   {
    "duration": 8,
    "start_time": "2022-04-24T13:30:53.730Z"
   },
   {
    "duration": 33,
    "start_time": "2022-04-24T13:31:48.901Z"
   },
   {
    "duration": 38,
    "start_time": "2022-04-24T13:32:12.878Z"
   },
   {
    "duration": 644,
    "start_time": "2022-04-30T19:36:54.996Z"
   },
   {
    "duration": 93,
    "start_time": "2022-04-30T19:36:55.642Z"
   },
   {
    "duration": 21,
    "start_time": "2022-04-30T19:36:55.737Z"
   },
   {
    "duration": 25,
    "start_time": "2022-04-30T19:36:55.759Z"
   },
   {
    "duration": 25,
    "start_time": "2022-04-30T19:36:55.786Z"
   },
   {
    "duration": 60,
    "start_time": "2022-04-30T19:36:55.813Z"
   },
   {
    "duration": 35,
    "start_time": "2022-04-30T19:36:55.874Z"
   },
   {
    "duration": 8,
    "start_time": "2022-04-30T19:36:55.911Z"
   },
   {
    "duration": 11,
    "start_time": "2022-04-30T19:36:55.921Z"
   },
   {
    "duration": 5,
    "start_time": "2022-04-30T19:36:55.933Z"
   },
   {
    "duration": 3,
    "start_time": "2022-04-30T19:36:55.940Z"
   },
   {
    "duration": 9,
    "start_time": "2022-04-30T19:36:55.945Z"
   },
   {
    "duration": 9,
    "start_time": "2022-04-30T19:36:55.955Z"
   },
   {
    "duration": 50,
    "start_time": "2022-04-30T19:36:55.967Z"
   },
   {
    "duration": 25,
    "start_time": "2022-04-30T19:36:56.019Z"
   },
   {
    "duration": 13,
    "start_time": "2022-04-30T19:36:56.045Z"
   },
   {
    "duration": 5,
    "start_time": "2022-04-30T19:36:56.059Z"
   },
   {
    "duration": 6,
    "start_time": "2022-04-30T19:36:56.065Z"
   },
   {
    "duration": 29,
    "start_time": "2022-04-30T19:36:56.072Z"
   },
   {
    "duration": 13,
    "start_time": "2022-04-30T19:36:56.103Z"
   },
   {
    "duration": 23,
    "start_time": "2022-04-30T19:36:56.117Z"
   },
   {
    "duration": 59,
    "start_time": "2022-04-30T19:36:56.142Z"
   },
   {
    "duration": 3,
    "start_time": "2022-04-30T19:36:56.202Z"
   },
   {
    "duration": 304,
    "start_time": "2022-04-30T19:36:56.207Z"
   },
   {
    "duration": 23,
    "start_time": "2022-04-30T19:36:56.513Z"
   },
   {
    "duration": 124,
    "start_time": "2022-04-30T19:36:56.537Z"
   },
   {
    "duration": 889,
    "start_time": "2022-04-30T19:36:56.662Z"
   },
   {
    "duration": 1203,
    "start_time": "2022-04-30T19:36:57.552Z"
   },
   {
    "duration": 44,
    "start_time": "2022-04-30T19:36:58.756Z"
   },
   {
    "duration": 13,
    "start_time": "2022-04-30T19:36:58.801Z"
   },
   {
    "duration": 3,
    "start_time": "2022-04-30T19:36:58.816Z"
   },
   {
    "duration": 68,
    "start_time": "2022-04-30T19:36:58.820Z"
   },
   {
    "duration": 35,
    "start_time": "2022-04-30T19:36:58.899Z"
   },
   {
    "duration": 78,
    "start_time": "2022-04-30T19:36:58.936Z"
   },
   {
    "duration": 5,
    "start_time": "2022-04-30T19:36:59.016Z"
   },
   {
    "duration": 5,
    "start_time": "2022-04-30T19:36:59.022Z"
   },
   {
    "duration": 5,
    "start_time": "2022-04-30T19:36:59.029Z"
   },
   {
    "duration": 28,
    "start_time": "2022-04-30T19:36:59.036Z"
   },
   {
    "duration": 62,
    "start_time": "2022-04-30T19:36:59.066Z"
   },
   {
    "duration": 29,
    "start_time": "2022-04-30T19:36:59.129Z"
   },
   {
    "duration": 45,
    "start_time": "2022-04-30T19:36:59.162Z"
   },
   {
    "duration": 17,
    "start_time": "2022-04-30T19:36:59.208Z"
   },
   {
    "duration": 6,
    "start_time": "2022-04-30T19:36:59.227Z"
   },
   {
    "duration": 6,
    "start_time": "2022-04-30T19:36:59.235Z"
   },
   {
    "duration": 27,
    "start_time": "2022-04-30T19:36:59.242Z"
   },
   {
    "duration": 30,
    "start_time": "2022-04-30T19:36:59.271Z"
   },
   {
    "duration": 125,
    "start_time": "2022-04-30T19:36:59.302Z"
   },
   {
    "duration": 6,
    "start_time": "2022-04-30T19:36:59.429Z"
   },
   {
    "duration": 20,
    "start_time": "2022-04-30T19:36:59.436Z"
   },
   {
    "duration": 17,
    "start_time": "2022-04-30T19:36:59.457Z"
   },
   {
    "duration": 27,
    "start_time": "2022-04-30T19:36:59.475Z"
   },
   {
    "duration": 6,
    "start_time": "2022-04-30T19:36:59.503Z"
   },
   {
    "duration": 27,
    "start_time": "2022-04-30T19:36:59.511Z"
   },
   {
    "duration": 29,
    "start_time": "2022-04-30T19:36:59.540Z"
   },
   {
    "duration": 57,
    "start_time": "2022-04-30T19:36:59.571Z"
   },
   {
    "duration": 26,
    "start_time": "2022-04-30T19:36:59.629Z"
   },
   {
    "duration": 4,
    "start_time": "2022-04-30T19:44:28.363Z"
   },
   {
    "duration": 639,
    "start_time": "2022-04-30T20:03:22.146Z"
   },
   {
    "duration": 107,
    "start_time": "2022-04-30T20:03:22.787Z"
   },
   {
    "duration": 26,
    "start_time": "2022-04-30T20:03:22.896Z"
   },
   {
    "duration": 29,
    "start_time": "2022-04-30T20:03:22.924Z"
   },
   {
    "duration": 13,
    "start_time": "2022-04-30T20:03:22.955Z"
   },
   {
    "duration": 82,
    "start_time": "2022-04-30T20:03:22.970Z"
   },
   {
    "duration": 14,
    "start_time": "2022-04-30T20:03:23.053Z"
   },
   {
    "duration": 7,
    "start_time": "2022-04-30T20:03:23.068Z"
   },
   {
    "duration": 34,
    "start_time": "2022-04-30T20:03:23.077Z"
   },
   {
    "duration": 17,
    "start_time": "2022-04-30T20:03:23.112Z"
   },
   {
    "duration": 29,
    "start_time": "2022-04-30T20:03:23.130Z"
   },
   {
    "duration": 35,
    "start_time": "2022-04-30T20:03:23.161Z"
   },
   {
    "duration": 37,
    "start_time": "2022-04-30T20:03:23.198Z"
   },
   {
    "duration": 44,
    "start_time": "2022-04-30T20:03:23.238Z"
   },
   {
    "duration": 41,
    "start_time": "2022-04-30T20:03:23.283Z"
   },
   {
    "duration": 12,
    "start_time": "2022-04-30T20:03:23.326Z"
   },
   {
    "duration": 8,
    "start_time": "2022-04-30T20:03:23.339Z"
   },
   {
    "duration": 15,
    "start_time": "2022-04-30T20:03:23.349Z"
   },
   {
    "duration": 23,
    "start_time": "2022-04-30T20:03:23.365Z"
   },
   {
    "duration": 37,
    "start_time": "2022-04-30T20:03:23.389Z"
   },
   {
    "duration": 34,
    "start_time": "2022-04-30T20:03:23.427Z"
   },
   {
    "duration": 50,
    "start_time": "2022-04-30T20:03:23.462Z"
   },
   {
    "duration": 4,
    "start_time": "2022-04-30T20:03:23.515Z"
   },
   {
    "duration": 345,
    "start_time": "2022-04-30T20:03:23.521Z"
   },
   {
    "duration": 20,
    "start_time": "2022-04-30T20:03:23.868Z"
   },
   {
    "duration": 130,
    "start_time": "2022-04-30T20:03:23.889Z"
   },
   {
    "duration": 895,
    "start_time": "2022-04-30T20:03:24.022Z"
   },
   {
    "duration": 1210,
    "start_time": "2022-04-30T20:03:24.919Z"
   },
   {
    "duration": 33,
    "start_time": "2022-04-30T20:03:26.131Z"
   },
   {
    "duration": 30,
    "start_time": "2022-04-30T20:03:26.166Z"
   },
   {
    "duration": 25,
    "start_time": "2022-04-30T20:03:26.199Z"
   },
   {
    "duration": 71,
    "start_time": "2022-04-30T20:03:26.226Z"
   },
   {
    "duration": 44,
    "start_time": "2022-04-30T20:03:26.298Z"
   },
   {
    "duration": 76,
    "start_time": "2022-04-30T20:03:26.343Z"
   },
   {
    "duration": 4,
    "start_time": "2022-04-30T20:03:26.421Z"
   },
   {
    "duration": 34,
    "start_time": "2022-04-30T20:03:26.427Z"
   },
   {
    "duration": 16,
    "start_time": "2022-04-30T20:03:26.463Z"
   },
   {
    "duration": 45,
    "start_time": "2022-04-30T20:03:26.480Z"
   },
   {
    "duration": 30,
    "start_time": "2022-04-30T20:03:26.527Z"
   },
   {
    "duration": 30,
    "start_time": "2022-04-30T20:03:26.559Z"
   },
   {
    "duration": 29,
    "start_time": "2022-04-30T20:03:26.604Z"
   },
   {
    "duration": 17,
    "start_time": "2022-04-30T20:03:26.634Z"
   },
   {
    "duration": 15,
    "start_time": "2022-04-30T20:03:26.653Z"
   },
   {
    "duration": 20,
    "start_time": "2022-04-30T20:03:26.669Z"
   },
   {
    "duration": 44,
    "start_time": "2022-04-30T20:03:26.691Z"
   },
   {
    "duration": 21,
    "start_time": "2022-04-30T20:03:26.737Z"
   },
   {
    "duration": 124,
    "start_time": "2022-04-30T20:03:26.759Z"
   },
   {
    "duration": 7,
    "start_time": "2022-04-30T20:03:26.885Z"
   },
   {
    "duration": 38,
    "start_time": "2022-04-30T20:03:26.894Z"
   },
   {
    "duration": 25,
    "start_time": "2022-04-30T20:03:26.933Z"
   },
   {
    "duration": 6,
    "start_time": "2022-04-30T20:03:26.960Z"
   },
   {
    "duration": 10,
    "start_time": "2022-04-30T20:03:26.967Z"
   },
   {
    "duration": 47,
    "start_time": "2022-04-30T20:03:26.978Z"
   },
   {
    "duration": 39,
    "start_time": "2022-04-30T20:03:27.026Z"
   },
   {
    "duration": 28,
    "start_time": "2022-04-30T20:03:27.066Z"
   },
   {
    "duration": 30,
    "start_time": "2022-04-30T20:03:27.095Z"
   },
   {
    "duration": 884,
    "start_time": "2022-05-01T07:25:32.061Z"
   },
   {
    "duration": 146,
    "start_time": "2022-05-01T07:25:34.561Z"
   },
   {
    "duration": 32,
    "start_time": "2022-05-01T07:25:39.003Z"
   },
   {
    "duration": 43,
    "start_time": "2022-05-01T07:25:40.482Z"
   },
   {
    "duration": 20,
    "start_time": "2022-05-01T07:25:46.973Z"
   },
   {
    "duration": 89,
    "start_time": "2022-05-01T07:25:52.161Z"
   },
   {
    "duration": 22,
    "start_time": "2022-05-01T07:26:25.444Z"
   },
   {
    "duration": 17,
    "start_time": "2022-05-01T07:27:23.769Z"
   },
   {
    "duration": 2,
    "start_time": "2022-05-01T07:50:01.415Z"
   },
   {
    "duration": 97,
    "start_time": "2022-05-01T07:50:01.425Z"
   },
   {
    "duration": 24,
    "start_time": "2022-05-01T07:50:01.523Z"
   },
   {
    "duration": 33,
    "start_time": "2022-05-01T07:50:01.548Z"
   },
   {
    "duration": 12,
    "start_time": "2022-05-01T07:50:01.583Z"
   },
   {
    "duration": 93,
    "start_time": "2022-05-01T07:50:01.597Z"
   },
   {
    "duration": 15,
    "start_time": "2022-05-01T07:50:01.691Z"
   },
   {
    "duration": 20,
    "start_time": "2022-05-01T07:50:01.708Z"
   },
   {
    "duration": 36,
    "start_time": "2022-05-01T07:50:01.729Z"
   },
   {
    "duration": 5,
    "start_time": "2022-05-01T07:50:01.767Z"
   },
   {
    "duration": 22,
    "start_time": "2022-05-01T07:50:01.774Z"
   },
   {
    "duration": 22,
    "start_time": "2022-05-01T07:50:01.798Z"
   },
   {
    "duration": 8,
    "start_time": "2022-05-01T07:50:01.821Z"
   },
   {
    "duration": 56,
    "start_time": "2022-05-01T07:50:01.831Z"
   },
   {
    "duration": 36,
    "start_time": "2022-05-01T07:50:01.889Z"
   },
   {
    "duration": 6,
    "start_time": "2022-05-01T07:51:32.576Z"
   },
   {
    "duration": 72,
    "start_time": "2022-05-01T07:51:56.495Z"
   },
   {
    "duration": 8,
    "start_time": "2022-05-01T07:52:14.471Z"
   },
   {
    "duration": 7,
    "start_time": "2022-05-01T07:53:30.535Z"
   },
   {
    "duration": 8,
    "start_time": "2022-05-01T07:53:47.365Z"
   },
   {
    "duration": 9,
    "start_time": "2022-05-01T07:53:57.842Z"
   },
   {
    "duration": 9,
    "start_time": "2022-05-01T07:54:05.105Z"
   },
   {
    "duration": 5,
    "start_time": "2022-05-01T07:54:15.880Z"
   },
   {
    "duration": 11,
    "start_time": "2022-05-01T07:57:21.693Z"
   },
   {
    "duration": 13,
    "start_time": "2022-05-01T07:58:46.587Z"
   },
   {
    "duration": 16,
    "start_time": "2022-05-01T07:59:17.008Z"
   },
   {
    "duration": 7,
    "start_time": "2022-05-01T08:00:34.363Z"
   },
   {
    "duration": 12,
    "start_time": "2022-05-01T08:03:14.583Z"
   },
   {
    "duration": 22,
    "start_time": "2022-05-01T08:05:27.137Z"
   },
   {
    "duration": 5,
    "start_time": "2022-05-01T08:05:53.851Z"
   },
   {
    "duration": 6,
    "start_time": "2022-05-01T08:07:15.214Z"
   },
   {
    "duration": 3,
    "start_time": "2022-05-01T08:08:32.880Z"
   },
   {
    "duration": 129,
    "start_time": "2022-05-01T08:08:32.892Z"
   },
   {
    "duration": 30,
    "start_time": "2022-05-01T08:08:33.023Z"
   },
   {
    "duration": 28,
    "start_time": "2022-05-01T08:08:33.054Z"
   },
   {
    "duration": 41,
    "start_time": "2022-05-01T08:08:33.084Z"
   },
   {
    "duration": 65,
    "start_time": "2022-05-01T08:08:33.126Z"
   },
   {
    "duration": 33,
    "start_time": "2022-05-01T08:08:33.193Z"
   },
   {
    "duration": 9,
    "start_time": "2022-05-01T08:08:33.227Z"
   },
   {
    "duration": 12,
    "start_time": "2022-05-01T08:08:33.238Z"
   },
   {
    "duration": 5,
    "start_time": "2022-05-01T08:08:33.251Z"
   },
   {
    "duration": 4,
    "start_time": "2022-05-01T08:08:33.259Z"
   },
   {
    "duration": 8,
    "start_time": "2022-05-01T08:08:33.265Z"
   },
   {
    "duration": 14,
    "start_time": "2022-05-01T08:08:33.275Z"
   },
   {
    "duration": 50,
    "start_time": "2022-05-01T08:08:33.291Z"
   },
   {
    "duration": 25,
    "start_time": "2022-05-01T08:08:33.343Z"
   },
   {
    "duration": 5,
    "start_time": "2022-05-01T08:08:33.369Z"
   },
   {
    "duration": 18,
    "start_time": "2022-05-01T08:08:33.376Z"
   },
   {
    "duration": 31,
    "start_time": "2022-05-01T08:08:33.396Z"
   },
   {
    "duration": 18,
    "start_time": "2022-05-01T08:08:33.790Z"
   },
   {
    "duration": 16,
    "start_time": "2022-05-01T08:08:33.812Z"
   },
   {
    "duration": 7,
    "start_time": "2022-05-01T08:08:33.834Z"
   },
   {
    "duration": 4,
    "start_time": "2022-05-01T08:08:33.848Z"
   },
   {
    "duration": 11,
    "start_time": "2022-05-01T08:08:33.860Z"
   },
   {
    "duration": 20,
    "start_time": "2022-05-01T08:08:33.873Z"
   },
   {
    "duration": 33,
    "start_time": "2022-05-01T08:08:33.931Z"
   },
   {
    "duration": 69,
    "start_time": "2022-05-01T08:08:33.966Z"
   },
   {
    "duration": 4,
    "start_time": "2022-05-01T08:08:34.037Z"
   },
   {
    "duration": 355,
    "start_time": "2022-05-01T08:08:34.043Z"
   },
   {
    "duration": 33,
    "start_time": "2022-05-01T08:08:34.400Z"
   },
   {
    "duration": 124,
    "start_time": "2022-05-01T08:08:34.435Z"
   },
   {
    "duration": 928,
    "start_time": "2022-05-01T08:08:34.560Z"
   },
   {
    "duration": 908,
    "start_time": "2022-05-01T08:09:42.409Z"
   },
   {
    "duration": 738,
    "start_time": "2022-05-01T08:09:56.867Z"
   },
   {
    "duration": 831,
    "start_time": "2022-05-01T08:10:06.516Z"
   },
   {
    "duration": 802,
    "start_time": "2022-05-01T08:10:15.131Z"
   },
   {
    "duration": 778,
    "start_time": "2022-05-01T08:10:22.523Z"
   },
   {
    "duration": 791,
    "start_time": "2022-05-01T08:10:31.748Z"
   },
   {
    "duration": 8,
    "start_time": "2022-05-01T08:27:25.262Z"
   },
   {
    "duration": 3,
    "start_time": "2022-05-01T08:27:30.845Z"
   },
   {
    "duration": 103,
    "start_time": "2022-05-01T08:27:30.855Z"
   },
   {
    "duration": 25,
    "start_time": "2022-05-01T08:27:30.960Z"
   },
   {
    "duration": 54,
    "start_time": "2022-05-01T08:27:30.986Z"
   },
   {
    "duration": 14,
    "start_time": "2022-05-01T08:27:31.042Z"
   },
   {
    "duration": 89,
    "start_time": "2022-05-01T08:27:31.058Z"
   },
   {
    "duration": 17,
    "start_time": "2022-05-01T08:27:31.149Z"
   },
   {
    "duration": 12,
    "start_time": "2022-05-01T08:27:31.167Z"
   },
   {
    "duration": 14,
    "start_time": "2022-05-01T08:27:31.181Z"
   },
   {
    "duration": 6,
    "start_time": "2022-05-01T08:27:31.224Z"
   },
   {
    "duration": 7,
    "start_time": "2022-05-01T08:27:31.233Z"
   },
   {
    "duration": 18,
    "start_time": "2022-05-01T08:27:31.242Z"
   },
   {
    "duration": 12,
    "start_time": "2022-05-01T08:27:31.261Z"
   },
   {
    "duration": 25,
    "start_time": "2022-05-01T08:27:31.274Z"
   },
   {
    "duration": 39,
    "start_time": "2022-05-01T08:27:31.301Z"
   },
   {
    "duration": 6,
    "start_time": "2022-05-01T08:27:31.341Z"
   },
   {
    "duration": 32,
    "start_time": "2022-05-01T08:27:31.348Z"
   },
   {
    "duration": 7,
    "start_time": "2022-05-01T08:27:31.382Z"
   },
   {
    "duration": 34,
    "start_time": "2022-05-01T08:27:31.390Z"
   },
   {
    "duration": 12,
    "start_time": "2022-05-01T08:27:31.426Z"
   },
   {
    "duration": 6,
    "start_time": "2022-05-01T08:27:31.439Z"
   },
   {
    "duration": 12,
    "start_time": "2022-05-01T08:27:31.446Z"
   },
   {
    "duration": 13,
    "start_time": "2022-05-01T08:27:31.459Z"
   },
   {
    "duration": 29,
    "start_time": "2022-05-01T08:27:31.474Z"
   },
   {
    "duration": 40,
    "start_time": "2022-05-01T08:27:31.505Z"
   },
   {
    "duration": 40,
    "start_time": "2022-05-01T08:27:31.547Z"
   },
   {
    "duration": 3,
    "start_time": "2022-05-01T08:27:31.588Z"
   },
   {
    "duration": 357,
    "start_time": "2022-05-01T08:27:31.593Z"
   },
   {
    "duration": 24,
    "start_time": "2022-05-01T08:27:31.954Z"
   },
   {
    "duration": 124,
    "start_time": "2022-05-01T08:27:31.980Z"
   },
   {
    "duration": 961,
    "start_time": "2022-05-01T08:27:32.106Z"
   },
   {
    "duration": 1269,
    "start_time": "2022-05-01T08:27:33.069Z"
   },
   {
    "duration": 32,
    "start_time": "2022-05-01T08:27:34.339Z"
   },
   {
    "duration": 13,
    "start_time": "2022-05-01T08:27:34.373Z"
   },
   {
    "duration": 7,
    "start_time": "2022-05-01T08:27:34.388Z"
   },
   {
    "duration": 84,
    "start_time": "2022-05-01T08:27:34.396Z"
   },
   {
    "duration": 47,
    "start_time": "2022-05-01T08:27:34.482Z"
   },
   {
    "duration": 75,
    "start_time": "2022-05-01T08:27:34.531Z"
   },
   {
    "duration": 16,
    "start_time": "2022-05-01T08:27:34.608Z"
   },
   {
    "duration": 5,
    "start_time": "2022-05-01T08:27:34.626Z"
   },
   {
    "duration": 5,
    "start_time": "2022-05-01T08:27:34.632Z"
   },
   {
    "duration": 33,
    "start_time": "2022-05-01T08:27:34.639Z"
   },
   {
    "duration": 62,
    "start_time": "2022-05-01T08:27:34.674Z"
   },
   {
    "duration": 33,
    "start_time": "2022-05-01T08:27:34.737Z"
   },
   {
    "duration": 27,
    "start_time": "2022-05-01T08:27:34.771Z"
   },
   {
    "duration": 43,
    "start_time": "2022-05-01T08:27:34.800Z"
   },
   {
    "duration": 8,
    "start_time": "2022-05-01T08:27:34.845Z"
   },
   {
    "duration": 4,
    "start_time": "2022-05-01T08:27:34.855Z"
   },
   {
    "duration": 19,
    "start_time": "2022-05-01T08:27:34.861Z"
   },
   {
    "duration": 10,
    "start_time": "2022-05-01T08:27:34.882Z"
   },
   {
    "duration": 13,
    "start_time": "2022-05-01T08:27:34.923Z"
   },
   {
    "duration": 10,
    "start_time": "2022-05-01T08:27:45.625Z"
   },
   {
    "duration": 21,
    "start_time": "2022-05-01T08:27:50.310Z"
   },
   {
    "duration": 20,
    "start_time": "2022-05-01T08:27:54.479Z"
   },
   {
    "duration": 7,
    "start_time": "2022-05-01T08:28:15.999Z"
   },
   {
    "duration": 12,
    "start_time": "2022-05-01T08:28:46.011Z"
   },
   {
    "duration": 10,
    "start_time": "2022-05-01T08:29:33.198Z"
   },
   {
    "duration": 19,
    "start_time": "2022-05-01T08:29:43.936Z"
   },
   {
    "duration": 28,
    "start_time": "2022-05-01T08:30:09.808Z"
   },
   {
    "duration": 16,
    "start_time": "2022-05-01T08:30:13.716Z"
   },
   {
    "duration": 134,
    "start_time": "2022-05-01T08:30:20.543Z"
   },
   {
    "duration": 7,
    "start_time": "2022-05-01T08:30:27.912Z"
   },
   {
    "duration": 19,
    "start_time": "2022-05-01T08:30:28.716Z"
   },
   {
    "duration": 20,
    "start_time": "2022-05-01T08:30:31.676Z"
   },
   {
    "duration": 8,
    "start_time": "2022-05-01T08:30:35.390Z"
   },
   {
    "duration": 7,
    "start_time": "2022-05-01T08:30:48.934Z"
   },
   {
    "duration": 31,
    "start_time": "2022-05-01T08:31:01.522Z"
   },
   {
    "duration": 33,
    "start_time": "2022-05-01T08:31:34.487Z"
   },
   {
    "duration": 28,
    "start_time": "2022-05-01T08:31:38.992Z"
   },
   {
    "duration": 620,
    "start_time": "2022-05-01T08:32:24.460Z"
   },
   {
    "duration": 102,
    "start_time": "2022-05-01T08:32:25.083Z"
   },
   {
    "duration": 42,
    "start_time": "2022-05-01T08:32:25.187Z"
   },
   {
    "duration": 29,
    "start_time": "2022-05-01T08:32:25.232Z"
   },
   {
    "duration": 15,
    "start_time": "2022-05-01T08:32:25.263Z"
   },
   {
    "duration": 86,
    "start_time": "2022-05-01T08:32:25.280Z"
   },
   {
    "duration": 14,
    "start_time": "2022-05-01T08:32:25.368Z"
   },
   {
    "duration": 8,
    "start_time": "2022-05-01T08:32:25.384Z"
   },
   {
    "duration": 32,
    "start_time": "2022-05-01T08:32:25.393Z"
   },
   {
    "duration": 6,
    "start_time": "2022-05-01T08:32:25.427Z"
   },
   {
    "duration": 7,
    "start_time": "2022-05-01T08:32:25.434Z"
   },
   {
    "duration": 8,
    "start_time": "2022-05-01T08:32:25.442Z"
   },
   {
    "duration": 6,
    "start_time": "2022-05-01T08:32:25.451Z"
   },
   {
    "duration": 25,
    "start_time": "2022-05-01T08:32:25.458Z"
   },
   {
    "duration": 47,
    "start_time": "2022-05-01T08:32:25.484Z"
   },
   {
    "duration": 5,
    "start_time": "2022-05-01T08:32:25.532Z"
   },
   {
    "duration": 17,
    "start_time": "2022-05-01T08:32:25.538Z"
   },
   {
    "duration": 6,
    "start_time": "2022-05-01T08:32:25.556Z"
   },
   {
    "duration": 14,
    "start_time": "2022-05-01T08:32:25.563Z"
   },
   {
    "duration": 45,
    "start_time": "2022-05-01T08:32:25.579Z"
   },
   {
    "duration": 5,
    "start_time": "2022-05-01T08:32:25.625Z"
   },
   {
    "duration": 8,
    "start_time": "2022-05-01T08:32:25.631Z"
   },
   {
    "duration": 10,
    "start_time": "2022-05-01T08:32:25.640Z"
   },
   {
    "duration": 16,
    "start_time": "2022-05-01T08:32:25.651Z"
   },
   {
    "duration": 24,
    "start_time": "2022-05-01T08:32:25.669Z"
   },
   {
    "duration": 60,
    "start_time": "2022-05-01T08:32:25.695Z"
   },
   {
    "duration": 3,
    "start_time": "2022-05-01T08:32:25.757Z"
   },
   {
    "duration": 327,
    "start_time": "2022-05-01T08:32:25.765Z"
   },
   {
    "duration": 31,
    "start_time": "2022-05-01T08:32:26.094Z"
   },
   {
    "duration": 118,
    "start_time": "2022-05-01T08:32:26.127Z"
   },
   {
    "duration": 802,
    "start_time": "2022-05-01T08:32:26.247Z"
   },
   {
    "duration": 1165,
    "start_time": "2022-05-01T08:32:27.051Z"
   },
   {
    "duration": 32,
    "start_time": "2022-05-01T08:32:28.223Z"
   },
   {
    "duration": 15,
    "start_time": "2022-05-01T08:32:28.257Z"
   },
   {
    "duration": 11,
    "start_time": "2022-05-01T08:32:28.274Z"
   },
   {
    "duration": 83,
    "start_time": "2022-05-01T08:32:28.287Z"
   },
   {
    "duration": 39,
    "start_time": "2022-05-01T08:32:28.372Z"
   },
   {
    "duration": 76,
    "start_time": "2022-05-01T08:32:28.423Z"
   },
   {
    "duration": 6,
    "start_time": "2022-05-01T08:32:28.501Z"
   },
   {
    "duration": 6,
    "start_time": "2022-05-01T08:32:28.524Z"
   },
   {
    "duration": 9,
    "start_time": "2022-05-01T08:32:28.532Z"
   },
   {
    "duration": 33,
    "start_time": "2022-05-01T08:32:28.543Z"
   },
   {
    "duration": 52,
    "start_time": "2022-05-01T08:32:28.577Z"
   },
   {
    "duration": 32,
    "start_time": "2022-05-01T08:32:28.631Z"
   },
   {
    "duration": 28,
    "start_time": "2022-05-01T08:32:28.664Z"
   },
   {
    "duration": 41,
    "start_time": "2022-05-01T08:32:28.694Z"
   },
   {
    "duration": 7,
    "start_time": "2022-05-01T08:32:28.736Z"
   },
   {
    "duration": 6,
    "start_time": "2022-05-01T08:32:28.745Z"
   },
   {
    "duration": 28,
    "start_time": "2022-05-01T08:32:28.752Z"
   },
   {
    "duration": 14,
    "start_time": "2022-05-01T08:32:28.782Z"
   },
   {
    "duration": 159,
    "start_time": "2022-05-01T08:32:28.797Z"
   },
   {
    "duration": 8,
    "start_time": "2022-05-01T08:32:28.958Z"
   },
   {
    "duration": 23,
    "start_time": "2022-05-01T08:32:28.967Z"
   },
   {
    "duration": 35,
    "start_time": "2022-05-01T08:32:28.991Z"
   },
   {
    "duration": 6,
    "start_time": "2022-05-01T08:32:29.028Z"
   },
   {
    "duration": 9,
    "start_time": "2022-05-01T08:32:29.036Z"
   },
   {
    "duration": 32,
    "start_time": "2022-05-01T08:32:29.046Z"
   },
   {
    "duration": 63,
    "start_time": "2022-05-01T08:32:29.079Z"
   },
   {
    "duration": 32,
    "start_time": "2022-05-01T08:32:29.143Z"
   },
   {
    "duration": 50,
    "start_time": "2022-05-01T08:32:29.176Z"
   },
   {
    "duration": 1117,
    "start_time": "2022-05-01T14:16:36.520Z"
   },
   {
    "duration": 132,
    "start_time": "2022-05-01T14:16:37.640Z"
   },
   {
    "duration": 36,
    "start_time": "2022-05-01T14:16:37.774Z"
   },
   {
    "duration": 70,
    "start_time": "2022-05-01T14:16:37.812Z"
   },
   {
    "duration": 21,
    "start_time": "2022-05-01T14:16:37.885Z"
   },
   {
    "duration": 123,
    "start_time": "2022-05-01T14:16:37.908Z"
   },
   {
    "duration": 31,
    "start_time": "2022-05-01T14:16:38.033Z"
   },
   {
    "duration": 13,
    "start_time": "2022-05-01T14:16:38.066Z"
   },
   {
    "duration": 15,
    "start_time": "2022-05-01T14:16:38.081Z"
   },
   {
    "duration": 8,
    "start_time": "2022-05-01T14:16:38.098Z"
   },
   {
    "duration": 45,
    "start_time": "2022-05-01T14:16:38.108Z"
   },
   {
    "duration": 12,
    "start_time": "2022-05-01T14:16:38.155Z"
   },
   {
    "duration": 14,
    "start_time": "2022-05-01T14:16:38.169Z"
   },
   {
    "duration": 45,
    "start_time": "2022-05-01T14:16:38.187Z"
   },
   {
    "duration": 54,
    "start_time": "2022-05-01T14:16:38.234Z"
   },
   {
    "duration": 6,
    "start_time": "2022-05-01T14:16:38.291Z"
   },
   {
    "duration": 26,
    "start_time": "2022-05-01T14:16:38.299Z"
   },
   {
    "duration": 26,
    "start_time": "2022-05-01T14:16:38.328Z"
   },
   {
    "duration": 29,
    "start_time": "2022-05-01T14:16:38.356Z"
   },
   {
    "duration": 17,
    "start_time": "2022-05-01T14:16:38.387Z"
   },
   {
    "duration": 10,
    "start_time": "2022-05-01T14:16:38.406Z"
   },
   {
    "duration": 36,
    "start_time": "2022-05-01T14:16:38.418Z"
   },
   {
    "duration": 22,
    "start_time": "2022-05-01T14:16:38.456Z"
   },
   {
    "duration": 26,
    "start_time": "2022-05-01T14:16:38.480Z"
   },
   {
    "duration": 48,
    "start_time": "2022-05-01T14:16:38.508Z"
   },
   {
    "duration": 64,
    "start_time": "2022-05-01T14:16:38.558Z"
   },
   {
    "duration": 4,
    "start_time": "2022-05-01T14:16:38.624Z"
   },
   {
    "duration": 562,
    "start_time": "2022-05-01T14:16:38.651Z"
   },
   {
    "duration": 53,
    "start_time": "2022-05-01T14:16:39.215Z"
   },
   {
    "duration": 181,
    "start_time": "2022-05-01T14:16:39.270Z"
   },
   {
    "duration": 1446,
    "start_time": "2022-05-01T14:16:39.453Z"
   },
   {
    "duration": 2123,
    "start_time": "2022-05-01T14:16:40.901Z"
   },
   {
    "duration": 57,
    "start_time": "2022-05-01T14:16:43.026Z"
   },
   {
    "duration": 19,
    "start_time": "2022-05-01T14:16:43.085Z"
   },
   {
    "duration": 12,
    "start_time": "2022-05-01T14:16:43.105Z"
   },
   {
    "duration": 117,
    "start_time": "2022-05-01T14:16:43.119Z"
   },
   {
    "duration": 61,
    "start_time": "2022-05-01T14:16:43.238Z"
   },
   {
    "duration": 132,
    "start_time": "2022-05-01T14:16:43.301Z"
   },
   {
    "duration": 6,
    "start_time": "2022-05-01T14:16:43.435Z"
   },
   {
    "duration": 9,
    "start_time": "2022-05-01T14:16:43.451Z"
   },
   {
    "duration": 10,
    "start_time": "2022-05-01T14:16:43.466Z"
   },
   {
    "duration": 54,
    "start_time": "2022-05-01T14:16:43.478Z"
   },
   {
    "duration": 49,
    "start_time": "2022-05-01T14:16:43.551Z"
   },
   {
    "duration": 68,
    "start_time": "2022-05-01T14:16:43.602Z"
   },
   {
    "duration": 45,
    "start_time": "2022-05-01T14:16:43.672Z"
   },
   {
    "duration": 56,
    "start_time": "2022-05-01T14:16:43.719Z"
   },
   {
    "duration": 12,
    "start_time": "2022-05-01T14:16:43.778Z"
   },
   {
    "duration": 7,
    "start_time": "2022-05-01T14:16:43.793Z"
   },
   {
    "duration": 79,
    "start_time": "2022-05-01T14:16:43.802Z"
   },
   {
    "duration": 24,
    "start_time": "2022-05-01T14:16:43.884Z"
   },
   {
    "duration": 262,
    "start_time": "2022-05-01T14:16:43.911Z"
   },
   {
    "duration": 12,
    "start_time": "2022-05-01T14:16:44.176Z"
   },
   {
    "duration": 30,
    "start_time": "2022-05-01T14:16:44.191Z"
   },
   {
    "duration": 54,
    "start_time": "2022-05-01T14:16:44.223Z"
   },
   {
    "duration": 10,
    "start_time": "2022-05-01T14:16:44.279Z"
   },
   {
    "duration": 11,
    "start_time": "2022-05-01T14:16:44.292Z"
   },
   {
    "duration": 87,
    "start_time": "2022-05-01T14:16:44.305Z"
   },
   {
    "duration": 58,
    "start_time": "2022-05-01T14:16:44.395Z"
   },
   {
    "duration": 49,
    "start_time": "2022-05-01T14:16:44.455Z"
   },
   {
    "duration": 68,
    "start_time": "2022-05-01T14:16:44.506Z"
   }
  ],
  "kernelspec": {
   "display_name": "Python 3",
   "language": "python",
   "name": "python3"
  },
  "language_info": {
   "codemirror_mode": {
    "name": "ipython",
    "version": 3
   },
   "file_extension": ".py",
   "mimetype": "text/x-python",
   "name": "python",
   "nbconvert_exporter": "python",
   "pygments_lexer": "ipython3",
   "version": "3.8.5"
  },
  "toc": {
   "base_numbering": 1,
   "nav_menu": {},
   "number_sections": true,
   "sideBar": true,
   "skip_h1_title": true,
   "title_cell": "Содержание",
   "title_sidebar": "Contents",
   "toc_cell": true,
   "toc_position": {
    "height": "calc(100% - 180px)",
    "left": "10px",
    "top": "150px",
    "width": "165px"
   },
   "toc_section_display": true,
   "toc_window_display": true
  }
 },
 "nbformat": 4,
 "nbformat_minor": 4
}
