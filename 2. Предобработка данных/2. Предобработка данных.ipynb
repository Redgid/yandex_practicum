{
 "cells": [
  {
   "cell_type": "markdown",
   "metadata": {},
   "source": [
    "# Исследование надежности заемщиков"
   ]
  },
  {
   "cell_type": "markdown",
   "metadata": {},
   "source": [
    "## **Описание проекта**\n"
   ]
  },
  {
   "cell_type": "markdown",
   "metadata": {},
   "source": [
    "Заказчик — кредитный отдел банка. Нужно разобраться, влияет ли семейное положение, количество детей, уровень дохода и цель кредита клиента на факт погашения кредита в срок. Входные данные от банка — статистика о платёжеспособности клиентов.\n",
    "Результаты исследования будут учтены при построении модели кредитного скоринга — специальной системы, которая оценивает способность потенциального заёмщика вернуть кредит банку"
   ]
  },
  {
   "cell_type": "markdown",
   "metadata": {},
   "source": [
    "## Обзор данных"
   ]
  },
  {
   "cell_type": "code",
   "execution_count": 27,
   "metadata": {},
   "outputs": [],
   "source": [
    "#импортируем необходимые библиотеки для работы с данными\n",
    "import pandas as pd"
   ]
  },
  {
   "cell_type": "code",
   "execution_count": 28,
   "metadata": {},
   "outputs": [
    {
     "name": "stdout",
     "output_type": "stream",
     "text": [
      "<class 'pandas.core.frame.DataFrame'>\n",
      "RangeIndex: 21525 entries, 0 to 21524\n",
      "Data columns (total 12 columns):\n",
      " #   Column            Non-Null Count  Dtype  \n",
      "---  ------            --------------  -----  \n",
      " 0   children          21525 non-null  int64  \n",
      " 1   days_employed     19351 non-null  float64\n",
      " 2   dob_years         21525 non-null  int64  \n",
      " 3   education         21525 non-null  object \n",
      " 4   education_id      21525 non-null  int64  \n",
      " 5   family_status     21525 non-null  object \n",
      " 6   family_status_id  21525 non-null  int64  \n",
      " 7   gender            21525 non-null  object \n",
      " 8   income_type       21525 non-null  object \n",
      " 9   debt              21525 non-null  int64  \n",
      " 10  total_income      19351 non-null  float64\n",
      " 11  purpose           21525 non-null  object \n",
      "dtypes: float64(2), int64(5), object(5)\n",
      "memory usage: 2.0+ MB\n"
     ]
    }
   ],
   "source": [
    "#откроем и сохраним датафрейм clients, содержащий информацию о клиентах банка, с помощью метода read.csv\n",
    "clients = pd.read_csv('/datasets/data.csv')\n",
    "#изучим общую информацию о данных вызвав метод info\n",
    "clients.info()"
   ]
  },
  {
   "cell_type": "markdown",
   "metadata": {},
   "source": [
    "**Описание данных:**"
   ]
  },
  {
   "cell_type": "markdown",
   "metadata": {},
   "source": [
    "Перед нами датафрейм, содержащий **21525** строк и **12** столбцов\n",
    "- `children` — количество детей в семье \n",
    "- `days_employed` — общий трудовой стаж в днях\n",
    "- `dob_years` — возраст клиента в годах\n",
    "- `education` — уровень образования клиента\n",
    "- `education_id` — идентификатор уровня образования\n",
    "- `family_status` — семейное положение\n",
    "- `family_status_id` — идентификатор семейного положения\n",
    "- `gender` — пол клиента\n",
    "- `income_type` — тип занятости\n",
    "- `debt` — имел ли задолженность по возврату кредитов\n",
    "- `total_income` — ежемесячный доход\n",
    "- `purpose` — цель получения кредита"
   ]
  },
  {
   "cell_type": "markdown",
   "metadata": {},
   "source": [
    "Названия столбцов корректны по стилю оформления, но названия некоторых столбцов неудобны для чтения/понимания значений в этих столбцах"
   ]
  },
  {
   "cell_type": "markdown",
   "metadata": {},
   "source": [
    "2 столбца: `days_employed` и `total_income` содержат прощунные значения"
   ]
  },
  {
   "cell_type": "markdown",
   "metadata": {},
   "source": [
    "Взглянем на \"head\" и \"tail\" таблицы clients"
   ]
  },
  {
   "cell_type": "code",
   "execution_count": 29,
   "metadata": {
    "scrolled": true
   },
   "outputs": [
    {
     "data": {
      "text/html": [
       "<div>\n",
       "<style scoped>\n",
       "    .dataframe tbody tr th:only-of-type {\n",
       "        vertical-align: middle;\n",
       "    }\n",
       "\n",
       "    .dataframe tbody tr th {\n",
       "        vertical-align: top;\n",
       "    }\n",
       "\n",
       "    .dataframe thead th {\n",
       "        text-align: right;\n",
       "    }\n",
       "</style>\n",
       "<table border=\"1\" class=\"dataframe\">\n",
       "  <thead>\n",
       "    <tr style=\"text-align: right;\">\n",
       "      <th></th>\n",
       "      <th>children</th>\n",
       "      <th>days_employed</th>\n",
       "      <th>dob_years</th>\n",
       "      <th>education</th>\n",
       "      <th>education_id</th>\n",
       "      <th>family_status</th>\n",
       "      <th>family_status_id</th>\n",
       "      <th>gender</th>\n",
       "      <th>income_type</th>\n",
       "      <th>debt</th>\n",
       "      <th>total_income</th>\n",
       "      <th>purpose</th>\n",
       "    </tr>\n",
       "  </thead>\n",
       "  <tbody>\n",
       "    <tr>\n",
       "      <th>0</th>\n",
       "      <td>1</td>\n",
       "      <td>-8437.673028</td>\n",
       "      <td>42</td>\n",
       "      <td>высшее</td>\n",
       "      <td>0</td>\n",
       "      <td>женат / замужем</td>\n",
       "      <td>0</td>\n",
       "      <td>F</td>\n",
       "      <td>сотрудник</td>\n",
       "      <td>0</td>\n",
       "      <td>253875.639453</td>\n",
       "      <td>покупка жилья</td>\n",
       "    </tr>\n",
       "    <tr>\n",
       "      <th>1</th>\n",
       "      <td>1</td>\n",
       "      <td>-4024.803754</td>\n",
       "      <td>36</td>\n",
       "      <td>среднее</td>\n",
       "      <td>1</td>\n",
       "      <td>женат / замужем</td>\n",
       "      <td>0</td>\n",
       "      <td>F</td>\n",
       "      <td>сотрудник</td>\n",
       "      <td>0</td>\n",
       "      <td>112080.014102</td>\n",
       "      <td>приобретение автомобиля</td>\n",
       "    </tr>\n",
       "    <tr>\n",
       "      <th>2</th>\n",
       "      <td>0</td>\n",
       "      <td>-5623.422610</td>\n",
       "      <td>33</td>\n",
       "      <td>Среднее</td>\n",
       "      <td>1</td>\n",
       "      <td>женат / замужем</td>\n",
       "      <td>0</td>\n",
       "      <td>M</td>\n",
       "      <td>сотрудник</td>\n",
       "      <td>0</td>\n",
       "      <td>145885.952297</td>\n",
       "      <td>покупка жилья</td>\n",
       "    </tr>\n",
       "    <tr>\n",
       "      <th>3</th>\n",
       "      <td>3</td>\n",
       "      <td>-4124.747207</td>\n",
       "      <td>32</td>\n",
       "      <td>среднее</td>\n",
       "      <td>1</td>\n",
       "      <td>женат / замужем</td>\n",
       "      <td>0</td>\n",
       "      <td>M</td>\n",
       "      <td>сотрудник</td>\n",
       "      <td>0</td>\n",
       "      <td>267628.550329</td>\n",
       "      <td>дополнительное образование</td>\n",
       "    </tr>\n",
       "    <tr>\n",
       "      <th>4</th>\n",
       "      <td>0</td>\n",
       "      <td>340266.072047</td>\n",
       "      <td>53</td>\n",
       "      <td>среднее</td>\n",
       "      <td>1</td>\n",
       "      <td>гражданский брак</td>\n",
       "      <td>1</td>\n",
       "      <td>F</td>\n",
       "      <td>пенсионер</td>\n",
       "      <td>0</td>\n",
       "      <td>158616.077870</td>\n",
       "      <td>сыграть свадьбу</td>\n",
       "    </tr>\n",
       "    <tr>\n",
       "      <th>5</th>\n",
       "      <td>0</td>\n",
       "      <td>-926.185831</td>\n",
       "      <td>27</td>\n",
       "      <td>высшее</td>\n",
       "      <td>0</td>\n",
       "      <td>гражданский брак</td>\n",
       "      <td>1</td>\n",
       "      <td>M</td>\n",
       "      <td>компаньон</td>\n",
       "      <td>0</td>\n",
       "      <td>255763.565419</td>\n",
       "      <td>покупка жилья</td>\n",
       "    </tr>\n",
       "    <tr>\n",
       "      <th>6</th>\n",
       "      <td>0</td>\n",
       "      <td>-2879.202052</td>\n",
       "      <td>43</td>\n",
       "      <td>высшее</td>\n",
       "      <td>0</td>\n",
       "      <td>женат / замужем</td>\n",
       "      <td>0</td>\n",
       "      <td>F</td>\n",
       "      <td>компаньон</td>\n",
       "      <td>0</td>\n",
       "      <td>240525.971920</td>\n",
       "      <td>операции с жильем</td>\n",
       "    </tr>\n",
       "    <tr>\n",
       "      <th>7</th>\n",
       "      <td>0</td>\n",
       "      <td>-152.779569</td>\n",
       "      <td>50</td>\n",
       "      <td>СРЕДНЕЕ</td>\n",
       "      <td>1</td>\n",
       "      <td>женат / замужем</td>\n",
       "      <td>0</td>\n",
       "      <td>M</td>\n",
       "      <td>сотрудник</td>\n",
       "      <td>0</td>\n",
       "      <td>135823.934197</td>\n",
       "      <td>образование</td>\n",
       "    </tr>\n",
       "    <tr>\n",
       "      <th>8</th>\n",
       "      <td>2</td>\n",
       "      <td>-6929.865299</td>\n",
       "      <td>35</td>\n",
       "      <td>ВЫСШЕЕ</td>\n",
       "      <td>0</td>\n",
       "      <td>гражданский брак</td>\n",
       "      <td>1</td>\n",
       "      <td>F</td>\n",
       "      <td>сотрудник</td>\n",
       "      <td>0</td>\n",
       "      <td>95856.832424</td>\n",
       "      <td>на проведение свадьбы</td>\n",
       "    </tr>\n",
       "    <tr>\n",
       "      <th>9</th>\n",
       "      <td>0</td>\n",
       "      <td>-2188.756445</td>\n",
       "      <td>41</td>\n",
       "      <td>среднее</td>\n",
       "      <td>1</td>\n",
       "      <td>женат / замужем</td>\n",
       "      <td>0</td>\n",
       "      <td>M</td>\n",
       "      <td>сотрудник</td>\n",
       "      <td>0</td>\n",
       "      <td>144425.938277</td>\n",
       "      <td>покупка жилья для семьи</td>\n",
       "    </tr>\n",
       "  </tbody>\n",
       "</table>\n",
       "</div>"
      ],
      "text/plain": [
       "   children  days_employed  dob_years education  education_id  \\\n",
       "0         1   -8437.673028         42    высшее             0   \n",
       "1         1   -4024.803754         36   среднее             1   \n",
       "2         0   -5623.422610         33   Среднее             1   \n",
       "3         3   -4124.747207         32   среднее             1   \n",
       "4         0  340266.072047         53   среднее             1   \n",
       "5         0    -926.185831         27    высшее             0   \n",
       "6         0   -2879.202052         43    высшее             0   \n",
       "7         0    -152.779569         50   СРЕДНЕЕ             1   \n",
       "8         2   -6929.865299         35    ВЫСШЕЕ             0   \n",
       "9         0   -2188.756445         41   среднее             1   \n",
       "\n",
       "      family_status  family_status_id gender income_type  debt   total_income  \\\n",
       "0   женат / замужем                 0      F   сотрудник     0  253875.639453   \n",
       "1   женат / замужем                 0      F   сотрудник     0  112080.014102   \n",
       "2   женат / замужем                 0      M   сотрудник     0  145885.952297   \n",
       "3   женат / замужем                 0      M   сотрудник     0  267628.550329   \n",
       "4  гражданский брак                 1      F   пенсионер     0  158616.077870   \n",
       "5  гражданский брак                 1      M   компаньон     0  255763.565419   \n",
       "6   женат / замужем                 0      F   компаньон     0  240525.971920   \n",
       "7   женат / замужем                 0      M   сотрудник     0  135823.934197   \n",
       "8  гражданский брак                 1      F   сотрудник     0   95856.832424   \n",
       "9   женат / замужем                 0      M   сотрудник     0  144425.938277   \n",
       "\n",
       "                      purpose  \n",
       "0               покупка жилья  \n",
       "1     приобретение автомобиля  \n",
       "2               покупка жилья  \n",
       "3  дополнительное образование  \n",
       "4             сыграть свадьбу  \n",
       "5               покупка жилья  \n",
       "6           операции с жильем  \n",
       "7                 образование  \n",
       "8       на проведение свадьбы  \n",
       "9     покупка жилья для семьи  "
      ]
     },
     "metadata": {},
     "output_type": "display_data"
    },
    {
     "data": {
      "text/html": [
       "<div>\n",
       "<style scoped>\n",
       "    .dataframe tbody tr th:only-of-type {\n",
       "        vertical-align: middle;\n",
       "    }\n",
       "\n",
       "    .dataframe tbody tr th {\n",
       "        vertical-align: top;\n",
       "    }\n",
       "\n",
       "    .dataframe thead th {\n",
       "        text-align: right;\n",
       "    }\n",
       "</style>\n",
       "<table border=\"1\" class=\"dataframe\">\n",
       "  <thead>\n",
       "    <tr style=\"text-align: right;\">\n",
       "      <th></th>\n",
       "      <th>children</th>\n",
       "      <th>days_employed</th>\n",
       "      <th>dob_years</th>\n",
       "      <th>education</th>\n",
       "      <th>education_id</th>\n",
       "      <th>family_status</th>\n",
       "      <th>family_status_id</th>\n",
       "      <th>gender</th>\n",
       "      <th>income_type</th>\n",
       "      <th>debt</th>\n",
       "      <th>total_income</th>\n",
       "      <th>purpose</th>\n",
       "    </tr>\n",
       "  </thead>\n",
       "  <tbody>\n",
       "    <tr>\n",
       "      <th>21515</th>\n",
       "      <td>1</td>\n",
       "      <td>-467.685130</td>\n",
       "      <td>28</td>\n",
       "      <td>среднее</td>\n",
       "      <td>1</td>\n",
       "      <td>женат / замужем</td>\n",
       "      <td>0</td>\n",
       "      <td>F</td>\n",
       "      <td>сотрудник</td>\n",
       "      <td>1</td>\n",
       "      <td>109486.327999</td>\n",
       "      <td>заняться образованием</td>\n",
       "    </tr>\n",
       "    <tr>\n",
       "      <th>21516</th>\n",
       "      <td>0</td>\n",
       "      <td>-914.391429</td>\n",
       "      <td>42</td>\n",
       "      <td>высшее</td>\n",
       "      <td>0</td>\n",
       "      <td>женат / замужем</td>\n",
       "      <td>0</td>\n",
       "      <td>F</td>\n",
       "      <td>компаньон</td>\n",
       "      <td>0</td>\n",
       "      <td>322807.776603</td>\n",
       "      <td>покупка своего жилья</td>\n",
       "    </tr>\n",
       "    <tr>\n",
       "      <th>21517</th>\n",
       "      <td>0</td>\n",
       "      <td>-404.679034</td>\n",
       "      <td>42</td>\n",
       "      <td>высшее</td>\n",
       "      <td>0</td>\n",
       "      <td>гражданский брак</td>\n",
       "      <td>1</td>\n",
       "      <td>F</td>\n",
       "      <td>компаньон</td>\n",
       "      <td>0</td>\n",
       "      <td>178059.553491</td>\n",
       "      <td>на покупку своего автомобиля</td>\n",
       "    </tr>\n",
       "    <tr>\n",
       "      <th>21518</th>\n",
       "      <td>0</td>\n",
       "      <td>373995.710838</td>\n",
       "      <td>59</td>\n",
       "      <td>СРЕДНЕЕ</td>\n",
       "      <td>1</td>\n",
       "      <td>женат / замужем</td>\n",
       "      <td>0</td>\n",
       "      <td>F</td>\n",
       "      <td>пенсионер</td>\n",
       "      <td>0</td>\n",
       "      <td>153864.650328</td>\n",
       "      <td>сделка с автомобилем</td>\n",
       "    </tr>\n",
       "    <tr>\n",
       "      <th>21519</th>\n",
       "      <td>1</td>\n",
       "      <td>-2351.431934</td>\n",
       "      <td>37</td>\n",
       "      <td>ученая степень</td>\n",
       "      <td>4</td>\n",
       "      <td>в разводе</td>\n",
       "      <td>3</td>\n",
       "      <td>M</td>\n",
       "      <td>сотрудник</td>\n",
       "      <td>0</td>\n",
       "      <td>115949.039788</td>\n",
       "      <td>покупка коммерческой недвижимости</td>\n",
       "    </tr>\n",
       "    <tr>\n",
       "      <th>21520</th>\n",
       "      <td>1</td>\n",
       "      <td>-4529.316663</td>\n",
       "      <td>43</td>\n",
       "      <td>среднее</td>\n",
       "      <td>1</td>\n",
       "      <td>гражданский брак</td>\n",
       "      <td>1</td>\n",
       "      <td>F</td>\n",
       "      <td>компаньон</td>\n",
       "      <td>0</td>\n",
       "      <td>224791.862382</td>\n",
       "      <td>операции с жильем</td>\n",
       "    </tr>\n",
       "    <tr>\n",
       "      <th>21521</th>\n",
       "      <td>0</td>\n",
       "      <td>343937.404131</td>\n",
       "      <td>67</td>\n",
       "      <td>среднее</td>\n",
       "      <td>1</td>\n",
       "      <td>женат / замужем</td>\n",
       "      <td>0</td>\n",
       "      <td>F</td>\n",
       "      <td>пенсионер</td>\n",
       "      <td>0</td>\n",
       "      <td>155999.806512</td>\n",
       "      <td>сделка с автомобилем</td>\n",
       "    </tr>\n",
       "    <tr>\n",
       "      <th>21522</th>\n",
       "      <td>1</td>\n",
       "      <td>-2113.346888</td>\n",
       "      <td>38</td>\n",
       "      <td>среднее</td>\n",
       "      <td>1</td>\n",
       "      <td>гражданский брак</td>\n",
       "      <td>1</td>\n",
       "      <td>M</td>\n",
       "      <td>сотрудник</td>\n",
       "      <td>1</td>\n",
       "      <td>89672.561153</td>\n",
       "      <td>недвижимость</td>\n",
       "    </tr>\n",
       "    <tr>\n",
       "      <th>21523</th>\n",
       "      <td>3</td>\n",
       "      <td>-3112.481705</td>\n",
       "      <td>38</td>\n",
       "      <td>среднее</td>\n",
       "      <td>1</td>\n",
       "      <td>женат / замужем</td>\n",
       "      <td>0</td>\n",
       "      <td>M</td>\n",
       "      <td>сотрудник</td>\n",
       "      <td>1</td>\n",
       "      <td>244093.050500</td>\n",
       "      <td>на покупку своего автомобиля</td>\n",
       "    </tr>\n",
       "    <tr>\n",
       "      <th>21524</th>\n",
       "      <td>2</td>\n",
       "      <td>-1984.507589</td>\n",
       "      <td>40</td>\n",
       "      <td>среднее</td>\n",
       "      <td>1</td>\n",
       "      <td>женат / замужем</td>\n",
       "      <td>0</td>\n",
       "      <td>F</td>\n",
       "      <td>сотрудник</td>\n",
       "      <td>0</td>\n",
       "      <td>82047.418899</td>\n",
       "      <td>на покупку автомобиля</td>\n",
       "    </tr>\n",
       "  </tbody>\n",
       "</table>\n",
       "</div>"
      ],
      "text/plain": [
       "       children  days_employed  dob_years       education  education_id  \\\n",
       "21515         1    -467.685130         28         среднее             1   \n",
       "21516         0    -914.391429         42          высшее             0   \n",
       "21517         0    -404.679034         42          высшее             0   \n",
       "21518         0  373995.710838         59         СРЕДНЕЕ             1   \n",
       "21519         1   -2351.431934         37  ученая степень             4   \n",
       "21520         1   -4529.316663         43         среднее             1   \n",
       "21521         0  343937.404131         67         среднее             1   \n",
       "21522         1   -2113.346888         38         среднее             1   \n",
       "21523         3   -3112.481705         38         среднее             1   \n",
       "21524         2   -1984.507589         40         среднее             1   \n",
       "\n",
       "          family_status  family_status_id gender income_type  debt  \\\n",
       "21515   женат / замужем                 0      F   сотрудник     1   \n",
       "21516   женат / замужем                 0      F   компаньон     0   \n",
       "21517  гражданский брак                 1      F   компаньон     0   \n",
       "21518   женат / замужем                 0      F   пенсионер     0   \n",
       "21519         в разводе                 3      M   сотрудник     0   \n",
       "21520  гражданский брак                 1      F   компаньон     0   \n",
       "21521   женат / замужем                 0      F   пенсионер     0   \n",
       "21522  гражданский брак                 1      M   сотрудник     1   \n",
       "21523   женат / замужем                 0      M   сотрудник     1   \n",
       "21524   женат / замужем                 0      F   сотрудник     0   \n",
       "\n",
       "        total_income                            purpose  \n",
       "21515  109486.327999              заняться образованием  \n",
       "21516  322807.776603               покупка своего жилья  \n",
       "21517  178059.553491       на покупку своего автомобиля  \n",
       "21518  153864.650328               сделка с автомобилем  \n",
       "21519  115949.039788  покупка коммерческой недвижимости  \n",
       "21520  224791.862382                  операции с жильем  \n",
       "21521  155999.806512               сделка с автомобилем  \n",
       "21522   89672.561153                       недвижимость  \n",
       "21523  244093.050500       на покупку своего автомобиля  \n",
       "21524   82047.418899              на покупку автомобиля  "
      ]
     },
     "metadata": {},
     "output_type": "display_data"
    }
   ],
   "source": [
    "#взглянем на первые и последние 10 строк нашей таблицы \n",
    "display(clients.head(10))\n",
    "display(clients.tail(10))"
   ]
  },
  {
   "cell_type": "markdown",
   "metadata": {},
   "source": [
    "И так же посмотрим на основные описательные статистики по каждому из столбцов, это может помочь сделать определенные выводы"
   ]
  },
  {
   "cell_type": "code",
   "execution_count": 30,
   "metadata": {},
   "outputs": [
    {
     "data": {
      "text/html": [
       "<div>\n",
       "<style scoped>\n",
       "    .dataframe tbody tr th:only-of-type {\n",
       "        vertical-align: middle;\n",
       "    }\n",
       "\n",
       "    .dataframe tbody tr th {\n",
       "        vertical-align: top;\n",
       "    }\n",
       "\n",
       "    .dataframe thead th {\n",
       "        text-align: right;\n",
       "    }\n",
       "</style>\n",
       "<table border=\"1\" class=\"dataframe\">\n",
       "  <thead>\n",
       "    <tr style=\"text-align: right;\">\n",
       "      <th></th>\n",
       "      <th>children</th>\n",
       "      <th>days_employed</th>\n",
       "      <th>dob_years</th>\n",
       "      <th>education_id</th>\n",
       "      <th>family_status_id</th>\n",
       "      <th>debt</th>\n",
       "      <th>total_income</th>\n",
       "    </tr>\n",
       "  </thead>\n",
       "  <tbody>\n",
       "    <tr>\n",
       "      <th>count</th>\n",
       "      <td>21525.000000</td>\n",
       "      <td>19351.000000</td>\n",
       "      <td>21525.000000</td>\n",
       "      <td>21525.000000</td>\n",
       "      <td>21525.000000</td>\n",
       "      <td>21525.000000</td>\n",
       "      <td>1.935100e+04</td>\n",
       "    </tr>\n",
       "    <tr>\n",
       "      <th>mean</th>\n",
       "      <td>0.538908</td>\n",
       "      <td>63046.497661</td>\n",
       "      <td>43.293380</td>\n",
       "      <td>0.817236</td>\n",
       "      <td>0.972544</td>\n",
       "      <td>0.080883</td>\n",
       "      <td>1.674223e+05</td>\n",
       "    </tr>\n",
       "    <tr>\n",
       "      <th>std</th>\n",
       "      <td>1.381587</td>\n",
       "      <td>140827.311974</td>\n",
       "      <td>12.574584</td>\n",
       "      <td>0.548138</td>\n",
       "      <td>1.420324</td>\n",
       "      <td>0.272661</td>\n",
       "      <td>1.029716e+05</td>\n",
       "    </tr>\n",
       "    <tr>\n",
       "      <th>min</th>\n",
       "      <td>-1.000000</td>\n",
       "      <td>-18388.949901</td>\n",
       "      <td>0.000000</td>\n",
       "      <td>0.000000</td>\n",
       "      <td>0.000000</td>\n",
       "      <td>0.000000</td>\n",
       "      <td>2.066726e+04</td>\n",
       "    </tr>\n",
       "    <tr>\n",
       "      <th>25%</th>\n",
       "      <td>0.000000</td>\n",
       "      <td>-2747.423625</td>\n",
       "      <td>33.000000</td>\n",
       "      <td>1.000000</td>\n",
       "      <td>0.000000</td>\n",
       "      <td>0.000000</td>\n",
       "      <td>1.030532e+05</td>\n",
       "    </tr>\n",
       "    <tr>\n",
       "      <th>50%</th>\n",
       "      <td>0.000000</td>\n",
       "      <td>-1203.369529</td>\n",
       "      <td>42.000000</td>\n",
       "      <td>1.000000</td>\n",
       "      <td>0.000000</td>\n",
       "      <td>0.000000</td>\n",
       "      <td>1.450179e+05</td>\n",
       "    </tr>\n",
       "    <tr>\n",
       "      <th>75%</th>\n",
       "      <td>1.000000</td>\n",
       "      <td>-291.095954</td>\n",
       "      <td>53.000000</td>\n",
       "      <td>1.000000</td>\n",
       "      <td>1.000000</td>\n",
       "      <td>0.000000</td>\n",
       "      <td>2.034351e+05</td>\n",
       "    </tr>\n",
       "    <tr>\n",
       "      <th>max</th>\n",
       "      <td>20.000000</td>\n",
       "      <td>401755.400475</td>\n",
       "      <td>75.000000</td>\n",
       "      <td>4.000000</td>\n",
       "      <td>4.000000</td>\n",
       "      <td>1.000000</td>\n",
       "      <td>2.265604e+06</td>\n",
       "    </tr>\n",
       "  </tbody>\n",
       "</table>\n",
       "</div>"
      ],
      "text/plain": [
       "           children  days_employed     dob_years  education_id  \\\n",
       "count  21525.000000   19351.000000  21525.000000  21525.000000   \n",
       "mean       0.538908   63046.497661     43.293380      0.817236   \n",
       "std        1.381587  140827.311974     12.574584      0.548138   \n",
       "min       -1.000000  -18388.949901      0.000000      0.000000   \n",
       "25%        0.000000   -2747.423625     33.000000      1.000000   \n",
       "50%        0.000000   -1203.369529     42.000000      1.000000   \n",
       "75%        1.000000    -291.095954     53.000000      1.000000   \n",
       "max       20.000000  401755.400475     75.000000      4.000000   \n",
       "\n",
       "       family_status_id          debt  total_income  \n",
       "count      21525.000000  21525.000000  1.935100e+04  \n",
       "mean           0.972544      0.080883  1.674223e+05  \n",
       "std            1.420324      0.272661  1.029716e+05  \n",
       "min            0.000000      0.000000  2.066726e+04  \n",
       "25%            0.000000      0.000000  1.030532e+05  \n",
       "50%            0.000000      0.000000  1.450179e+05  \n",
       "75%            1.000000      0.000000  2.034351e+05  \n",
       "max            4.000000      1.000000  2.265604e+06  "
      ]
     },
     "execution_count": 30,
     "metadata": {},
     "output_type": "execute_result"
    }
   ],
   "source": [
    "#вызовём метод describe\n",
    "clients.describe()"
   ]
  },
  {
   "cell_type": "markdown",
   "metadata": {},
   "source": [
    "**Выводы после обзора данных**:"
   ]
  },
  {
   "cell_type": "markdown",
   "metadata": {},
   "source": [
    "- некорректные названия некоторых столбцов в таблице\n",
    "- пропущенные значения в столбцах `days_employed` и `total_income`\n",
    "- аномальные значения : в стобце `days_employed` - отрицательные и очень крупные положительные значения ; в столбце `children` - отрицательные значения; в столбце `dob_years` - минимальное значение \"0\"\n",
    "- в столбце `education` присутствуют повторы, написанные разным регистром (одинаковые по смыслу \"высшее\" и \"ВЫСШЕЕ\", \"среднее\" и \"СРЕДНЕЕ\"),для программного анализа это будут 2 разных значения)\n",
    "- в столбце `purpose` присутствуют неочевидные повторы (пример: \"сыграть свадьбу\" и \"на проведение свадьбы\")"
   ]
  },
  {
   "cell_type": "markdown",
   "metadata": {},
   "source": [
    "На стадии предобработки данных необходимо устранить все эти недочёты"
   ]
  },
  {
   "cell_type": "markdown",
   "metadata": {},
   "source": [
    "## Предобработка данных"
   ]
  },
  {
   "cell_type": "markdown",
   "metadata": {},
   "source": [
    "### Заполнение пропусков"
   ]
  },
  {
   "cell_type": "markdown",
   "metadata": {},
   "source": [
    "Для начала для удобства работы переименуем названия некоторых столбцов"
   ]
  },
  {
   "cell_type": "code",
   "execution_count": 31,
   "metadata": {},
   "outputs": [],
   "source": [
    "clients = clients.rename(\n",
    "    columns={'children':'amount_of_children',\n",
    "             'dob_years':'age',\n",
    "             'income_type':'job_type'})"
   ]
  },
  {
   "cell_type": "code",
   "execution_count": 32,
   "metadata": {},
   "outputs": [
    {
     "data": {
      "text/plain": [
       "amount_of_children       0\n",
       "days_employed         2174\n",
       "age                      0\n",
       "education                0\n",
       "education_id             0\n",
       "family_status            0\n",
       "family_status_id         0\n",
       "gender                   0\n",
       "job_type                 0\n",
       "debt                     0\n",
       "total_income          2174\n",
       "purpose                  0\n",
       "dtype: int64"
      ]
     },
     "execution_count": 32,
     "metadata": {},
     "output_type": "execute_result"
    }
   ],
   "source": [
    "#посчитаем количество пропущенных значений по столбцам \n",
    "clients.isna().sum()"
   ]
  },
  {
   "cell_type": "code",
   "execution_count": 33,
   "metadata": {},
   "outputs": [
    {
     "data": {
      "text/plain": [
       "'Процент пропущенных значений от общего количества значений:10%'"
      ]
     },
     "metadata": {},
     "output_type": "display_data"
    }
   ],
   "source": [
    "#посчитаем процент пропущенных значений в столбца days_employed и total_income\n",
    "nan = clients['total_income'].isna().sum()/clients.shape[0]\n",
    "display(f'Процент пропущенных значений от общего количества значений:{nan:.0%}')"
   ]
  },
  {
   "cell_type": "markdown",
   "metadata": {},
   "source": [
    "Доля пропушенных значений высокая. Так просто строки с пропущенными значениями удалять нельзя."
   ]
  },
  {
   "cell_type": "markdown",
   "metadata": {},
   "source": [
    "Значения пропущенные в столбцах `days_employed` и `total_income`являются количественными.Пропуски в таких переменных заполняют характерными значениями. Это значения, характеризующие состояние выборки — набора данных, выбранных для проведения исследования. Чтобы примерно оценить типичные значения выборки, годятся среднее арифметическое или медиана. "
   ]
  },
  {
   "cell_type": "markdown",
   "metadata": {},
   "source": [
    "В столбце `total_income` мы заменим пропущенные значения на медианое значание. Среднее арифметическое не подойдёт , так как в значениях ежемесячного дохода клинетов могут быть аномальные значения. "
   ]
  },
  {
   "cell_type": "code",
   "execution_count": 34,
   "metadata": {},
   "outputs": [
    {
     "data": {
      "text/plain": [
       "145017.93753253992"
      ]
     },
     "metadata": {},
     "output_type": "display_data"
    }
   ],
   "source": [
    "#найдём медианное значение total_income\n",
    "median_income = clients['total_income'].median()\n",
    "display(median_income)"
   ]
  },
  {
   "cell_type": "code",
   "execution_count": 35,
   "metadata": {
    "scrolled": true
   },
   "outputs": [
    {
     "data": {
      "text/plain": [
       "amount_of_children       0\n",
       "days_employed         2174\n",
       "age                      0\n",
       "education                0\n",
       "education_id             0\n",
       "family_status            0\n",
       "family_status_id         0\n",
       "gender                   0\n",
       "job_type                 0\n",
       "debt                     0\n",
       "total_income             0\n",
       "purpose                  0\n",
       "dtype: int64"
      ]
     },
     "execution_count": 35,
     "metadata": {},
     "output_type": "execute_result"
    }
   ],
   "source": [
    "#заменим пропущенные значения в столбце total_income на медианный доход всех клинентов (используем метод fillna)\n",
    "clients['total_income'] = clients['total_income'].fillna(median_income)\n",
    "#проверим количество пропущенных значений в таблице\n",
    "clients.isna().sum()"
   ]
  },
  {
   "cell_type": "markdown",
   "metadata": {},
   "source": [
    "Чтобы определиться ,чем заполнять пропуски в столбце `days_employed` сначала разберемся с аномалиями в данном столбце."
   ]
  },
  {
   "cell_type": "markdown",
   "metadata": {},
   "source": [
    "### Проверка данных на аномалии и исправления "
   ]
  },
  {
   "cell_type": "markdown",
   "metadata": {},
   "source": [
    "В столбце `days_employed` значения-артефакты (аномалии) - отрицательные и невероятно большие положительные. Ещё раз вызовем метод describe конкретно для этого столбца"
   ]
  },
  {
   "cell_type": "code",
   "execution_count": 36,
   "metadata": {},
   "outputs": [
    {
     "data": {
      "text/plain": [
       "count     19351.000000\n",
       "mean      63046.497661\n",
       "std      140827.311974\n",
       "min      -18388.949901\n",
       "25%       -2747.423625\n",
       "50%       -1203.369529\n",
       "75%        -291.095954\n",
       "max      401755.400475\n",
       "Name: days_employed, dtype: float64"
      ]
     },
     "execution_count": 36,
     "metadata": {},
     "output_type": "execute_result"
    }
   ],
   "source": [
    "clients['days_employed'].describe()"
   ]
  },
  {
   "cell_type": "code",
   "execution_count": 37,
   "metadata": {},
   "outputs": [
    {
     "data": {
      "text/plain": [
       "'В столбце days_employed 15906 отрицательных значений. Их медиана: -1630.0193809778218'"
      ]
     },
     "metadata": {},
     "output_type": "display_data"
    }
   ],
   "source": [
    "#посмотрим сколько в таблице отрицательных значений трудового стажа в днях и их медианное значение \n",
    "negative_values = clients.loc[clients['days_employed'] < 0,'days_employed'].count()\n",
    "median_negaive_values = clients.loc[clients['days_employed'] < 0,'days_employed'].median()\n",
    "display(f'В столбце days_employed {negative_values} отрицательных значений. Их медиана: {median_negaive_values}')"
   ]
  },
  {
   "cell_type": "code",
   "execution_count": 38,
   "metadata": {},
   "outputs": [
    {
     "data": {
      "text/plain": [
       "'В столбце days_employed 3445 положительных значений.Минимально положительное значение:328728.72060451825'"
      ]
     },
     "metadata": {},
     "output_type": "display_data"
    }
   ],
   "source": [
    "#для положительных значений посмотрим их количество и минимальное положительное число\n",
    "over_positive_values = clients.loc[clients['days_employed'] > 0,'days_employed'].count()\n",
    "min_over_positive_values = clients.loc[clients['days_employed'] > 0,'days_employed'].min()\n",
    "display(f'В столбце days_employed {over_positive_values} положительных значений.Минимально положительное значение:{min_over_positive_values}')"
   ]
  },
  {
   "cell_type": "markdown",
   "metadata": {},
   "source": [
    "Отрицательные значения похожи на реальные данные по дням трудового стажа - только со знаком минус. Неплохо было бы знать, *как заполняли данные* , возможно в форме для заполнения данных присутствовал \"-\". Поменяем отрицательные значения в этих полях на положительные. "
   ]
  },
  {
   "cell_type": "code",
   "execution_count": 39,
   "metadata": {},
   "outputs": [],
   "source": [
    "#меняем отрицательные значения на положительные , взяз метод abs, который выдаёт модуль значения\n",
    "clients['days_employed'] = clients['days_employed'].abs()"
   ]
  },
  {
   "cell_type": "markdown",
   "metadata": {},
   "source": [
    "Что касается большим положительных значений: скорее всего перепутаны единицы измерения в данном столбце"
   ]
  },
  {
   "cell_type": "code",
   "execution_count": 40,
   "metadata": {
    "scrolled": true
   },
   "outputs": [
    {
     "data": {
      "text/html": [
       "<div>\n",
       "<style scoped>\n",
       "    .dataframe tbody tr th:only-of-type {\n",
       "        vertical-align: middle;\n",
       "    }\n",
       "\n",
       "    .dataframe tbody tr th {\n",
       "        vertical-align: top;\n",
       "    }\n",
       "\n",
       "    .dataframe thead th {\n",
       "        text-align: right;\n",
       "    }\n",
       "</style>\n",
       "<table border=\"1\" class=\"dataframe\">\n",
       "  <thead>\n",
       "    <tr style=\"text-align: right;\">\n",
       "      <th></th>\n",
       "      <th>amount_of_children</th>\n",
       "      <th>days_employed</th>\n",
       "      <th>age</th>\n",
       "      <th>education</th>\n",
       "      <th>education_id</th>\n",
       "      <th>family_status</th>\n",
       "      <th>family_status_id</th>\n",
       "      <th>gender</th>\n",
       "      <th>job_type</th>\n",
       "      <th>debt</th>\n",
       "      <th>total_income</th>\n",
       "      <th>purpose</th>\n",
       "    </tr>\n",
       "  </thead>\n",
       "  <tbody>\n",
       "    <tr>\n",
       "      <th>4</th>\n",
       "      <td>0</td>\n",
       "      <td>340266.072047</td>\n",
       "      <td>53</td>\n",
       "      <td>среднее</td>\n",
       "      <td>1</td>\n",
       "      <td>гражданский брак</td>\n",
       "      <td>1</td>\n",
       "      <td>F</td>\n",
       "      <td>пенсионер</td>\n",
       "      <td>0</td>\n",
       "      <td>158616.077870</td>\n",
       "      <td>сыграть свадьбу</td>\n",
       "    </tr>\n",
       "    <tr>\n",
       "      <th>18</th>\n",
       "      <td>0</td>\n",
       "      <td>400281.136913</td>\n",
       "      <td>53</td>\n",
       "      <td>среднее</td>\n",
       "      <td>1</td>\n",
       "      <td>вдовец / вдова</td>\n",
       "      <td>2</td>\n",
       "      <td>F</td>\n",
       "      <td>пенсионер</td>\n",
       "      <td>0</td>\n",
       "      <td>56823.777243</td>\n",
       "      <td>на покупку подержанного автомобиля</td>\n",
       "    </tr>\n",
       "    <tr>\n",
       "      <th>24</th>\n",
       "      <td>1</td>\n",
       "      <td>338551.952911</td>\n",
       "      <td>57</td>\n",
       "      <td>среднее</td>\n",
       "      <td>1</td>\n",
       "      <td>Не женат / не замужем</td>\n",
       "      <td>4</td>\n",
       "      <td>F</td>\n",
       "      <td>пенсионер</td>\n",
       "      <td>0</td>\n",
       "      <td>290547.235997</td>\n",
       "      <td>операции с коммерческой недвижимостью</td>\n",
       "    </tr>\n",
       "    <tr>\n",
       "      <th>25</th>\n",
       "      <td>0</td>\n",
       "      <td>363548.489348</td>\n",
       "      <td>67</td>\n",
       "      <td>среднее</td>\n",
       "      <td>1</td>\n",
       "      <td>женат / замужем</td>\n",
       "      <td>0</td>\n",
       "      <td>M</td>\n",
       "      <td>пенсионер</td>\n",
       "      <td>0</td>\n",
       "      <td>55112.757732</td>\n",
       "      <td>покупка недвижимости</td>\n",
       "    </tr>\n",
       "    <tr>\n",
       "      <th>30</th>\n",
       "      <td>1</td>\n",
       "      <td>335581.668515</td>\n",
       "      <td>62</td>\n",
       "      <td>среднее</td>\n",
       "      <td>1</td>\n",
       "      <td>женат / замужем</td>\n",
       "      <td>0</td>\n",
       "      <td>F</td>\n",
       "      <td>пенсионер</td>\n",
       "      <td>0</td>\n",
       "      <td>171456.067993</td>\n",
       "      <td>операции с коммерческой недвижимостью</td>\n",
       "    </tr>\n",
       "    <tr>\n",
       "      <th>...</th>\n",
       "      <td>...</td>\n",
       "      <td>...</td>\n",
       "      <td>...</td>\n",
       "      <td>...</td>\n",
       "      <td>...</td>\n",
       "      <td>...</td>\n",
       "      <td>...</td>\n",
       "      <td>...</td>\n",
       "      <td>...</td>\n",
       "      <td>...</td>\n",
       "      <td>...</td>\n",
       "      <td>...</td>\n",
       "    </tr>\n",
       "    <tr>\n",
       "      <th>21505</th>\n",
       "      <td>0</td>\n",
       "      <td>338904.866406</td>\n",
       "      <td>53</td>\n",
       "      <td>среднее</td>\n",
       "      <td>1</td>\n",
       "      <td>гражданский брак</td>\n",
       "      <td>1</td>\n",
       "      <td>M</td>\n",
       "      <td>пенсионер</td>\n",
       "      <td>0</td>\n",
       "      <td>75439.993167</td>\n",
       "      <td>сыграть свадьбу</td>\n",
       "    </tr>\n",
       "    <tr>\n",
       "      <th>21508</th>\n",
       "      <td>0</td>\n",
       "      <td>386497.714078</td>\n",
       "      <td>62</td>\n",
       "      <td>среднее</td>\n",
       "      <td>1</td>\n",
       "      <td>женат / замужем</td>\n",
       "      <td>0</td>\n",
       "      <td>M</td>\n",
       "      <td>пенсионер</td>\n",
       "      <td>0</td>\n",
       "      <td>72638.590915</td>\n",
       "      <td>недвижимость</td>\n",
       "    </tr>\n",
       "    <tr>\n",
       "      <th>21509</th>\n",
       "      <td>0</td>\n",
       "      <td>362161.054124</td>\n",
       "      <td>59</td>\n",
       "      <td>высшее</td>\n",
       "      <td>0</td>\n",
       "      <td>женат / замужем</td>\n",
       "      <td>0</td>\n",
       "      <td>M</td>\n",
       "      <td>пенсионер</td>\n",
       "      <td>0</td>\n",
       "      <td>73029.059379</td>\n",
       "      <td>операции с недвижимостью</td>\n",
       "    </tr>\n",
       "    <tr>\n",
       "      <th>21518</th>\n",
       "      <td>0</td>\n",
       "      <td>373995.710838</td>\n",
       "      <td>59</td>\n",
       "      <td>СРЕДНЕЕ</td>\n",
       "      <td>1</td>\n",
       "      <td>женат / замужем</td>\n",
       "      <td>0</td>\n",
       "      <td>F</td>\n",
       "      <td>пенсионер</td>\n",
       "      <td>0</td>\n",
       "      <td>153864.650328</td>\n",
       "      <td>сделка с автомобилем</td>\n",
       "    </tr>\n",
       "    <tr>\n",
       "      <th>21521</th>\n",
       "      <td>0</td>\n",
       "      <td>343937.404131</td>\n",
       "      <td>67</td>\n",
       "      <td>среднее</td>\n",
       "      <td>1</td>\n",
       "      <td>женат / замужем</td>\n",
       "      <td>0</td>\n",
       "      <td>F</td>\n",
       "      <td>пенсионер</td>\n",
       "      <td>0</td>\n",
       "      <td>155999.806512</td>\n",
       "      <td>сделка с автомобилем</td>\n",
       "    </tr>\n",
       "  </tbody>\n",
       "</table>\n",
       "<p>3444 rows × 12 columns</p>\n",
       "</div>"
      ],
      "text/plain": [
       "       amount_of_children  days_employed  age education  education_id  \\\n",
       "4                       0  340266.072047   53   среднее             1   \n",
       "18                      0  400281.136913   53   среднее             1   \n",
       "24                      1  338551.952911   57   среднее             1   \n",
       "25                      0  363548.489348   67   среднее             1   \n",
       "30                      1  335581.668515   62   среднее             1   \n",
       "...                   ...            ...  ...       ...           ...   \n",
       "21505                   0  338904.866406   53   среднее             1   \n",
       "21508                   0  386497.714078   62   среднее             1   \n",
       "21509                   0  362161.054124   59    высшее             0   \n",
       "21518                   0  373995.710838   59   СРЕДНЕЕ             1   \n",
       "21521                   0  343937.404131   67   среднее             1   \n",
       "\n",
       "               family_status  family_status_id gender   job_type  debt  \\\n",
       "4           гражданский брак                 1      F  пенсионер     0   \n",
       "18            вдовец / вдова                 2      F  пенсионер     0   \n",
       "24     Не женат / не замужем                 4      F  пенсионер     0   \n",
       "25           женат / замужем                 0      M  пенсионер     0   \n",
       "30           женат / замужем                 0      F  пенсионер     0   \n",
       "...                      ...               ...    ...        ...   ...   \n",
       "21505       гражданский брак                 1      M  пенсионер     0   \n",
       "21508        женат / замужем                 0      M  пенсионер     0   \n",
       "21509        женат / замужем                 0      M  пенсионер     0   \n",
       "21518        женат / замужем                 0      F  пенсионер     0   \n",
       "21521        женат / замужем                 0      F  пенсионер     0   \n",
       "\n",
       "        total_income                                purpose  \n",
       "4      158616.077870                        сыграть свадьбу  \n",
       "18      56823.777243     на покупку подержанного автомобиля  \n",
       "24     290547.235997  операции с коммерческой недвижимостью  \n",
       "25      55112.757732                   покупка недвижимости  \n",
       "30     171456.067993  операции с коммерческой недвижимостью  \n",
       "...              ...                                    ...  \n",
       "21505   75439.993167                        сыграть свадьбу  \n",
       "21508   72638.590915                           недвижимость  \n",
       "21509   73029.059379               операции с недвижимостью  \n",
       "21518  153864.650328                   сделка с автомобилем  \n",
       "21521  155999.806512                   сделка с автомобилем  \n",
       "\n",
       "[3444 rows x 12 columns]"
      ]
     },
     "metadata": {},
     "output_type": "display_data"
    }
   ],
   "source": [
    "# посмотрим на таблицу , где будут присутствовать только clients c полжительными значения days_employed\n",
    "positive_days_employed = clients.loc[clients['days_employed'] > min_over_positive_values]\n",
    "display(positive_days_employed)"
   ]
  },
  {
   "cell_type": "markdown",
   "metadata": {},
   "source": [
    "Значения измеряемые сотнями тысям... возможно это не дни,а часы..\n",
    "Но для клиента с №18: 400281 часов = 16678 дней = 45 лет трудового стажа. Возраст клиента 53 года. Значит единица измерения \"часы\" тоже не подходит.\n",
    "С решением данного вопросы я бы обратился к **источнику данных**"
   ]
  },
  {
   "cell_type": "markdown",
   "metadata": {},
   "source": [
    "Заменим все сверхположительные значения столбца days_employed на медианное значение"
   ]
  },
  {
   "cell_type": "code",
   "execution_count": 41,
   "metadata": {},
   "outputs": [
    {
     "data": {
      "text/plain": [
       "amount_of_children    0\n",
       "days_employed         0\n",
       "age                   0\n",
       "education             0\n",
       "education_id          0\n",
       "family_status         0\n",
       "family_status_id      0\n",
       "gender                0\n",
       "job_type              0\n",
       "debt                  0\n",
       "total_income          0\n",
       "purpose               0\n",
       "dtype: int64"
      ]
     },
     "execution_count": 41,
     "metadata": {},
     "output_type": "execute_result"
    }
   ],
   "source": [
    "#найдем медианное значение days_employed среди клиентов (без учёта клиентов с сверхположительным значением days_employed)\n",
    "median_age = clients.loc[clients['days_employed'] < min_over_positive_values,'days_employed'].median()\n",
    "#заменим все сверхположительные значения на медианное \n",
    "clients.loc[clients.days_employed >= min_over_positive_values,'days_employed'] = median_age\n",
    "#заменим все оставшиеся пропуски и проверим \n",
    "clients['days_employed'] = clients['days_employed'].fillna(median_age)\n",
    "clients.isna().sum()"
   ]
  },
  {
   "cell_type": "markdown",
   "metadata": {},
   "source": [
    "Разберемся с аномалиями в столбце `children`:"
   ]
  },
  {
   "cell_type": "code",
   "execution_count": 42,
   "metadata": {},
   "outputs": [
    {
     "data": {
      "text/plain": [
       "array([ 1,  0,  3,  2, -1,  4, 20,  5])"
      ]
     },
     "execution_count": 42,
     "metadata": {},
     "output_type": "execute_result"
    }
   ],
   "source": [
    "#посмотрим на уникальные значения этого столбца\n",
    "clients['amount_of_children'].unique()"
   ]
  },
  {
   "cell_type": "markdown",
   "metadata": {},
   "source": [
    "\"-1\" - невероятное значение. Скорее всего опечатка - заменим на \"1\""
   ]
  },
  {
   "cell_type": "code",
   "execution_count": 43,
   "metadata": {},
   "outputs": [],
   "source": [
    "clients['amount_of_children'] = clients['amount_of_children'].replace(-1,1)"
   ]
  },
  {
   "cell_type": "markdown",
   "metadata": {},
   "source": [
    "А вот со значением \"20\" - интереснее. Возможно ли это? Теоретически -да, но....посмотрим на таких людей"
   ]
  },
  {
   "cell_type": "code",
   "execution_count": 44,
   "metadata": {
    "scrolled": true
   },
   "outputs": [
    {
     "data": {
      "text/html": [
       "<div>\n",
       "<style scoped>\n",
       "    .dataframe tbody tr th:only-of-type {\n",
       "        vertical-align: middle;\n",
       "    }\n",
       "\n",
       "    .dataframe tbody tr th {\n",
       "        vertical-align: top;\n",
       "    }\n",
       "\n",
       "    .dataframe thead th {\n",
       "        text-align: right;\n",
       "    }\n",
       "</style>\n",
       "<table border=\"1\" class=\"dataframe\">\n",
       "  <thead>\n",
       "    <tr style=\"text-align: right;\">\n",
       "      <th></th>\n",
       "      <th>amount_of_children</th>\n",
       "      <th>days_employed</th>\n",
       "      <th>age</th>\n",
       "      <th>education</th>\n",
       "      <th>education_id</th>\n",
       "      <th>family_status</th>\n",
       "      <th>family_status_id</th>\n",
       "      <th>gender</th>\n",
       "      <th>job_type</th>\n",
       "      <th>debt</th>\n",
       "      <th>total_income</th>\n",
       "      <th>purpose</th>\n",
       "    </tr>\n",
       "  </thead>\n",
       "  <tbody>\n",
       "    <tr>\n",
       "      <th>606</th>\n",
       "      <td>20</td>\n",
       "      <td>880.221113</td>\n",
       "      <td>21</td>\n",
       "      <td>среднее</td>\n",
       "      <td>1</td>\n",
       "      <td>женат / замужем</td>\n",
       "      <td>0</td>\n",
       "      <td>M</td>\n",
       "      <td>компаньон</td>\n",
       "      <td>0</td>\n",
       "      <td>145334.865002</td>\n",
       "      <td>покупка жилья</td>\n",
       "    </tr>\n",
       "    <tr>\n",
       "      <th>720</th>\n",
       "      <td>20</td>\n",
       "      <td>855.595512</td>\n",
       "      <td>44</td>\n",
       "      <td>среднее</td>\n",
       "      <td>1</td>\n",
       "      <td>женат / замужем</td>\n",
       "      <td>0</td>\n",
       "      <td>F</td>\n",
       "      <td>компаньон</td>\n",
       "      <td>0</td>\n",
       "      <td>112998.738649</td>\n",
       "      <td>покупка недвижимости</td>\n",
       "    </tr>\n",
       "    <tr>\n",
       "      <th>1074</th>\n",
       "      <td>20</td>\n",
       "      <td>3310.411598</td>\n",
       "      <td>56</td>\n",
       "      <td>среднее</td>\n",
       "      <td>1</td>\n",
       "      <td>женат / замужем</td>\n",
       "      <td>0</td>\n",
       "      <td>F</td>\n",
       "      <td>сотрудник</td>\n",
       "      <td>1</td>\n",
       "      <td>229518.537004</td>\n",
       "      <td>получение образования</td>\n",
       "    </tr>\n",
       "    <tr>\n",
       "      <th>2510</th>\n",
       "      <td>20</td>\n",
       "      <td>2714.161249</td>\n",
       "      <td>59</td>\n",
       "      <td>высшее</td>\n",
       "      <td>0</td>\n",
       "      <td>вдовец / вдова</td>\n",
       "      <td>2</td>\n",
       "      <td>F</td>\n",
       "      <td>сотрудник</td>\n",
       "      <td>0</td>\n",
       "      <td>264474.835577</td>\n",
       "      <td>операции с коммерческой недвижимостью</td>\n",
       "    </tr>\n",
       "    <tr>\n",
       "      <th>2941</th>\n",
       "      <td>20</td>\n",
       "      <td>2161.591519</td>\n",
       "      <td>0</td>\n",
       "      <td>среднее</td>\n",
       "      <td>1</td>\n",
       "      <td>женат / замужем</td>\n",
       "      <td>0</td>\n",
       "      <td>F</td>\n",
       "      <td>сотрудник</td>\n",
       "      <td>0</td>\n",
       "      <td>199739.941398</td>\n",
       "      <td>на покупку автомобиля</td>\n",
       "    </tr>\n",
       "    <tr>\n",
       "      <th>...</th>\n",
       "      <td>...</td>\n",
       "      <td>...</td>\n",
       "      <td>...</td>\n",
       "      <td>...</td>\n",
       "      <td>...</td>\n",
       "      <td>...</td>\n",
       "      <td>...</td>\n",
       "      <td>...</td>\n",
       "      <td>...</td>\n",
       "      <td>...</td>\n",
       "      <td>...</td>\n",
       "      <td>...</td>\n",
       "    </tr>\n",
       "    <tr>\n",
       "      <th>21008</th>\n",
       "      <td>20</td>\n",
       "      <td>1240.257910</td>\n",
       "      <td>40</td>\n",
       "      <td>среднее</td>\n",
       "      <td>1</td>\n",
       "      <td>женат / замужем</td>\n",
       "      <td>0</td>\n",
       "      <td>F</td>\n",
       "      <td>сотрудник</td>\n",
       "      <td>1</td>\n",
       "      <td>133524.010303</td>\n",
       "      <td>свой автомобиль</td>\n",
       "    </tr>\n",
       "    <tr>\n",
       "      <th>21325</th>\n",
       "      <td>20</td>\n",
       "      <td>601.174883</td>\n",
       "      <td>37</td>\n",
       "      <td>среднее</td>\n",
       "      <td>1</td>\n",
       "      <td>женат / замужем</td>\n",
       "      <td>0</td>\n",
       "      <td>F</td>\n",
       "      <td>компаньон</td>\n",
       "      <td>0</td>\n",
       "      <td>102986.065978</td>\n",
       "      <td>профильное образование</td>\n",
       "    </tr>\n",
       "    <tr>\n",
       "      <th>21390</th>\n",
       "      <td>20</td>\n",
       "      <td>1630.019381</td>\n",
       "      <td>53</td>\n",
       "      <td>среднее</td>\n",
       "      <td>1</td>\n",
       "      <td>женат / замужем</td>\n",
       "      <td>0</td>\n",
       "      <td>M</td>\n",
       "      <td>компаньон</td>\n",
       "      <td>0</td>\n",
       "      <td>145017.937533</td>\n",
       "      <td>покупка жилой недвижимости</td>\n",
       "    </tr>\n",
       "    <tr>\n",
       "      <th>21404</th>\n",
       "      <td>20</td>\n",
       "      <td>494.788448</td>\n",
       "      <td>52</td>\n",
       "      <td>среднее</td>\n",
       "      <td>1</td>\n",
       "      <td>женат / замужем</td>\n",
       "      <td>0</td>\n",
       "      <td>M</td>\n",
       "      <td>компаньон</td>\n",
       "      <td>0</td>\n",
       "      <td>156629.683642</td>\n",
       "      <td>операции со своей недвижимостью</td>\n",
       "    </tr>\n",
       "    <tr>\n",
       "      <th>21491</th>\n",
       "      <td>20</td>\n",
       "      <td>173.954460</td>\n",
       "      <td>27</td>\n",
       "      <td>среднее</td>\n",
       "      <td>1</td>\n",
       "      <td>женат / замужем</td>\n",
       "      <td>0</td>\n",
       "      <td>F</td>\n",
       "      <td>сотрудник</td>\n",
       "      <td>0</td>\n",
       "      <td>155520.899688</td>\n",
       "      <td>на покупку подержанного автомобиля</td>\n",
       "    </tr>\n",
       "  </tbody>\n",
       "</table>\n",
       "<p>76 rows × 12 columns</p>\n",
       "</div>"
      ],
      "text/plain": [
       "       amount_of_children  days_employed  age education  education_id  \\\n",
       "606                    20     880.221113   21   среднее             1   \n",
       "720                    20     855.595512   44   среднее             1   \n",
       "1074                   20    3310.411598   56   среднее             1   \n",
       "2510                   20    2714.161249   59    высшее             0   \n",
       "2941                   20    2161.591519    0   среднее             1   \n",
       "...                   ...            ...  ...       ...           ...   \n",
       "21008                  20    1240.257910   40   среднее             1   \n",
       "21325                  20     601.174883   37   среднее             1   \n",
       "21390                  20    1630.019381   53   среднее             1   \n",
       "21404                  20     494.788448   52   среднее             1   \n",
       "21491                  20     173.954460   27   среднее             1   \n",
       "\n",
       "         family_status  family_status_id gender   job_type  debt  \\\n",
       "606    женат / замужем                 0      M  компаньон     0   \n",
       "720    женат / замужем                 0      F  компаньон     0   \n",
       "1074   женат / замужем                 0      F  сотрудник     1   \n",
       "2510    вдовец / вдова                 2      F  сотрудник     0   \n",
       "2941   женат / замужем                 0      F  сотрудник     0   \n",
       "...                ...               ...    ...        ...   ...   \n",
       "21008  женат / замужем                 0      F  сотрудник     1   \n",
       "21325  женат / замужем                 0      F  компаньон     0   \n",
       "21390  женат / замужем                 0      M  компаньон     0   \n",
       "21404  женат / замужем                 0      M  компаньон     0   \n",
       "21491  женат / замужем                 0      F  сотрудник     0   \n",
       "\n",
       "        total_income                                purpose  \n",
       "606    145334.865002                          покупка жилья  \n",
       "720    112998.738649                   покупка недвижимости  \n",
       "1074   229518.537004                  получение образования  \n",
       "2510   264474.835577  операции с коммерческой недвижимостью  \n",
       "2941   199739.941398                  на покупку автомобиля  \n",
       "...              ...                                    ...  \n",
       "21008  133524.010303                        свой автомобиль  \n",
       "21325  102986.065978                 профильное образование  \n",
       "21390  145017.937533             покупка жилой недвижимости  \n",
       "21404  156629.683642        операции со своей недвижимостью  \n",
       "21491  155520.899688     на покупку подержанного автомобиля  \n",
       "\n",
       "[76 rows x 12 columns]"
      ]
     },
     "execution_count": 44,
     "metadata": {},
     "output_type": "execute_result"
    }
   ],
   "source": [
    "clients.loc[clients['amount_of_children'] == 20]"
   ]
  },
  {
   "cell_type": "markdown",
   "metadata": {},
   "source": [
    "76 человек с 20 детьми...выглядит как опечатка. Заменим \"20\" на \"2\". Проверим замену"
   ]
  },
  {
   "cell_type": "code",
   "execution_count": 45,
   "metadata": {},
   "outputs": [
    {
     "data": {
      "text/plain": [
       "array([1, 0, 3, 2, 4, 5])"
      ]
     },
     "execution_count": 45,
     "metadata": {},
     "output_type": "execute_result"
    }
   ],
   "source": [
    "clients['amount_of_children'] = clients['amount_of_children'].replace(20,2)\n",
    "clients['amount_of_children'].unique()"
   ]
  },
  {
   "cell_type": "markdown",
   "metadata": {},
   "source": [
    "Разберёмся с аномалиями в столбце `age`"
   ]
  },
  {
   "cell_type": "code",
   "execution_count": 46,
   "metadata": {
    "scrolled": true
   },
   "outputs": [
    {
     "data": {
      "text/html": [
       "<div>\n",
       "<style scoped>\n",
       "    .dataframe tbody tr th:only-of-type {\n",
       "        vertical-align: middle;\n",
       "    }\n",
       "\n",
       "    .dataframe tbody tr th {\n",
       "        vertical-align: top;\n",
       "    }\n",
       "\n",
       "    .dataframe thead th {\n",
       "        text-align: right;\n",
       "    }\n",
       "</style>\n",
       "<table border=\"1\" class=\"dataframe\">\n",
       "  <thead>\n",
       "    <tr style=\"text-align: right;\">\n",
       "      <th></th>\n",
       "      <th>amount_of_children</th>\n",
       "      <th>days_employed</th>\n",
       "      <th>age</th>\n",
       "      <th>education</th>\n",
       "      <th>education_id</th>\n",
       "      <th>family_status</th>\n",
       "      <th>family_status_id</th>\n",
       "      <th>gender</th>\n",
       "      <th>job_type</th>\n",
       "      <th>debt</th>\n",
       "      <th>total_income</th>\n",
       "      <th>purpose</th>\n",
       "    </tr>\n",
       "  </thead>\n",
       "  <tbody>\n",
       "    <tr>\n",
       "      <th>99</th>\n",
       "      <td>0</td>\n",
       "      <td>1630.019381</td>\n",
       "      <td>0</td>\n",
       "      <td>Среднее</td>\n",
       "      <td>1</td>\n",
       "      <td>женат / замужем</td>\n",
       "      <td>0</td>\n",
       "      <td>F</td>\n",
       "      <td>пенсионер</td>\n",
       "      <td>0</td>\n",
       "      <td>71291.522491</td>\n",
       "      <td>автомобиль</td>\n",
       "    </tr>\n",
       "    <tr>\n",
       "      <th>149</th>\n",
       "      <td>0</td>\n",
       "      <td>2664.273168</td>\n",
       "      <td>0</td>\n",
       "      <td>среднее</td>\n",
       "      <td>1</td>\n",
       "      <td>в разводе</td>\n",
       "      <td>3</td>\n",
       "      <td>F</td>\n",
       "      <td>сотрудник</td>\n",
       "      <td>0</td>\n",
       "      <td>70176.435951</td>\n",
       "      <td>операции с жильем</td>\n",
       "    </tr>\n",
       "    <tr>\n",
       "      <th>270</th>\n",
       "      <td>3</td>\n",
       "      <td>1872.663186</td>\n",
       "      <td>0</td>\n",
       "      <td>среднее</td>\n",
       "      <td>1</td>\n",
       "      <td>женат / замужем</td>\n",
       "      <td>0</td>\n",
       "      <td>F</td>\n",
       "      <td>сотрудник</td>\n",
       "      <td>0</td>\n",
       "      <td>102166.458894</td>\n",
       "      <td>ремонт жилью</td>\n",
       "    </tr>\n",
       "    <tr>\n",
       "      <th>578</th>\n",
       "      <td>0</td>\n",
       "      <td>1630.019381</td>\n",
       "      <td>0</td>\n",
       "      <td>среднее</td>\n",
       "      <td>1</td>\n",
       "      <td>женат / замужем</td>\n",
       "      <td>0</td>\n",
       "      <td>F</td>\n",
       "      <td>пенсионер</td>\n",
       "      <td>0</td>\n",
       "      <td>97620.687042</td>\n",
       "      <td>строительство собственной недвижимости</td>\n",
       "    </tr>\n",
       "    <tr>\n",
       "      <th>1040</th>\n",
       "      <td>0</td>\n",
       "      <td>1158.029561</td>\n",
       "      <td>0</td>\n",
       "      <td>высшее</td>\n",
       "      <td>0</td>\n",
       "      <td>в разводе</td>\n",
       "      <td>3</td>\n",
       "      <td>F</td>\n",
       "      <td>компаньон</td>\n",
       "      <td>0</td>\n",
       "      <td>303994.134987</td>\n",
       "      <td>свой автомобиль</td>\n",
       "    </tr>\n",
       "    <tr>\n",
       "      <th>...</th>\n",
       "      <td>...</td>\n",
       "      <td>...</td>\n",
       "      <td>...</td>\n",
       "      <td>...</td>\n",
       "      <td>...</td>\n",
       "      <td>...</td>\n",
       "      <td>...</td>\n",
       "      <td>...</td>\n",
       "      <td>...</td>\n",
       "      <td>...</td>\n",
       "      <td>...</td>\n",
       "      <td>...</td>\n",
       "    </tr>\n",
       "    <tr>\n",
       "      <th>19829</th>\n",
       "      <td>0</td>\n",
       "      <td>1630.019381</td>\n",
       "      <td>0</td>\n",
       "      <td>среднее</td>\n",
       "      <td>1</td>\n",
       "      <td>женат / замужем</td>\n",
       "      <td>0</td>\n",
       "      <td>F</td>\n",
       "      <td>сотрудник</td>\n",
       "      <td>0</td>\n",
       "      <td>145017.937533</td>\n",
       "      <td>жилье</td>\n",
       "    </tr>\n",
       "    <tr>\n",
       "      <th>20462</th>\n",
       "      <td>0</td>\n",
       "      <td>1630.019381</td>\n",
       "      <td>0</td>\n",
       "      <td>среднее</td>\n",
       "      <td>1</td>\n",
       "      <td>женат / замужем</td>\n",
       "      <td>0</td>\n",
       "      <td>F</td>\n",
       "      <td>пенсионер</td>\n",
       "      <td>0</td>\n",
       "      <td>259193.920299</td>\n",
       "      <td>покупка своего жилья</td>\n",
       "    </tr>\n",
       "    <tr>\n",
       "      <th>20577</th>\n",
       "      <td>0</td>\n",
       "      <td>1630.019381</td>\n",
       "      <td>0</td>\n",
       "      <td>среднее</td>\n",
       "      <td>1</td>\n",
       "      <td>Не женат / не замужем</td>\n",
       "      <td>4</td>\n",
       "      <td>F</td>\n",
       "      <td>пенсионер</td>\n",
       "      <td>0</td>\n",
       "      <td>129788.762899</td>\n",
       "      <td>недвижимость</td>\n",
       "    </tr>\n",
       "    <tr>\n",
       "      <th>21179</th>\n",
       "      <td>2</td>\n",
       "      <td>108.967042</td>\n",
       "      <td>0</td>\n",
       "      <td>высшее</td>\n",
       "      <td>0</td>\n",
       "      <td>женат / замужем</td>\n",
       "      <td>0</td>\n",
       "      <td>M</td>\n",
       "      <td>компаньон</td>\n",
       "      <td>0</td>\n",
       "      <td>240702.007382</td>\n",
       "      <td>строительство жилой недвижимости</td>\n",
       "    </tr>\n",
       "    <tr>\n",
       "      <th>21313</th>\n",
       "      <td>0</td>\n",
       "      <td>1268.487728</td>\n",
       "      <td>0</td>\n",
       "      <td>среднее</td>\n",
       "      <td>1</td>\n",
       "      <td>Не женат / не замужем</td>\n",
       "      <td>4</td>\n",
       "      <td>M</td>\n",
       "      <td>сотрудник</td>\n",
       "      <td>0</td>\n",
       "      <td>152419.184851</td>\n",
       "      <td>операции с жильем</td>\n",
       "    </tr>\n",
       "  </tbody>\n",
       "</table>\n",
       "<p>101 rows × 12 columns</p>\n",
       "</div>"
      ],
      "text/plain": [
       "       amount_of_children  days_employed  age education  education_id  \\\n",
       "99                      0    1630.019381    0   Среднее             1   \n",
       "149                     0    2664.273168    0   среднее             1   \n",
       "270                     3    1872.663186    0   среднее             1   \n",
       "578                     0    1630.019381    0   среднее             1   \n",
       "1040                    0    1158.029561    0    высшее             0   \n",
       "...                   ...            ...  ...       ...           ...   \n",
       "19829                   0    1630.019381    0   среднее             1   \n",
       "20462                   0    1630.019381    0   среднее             1   \n",
       "20577                   0    1630.019381    0   среднее             1   \n",
       "21179                   2     108.967042    0    высшее             0   \n",
       "21313                   0    1268.487728    0   среднее             1   \n",
       "\n",
       "               family_status  family_status_id gender   job_type  debt  \\\n",
       "99           женат / замужем                 0      F  пенсионер     0   \n",
       "149                в разводе                 3      F  сотрудник     0   \n",
       "270          женат / замужем                 0      F  сотрудник     0   \n",
       "578          женат / замужем                 0      F  пенсионер     0   \n",
       "1040               в разводе                 3      F  компаньон     0   \n",
       "...                      ...               ...    ...        ...   ...   \n",
       "19829        женат / замужем                 0      F  сотрудник     0   \n",
       "20462        женат / замужем                 0      F  пенсионер     0   \n",
       "20577  Не женат / не замужем                 4      F  пенсионер     0   \n",
       "21179        женат / замужем                 0      M  компаньон     0   \n",
       "21313  Не женат / не замужем                 4      M  сотрудник     0   \n",
       "\n",
       "        total_income                                 purpose  \n",
       "99      71291.522491                              автомобиль  \n",
       "149     70176.435951                       операции с жильем  \n",
       "270    102166.458894                            ремонт жилью  \n",
       "578     97620.687042  строительство собственной недвижимости  \n",
       "1040   303994.134987                         свой автомобиль  \n",
       "...              ...                                     ...  \n",
       "19829  145017.937533                                   жилье  \n",
       "20462  259193.920299                    покупка своего жилья  \n",
       "20577  129788.762899                            недвижимость  \n",
       "21179  240702.007382        строительство жилой недвижимости  \n",
       "21313  152419.184851                       операции с жильем  \n",
       "\n",
       "[101 rows x 12 columns]"
      ]
     },
     "execution_count": 46,
     "metadata": {},
     "output_type": "execute_result"
    }
   ],
   "source": [
    "#отфильтруем таблицу с age = 0 и посмотрим на неё\n",
    "clients.loc[clients['age'] == 0]"
   ]
  },
  {
   "cell_type": "markdown",
   "metadata": {},
   "source": [
    "101 строка со значеним \"0\" в age. Видимо, этот столбец просто не был заполнен. Так как нулевых значений в этом столбце меньше 1% и в дальнейшем для анализа этот столбец не нужен - оставлю эти строки без изменений."
   ]
  },
  {
   "cell_type": "markdown",
   "metadata": {},
   "source": [
    "Посмотрим на столбец `education`"
   ]
  },
  {
   "cell_type": "code",
   "execution_count": 47,
   "metadata": {},
   "outputs": [
    {
     "data": {
      "text/plain": [
       "array(['высшее', 'среднее', 'Среднее', 'СРЕДНЕЕ', 'ВЫСШЕЕ',\n",
       "       'неоконченное высшее', 'начальное', 'Высшее',\n",
       "       'НЕОКОНЧЕННОЕ ВЫСШЕЕ', 'Неоконченное высшее', 'НАЧАЛЬНОЕ',\n",
       "       'Начальное', 'Ученая степень', 'УЧЕНАЯ СТЕПЕНЬ', 'ученая степень'],\n",
       "      dtype=object)"
      ]
     },
     "execution_count": 47,
     "metadata": {},
     "output_type": "execute_result"
    }
   ],
   "source": [
    "clients['education'].unique()"
   ]
  },
  {
   "cell_type": "code",
   "execution_count": 48,
   "metadata": {},
   "outputs": [
    {
     "data": {
      "text/plain": [
       "array(['высшее', 'среднее', 'неоконченное высшее', 'начальное',\n",
       "       'ученая степень'], dtype=object)"
      ]
     },
     "execution_count": 48,
     "metadata": {},
     "output_type": "execute_result"
    }
   ],
   "source": [
    "#приведём все буквы к нижнему регистру и проверим изменения\n",
    "clients['education'] = clients['education'].str.lower()\n",
    "clients['education'].unique()"
   ]
  },
  {
   "cell_type": "markdown",
   "metadata": {},
   "source": [
    "Разберемся со столбцом `family_status`"
   ]
  },
  {
   "cell_type": "code",
   "execution_count": 49,
   "metadata": {},
   "outputs": [
    {
     "data": {
      "text/plain": [
       "array(['женат / замужем', 'гражданский брак', 'вдовец / вдова',\n",
       "       'в разводе', 'Не женат / не замужем'], dtype=object)"
      ]
     },
     "execution_count": 49,
     "metadata": {},
     "output_type": "execute_result"
    }
   ],
   "source": [
    "clients['family_status'].unique()"
   ]
  },
  {
   "cell_type": "markdown",
   "metadata": {},
   "source": [
    "С `family_status` все хорошо. Посмотрим на столбец `gender`"
   ]
  },
  {
   "cell_type": "code",
   "execution_count": 50,
   "metadata": {},
   "outputs": [
    {
     "data": {
      "text/plain": [
       "array(['F', 'M', 'XNA'], dtype=object)"
      ]
     },
     "execution_count": 50,
     "metadata": {},
     "output_type": "execute_result"
    }
   ],
   "source": [
    "clients['gender'].unique()"
   ]
  },
  {
   "cell_type": "markdown",
   "metadata": {},
   "source": [
    "Странное значение XNA. Посмотрим сколько таких людей"
   ]
  },
  {
   "cell_type": "code",
   "execution_count": 51,
   "metadata": {},
   "outputs": [
    {
     "data": {
      "text/plain": [
       "amount_of_children    1\n",
       "days_employed         1\n",
       "age                   1\n",
       "education             1\n",
       "education_id          1\n",
       "family_status         1\n",
       "family_status_id      1\n",
       "gender                1\n",
       "job_type              1\n",
       "debt                  1\n",
       "total_income          1\n",
       "purpose               1\n",
       "dtype: int64"
      ]
     },
     "execution_count": 51,
     "metadata": {},
     "output_type": "execute_result"
    }
   ],
   "source": [
    "clients[clients['gender'] == 'XNA'].count()"
   ]
  },
  {
   "cell_type": "markdown",
   "metadata": {},
   "source": [
    "1 запись с непонятным gender"
   ]
  },
  {
   "cell_type": "markdown",
   "metadata": {},
   "source": [
    "Посмотрим на столбец `job_type`"
   ]
  },
  {
   "cell_type": "code",
   "execution_count": 52,
   "metadata": {},
   "outputs": [
    {
     "data": {
      "text/plain": [
       "array(['сотрудник', 'пенсионер', 'компаньон', 'госслужащий',\n",
       "       'безработный', 'предприниматель', 'студент', 'в декрете'],\n",
       "      dtype=object)"
      ]
     },
     "execution_count": 52,
     "metadata": {},
     "output_type": "execute_result"
    }
   ],
   "source": [
    "clients['job_type'].unique()"
   ]
  },
  {
   "cell_type": "markdown",
   "metadata": {},
   "source": [
    "Здесь всё впорядке"
   ]
  },
  {
   "cell_type": "markdown",
   "metadata": {},
   "source": [
    "Разберемся со столбцом `purpose`"
   ]
  },
  {
   "cell_type": "code",
   "execution_count": 53,
   "metadata": {},
   "outputs": [
    {
     "data": {
      "text/plain": [
       "array(['покупка жилья', 'приобретение автомобиля',\n",
       "       'дополнительное образование', 'сыграть свадьбу',\n",
       "       'операции с жильем', 'образование', 'на проведение свадьбы',\n",
       "       'покупка жилья для семьи', 'покупка недвижимости',\n",
       "       'покупка коммерческой недвижимости', 'покупка жилой недвижимости',\n",
       "       'строительство собственной недвижимости', 'недвижимость',\n",
       "       'строительство недвижимости', 'на покупку подержанного автомобиля',\n",
       "       'на покупку своего автомобиля',\n",
       "       'операции с коммерческой недвижимостью',\n",
       "       'строительство жилой недвижимости', 'жилье',\n",
       "       'операции со своей недвижимостью', 'автомобили',\n",
       "       'заняться образованием', 'сделка с подержанным автомобилем',\n",
       "       'получение образования', 'автомобиль', 'свадьба',\n",
       "       'получение дополнительного образования', 'покупка своего жилья',\n",
       "       'операции с недвижимостью', 'получение высшего образования',\n",
       "       'свой автомобиль', 'сделка с автомобилем',\n",
       "       'профильное образование', 'высшее образование',\n",
       "       'покупка жилья для сдачи', 'на покупку автомобиля', 'ремонт жилью',\n",
       "       'заняться высшим образованием'], dtype=object)"
      ]
     },
     "execution_count": 53,
     "metadata": {},
     "output_type": "execute_result"
    }
   ],
   "source": [
    "clients['purpose'].unique()"
   ]
  },
  {
   "cell_type": "markdown",
   "metadata": {},
   "source": [
    "Можно выделить 4 группы целей кредитов:\n",
    "- Недвижимость\n",
    "- Автомобиль\n",
    "- Образование \n",
    "- Свадьба"
   ]
  },
  {
   "cell_type": "code",
   "execution_count": 54,
   "metadata": {},
   "outputs": [
    {
     "data": {
      "text/html": [
       "<div>\n",
       "<style scoped>\n",
       "    .dataframe tbody tr th:only-of-type {\n",
       "        vertical-align: middle;\n",
       "    }\n",
       "\n",
       "    .dataframe tbody tr th {\n",
       "        vertical-align: top;\n",
       "    }\n",
       "\n",
       "    .dataframe thead th {\n",
       "        text-align: right;\n",
       "    }\n",
       "</style>\n",
       "<table border=\"1\" class=\"dataframe\">\n",
       "  <thead>\n",
       "    <tr style=\"text-align: right;\">\n",
       "      <th></th>\n",
       "      <th>amount_of_children</th>\n",
       "      <th>days_employed</th>\n",
       "      <th>age</th>\n",
       "      <th>education_id</th>\n",
       "      <th>family_status_id</th>\n",
       "      <th>debt</th>\n",
       "      <th>total_income</th>\n",
       "    </tr>\n",
       "  </thead>\n",
       "  <tbody>\n",
       "    <tr>\n",
       "      <th>count</th>\n",
       "      <td>21525.000000</td>\n",
       "      <td>21525.000000</td>\n",
       "      <td>21525.000000</td>\n",
       "      <td>21525.000000</td>\n",
       "      <td>21525.000000</td>\n",
       "      <td>21525.000000</td>\n",
       "      <td>2.152500e+04</td>\n",
       "    </tr>\n",
       "    <tr>\n",
       "      <th>mean</th>\n",
       "      <td>0.479721</td>\n",
       "      <td>2164.281083</td>\n",
       "      <td>43.293380</td>\n",
       "      <td>0.817236</td>\n",
       "      <td>0.972544</td>\n",
       "      <td>0.080883</td>\n",
       "      <td>1.651595e+05</td>\n",
       "    </tr>\n",
       "    <tr>\n",
       "      <th>std</th>\n",
       "      <td>0.755528</td>\n",
       "      <td>2006.061675</td>\n",
       "      <td>12.574584</td>\n",
       "      <td>0.548138</td>\n",
       "      <td>1.420324</td>\n",
       "      <td>0.272661</td>\n",
       "      <td>9.786607e+04</td>\n",
       "    </tr>\n",
       "    <tr>\n",
       "      <th>min</th>\n",
       "      <td>0.000000</td>\n",
       "      <td>24.141633</td>\n",
       "      <td>0.000000</td>\n",
       "      <td>0.000000</td>\n",
       "      <td>0.000000</td>\n",
       "      <td>0.000000</td>\n",
       "      <td>2.066726e+04</td>\n",
       "    </tr>\n",
       "    <tr>\n",
       "      <th>25%</th>\n",
       "      <td>0.000000</td>\n",
       "      <td>1025.608174</td>\n",
       "      <td>33.000000</td>\n",
       "      <td>1.000000</td>\n",
       "      <td>0.000000</td>\n",
       "      <td>0.000000</td>\n",
       "      <td>1.077982e+05</td>\n",
       "    </tr>\n",
       "    <tr>\n",
       "      <th>50%</th>\n",
       "      <td>0.000000</td>\n",
       "      <td>1630.019381</td>\n",
       "      <td>42.000000</td>\n",
       "      <td>1.000000</td>\n",
       "      <td>0.000000</td>\n",
       "      <td>0.000000</td>\n",
       "      <td>1.450179e+05</td>\n",
       "    </tr>\n",
       "    <tr>\n",
       "      <th>75%</th>\n",
       "      <td>1.000000</td>\n",
       "      <td>2518.168900</td>\n",
       "      <td>53.000000</td>\n",
       "      <td>1.000000</td>\n",
       "      <td>1.000000</td>\n",
       "      <td>0.000000</td>\n",
       "      <td>1.955436e+05</td>\n",
       "    </tr>\n",
       "    <tr>\n",
       "      <th>max</th>\n",
       "      <td>5.000000</td>\n",
       "      <td>18388.949901</td>\n",
       "      <td>75.000000</td>\n",
       "      <td>4.000000</td>\n",
       "      <td>4.000000</td>\n",
       "      <td>1.000000</td>\n",
       "      <td>2.265604e+06</td>\n",
       "    </tr>\n",
       "  </tbody>\n",
       "</table>\n",
       "</div>"
      ],
      "text/plain": [
       "       amount_of_children  days_employed           age  education_id  \\\n",
       "count        21525.000000   21525.000000  21525.000000  21525.000000   \n",
       "mean             0.479721    2164.281083     43.293380      0.817236   \n",
       "std              0.755528    2006.061675     12.574584      0.548138   \n",
       "min              0.000000      24.141633      0.000000      0.000000   \n",
       "25%              0.000000    1025.608174     33.000000      1.000000   \n",
       "50%              0.000000    1630.019381     42.000000      1.000000   \n",
       "75%              1.000000    2518.168900     53.000000      1.000000   \n",
       "max              5.000000   18388.949901     75.000000      4.000000   \n",
       "\n",
       "       family_status_id          debt  total_income  \n",
       "count      21525.000000  21525.000000  2.152500e+04  \n",
       "mean           0.972544      0.080883  1.651595e+05  \n",
       "std            1.420324      0.272661  9.786607e+04  \n",
       "min            0.000000      0.000000  2.066726e+04  \n",
       "25%            0.000000      0.000000  1.077982e+05  \n",
       "50%            0.000000      0.000000  1.450179e+05  \n",
       "75%            1.000000      0.000000  1.955436e+05  \n",
       "max            4.000000      1.000000  2.265604e+06  "
      ]
     },
     "execution_count": 54,
     "metadata": {},
     "output_type": "execute_result"
    }
   ],
   "source": [
    "#посмотрим на описательные статистики после удаления аномалий. сейчас все значения вписываются в рациональные рамки\n",
    "clients.describe()"
   ]
  },
  {
   "cell_type": "markdown",
   "metadata": {},
   "source": [
    "### Изменение типов данных."
   ]
  },
  {
   "cell_type": "code",
   "execution_count": 55,
   "metadata": {},
   "outputs": [],
   "source": [
    "#в столбце total_income не нужна такая точность (6 знаков после запятой). приведём значения к целочисленным\n",
    "clients['total_income'] = clients['total_income'].astype(int)"
   ]
  },
  {
   "cell_type": "markdown",
   "metadata": {},
   "source": [
    "###  Удаление дубликатов."
   ]
  },
  {
   "cell_type": "code",
   "execution_count": 56,
   "metadata": {},
   "outputs": [
    {
     "data": {
      "text/plain": [
       "71"
      ]
     },
     "metadata": {},
     "output_type": "display_data"
    }
   ],
   "source": [
    "#посмотрим количество дубликатов\n",
    "display(clients.duplicated().sum())"
   ]
  },
  {
   "cell_type": "markdown",
   "metadata": {},
   "source": [
    "Дубликаты могли образоваться из-за технической проблемы при записи данных, либо из-за человеческого фактора"
   ]
  },
  {
   "cell_type": "code",
   "execution_count": 57,
   "metadata": {},
   "outputs": [
    {
     "data": {
      "text/plain": [
       "0"
      ]
     },
     "metadata": {},
     "output_type": "display_data"
    }
   ],
   "source": [
    "#удалим эти дубликаты\n",
    "clients = clients.drop_duplicates().reset_index(drop=True)\n",
    "display(clients.duplicated().sum())"
   ]
  },
  {
   "cell_type": "markdown",
   "metadata": {},
   "source": [
    "**ВЫВОДЫ**\n",
    "Предобработка данных закончена: \n",
    "- изменены название столбцов на болеее корректные \n",
    "- найдены и заменены пропущенные значения в столбцах days_employed и total_income\n",
    "- найдены и скорректированы аномалии в столбцах days_employed, amount_of_children, age\n",
    "- приведены к одному регистру одинаковые значения в education\n",
    "- изменен тип данных в столбце total_income\n",
    "- удалены дубликаты строк"
   ]
  },
  {
   "cell_type": "markdown",
   "metadata": {},
   "source": [
    "### Формирование дополнительных датафреймов словарей, декомпозиция исходного датафрейма."
   ]
  },
  {
   "cell_type": "markdown",
   "metadata": {},
   "source": [
    "В столбцах  `education` и `family_status` хранятся значения из ограниченного набора, который можно идентифицировать \n",
    "по столбцам `education_id` и `family_status_id`. Для удобства чтения главной таблицы clients\n",
    "создадим 2 новых dataframe, где будет хранится соотношение `education` к `education_id` и \n",
    "`family_status` к `family_status_id` соответственно."
   ]
  },
  {
   "cell_type": "code",
   "execution_count": 58,
   "metadata": {},
   "outputs": [
    {
     "data": {
      "text/plain": [
       "<bound method NDFrame.head of    education_id            education\n",
       "0             0               высшее\n",
       "1             1              среднее\n",
       "2             2  неоконченное высшее\n",
       "3             3            начальное\n",
       "4             4       ученая степень>"
      ]
     },
     "execution_count": 58,
     "metadata": {},
     "output_type": "execute_result"
    }
   ],
   "source": [
    "#создадим новый dataframe состоящий из двух столбцов education_id,education главной таблицы clients\n",
    "df_education = pd.DataFrame(clients.loc[:,['education_id','education']])\n",
    "#удалим дубликаты \n",
    "df_education = df_education.drop_duplicates().reset_index(drop = True)\n",
    "df_education.head"
   ]
  },
  {
   "cell_type": "code",
   "execution_count": 59,
   "metadata": {},
   "outputs": [
    {
     "data": {
      "text/plain": [
       "<bound method NDFrame.head of    family_status_id          family_status\n",
       "0                 0        женат / замужем\n",
       "1                 1       гражданский брак\n",
       "2                 2         вдовец / вдова\n",
       "3                 3              в разводе\n",
       "4                 4  Не женат / не замужем>"
      ]
     },
     "execution_count": 59,
     "metadata": {},
     "output_type": "execute_result"
    }
   ],
   "source": [
    "#создадим новый dataframe состоящий из двух столбцов family_status_id,family_status главной таблицы clients\n",
    "df_family_status = pd.DataFrame(clients.loc[:,['family_status_id','family_status']])\n",
    "#удалим дубликаты \n",
    "df_family_status = df_family_status.drop_duplicates().reset_index(drop = True)\n",
    "df_family_status.head"
   ]
  },
  {
   "cell_type": "markdown",
   "metadata": {},
   "source": [
    "Из главной таблицы clients удалим столбцы `education` и `family_status` и проверим удаление "
   ]
  },
  {
   "cell_type": "code",
   "execution_count": 60,
   "metadata": {},
   "outputs": [],
   "source": [
    "del clients['education']\n",
    "del clients['family_status']"
   ]
  },
  {
   "cell_type": "code",
   "execution_count": 61,
   "metadata": {},
   "outputs": [
    {
     "data": {
      "text/html": [
       "<div>\n",
       "<style scoped>\n",
       "    .dataframe tbody tr th:only-of-type {\n",
       "        vertical-align: middle;\n",
       "    }\n",
       "\n",
       "    .dataframe tbody tr th {\n",
       "        vertical-align: top;\n",
       "    }\n",
       "\n",
       "    .dataframe thead th {\n",
       "        text-align: right;\n",
       "    }\n",
       "</style>\n",
       "<table border=\"1\" class=\"dataframe\">\n",
       "  <thead>\n",
       "    <tr style=\"text-align: right;\">\n",
       "      <th></th>\n",
       "      <th>amount_of_children</th>\n",
       "      <th>days_employed</th>\n",
       "      <th>age</th>\n",
       "      <th>education_id</th>\n",
       "      <th>family_status_id</th>\n",
       "      <th>gender</th>\n",
       "      <th>job_type</th>\n",
       "      <th>debt</th>\n",
       "      <th>total_income</th>\n",
       "      <th>purpose</th>\n",
       "    </tr>\n",
       "  </thead>\n",
       "  <tbody>\n",
       "    <tr>\n",
       "      <th>0</th>\n",
       "      <td>1</td>\n",
       "      <td>8437.673028</td>\n",
       "      <td>42</td>\n",
       "      <td>0</td>\n",
       "      <td>0</td>\n",
       "      <td>F</td>\n",
       "      <td>сотрудник</td>\n",
       "      <td>0</td>\n",
       "      <td>253875</td>\n",
       "      <td>покупка жилья</td>\n",
       "    </tr>\n",
       "    <tr>\n",
       "      <th>1</th>\n",
       "      <td>1</td>\n",
       "      <td>4024.803754</td>\n",
       "      <td>36</td>\n",
       "      <td>1</td>\n",
       "      <td>0</td>\n",
       "      <td>F</td>\n",
       "      <td>сотрудник</td>\n",
       "      <td>0</td>\n",
       "      <td>112080</td>\n",
       "      <td>приобретение автомобиля</td>\n",
       "    </tr>\n",
       "    <tr>\n",
       "      <th>2</th>\n",
       "      <td>0</td>\n",
       "      <td>5623.422610</td>\n",
       "      <td>33</td>\n",
       "      <td>1</td>\n",
       "      <td>0</td>\n",
       "      <td>M</td>\n",
       "      <td>сотрудник</td>\n",
       "      <td>0</td>\n",
       "      <td>145885</td>\n",
       "      <td>покупка жилья</td>\n",
       "    </tr>\n",
       "    <tr>\n",
       "      <th>3</th>\n",
       "      <td>3</td>\n",
       "      <td>4124.747207</td>\n",
       "      <td>32</td>\n",
       "      <td>1</td>\n",
       "      <td>0</td>\n",
       "      <td>M</td>\n",
       "      <td>сотрудник</td>\n",
       "      <td>0</td>\n",
       "      <td>267628</td>\n",
       "      <td>дополнительное образование</td>\n",
       "    </tr>\n",
       "    <tr>\n",
       "      <th>4</th>\n",
       "      <td>0</td>\n",
       "      <td>1630.019381</td>\n",
       "      <td>53</td>\n",
       "      <td>1</td>\n",
       "      <td>1</td>\n",
       "      <td>F</td>\n",
       "      <td>пенсионер</td>\n",
       "      <td>0</td>\n",
       "      <td>158616</td>\n",
       "      <td>сыграть свадьбу</td>\n",
       "    </tr>\n",
       "  </tbody>\n",
       "</table>\n",
       "</div>"
      ],
      "text/plain": [
       "   amount_of_children  days_employed  age  education_id  family_status_id  \\\n",
       "0                   1    8437.673028   42             0                 0   \n",
       "1                   1    4024.803754   36             1                 0   \n",
       "2                   0    5623.422610   33             1                 0   \n",
       "3                   3    4124.747207   32             1                 0   \n",
       "4                   0    1630.019381   53             1                 1   \n",
       "\n",
       "  gender   job_type  debt  total_income                     purpose  \n",
       "0      F  сотрудник     0        253875               покупка жилья  \n",
       "1      F  сотрудник     0        112080     приобретение автомобиля  \n",
       "2      M  сотрудник     0        145885               покупка жилья  \n",
       "3      M  сотрудник     0        267628  дополнительное образование  \n",
       "4      F  пенсионер     0        158616             сыграть свадьбу  "
      ]
     },
     "execution_count": 61,
     "metadata": {},
     "output_type": "execute_result"
    }
   ],
   "source": [
    "clients.head()"
   ]
  },
  {
   "cell_type": "markdown",
   "metadata": {},
   "source": [
    "###  Категоризация дохода."
   ]
  },
  {
   "cell_type": "markdown",
   "metadata": {},
   "source": [
    "Разделим клиентов по категориям (A,B,C,D,E,) согласно уровню их дохода (`total_income`):\n",
    "- 0–30000 — 'E';\n",
    "- 30001–50000 — 'D';\n",
    "- 50001–200000 — 'C';\n",
    "- 200001–1000000 — 'B';\n",
    "- 1000001 и выше — 'A'."
   ]
  },
  {
   "cell_type": "markdown",
   "metadata": {},
   "source": [
    "И создадим отдельный столбец `total_income_category` в датафрейме `clients`, который будет содержать категорию по доходности"
   ]
  },
  {
   "cell_type": "code",
   "execution_count": 62,
   "metadata": {},
   "outputs": [],
   "source": [
    "#для начала пропишем функцию ,которая будет проходиться по столбцу total_income и присваивать значениям необходимую категорию\n",
    "def income_category(total_income):\n",
    "    if total_income <= 30000:\n",
    "            return 'E'\n",
    "    if 30001 <= total_income <= 50000:\n",
    "            return 'D'\n",
    "    if 50001 <= total_income <= 200000:\n",
    "            return 'C'\n",
    "    if 200001 <= total_income <= 1000000:\n",
    "            return 'B'\n",
    "    return 'A'"
   ]
  },
  {
   "cell_type": "code",
   "execution_count": 63,
   "metadata": {},
   "outputs": [
    {
     "data": {
      "text/html": [
       "<div>\n",
       "<style scoped>\n",
       "    .dataframe tbody tr th:only-of-type {\n",
       "        vertical-align: middle;\n",
       "    }\n",
       "\n",
       "    .dataframe tbody tr th {\n",
       "        vertical-align: top;\n",
       "    }\n",
       "\n",
       "    .dataframe thead th {\n",
       "        text-align: right;\n",
       "    }\n",
       "</style>\n",
       "<table border=\"1\" class=\"dataframe\">\n",
       "  <thead>\n",
       "    <tr style=\"text-align: right;\">\n",
       "      <th></th>\n",
       "      <th>amount_of_children</th>\n",
       "      <th>days_employed</th>\n",
       "      <th>age</th>\n",
       "      <th>education_id</th>\n",
       "      <th>family_status_id</th>\n",
       "      <th>gender</th>\n",
       "      <th>job_type</th>\n",
       "      <th>debt</th>\n",
       "      <th>total_income</th>\n",
       "      <th>purpose</th>\n",
       "      <th>total_income_category</th>\n",
       "    </tr>\n",
       "  </thead>\n",
       "  <tbody>\n",
       "    <tr>\n",
       "      <th>0</th>\n",
       "      <td>1</td>\n",
       "      <td>8437.673028</td>\n",
       "      <td>42</td>\n",
       "      <td>0</td>\n",
       "      <td>0</td>\n",
       "      <td>F</td>\n",
       "      <td>сотрудник</td>\n",
       "      <td>0</td>\n",
       "      <td>253875</td>\n",
       "      <td>покупка жилья</td>\n",
       "      <td>B</td>\n",
       "    </tr>\n",
       "    <tr>\n",
       "      <th>1</th>\n",
       "      <td>1</td>\n",
       "      <td>4024.803754</td>\n",
       "      <td>36</td>\n",
       "      <td>1</td>\n",
       "      <td>0</td>\n",
       "      <td>F</td>\n",
       "      <td>сотрудник</td>\n",
       "      <td>0</td>\n",
       "      <td>112080</td>\n",
       "      <td>приобретение автомобиля</td>\n",
       "      <td>C</td>\n",
       "    </tr>\n",
       "    <tr>\n",
       "      <th>2</th>\n",
       "      <td>0</td>\n",
       "      <td>5623.422610</td>\n",
       "      <td>33</td>\n",
       "      <td>1</td>\n",
       "      <td>0</td>\n",
       "      <td>M</td>\n",
       "      <td>сотрудник</td>\n",
       "      <td>0</td>\n",
       "      <td>145885</td>\n",
       "      <td>покупка жилья</td>\n",
       "      <td>C</td>\n",
       "    </tr>\n",
       "    <tr>\n",
       "      <th>3</th>\n",
       "      <td>3</td>\n",
       "      <td>4124.747207</td>\n",
       "      <td>32</td>\n",
       "      <td>1</td>\n",
       "      <td>0</td>\n",
       "      <td>M</td>\n",
       "      <td>сотрудник</td>\n",
       "      <td>0</td>\n",
       "      <td>267628</td>\n",
       "      <td>дополнительное образование</td>\n",
       "      <td>B</td>\n",
       "    </tr>\n",
       "    <tr>\n",
       "      <th>4</th>\n",
       "      <td>0</td>\n",
       "      <td>1630.019381</td>\n",
       "      <td>53</td>\n",
       "      <td>1</td>\n",
       "      <td>1</td>\n",
       "      <td>F</td>\n",
       "      <td>пенсионер</td>\n",
       "      <td>0</td>\n",
       "      <td>158616</td>\n",
       "      <td>сыграть свадьбу</td>\n",
       "      <td>C</td>\n",
       "    </tr>\n",
       "  </tbody>\n",
       "</table>\n",
       "</div>"
      ],
      "text/plain": [
       "   amount_of_children  days_employed  age  education_id  family_status_id  \\\n",
       "0                   1    8437.673028   42             0                 0   \n",
       "1                   1    4024.803754   36             1                 0   \n",
       "2                   0    5623.422610   33             1                 0   \n",
       "3                   3    4124.747207   32             1                 0   \n",
       "4                   0    1630.019381   53             1                 1   \n",
       "\n",
       "  gender   job_type  debt  total_income                     purpose  \\\n",
       "0      F  сотрудник     0        253875               покупка жилья   \n",
       "1      F  сотрудник     0        112080     приобретение автомобиля   \n",
       "2      M  сотрудник     0        145885               покупка жилья   \n",
       "3      M  сотрудник     0        267628  дополнительное образование   \n",
       "4      F  пенсионер     0        158616             сыграть свадьбу   \n",
       "\n",
       "  total_income_category  \n",
       "0                     B  \n",
       "1                     C  \n",
       "2                     C  \n",
       "3                     B  \n",
       "4                     C  "
      ]
     },
     "execution_count": 63,
     "metadata": {},
     "output_type": "execute_result"
    }
   ],
   "source": [
    "#добавим новый столбец total_income_category в датафрейм clients и посмотрим на него\n",
    "clients['total_income_category'] = clients['total_income'].apply(income_category)\n",
    "clients.head()"
   ]
  },
  {
   "cell_type": "code",
   "execution_count": 64,
   "metadata": {},
   "outputs": [
    {
     "data": {
      "text/plain": [
       "C    16016\n",
       "B     5041\n",
       "D      350\n",
       "A       25\n",
       "E       22\n",
       "Name: total_income_category, dtype: int64"
      ]
     },
     "execution_count": 64,
     "metadata": {},
     "output_type": "execute_result"
    }
   ],
   "source": [
    "#посмотрим, как распределились значения в новом столбце\n",
    "clients['total_income_category'].value_counts()"
   ]
  },
  {
   "cell_type": "markdown",
   "metadata": {},
   "source": [
    "### Категоризация целей кредита."
   ]
  },
  {
   "cell_type": "markdown",
   "metadata": {},
   "source": [
    "Создадим новый столбец `purpose_category`, который будет содержать категорию назначения кредита "
   ]
  },
  {
   "cell_type": "code",
   "execution_count": 65,
   "metadata": {},
   "outputs": [],
   "source": [
    "#для начала пропишем функцию ,которая будет проходиться по столбцу purpose и присваивать значениям необходимую категорию\n",
    "def purpose_status(purpose):\n",
    "    if 'образ' in purpose:\n",
    "              return 'Образование'\n",
    "    if 'авто' in  purpose:\n",
    "              return 'Автомобиль'\n",
    "    if 'свад' in  purpose:\n",
    "              return 'Свадьба'\n",
    "    if 'жил' or 'недвиж' in purpose:\n",
    "              return 'Недвижимость'\n",
    "    return 'Без категории'"
   ]
  },
  {
   "cell_type": "code",
   "execution_count": 66,
   "metadata": {
    "scrolled": true
   },
   "outputs": [
    {
     "data": {
      "text/html": [
       "<div>\n",
       "<style scoped>\n",
       "    .dataframe tbody tr th:only-of-type {\n",
       "        vertical-align: middle;\n",
       "    }\n",
       "\n",
       "    .dataframe tbody tr th {\n",
       "        vertical-align: top;\n",
       "    }\n",
       "\n",
       "    .dataframe thead th {\n",
       "        text-align: right;\n",
       "    }\n",
       "</style>\n",
       "<table border=\"1\" class=\"dataframe\">\n",
       "  <thead>\n",
       "    <tr style=\"text-align: right;\">\n",
       "      <th></th>\n",
       "      <th>amount_of_children</th>\n",
       "      <th>days_employed</th>\n",
       "      <th>age</th>\n",
       "      <th>education_id</th>\n",
       "      <th>family_status_id</th>\n",
       "      <th>gender</th>\n",
       "      <th>job_type</th>\n",
       "      <th>debt</th>\n",
       "      <th>total_income</th>\n",
       "      <th>purpose</th>\n",
       "      <th>total_income_category</th>\n",
       "      <th>purpose_category</th>\n",
       "    </tr>\n",
       "  </thead>\n",
       "  <tbody>\n",
       "    <tr>\n",
       "      <th>0</th>\n",
       "      <td>1</td>\n",
       "      <td>8437.673028</td>\n",
       "      <td>42</td>\n",
       "      <td>0</td>\n",
       "      <td>0</td>\n",
       "      <td>F</td>\n",
       "      <td>сотрудник</td>\n",
       "      <td>0</td>\n",
       "      <td>253875</td>\n",
       "      <td>покупка жилья</td>\n",
       "      <td>B</td>\n",
       "      <td>Недвижимость</td>\n",
       "    </tr>\n",
       "    <tr>\n",
       "      <th>1</th>\n",
       "      <td>1</td>\n",
       "      <td>4024.803754</td>\n",
       "      <td>36</td>\n",
       "      <td>1</td>\n",
       "      <td>0</td>\n",
       "      <td>F</td>\n",
       "      <td>сотрудник</td>\n",
       "      <td>0</td>\n",
       "      <td>112080</td>\n",
       "      <td>приобретение автомобиля</td>\n",
       "      <td>C</td>\n",
       "      <td>Автомобиль</td>\n",
       "    </tr>\n",
       "    <tr>\n",
       "      <th>2</th>\n",
       "      <td>0</td>\n",
       "      <td>5623.422610</td>\n",
       "      <td>33</td>\n",
       "      <td>1</td>\n",
       "      <td>0</td>\n",
       "      <td>M</td>\n",
       "      <td>сотрудник</td>\n",
       "      <td>0</td>\n",
       "      <td>145885</td>\n",
       "      <td>покупка жилья</td>\n",
       "      <td>C</td>\n",
       "      <td>Недвижимость</td>\n",
       "    </tr>\n",
       "    <tr>\n",
       "      <th>3</th>\n",
       "      <td>3</td>\n",
       "      <td>4124.747207</td>\n",
       "      <td>32</td>\n",
       "      <td>1</td>\n",
       "      <td>0</td>\n",
       "      <td>M</td>\n",
       "      <td>сотрудник</td>\n",
       "      <td>0</td>\n",
       "      <td>267628</td>\n",
       "      <td>дополнительное образование</td>\n",
       "      <td>B</td>\n",
       "      <td>Образование</td>\n",
       "    </tr>\n",
       "    <tr>\n",
       "      <th>4</th>\n",
       "      <td>0</td>\n",
       "      <td>1630.019381</td>\n",
       "      <td>53</td>\n",
       "      <td>1</td>\n",
       "      <td>1</td>\n",
       "      <td>F</td>\n",
       "      <td>пенсионер</td>\n",
       "      <td>0</td>\n",
       "      <td>158616</td>\n",
       "      <td>сыграть свадьбу</td>\n",
       "      <td>C</td>\n",
       "      <td>Свадьба</td>\n",
       "    </tr>\n",
       "  </tbody>\n",
       "</table>\n",
       "</div>"
      ],
      "text/plain": [
       "   amount_of_children  days_employed  age  education_id  family_status_id  \\\n",
       "0                   1    8437.673028   42             0                 0   \n",
       "1                   1    4024.803754   36             1                 0   \n",
       "2                   0    5623.422610   33             1                 0   \n",
       "3                   3    4124.747207   32             1                 0   \n",
       "4                   0    1630.019381   53             1                 1   \n",
       "\n",
       "  gender   job_type  debt  total_income                     purpose  \\\n",
       "0      F  сотрудник     0        253875               покупка жилья   \n",
       "1      F  сотрудник     0        112080     приобретение автомобиля   \n",
       "2      M  сотрудник     0        145885               покупка жилья   \n",
       "3      M  сотрудник     0        267628  дополнительное образование   \n",
       "4      F  пенсионер     0        158616             сыграть свадьбу   \n",
       "\n",
       "  total_income_category purpose_category  \n",
       "0                     B     Недвижимость  \n",
       "1                     C       Автомобиль  \n",
       "2                     C     Недвижимость  \n",
       "3                     B      Образование  \n",
       "4                     C          Свадьба  "
      ]
     },
     "execution_count": 66,
     "metadata": {},
     "output_type": "execute_result"
    }
   ],
   "source": [
    "#добавим новый столбец purpose_category в датафрейм clients и посмотрим на него\n",
    "clients['purpose_category'] = clients['purpose'].apply(purpose_status)\n",
    "clients.head()"
   ]
  },
  {
   "cell_type": "code",
   "execution_count": 67,
   "metadata": {},
   "outputs": [
    {
     "data": {
      "text/plain": [
       "Недвижимость    10811\n",
       "Автомобиль       4306\n",
       "Образование      4013\n",
       "Свадьба          2324\n",
       "Name: purpose_category, dtype: int64"
      ]
     },
     "execution_count": 67,
     "metadata": {},
     "output_type": "execute_result"
    }
   ],
   "source": [
    "#посмотрим , как распределились значения в новом столбце purpose_category\n",
    "clients['purpose_category'].value_counts()"
   ]
  },
  {
   "cell_type": "markdown",
   "metadata": {},
   "source": [
    "Отлично. Все записи разбиты по категориям"
   ]
  },
  {
   "cell_type": "markdown",
   "metadata": {},
   "source": [
    "## Анализ данных. Ответы на вопросы"
   ]
  },
  {
   "cell_type": "markdown",
   "metadata": {},
   "source": [
    "### Вопрос 1: Есть ли зависимость между количеством детей и возвратом кредита в срок?"
   ]
  },
  {
   "cell_type": "markdown",
   "metadata": {},
   "source": [
    "Чтобы ответить на этот вопрос (и похожие следующие) нам нужно сгруппировать клиентов относительно количества их детей. И в каждой группе вывести процент клиентов , имеющих задолженности по кредитам. Эти проценты сравнить по группам "
   ]
  },
  {
   "cell_type": "markdown",
   "metadata": {},
   "source": [
    "Мы можем сделать сводную таблицу. Сгруппируем данные по `amount_of_children`, и применив функцию count, посчитаем количество клиентов с задолженностями и без задолженностей в каждой группе. Добавим новый столбец `percentage_of_debtors`  - процент  клиентов - должников в каждой группе  "
   ]
  },
  {
   "cell_type": "code",
   "execution_count": 68,
   "metadata": {},
   "outputs": [
    {
     "data": {
      "text/html": [
       "<div>\n",
       "<style scoped>\n",
       "    .dataframe tbody tr th:only-of-type {\n",
       "        vertical-align: middle;\n",
       "    }\n",
       "\n",
       "    .dataframe tbody tr th {\n",
       "        vertical-align: top;\n",
       "    }\n",
       "\n",
       "    .dataframe thead th {\n",
       "        text-align: right;\n",
       "    }\n",
       "</style>\n",
       "<table border=\"1\" class=\"dataframe\">\n",
       "  <thead>\n",
       "    <tr style=\"text-align: right;\">\n",
       "      <th>debt</th>\n",
       "      <th>0</th>\n",
       "      <th>1</th>\n",
       "      <th>percentage_of_debtors</th>\n",
       "    </tr>\n",
       "    <tr>\n",
       "      <th>amount_of_children</th>\n",
       "      <th></th>\n",
       "      <th></th>\n",
       "      <th></th>\n",
       "    </tr>\n",
       "  </thead>\n",
       "  <tbody>\n",
       "    <tr>\n",
       "      <th>0</th>\n",
       "      <td>13028.0</td>\n",
       "      <td>1063.0</td>\n",
       "      <td>7.543822</td>\n",
       "    </tr>\n",
       "    <tr>\n",
       "      <th>1</th>\n",
       "      <td>4410.0</td>\n",
       "      <td>445.0</td>\n",
       "      <td>9.165808</td>\n",
       "    </tr>\n",
       "    <tr>\n",
       "      <th>2</th>\n",
       "      <td>1926.0</td>\n",
       "      <td>202.0</td>\n",
       "      <td>9.492481</td>\n",
       "    </tr>\n",
       "    <tr>\n",
       "      <th>3</th>\n",
       "      <td>303.0</td>\n",
       "      <td>27.0</td>\n",
       "      <td>8.181818</td>\n",
       "    </tr>\n",
       "    <tr>\n",
       "      <th>4</th>\n",
       "      <td>37.0</td>\n",
       "      <td>4.0</td>\n",
       "      <td>9.756098</td>\n",
       "    </tr>\n",
       "    <tr>\n",
       "      <th>5</th>\n",
       "      <td>9.0</td>\n",
       "      <td>NaN</td>\n",
       "      <td>NaN</td>\n",
       "    </tr>\n",
       "  </tbody>\n",
       "</table>\n",
       "</div>"
      ],
      "text/plain": [
       "debt                      0       1  percentage_of_debtors\n",
       "amount_of_children                                        \n",
       "0                   13028.0  1063.0               7.543822\n",
       "1                    4410.0   445.0               9.165808\n",
       "2                    1926.0   202.0               9.492481\n",
       "3                     303.0    27.0               8.181818\n",
       "4                      37.0     4.0               9.756098\n",
       "5                       9.0     NaN                    NaN"
      ]
     },
     "execution_count": 68,
     "metadata": {},
     "output_type": "execute_result"
    }
   ],
   "source": [
    "#создаём сводную таблицу \n",
    "try:\n",
    "    children_pivot = clients.pivot_table(index = ['amount_of_children'], columns = ['debt'],values = 'age', aggfunc='count')\n",
    "except: \n",
    "    display('Не удалось создать сводную таблицу ')\n",
    "#вычисляем процент должников по группам и добавляем новый столбец\n",
    "children_pivot['percentage_of_debtors'] = children_pivot[1] / (children_pivot[0]+ children_pivot[1]) * 100\n",
    "children_pivot"
   ]
  },
  {
   "cell_type": "markdown",
   "metadata": {},
   "source": [
    "**Вывод**:\n",
    "**Клиентов-должников без детей меньше, чем с детьми. Клиенты ,имеющие детей, выплачивают кредиты примерно на одном уровне.**\n",
    "Процент должников среди клиентов без детей находится около 7,5%. У клиентов с детьми этот процент выше. Среди клиентов с 5ю детьми должников вообще нет. Но таки клиетов всего в выборке 9 человек - очень мало , чтобы делать какие-то выводы"
   ]
  },
  {
   "cell_type": "markdown",
   "metadata": {},
   "source": [
    "### Вопрос 2. Есть ли зависимость между семейным положением и возвратом кредита в срок?"
   ]
  },
  {
   "cell_type": "markdown",
   "metadata": {},
   "source": [
    "Проделаем те же операции, что и в случае с анализом по количеству детей"
   ]
  },
  {
   "cell_type": "code",
   "execution_count": 69,
   "metadata": {},
   "outputs": [],
   "source": [
    "#несколько шагов назад (по заданию) мы удалили столбец family_status. сейчас для наглядности данных добавим таблицу \n",
    "# df_family_status к таблице clients\n",
    "clients = clients.merge(df_family_status, on = 'family_status_id', how = 'left')"
   ]
  },
  {
   "cell_type": "code",
   "execution_count": 70,
   "metadata": {},
   "outputs": [
    {
     "data": {
      "text/html": [
       "<div>\n",
       "<style scoped>\n",
       "    .dataframe tbody tr th:only-of-type {\n",
       "        vertical-align: middle;\n",
       "    }\n",
       "\n",
       "    .dataframe tbody tr th {\n",
       "        vertical-align: top;\n",
       "    }\n",
       "\n",
       "    .dataframe thead th {\n",
       "        text-align: right;\n",
       "    }\n",
       "</style>\n",
       "<table border=\"1\" class=\"dataframe\">\n",
       "  <thead>\n",
       "    <tr style=\"text-align: right;\">\n",
       "      <th>debt</th>\n",
       "      <th>0</th>\n",
       "      <th>1</th>\n",
       "      <th>percentage_of_debtors</th>\n",
       "    </tr>\n",
       "    <tr>\n",
       "      <th>family_status</th>\n",
       "      <th></th>\n",
       "      <th></th>\n",
       "      <th></th>\n",
       "    </tr>\n",
       "  </thead>\n",
       "  <tbody>\n",
       "    <tr>\n",
       "      <th>Не женат / не замужем</th>\n",
       "      <td>2536</td>\n",
       "      <td>274</td>\n",
       "      <td>9.750890</td>\n",
       "    </tr>\n",
       "    <tr>\n",
       "      <th>в разводе</th>\n",
       "      <td>1110</td>\n",
       "      <td>85</td>\n",
       "      <td>7.112971</td>\n",
       "    </tr>\n",
       "    <tr>\n",
       "      <th>вдовец / вдова</th>\n",
       "      <td>896</td>\n",
       "      <td>63</td>\n",
       "      <td>6.569343</td>\n",
       "    </tr>\n",
       "    <tr>\n",
       "      <th>гражданский брак</th>\n",
       "      <td>3763</td>\n",
       "      <td>388</td>\n",
       "      <td>9.347145</td>\n",
       "    </tr>\n",
       "    <tr>\n",
       "      <th>женат / замужем</th>\n",
       "      <td>11408</td>\n",
       "      <td>931</td>\n",
       "      <td>7.545182</td>\n",
       "    </tr>\n",
       "  </tbody>\n",
       "</table>\n",
       "</div>"
      ],
      "text/plain": [
       "debt                       0    1  percentage_of_debtors\n",
       "family_status                                           \n",
       "Не женат / не замужем   2536  274               9.750890\n",
       "в разводе               1110   85               7.112971\n",
       "вдовец / вдова           896   63               6.569343\n",
       "гражданский брак        3763  388               9.347145\n",
       "женат / замужем        11408  931               7.545182"
      ]
     },
     "execution_count": 70,
     "metadata": {},
     "output_type": "execute_result"
    }
   ],
   "source": [
    "#создадим сводную таблицу\n",
    "try:\n",
    "    family_status_pivot = clients.pivot_table(index=['family_status'], columns=['debt'], values='age', aggfunc='count')\n",
    "except: \n",
    "    display('Не удалось создать сводную таблицу ')\n",
    "#посчитаем процент должников\n",
    "family_status_pivot['percentage_of_debtors'] = family_status_pivot[1] / (family_status_pivot[0]+ family_status_pivot[1])* 100\n",
    "family_status_pivot"
   ]
  },
  {
   "cell_type": "markdown",
   "metadata": {},
   "source": [
    "**Вывод:** **Семейное положение влияет на выплачиваемость кредита в срок** Среди вдов, женатых/замужних людей, людей в разводе должников меньше, чем среди не женатых/не замужних и людей в гражданском браке"
   ]
  },
  {
   "cell_type": "markdown",
   "metadata": {},
   "source": [
    "### Вопрос 3.Есть ли зависимость между уровнем дохода и возвратом кредита в срок?"
   ]
  },
  {
   "cell_type": "code",
   "execution_count": 71,
   "metadata": {},
   "outputs": [
    {
     "data": {
      "text/html": [
       "<div>\n",
       "<style scoped>\n",
       "    .dataframe tbody tr th:only-of-type {\n",
       "        vertical-align: middle;\n",
       "    }\n",
       "\n",
       "    .dataframe tbody tr th {\n",
       "        vertical-align: top;\n",
       "    }\n",
       "\n",
       "    .dataframe thead th {\n",
       "        text-align: right;\n",
       "    }\n",
       "</style>\n",
       "<table border=\"1\" class=\"dataframe\">\n",
       "  <thead>\n",
       "    <tr style=\"text-align: right;\">\n",
       "      <th>debt</th>\n",
       "      <th>0</th>\n",
       "      <th>1</th>\n",
       "      <th>percentage_of_debtors</th>\n",
       "    </tr>\n",
       "    <tr>\n",
       "      <th>total_income_category</th>\n",
       "      <th></th>\n",
       "      <th></th>\n",
       "      <th></th>\n",
       "    </tr>\n",
       "  </thead>\n",
       "  <tbody>\n",
       "    <tr>\n",
       "      <th>A</th>\n",
       "      <td>23</td>\n",
       "      <td>2</td>\n",
       "      <td>8.000000</td>\n",
       "    </tr>\n",
       "    <tr>\n",
       "      <th>B</th>\n",
       "      <td>4685</td>\n",
       "      <td>356</td>\n",
       "      <td>7.062091</td>\n",
       "    </tr>\n",
       "    <tr>\n",
       "      <th>C</th>\n",
       "      <td>14656</td>\n",
       "      <td>1360</td>\n",
       "      <td>8.491508</td>\n",
       "    </tr>\n",
       "    <tr>\n",
       "      <th>D</th>\n",
       "      <td>329</td>\n",
       "      <td>21</td>\n",
       "      <td>6.000000</td>\n",
       "    </tr>\n",
       "    <tr>\n",
       "      <th>E</th>\n",
       "      <td>20</td>\n",
       "      <td>2</td>\n",
       "      <td>9.090909</td>\n",
       "    </tr>\n",
       "  </tbody>\n",
       "</table>\n",
       "</div>"
      ],
      "text/plain": [
       "debt                       0     1  percentage_of_debtors\n",
       "total_income_category                                    \n",
       "A                         23     2               8.000000\n",
       "B                       4685   356               7.062091\n",
       "C                      14656  1360               8.491508\n",
       "D                        329    21               6.000000\n",
       "E                         20     2               9.090909"
      ]
     },
     "execution_count": 71,
     "metadata": {},
     "output_type": "execute_result"
    }
   ],
   "source": [
    "#проделаем те же операции \n",
    "try:\n",
    "    total_income_pivot = clients.pivot_table(index = ['total_income_category'],columns = ['debt'],values = 'age', aggfunc='count')\n",
    "except: \n",
    "    display('Не удалось создать сводную таблицу ')\n",
    "\n",
    "total_income_pivot['percentage_of_debtors'] = total_income_pivot[1] / (total_income_pivot[0]+ total_income_pivot[1]) * 100\n",
    "total_income_pivot"
   ]
  },
  {
   "cell_type": "markdown",
   "metadata": {},
   "source": [
    "**Вывод:** **Уровень дохода влияет на выплачиваемость кредита в срок**\n",
    "Выборки по категориям  А и Е небольшие, но даже здесь  видно,что должников с низким уровнем дохода больше, чем среди остальных клиентов. "
   ]
  },
  {
   "cell_type": "markdown",
   "metadata": {},
   "source": [
    "### Вопрос 4. Как разные цели кредита влияют на его возврат в срок?"
   ]
  },
  {
   "cell_type": "code",
   "execution_count": 72,
   "metadata": {},
   "outputs": [
    {
     "data": {
      "text/html": [
       "<div>\n",
       "<style scoped>\n",
       "    .dataframe tbody tr th:only-of-type {\n",
       "        vertical-align: middle;\n",
       "    }\n",
       "\n",
       "    .dataframe tbody tr th {\n",
       "        vertical-align: top;\n",
       "    }\n",
       "\n",
       "    .dataframe thead th {\n",
       "        text-align: right;\n",
       "    }\n",
       "</style>\n",
       "<table border=\"1\" class=\"dataframe\">\n",
       "  <thead>\n",
       "    <tr style=\"text-align: right;\">\n",
       "      <th>debt</th>\n",
       "      <th>0</th>\n",
       "      <th>1</th>\n",
       "      <th>percentage_of_debtors</th>\n",
       "    </tr>\n",
       "    <tr>\n",
       "      <th>purpose_category</th>\n",
       "      <th></th>\n",
       "      <th></th>\n",
       "      <th></th>\n",
       "    </tr>\n",
       "  </thead>\n",
       "  <tbody>\n",
       "    <tr>\n",
       "      <th>Автомобиль</th>\n",
       "      <td>3903</td>\n",
       "      <td>403</td>\n",
       "      <td>9.359034</td>\n",
       "    </tr>\n",
       "    <tr>\n",
       "      <th>Недвижимость</th>\n",
       "      <td>10029</td>\n",
       "      <td>782</td>\n",
       "      <td>7.233373</td>\n",
       "    </tr>\n",
       "    <tr>\n",
       "      <th>Образование</th>\n",
       "      <td>3643</td>\n",
       "      <td>370</td>\n",
       "      <td>9.220035</td>\n",
       "    </tr>\n",
       "    <tr>\n",
       "      <th>Свадьба</th>\n",
       "      <td>2138</td>\n",
       "      <td>186</td>\n",
       "      <td>8.003442</td>\n",
       "    </tr>\n",
       "  </tbody>\n",
       "</table>\n",
       "</div>"
      ],
      "text/plain": [
       "debt                  0    1  percentage_of_debtors\n",
       "purpose_category                                   \n",
       "Автомобиль         3903  403               9.359034\n",
       "Недвижимость      10029  782               7.233373\n",
       "Образование        3643  370               9.220035\n",
       "Свадьба            2138  186               8.003442"
      ]
     },
     "execution_count": 72,
     "metadata": {},
     "output_type": "execute_result"
    }
   ],
   "source": [
    "#проделаем те же операции\n",
    "try:\n",
    "    purpose_pivot = clients.pivot_table(index = ['purpose_category'],columns = ['debt'], values = 'age', aggfunc='count')\n",
    "except: \n",
    "    display('Не удалось создать сводную таблицу ')\n",
    "    \n",
    "purpose_pivot['percentage_of_debtors'] = purpose_pivot[1] / (purpose_pivot[0]+ purpose_pivot[1]) * 100\n",
    "purpose_pivot"
   ]
  },
  {
   "cell_type": "markdown",
   "metadata": {},
   "source": [
    "**Вывод: Цели кредита влияют на его возврат в срок**. Кредиты за авомобили и образование клиенты выплачивают хуже, чем за недвижимость и свадьбу."
   ]
  },
  {
   "cell_type": "markdown",
   "metadata": {},
   "source": [
    "## Общий вывод:"
   ]
  },
  {
   "cell_type": "markdown",
   "metadata": {},
   "source": [
    "Мы нашли зависимость между количеством детей, семейным положением, уровнем дохода и целями кредита на его срок возврата. Разница некритическая , но при большом объеме клиентов она будет ощутима."
   ]
  },
  {
   "cell_type": "markdown",
   "metadata": {},
   "source": [
    "С помощью наших отдельных выводов( ответов на вопросы) мы можем описать \"типичного\" клиента с наибольшей вероятностью просрочки по выплатам кредита : не женат( не замужем), с детьми, доход - средний и ниже среднего, цель кредита - автомобиль /образование"
   ]
  }
 ],
 "metadata": {
  "ExecuteTimeLog": [
   {
    "duration": 491,
    "start_time": "2022-04-05T16:11:04.500Z"
   },
   {
    "duration": 74,
    "start_time": "2022-04-05T16:11:32.143Z"
   },
   {
    "duration": 67,
    "start_time": "2022-04-05T16:11:46.356Z"
   },
   {
    "duration": 18,
    "start_time": "2022-04-05T16:43:36.125Z"
   },
   {
    "duration": 114,
    "start_time": "2022-04-05T16:49:09.460Z"
   },
   {
    "duration": 97,
    "start_time": "2022-04-05T16:50:32.101Z"
   },
   {
    "duration": 68,
    "start_time": "2022-04-05T16:50:41.863Z"
   },
   {
    "duration": 106,
    "start_time": "2022-04-05T16:50:54.467Z"
   },
   {
    "duration": 13,
    "start_time": "2022-04-05T16:51:48.962Z"
   },
   {
    "duration": 79,
    "start_time": "2022-04-05T16:52:25.459Z"
   },
   {
    "duration": 15,
    "start_time": "2022-04-05T16:52:35.108Z"
   },
   {
    "duration": 10,
    "start_time": "2022-04-05T17:37:36.092Z"
   },
   {
    "duration": 10,
    "start_time": "2022-04-05T17:38:13.692Z"
   },
   {
    "duration": 19,
    "start_time": "2022-04-05T17:38:51.584Z"
   },
   {
    "duration": 10,
    "start_time": "2022-04-05T17:39:02.939Z"
   },
   {
    "duration": 19,
    "start_time": "2022-04-05T17:39:20.183Z"
   },
   {
    "duration": 11,
    "start_time": "2022-04-05T17:39:39.279Z"
   },
   {
    "duration": 5,
    "start_time": "2022-04-05T17:46:06.482Z"
   },
   {
    "duration": 5,
    "start_time": "2022-04-05T17:46:53.613Z"
   },
   {
    "duration": 5,
    "start_time": "2022-04-05T17:46:59.915Z"
   },
   {
    "duration": 145,
    "start_time": "2022-04-05T17:53:02.259Z"
   },
   {
    "duration": 176,
    "start_time": "2022-04-05T17:53:18.827Z"
   },
   {
    "duration": 167,
    "start_time": "2022-04-05T17:53:32.827Z"
   },
   {
    "duration": 156,
    "start_time": "2022-04-05T17:55:49.571Z"
   },
   {
    "duration": 5,
    "start_time": "2022-04-05T17:56:02.843Z"
   },
   {
    "duration": 5,
    "start_time": "2022-04-05T17:56:33.211Z"
   },
   {
    "duration": 5,
    "start_time": "2022-04-05T17:56:54.434Z"
   },
   {
    "duration": 44,
    "start_time": "2022-04-06T09:37:53.998Z"
   },
   {
    "duration": 435,
    "start_time": "2022-04-06T09:38:13.796Z"
   },
   {
    "duration": 17,
    "start_time": "2022-04-06T09:38:14.233Z"
   },
   {
    "duration": 9,
    "start_time": "2022-04-06T09:38:14.251Z"
   },
   {
    "duration": 4,
    "start_time": "2022-04-06T09:38:14.261Z"
   },
   {
    "duration": 3,
    "start_time": "2022-04-06T09:38:20.544Z"
   },
   {
    "duration": 5,
    "start_time": "2022-04-06T09:38:32.263Z"
   },
   {
    "duration": 29,
    "start_time": "2022-04-06T09:46:15.782Z"
   },
   {
    "duration": 4,
    "start_time": "2022-04-06T09:48:22.319Z"
   },
   {
    "duration": 10,
    "start_time": "2022-04-06T09:48:33.769Z"
   },
   {
    "duration": 10,
    "start_time": "2022-04-06T09:50:00.568Z"
   },
   {
    "duration": 7,
    "start_time": "2022-04-06T09:57:31.212Z"
   },
   {
    "duration": 5,
    "start_time": "2022-04-06T09:57:47.263Z"
   },
   {
    "duration": 4,
    "start_time": "2022-04-06T09:58:00.112Z"
   },
   {
    "duration": 5,
    "start_time": "2022-04-06T09:58:05.541Z"
   },
   {
    "duration": 5,
    "start_time": "2022-04-06T09:58:22.511Z"
   },
   {
    "duration": 4,
    "start_time": "2022-04-06T09:58:28.031Z"
   },
   {
    "duration": 5,
    "start_time": "2022-04-06T10:01:01.112Z"
   },
   {
    "duration": 5,
    "start_time": "2022-04-06T10:01:10.903Z"
   },
   {
    "duration": 5,
    "start_time": "2022-04-06T10:01:52.424Z"
   },
   {
    "duration": 157,
    "start_time": "2022-04-06T10:07:13.849Z"
   },
   {
    "duration": 21,
    "start_time": "2022-04-06T10:07:19.578Z"
   },
   {
    "duration": 4,
    "start_time": "2022-04-06T10:07:44.532Z"
   },
   {
    "duration": 6,
    "start_time": "2022-04-06T10:08:59.670Z"
   },
   {
    "duration": 9,
    "start_time": "2022-04-06T10:09:13.910Z"
   },
   {
    "duration": 25,
    "start_time": "2022-04-06T10:10:02.927Z"
   },
   {
    "duration": 22,
    "start_time": "2022-04-06T10:13:01.893Z"
   },
   {
    "duration": 7,
    "start_time": "2022-04-06T10:14:25.073Z"
   },
   {
    "duration": 21,
    "start_time": "2022-04-06T10:14:45.157Z"
   },
   {
    "duration": 23,
    "start_time": "2022-04-06T10:15:03.397Z"
   },
   {
    "duration": 21,
    "start_time": "2022-04-06T10:15:27.054Z"
   },
   {
    "duration": 24,
    "start_time": "2022-04-06T10:15:36.006Z"
   },
   {
    "duration": 5,
    "start_time": "2022-04-06T10:17:29.233Z"
   },
   {
    "duration": 7,
    "start_time": "2022-04-06T10:17:46.380Z"
   },
   {
    "duration": 6,
    "start_time": "2022-04-06T10:17:54.342Z"
   },
   {
    "duration": 6,
    "start_time": "2022-04-06T10:18:39.652Z"
   },
   {
    "duration": 8,
    "start_time": "2022-04-06T10:18:47.372Z"
   },
   {
    "duration": 30,
    "start_time": "2022-04-06T10:25:53.330Z"
   },
   {
    "duration": 28,
    "start_time": "2022-04-06T10:26:04.792Z"
   },
   {
    "duration": 52,
    "start_time": "2022-04-06T10:27:10.261Z"
   },
   {
    "duration": 28,
    "start_time": "2022-04-06T10:27:59.475Z"
   },
   {
    "duration": 30,
    "start_time": "2022-04-06T10:28:10.916Z"
   },
   {
    "duration": 23,
    "start_time": "2022-04-06T10:30:03.271Z"
   },
   {
    "duration": 22,
    "start_time": "2022-04-06T10:30:29.140Z"
   },
   {
    "duration": 8,
    "start_time": "2022-04-06T10:32:56.585Z"
   },
   {
    "duration": 7,
    "start_time": "2022-04-06T10:34:54.323Z"
   },
   {
    "duration": 6,
    "start_time": "2022-04-06T10:36:07.019Z"
   },
   {
    "duration": 6,
    "start_time": "2022-04-06T10:36:18.292Z"
   },
   {
    "duration": 6,
    "start_time": "2022-04-06T10:37:09.130Z"
   },
   {
    "duration": 6,
    "start_time": "2022-04-06T10:37:17.231Z"
   },
   {
    "duration": 6,
    "start_time": "2022-04-06T10:39:14.276Z"
   },
   {
    "duration": 6,
    "start_time": "2022-04-06T10:40:56.250Z"
   },
   {
    "duration": 7,
    "start_time": "2022-04-06T10:41:54.142Z"
   },
   {
    "duration": 7,
    "start_time": "2022-04-06T10:42:16.458Z"
   },
   {
    "duration": 6,
    "start_time": "2022-04-06T10:42:30.632Z"
   },
   {
    "duration": 6,
    "start_time": "2022-04-06T10:42:36.592Z"
   },
   {
    "duration": 7,
    "start_time": "2022-04-06T10:42:48.519Z"
   },
   {
    "duration": 6,
    "start_time": "2022-04-06T10:43:10.631Z"
   },
   {
    "duration": 6,
    "start_time": "2022-04-06T10:43:13.591Z"
   },
   {
    "duration": 49,
    "start_time": "2022-04-06T17:58:25.394Z"
   },
   {
    "duration": 430,
    "start_time": "2022-04-06T17:58:31.761Z"
   },
   {
    "duration": 39,
    "start_time": "2022-04-06T17:58:32.193Z"
   },
   {
    "duration": 12,
    "start_time": "2022-04-06T17:58:32.235Z"
   },
   {
    "duration": 7,
    "start_time": "2022-04-06T17:58:32.249Z"
   },
   {
    "duration": 10,
    "start_time": "2022-04-06T17:58:32.257Z"
   },
   {
    "duration": 50,
    "start_time": "2022-04-06T17:58:32.269Z"
   },
   {
    "duration": 10,
    "start_time": "2022-04-06T17:58:32.322Z"
   },
   {
    "duration": 8,
    "start_time": "2022-04-06T17:58:32.334Z"
   },
   {
    "duration": 23,
    "start_time": "2022-04-06T17:58:35.903Z"
   },
   {
    "duration": 23,
    "start_time": "2022-04-06T18:00:02.998Z"
   },
   {
    "duration": 6,
    "start_time": "2022-04-06T18:02:16.837Z"
   },
   {
    "duration": 94,
    "start_time": "2022-04-06T18:03:03.537Z"
   },
   {
    "duration": 148,
    "start_time": "2022-04-06T18:03:17.274Z"
   },
   {
    "duration": 90,
    "start_time": "2022-04-06T18:08:12.006Z"
   },
   {
    "duration": 104,
    "start_time": "2022-04-06T18:08:22.265Z"
   },
   {
    "duration": 9,
    "start_time": "2022-04-06T18:08:32.441Z"
   },
   {
    "duration": 9,
    "start_time": "2022-04-06T18:08:41.819Z"
   },
   {
    "duration": 87,
    "start_time": "2022-04-06T18:11:54.260Z"
   },
   {
    "duration": 89,
    "start_time": "2022-04-06T18:12:05.384Z"
   },
   {
    "duration": 89,
    "start_time": "2022-04-06T18:12:39.502Z"
   },
   {
    "duration": 7,
    "start_time": "2022-04-06T18:12:42.995Z"
   },
   {
    "duration": 5,
    "start_time": "2022-04-06T18:15:27.030Z"
   },
   {
    "duration": 26,
    "start_time": "2022-04-06T18:15:43.811Z"
   },
   {
    "duration": 6,
    "start_time": "2022-04-06T18:20:07.753Z"
   },
   {
    "duration": 86,
    "start_time": "2022-04-06T18:21:25.032Z"
   },
   {
    "duration": 3,
    "start_time": "2022-04-06T18:21:34.413Z"
   },
   {
    "duration": 4,
    "start_time": "2022-04-06T18:21:51.652Z"
   },
   {
    "duration": 4,
    "start_time": "2022-04-06T18:22:01.306Z"
   },
   {
    "duration": 4,
    "start_time": "2022-04-06T18:24:10.202Z"
   },
   {
    "duration": 4,
    "start_time": "2022-04-06T18:24:29.864Z"
   },
   {
    "duration": 8,
    "start_time": "2022-04-06T18:25:31.093Z"
   },
   {
    "duration": 3,
    "start_time": "2022-04-06T18:25:44.142Z"
   },
   {
    "duration": 9,
    "start_time": "2022-04-06T18:25:45.855Z"
   },
   {
    "duration": 8,
    "start_time": "2022-04-06T18:26:11.057Z"
   },
   {
    "duration": 8,
    "start_time": "2022-04-06T18:26:14.485Z"
   },
   {
    "duration": 8,
    "start_time": "2022-04-06T18:26:40.674Z"
   },
   {
    "duration": 25,
    "start_time": "2022-04-06T18:28:46.761Z"
   },
   {
    "duration": 44,
    "start_time": "2022-04-06T19:14:56.415Z"
   },
   {
    "duration": 463,
    "start_time": "2022-04-06T19:15:01.943Z"
   },
   {
    "duration": 25,
    "start_time": "2022-04-06T19:15:02.408Z"
   },
   {
    "duration": 8,
    "start_time": "2022-04-06T19:15:02.435Z"
   },
   {
    "duration": 8,
    "start_time": "2022-04-06T19:15:02.445Z"
   },
   {
    "duration": 7,
    "start_time": "2022-04-06T19:15:02.454Z"
   },
   {
    "duration": 34,
    "start_time": "2022-04-06T19:15:02.462Z"
   },
   {
    "duration": 13,
    "start_time": "2022-04-06T19:15:02.499Z"
   },
   {
    "duration": 9,
    "start_time": "2022-04-06T19:15:02.514Z"
   },
   {
    "duration": 21,
    "start_time": "2022-04-06T19:15:04.621Z"
   },
   {
    "duration": 7,
    "start_time": "2022-04-06T19:20:27.948Z"
   },
   {
    "duration": 6,
    "start_time": "2022-04-06T19:20:58.291Z"
   },
   {
    "duration": 6,
    "start_time": "2022-04-06T19:21:22.862Z"
   },
   {
    "duration": 4,
    "start_time": "2022-04-06T19:23:48.234Z"
   },
   {
    "duration": 6,
    "start_time": "2022-04-06T19:24:07.118Z"
   },
   {
    "duration": 5,
    "start_time": "2022-04-06T19:24:33.537Z"
   },
   {
    "duration": 5,
    "start_time": "2022-04-06T19:28:24.312Z"
   },
   {
    "duration": 4,
    "start_time": "2022-04-06T19:42:08.050Z"
   },
   {
    "duration": 4,
    "start_time": "2022-04-06T19:42:36.985Z"
   },
   {
    "duration": 6,
    "start_time": "2022-04-06T19:42:52.071Z"
   },
   {
    "duration": 4,
    "start_time": "2022-04-06T19:44:43.745Z"
   },
   {
    "duration": 7,
    "start_time": "2022-04-06T19:44:58.651Z"
   },
   {
    "duration": 205,
    "start_time": "2022-04-06T19:46:01.781Z"
   },
   {
    "duration": 11,
    "start_time": "2022-04-06T19:47:22.559Z"
   },
   {
    "duration": 25,
    "start_time": "2022-04-06T19:49:34.261Z"
   },
   {
    "duration": 6,
    "start_time": "2022-04-06T19:50:02.645Z"
   },
   {
    "duration": 8,
    "start_time": "2022-04-06T19:52:38.055Z"
   },
   {
    "duration": 8,
    "start_time": "2022-04-06T19:53:22.058Z"
   },
   {
    "duration": 7,
    "start_time": "2022-04-06T19:54:37.275Z"
   },
   {
    "duration": 8,
    "start_time": "2022-04-06T19:54:47.512Z"
   },
   {
    "duration": 8,
    "start_time": "2022-04-06T19:55:15.077Z"
   },
   {
    "duration": 14,
    "start_time": "2022-04-06T19:58:42.485Z"
   },
   {
    "duration": 98,
    "start_time": "2022-04-06T20:09:23.685Z"
   },
   {
    "duration": 27,
    "start_time": "2022-04-06T20:09:23.785Z"
   },
   {
    "duration": 8,
    "start_time": "2022-04-06T20:09:23.814Z"
   },
   {
    "duration": 9,
    "start_time": "2022-04-06T20:09:23.824Z"
   },
   {
    "duration": 8,
    "start_time": "2022-04-06T20:09:23.834Z"
   },
   {
    "duration": 41,
    "start_time": "2022-04-06T20:09:23.843Z"
   },
   {
    "duration": 7,
    "start_time": "2022-04-06T20:09:23.886Z"
   },
   {
    "duration": 8,
    "start_time": "2022-04-06T20:09:23.895Z"
   },
   {
    "duration": 8,
    "start_time": "2022-04-06T20:12:26.944Z"
   },
   {
    "duration": 7,
    "start_time": "2022-04-06T20:13:03.255Z"
   },
   {
    "duration": 13,
    "start_time": "2022-04-06T20:14:24.606Z"
   },
   {
    "duration": 13,
    "start_time": "2022-04-06T20:14:30.352Z"
   },
   {
    "duration": 12,
    "start_time": "2022-04-06T20:14:55.102Z"
   },
   {
    "duration": 11,
    "start_time": "2022-04-06T20:15:45.277Z"
   },
   {
    "duration": 13,
    "start_time": "2022-04-06T20:17:19.091Z"
   },
   {
    "duration": 13,
    "start_time": "2022-04-06T20:17:52.338Z"
   },
   {
    "duration": 19,
    "start_time": "2022-04-06T20:17:59.522Z"
   },
   {
    "duration": 12,
    "start_time": "2022-04-06T20:18:07.413Z"
   },
   {
    "duration": 15,
    "start_time": "2022-04-06T20:18:17.172Z"
   },
   {
    "duration": 71,
    "start_time": "2022-04-07T17:19:53.303Z"
   },
   {
    "duration": 643,
    "start_time": "2022-04-07T17:19:58.715Z"
   },
   {
    "duration": 42,
    "start_time": "2022-04-07T17:19:59.361Z"
   },
   {
    "duration": 46,
    "start_time": "2022-04-07T17:20:02.545Z"
   },
   {
    "duration": 43,
    "start_time": "2022-04-07T17:51:07.984Z"
   },
   {
    "duration": 5,
    "start_time": "2022-04-07T17:51:17.535Z"
   },
   {
    "duration": 13,
    "start_time": "2022-04-07T17:51:28.774Z"
   },
   {
    "duration": 13,
    "start_time": "2022-04-07T17:52:29.686Z"
   },
   {
    "duration": 8,
    "start_time": "2022-04-07T17:52:32.045Z"
   },
   {
    "duration": 8,
    "start_time": "2022-04-07T17:52:50.037Z"
   },
   {
    "duration": 12,
    "start_time": "2022-04-07T17:57:35.965Z"
   },
   {
    "duration": 8,
    "start_time": "2022-04-07T17:57:37.661Z"
   },
   {
    "duration": 11,
    "start_time": "2022-04-07T17:59:54.557Z"
   },
   {
    "duration": 5,
    "start_time": "2022-04-07T18:06:39.219Z"
   },
   {
    "duration": 4,
    "start_time": "2022-04-07T18:06:48.523Z"
   },
   {
    "duration": 5,
    "start_time": "2022-04-07T18:08:10.440Z"
   },
   {
    "duration": 8,
    "start_time": "2022-04-07T18:13:59.792Z"
   },
   {
    "duration": 100,
    "start_time": "2022-04-07T18:14:18.794Z"
   },
   {
    "duration": 49,
    "start_time": "2022-04-07T18:14:18.896Z"
   },
   {
    "duration": 42,
    "start_time": "2022-04-07T18:14:18.947Z"
   },
   {
    "duration": 6,
    "start_time": "2022-04-07T18:14:18.992Z"
   },
   {
    "duration": 19,
    "start_time": "2022-04-07T18:14:19.000Z"
   },
   {
    "duration": 32,
    "start_time": "2022-04-07T18:14:19.021Z"
   },
   {
    "duration": 25,
    "start_time": "2022-04-07T18:14:19.055Z"
   },
   {
    "duration": 17,
    "start_time": "2022-04-07T18:14:19.082Z"
   },
   {
    "duration": 11,
    "start_time": "2022-04-07T18:14:19.101Z"
   },
   {
    "duration": 31,
    "start_time": "2022-04-07T18:14:19.115Z"
   },
   {
    "duration": 9,
    "start_time": "2022-04-07T18:14:22.276Z"
   },
   {
    "duration": 14,
    "start_time": "2022-04-07T18:17:01.554Z"
   },
   {
    "duration": 91,
    "start_time": "2022-04-07T18:17:07.461Z"
   },
   {
    "duration": 34,
    "start_time": "2022-04-07T18:17:07.554Z"
   },
   {
    "duration": 63,
    "start_time": "2022-04-07T18:17:07.591Z"
   },
   {
    "duration": 6,
    "start_time": "2022-04-07T18:17:07.657Z"
   },
   {
    "duration": 23,
    "start_time": "2022-04-07T18:17:07.666Z"
   },
   {
    "duration": 7,
    "start_time": "2022-04-07T18:17:07.691Z"
   },
   {
    "duration": 8,
    "start_time": "2022-04-07T18:17:07.700Z"
   },
   {
    "duration": 41,
    "start_time": "2022-04-07T18:17:07.711Z"
   },
   {
    "duration": 12,
    "start_time": "2022-04-07T18:17:07.754Z"
   },
   {
    "duration": 9,
    "start_time": "2022-04-07T18:17:07.769Z"
   },
   {
    "duration": 30,
    "start_time": "2022-04-07T18:17:07.780Z"
   },
   {
    "duration": 10,
    "start_time": "2022-04-07T18:17:07.812Z"
   },
   {
    "duration": 75,
    "start_time": "2022-04-07T18:17:07.824Z"
   },
   {
    "duration": 11,
    "start_time": "2022-04-07T18:17:11.062Z"
   },
   {
    "duration": 7,
    "start_time": "2022-04-07T18:17:37.207Z"
   },
   {
    "duration": 7,
    "start_time": "2022-04-07T18:17:59.999Z"
   },
   {
    "duration": 9,
    "start_time": "2022-04-07T18:18:29.975Z"
   },
   {
    "duration": 10,
    "start_time": "2022-04-07T18:22:21.276Z"
   },
   {
    "duration": 169,
    "start_time": "2022-04-07T18:22:36.141Z"
   },
   {
    "duration": 178,
    "start_time": "2022-04-07T18:22:59.917Z"
   },
   {
    "duration": 170,
    "start_time": "2022-04-07T18:23:12.169Z"
   },
   {
    "duration": 9,
    "start_time": "2022-04-07T18:23:18.116Z"
   },
   {
    "duration": 7,
    "start_time": "2022-04-07T18:24:03.010Z"
   },
   {
    "duration": 95,
    "start_time": "2022-04-07T18:24:48.593Z"
   },
   {
    "duration": 35,
    "start_time": "2022-04-07T18:24:48.691Z"
   },
   {
    "duration": 41,
    "start_time": "2022-04-07T18:24:48.742Z"
   },
   {
    "duration": 7,
    "start_time": "2022-04-07T18:24:48.786Z"
   },
   {
    "duration": 16,
    "start_time": "2022-04-07T18:24:48.795Z"
   },
   {
    "duration": 7,
    "start_time": "2022-04-07T18:24:48.842Z"
   },
   {
    "duration": 8,
    "start_time": "2022-04-07T18:24:48.851Z"
   },
   {
    "duration": 14,
    "start_time": "2022-04-07T18:24:48.861Z"
   },
   {
    "duration": 11,
    "start_time": "2022-04-07T18:24:48.877Z"
   },
   {
    "duration": 8,
    "start_time": "2022-04-07T18:24:48.891Z"
   },
   {
    "duration": 8,
    "start_time": "2022-04-07T18:24:48.944Z"
   },
   {
    "duration": 4,
    "start_time": "2022-04-07T18:24:48.954Z"
   },
   {
    "duration": 34,
    "start_time": "2022-04-07T18:24:48.960Z"
   },
   {
    "duration": 212,
    "start_time": "2022-04-07T18:25:16.173Z"
   },
   {
    "duration": 9,
    "start_time": "2022-04-07T18:26:12.521Z"
   },
   {
    "duration": 12,
    "start_time": "2022-04-07T18:27:55.624Z"
   },
   {
    "duration": 8,
    "start_time": "2022-04-07T18:28:12.497Z"
   },
   {
    "duration": 11,
    "start_time": "2022-04-07T18:29:48.257Z"
   },
   {
    "duration": 3,
    "start_time": "2022-04-07T18:36:33.597Z"
   },
   {
    "duration": 2739,
    "start_time": "2022-04-07T18:37:06.830Z"
   },
   {
    "duration": 6,
    "start_time": "2022-04-07T18:37:40.572Z"
   },
   {
    "duration": 8,
    "start_time": "2022-04-07T18:38:16.128Z"
   },
   {
    "duration": 6,
    "start_time": "2022-04-07T18:39:50.153Z"
   },
   {
    "duration": 8,
    "start_time": "2022-04-07T18:40:01.723Z"
   },
   {
    "duration": 5,
    "start_time": "2022-04-07T18:40:09.962Z"
   },
   {
    "duration": 34,
    "start_time": "2022-04-07T18:42:07.478Z"
   },
   {
    "duration": 35,
    "start_time": "2022-04-07T18:43:01.775Z"
   },
   {
    "duration": 6,
    "start_time": "2022-04-07T18:45:50.099Z"
   },
   {
    "duration": 32,
    "start_time": "2022-04-07T18:51:30.343Z"
   },
   {
    "duration": 11,
    "start_time": "2022-04-07T18:51:54.986Z"
   },
   {
    "duration": 36,
    "start_time": "2022-04-07T18:52:17.636Z"
   },
   {
    "duration": 33,
    "start_time": "2022-04-07T18:52:36.266Z"
   },
   {
    "duration": 33,
    "start_time": "2022-04-07T18:53:04.249Z"
   },
   {
    "duration": 34,
    "start_time": "2022-04-07T18:53:13.738Z"
   },
   {
    "duration": 6,
    "start_time": "2022-04-07T18:57:44.271Z"
   },
   {
    "duration": 24,
    "start_time": "2022-04-07T18:59:24.872Z"
   },
   {
    "duration": 11,
    "start_time": "2022-04-07T18:59:55.586Z"
   },
   {
    "duration": 11,
    "start_time": "2022-04-07T19:00:06.180Z"
   },
   {
    "duration": 7,
    "start_time": "2022-04-07T19:01:48.577Z"
   },
   {
    "duration": 14,
    "start_time": "2022-04-07T19:02:42.645Z"
   },
   {
    "duration": 12,
    "start_time": "2022-04-07T19:04:20.175Z"
   },
   {
    "duration": 20,
    "start_time": "2022-04-07T19:05:37.467Z"
   },
   {
    "duration": 24,
    "start_time": "2022-04-07T19:06:15.975Z"
   },
   {
    "duration": 10,
    "start_time": "2022-04-07T19:08:33.684Z"
   },
   {
    "duration": 11,
    "start_time": "2022-04-07T19:09:31.170Z"
   },
   {
    "duration": 42,
    "start_time": "2022-04-07T19:18:47.115Z"
   },
   {
    "duration": 41,
    "start_time": "2022-04-07T19:20:50.380Z"
   },
   {
    "duration": 10,
    "start_time": "2022-04-07T19:24:12.576Z"
   },
   {
    "duration": 6,
    "start_time": "2022-04-07T19:24:30.829Z"
   },
   {
    "duration": 7,
    "start_time": "2022-04-07T19:26:23.766Z"
   },
   {
    "duration": 212,
    "start_time": "2022-04-07T19:27:07.360Z"
   },
   {
    "duration": 8,
    "start_time": "2022-04-07T19:28:35.131Z"
   },
   {
    "duration": 16,
    "start_time": "2022-04-07T19:31:11.289Z"
   },
   {
    "duration": 9,
    "start_time": "2022-04-07T19:33:49.035Z"
   },
   {
    "duration": 8,
    "start_time": "2022-04-07T19:40:17.320Z"
   },
   {
    "duration": 9,
    "start_time": "2022-04-07T19:40:44.831Z"
   },
   {
    "duration": 7,
    "start_time": "2022-04-07T19:40:52.912Z"
   },
   {
    "duration": 6,
    "start_time": "2022-04-07T19:41:39.943Z"
   },
   {
    "duration": 10,
    "start_time": "2022-04-07T19:42:42.521Z"
   },
   {
    "duration": 87,
    "start_time": "2022-04-07T19:43:04.281Z"
   },
   {
    "duration": 36,
    "start_time": "2022-04-07T19:43:04.371Z"
   },
   {
    "duration": 74,
    "start_time": "2022-04-07T19:43:04.411Z"
   },
   {
    "duration": 6,
    "start_time": "2022-04-07T19:43:04.489Z"
   },
   {
    "duration": 20,
    "start_time": "2022-04-07T19:43:04.498Z"
   },
   {
    "duration": 8,
    "start_time": "2022-04-07T19:43:04.544Z"
   },
   {
    "duration": 14,
    "start_time": "2022-04-07T19:43:04.554Z"
   },
   {
    "duration": 15,
    "start_time": "2022-04-07T19:43:04.570Z"
   },
   {
    "duration": 13,
    "start_time": "2022-04-07T19:43:04.587Z"
   },
   {
    "duration": 9,
    "start_time": "2022-04-07T19:43:04.643Z"
   },
   {
    "duration": 14,
    "start_time": "2022-04-07T19:43:04.654Z"
   },
   {
    "duration": 9,
    "start_time": "2022-04-07T19:43:04.671Z"
   },
   {
    "duration": 38,
    "start_time": "2022-04-07T19:43:04.682Z"
   },
   {
    "duration": 25,
    "start_time": "2022-04-07T19:43:04.722Z"
   },
   {
    "duration": 11,
    "start_time": "2022-04-07T19:43:04.749Z"
   },
   {
    "duration": 12,
    "start_time": "2022-04-07T19:43:04.762Z"
   },
   {
    "duration": 39,
    "start_time": "2022-04-07T19:43:04.776Z"
   },
   {
    "duration": 31,
    "start_time": "2022-04-07T19:43:04.817Z"
   },
   {
    "duration": 50,
    "start_time": "2022-04-07T19:43:04.851Z"
   },
   {
    "duration": 28,
    "start_time": "2022-04-07T19:43:04.904Z"
   },
   {
    "duration": 15,
    "start_time": "2022-04-07T19:43:04.943Z"
   },
   {
    "duration": 8,
    "start_time": "2022-04-07T19:43:04.960Z"
   },
   {
    "duration": 27,
    "start_time": "2022-04-07T19:43:04.971Z"
   },
   {
    "duration": 41,
    "start_time": "2022-04-07T19:43:05.004Z"
   },
   {
    "duration": 13,
    "start_time": "2022-04-07T19:43:05.048Z"
   },
   {
    "duration": 48,
    "start_time": "2022-04-07T19:43:05.064Z"
   },
   {
    "duration": 11,
    "start_time": "2022-04-07T19:43:05.114Z"
   },
   {
    "duration": 19,
    "start_time": "2022-04-07T19:43:05.129Z"
   },
   {
    "duration": 47,
    "start_time": "2022-04-07T19:43:09.235Z"
   },
   {
    "duration": 10,
    "start_time": "2022-04-07T19:43:32.501Z"
   },
   {
    "duration": 61,
    "start_time": "2022-04-07T19:43:40.511Z"
   },
   {
    "duration": 10,
    "start_time": "2022-04-07T19:47:02.493Z"
   },
   {
    "duration": 19,
    "start_time": "2022-04-07T19:47:16.728Z"
   },
   {
    "duration": 27,
    "start_time": "2022-04-07T19:47:49.200Z"
   },
   {
    "duration": 75,
    "start_time": "2022-04-07T19:48:44.662Z"
   },
   {
    "duration": 7,
    "start_time": "2022-04-08T07:03:59.403Z"
   },
   {
    "duration": 3,
    "start_time": "2022-04-08T07:04:13.478Z"
   },
   {
    "duration": 41,
    "start_time": "2022-04-08T07:04:26.247Z"
   },
   {
    "duration": 463,
    "start_time": "2022-04-08T07:04:33.463Z"
   },
   {
    "duration": 28,
    "start_time": "2022-04-08T07:04:33.928Z"
   },
   {
    "duration": 31,
    "start_time": "2022-04-08T07:04:33.957Z"
   },
   {
    "duration": 4,
    "start_time": "2022-04-08T07:04:33.989Z"
   },
   {
    "duration": 12,
    "start_time": "2022-04-08T07:04:33.994Z"
   },
   {
    "duration": 7,
    "start_time": "2022-04-08T07:04:34.008Z"
   },
   {
    "duration": 9,
    "start_time": "2022-04-08T07:04:34.017Z"
   },
   {
    "duration": 37,
    "start_time": "2022-04-08T07:04:34.027Z"
   },
   {
    "duration": 9,
    "start_time": "2022-04-08T07:04:34.066Z"
   },
   {
    "duration": 9,
    "start_time": "2022-04-08T07:04:34.076Z"
   },
   {
    "duration": 30,
    "start_time": "2022-04-08T07:04:34.086Z"
   },
   {
    "duration": 0,
    "start_time": "2022-04-08T07:04:34.118Z"
   },
   {
    "duration": 0,
    "start_time": "2022-04-08T07:04:34.119Z"
   },
   {
    "duration": 0,
    "start_time": "2022-04-08T07:04:34.120Z"
   },
   {
    "duration": 0,
    "start_time": "2022-04-08T07:04:34.121Z"
   },
   {
    "duration": 0,
    "start_time": "2022-04-08T07:04:34.122Z"
   },
   {
    "duration": 0,
    "start_time": "2022-04-08T07:04:34.123Z"
   },
   {
    "duration": 0,
    "start_time": "2022-04-08T07:04:34.124Z"
   },
   {
    "duration": 0,
    "start_time": "2022-04-08T07:04:34.124Z"
   },
   {
    "duration": 0,
    "start_time": "2022-04-08T07:04:34.125Z"
   },
   {
    "duration": 0,
    "start_time": "2022-04-08T07:04:34.126Z"
   },
   {
    "duration": 0,
    "start_time": "2022-04-08T07:04:34.127Z"
   },
   {
    "duration": 0,
    "start_time": "2022-04-08T07:04:34.163Z"
   },
   {
    "duration": 0,
    "start_time": "2022-04-08T07:04:34.164Z"
   },
   {
    "duration": 0,
    "start_time": "2022-04-08T07:04:34.165Z"
   },
   {
    "duration": 0,
    "start_time": "2022-04-08T07:04:34.166Z"
   },
   {
    "duration": 0,
    "start_time": "2022-04-08T07:04:34.167Z"
   },
   {
    "duration": 0,
    "start_time": "2022-04-08T07:04:34.168Z"
   },
   {
    "duration": 0,
    "start_time": "2022-04-08T07:04:34.169Z"
   },
   {
    "duration": 0,
    "start_time": "2022-04-08T07:04:34.170Z"
   },
   {
    "duration": 0,
    "start_time": "2022-04-08T07:04:34.171Z"
   },
   {
    "duration": 8,
    "start_time": "2022-04-08T07:04:36.859Z"
   },
   {
    "duration": 5,
    "start_time": "2022-04-08T07:04:43.698Z"
   },
   {
    "duration": 8,
    "start_time": "2022-04-08T07:04:56.608Z"
   },
   {
    "duration": 7,
    "start_time": "2022-04-08T07:05:05.698Z"
   },
   {
    "duration": 12,
    "start_time": "2022-04-08T07:05:15.963Z"
   },
   {
    "duration": 887,
    "start_time": "2022-04-08T07:06:39.162Z"
   },
   {
    "duration": 853,
    "start_time": "2022-04-08T07:07:02.368Z"
   },
   {
    "duration": 6,
    "start_time": "2022-04-08T07:07:41.097Z"
   },
   {
    "duration": 4,
    "start_time": "2022-04-08T07:09:25.806Z"
   },
   {
    "duration": 8,
    "start_time": "2022-04-08T07:09:32.766Z"
   },
   {
    "duration": 13,
    "start_time": "2022-04-08T07:10:18.934Z"
   },
   {
    "duration": 9,
    "start_time": "2022-04-08T07:11:09.085Z"
   },
   {
    "duration": 8,
    "start_time": "2022-04-08T07:11:16.436Z"
   },
   {
    "duration": 10,
    "start_time": "2022-04-08T07:11:25.156Z"
   },
   {
    "duration": 11,
    "start_time": "2022-04-08T07:11:53.167Z"
   },
   {
    "duration": 14,
    "start_time": "2022-04-08T07:13:04.606Z"
   },
   {
    "duration": 13,
    "start_time": "2022-04-08T07:13:20.867Z"
   },
   {
    "duration": 13,
    "start_time": "2022-04-08T07:13:29.467Z"
   },
   {
    "duration": 11,
    "start_time": "2022-04-08T07:13:35.466Z"
   },
   {
    "duration": 10,
    "start_time": "2022-04-08T07:13:52.787Z"
   },
   {
    "duration": 11,
    "start_time": "2022-04-08T07:14:00.186Z"
   },
   {
    "duration": 9,
    "start_time": "2022-04-08T07:14:22.738Z"
   },
   {
    "duration": 111,
    "start_time": "2022-04-08T07:14:44.267Z"
   },
   {
    "duration": 9,
    "start_time": "2022-04-08T07:14:58.018Z"
   },
   {
    "duration": 10,
    "start_time": "2022-04-08T07:15:06.898Z"
   },
   {
    "duration": 11,
    "start_time": "2022-04-08T07:15:35.225Z"
   },
   {
    "duration": 11,
    "start_time": "2022-04-08T07:15:40.300Z"
   },
   {
    "duration": 3,
    "start_time": "2022-04-08T07:25:02.176Z"
   },
   {
    "duration": 8,
    "start_time": "2022-04-08T07:26:34.628Z"
   },
   {
    "duration": 20,
    "start_time": "2022-04-08T07:26:48.496Z"
   },
   {
    "duration": 4,
    "start_time": "2022-04-08T07:27:09.925Z"
   },
   {
    "duration": 18,
    "start_time": "2022-04-08T07:27:14.876Z"
   },
   {
    "duration": 66,
    "start_time": "2022-04-08T07:27:35.185Z"
   },
   {
    "duration": 21,
    "start_time": "2022-04-08T07:27:35.253Z"
   },
   {
    "duration": 28,
    "start_time": "2022-04-08T07:27:35.276Z"
   },
   {
    "duration": 5,
    "start_time": "2022-04-08T07:27:35.305Z"
   },
   {
    "duration": 36,
    "start_time": "2022-04-08T07:27:35.312Z"
   },
   {
    "duration": 5,
    "start_time": "2022-04-08T07:27:35.350Z"
   },
   {
    "duration": 6,
    "start_time": "2022-04-08T07:27:35.362Z"
   },
   {
    "duration": 20,
    "start_time": "2022-04-08T07:27:35.371Z"
   },
   {
    "duration": 9,
    "start_time": "2022-04-08T07:27:35.393Z"
   },
   {
    "duration": 6,
    "start_time": "2022-04-08T07:27:35.403Z"
   },
   {
    "duration": 10,
    "start_time": "2022-04-08T07:27:35.411Z"
   },
   {
    "duration": 0,
    "start_time": "2022-04-08T07:27:35.423Z"
   },
   {
    "duration": 0,
    "start_time": "2022-04-08T07:27:35.424Z"
   },
   {
    "duration": 0,
    "start_time": "2022-04-08T07:27:35.426Z"
   },
   {
    "duration": 0,
    "start_time": "2022-04-08T07:27:35.426Z"
   },
   {
    "duration": 0,
    "start_time": "2022-04-08T07:27:35.463Z"
   },
   {
    "duration": 0,
    "start_time": "2022-04-08T07:27:35.464Z"
   },
   {
    "duration": 0,
    "start_time": "2022-04-08T07:27:35.465Z"
   },
   {
    "duration": 0,
    "start_time": "2022-04-08T07:27:35.467Z"
   },
   {
    "duration": 0,
    "start_time": "2022-04-08T07:27:35.468Z"
   },
   {
    "duration": 0,
    "start_time": "2022-04-08T07:27:35.468Z"
   },
   {
    "duration": 0,
    "start_time": "2022-04-08T07:27:35.470Z"
   },
   {
    "duration": 0,
    "start_time": "2022-04-08T07:27:35.471Z"
   },
   {
    "duration": 0,
    "start_time": "2022-04-08T07:27:35.472Z"
   },
   {
    "duration": 0,
    "start_time": "2022-04-08T07:27:35.473Z"
   },
   {
    "duration": 0,
    "start_time": "2022-04-08T07:27:35.473Z"
   },
   {
    "duration": 0,
    "start_time": "2022-04-08T07:27:35.474Z"
   },
   {
    "duration": 0,
    "start_time": "2022-04-08T07:27:35.475Z"
   },
   {
    "duration": 0,
    "start_time": "2022-04-08T07:27:35.476Z"
   },
   {
    "duration": 0,
    "start_time": "2022-04-08T07:27:35.478Z"
   },
   {
    "duration": 0,
    "start_time": "2022-04-08T07:27:35.478Z"
   },
   {
    "duration": 0,
    "start_time": "2022-04-08T07:27:35.479Z"
   },
   {
    "duration": 0,
    "start_time": "2022-04-08T07:27:35.481Z"
   },
   {
    "duration": 0,
    "start_time": "2022-04-08T07:27:35.482Z"
   },
   {
    "duration": 23,
    "start_time": "2022-04-08T07:27:38.326Z"
   },
   {
    "duration": 7,
    "start_time": "2022-04-08T07:28:10.145Z"
   },
   {
    "duration": 65,
    "start_time": "2022-04-08T07:28:25.125Z"
   },
   {
    "duration": 23,
    "start_time": "2022-04-08T07:28:25.193Z"
   },
   {
    "duration": 59,
    "start_time": "2022-04-08T07:28:25.218Z"
   },
   {
    "duration": 5,
    "start_time": "2022-04-08T07:28:25.280Z"
   },
   {
    "duration": 33,
    "start_time": "2022-04-08T07:28:25.286Z"
   },
   {
    "duration": 5,
    "start_time": "2022-04-08T07:28:25.321Z"
   },
   {
    "duration": 10,
    "start_time": "2022-04-08T07:28:25.328Z"
   },
   {
    "duration": 15,
    "start_time": "2022-04-08T07:28:25.339Z"
   },
   {
    "duration": 14,
    "start_time": "2022-04-08T07:28:25.355Z"
   },
   {
    "duration": 5,
    "start_time": "2022-04-08T07:28:25.372Z"
   },
   {
    "duration": 12,
    "start_time": "2022-04-08T07:28:25.379Z"
   },
   {
    "duration": 6,
    "start_time": "2022-04-08T07:28:25.392Z"
   },
   {
    "duration": 19,
    "start_time": "2022-04-08T07:28:25.399Z"
   },
   {
    "duration": 12,
    "start_time": "2022-04-08T07:28:25.420Z"
   },
   {
    "duration": 4,
    "start_time": "2022-04-08T07:28:25.434Z"
   },
   {
    "duration": 24,
    "start_time": "2022-04-08T07:28:25.439Z"
   },
   {
    "duration": 21,
    "start_time": "2022-04-08T07:28:25.464Z"
   },
   {
    "duration": 5,
    "start_time": "2022-04-08T07:28:25.487Z"
   },
   {
    "duration": 22,
    "start_time": "2022-04-08T07:28:25.493Z"
   },
   {
    "duration": 6,
    "start_time": "2022-04-08T07:28:25.516Z"
   },
   {
    "duration": 40,
    "start_time": "2022-04-08T07:28:25.524Z"
   },
   {
    "duration": 7,
    "start_time": "2022-04-08T07:28:25.566Z"
   },
   {
    "duration": 17,
    "start_time": "2022-04-08T07:28:25.575Z"
   },
   {
    "duration": 8,
    "start_time": "2022-04-08T07:28:25.594Z"
   },
   {
    "duration": 6,
    "start_time": "2022-04-08T07:28:25.604Z"
   },
   {
    "duration": 11,
    "start_time": "2022-04-08T07:28:25.612Z"
   },
   {
    "duration": 39,
    "start_time": "2022-04-08T07:28:25.625Z"
   },
   {
    "duration": 7,
    "start_time": "2022-04-08T07:28:25.668Z"
   },
   {
    "duration": 40,
    "start_time": "2022-04-08T07:28:25.677Z"
   },
   {
    "duration": 4,
    "start_time": "2022-04-08T07:28:25.719Z"
   },
   {
    "duration": 105,
    "start_time": "2022-04-08T07:28:25.725Z"
   },
   {
    "duration": 32,
    "start_time": "2022-04-08T07:28:25.832Z"
   },
   {
    "duration": 14,
    "start_time": "2022-04-08T07:28:25.866Z"
   },
   {
    "duration": 4,
    "start_time": "2022-04-08T07:28:25.882Z"
   },
   {
    "duration": 18,
    "start_time": "2022-04-08T07:28:51.546Z"
   },
   {
    "duration": 10,
    "start_time": "2022-04-08T07:29:57.505Z"
   },
   {
    "duration": 20,
    "start_time": "2022-04-08T07:30:06.355Z"
   },
   {
    "duration": 65,
    "start_time": "2022-04-08T07:30:11.065Z"
   },
   {
    "duration": 40,
    "start_time": "2022-04-08T07:30:11.132Z"
   },
   {
    "duration": 29,
    "start_time": "2022-04-08T07:30:11.174Z"
   },
   {
    "duration": 4,
    "start_time": "2022-04-08T07:30:11.205Z"
   },
   {
    "duration": 12,
    "start_time": "2022-04-08T07:30:11.211Z"
   },
   {
    "duration": 4,
    "start_time": "2022-04-08T07:30:11.225Z"
   },
   {
    "duration": 6,
    "start_time": "2022-04-08T07:30:11.262Z"
   },
   {
    "duration": 13,
    "start_time": "2022-04-08T07:30:11.269Z"
   },
   {
    "duration": 8,
    "start_time": "2022-04-08T07:30:11.283Z"
   },
   {
    "duration": 6,
    "start_time": "2022-04-08T07:30:11.293Z"
   },
   {
    "duration": 10,
    "start_time": "2022-04-08T07:30:11.301Z"
   },
   {
    "duration": 3,
    "start_time": "2022-04-08T07:30:11.312Z"
   },
   {
    "duration": 62,
    "start_time": "2022-04-08T07:30:11.317Z"
   },
   {
    "duration": 13,
    "start_time": "2022-04-08T07:30:11.381Z"
   },
   {
    "duration": 5,
    "start_time": "2022-04-08T07:30:11.395Z"
   },
   {
    "duration": 13,
    "start_time": "2022-04-08T07:30:11.402Z"
   },
   {
    "duration": 26,
    "start_time": "2022-04-08T07:30:11.416Z"
   },
   {
    "duration": 21,
    "start_time": "2022-04-08T07:30:11.443Z"
   },
   {
    "duration": 19,
    "start_time": "2022-04-08T07:30:11.465Z"
   },
   {
    "duration": 7,
    "start_time": "2022-04-08T07:30:11.486Z"
   },
   {
    "duration": 3,
    "start_time": "2022-04-08T07:30:11.494Z"
   },
   {
    "duration": 8,
    "start_time": "2022-04-08T07:30:11.498Z"
   },
   {
    "duration": 16,
    "start_time": "2022-04-08T07:30:11.507Z"
   },
   {
    "duration": 39,
    "start_time": "2022-04-08T07:30:11.525Z"
   },
   {
    "duration": 5,
    "start_time": "2022-04-08T07:30:11.565Z"
   },
   {
    "duration": 10,
    "start_time": "2022-04-08T07:30:11.572Z"
   },
   {
    "duration": 7,
    "start_time": "2022-04-08T07:30:11.583Z"
   },
   {
    "duration": 6,
    "start_time": "2022-04-08T07:30:11.593Z"
   },
   {
    "duration": 28,
    "start_time": "2022-04-08T07:30:11.601Z"
   },
   {
    "duration": 33,
    "start_time": "2022-04-08T07:30:11.631Z"
   },
   {
    "duration": 54,
    "start_time": "2022-04-08T07:30:11.666Z"
   },
   {
    "duration": 11,
    "start_time": "2022-04-08T07:30:11.721Z"
   },
   {
    "duration": 13,
    "start_time": "2022-04-08T07:30:11.733Z"
   },
   {
    "duration": 3,
    "start_time": "2022-04-08T07:30:11.763Z"
   },
   {
    "duration": 17,
    "start_time": "2022-04-08T07:30:13.276Z"
   },
   {
    "duration": 18,
    "start_time": "2022-04-08T07:30:34.016Z"
   },
   {
    "duration": 4,
    "start_time": "2022-04-08T07:36:36.098Z"
   },
   {
    "duration": 29,
    "start_time": "2022-04-08T07:37:10.945Z"
   },
   {
    "duration": 4,
    "start_time": "2022-04-08T07:39:14.512Z"
   },
   {
    "duration": 1711,
    "start_time": "2022-04-08T07:39:36.561Z"
   },
   {
    "duration": 1894,
    "start_time": "2022-04-08T07:40:02.822Z"
   },
   {
    "duration": 1700,
    "start_time": "2022-04-08T07:40:13.832Z"
   },
   {
    "duration": 72,
    "start_time": "2022-04-08T07:40:24.283Z"
   },
   {
    "duration": 25,
    "start_time": "2022-04-08T07:40:24.358Z"
   },
   {
    "duration": 30,
    "start_time": "2022-04-08T07:40:24.385Z"
   },
   {
    "duration": 6,
    "start_time": "2022-04-08T07:40:24.418Z"
   },
   {
    "duration": 41,
    "start_time": "2022-04-08T07:40:24.426Z"
   },
   {
    "duration": 5,
    "start_time": "2022-04-08T07:40:24.469Z"
   },
   {
    "duration": 7,
    "start_time": "2022-04-08T07:40:24.476Z"
   },
   {
    "duration": 16,
    "start_time": "2022-04-08T07:40:24.485Z"
   },
   {
    "duration": 11,
    "start_time": "2022-04-08T07:40:24.503Z"
   },
   {
    "duration": 8,
    "start_time": "2022-04-08T07:40:24.518Z"
   },
   {
    "duration": 8,
    "start_time": "2022-04-08T07:40:24.562Z"
   },
   {
    "duration": 4,
    "start_time": "2022-04-08T07:40:24.572Z"
   },
   {
    "duration": 24,
    "start_time": "2022-04-08T07:40:24.577Z"
   },
   {
    "duration": 13,
    "start_time": "2022-04-08T07:40:24.602Z"
   },
   {
    "duration": 12,
    "start_time": "2022-04-08T07:40:24.616Z"
   },
   {
    "duration": 8,
    "start_time": "2022-04-08T07:40:24.630Z"
   },
   {
    "duration": 39,
    "start_time": "2022-04-08T07:40:24.640Z"
   },
   {
    "duration": 5,
    "start_time": "2022-04-08T07:40:24.681Z"
   },
   {
    "duration": 20,
    "start_time": "2022-04-08T07:40:24.688Z"
   },
   {
    "duration": 8,
    "start_time": "2022-04-08T07:40:24.710Z"
   },
   {
    "duration": 4,
    "start_time": "2022-04-08T07:40:24.719Z"
   },
   {
    "duration": 39,
    "start_time": "2022-04-08T07:40:24.725Z"
   },
   {
    "duration": 14,
    "start_time": "2022-04-08T07:40:24.766Z"
   },
   {
    "duration": 8,
    "start_time": "2022-04-08T07:40:24.782Z"
   },
   {
    "duration": 7,
    "start_time": "2022-04-08T07:40:24.791Z"
   },
   {
    "duration": 9,
    "start_time": "2022-04-08T07:40:24.799Z"
   },
   {
    "duration": 9,
    "start_time": "2022-04-08T07:40:24.810Z"
   },
   {
    "duration": 7,
    "start_time": "2022-04-08T07:40:24.822Z"
   },
   {
    "duration": 59,
    "start_time": "2022-04-08T07:40:24.830Z"
   },
   {
    "duration": 4,
    "start_time": "2022-04-08T07:40:24.890Z"
   },
   {
    "duration": 70,
    "start_time": "2022-04-08T07:40:24.896Z"
   },
   {
    "duration": 11,
    "start_time": "2022-04-08T07:40:24.968Z"
   },
   {
    "duration": 12,
    "start_time": "2022-04-08T07:40:24.981Z"
   },
   {
    "duration": 5,
    "start_time": "2022-04-08T07:40:37.502Z"
   },
   {
    "duration": 10,
    "start_time": "2022-04-08T07:41:02.483Z"
   },
   {
    "duration": 3,
    "start_time": "2022-04-08T07:41:13.314Z"
   },
   {
    "duration": 18,
    "start_time": "2022-04-08T07:41:14.601Z"
   },
   {
    "duration": 3,
    "start_time": "2022-04-08T07:41:25.874Z"
   },
   {
    "duration": 3,
    "start_time": "2022-04-08T07:42:19.421Z"
   },
   {
    "duration": 15,
    "start_time": "2022-04-08T07:42:21.503Z"
   },
   {
    "duration": 4,
    "start_time": "2022-04-08T07:44:16.873Z"
   },
   {
    "duration": 16,
    "start_time": "2022-04-08T07:44:18.226Z"
   },
   {
    "duration": 4,
    "start_time": "2022-04-08T07:44:36.221Z"
   },
   {
    "duration": 15,
    "start_time": "2022-04-08T07:44:37.814Z"
   },
   {
    "duration": 4,
    "start_time": "2022-04-08T07:45:02.390Z"
   },
   {
    "duration": 481,
    "start_time": "2022-04-08T10:17:28.098Z"
   },
   {
    "duration": 28,
    "start_time": "2022-04-08T10:17:28.581Z"
   },
   {
    "duration": 29,
    "start_time": "2022-04-08T10:17:28.611Z"
   },
   {
    "duration": 4,
    "start_time": "2022-04-08T10:17:28.641Z"
   },
   {
    "duration": 21,
    "start_time": "2022-04-08T10:17:28.647Z"
   },
   {
    "duration": 16,
    "start_time": "2022-04-08T10:17:28.669Z"
   },
   {
    "duration": 10,
    "start_time": "2022-04-08T10:17:28.686Z"
   },
   {
    "duration": 20,
    "start_time": "2022-04-08T10:17:28.697Z"
   },
   {
    "duration": 13,
    "start_time": "2022-04-08T10:17:28.718Z"
   },
   {
    "duration": 22,
    "start_time": "2022-04-08T10:17:28.733Z"
   },
   {
    "duration": 32,
    "start_time": "2022-04-08T10:17:28.756Z"
   },
   {
    "duration": 13,
    "start_time": "2022-04-08T10:17:28.789Z"
   },
   {
    "duration": 33,
    "start_time": "2022-04-08T10:17:28.804Z"
   },
   {
    "duration": 11,
    "start_time": "2022-04-08T10:17:28.840Z"
   },
   {
    "duration": 11,
    "start_time": "2022-04-08T10:17:28.853Z"
   },
   {
    "duration": 23,
    "start_time": "2022-04-08T10:17:28.865Z"
   },
   {
    "duration": 24,
    "start_time": "2022-04-08T10:17:28.889Z"
   },
   {
    "duration": 5,
    "start_time": "2022-04-08T10:17:28.914Z"
   },
   {
    "duration": 32,
    "start_time": "2022-04-08T10:17:28.921Z"
   },
   {
    "duration": 7,
    "start_time": "2022-04-08T10:17:28.954Z"
   },
   {
    "duration": 18,
    "start_time": "2022-04-08T10:17:28.963Z"
   },
   {
    "duration": 18,
    "start_time": "2022-04-08T10:17:28.982Z"
   },
   {
    "duration": 28,
    "start_time": "2022-04-08T10:17:29.001Z"
   },
   {
    "duration": 22,
    "start_time": "2022-04-08T10:17:29.030Z"
   },
   {
    "duration": 6,
    "start_time": "2022-04-08T10:17:29.053Z"
   },
   {
    "duration": 12,
    "start_time": "2022-04-08T10:17:29.060Z"
   },
   {
    "duration": 7,
    "start_time": "2022-04-08T10:17:29.074Z"
   },
   {
    "duration": 9,
    "start_time": "2022-04-08T10:17:29.083Z"
   },
   {
    "duration": 30,
    "start_time": "2022-04-08T10:17:29.094Z"
   },
   {
    "duration": 5,
    "start_time": "2022-04-08T10:17:29.125Z"
   },
   {
    "duration": 55,
    "start_time": "2022-04-08T10:17:29.132Z"
   },
   {
    "duration": 20,
    "start_time": "2022-04-08T10:17:29.189Z"
   },
   {
    "duration": 12,
    "start_time": "2022-04-08T10:17:29.211Z"
   },
   {
    "duration": 5,
    "start_time": "2022-04-08T10:17:29.225Z"
   },
   {
    "duration": 10,
    "start_time": "2022-04-08T10:17:29.232Z"
   },
   {
    "duration": 6,
    "start_time": "2022-04-08T10:17:29.244Z"
   },
   {
    "duration": 61,
    "start_time": "2022-04-08T10:17:29.251Z"
   },
   {
    "duration": 3,
    "start_time": "2022-04-08T10:19:23.969Z"
   },
   {
    "duration": 14,
    "start_time": "2022-04-08T10:19:24.726Z"
   },
   {
    "duration": 3,
    "start_time": "2022-04-08T10:20:44.749Z"
   },
   {
    "duration": 18,
    "start_time": "2022-04-08T10:20:46.768Z"
   },
   {
    "duration": 3,
    "start_time": "2022-04-08T10:22:23.637Z"
   },
   {
    "duration": 17,
    "start_time": "2022-04-08T10:22:24.722Z"
   },
   {
    "duration": 68,
    "start_time": "2022-04-08T10:23:24.809Z"
   },
   {
    "duration": 7,
    "start_time": "2022-04-08T10:23:32.366Z"
   },
   {
    "duration": 13,
    "start_time": "2022-04-08T10:32:13.846Z"
   },
   {
    "duration": 6,
    "start_time": "2022-04-08T10:32:23.181Z"
   },
   {
    "duration": 8,
    "start_time": "2022-04-08T10:32:38.046Z"
   },
   {
    "duration": 6,
    "start_time": "2022-04-08T10:34:34.845Z"
   },
   {
    "duration": 6,
    "start_time": "2022-04-08T10:34:40.384Z"
   },
   {
    "duration": 6,
    "start_time": "2022-04-08T10:38:20.536Z"
   },
   {
    "duration": 7,
    "start_time": "2022-04-08T10:41:06.669Z"
   },
   {
    "duration": 15,
    "start_time": "2022-04-08T10:41:12.827Z"
   },
   {
    "duration": 20,
    "start_time": "2022-04-08T10:41:25.056Z"
   },
   {
    "duration": 653,
    "start_time": "2022-04-08T19:01:45.549Z"
   },
   {
    "duration": 44,
    "start_time": "2022-04-08T19:01:46.205Z"
   },
   {
    "duration": 66,
    "start_time": "2022-04-08T19:01:46.251Z"
   },
   {
    "duration": 5,
    "start_time": "2022-04-08T19:01:46.320Z"
   },
   {
    "duration": 19,
    "start_time": "2022-04-08T19:01:46.327Z"
   },
   {
    "duration": 7,
    "start_time": "2022-04-08T19:01:46.348Z"
   },
   {
    "duration": 7,
    "start_time": "2022-04-08T19:01:46.383Z"
   },
   {
    "duration": 15,
    "start_time": "2022-04-08T19:01:46.393Z"
   },
   {
    "duration": 13,
    "start_time": "2022-04-08T19:01:46.410Z"
   },
   {
    "duration": 10,
    "start_time": "2022-04-08T19:01:46.427Z"
   },
   {
    "duration": 49,
    "start_time": "2022-04-08T19:01:46.439Z"
   },
   {
    "duration": 6,
    "start_time": "2022-04-08T19:01:46.490Z"
   },
   {
    "duration": 33,
    "start_time": "2022-04-08T19:01:46.498Z"
   },
   {
    "duration": 51,
    "start_time": "2022-04-08T19:01:46.534Z"
   },
   {
    "duration": 7,
    "start_time": "2022-04-08T19:01:46.587Z"
   },
   {
    "duration": 13,
    "start_time": "2022-04-08T19:01:46.596Z"
   },
   {
    "duration": 37,
    "start_time": "2022-04-08T19:01:46.611Z"
   },
   {
    "duration": 7,
    "start_time": "2022-04-08T19:01:46.650Z"
   },
   {
    "duration": 54,
    "start_time": "2022-04-08T19:01:46.659Z"
   },
   {
    "duration": 11,
    "start_time": "2022-04-08T19:01:46.716Z"
   },
   {
    "duration": 5,
    "start_time": "2022-04-08T19:01:46.729Z"
   },
   {
    "duration": 9,
    "start_time": "2022-04-08T19:01:46.736Z"
   },
   {
    "duration": 21,
    "start_time": "2022-04-08T19:01:46.783Z"
   },
   {
    "duration": 10,
    "start_time": "2022-04-08T19:01:46.806Z"
   },
   {
    "duration": 8,
    "start_time": "2022-04-08T19:01:46.818Z"
   },
   {
    "duration": 12,
    "start_time": "2022-04-08T19:01:46.829Z"
   },
   {
    "duration": 8,
    "start_time": "2022-04-08T19:01:46.883Z"
   },
   {
    "duration": 8,
    "start_time": "2022-04-08T19:01:46.896Z"
   },
   {
    "duration": 42,
    "start_time": "2022-04-08T19:01:46.906Z"
   },
   {
    "duration": 37,
    "start_time": "2022-04-08T19:01:46.950Z"
   },
   {
    "duration": 94,
    "start_time": "2022-04-08T19:01:46.990Z"
   },
   {
    "duration": 18,
    "start_time": "2022-04-08T19:01:47.086Z"
   },
   {
    "duration": 17,
    "start_time": "2022-04-08T19:01:47.106Z"
   },
   {
    "duration": 6,
    "start_time": "2022-04-08T19:01:47.125Z"
   },
   {
    "duration": 58,
    "start_time": "2022-04-08T19:01:47.134Z"
   },
   {
    "duration": 6,
    "start_time": "2022-04-08T19:01:47.194Z"
   },
   {
    "duration": 28,
    "start_time": "2022-04-08T19:01:47.203Z"
   },
   {
    "duration": 5,
    "start_time": "2022-04-08T19:01:47.234Z"
   },
   {
    "duration": 62,
    "start_time": "2022-04-08T19:01:47.242Z"
   },
   {
    "duration": 11,
    "start_time": "2022-04-08T19:01:47.306Z"
   },
   {
    "duration": 109,
    "start_time": "2022-04-08T19:01:53.113Z"
   },
   {
    "duration": 24,
    "start_time": "2022-04-08T19:02:06.439Z"
   },
   {
    "duration": 24,
    "start_time": "2022-04-08T19:02:24.361Z"
   },
   {
    "duration": 24,
    "start_time": "2022-04-08T19:02:50.293Z"
   },
   {
    "duration": 24,
    "start_time": "2022-04-08T19:03:02.513Z"
   },
   {
    "duration": 28,
    "start_time": "2022-04-08T19:03:11.085Z"
   },
   {
    "duration": 30,
    "start_time": "2022-04-08T19:04:39.900Z"
   },
   {
    "duration": 29,
    "start_time": "2022-04-08T19:10:01.652Z"
   },
   {
    "duration": 24,
    "start_time": "2022-04-08T19:21:26.088Z"
   },
   {
    "duration": 34,
    "start_time": "2022-04-08T19:28:11.092Z"
   },
   {
    "duration": 36,
    "start_time": "2022-04-08T19:28:31.235Z"
   },
   {
    "duration": 44,
    "start_time": "2022-04-08T19:29:52.385Z"
   },
   {
    "duration": 20,
    "start_time": "2022-04-08T19:30:37.537Z"
   },
   {
    "duration": 21,
    "start_time": "2022-04-08T19:30:59.196Z"
   },
   {
    "duration": 26,
    "start_time": "2022-04-08T19:31:03.849Z"
   },
   {
    "duration": 20,
    "start_time": "2022-04-08T19:31:31.153Z"
   },
   {
    "duration": 33,
    "start_time": "2022-04-08T19:31:58.804Z"
   },
   {
    "duration": 20,
    "start_time": "2022-04-08T19:32:29.953Z"
   },
   {
    "duration": 34,
    "start_time": "2022-04-08T19:32:40.673Z"
   },
   {
    "duration": 45,
    "start_time": "2022-04-08T19:36:53.620Z"
   },
   {
    "duration": 29,
    "start_time": "2022-04-08T19:44:16.728Z"
   },
   {
    "duration": 27,
    "start_time": "2022-04-08T19:45:50.163Z"
   },
   {
    "duration": 10,
    "start_time": "2022-04-08T19:48:13.894Z"
   },
   {
    "duration": 10,
    "start_time": "2022-04-08T19:48:45.413Z"
   },
   {
    "duration": 27,
    "start_time": "2022-04-08T19:52:43.286Z"
   },
   {
    "duration": 29,
    "start_time": "2022-04-08T19:52:54.272Z"
   },
   {
    "duration": 18,
    "start_time": "2022-04-08T19:58:45.914Z"
   },
   {
    "duration": 29,
    "start_time": "2022-04-08T20:00:03.592Z"
   },
   {
    "duration": 756,
    "start_time": "2022-04-09T08:45:35.024Z"
   },
   {
    "duration": 71,
    "start_time": "2022-04-09T08:49:17.552Z"
   },
   {
    "duration": 41,
    "start_time": "2022-04-09T08:50:54.528Z"
   },
   {
    "duration": 6,
    "start_time": "2022-04-09T08:52:55.847Z"
   },
   {
    "duration": 13,
    "start_time": "2022-04-09T08:52:59.001Z"
   },
   {
    "duration": 7,
    "start_time": "2022-04-09T08:53:10.940Z"
   },
   {
    "duration": 8,
    "start_time": "2022-04-09T08:54:28.097Z"
   },
   {
    "duration": 20,
    "start_time": "2022-04-09T08:54:45.593Z"
   },
   {
    "duration": 13,
    "start_time": "2022-04-09T08:55:07.113Z"
   },
   {
    "duration": 12,
    "start_time": "2022-04-09T08:56:02.230Z"
   },
   {
    "duration": 9,
    "start_time": "2022-04-09T08:56:24.232Z"
   },
   {
    "duration": 184,
    "start_time": "2022-04-09T08:56:31.322Z"
   },
   {
    "duration": 9,
    "start_time": "2022-04-09T08:56:39.523Z"
   },
   {
    "duration": 5,
    "start_time": "2022-04-09T08:58:13.840Z"
   },
   {
    "duration": 40,
    "start_time": "2022-04-09T08:58:29.228Z"
   },
   {
    "duration": 619,
    "start_time": "2022-04-09T14:32:11.693Z"
   },
   {
    "duration": 53,
    "start_time": "2022-04-09T14:32:12.316Z"
   },
   {
    "duration": 53,
    "start_time": "2022-04-09T14:32:12.372Z"
   },
   {
    "duration": 6,
    "start_time": "2022-04-09T14:32:12.429Z"
   },
   {
    "duration": 55,
    "start_time": "2022-04-09T14:32:12.437Z"
   },
   {
    "duration": 16,
    "start_time": "2022-04-09T14:32:12.494Z"
   },
   {
    "duration": 9,
    "start_time": "2022-04-09T14:32:12.513Z"
   },
   {
    "duration": 54,
    "start_time": "2022-04-09T14:32:12.524Z"
   },
   {
    "duration": 15,
    "start_time": "2022-04-09T14:32:12.581Z"
   },
   {
    "duration": 14,
    "start_time": "2022-04-09T14:32:12.601Z"
   },
   {
    "duration": 8,
    "start_time": "2022-04-09T14:32:12.617Z"
   },
   {
    "duration": 42,
    "start_time": "2022-04-09T14:32:12.628Z"
   },
   {
    "duration": 55,
    "start_time": "2022-04-09T14:32:12.677Z"
   },
   {
    "duration": 23,
    "start_time": "2022-04-09T14:38:35.680Z"
   },
   {
    "duration": 33,
    "start_time": "2022-04-09T14:39:42.096Z"
   },
   {
    "duration": 167,
    "start_time": "2022-04-09T14:39:48.142Z"
   },
   {
    "duration": 51,
    "start_time": "2022-04-09T14:39:48.313Z"
   },
   {
    "duration": 60,
    "start_time": "2022-04-09T14:39:48.369Z"
   },
   {
    "duration": 6,
    "start_time": "2022-04-09T14:39:48.432Z"
   },
   {
    "duration": 43,
    "start_time": "2022-04-09T14:39:48.440Z"
   },
   {
    "duration": 27,
    "start_time": "2022-04-09T14:39:48.486Z"
   },
   {
    "duration": 7,
    "start_time": "2022-04-09T14:39:48.515Z"
   },
   {
    "duration": 19,
    "start_time": "2022-04-09T14:39:48.524Z"
   },
   {
    "duration": 48,
    "start_time": "2022-04-09T14:39:48.545Z"
   },
   {
    "duration": 11,
    "start_time": "2022-04-09T14:39:48.601Z"
   },
   {
    "duration": 8,
    "start_time": "2022-04-09T14:39:48.615Z"
   },
   {
    "duration": 4,
    "start_time": "2022-04-09T14:39:48.626Z"
   },
   {
    "duration": 74,
    "start_time": "2022-04-09T14:39:48.633Z"
   },
   {
    "duration": 27,
    "start_time": "2022-04-09T14:39:48.710Z"
   },
   {
    "duration": 35,
    "start_time": "2022-04-09T14:39:48.740Z"
   },
   {
    "duration": 15,
    "start_time": "2022-04-09T14:39:48.778Z"
   },
   {
    "duration": 64,
    "start_time": "2022-04-09T14:39:48.796Z"
   },
   {
    "duration": 12,
    "start_time": "2022-04-09T14:40:37.717Z"
   },
   {
    "duration": 6,
    "start_time": "2022-04-09T14:40:43.176Z"
   },
   {
    "duration": 102,
    "start_time": "2022-04-09T14:41:12.998Z"
   },
   {
    "duration": 38,
    "start_time": "2022-04-09T14:41:13.103Z"
   },
   {
    "duration": 85,
    "start_time": "2022-04-09T14:41:13.143Z"
   },
   {
    "duration": 6,
    "start_time": "2022-04-09T14:41:13.231Z"
   },
   {
    "duration": 52,
    "start_time": "2022-04-09T14:41:13.239Z"
   },
   {
    "duration": 19,
    "start_time": "2022-04-09T14:41:13.294Z"
   },
   {
    "duration": 6,
    "start_time": "2022-04-09T14:41:13.316Z"
   },
   {
    "duration": 15,
    "start_time": "2022-04-09T14:41:13.325Z"
   },
   {
    "duration": 20,
    "start_time": "2022-04-09T14:41:13.371Z"
   },
   {
    "duration": 11,
    "start_time": "2022-04-09T14:41:13.400Z"
   },
   {
    "duration": 9,
    "start_time": "2022-04-09T14:41:13.413Z"
   },
   {
    "duration": 4,
    "start_time": "2022-04-09T14:41:13.425Z"
   },
   {
    "duration": 72,
    "start_time": "2022-04-09T14:41:13.432Z"
   },
   {
    "duration": 18,
    "start_time": "2022-04-09T14:41:13.507Z"
   },
   {
    "duration": 7,
    "start_time": "2022-04-09T14:41:13.527Z"
   },
   {
    "duration": 5,
    "start_time": "2022-04-09T14:41:13.536Z"
   },
   {
    "duration": 44,
    "start_time": "2022-04-09T14:41:13.571Z"
   },
   {
    "duration": 8,
    "start_time": "2022-04-09T14:41:13.617Z"
   },
   {
    "duration": 66,
    "start_time": "2022-04-09T14:41:13.628Z"
   },
   {
    "duration": 12,
    "start_time": "2022-04-09T14:41:13.698Z"
   },
   {
    "duration": 10,
    "start_time": "2022-04-09T14:41:13.712Z"
   },
   {
    "duration": 10,
    "start_time": "2022-04-09T14:41:13.724Z"
   },
   {
    "duration": 65,
    "start_time": "2022-04-09T14:41:13.736Z"
   },
   {
    "duration": 10,
    "start_time": "2022-04-09T14:41:13.803Z"
   },
   {
    "duration": 59,
    "start_time": "2022-04-09T14:43:02.395Z"
   },
   {
    "duration": 146,
    "start_time": "2022-04-09T14:43:34.865Z"
   },
   {
    "duration": 58,
    "start_time": "2022-04-09T14:43:35.016Z"
   },
   {
    "duration": 50,
    "start_time": "2022-04-09T14:43:35.077Z"
   },
   {
    "duration": 40,
    "start_time": "2022-04-09T14:43:35.129Z"
   },
   {
    "duration": 36,
    "start_time": "2022-04-09T14:43:35.176Z"
   },
   {
    "duration": 9,
    "start_time": "2022-04-09T14:43:35.214Z"
   },
   {
    "duration": 9,
    "start_time": "2022-04-09T14:43:35.226Z"
   },
   {
    "duration": 40,
    "start_time": "2022-04-09T14:43:35.237Z"
   },
   {
    "duration": 23,
    "start_time": "2022-04-09T14:43:35.282Z"
   },
   {
    "duration": 9,
    "start_time": "2022-04-09T14:43:35.308Z"
   },
   {
    "duration": 9,
    "start_time": "2022-04-09T14:43:35.319Z"
   },
   {
    "duration": 5,
    "start_time": "2022-04-09T14:43:35.331Z"
   },
   {
    "duration": 75,
    "start_time": "2022-04-09T14:43:35.339Z"
   },
   {
    "duration": 19,
    "start_time": "2022-04-09T14:43:35.418Z"
   },
   {
    "duration": 5,
    "start_time": "2022-04-09T14:43:35.440Z"
   },
   {
    "duration": 15,
    "start_time": "2022-04-09T14:43:35.467Z"
   },
   {
    "duration": 48,
    "start_time": "2022-04-09T14:43:35.485Z"
   },
   {
    "duration": 9,
    "start_time": "2022-04-09T14:43:35.535Z"
   },
   {
    "duration": 55,
    "start_time": "2022-04-09T14:43:35.546Z"
   },
   {
    "duration": 21,
    "start_time": "2022-04-09T14:43:35.603Z"
   },
   {
    "duration": 5,
    "start_time": "2022-04-09T14:43:35.627Z"
   },
   {
    "duration": 9,
    "start_time": "2022-04-09T14:43:35.634Z"
   },
   {
    "duration": 47,
    "start_time": "2022-04-09T14:43:35.645Z"
   },
   {
    "duration": 12,
    "start_time": "2022-04-09T14:43:35.695Z"
   },
   {
    "duration": 9,
    "start_time": "2022-04-09T14:43:35.708Z"
   },
   {
    "duration": 13,
    "start_time": "2022-04-09T14:43:35.719Z"
   },
   {
    "duration": 47,
    "start_time": "2022-04-09T14:43:35.734Z"
   },
   {
    "duration": 28,
    "start_time": "2022-04-09T14:43:35.784Z"
   },
   {
    "duration": 41,
    "start_time": "2022-04-09T14:43:37.624Z"
   },
   {
    "duration": 5,
    "start_time": "2022-04-09T14:44:01.006Z"
   },
   {
    "duration": 28,
    "start_time": "2022-04-09T14:44:22.392Z"
   },
   {
    "duration": 56,
    "start_time": "2022-04-09T14:44:44.192Z"
   },
   {
    "duration": 68,
    "start_time": "2022-04-09T14:45:01.795Z"
   },
   {
    "duration": 99,
    "start_time": "2022-04-09T14:46:38.757Z"
   },
   {
    "duration": 54,
    "start_time": "2022-04-09T14:46:38.859Z"
   },
   {
    "duration": 81,
    "start_time": "2022-04-09T14:46:38.915Z"
   },
   {
    "duration": 6,
    "start_time": "2022-04-09T14:46:38.999Z"
   },
   {
    "duration": 20,
    "start_time": "2022-04-09T14:46:39.007Z"
   },
   {
    "duration": 7,
    "start_time": "2022-04-09T14:46:39.029Z"
   },
   {
    "duration": 28,
    "start_time": "2022-04-09T14:46:39.067Z"
   },
   {
    "duration": 17,
    "start_time": "2022-04-09T14:46:39.098Z"
   },
   {
    "duration": 11,
    "start_time": "2022-04-09T14:46:39.117Z"
   },
   {
    "duration": 8,
    "start_time": "2022-04-09T14:46:39.132Z"
   },
   {
    "duration": 27,
    "start_time": "2022-04-09T14:46:39.142Z"
   },
   {
    "duration": 17,
    "start_time": "2022-04-09T14:46:39.171Z"
   },
   {
    "duration": 44,
    "start_time": "2022-04-09T14:46:39.190Z"
   },
   {
    "duration": 17,
    "start_time": "2022-04-09T14:46:39.237Z"
   },
   {
    "duration": 18,
    "start_time": "2022-04-09T14:46:39.255Z"
   },
   {
    "duration": 26,
    "start_time": "2022-04-09T14:46:39.275Z"
   },
   {
    "duration": 30,
    "start_time": "2022-04-09T14:46:39.303Z"
   },
   {
    "duration": 8,
    "start_time": "2022-04-09T14:46:39.335Z"
   },
   {
    "duration": 61,
    "start_time": "2022-04-09T14:46:39.345Z"
   },
   {
    "duration": 11,
    "start_time": "2022-04-09T14:46:39.408Z"
   },
   {
    "duration": 4,
    "start_time": "2022-04-09T14:46:39.421Z"
   },
   {
    "duration": 10,
    "start_time": "2022-04-09T14:46:39.427Z"
   },
   {
    "duration": 60,
    "start_time": "2022-04-09T14:46:39.439Z"
   },
   {
    "duration": 8,
    "start_time": "2022-04-09T14:46:39.501Z"
   },
   {
    "duration": 8,
    "start_time": "2022-04-09T14:46:39.511Z"
   },
   {
    "duration": 51,
    "start_time": "2022-04-09T14:46:39.522Z"
   },
   {
    "duration": 11,
    "start_time": "2022-04-09T14:46:39.576Z"
   },
   {
    "duration": 16,
    "start_time": "2022-04-09T14:46:39.593Z"
   },
   {
    "duration": 61,
    "start_time": "2022-04-09T14:46:39.611Z"
   },
   {
    "duration": 5,
    "start_time": "2022-04-09T14:46:39.675Z"
   },
   {
    "duration": 42,
    "start_time": "2022-04-09T14:46:39.682Z"
   },
   {
    "duration": 67,
    "start_time": "2022-04-09T14:46:39.726Z"
   },
   {
    "duration": 15,
    "start_time": "2022-04-09T14:47:22.993Z"
   },
   {
    "duration": 15,
    "start_time": "2022-04-09T14:50:15.101Z"
   },
   {
    "duration": 18,
    "start_time": "2022-04-09T14:51:16.753Z"
   },
   {
    "duration": 20,
    "start_time": "2022-04-09T14:52:09.452Z"
   },
   {
    "duration": 5,
    "start_time": "2022-04-09T14:52:17.623Z"
   },
   {
    "duration": 14,
    "start_time": "2022-04-09T14:52:18.939Z"
   },
   {
    "duration": 5,
    "start_time": "2022-04-09T15:05:03.885Z"
   },
   {
    "duration": 32,
    "start_time": "2022-04-09T15:05:11.349Z"
   },
   {
    "duration": 9,
    "start_time": "2022-04-09T15:05:13.696Z"
   },
   {
    "duration": 5,
    "start_time": "2022-04-09T15:05:26.542Z"
   },
   {
    "duration": 38,
    "start_time": "2022-04-09T15:05:28.463Z"
   },
   {
    "duration": 11,
    "start_time": "2022-04-09T15:05:35.262Z"
   },
   {
    "duration": 31,
    "start_time": "2022-04-09T15:11:54.689Z"
   },
   {
    "duration": 25,
    "start_time": "2022-04-09T15:14:33.911Z"
   },
   {
    "duration": 87,
    "start_time": "2022-04-09T15:14:37.772Z"
   },
   {
    "duration": 36,
    "start_time": "2022-04-09T15:14:37.868Z"
   },
   {
    "duration": 78,
    "start_time": "2022-04-09T15:14:37.906Z"
   },
   {
    "duration": 6,
    "start_time": "2022-04-09T15:14:37.987Z"
   },
   {
    "duration": 20,
    "start_time": "2022-04-09T15:14:37.995Z"
   },
   {
    "duration": 7,
    "start_time": "2022-04-09T15:14:38.017Z"
   },
   {
    "duration": 6,
    "start_time": "2022-04-09T15:14:38.079Z"
   },
   {
    "duration": 15,
    "start_time": "2022-04-09T15:14:38.088Z"
   },
   {
    "duration": 13,
    "start_time": "2022-04-09T15:14:38.105Z"
   },
   {
    "duration": 48,
    "start_time": "2022-04-09T15:14:38.122Z"
   },
   {
    "duration": 10,
    "start_time": "2022-04-09T15:14:38.173Z"
   },
   {
    "duration": 8,
    "start_time": "2022-04-09T15:14:38.186Z"
   },
   {
    "duration": 72,
    "start_time": "2022-04-09T15:14:38.196Z"
   },
   {
    "duration": 20,
    "start_time": "2022-04-09T15:14:38.271Z"
   },
   {
    "duration": 8,
    "start_time": "2022-04-09T15:14:38.293Z"
   },
   {
    "duration": 8,
    "start_time": "2022-04-09T15:14:38.303Z"
   },
   {
    "duration": 71,
    "start_time": "2022-04-09T15:14:38.314Z"
   },
   {
    "duration": 9,
    "start_time": "2022-04-09T15:14:38.387Z"
   },
   {
    "duration": 35,
    "start_time": "2022-04-09T15:14:38.398Z"
   },
   {
    "duration": 40,
    "start_time": "2022-04-09T15:14:38.435Z"
   },
   {
    "duration": 6,
    "start_time": "2022-04-09T15:14:38.478Z"
   },
   {
    "duration": 11,
    "start_time": "2022-04-09T15:14:38.486Z"
   },
   {
    "duration": 67,
    "start_time": "2022-04-09T15:14:38.499Z"
   },
   {
    "duration": 10,
    "start_time": "2022-04-09T15:14:38.569Z"
   },
   {
    "duration": 10,
    "start_time": "2022-04-09T15:14:38.583Z"
   },
   {
    "duration": 18,
    "start_time": "2022-04-09T15:14:38.596Z"
   },
   {
    "duration": 51,
    "start_time": "2022-04-09T15:14:38.617Z"
   },
   {
    "duration": 11,
    "start_time": "2022-04-09T15:14:38.677Z"
   },
   {
    "duration": 144,
    "start_time": "2022-04-09T15:14:38.691Z"
   },
   {
    "duration": 6,
    "start_time": "2022-04-09T15:14:38.838Z"
   },
   {
    "duration": 42,
    "start_time": "2022-04-09T15:14:38.847Z"
   },
   {
    "duration": 77,
    "start_time": "2022-04-09T15:14:38.892Z"
   },
   {
    "duration": 18,
    "start_time": "2022-04-09T15:14:38.971Z"
   },
   {
    "duration": 17,
    "start_time": "2022-04-09T15:14:38.991Z"
   },
   {
    "duration": 7,
    "start_time": "2022-04-09T15:14:39.011Z"
   },
   {
    "duration": 71,
    "start_time": "2022-04-09T15:14:39.021Z"
   },
   {
    "duration": 6,
    "start_time": "2022-04-09T15:14:39.095Z"
   },
   {
    "duration": 35,
    "start_time": "2022-04-09T15:14:39.103Z"
   },
   {
    "duration": 26,
    "start_time": "2022-04-09T15:14:39.142Z"
   },
   {
    "duration": 6,
    "start_time": "2022-04-09T15:14:39.170Z"
   },
   {
    "duration": 36,
    "start_time": "2022-04-09T15:14:39.179Z"
   },
   {
    "duration": 14,
    "start_time": "2022-04-09T15:14:39.218Z"
   },
   {
    "duration": 66,
    "start_time": "2022-04-09T15:14:39.234Z"
   },
   {
    "duration": 25,
    "start_time": "2022-04-09T15:14:39.303Z"
   },
   {
    "duration": 47,
    "start_time": "2022-04-09T15:15:52.943Z"
   },
   {
    "duration": 42,
    "start_time": "2022-04-09T15:16:18.150Z"
   },
   {
    "duration": 41,
    "start_time": "2022-04-09T15:16:41.412Z"
   },
   {
    "duration": 45,
    "start_time": "2022-04-09T15:17:22.380Z"
   },
   {
    "duration": 139,
    "start_time": "2022-04-09T15:17:56.593Z"
   },
   {
    "duration": 28,
    "start_time": "2022-04-09T15:18:06.945Z"
   },
   {
    "duration": 41,
    "start_time": "2022-04-09T15:19:48.054Z"
   },
   {
    "duration": 43,
    "start_time": "2022-04-09T15:20:30.624Z"
   },
   {
    "duration": 90,
    "start_time": "2022-04-09T15:30:43.124Z"
   },
   {
    "duration": 58,
    "start_time": "2022-04-09T15:30:43.217Z"
   },
   {
    "duration": 45,
    "start_time": "2022-04-09T15:30:43.277Z"
   },
   {
    "duration": 42,
    "start_time": "2022-04-09T15:30:43.326Z"
   },
   {
    "duration": 22,
    "start_time": "2022-04-09T15:30:43.371Z"
   },
   {
    "duration": 8,
    "start_time": "2022-04-09T15:30:43.396Z"
   },
   {
    "duration": 9,
    "start_time": "2022-04-09T15:30:43.406Z"
   },
   {
    "duration": 62,
    "start_time": "2022-04-09T15:30:43.418Z"
   },
   {
    "duration": 12,
    "start_time": "2022-04-09T15:30:43.483Z"
   },
   {
    "duration": 9,
    "start_time": "2022-04-09T15:30:43.499Z"
   },
   {
    "duration": 56,
    "start_time": "2022-04-09T15:30:43.510Z"
   },
   {
    "duration": 5,
    "start_time": "2022-04-09T15:30:43.569Z"
   },
   {
    "duration": 36,
    "start_time": "2022-04-09T15:30:43.576Z"
   },
   {
    "duration": 64,
    "start_time": "2022-04-09T15:30:43.615Z"
   },
   {
    "duration": 7,
    "start_time": "2022-04-09T15:30:43.682Z"
   },
   {
    "duration": 8,
    "start_time": "2022-04-09T15:30:43.692Z"
   },
   {
    "duration": 67,
    "start_time": "2022-04-09T15:30:43.702Z"
   },
   {
    "duration": 10,
    "start_time": "2022-04-09T15:30:43.771Z"
   },
   {
    "duration": 34,
    "start_time": "2022-04-09T15:30:43.784Z"
   },
   {
    "duration": 49,
    "start_time": "2022-04-09T15:30:43.820Z"
   },
   {
    "duration": 8,
    "start_time": "2022-04-09T15:30:43.872Z"
   },
   {
    "duration": 13,
    "start_time": "2022-04-09T15:30:43.882Z"
   },
   {
    "duration": 34,
    "start_time": "2022-04-09T15:30:43.898Z"
   },
   {
    "duration": 10,
    "start_time": "2022-04-09T15:30:43.968Z"
   },
   {
    "duration": 8,
    "start_time": "2022-04-09T15:30:43.981Z"
   },
   {
    "duration": 18,
    "start_time": "2022-04-09T15:30:43.992Z"
   },
   {
    "duration": 13,
    "start_time": "2022-04-09T15:30:44.013Z"
   },
   {
    "duration": 12,
    "start_time": "2022-04-09T15:30:44.069Z"
   },
   {
    "duration": 84,
    "start_time": "2022-04-09T15:30:44.084Z"
   },
   {
    "duration": 12,
    "start_time": "2022-04-09T15:30:44.171Z"
   },
   {
    "duration": 45,
    "start_time": "2022-04-09T15:30:44.186Z"
   },
   {
    "duration": 99,
    "start_time": "2022-04-09T15:30:44.234Z"
   },
   {
    "duration": 43,
    "start_time": "2022-04-09T15:30:44.337Z"
   },
   {
    "duration": 22,
    "start_time": "2022-04-09T15:30:44.383Z"
   },
   {
    "duration": 6,
    "start_time": "2022-04-09T15:30:44.407Z"
   },
   {
    "duration": 51,
    "start_time": "2022-04-09T15:30:44.416Z"
   },
   {
    "duration": 8,
    "start_time": "2022-04-09T15:30:44.473Z"
   },
   {
    "duration": 54,
    "start_time": "2022-04-09T15:30:44.484Z"
   },
   {
    "duration": 13,
    "start_time": "2022-04-09T15:30:44.541Z"
   },
   {
    "duration": 10,
    "start_time": "2022-04-09T15:30:44.572Z"
   },
   {
    "duration": 30,
    "start_time": "2022-04-09T15:30:44.585Z"
   },
   {
    "duration": 10,
    "start_time": "2022-04-09T15:30:44.617Z"
   },
   {
    "duration": 65,
    "start_time": "2022-04-09T15:30:44.630Z"
   },
   {
    "duration": 18,
    "start_time": "2022-04-09T15:30:44.697Z"
   },
   {
    "duration": 62,
    "start_time": "2022-04-09T15:30:44.717Z"
   },
   {
    "duration": 39,
    "start_time": "2022-04-09T15:30:44.782Z"
   },
   {
    "duration": 72,
    "start_time": "2022-04-09T15:30:44.824Z"
   },
   {
    "duration": 487,
    "start_time": "2022-04-19T11:29:04.263Z"
   },
   {
    "duration": 26,
    "start_time": "2022-04-19T11:29:04.752Z"
   },
   {
    "duration": 39,
    "start_time": "2022-04-19T11:29:04.780Z"
   },
   {
    "duration": 3,
    "start_time": "2022-04-19T11:29:04.821Z"
   },
   {
    "duration": 12,
    "start_time": "2022-04-19T11:29:04.826Z"
   },
   {
    "duration": 5,
    "start_time": "2022-04-19T11:29:04.839Z"
   },
   {
    "duration": 6,
    "start_time": "2022-04-19T11:29:04.845Z"
   },
   {
    "duration": 9,
    "start_time": "2022-04-19T11:29:04.853Z"
   },
   {
    "duration": 8,
    "start_time": "2022-04-19T11:29:04.864Z"
   },
   {
    "duration": 7,
    "start_time": "2022-04-19T11:29:04.903Z"
   },
   {
    "duration": 6,
    "start_time": "2022-04-19T11:29:04.911Z"
   },
   {
    "duration": 4,
    "start_time": "2022-04-19T11:29:04.918Z"
   },
   {
    "duration": 20,
    "start_time": "2022-04-19T11:29:04.923Z"
   },
   {
    "duration": 11,
    "start_time": "2022-04-19T11:29:04.945Z"
   },
   {
    "duration": 9,
    "start_time": "2022-04-19T11:29:04.958Z"
   },
   {
    "duration": 32,
    "start_time": "2022-04-19T11:29:04.968Z"
   },
   {
    "duration": 20,
    "start_time": "2022-04-19T11:29:05.002Z"
   },
   {
    "duration": 5,
    "start_time": "2022-04-19T11:29:05.024Z"
   },
   {
    "duration": 19,
    "start_time": "2022-04-19T11:29:05.031Z"
   },
   {
    "duration": 6,
    "start_time": "2022-04-19T11:29:05.052Z"
   },
   {
    "duration": 8,
    "start_time": "2022-04-19T11:29:05.060Z"
   },
   {
    "duration": 12,
    "start_time": "2022-04-19T11:29:05.069Z"
   },
   {
    "duration": 13,
    "start_time": "2022-04-19T11:29:05.100Z"
   },
   {
    "duration": 6,
    "start_time": "2022-04-19T11:29:05.115Z"
   },
   {
    "duration": 4,
    "start_time": "2022-04-19T11:29:05.123Z"
   },
   {
    "duration": 8,
    "start_time": "2022-04-19T11:29:05.128Z"
   },
   {
    "duration": 10,
    "start_time": "2022-04-19T11:29:05.137Z"
   },
   {
    "duration": 12,
    "start_time": "2022-04-19T11:29:05.150Z"
   },
   {
    "duration": 45,
    "start_time": "2022-04-19T11:29:05.163Z"
   },
   {
    "duration": 4,
    "start_time": "2022-04-19T11:29:05.209Z"
   },
   {
    "duration": 19,
    "start_time": "2022-04-19T11:29:05.214Z"
   },
   {
    "duration": 32,
    "start_time": "2022-04-19T11:29:05.235Z"
   },
   {
    "duration": 33,
    "start_time": "2022-04-19T11:29:05.268Z"
   },
   {
    "duration": 9,
    "start_time": "2022-04-19T11:29:05.302Z"
   },
   {
    "duration": 4,
    "start_time": "2022-04-19T11:29:05.313Z"
   },
   {
    "duration": 9,
    "start_time": "2022-04-19T11:29:05.318Z"
   },
   {
    "duration": 4,
    "start_time": "2022-04-19T11:29:05.329Z"
   },
   {
    "duration": 20,
    "start_time": "2022-04-19T11:29:05.334Z"
   },
   {
    "duration": 6,
    "start_time": "2022-04-19T11:29:05.355Z"
   },
   {
    "duration": 4,
    "start_time": "2022-04-19T11:29:05.362Z"
   },
   {
    "duration": 42,
    "start_time": "2022-04-19T11:29:05.368Z"
   },
   {
    "duration": 6,
    "start_time": "2022-04-19T11:29:05.412Z"
   },
   {
    "duration": 20,
    "start_time": "2022-04-19T11:29:05.420Z"
   },
   {
    "duration": 10,
    "start_time": "2022-04-19T11:29:05.442Z"
   },
   {
    "duration": 48,
    "start_time": "2022-04-19T11:29:05.454Z"
   },
   {
    "duration": 18,
    "start_time": "2022-04-19T11:29:05.504Z"
   },
   {
    "duration": 18,
    "start_time": "2022-04-19T11:29:05.524Z"
   },
   {
    "duration": 415,
    "start_time": "2022-04-19T16:46:29.412Z"
   },
   {
    "duration": 93,
    "start_time": "2022-04-19T16:46:32.279Z"
   },
   {
    "duration": 10,
    "start_time": "2022-04-19T16:54:04.767Z"
   },
   {
    "duration": 8,
    "start_time": "2022-04-19T16:54:53.986Z"
   },
   {
    "duration": 10,
    "start_time": "2022-04-19T16:56:12.558Z"
   },
   {
    "duration": 5,
    "start_time": "2022-04-19T16:56:24.247Z"
   },
   {
    "duration": 3,
    "start_time": "2022-04-19T17:06:44.334Z"
   },
   {
    "duration": 79,
    "start_time": "2022-04-19T17:06:44.345Z"
   },
   {
    "duration": 22,
    "start_time": "2022-04-19T17:06:44.426Z"
   },
   {
    "duration": 27,
    "start_time": "2022-04-19T17:06:44.450Z"
   },
   {
    "duration": 6,
    "start_time": "2022-04-19T17:06:44.499Z"
   },
   {
    "duration": 11,
    "start_time": "2022-04-19T17:06:44.506Z"
   },
   {
    "duration": 4,
    "start_time": "2022-04-19T17:06:44.519Z"
   },
   {
    "duration": 11,
    "start_time": "2022-04-19T17:06:44.525Z"
   },
   {
    "duration": 11,
    "start_time": "2022-04-19T17:06:44.538Z"
   },
   {
    "duration": 8,
    "start_time": "2022-04-19T17:06:44.551Z"
   },
   {
    "duration": 41,
    "start_time": "2022-04-19T17:06:44.560Z"
   },
   {
    "duration": 5,
    "start_time": "2022-04-19T17:06:44.603Z"
   },
   {
    "duration": 4,
    "start_time": "2022-04-19T17:06:44.609Z"
   },
   {
    "duration": 23,
    "start_time": "2022-04-19T17:06:44.614Z"
   },
   {
    "duration": 12,
    "start_time": "2022-04-19T17:06:44.639Z"
   },
   {
    "duration": 4,
    "start_time": "2022-04-19T17:06:44.652Z"
   },
   {
    "duration": 11,
    "start_time": "2022-04-19T17:06:44.658Z"
   },
   {
    "duration": 45,
    "start_time": "2022-04-19T17:06:44.670Z"
   },
   {
    "duration": 4,
    "start_time": "2022-04-19T17:06:44.717Z"
   },
   {
    "duration": 20,
    "start_time": "2022-04-19T17:06:44.723Z"
   },
   {
    "duration": 2,
    "start_time": "2022-04-19T17:25:53.197Z"
   },
   {
    "duration": 86,
    "start_time": "2022-04-19T17:25:53.204Z"
   },
   {
    "duration": 22,
    "start_time": "2022-04-19T17:25:53.292Z"
   },
   {
    "duration": 25,
    "start_time": "2022-04-19T17:25:53.316Z"
   },
   {
    "duration": 4,
    "start_time": "2022-04-19T17:25:53.342Z"
   },
   {
    "duration": 9,
    "start_time": "2022-04-19T17:25:53.347Z"
   },
   {
    "duration": 5,
    "start_time": "2022-04-19T17:25:53.357Z"
   },
   {
    "duration": 6,
    "start_time": "2022-04-19T17:25:53.363Z"
   },
   {
    "duration": 34,
    "start_time": "2022-04-19T17:25:53.370Z"
   },
   {
    "duration": 9,
    "start_time": "2022-04-19T17:25:53.407Z"
   },
   {
    "duration": 6,
    "start_time": "2022-04-19T17:25:53.417Z"
   },
   {
    "duration": 6,
    "start_time": "2022-04-19T17:25:53.424Z"
   },
   {
    "duration": 4,
    "start_time": "2022-04-19T17:25:53.431Z"
   },
   {
    "duration": 18,
    "start_time": "2022-04-19T17:25:53.437Z"
   },
   {
    "duration": 55,
    "start_time": "2022-04-19T17:25:53.458Z"
   },
   {
    "duration": 4,
    "start_time": "2022-04-19T17:25:53.514Z"
   },
   {
    "duration": 5,
    "start_time": "2022-04-19T17:25:53.519Z"
   },
   {
    "duration": 19,
    "start_time": "2022-04-19T17:25:53.525Z"
   },
   {
    "duration": 4,
    "start_time": "2022-04-19T17:25:53.546Z"
   },
   {
    "duration": 48,
    "start_time": "2022-04-19T17:25:53.552Z"
   },
   {
    "duration": 4,
    "start_time": "2022-04-19T17:25:53.602Z"
   },
   {
    "duration": 20,
    "start_time": "2022-04-19T17:25:53.607Z"
   },
   {
    "duration": 6,
    "start_time": "2022-04-19T17:25:53.628Z"
   },
   {
    "duration": 8,
    "start_time": "2022-04-19T17:25:53.635Z"
   },
   {
    "duration": 10,
    "start_time": "2022-04-19T17:25:53.644Z"
   },
   {
    "duration": 6,
    "start_time": "2022-04-19T17:25:53.657Z"
   },
   {
    "duration": 36,
    "start_time": "2022-04-19T17:25:53.665Z"
   },
   {
    "duration": 29,
    "start_time": "2022-04-19T17:25:53.702Z"
   },
   {
    "duration": 3,
    "start_time": "2022-04-19T17:25:53.733Z"
   },
   {
    "duration": 24,
    "start_time": "2022-04-19T17:25:53.738Z"
   },
   {
    "duration": 58,
    "start_time": "2022-04-19T17:25:53.764Z"
   },
   {
    "duration": 11,
    "start_time": "2022-04-19T17:25:53.824Z"
   },
   {
    "duration": 10,
    "start_time": "2022-04-19T17:25:53.836Z"
   },
   {
    "duration": 4,
    "start_time": "2022-04-19T17:25:53.848Z"
   },
   {
    "duration": 14,
    "start_time": "2022-04-19T17:25:53.853Z"
   },
   {
    "duration": 4,
    "start_time": "2022-04-19T17:25:53.901Z"
   },
   {
    "duration": 20,
    "start_time": "2022-04-19T17:25:53.907Z"
   },
   {
    "duration": 6,
    "start_time": "2022-04-19T17:25:53.929Z"
   },
   {
    "duration": 5,
    "start_time": "2022-04-19T17:25:53.936Z"
   },
   {
    "duration": 20,
    "start_time": "2022-04-19T17:25:53.943Z"
   },
   {
    "duration": 7,
    "start_time": "2022-04-19T17:25:53.965Z"
   },
   {
    "duration": 19,
    "start_time": "2022-04-19T17:25:54.000Z"
   },
   {
    "duration": 10,
    "start_time": "2022-04-19T17:25:54.020Z"
   },
   {
    "duration": 20,
    "start_time": "2022-04-19T17:25:54.031Z"
   },
   {
    "duration": 16,
    "start_time": "2022-04-19T17:25:54.052Z"
   },
   {
    "duration": 42,
    "start_time": "2022-04-19T17:25:54.069Z"
   }
  ],
  "kernelspec": {
   "display_name": "Python 3",
   "language": "python",
   "name": "python3"
  },
  "language_info": {
   "codemirror_mode": {
    "name": "ipython",
    "version": 3
   },
   "file_extension": ".py",
   "mimetype": "text/x-python",
   "name": "python",
   "nbconvert_exporter": "python",
   "pygments_lexer": "ipython3",
   "version": "3.8.5"
  },
  "toc": {
   "base_numbering": 1,
   "nav_menu": {},
   "number_sections": true,
   "sideBar": true,
   "skip_h1_title": true,
   "title_cell": "Table of Contents",
   "title_sidebar": "Contents",
   "toc_cell": false,
   "toc_position": {},
   "toc_section_display": true,
   "toc_window_display": false
  }
 },
 "nbformat": 4,
 "nbformat_minor": 5
}
